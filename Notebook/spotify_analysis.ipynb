{
 "cells": [
  {
   "cell_type": "markdown",
   "metadata": {},
   "source": [
    "## **Overview**"
   ]
  },
  {
   "cell_type": "markdown",
   "metadata": {},
   "source": [
    "The objective of this project is to conduct a comprehensive analysis of the user's music preferences and tastes using data from Spotify's API and the user's streaming history. By leveraging Python programming language and various data analysis libraries, the project aims to provide insights into the user's listening habits, preferred artists, tracks, and other relevant metrics. The ultimate goal is to gain a deeper understanding of the user's musical preferences and behavior."
   ]
  },
  {
   "cell_type": "markdown",
   "metadata": {},
   "source": [
    "## **Objectives:**"
   ]
  },
  {
   "cell_type": "markdown",
   "metadata": {},
   "source": []
  },
  {
   "cell_type": "markdown",
   "metadata": {},
   "source": [
    "## **Import Package**"
   ]
  },
  {
   "cell_type": "code",
   "execution_count": 159,
   "metadata": {},
   "outputs": [],
   "source": [
    "# Importing all the required libraries and packages\n",
    "import pandas as pd\n",
    "import plotly.express as px\n",
    "import plotly.graph_objects as go\n",
    "# import plotly.io as pio\n",
    "import warnings"
   ]
  },
  {
   "cell_type": "code",
   "execution_count": 160,
   "metadata": {},
   "outputs": [],
   "source": [
    "warnings.filterwarnings(\"ignore\")\n",
    "# pio.renderers.default = \"svg\""
   ]
  },
  {
   "cell_type": "code",
   "execution_count": 161,
   "metadata": {},
   "outputs": [],
   "source": [
    "pd.set_option('display.max_rows', 500)\n",
    "pd.set_option('display.max_columns', 500)\n",
    "pd.set_option('display.width', 1000)"
   ]
  },
  {
   "cell_type": "markdown",
   "metadata": {},
   "source": [
    "## **Data Overview**"
   ]
  },
  {
   "cell_type": "markdown",
   "metadata": {},
   "source": [
    "### **Read Data**"
   ]
  },
  {
   "cell_type": "code",
   "execution_count": 162,
   "metadata": {},
   "outputs": [],
   "source": [
    "spotify_data = pd.read_csv(r'D:\\Project\\Repository\\spotify-analysis\\Data\\all_spotify_data.csv', low_memory=False)"
   ]
  },
  {
   "cell_type": "code",
   "execution_count": 163,
   "metadata": {},
   "outputs": [
    {
     "data": {
      "text/html": [
       "<div>\n",
       "<style scoped>\n",
       "    .dataframe tbody tr th:only-of-type {\n",
       "        vertical-align: middle;\n",
       "    }\n",
       "\n",
       "    .dataframe tbody tr th {\n",
       "        vertical-align: top;\n",
       "    }\n",
       "\n",
       "    .dataframe thead th {\n",
       "        text-align: right;\n",
       "    }\n",
       "</style>\n",
       "<table border=\"1\" class=\"dataframe\">\n",
       "  <thead>\n",
       "    <tr style=\"text-align: right;\">\n",
       "      <th></th>\n",
       "      <th>ts</th>\n",
       "      <th>platform</th>\n",
       "      <th>ms_played</th>\n",
       "      <th>master_metadata_track_name</th>\n",
       "      <th>master_metadata_album_artist_name</th>\n",
       "      <th>master_metadata_album_album_name</th>\n",
       "      <th>episode_name</th>\n",
       "      <th>episode_show_name</th>\n",
       "      <th>spotify_episode_uri</th>\n",
       "      <th>reason_start</th>\n",
       "      <th>reason_end</th>\n",
       "      <th>shuffle</th>\n",
       "      <th>skipped</th>\n",
       "      <th>offline</th>\n",
       "      <th>offline_timestamp</th>\n",
       "      <th>incognito_mode</th>\n",
       "      <th>track_uri</th>\n",
       "      <th>track_id</th>\n",
       "      <th>track_name</th>\n",
       "      <th>release_date</th>\n",
       "      <th>length</th>\n",
       "      <th>track_popularity</th>\n",
       "      <th>album_id</th>\n",
       "      <th>album_name</th>\n",
       "      <th>artist_name</th>\n",
       "      <th>acousticness</th>\n",
       "      <th>danceability</th>\n",
       "      <th>energy</th>\n",
       "      <th>instrumentalness</th>\n",
       "      <th>liveness</th>\n",
       "      <th>speechiness</th>\n",
       "      <th>loudness</th>\n",
       "      <th>mode</th>\n",
       "      <th>tempo</th>\n",
       "      <th>time_signature</th>\n",
       "    </tr>\n",
       "  </thead>\n",
       "  <tbody>\n",
       "    <tr>\n",
       "      <th>0</th>\n",
       "      <td>2019-02-08T22:51:39Z</td>\n",
       "      <td>Android</td>\n",
       "      <td>31267</td>\n",
       "      <td>NaN</td>\n",
       "      <td>NaN</td>\n",
       "      <td>NaN</td>\n",
       "      <td>8 - \"Taste\" by Rebecca Woodmass</td>\n",
       "      <td>A Little Poem with Rebecca Woodmass</td>\n",
       "      <td>spotify:episode:0lY0dPwAfZoPgSepp1eCrp</td>\n",
       "      <td>clickrow</td>\n",
       "      <td>endplay</td>\n",
       "      <td>False</td>\n",
       "      <td>NaN</td>\n",
       "      <td>False</td>\n",
       "      <td>1549666235287</td>\n",
       "      <td>False</td>\n",
       "      <td>NaN</td>\n",
       "      <td>NaN</td>\n",
       "      <td>NaN</td>\n",
       "      <td>NaN</td>\n",
       "      <td>NaN</td>\n",
       "      <td>NaN</td>\n",
       "      <td>NaN</td>\n",
       "      <td>NaN</td>\n",
       "      <td>NaN</td>\n",
       "      <td>NaN</td>\n",
       "      <td>NaN</td>\n",
       "      <td>NaN</td>\n",
       "      <td>NaN</td>\n",
       "      <td>NaN</td>\n",
       "      <td>NaN</td>\n",
       "      <td>NaN</td>\n",
       "      <td>NaN</td>\n",
       "      <td>NaN</td>\n",
       "      <td>NaN</td>\n",
       "    </tr>\n",
       "    <tr>\n",
       "      <th>1</th>\n",
       "      <td>2019-02-09T03:50:12Z</td>\n",
       "      <td>Android</td>\n",
       "      <td>5463</td>\n",
       "      <td>NaN</td>\n",
       "      <td>NaN</td>\n",
       "      <td>NaN</td>\n",
       "      <td>What your breath could reveal about your healt...</td>\n",
       "      <td>TED Talks Daily</td>\n",
       "      <td>spotify:episode:6v0Fw2ov3RclzEFoG68roa</td>\n",
       "      <td>clickrow</td>\n",
       "      <td>unexpected-exit-while-paused</td>\n",
       "      <td>False</td>\n",
       "      <td>NaN</td>\n",
       "      <td>False</td>\n",
       "      <td>1549666299325</td>\n",
       "      <td>False</td>\n",
       "      <td>NaN</td>\n",
       "      <td>NaN</td>\n",
       "      <td>NaN</td>\n",
       "      <td>NaN</td>\n",
       "      <td>NaN</td>\n",
       "      <td>NaN</td>\n",
       "      <td>NaN</td>\n",
       "      <td>NaN</td>\n",
       "      <td>NaN</td>\n",
       "      <td>NaN</td>\n",
       "      <td>NaN</td>\n",
       "      <td>NaN</td>\n",
       "      <td>NaN</td>\n",
       "      <td>NaN</td>\n",
       "      <td>NaN</td>\n",
       "      <td>NaN</td>\n",
       "      <td>NaN</td>\n",
       "      <td>NaN</td>\n",
       "      <td>NaN</td>\n",
       "    </tr>\n",
       "    <tr>\n",
       "      <th>2</th>\n",
       "      <td>2019-02-09T03:50:33Z</td>\n",
       "      <td>Android</td>\n",
       "      <td>5463</td>\n",
       "      <td>NaN</td>\n",
       "      <td>NaN</td>\n",
       "      <td>NaN</td>\n",
       "      <td>What your breath could reveal about your healt...</td>\n",
       "      <td>TED Talks Daily</td>\n",
       "      <td>spotify:episode:6v0Fw2ov3RclzEFoG68roa</td>\n",
       "      <td>clickrow</td>\n",
       "      <td>unexpected-exit-while-paused</td>\n",
       "      <td>False</td>\n",
       "      <td>NaN</td>\n",
       "      <td>False</td>\n",
       "      <td>1549666299325</td>\n",
       "      <td>False</td>\n",
       "      <td>NaN</td>\n",
       "      <td>NaN</td>\n",
       "      <td>NaN</td>\n",
       "      <td>NaN</td>\n",
       "      <td>NaN</td>\n",
       "      <td>NaN</td>\n",
       "      <td>NaN</td>\n",
       "      <td>NaN</td>\n",
       "      <td>NaN</td>\n",
       "      <td>NaN</td>\n",
       "      <td>NaN</td>\n",
       "      <td>NaN</td>\n",
       "      <td>NaN</td>\n",
       "      <td>NaN</td>\n",
       "      <td>NaN</td>\n",
       "      <td>NaN</td>\n",
       "      <td>NaN</td>\n",
       "      <td>NaN</td>\n",
       "      <td>NaN</td>\n",
       "    </tr>\n",
       "    <tr>\n",
       "      <th>3</th>\n",
       "      <td>2019-02-09T03:50:51Z</td>\n",
       "      <td>Android</td>\n",
       "      <td>5463</td>\n",
       "      <td>NaN</td>\n",
       "      <td>NaN</td>\n",
       "      <td>NaN</td>\n",
       "      <td>What your breath could reveal about your healt...</td>\n",
       "      <td>TED Talks Daily</td>\n",
       "      <td>spotify:episode:6v0Fw2ov3RclzEFoG68roa</td>\n",
       "      <td>clickrow</td>\n",
       "      <td>unexpected-exit-while-paused</td>\n",
       "      <td>False</td>\n",
       "      <td>NaN</td>\n",
       "      <td>False</td>\n",
       "      <td>1549666299325</td>\n",
       "      <td>False</td>\n",
       "      <td>NaN</td>\n",
       "      <td>NaN</td>\n",
       "      <td>NaN</td>\n",
       "      <td>NaN</td>\n",
       "      <td>NaN</td>\n",
       "      <td>NaN</td>\n",
       "      <td>NaN</td>\n",
       "      <td>NaN</td>\n",
       "      <td>NaN</td>\n",
       "      <td>NaN</td>\n",
       "      <td>NaN</td>\n",
       "      <td>NaN</td>\n",
       "      <td>NaN</td>\n",
       "      <td>NaN</td>\n",
       "      <td>NaN</td>\n",
       "      <td>NaN</td>\n",
       "      <td>NaN</td>\n",
       "      <td>NaN</td>\n",
       "      <td>NaN</td>\n",
       "    </tr>\n",
       "    <tr>\n",
       "      <th>4</th>\n",
       "      <td>2019-02-09T11:05:55Z</td>\n",
       "      <td>Android</td>\n",
       "      <td>77742</td>\n",
       "      <td>NaN</td>\n",
       "      <td>NaN</td>\n",
       "      <td>NaN</td>\n",
       "      <td>What your breath could reveal about your healt...</td>\n",
       "      <td>TED Talks Daily</td>\n",
       "      <td>spotify:episode:6v0Fw2ov3RclzEFoG68roa</td>\n",
       "      <td>appload</td>\n",
       "      <td>logout</td>\n",
       "      <td>False</td>\n",
       "      <td>NaN</td>\n",
       "      <td>False</td>\n",
       "      <td>1549710054124</td>\n",
       "      <td>False</td>\n",
       "      <td>NaN</td>\n",
       "      <td>NaN</td>\n",
       "      <td>NaN</td>\n",
       "      <td>NaN</td>\n",
       "      <td>NaN</td>\n",
       "      <td>NaN</td>\n",
       "      <td>NaN</td>\n",
       "      <td>NaN</td>\n",
       "      <td>NaN</td>\n",
       "      <td>NaN</td>\n",
       "      <td>NaN</td>\n",
       "      <td>NaN</td>\n",
       "      <td>NaN</td>\n",
       "      <td>NaN</td>\n",
       "      <td>NaN</td>\n",
       "      <td>NaN</td>\n",
       "      <td>NaN</td>\n",
       "      <td>NaN</td>\n",
       "      <td>NaN</td>\n",
       "    </tr>\n",
       "  </tbody>\n",
       "</table>\n",
       "</div>"
      ],
      "text/plain": [
       "                     ts platform  ms_played master_metadata_track_name master_metadata_album_artist_name master_metadata_album_album_name                                       episode_name                    episode_show_name                     spotify_episode_uri reason_start                    reason_end  shuffle skipped  offline  offline_timestamp  incognito_mode track_uri track_id track_name release_date  length  track_popularity album_id album_name artist_name  acousticness  danceability  energy  instrumentalness  liveness  speechiness  loudness  mode  tempo  time_signature\n",
       "0  2019-02-08T22:51:39Z  Android      31267                        NaN                               NaN                              NaN                    8 - \"Taste\" by Rebecca Woodmass  A Little Poem with Rebecca Woodmass  spotify:episode:0lY0dPwAfZoPgSepp1eCrp     clickrow                       endplay    False     NaN    False      1549666235287           False       NaN      NaN        NaN          NaN     NaN               NaN      NaN        NaN         NaN           NaN           NaN     NaN               NaN       NaN          NaN       NaN   NaN    NaN             NaN\n",
       "1  2019-02-09T03:50:12Z  Android       5463                        NaN                               NaN                              NaN  What your breath could reveal about your healt...                      TED Talks Daily  spotify:episode:6v0Fw2ov3RclzEFoG68roa     clickrow  unexpected-exit-while-paused    False     NaN    False      1549666299325           False       NaN      NaN        NaN          NaN     NaN               NaN      NaN        NaN         NaN           NaN           NaN     NaN               NaN       NaN          NaN       NaN   NaN    NaN             NaN\n",
       "2  2019-02-09T03:50:33Z  Android       5463                        NaN                               NaN                              NaN  What your breath could reveal about your healt...                      TED Talks Daily  spotify:episode:6v0Fw2ov3RclzEFoG68roa     clickrow  unexpected-exit-while-paused    False     NaN    False      1549666299325           False       NaN      NaN        NaN          NaN     NaN               NaN      NaN        NaN         NaN           NaN           NaN     NaN               NaN       NaN          NaN       NaN   NaN    NaN             NaN\n",
       "3  2019-02-09T03:50:51Z  Android       5463                        NaN                               NaN                              NaN  What your breath could reveal about your healt...                      TED Talks Daily  spotify:episode:6v0Fw2ov3RclzEFoG68roa     clickrow  unexpected-exit-while-paused    False     NaN    False      1549666299325           False       NaN      NaN        NaN          NaN     NaN               NaN      NaN        NaN         NaN           NaN           NaN     NaN               NaN       NaN          NaN       NaN   NaN    NaN             NaN\n",
       "4  2019-02-09T11:05:55Z  Android      77742                        NaN                               NaN                              NaN  What your breath could reveal about your healt...                      TED Talks Daily  spotify:episode:6v0Fw2ov3RclzEFoG68roa      appload                        logout    False     NaN    False      1549710054124           False       NaN      NaN        NaN          NaN     NaN               NaN      NaN        NaN         NaN           NaN           NaN     NaN               NaN       NaN          NaN       NaN   NaN    NaN             NaN"
      ]
     },
     "execution_count": 163,
     "metadata": {},
     "output_type": "execute_result"
    }
   ],
   "source": [
    "spotify_data.head()"
   ]
  },
  {
   "cell_type": "markdown",
   "metadata": {},
   "source": [
    "### **Detailed Data Information**"
   ]
  },
  {
   "cell_type": "code",
   "execution_count": 164,
   "metadata": {},
   "outputs": [
    {
     "name": "stdout",
     "output_type": "stream",
     "text": [
      "<class 'pandas.core.frame.DataFrame'>\n",
      "RangeIndex: 129291 entries, 0 to 129290\n",
      "Data columns (total 35 columns):\n",
      " #   Column                             Non-Null Count   Dtype  \n",
      "---  ------                             --------------   -----  \n",
      " 0   ts                                 129291 non-null  object \n",
      " 1   platform                           129291 non-null  object \n",
      " 2   ms_played                          129291 non-null  int64  \n",
      " 3   master_metadata_track_name         126946 non-null  object \n",
      " 4   master_metadata_album_artist_name  126946 non-null  object \n",
      " 5   master_metadata_album_album_name   126946 non-null  object \n",
      " 6   episode_name                       2268 non-null    object \n",
      " 7   episode_show_name                  2265 non-null    object \n",
      " 8   spotify_episode_uri                2268 non-null    object \n",
      " 9   reason_start                       129291 non-null  object \n",
      " 10  reason_end                         129291 non-null  object \n",
      " 11  shuffle                            129291 non-null  bool   \n",
      " 12  skipped                            71953 non-null   object \n",
      " 13  offline                            129291 non-null  bool   \n",
      " 14  offline_timestamp                  129291 non-null  int64  \n",
      " 15  incognito_mode                     129291 non-null  bool   \n",
      " 16  track_uri                          126946 non-null  object \n",
      " 17  track_id                           19472 non-null   object \n",
      " 18  track_name                         19472 non-null   object \n",
      " 19  release_date                       19472 non-null   object \n",
      " 20  length                             19472 non-null   float64\n",
      " 21  track_popularity                   19472 non-null   float64\n",
      " 22  album_id                           19472 non-null   object \n",
      " 23  album_name                         19472 non-null   object \n",
      " 24  artist_name                        19472 non-null   object \n",
      " 25  acousticness                       19472 non-null   float64\n",
      " 26  danceability                       19472 non-null   float64\n",
      " 27  energy                             19472 non-null   float64\n",
      " 28  instrumentalness                   19472 non-null   float64\n",
      " 29  liveness                           19472 non-null   float64\n",
      " 30  speechiness                        19472 non-null   float64\n",
      " 31  loudness                           19472 non-null   float64\n",
      " 32  mode                               19472 non-null   float64\n",
      " 33  tempo                              19472 non-null   float64\n",
      " 34  time_signature                     19472 non-null   float64\n",
      "dtypes: bool(3), float64(12), int64(2), object(18)\n",
      "memory usage: 31.9+ MB\n"
     ]
    }
   ],
   "source": [
    "spotify_data.info()"
   ]
  },
  {
   "cell_type": "code",
   "execution_count": 165,
   "metadata": {},
   "outputs": [
    {
     "data": {
      "text/html": [
       "<div>\n",
       "<style scoped>\n",
       "    .dataframe tbody tr th:only-of-type {\n",
       "        vertical-align: middle;\n",
       "    }\n",
       "\n",
       "    .dataframe tbody tr th {\n",
       "        vertical-align: top;\n",
       "    }\n",
       "\n",
       "    .dataframe thead th {\n",
       "        text-align: right;\n",
       "    }\n",
       "</style>\n",
       "<table border=\"1\" class=\"dataframe\">\n",
       "  <thead>\n",
       "    <tr style=\"text-align: right;\">\n",
       "      <th></th>\n",
       "      <th>ms_played</th>\n",
       "      <th>offline_timestamp</th>\n",
       "      <th>length</th>\n",
       "      <th>track_popularity</th>\n",
       "      <th>acousticness</th>\n",
       "      <th>danceability</th>\n",
       "      <th>energy</th>\n",
       "      <th>instrumentalness</th>\n",
       "      <th>liveness</th>\n",
       "      <th>speechiness</th>\n",
       "      <th>loudness</th>\n",
       "      <th>mode</th>\n",
       "      <th>tempo</th>\n",
       "      <th>time_signature</th>\n",
       "    </tr>\n",
       "  </thead>\n",
       "  <tbody>\n",
       "    <tr>\n",
       "      <th>count</th>\n",
       "      <td>1.292910e+05</td>\n",
       "      <td>1.292910e+05</td>\n",
       "      <td>19472.000000</td>\n",
       "      <td>19472.000000</td>\n",
       "      <td>19472.000000</td>\n",
       "      <td>19472.000000</td>\n",
       "      <td>19472.000000</td>\n",
       "      <td>19472.000000</td>\n",
       "      <td>19472.000000</td>\n",
       "      <td>19472.000000</td>\n",
       "      <td>19472.000000</td>\n",
       "      <td>19472.000000</td>\n",
       "      <td>19472.000000</td>\n",
       "      <td>19472.000000</td>\n",
       "    </tr>\n",
       "    <tr>\n",
       "      <th>mean</th>\n",
       "      <td>1.706095e+05</td>\n",
       "      <td>6.602668e+11</td>\n",
       "      <td>225346.360055</td>\n",
       "      <td>67.454704</td>\n",
       "      <td>0.493939</td>\n",
       "      <td>0.546504</td>\n",
       "      <td>0.488246</td>\n",
       "      <td>0.069886</td>\n",
       "      <td>0.157588</td>\n",
       "      <td>0.050309</td>\n",
       "      <td>-8.672958</td>\n",
       "      <td>0.865396</td>\n",
       "      <td>118.507806</td>\n",
       "      <td>3.916290</td>\n",
       "    </tr>\n",
       "    <tr>\n",
       "      <th>std</th>\n",
       "      <td>1.345194e+05</td>\n",
       "      <td>7.959263e+11</td>\n",
       "      <td>54444.477531</td>\n",
       "      <td>15.252182</td>\n",
       "      <td>0.343756</td>\n",
       "      <td>0.137735</td>\n",
       "      <td>0.220862</td>\n",
       "      <td>0.221245</td>\n",
       "      <td>0.106004</td>\n",
       "      <td>0.046766</td>\n",
       "      <td>4.025461</td>\n",
       "      <td>0.341308</td>\n",
       "      <td>29.829805</td>\n",
       "      <td>0.328999</td>\n",
       "    </tr>\n",
       "    <tr>\n",
       "      <th>min</th>\n",
       "      <td>0.000000e+00</td>\n",
       "      <td>0.000000e+00</td>\n",
       "      <td>48000.000000</td>\n",
       "      <td>2.000000</td>\n",
       "      <td>0.000026</td>\n",
       "      <td>0.079300</td>\n",
       "      <td>0.002440</td>\n",
       "      <td>0.000000</td>\n",
       "      <td>0.033400</td>\n",
       "      <td>0.023200</td>\n",
       "      <td>-44.677000</td>\n",
       "      <td>0.000000</td>\n",
       "      <td>52.463000</td>\n",
       "      <td>1.000000</td>\n",
       "    </tr>\n",
       "    <tr>\n",
       "      <th>25%</th>\n",
       "      <td>1.103370e+05</td>\n",
       "      <td>1.672713e+09</td>\n",
       "      <td>194469.000000</td>\n",
       "      <td>60.000000</td>\n",
       "      <td>0.130000</td>\n",
       "      <td>0.447000</td>\n",
       "      <td>0.319000</td>\n",
       "      <td>0.000000</td>\n",
       "      <td>0.097400</td>\n",
       "      <td>0.030700</td>\n",
       "      <td>-10.917000</td>\n",
       "      <td>1.000000</td>\n",
       "      <td>95.985000</td>\n",
       "      <td>4.000000</td>\n",
       "    </tr>\n",
       "    <tr>\n",
       "      <th>50%</th>\n",
       "      <td>1.857730e+05</td>\n",
       "      <td>1.701224e+09</td>\n",
       "      <td>218735.000000</td>\n",
       "      <td>70.000000</td>\n",
       "      <td>0.513000</td>\n",
       "      <td>0.559000</td>\n",
       "      <td>0.463000</td>\n",
       "      <td>0.000011</td>\n",
       "      <td>0.113000</td>\n",
       "      <td>0.036300</td>\n",
       "      <td>-7.680000</td>\n",
       "      <td>1.000000</td>\n",
       "      <td>114.924000</td>\n",
       "      <td>4.000000</td>\n",
       "    </tr>\n",
       "    <tr>\n",
       "      <th>75%</th>\n",
       "      <td>2.245420e+05</td>\n",
       "      <td>1.616122e+12</td>\n",
       "      <td>252266.000000</td>\n",
       "      <td>77.000000</td>\n",
       "      <td>0.831000</td>\n",
       "      <td>0.643000</td>\n",
       "      <td>0.661000</td>\n",
       "      <td>0.001010</td>\n",
       "      <td>0.170000</td>\n",
       "      <td>0.051900</td>\n",
       "      <td>-5.927000</td>\n",
       "      <td>1.000000</td>\n",
       "      <td>139.916000</td>\n",
       "      <td>4.000000</td>\n",
       "    </tr>\n",
       "    <tr>\n",
       "      <th>max</th>\n",
       "      <td>7.575928e+06</td>\n",
       "      <td>1.665470e+12</td>\n",
       "      <td>493400.000000</td>\n",
       "      <td>96.000000</td>\n",
       "      <td>0.996000</td>\n",
       "      <td>0.925000</td>\n",
       "      <td>0.988000</td>\n",
       "      <td>0.982000</td>\n",
       "      <td>0.626000</td>\n",
       "      <td>0.463000</td>\n",
       "      <td>-1.329000</td>\n",
       "      <td>1.000000</td>\n",
       "      <td>199.811000</td>\n",
       "      <td>5.000000</td>\n",
       "    </tr>\n",
       "  </tbody>\n",
       "</table>\n",
       "</div>"
      ],
      "text/plain": [
       "          ms_played  offline_timestamp         length  track_popularity  acousticness  danceability        energy  instrumentalness      liveness   speechiness      loudness          mode         tempo  time_signature\n",
       "count  1.292910e+05       1.292910e+05   19472.000000      19472.000000  19472.000000  19472.000000  19472.000000      19472.000000  19472.000000  19472.000000  19472.000000  19472.000000  19472.000000    19472.000000\n",
       "mean   1.706095e+05       6.602668e+11  225346.360055         67.454704      0.493939      0.546504      0.488246          0.069886      0.157588      0.050309     -8.672958      0.865396    118.507806        3.916290\n",
       "std    1.345194e+05       7.959263e+11   54444.477531         15.252182      0.343756      0.137735      0.220862          0.221245      0.106004      0.046766      4.025461      0.341308     29.829805        0.328999\n",
       "min    0.000000e+00       0.000000e+00   48000.000000          2.000000      0.000026      0.079300      0.002440          0.000000      0.033400      0.023200    -44.677000      0.000000     52.463000        1.000000\n",
       "25%    1.103370e+05       1.672713e+09  194469.000000         60.000000      0.130000      0.447000      0.319000          0.000000      0.097400      0.030700    -10.917000      1.000000     95.985000        4.000000\n",
       "50%    1.857730e+05       1.701224e+09  218735.000000         70.000000      0.513000      0.559000      0.463000          0.000011      0.113000      0.036300     -7.680000      1.000000    114.924000        4.000000\n",
       "75%    2.245420e+05       1.616122e+12  252266.000000         77.000000      0.831000      0.643000      0.661000          0.001010      0.170000      0.051900     -5.927000      1.000000    139.916000        4.000000\n",
       "max    7.575928e+06       1.665470e+12  493400.000000         96.000000      0.996000      0.925000      0.988000          0.982000      0.626000      0.463000     -1.329000      1.000000    199.811000        5.000000"
      ]
     },
     "execution_count": 165,
     "metadata": {},
     "output_type": "execute_result"
    }
   ],
   "source": [
    "spotify_data.describe()"
   ]
  },
  {
   "cell_type": "code",
   "execution_count": 166,
   "metadata": {},
   "outputs": [
    {
     "data": {
      "text/html": [
       "<div>\n",
       "<style scoped>\n",
       "    .dataframe tbody tr th:only-of-type {\n",
       "        vertical-align: middle;\n",
       "    }\n",
       "\n",
       "    .dataframe tbody tr th {\n",
       "        vertical-align: top;\n",
       "    }\n",
       "\n",
       "    .dataframe thead th {\n",
       "        text-align: right;\n",
       "    }\n",
       "</style>\n",
       "<table border=\"1\" class=\"dataframe\">\n",
       "  <thead>\n",
       "    <tr style=\"text-align: right;\">\n",
       "      <th></th>\n",
       "      <th>ts</th>\n",
       "      <th>platform</th>\n",
       "      <th>master_metadata_track_name</th>\n",
       "      <th>master_metadata_album_artist_name</th>\n",
       "      <th>master_metadata_album_album_name</th>\n",
       "      <th>episode_name</th>\n",
       "      <th>episode_show_name</th>\n",
       "      <th>spotify_episode_uri</th>\n",
       "      <th>reason_start</th>\n",
       "      <th>reason_end</th>\n",
       "      <th>skipped</th>\n",
       "      <th>track_uri</th>\n",
       "      <th>track_id</th>\n",
       "      <th>track_name</th>\n",
       "      <th>release_date</th>\n",
       "      <th>album_id</th>\n",
       "      <th>album_name</th>\n",
       "      <th>artist_name</th>\n",
       "    </tr>\n",
       "  </thead>\n",
       "  <tbody>\n",
       "    <tr>\n",
       "      <th>count</th>\n",
       "      <td>129291</td>\n",
       "      <td>129291</td>\n",
       "      <td>126946</td>\n",
       "      <td>126946</td>\n",
       "      <td>126946</td>\n",
       "      <td>2268</td>\n",
       "      <td>2265</td>\n",
       "      <td>2268</td>\n",
       "      <td>129291</td>\n",
       "      <td>129291</td>\n",
       "      <td>71953</td>\n",
       "      <td>126946</td>\n",
       "      <td>19472</td>\n",
       "      <td>19472</td>\n",
       "      <td>19472</td>\n",
       "      <td>19472</td>\n",
       "      <td>19472</td>\n",
       "      <td>19472</td>\n",
       "    </tr>\n",
       "    <tr>\n",
       "      <th>unique</th>\n",
       "      <td>103535</td>\n",
       "      <td>2</td>\n",
       "      <td>13737</td>\n",
       "      <td>6102</td>\n",
       "      <td>10997</td>\n",
       "      <td>1396</td>\n",
       "      <td>296</td>\n",
       "      <td>1397</td>\n",
       "      <td>9</td>\n",
       "      <td>10</td>\n",
       "      <td>4</td>\n",
       "      <td>16706</td>\n",
       "      <td>564</td>\n",
       "      <td>529</td>\n",
       "      <td>348</td>\n",
       "      <td>407</td>\n",
       "      <td>402</td>\n",
       "      <td>117</td>\n",
       "    </tr>\n",
       "    <tr>\n",
       "      <th>top</th>\n",
       "      <td>2022-01-01T11:42:30Z</td>\n",
       "      <td>Windows</td>\n",
       "      <td>Location</td>\n",
       "      <td>LANY</td>\n",
       "      <td>gg bb xx</td>\n",
       "      <td>YOASOBI THE BOOK 2 Spotify Edition</td>\n",
       "      <td>Mishary Rashid Alafasy</td>\n",
       "      <td>spotify:episode:0sPNGPetAt5PP9IXKD6Bko</td>\n",
       "      <td>trackdone</td>\n",
       "      <td>trackdone</td>\n",
       "      <td>False</td>\n",
       "      <td>152lZdxL1OR0ZMW6KquMif</td>\n",
       "      <td>1bD4DokWm69ZwGBQ75jAga</td>\n",
       "      <td>You Can Cry</td>\n",
       "      <td>2019-11-29</td>\n",
       "      <td>1DAuVHMlBvIjzWZALSUXbn</td>\n",
       "      <td>Menari Dengan Bayangan</td>\n",
       "      <td>LANY</td>\n",
       "    </tr>\n",
       "    <tr>\n",
       "      <th>freq</th>\n",
       "      <td>331</td>\n",
       "      <td>115003</td>\n",
       "      <td>760</td>\n",
       "      <td>4546</td>\n",
       "      <td>1084</td>\n",
       "      <td>86</td>\n",
       "      <td>343</td>\n",
       "      <td>86</td>\n",
       "      <td>90065</td>\n",
       "      <td>89606</td>\n",
       "      <td>35601</td>\n",
       "      <td>757</td>\n",
       "      <td>254</td>\n",
       "      <td>254</td>\n",
       "      <td>607</td>\n",
       "      <td>607</td>\n",
       "      <td>607</td>\n",
       "      <td>986</td>\n",
       "    </tr>\n",
       "  </tbody>\n",
       "</table>\n",
       "</div>"
      ],
      "text/plain": [
       "                          ts platform master_metadata_track_name master_metadata_album_artist_name master_metadata_album_album_name                        episode_name       episode_show_name                     spotify_episode_uri reason_start reason_end skipped               track_uri                track_id   track_name release_date                album_id              album_name artist_name\n",
       "count                 129291   129291                     126946                            126946                           126946                                2268                    2265                                    2268       129291     129291   71953                  126946                   19472        19472        19472                   19472                   19472       19472\n",
       "unique                103535        2                      13737                              6102                            10997                                1396                     296                                    1397            9         10       4                   16706                     564          529          348                     407                     402         117\n",
       "top     2022-01-01T11:42:30Z  Windows                   Location                              LANY                         gg bb xx  YOASOBI THE BOOK 2 Spotify Edition  Mishary Rashid Alafasy  spotify:episode:0sPNGPetAt5PP9IXKD6Bko    trackdone  trackdone   False  152lZdxL1OR0ZMW6KquMif  1bD4DokWm69ZwGBQ75jAga  You Can Cry   2019-11-29  1DAuVHMlBvIjzWZALSUXbn  Menari Dengan Bayangan        LANY\n",
       "freq                     331   115003                        760                              4546                             1084                                  86                     343                                      86        90065      89606   35601                     757                     254          254          607                     607                     607         986"
      ]
     },
     "execution_count": 166,
     "metadata": {},
     "output_type": "execute_result"
    }
   ],
   "source": [
    "spotify_data.describe(include='object')"
   ]
  },
  {
   "cell_type": "markdown",
   "metadata": {},
   "source": [
    "## **Data Preprocessing**"
   ]
  },
  {
   "cell_type": "markdown",
   "metadata": {},
   "source": [
    "### **Data Type**"
   ]
  },
  {
   "cell_type": "markdown",
   "metadata": {},
   "source": [
    "#### **Checking Data Type**"
   ]
  },
  {
   "cell_type": "code",
   "execution_count": 167,
   "metadata": {},
   "outputs": [
    {
     "data": {
      "text/plain": [
       "ts                                    object\n",
       "platform                              object\n",
       "ms_played                              int64\n",
       "master_metadata_track_name            object\n",
       "master_metadata_album_artist_name     object\n",
       "master_metadata_album_album_name      object\n",
       "episode_name                          object\n",
       "episode_show_name                     object\n",
       "spotify_episode_uri                   object\n",
       "reason_start                          object\n",
       "reason_end                            object\n",
       "shuffle                                 bool\n",
       "skipped                               object\n",
       "offline                                 bool\n",
       "offline_timestamp                      int64\n",
       "incognito_mode                          bool\n",
       "track_uri                             object\n",
       "track_id                              object\n",
       "track_name                            object\n",
       "release_date                          object\n",
       "length                               float64\n",
       "track_popularity                     float64\n",
       "album_id                              object\n",
       "album_name                            object\n",
       "artist_name                           object\n",
       "acousticness                         float64\n",
       "danceability                         float64\n",
       "energy                               float64\n",
       "instrumentalness                     float64\n",
       "liveness                             float64\n",
       "speechiness                          float64\n",
       "loudness                             float64\n",
       "mode                                 float64\n",
       "tempo                                float64\n",
       "time_signature                       float64\n",
       "dtype: object"
      ]
     },
     "execution_count": 167,
     "metadata": {},
     "output_type": "execute_result"
    }
   ],
   "source": [
    "spotify_data.dtypes"
   ]
  },
  {
   "cell_type": "markdown",
   "metadata": {},
   "source": [
    "#### **Fixing Data Type**"
   ]
  },
  {
   "cell_type": "code",
   "execution_count": 168,
   "metadata": {},
   "outputs": [],
   "source": [
    "# Convert 'ts' column to datetime format\n",
    "spotify_data['ts'] = pd.to_datetime(spotify_data['ts'])"
   ]
  },
  {
   "cell_type": "code",
   "execution_count": 169,
   "metadata": {},
   "outputs": [
    {
     "data": {
      "text/plain": [
       "datetime64[ns, UTC]"
      ]
     },
     "execution_count": 169,
     "metadata": {},
     "output_type": "execute_result"
    }
   ],
   "source": [
    "spotify_data['ts'].dtypes"
   ]
  },
  {
   "cell_type": "markdown",
   "metadata": {},
   "source": [
    "### **Data Duplicates**"
   ]
  },
  {
   "cell_type": "markdown",
   "metadata": {},
   "source": [
    "#### **Identifying Data Duplicates**"
   ]
  },
  {
   "cell_type": "code",
   "execution_count": 170,
   "metadata": {},
   "outputs": [
    {
     "data": {
      "text/plain": [
       "False    112881\n",
       "True      16410\n",
       "Name: count, dtype: int64"
      ]
     },
     "execution_count": 170,
     "metadata": {},
     "output_type": "execute_result"
    }
   ],
   "source": [
    "spotify_data.duplicated().value_counts()"
   ]
  },
  {
   "cell_type": "code",
   "execution_count": 171,
   "metadata": {},
   "outputs": [
    {
     "data": {
      "text/html": [
       "<div>\n",
       "<style scoped>\n",
       "    .dataframe tbody tr th:only-of-type {\n",
       "        vertical-align: middle;\n",
       "    }\n",
       "\n",
       "    .dataframe tbody tr th {\n",
       "        vertical-align: top;\n",
       "    }\n",
       "\n",
       "    .dataframe thead th {\n",
       "        text-align: right;\n",
       "    }\n",
       "</style>\n",
       "<table border=\"1\" class=\"dataframe\">\n",
       "  <thead>\n",
       "    <tr style=\"text-align: right;\">\n",
       "      <th></th>\n",
       "      <th>ts</th>\n",
       "      <th>platform</th>\n",
       "      <th>ms_played</th>\n",
       "      <th>master_metadata_track_name</th>\n",
       "      <th>master_metadata_album_artist_name</th>\n",
       "      <th>master_metadata_album_album_name</th>\n",
       "      <th>episode_name</th>\n",
       "      <th>episode_show_name</th>\n",
       "      <th>spotify_episode_uri</th>\n",
       "      <th>reason_start</th>\n",
       "      <th>reason_end</th>\n",
       "      <th>shuffle</th>\n",
       "      <th>skipped</th>\n",
       "      <th>offline</th>\n",
       "      <th>offline_timestamp</th>\n",
       "      <th>incognito_mode</th>\n",
       "      <th>track_uri</th>\n",
       "      <th>track_id</th>\n",
       "      <th>track_name</th>\n",
       "      <th>release_date</th>\n",
       "      <th>length</th>\n",
       "      <th>track_popularity</th>\n",
       "      <th>album_id</th>\n",
       "      <th>album_name</th>\n",
       "      <th>artist_name</th>\n",
       "      <th>acousticness</th>\n",
       "      <th>danceability</th>\n",
       "      <th>energy</th>\n",
       "      <th>instrumentalness</th>\n",
       "      <th>liveness</th>\n",
       "      <th>speechiness</th>\n",
       "      <th>loudness</th>\n",
       "      <th>mode</th>\n",
       "      <th>tempo</th>\n",
       "      <th>time_signature</th>\n",
       "    </tr>\n",
       "  </thead>\n",
       "  <tbody>\n",
       "    <tr>\n",
       "      <th>1456</th>\n",
       "      <td>2019-06-24 03:29:12+00:00</td>\n",
       "      <td>Android</td>\n",
       "      <td>25909</td>\n",
       "      <td>Complicated</td>\n",
       "      <td>Olivia O'Brien</td>\n",
       "      <td>Complicated</td>\n",
       "      <td>NaN</td>\n",
       "      <td>NaN</td>\n",
       "      <td>NaN</td>\n",
       "      <td>trackdone</td>\n",
       "      <td>fwdbtn</td>\n",
       "      <td>True</td>\n",
       "      <td>NaN</td>\n",
       "      <td>False</td>\n",
       "      <td>1561346869704</td>\n",
       "      <td>False</td>\n",
       "      <td>0jllH0usRFD4LJkJnGK9Lf</td>\n",
       "      <td>NaN</td>\n",
       "      <td>NaN</td>\n",
       "      <td>NaN</td>\n",
       "      <td>NaN</td>\n",
       "      <td>NaN</td>\n",
       "      <td>NaN</td>\n",
       "      <td>NaN</td>\n",
       "      <td>NaN</td>\n",
       "      <td>NaN</td>\n",
       "      <td>NaN</td>\n",
       "      <td>NaN</td>\n",
       "      <td>NaN</td>\n",
       "      <td>NaN</td>\n",
       "      <td>NaN</td>\n",
       "      <td>NaN</td>\n",
       "      <td>NaN</td>\n",
       "      <td>NaN</td>\n",
       "      <td>NaN</td>\n",
       "    </tr>\n",
       "    <tr>\n",
       "      <th>3418</th>\n",
       "      <td>2019-10-21 09:28:58+00:00</td>\n",
       "      <td>Android</td>\n",
       "      <td>247108</td>\n",
       "      <td>Something Just Like This</td>\n",
       "      <td>The Chainsmokers</td>\n",
       "      <td>Memories...Do Not Open</td>\n",
       "      <td>NaN</td>\n",
       "      <td>NaN</td>\n",
       "      <td>NaN</td>\n",
       "      <td>trackdone</td>\n",
       "      <td>trackdone</td>\n",
       "      <td>False</td>\n",
       "      <td>NaN</td>\n",
       "      <td>False</td>\n",
       "      <td>1571649886882</td>\n",
       "      <td>False</td>\n",
       "      <td>6RUKPb4LETWmmr3iAEQktW</td>\n",
       "      <td>6RUKPb4LETWmmr3iAEQktW</td>\n",
       "      <td>Something Just Like This</td>\n",
       "      <td>2017-04-07</td>\n",
       "      <td>247160.0</td>\n",
       "      <td>87.0</td>\n",
       "      <td>4JPguzRps3kuWDD5GS6oXr</td>\n",
       "      <td>Memories...Do Not Open</td>\n",
       "      <td>The Chainsmokers</td>\n",
       "      <td>0.0498</td>\n",
       "      <td>0.617</td>\n",
       "      <td>0.635</td>\n",
       "      <td>0.000014</td>\n",
       "      <td>0.164</td>\n",
       "      <td>0.0317</td>\n",
       "      <td>-6.769</td>\n",
       "      <td>0.0</td>\n",
       "      <td>103.019</td>\n",
       "      <td>4.0</td>\n",
       "    </tr>\n",
       "    <tr>\n",
       "      <th>4549</th>\n",
       "      <td>2019-11-23 10:44:28+00:00</td>\n",
       "      <td>Android</td>\n",
       "      <td>4007</td>\n",
       "      <td>Something Just Like This</td>\n",
       "      <td>The Chainsmokers</td>\n",
       "      <td>Memories...Do Not Open</td>\n",
       "      <td>NaN</td>\n",
       "      <td>NaN</td>\n",
       "      <td>NaN</td>\n",
       "      <td>clickrow</td>\n",
       "      <td>endplay</td>\n",
       "      <td>False</td>\n",
       "      <td>NaN</td>\n",
       "      <td>False</td>\n",
       "      <td>1574505856912</td>\n",
       "      <td>False</td>\n",
       "      <td>6RUKPb4LETWmmr3iAEQktW</td>\n",
       "      <td>6RUKPb4LETWmmr3iAEQktW</td>\n",
       "      <td>Something Just Like This</td>\n",
       "      <td>2017-04-07</td>\n",
       "      <td>247160.0</td>\n",
       "      <td>87.0</td>\n",
       "      <td>4JPguzRps3kuWDD5GS6oXr</td>\n",
       "      <td>Memories...Do Not Open</td>\n",
       "      <td>The Chainsmokers</td>\n",
       "      <td>0.0498</td>\n",
       "      <td>0.617</td>\n",
       "      <td>0.635</td>\n",
       "      <td>0.000014</td>\n",
       "      <td>0.164</td>\n",
       "      <td>0.0317</td>\n",
       "      <td>-6.769</td>\n",
       "      <td>0.0</td>\n",
       "      <td>103.019</td>\n",
       "      <td>4.0</td>\n",
       "    </tr>\n",
       "    <tr>\n",
       "      <th>4832</th>\n",
       "      <td>2019-11-30 11:14:35+00:00</td>\n",
       "      <td>Android</td>\n",
       "      <td>247108</td>\n",
       "      <td>Something Just Like This</td>\n",
       "      <td>The Chainsmokers</td>\n",
       "      <td>Memories...Do Not Open</td>\n",
       "      <td>NaN</td>\n",
       "      <td>NaN</td>\n",
       "      <td>NaN</td>\n",
       "      <td>trackdone</td>\n",
       "      <td>trackdone</td>\n",
       "      <td>True</td>\n",
       "      <td>NaN</td>\n",
       "      <td>False</td>\n",
       "      <td>1575112217758</td>\n",
       "      <td>False</td>\n",
       "      <td>6RUKPb4LETWmmr3iAEQktW</td>\n",
       "      <td>6RUKPb4LETWmmr3iAEQktW</td>\n",
       "      <td>Something Just Like This</td>\n",
       "      <td>2017-04-07</td>\n",
       "      <td>247160.0</td>\n",
       "      <td>87.0</td>\n",
       "      <td>4JPguzRps3kuWDD5GS6oXr</td>\n",
       "      <td>Memories...Do Not Open</td>\n",
       "      <td>The Chainsmokers</td>\n",
       "      <td>0.0498</td>\n",
       "      <td>0.617</td>\n",
       "      <td>0.635</td>\n",
       "      <td>0.000014</td>\n",
       "      <td>0.164</td>\n",
       "      <td>0.0317</td>\n",
       "      <td>-6.769</td>\n",
       "      <td>0.0</td>\n",
       "      <td>103.019</td>\n",
       "      <td>4.0</td>\n",
       "    </tr>\n",
       "    <tr>\n",
       "      <th>5137</th>\n",
       "      <td>2019-12-08 04:23:33+00:00</td>\n",
       "      <td>Android</td>\n",
       "      <td>247108</td>\n",
       "      <td>Something Just Like This</td>\n",
       "      <td>The Chainsmokers</td>\n",
       "      <td>Memories...Do Not Open</td>\n",
       "      <td>NaN</td>\n",
       "      <td>NaN</td>\n",
       "      <td>NaN</td>\n",
       "      <td>trackdone</td>\n",
       "      <td>trackdone</td>\n",
       "      <td>True</td>\n",
       "      <td>NaN</td>\n",
       "      <td>False</td>\n",
       "      <td>1575778749965</td>\n",
       "      <td>False</td>\n",
       "      <td>6RUKPb4LETWmmr3iAEQktW</td>\n",
       "      <td>6RUKPb4LETWmmr3iAEQktW</td>\n",
       "      <td>Something Just Like This</td>\n",
       "      <td>2017-04-07</td>\n",
       "      <td>247160.0</td>\n",
       "      <td>87.0</td>\n",
       "      <td>4JPguzRps3kuWDD5GS6oXr</td>\n",
       "      <td>Memories...Do Not Open</td>\n",
       "      <td>The Chainsmokers</td>\n",
       "      <td>0.0498</td>\n",
       "      <td>0.617</td>\n",
       "      <td>0.635</td>\n",
       "      <td>0.000014</td>\n",
       "      <td>0.164</td>\n",
       "      <td>0.0317</td>\n",
       "      <td>-6.769</td>\n",
       "      <td>0.0</td>\n",
       "      <td>103.019</td>\n",
       "      <td>4.0</td>\n",
       "    </tr>\n",
       "  </tbody>\n",
       "</table>\n",
       "</div>"
      ],
      "text/plain": [
       "                            ts platform  ms_played master_metadata_track_name master_metadata_album_artist_name master_metadata_album_album_name episode_name episode_show_name spotify_episode_uri reason_start reason_end  shuffle skipped  offline  offline_timestamp  incognito_mode               track_uri                track_id                track_name release_date    length  track_popularity                album_id              album_name       artist_name  acousticness  danceability  energy  instrumentalness  liveness  speechiness  loudness  mode    tempo  time_signature\n",
       "1456 2019-06-24 03:29:12+00:00  Android      25909                Complicated                    Olivia O'Brien                      Complicated          NaN               NaN                 NaN    trackdone     fwdbtn     True     NaN    False      1561346869704           False  0jllH0usRFD4LJkJnGK9Lf                     NaN                       NaN          NaN       NaN               NaN                     NaN                     NaN               NaN           NaN           NaN     NaN               NaN       NaN          NaN       NaN   NaN      NaN             NaN\n",
       "3418 2019-10-21 09:28:58+00:00  Android     247108   Something Just Like This                  The Chainsmokers           Memories...Do Not Open          NaN               NaN                 NaN    trackdone  trackdone    False     NaN    False      1571649886882           False  6RUKPb4LETWmmr3iAEQktW  6RUKPb4LETWmmr3iAEQktW  Something Just Like This   2017-04-07  247160.0              87.0  4JPguzRps3kuWDD5GS6oXr  Memories...Do Not Open  The Chainsmokers        0.0498         0.617   0.635          0.000014     0.164       0.0317    -6.769   0.0  103.019             4.0\n",
       "4549 2019-11-23 10:44:28+00:00  Android       4007   Something Just Like This                  The Chainsmokers           Memories...Do Not Open          NaN               NaN                 NaN     clickrow    endplay    False     NaN    False      1574505856912           False  6RUKPb4LETWmmr3iAEQktW  6RUKPb4LETWmmr3iAEQktW  Something Just Like This   2017-04-07  247160.0              87.0  4JPguzRps3kuWDD5GS6oXr  Memories...Do Not Open  The Chainsmokers        0.0498         0.617   0.635          0.000014     0.164       0.0317    -6.769   0.0  103.019             4.0\n",
       "4832 2019-11-30 11:14:35+00:00  Android     247108   Something Just Like This                  The Chainsmokers           Memories...Do Not Open          NaN               NaN                 NaN    trackdone  trackdone     True     NaN    False      1575112217758           False  6RUKPb4LETWmmr3iAEQktW  6RUKPb4LETWmmr3iAEQktW  Something Just Like This   2017-04-07  247160.0              87.0  4JPguzRps3kuWDD5GS6oXr  Memories...Do Not Open  The Chainsmokers        0.0498         0.617   0.635          0.000014     0.164       0.0317    -6.769   0.0  103.019             4.0\n",
       "5137 2019-12-08 04:23:33+00:00  Android     247108   Something Just Like This                  The Chainsmokers           Memories...Do Not Open          NaN               NaN                 NaN    trackdone  trackdone     True     NaN    False      1575778749965           False  6RUKPb4LETWmmr3iAEQktW  6RUKPb4LETWmmr3iAEQktW  Something Just Like This   2017-04-07  247160.0              87.0  4JPguzRps3kuWDD5GS6oXr  Memories...Do Not Open  The Chainsmokers        0.0498         0.617   0.635          0.000014     0.164       0.0317    -6.769   0.0  103.019             4.0"
      ]
     },
     "execution_count": 171,
     "metadata": {},
     "output_type": "execute_result"
    }
   ],
   "source": [
    "duplicate_rows = spotify_data[spotify_data.duplicated()]\n",
    "duplicate_rows.head()"
   ]
  },
  {
   "cell_type": "code",
   "execution_count": 172,
   "metadata": {},
   "outputs": [
    {
     "data": {
      "text/html": [
       "<div>\n",
       "<style scoped>\n",
       "    .dataframe tbody tr th:only-of-type {\n",
       "        vertical-align: middle;\n",
       "    }\n",
       "\n",
       "    .dataframe tbody tr th {\n",
       "        vertical-align: top;\n",
       "    }\n",
       "\n",
       "    .dataframe thead th {\n",
       "        text-align: right;\n",
       "    }\n",
       "</style>\n",
       "<table border=\"1\" class=\"dataframe\">\n",
       "  <thead>\n",
       "    <tr style=\"text-align: right;\">\n",
       "      <th></th>\n",
       "      <th>ts</th>\n",
       "      <th>platform</th>\n",
       "      <th>ms_played</th>\n",
       "      <th>master_metadata_track_name</th>\n",
       "      <th>master_metadata_album_artist_name</th>\n",
       "      <th>master_metadata_album_album_name</th>\n",
       "      <th>episode_name</th>\n",
       "      <th>episode_show_name</th>\n",
       "      <th>spotify_episode_uri</th>\n",
       "      <th>reason_start</th>\n",
       "      <th>reason_end</th>\n",
       "      <th>shuffle</th>\n",
       "      <th>skipped</th>\n",
       "      <th>offline</th>\n",
       "      <th>offline_timestamp</th>\n",
       "      <th>incognito_mode</th>\n",
       "      <th>track_uri</th>\n",
       "      <th>track_id</th>\n",
       "      <th>track_name</th>\n",
       "      <th>release_date</th>\n",
       "      <th>length</th>\n",
       "      <th>track_popularity</th>\n",
       "      <th>album_id</th>\n",
       "      <th>album_name</th>\n",
       "      <th>artist_name</th>\n",
       "      <th>acousticness</th>\n",
       "      <th>danceability</th>\n",
       "      <th>energy</th>\n",
       "      <th>instrumentalness</th>\n",
       "      <th>liveness</th>\n",
       "      <th>speechiness</th>\n",
       "      <th>loudness</th>\n",
       "      <th>mode</th>\n",
       "      <th>tempo</th>\n",
       "      <th>time_signature</th>\n",
       "    </tr>\n",
       "  </thead>\n",
       "  <tbody>\n",
       "    <tr>\n",
       "      <th>1455</th>\n",
       "      <td>2019-06-24 03:29:12+00:00</td>\n",
       "      <td>Android</td>\n",
       "      <td>25909</td>\n",
       "      <td>Complicated</td>\n",
       "      <td>Olivia O'Brien</td>\n",
       "      <td>Complicated</td>\n",
       "      <td>NaN</td>\n",
       "      <td>NaN</td>\n",
       "      <td>NaN</td>\n",
       "      <td>trackdone</td>\n",
       "      <td>fwdbtn</td>\n",
       "      <td>True</td>\n",
       "      <td>NaN</td>\n",
       "      <td>False</td>\n",
       "      <td>1561346869704</td>\n",
       "      <td>False</td>\n",
       "      <td>0jllH0usRFD4LJkJnGK9Lf</td>\n",
       "      <td>NaN</td>\n",
       "      <td>NaN</td>\n",
       "      <td>NaN</td>\n",
       "      <td>NaN</td>\n",
       "      <td>NaN</td>\n",
       "      <td>NaN</td>\n",
       "      <td>NaN</td>\n",
       "      <td>NaN</td>\n",
       "      <td>NaN</td>\n",
       "      <td>NaN</td>\n",
       "      <td>NaN</td>\n",
       "      <td>NaN</td>\n",
       "      <td>NaN</td>\n",
       "      <td>NaN</td>\n",
       "      <td>NaN</td>\n",
       "      <td>NaN</td>\n",
       "      <td>NaN</td>\n",
       "      <td>NaN</td>\n",
       "    </tr>\n",
       "    <tr>\n",
       "      <th>1456</th>\n",
       "      <td>2019-06-24 03:29:12+00:00</td>\n",
       "      <td>Android</td>\n",
       "      <td>25909</td>\n",
       "      <td>Complicated</td>\n",
       "      <td>Olivia O'Brien</td>\n",
       "      <td>Complicated</td>\n",
       "      <td>NaN</td>\n",
       "      <td>NaN</td>\n",
       "      <td>NaN</td>\n",
       "      <td>trackdone</td>\n",
       "      <td>fwdbtn</td>\n",
       "      <td>True</td>\n",
       "      <td>NaN</td>\n",
       "      <td>False</td>\n",
       "      <td>1561346869704</td>\n",
       "      <td>False</td>\n",
       "      <td>0jllH0usRFD4LJkJnGK9Lf</td>\n",
       "      <td>NaN</td>\n",
       "      <td>NaN</td>\n",
       "      <td>NaN</td>\n",
       "      <td>NaN</td>\n",
       "      <td>NaN</td>\n",
       "      <td>NaN</td>\n",
       "      <td>NaN</td>\n",
       "      <td>NaN</td>\n",
       "      <td>NaN</td>\n",
       "      <td>NaN</td>\n",
       "      <td>NaN</td>\n",
       "      <td>NaN</td>\n",
       "      <td>NaN</td>\n",
       "      <td>NaN</td>\n",
       "      <td>NaN</td>\n",
       "      <td>NaN</td>\n",
       "      <td>NaN</td>\n",
       "      <td>NaN</td>\n",
       "    </tr>\n",
       "    <tr>\n",
       "      <th>3417</th>\n",
       "      <td>2019-10-21 09:28:58+00:00</td>\n",
       "      <td>Android</td>\n",
       "      <td>247108</td>\n",
       "      <td>Something Just Like This</td>\n",
       "      <td>The Chainsmokers</td>\n",
       "      <td>Memories...Do Not Open</td>\n",
       "      <td>NaN</td>\n",
       "      <td>NaN</td>\n",
       "      <td>NaN</td>\n",
       "      <td>trackdone</td>\n",
       "      <td>trackdone</td>\n",
       "      <td>False</td>\n",
       "      <td>NaN</td>\n",
       "      <td>False</td>\n",
       "      <td>1571649886882</td>\n",
       "      <td>False</td>\n",
       "      <td>6RUKPb4LETWmmr3iAEQktW</td>\n",
       "      <td>6RUKPb4LETWmmr3iAEQktW</td>\n",
       "      <td>Something Just Like This</td>\n",
       "      <td>2017-04-07</td>\n",
       "      <td>247160.0</td>\n",
       "      <td>87.0</td>\n",
       "      <td>4JPguzRps3kuWDD5GS6oXr</td>\n",
       "      <td>Memories...Do Not Open</td>\n",
       "      <td>The Chainsmokers</td>\n",
       "      <td>0.0498</td>\n",
       "      <td>0.617</td>\n",
       "      <td>0.635</td>\n",
       "      <td>0.000014</td>\n",
       "      <td>0.164</td>\n",
       "      <td>0.0317</td>\n",
       "      <td>-6.769</td>\n",
       "      <td>0.0</td>\n",
       "      <td>103.019</td>\n",
       "      <td>4.0</td>\n",
       "    </tr>\n",
       "    <tr>\n",
       "      <th>3418</th>\n",
       "      <td>2019-10-21 09:28:58+00:00</td>\n",
       "      <td>Android</td>\n",
       "      <td>247108</td>\n",
       "      <td>Something Just Like This</td>\n",
       "      <td>The Chainsmokers</td>\n",
       "      <td>Memories...Do Not Open</td>\n",
       "      <td>NaN</td>\n",
       "      <td>NaN</td>\n",
       "      <td>NaN</td>\n",
       "      <td>trackdone</td>\n",
       "      <td>trackdone</td>\n",
       "      <td>False</td>\n",
       "      <td>NaN</td>\n",
       "      <td>False</td>\n",
       "      <td>1571649886882</td>\n",
       "      <td>False</td>\n",
       "      <td>6RUKPb4LETWmmr3iAEQktW</td>\n",
       "      <td>6RUKPb4LETWmmr3iAEQktW</td>\n",
       "      <td>Something Just Like This</td>\n",
       "      <td>2017-04-07</td>\n",
       "      <td>247160.0</td>\n",
       "      <td>87.0</td>\n",
       "      <td>4JPguzRps3kuWDD5GS6oXr</td>\n",
       "      <td>Memories...Do Not Open</td>\n",
       "      <td>The Chainsmokers</td>\n",
       "      <td>0.0498</td>\n",
       "      <td>0.617</td>\n",
       "      <td>0.635</td>\n",
       "      <td>0.000014</td>\n",
       "      <td>0.164</td>\n",
       "      <td>0.0317</td>\n",
       "      <td>-6.769</td>\n",
       "      <td>0.0</td>\n",
       "      <td>103.019</td>\n",
       "      <td>4.0</td>\n",
       "    </tr>\n",
       "    <tr>\n",
       "      <th>4548</th>\n",
       "      <td>2019-11-23 10:44:28+00:00</td>\n",
       "      <td>Android</td>\n",
       "      <td>4007</td>\n",
       "      <td>Something Just Like This</td>\n",
       "      <td>The Chainsmokers</td>\n",
       "      <td>Memories...Do Not Open</td>\n",
       "      <td>NaN</td>\n",
       "      <td>NaN</td>\n",
       "      <td>NaN</td>\n",
       "      <td>clickrow</td>\n",
       "      <td>endplay</td>\n",
       "      <td>False</td>\n",
       "      <td>NaN</td>\n",
       "      <td>False</td>\n",
       "      <td>1574505856912</td>\n",
       "      <td>False</td>\n",
       "      <td>6RUKPb4LETWmmr3iAEQktW</td>\n",
       "      <td>6RUKPb4LETWmmr3iAEQktW</td>\n",
       "      <td>Something Just Like This</td>\n",
       "      <td>2017-04-07</td>\n",
       "      <td>247160.0</td>\n",
       "      <td>87.0</td>\n",
       "      <td>4JPguzRps3kuWDD5GS6oXr</td>\n",
       "      <td>Memories...Do Not Open</td>\n",
       "      <td>The Chainsmokers</td>\n",
       "      <td>0.0498</td>\n",
       "      <td>0.617</td>\n",
       "      <td>0.635</td>\n",
       "      <td>0.000014</td>\n",
       "      <td>0.164</td>\n",
       "      <td>0.0317</td>\n",
       "      <td>-6.769</td>\n",
       "      <td>0.0</td>\n",
       "      <td>103.019</td>\n",
       "      <td>4.0</td>\n",
       "    </tr>\n",
       "  </tbody>\n",
       "</table>\n",
       "</div>"
      ],
      "text/plain": [
       "                            ts platform  ms_played master_metadata_track_name master_metadata_album_artist_name master_metadata_album_album_name episode_name episode_show_name spotify_episode_uri reason_start reason_end  shuffle skipped  offline  offline_timestamp  incognito_mode               track_uri                track_id                track_name release_date    length  track_popularity                album_id              album_name       artist_name  acousticness  danceability  energy  instrumentalness  liveness  speechiness  loudness  mode    tempo  time_signature\n",
       "1455 2019-06-24 03:29:12+00:00  Android      25909                Complicated                    Olivia O'Brien                      Complicated          NaN               NaN                 NaN    trackdone     fwdbtn     True     NaN    False      1561346869704           False  0jllH0usRFD4LJkJnGK9Lf                     NaN                       NaN          NaN       NaN               NaN                     NaN                     NaN               NaN           NaN           NaN     NaN               NaN       NaN          NaN       NaN   NaN      NaN             NaN\n",
       "1456 2019-06-24 03:29:12+00:00  Android      25909                Complicated                    Olivia O'Brien                      Complicated          NaN               NaN                 NaN    trackdone     fwdbtn     True     NaN    False      1561346869704           False  0jllH0usRFD4LJkJnGK9Lf                     NaN                       NaN          NaN       NaN               NaN                     NaN                     NaN               NaN           NaN           NaN     NaN               NaN       NaN          NaN       NaN   NaN      NaN             NaN\n",
       "3417 2019-10-21 09:28:58+00:00  Android     247108   Something Just Like This                  The Chainsmokers           Memories...Do Not Open          NaN               NaN                 NaN    trackdone  trackdone    False     NaN    False      1571649886882           False  6RUKPb4LETWmmr3iAEQktW  6RUKPb4LETWmmr3iAEQktW  Something Just Like This   2017-04-07  247160.0              87.0  4JPguzRps3kuWDD5GS6oXr  Memories...Do Not Open  The Chainsmokers        0.0498         0.617   0.635          0.000014     0.164       0.0317    -6.769   0.0  103.019             4.0\n",
       "3418 2019-10-21 09:28:58+00:00  Android     247108   Something Just Like This                  The Chainsmokers           Memories...Do Not Open          NaN               NaN                 NaN    trackdone  trackdone    False     NaN    False      1571649886882           False  6RUKPb4LETWmmr3iAEQktW  6RUKPb4LETWmmr3iAEQktW  Something Just Like This   2017-04-07  247160.0              87.0  4JPguzRps3kuWDD5GS6oXr  Memories...Do Not Open  The Chainsmokers        0.0498         0.617   0.635          0.000014     0.164       0.0317    -6.769   0.0  103.019             4.0\n",
       "4548 2019-11-23 10:44:28+00:00  Android       4007   Something Just Like This                  The Chainsmokers           Memories...Do Not Open          NaN               NaN                 NaN     clickrow    endplay    False     NaN    False      1574505856912           False  6RUKPb4LETWmmr3iAEQktW  6RUKPb4LETWmmr3iAEQktW  Something Just Like This   2017-04-07  247160.0              87.0  4JPguzRps3kuWDD5GS6oXr  Memories...Do Not Open  The Chainsmokers        0.0498         0.617   0.635          0.000014     0.164       0.0317    -6.769   0.0  103.019             4.0"
      ]
     },
     "execution_count": 172,
     "metadata": {},
     "output_type": "execute_result"
    }
   ],
   "source": [
    "duplicate_rows = spotify_data[spotify_data.duplicated(keep=False)]\n",
    "duplicate_rows.head()"
   ]
  },
  {
   "cell_type": "markdown",
   "metadata": {},
   "source": [
    "### **Missing Values**"
   ]
  },
  {
   "cell_type": "markdown",
   "metadata": {},
   "source": [
    "#### **Identifying Missing Values**"
   ]
  },
  {
   "cell_type": "code",
   "execution_count": 173,
   "metadata": {},
   "outputs": [],
   "source": [
    "# Function to calculate missing values by column \n",
    "def missing_values_table(df):\n",
    "        mis_val = df.isnull().sum()\n",
    "        mis_val_percent = 100 * df.isnull().sum() / len(df)\n",
    "        mis_val_table = pd.concat([mis_val, mis_val_percent], axis=1)\n",
    "        mis_val_table_ren_columns = mis_val_table.rename(\n",
    "        columns = {0 : 'Missing Values', 1 : '% of Total Values'})\n",
    "        \n",
    "        # Sort the table by percentage of missing descending\n",
    "        mis_val_table_ren_columns = mis_val_table_ren_columns[\n",
    "            mis_val_table_ren_columns.iloc[:,1] != 0].sort_values(\n",
    "        '% of Total Values', ascending=False).round(1)\n",
    "        \n",
    "        print (\"Your selected dataframe has \" + str(df.shape[1]) + \" columns.\\n\"      \n",
    "            \"There are \" + str(mis_val_table_ren_columns.shape[0]) +\n",
    "              \" columns that have missing values.\")\n",
    "        \n",
    "        return mis_val_table_ren_columns"
   ]
  },
  {
   "cell_type": "code",
   "execution_count": 174,
   "metadata": {},
   "outputs": [
    {
     "name": "stdout",
     "output_type": "stream",
     "text": [
      "Your selected dataframe has 35 columns.\n",
      "There are 26 columns that have missing values.\n"
     ]
    },
    {
     "data": {
      "text/html": [
       "<div>\n",
       "<style scoped>\n",
       "    .dataframe tbody tr th:only-of-type {\n",
       "        vertical-align: middle;\n",
       "    }\n",
       "\n",
       "    .dataframe tbody tr th {\n",
       "        vertical-align: top;\n",
       "    }\n",
       "\n",
       "    .dataframe thead th {\n",
       "        text-align: right;\n",
       "    }\n",
       "</style>\n",
       "<table border=\"1\" class=\"dataframe\">\n",
       "  <thead>\n",
       "    <tr style=\"text-align: right;\">\n",
       "      <th></th>\n",
       "      <th>Missing Values</th>\n",
       "      <th>% of Total Values</th>\n",
       "    </tr>\n",
       "  </thead>\n",
       "  <tbody>\n",
       "    <tr>\n",
       "      <th>episode_show_name</th>\n",
       "      <td>127026</td>\n",
       "      <td>98.2</td>\n",
       "    </tr>\n",
       "    <tr>\n",
       "      <th>episode_name</th>\n",
       "      <td>127023</td>\n",
       "      <td>98.2</td>\n",
       "    </tr>\n",
       "    <tr>\n",
       "      <th>spotify_episode_uri</th>\n",
       "      <td>127023</td>\n",
       "      <td>98.2</td>\n",
       "    </tr>\n",
       "    <tr>\n",
       "      <th>album_id</th>\n",
       "      <td>109819</td>\n",
       "      <td>84.9</td>\n",
       "    </tr>\n",
       "    <tr>\n",
       "      <th>artist_name</th>\n",
       "      <td>109819</td>\n",
       "      <td>84.9</td>\n",
       "    </tr>\n",
       "    <tr>\n",
       "      <th>tempo</th>\n",
       "      <td>109819</td>\n",
       "      <td>84.9</td>\n",
       "    </tr>\n",
       "    <tr>\n",
       "      <th>mode</th>\n",
       "      <td>109819</td>\n",
       "      <td>84.9</td>\n",
       "    </tr>\n",
       "    <tr>\n",
       "      <th>loudness</th>\n",
       "      <td>109819</td>\n",
       "      <td>84.9</td>\n",
       "    </tr>\n",
       "    <tr>\n",
       "      <th>speechiness</th>\n",
       "      <td>109819</td>\n",
       "      <td>84.9</td>\n",
       "    </tr>\n",
       "    <tr>\n",
       "      <th>liveness</th>\n",
       "      <td>109819</td>\n",
       "      <td>84.9</td>\n",
       "    </tr>\n",
       "    <tr>\n",
       "      <th>instrumentalness</th>\n",
       "      <td>109819</td>\n",
       "      <td>84.9</td>\n",
       "    </tr>\n",
       "    <tr>\n",
       "      <th>energy</th>\n",
       "      <td>109819</td>\n",
       "      <td>84.9</td>\n",
       "    </tr>\n",
       "    <tr>\n",
       "      <th>danceability</th>\n",
       "      <td>109819</td>\n",
       "      <td>84.9</td>\n",
       "    </tr>\n",
       "    <tr>\n",
       "      <th>acousticness</th>\n",
       "      <td>109819</td>\n",
       "      <td>84.9</td>\n",
       "    </tr>\n",
       "    <tr>\n",
       "      <th>time_signature</th>\n",
       "      <td>109819</td>\n",
       "      <td>84.9</td>\n",
       "    </tr>\n",
       "    <tr>\n",
       "      <th>album_name</th>\n",
       "      <td>109819</td>\n",
       "      <td>84.9</td>\n",
       "    </tr>\n",
       "    <tr>\n",
       "      <th>track_popularity</th>\n",
       "      <td>109819</td>\n",
       "      <td>84.9</td>\n",
       "    </tr>\n",
       "    <tr>\n",
       "      <th>length</th>\n",
       "      <td>109819</td>\n",
       "      <td>84.9</td>\n",
       "    </tr>\n",
       "    <tr>\n",
       "      <th>release_date</th>\n",
       "      <td>109819</td>\n",
       "      <td>84.9</td>\n",
       "    </tr>\n",
       "    <tr>\n",
       "      <th>track_name</th>\n",
       "      <td>109819</td>\n",
       "      <td>84.9</td>\n",
       "    </tr>\n",
       "    <tr>\n",
       "      <th>track_id</th>\n",
       "      <td>109819</td>\n",
       "      <td>84.9</td>\n",
       "    </tr>\n",
       "    <tr>\n",
       "      <th>skipped</th>\n",
       "      <td>57338</td>\n",
       "      <td>44.3</td>\n",
       "    </tr>\n",
       "    <tr>\n",
       "      <th>master_metadata_album_artist_name</th>\n",
       "      <td>2345</td>\n",
       "      <td>1.8</td>\n",
       "    </tr>\n",
       "    <tr>\n",
       "      <th>track_uri</th>\n",
       "      <td>2345</td>\n",
       "      <td>1.8</td>\n",
       "    </tr>\n",
       "    <tr>\n",
       "      <th>master_metadata_album_album_name</th>\n",
       "      <td>2345</td>\n",
       "      <td>1.8</td>\n",
       "    </tr>\n",
       "    <tr>\n",
       "      <th>master_metadata_track_name</th>\n",
       "      <td>2345</td>\n",
       "      <td>1.8</td>\n",
       "    </tr>\n",
       "  </tbody>\n",
       "</table>\n",
       "</div>"
      ],
      "text/plain": [
       "                                   Missing Values  % of Total Values\n",
       "episode_show_name                          127026               98.2\n",
       "episode_name                               127023               98.2\n",
       "spotify_episode_uri                        127023               98.2\n",
       "album_id                                   109819               84.9\n",
       "artist_name                                109819               84.9\n",
       "tempo                                      109819               84.9\n",
       "mode                                       109819               84.9\n",
       "loudness                                   109819               84.9\n",
       "speechiness                                109819               84.9\n",
       "liveness                                   109819               84.9\n",
       "instrumentalness                           109819               84.9\n",
       "energy                                     109819               84.9\n",
       "danceability                               109819               84.9\n",
       "acousticness                               109819               84.9\n",
       "time_signature                             109819               84.9\n",
       "album_name                                 109819               84.9\n",
       "track_popularity                           109819               84.9\n",
       "length                                     109819               84.9\n",
       "release_date                               109819               84.9\n",
       "track_name                                 109819               84.9\n",
       "track_id                                   109819               84.9\n",
       "skipped                                     57338               44.3\n",
       "master_metadata_album_artist_name            2345                1.8\n",
       "track_uri                                    2345                1.8\n",
       "master_metadata_album_album_name             2345                1.8\n",
       "master_metadata_track_name                   2345                1.8"
      ]
     },
     "execution_count": 174,
     "metadata": {},
     "output_type": "execute_result"
    }
   ],
   "source": [
    "missing_values = missing_values_table(spotify_data)\n",
    "missing_values"
   ]
  },
  {
   "cell_type": "markdown",
   "metadata": {},
   "source": [
    "We see that `episode_show_name`,`episode_name`, and `spotify_episode_uri` have the highest null/missing values because only 1.8% of the entire dataset belongs to podcasts, and those three columns are specifically related to podcasts. \n",
    "\n",
    "Additionally, several columns have null percentages exceeding 80% due to most of them containing information derived from the Spotify API dataset (before merging), which only consists of 1000 rows. Consequently, upon merging with the streaming history dataset, numerous values became null. \n",
    "\n",
    "For this reason, I haven't performed any missing value handling yet."
   ]
  },
  {
   "cell_type": "markdown",
   "metadata": {},
   "source": [
    "### **Features List**"
   ]
  },
  {
   "cell_type": "code",
   "execution_count": 175,
   "metadata": {},
   "outputs": [
    {
     "name": "stdout",
     "output_type": "stream",
     "text": [
      "List of numerical featues ['ms_played', 'offline_timestamp', 'length', 'track_popularity', 'acousticness', 'danceability', 'energy', 'instrumentalness', 'liveness', 'speechiness', 'loudness', 'mode', 'tempo', 'time_signature']\n"
     ]
    }
   ],
   "source": [
    "# List numerical features in streaming history music dataframe\n",
    "numerical_features = list(spotify_data.select_dtypes(include=['int64','float64']).columns)\n",
    "print('List of numerical featues {}'.format(numerical_features))"
   ]
  },
  {
   "cell_type": "code",
   "execution_count": 176,
   "metadata": {},
   "outputs": [
    {
     "name": "stdout",
     "output_type": "stream",
     "text": [
      "List of categorical featues ['platform', 'master_metadata_track_name', 'master_metadata_album_artist_name', 'master_metadata_album_album_name', 'episode_name', 'episode_show_name', 'spotify_episode_uri', 'reason_start', 'reason_end', 'skipped', 'track_uri', 'track_id', 'track_name', 'release_date', 'album_id', 'album_name', 'artist_name']\n"
     ]
    }
   ],
   "source": [
    "# List categorical features\n",
    "categorical_features = list(spotify_data.select_dtypes(include=['object']).columns)\n",
    "print('List of categorical featues {}'.format(categorical_features))"
   ]
  },
  {
   "cell_type": "markdown",
   "metadata": {},
   "source": [
    "### **Separate Music and Podcast from Streaming History**"
   ]
  },
  {
   "cell_type": "markdown",
   "metadata": {},
   "source": [
    "#### **Music Streaming History**"
   ]
  },
  {
   "cell_type": "code",
   "execution_count": 177,
   "metadata": {},
   "outputs": [],
   "source": [
    "# Make sure the data only includes music history\n",
    "indices_to_drop = spotify_data[spotify_data['episode_name'].notnull() & spotify_data['episode_show_name'].notnull() & spotify_data['spotify_episode_uri'].notnull()].index\n",
    "spotify_music = spotify_data.drop(indices_to_drop)"
   ]
  },
  {
   "cell_type": "code",
   "execution_count": 178,
   "metadata": {},
   "outputs": [],
   "source": [
    "# Remove columns related to podcast\n",
    "spotify_music = spotify_music.drop(columns=['episode_name', 'episode_show_name', 'spotify_episode_uri'])"
   ]
  },
  {
   "cell_type": "code",
   "execution_count": 179,
   "metadata": {},
   "outputs": [
    {
     "name": "stdout",
     "output_type": "stream",
     "text": [
      "<class 'pandas.core.frame.DataFrame'>\n",
      "Index: 127026 entries, 5 to 129290\n",
      "Data columns (total 32 columns):\n",
      " #   Column                             Non-Null Count   Dtype              \n",
      "---  ------                             --------------   -----              \n",
      " 0   ts                                 127026 non-null  datetime64[ns, UTC]\n",
      " 1   platform                           127026 non-null  object             \n",
      " 2   ms_played                          127026 non-null  int64              \n",
      " 3   master_metadata_track_name         126946 non-null  object             \n",
      " 4   master_metadata_album_artist_name  126946 non-null  object             \n",
      " 5   master_metadata_album_album_name   126946 non-null  object             \n",
      " 6   reason_start                       127026 non-null  object             \n",
      " 7   reason_end                         127026 non-null  object             \n",
      " 8   shuffle                            127026 non-null  bool               \n",
      " 9   skipped                            70840 non-null   object             \n",
      " 10  offline                            127026 non-null  bool               \n",
      " 11  offline_timestamp                  127026 non-null  int64              \n",
      " 12  incognito_mode                     127026 non-null  bool               \n",
      " 13  track_uri                          126946 non-null  object             \n",
      " 14  track_id                           19472 non-null   object             \n",
      " 15  track_name                         19472 non-null   object             \n",
      " 16  release_date                       19472 non-null   object             \n",
      " 17  length                             19472 non-null   float64            \n",
      " 18  track_popularity                   19472 non-null   float64            \n",
      " 19  album_id                           19472 non-null   object             \n",
      " 20  album_name                         19472 non-null   object             \n",
      " 21  artist_name                        19472 non-null   object             \n",
      " 22  acousticness                       19472 non-null   float64            \n",
      " 23  danceability                       19472 non-null   float64            \n",
      " 24  energy                             19472 non-null   float64            \n",
      " 25  instrumentalness                   19472 non-null   float64            \n",
      " 26  liveness                           19472 non-null   float64            \n",
      " 27  speechiness                        19472 non-null   float64            \n",
      " 28  loudness                           19472 non-null   float64            \n",
      " 29  mode                               19472 non-null   float64            \n",
      " 30  tempo                              19472 non-null   float64            \n",
      " 31  time_signature                     19472 non-null   float64            \n",
      "dtypes: bool(3), datetime64[ns, UTC](1), float64(12), int64(2), object(14)\n",
      "memory usage: 29.4+ MB\n"
     ]
    }
   ],
   "source": [
    "spotify_music.info()"
   ]
  },
  {
   "cell_type": "code",
   "execution_count": 180,
   "metadata": {},
   "outputs": [
    {
     "data": {
      "text/html": [
       "<div>\n",
       "<style scoped>\n",
       "    .dataframe tbody tr th:only-of-type {\n",
       "        vertical-align: middle;\n",
       "    }\n",
       "\n",
       "    .dataframe tbody tr th {\n",
       "        vertical-align: top;\n",
       "    }\n",
       "\n",
       "    .dataframe thead th {\n",
       "        text-align: right;\n",
       "    }\n",
       "</style>\n",
       "<table border=\"1\" class=\"dataframe\">\n",
       "  <thead>\n",
       "    <tr style=\"text-align: right;\">\n",
       "      <th></th>\n",
       "      <th>ts</th>\n",
       "      <th>platform</th>\n",
       "      <th>ms_played</th>\n",
       "      <th>master_metadata_track_name</th>\n",
       "      <th>master_metadata_album_artist_name</th>\n",
       "      <th>master_metadata_album_album_name</th>\n",
       "      <th>reason_start</th>\n",
       "      <th>reason_end</th>\n",
       "      <th>shuffle</th>\n",
       "      <th>skipped</th>\n",
       "      <th>offline</th>\n",
       "      <th>offline_timestamp</th>\n",
       "      <th>incognito_mode</th>\n",
       "      <th>track_uri</th>\n",
       "      <th>track_id</th>\n",
       "      <th>track_name</th>\n",
       "      <th>release_date</th>\n",
       "      <th>length</th>\n",
       "      <th>track_popularity</th>\n",
       "      <th>album_id</th>\n",
       "      <th>album_name</th>\n",
       "      <th>artist_name</th>\n",
       "      <th>acousticness</th>\n",
       "      <th>danceability</th>\n",
       "      <th>energy</th>\n",
       "      <th>instrumentalness</th>\n",
       "      <th>liveness</th>\n",
       "      <th>speechiness</th>\n",
       "      <th>loudness</th>\n",
       "      <th>mode</th>\n",
       "      <th>tempo</th>\n",
       "      <th>time_signature</th>\n",
       "    </tr>\n",
       "  </thead>\n",
       "  <tbody>\n",
       "    <tr>\n",
       "      <th>5</th>\n",
       "      <td>2019-02-09 14:54:58+00:00</td>\n",
       "      <td>Android</td>\n",
       "      <td>47292</td>\n",
       "      <td>A Sky Full of Stars - Live at the Royal Albert...</td>\n",
       "      <td>Coldplay</td>\n",
       "      <td>Ghost Stories Live 2014</td>\n",
       "      <td>appload</td>\n",
       "      <td>endplay</td>\n",
       "      <td>True</td>\n",
       "      <td>NaN</td>\n",
       "      <td>False</td>\n",
       "      <td>1549724033458</td>\n",
       "      <td>False</td>\n",
       "      <td>2WXTF0qgKbczC2O8VymeLO</td>\n",
       "      <td>NaN</td>\n",
       "      <td>NaN</td>\n",
       "      <td>NaN</td>\n",
       "      <td>NaN</td>\n",
       "      <td>NaN</td>\n",
       "      <td>NaN</td>\n",
       "      <td>NaN</td>\n",
       "      <td>NaN</td>\n",
       "      <td>NaN</td>\n",
       "      <td>NaN</td>\n",
       "      <td>NaN</td>\n",
       "      <td>NaN</td>\n",
       "      <td>NaN</td>\n",
       "      <td>NaN</td>\n",
       "      <td>NaN</td>\n",
       "      <td>NaN</td>\n",
       "      <td>NaN</td>\n",
       "      <td>NaN</td>\n",
       "    </tr>\n",
       "    <tr>\n",
       "      <th>6</th>\n",
       "      <td>2019-02-09 14:55:31+00:00</td>\n",
       "      <td>Android</td>\n",
       "      <td>30126</td>\n",
       "      <td>Noi siamo infinito</td>\n",
       "      <td>Alessio Bernabei</td>\n",
       "      <td>Noi siamo infinito</td>\n",
       "      <td>clickrow</td>\n",
       "      <td>endplay</td>\n",
       "      <td>True</td>\n",
       "      <td>NaN</td>\n",
       "      <td>False</td>\n",
       "      <td>1549724096707</td>\n",
       "      <td>False</td>\n",
       "      <td>3mBROtKxM1QTRv98X1dArZ</td>\n",
       "      <td>NaN</td>\n",
       "      <td>NaN</td>\n",
       "      <td>NaN</td>\n",
       "      <td>NaN</td>\n",
       "      <td>NaN</td>\n",
       "      <td>NaN</td>\n",
       "      <td>NaN</td>\n",
       "      <td>NaN</td>\n",
       "      <td>NaN</td>\n",
       "      <td>NaN</td>\n",
       "      <td>NaN</td>\n",
       "      <td>NaN</td>\n",
       "      <td>NaN</td>\n",
       "      <td>NaN</td>\n",
       "      <td>NaN</td>\n",
       "      <td>NaN</td>\n",
       "      <td>NaN</td>\n",
       "      <td>NaN</td>\n",
       "    </tr>\n",
       "    <tr>\n",
       "      <th>7</th>\n",
       "      <td>2019-02-09 14:56:14+00:00</td>\n",
       "      <td>Android</td>\n",
       "      <td>40875</td>\n",
       "      <td>Sediakala</td>\n",
       "      <td>Dialog Dini Hari</td>\n",
       "      <td>Sediakala</td>\n",
       "      <td>appload</td>\n",
       "      <td>endplay</td>\n",
       "      <td>True</td>\n",
       "      <td>NaN</td>\n",
       "      <td>False</td>\n",
       "      <td>1549724131761</td>\n",
       "      <td>False</td>\n",
       "      <td>7rXlplJTbAB1gqGZtlWvR5</td>\n",
       "      <td>NaN</td>\n",
       "      <td>NaN</td>\n",
       "      <td>NaN</td>\n",
       "      <td>NaN</td>\n",
       "      <td>NaN</td>\n",
       "      <td>NaN</td>\n",
       "      <td>NaN</td>\n",
       "      <td>NaN</td>\n",
       "      <td>NaN</td>\n",
       "      <td>NaN</td>\n",
       "      <td>NaN</td>\n",
       "      <td>NaN</td>\n",
       "      <td>NaN</td>\n",
       "      <td>NaN</td>\n",
       "      <td>NaN</td>\n",
       "      <td>NaN</td>\n",
       "      <td>NaN</td>\n",
       "      <td>NaN</td>\n",
       "    </tr>\n",
       "    <tr>\n",
       "      <th>8</th>\n",
       "      <td>2019-02-09 14:56:58+00:00</td>\n",
       "      <td>Android</td>\n",
       "      <td>42898</td>\n",
       "      <td>Garis Terdepan</td>\n",
       "      <td>Fiersa Besari</td>\n",
       "      <td>Konspirasi Alam Semesta</td>\n",
       "      <td>clickrow</td>\n",
       "      <td>endplay</td>\n",
       "      <td>True</td>\n",
       "      <td>NaN</td>\n",
       "      <td>False</td>\n",
       "      <td>1549724173484</td>\n",
       "      <td>False</td>\n",
       "      <td>5LjtZJr2XsaeEdieJ5rrcS</td>\n",
       "      <td>NaN</td>\n",
       "      <td>NaN</td>\n",
       "      <td>NaN</td>\n",
       "      <td>NaN</td>\n",
       "      <td>NaN</td>\n",
       "      <td>NaN</td>\n",
       "      <td>NaN</td>\n",
       "      <td>NaN</td>\n",
       "      <td>NaN</td>\n",
       "      <td>NaN</td>\n",
       "      <td>NaN</td>\n",
       "      <td>NaN</td>\n",
       "      <td>NaN</td>\n",
       "      <td>NaN</td>\n",
       "      <td>NaN</td>\n",
       "      <td>NaN</td>\n",
       "      <td>NaN</td>\n",
       "      <td>NaN</td>\n",
       "    </tr>\n",
       "    <tr>\n",
       "      <th>9</th>\n",
       "      <td>2019-02-09 14:57:36+00:00</td>\n",
       "      <td>Android</td>\n",
       "      <td>34332</td>\n",
       "      <td>Kata Hilang Makna</td>\n",
       "      <td>Yura Yunita</td>\n",
       "      <td>Merakit</td>\n",
       "      <td>appload</td>\n",
       "      <td>endplay</td>\n",
       "      <td>True</td>\n",
       "      <td>NaN</td>\n",
       "      <td>False</td>\n",
       "      <td>1549724219564</td>\n",
       "      <td>False</td>\n",
       "      <td>1jAF90jCmaSnAkcWHTHP0t</td>\n",
       "      <td>NaN</td>\n",
       "      <td>NaN</td>\n",
       "      <td>NaN</td>\n",
       "      <td>NaN</td>\n",
       "      <td>NaN</td>\n",
       "      <td>NaN</td>\n",
       "      <td>NaN</td>\n",
       "      <td>NaN</td>\n",
       "      <td>NaN</td>\n",
       "      <td>NaN</td>\n",
       "      <td>NaN</td>\n",
       "      <td>NaN</td>\n",
       "      <td>NaN</td>\n",
       "      <td>NaN</td>\n",
       "      <td>NaN</td>\n",
       "      <td>NaN</td>\n",
       "      <td>NaN</td>\n",
       "      <td>NaN</td>\n",
       "    </tr>\n",
       "  </tbody>\n",
       "</table>\n",
       "</div>"
      ],
      "text/plain": [
       "                         ts platform  ms_played                         master_metadata_track_name master_metadata_album_artist_name master_metadata_album_album_name reason_start reason_end  shuffle skipped  offline  offline_timestamp  incognito_mode               track_uri track_id track_name release_date  length  track_popularity album_id album_name artist_name  acousticness  danceability  energy  instrumentalness  liveness  speechiness  loudness  mode  tempo  time_signature\n",
       "5 2019-02-09 14:54:58+00:00  Android      47292  A Sky Full of Stars - Live at the Royal Albert...                          Coldplay          Ghost Stories Live 2014      appload    endplay     True     NaN    False      1549724033458           False  2WXTF0qgKbczC2O8VymeLO      NaN        NaN          NaN     NaN               NaN      NaN        NaN         NaN           NaN           NaN     NaN               NaN       NaN          NaN       NaN   NaN    NaN             NaN\n",
       "6 2019-02-09 14:55:31+00:00  Android      30126                                 Noi siamo infinito                  Alessio Bernabei               Noi siamo infinito     clickrow    endplay     True     NaN    False      1549724096707           False  3mBROtKxM1QTRv98X1dArZ      NaN        NaN          NaN     NaN               NaN      NaN        NaN         NaN           NaN           NaN     NaN               NaN       NaN          NaN       NaN   NaN    NaN             NaN\n",
       "7 2019-02-09 14:56:14+00:00  Android      40875                                          Sediakala                  Dialog Dini Hari                        Sediakala      appload    endplay     True     NaN    False      1549724131761           False  7rXlplJTbAB1gqGZtlWvR5      NaN        NaN          NaN     NaN               NaN      NaN        NaN         NaN           NaN           NaN     NaN               NaN       NaN          NaN       NaN   NaN    NaN             NaN\n",
       "8 2019-02-09 14:56:58+00:00  Android      42898                                     Garis Terdepan                     Fiersa Besari          Konspirasi Alam Semesta     clickrow    endplay     True     NaN    False      1549724173484           False  5LjtZJr2XsaeEdieJ5rrcS      NaN        NaN          NaN     NaN               NaN      NaN        NaN         NaN           NaN           NaN     NaN               NaN       NaN          NaN       NaN   NaN    NaN             NaN\n",
       "9 2019-02-09 14:57:36+00:00  Android      34332                                  Kata Hilang Makna                       Yura Yunita                          Merakit      appload    endplay     True     NaN    False      1549724219564           False  1jAF90jCmaSnAkcWHTHP0t      NaN        NaN          NaN     NaN               NaN      NaN        NaN         NaN           NaN           NaN     NaN               NaN       NaN          NaN       NaN   NaN    NaN             NaN"
      ]
     },
     "execution_count": 180,
     "metadata": {},
     "output_type": "execute_result"
    }
   ],
   "source": [
    "spotify_music.head()"
   ]
  },
  {
   "cell_type": "markdown",
   "metadata": {},
   "source": [
    "#### **Music Streaming History with Audio Features Detail**"
   ]
  },
  {
   "cell_type": "code",
   "execution_count": 181,
   "metadata": {},
   "outputs": [],
   "source": [
    "# Make sure the data only includes music history\n",
    "spotify_music_audiofeatures = spotify_music.loc[spotify_music['track_id'].notnull()]"
   ]
  },
  {
   "cell_type": "code",
   "execution_count": 182,
   "metadata": {},
   "outputs": [
    {
     "name": "stdout",
     "output_type": "stream",
     "text": [
      "<class 'pandas.core.frame.DataFrame'>\n",
      "Index: 19472 entries, 10 to 129254\n",
      "Data columns (total 32 columns):\n",
      " #   Column                             Non-Null Count  Dtype              \n",
      "---  ------                             --------------  -----              \n",
      " 0   ts                                 19472 non-null  datetime64[ns, UTC]\n",
      " 1   platform                           19472 non-null  object             \n",
      " 2   ms_played                          19472 non-null  int64              \n",
      " 3   master_metadata_track_name         19472 non-null  object             \n",
      " 4   master_metadata_album_artist_name  19472 non-null  object             \n",
      " 5   master_metadata_album_album_name   19472 non-null  object             \n",
      " 6   reason_start                       19472 non-null  object             \n",
      " 7   reason_end                         19472 non-null  object             \n",
      " 8   shuffle                            19472 non-null  bool               \n",
      " 9   skipped                            10992 non-null  object             \n",
      " 10  offline                            19472 non-null  bool               \n",
      " 11  offline_timestamp                  19472 non-null  int64              \n",
      " 12  incognito_mode                     19472 non-null  bool               \n",
      " 13  track_uri                          19472 non-null  object             \n",
      " 14  track_id                           19472 non-null  object             \n",
      " 15  track_name                         19472 non-null  object             \n",
      " 16  release_date                       19472 non-null  object             \n",
      " 17  length                             19472 non-null  float64            \n",
      " 18  track_popularity                   19472 non-null  float64            \n",
      " 19  album_id                           19472 non-null  object             \n",
      " 20  album_name                         19472 non-null  object             \n",
      " 21  artist_name                        19472 non-null  object             \n",
      " 22  acousticness                       19472 non-null  float64            \n",
      " 23  danceability                       19472 non-null  float64            \n",
      " 24  energy                             19472 non-null  float64            \n",
      " 25  instrumentalness                   19472 non-null  float64            \n",
      " 26  liveness                           19472 non-null  float64            \n",
      " 27  speechiness                        19472 non-null  float64            \n",
      " 28  loudness                           19472 non-null  float64            \n",
      " 29  mode                               19472 non-null  float64            \n",
      " 30  tempo                              19472 non-null  float64            \n",
      " 31  time_signature                     19472 non-null  float64            \n",
      "dtypes: bool(3), datetime64[ns, UTC](1), float64(12), int64(2), object(14)\n",
      "memory usage: 4.5+ MB\n"
     ]
    }
   ],
   "source": [
    "spotify_music_audiofeatures.info()"
   ]
  },
  {
   "cell_type": "code",
   "execution_count": 183,
   "metadata": {},
   "outputs": [
    {
     "data": {
      "text/html": [
       "<div>\n",
       "<style scoped>\n",
       "    .dataframe tbody tr th:only-of-type {\n",
       "        vertical-align: middle;\n",
       "    }\n",
       "\n",
       "    .dataframe tbody tr th {\n",
       "        vertical-align: top;\n",
       "    }\n",
       "\n",
       "    .dataframe thead th {\n",
       "        text-align: right;\n",
       "    }\n",
       "</style>\n",
       "<table border=\"1\" class=\"dataframe\">\n",
       "  <thead>\n",
       "    <tr style=\"text-align: right;\">\n",
       "      <th></th>\n",
       "      <th>ts</th>\n",
       "      <th>platform</th>\n",
       "      <th>ms_played</th>\n",
       "      <th>master_metadata_track_name</th>\n",
       "      <th>master_metadata_album_artist_name</th>\n",
       "      <th>master_metadata_album_album_name</th>\n",
       "      <th>reason_start</th>\n",
       "      <th>reason_end</th>\n",
       "      <th>shuffle</th>\n",
       "      <th>skipped</th>\n",
       "      <th>offline</th>\n",
       "      <th>offline_timestamp</th>\n",
       "      <th>incognito_mode</th>\n",
       "      <th>track_uri</th>\n",
       "      <th>track_id</th>\n",
       "      <th>track_name</th>\n",
       "      <th>release_date</th>\n",
       "      <th>length</th>\n",
       "      <th>track_popularity</th>\n",
       "      <th>album_id</th>\n",
       "      <th>album_name</th>\n",
       "      <th>artist_name</th>\n",
       "      <th>acousticness</th>\n",
       "      <th>danceability</th>\n",
       "      <th>energy</th>\n",
       "      <th>instrumentalness</th>\n",
       "      <th>liveness</th>\n",
       "      <th>speechiness</th>\n",
       "      <th>loudness</th>\n",
       "      <th>mode</th>\n",
       "      <th>tempo</th>\n",
       "      <th>time_signature</th>\n",
       "    </tr>\n",
       "  </thead>\n",
       "  <tbody>\n",
       "    <tr>\n",
       "      <th>10</th>\n",
       "      <td>2019-02-09 14:57:59+00:00</td>\n",
       "      <td>Android</td>\n",
       "      <td>21886</td>\n",
       "      <td>Untuk Perempuan Yang Sedang Di Pelukan</td>\n",
       "      <td>Payung Teduh</td>\n",
       "      <td>Dunia Batas</td>\n",
       "      <td>clickrow</td>\n",
       "      <td>fwdbtn</td>\n",
       "      <td>True</td>\n",
       "      <td>NaN</td>\n",
       "      <td>False</td>\n",
       "      <td>1549724255489</td>\n",
       "      <td>False</td>\n",
       "      <td>0urpBLpcm6DOGzs86rcKd8</td>\n",
       "      <td>0urpBLpcm6DOGzs86rcKd8</td>\n",
       "      <td>Untuk Perempuan Yang Sedang Di Pelukan</td>\n",
       "      <td>2014-11-04</td>\n",
       "      <td>342000.0</td>\n",
       "      <td>72.0</td>\n",
       "      <td>26FxxaKDiIGxEm549dRtaZ</td>\n",
       "      <td>Dunia Batas</td>\n",
       "      <td>Payung Teduh</td>\n",
       "      <td>0.55200</td>\n",
       "      <td>0.477</td>\n",
       "      <td>0.493</td>\n",
       "      <td>0.003450</td>\n",
       "      <td>0.1020</td>\n",
       "      <td>0.0291</td>\n",
       "      <td>-7.346</td>\n",
       "      <td>1.0</td>\n",
       "      <td>148.984</td>\n",
       "      <td>4.0</td>\n",
       "    </tr>\n",
       "    <tr>\n",
       "      <th>11</th>\n",
       "      <td>2019-02-09 14:58:09+00:00</td>\n",
       "      <td>Android</td>\n",
       "      <td>1638</td>\n",
       "      <td>Yang Patah Tumbuh, Yang Hilang Berganti</td>\n",
       "      <td>Banda Neira</td>\n",
       "      <td>Yang Patah Tumbuh, Yang Hilang Berganti</td>\n",
       "      <td>fwdbtn</td>\n",
       "      <td>fwdbtn</td>\n",
       "      <td>True</td>\n",
       "      <td>NaN</td>\n",
       "      <td>False</td>\n",
       "      <td>1549724278451</td>\n",
       "      <td>False</td>\n",
       "      <td>6Rd4ep779v8CjlFVhaHrNX</td>\n",
       "      <td>6Rd4ep779v8CjlFVhaHrNX</td>\n",
       "      <td>Yang Patah Tumbuh, Yang Hilang Berganti</td>\n",
       "      <td>2016-01-29</td>\n",
       "      <td>393072.0</td>\n",
       "      <td>63.0</td>\n",
       "      <td>1e1NmOduCFHp1z29cSzyMa</td>\n",
       "      <td>Yang Patah Tumbuh, Yang Hilang Berganti</td>\n",
       "      <td>Banda Neira</td>\n",
       "      <td>0.93800</td>\n",
       "      <td>0.353</td>\n",
       "      <td>0.354</td>\n",
       "      <td>0.004070</td>\n",
       "      <td>0.1220</td>\n",
       "      <td>0.0268</td>\n",
       "      <td>-10.850</td>\n",
       "      <td>1.0</td>\n",
       "      <td>96.887</td>\n",
       "      <td>4.0</td>\n",
       "    </tr>\n",
       "    <tr>\n",
       "      <th>19</th>\n",
       "      <td>2019-02-10 00:46:51+00:00</td>\n",
       "      <td>Android</td>\n",
       "      <td>3856</td>\n",
       "      <td>Zona Nyaman (From \"Filosofi Kopi 2: Ben &amp; Jody\")</td>\n",
       "      <td>Fourtwnty</td>\n",
       "      <td>Ego &amp; Fungsi Otak</td>\n",
       "      <td>clickrow</td>\n",
       "      <td>endplay</td>\n",
       "      <td>False</td>\n",
       "      <td>NaN</td>\n",
       "      <td>False</td>\n",
       "      <td>1549759605916</td>\n",
       "      <td>False</td>\n",
       "      <td>4lfAvFv8roumWVKXhHF8uN</td>\n",
       "      <td>4lfAvFv8roumWVKXhHF8uN</td>\n",
       "      <td>Zona Nyaman (From \"Filosofi Kopi 2: Ben &amp; Jody\")</td>\n",
       "      <td>2018-04-20</td>\n",
       "      <td>243413.0</td>\n",
       "      <td>67.0</td>\n",
       "      <td>01PCAiyhBHXTj9KfSigcQz</td>\n",
       "      <td>Ego &amp; Fungsi Otak</td>\n",
       "      <td>Fourtwnty</td>\n",
       "      <td>0.35500</td>\n",
       "      <td>0.515</td>\n",
       "      <td>0.649</td>\n",
       "      <td>0.001550</td>\n",
       "      <td>0.1750</td>\n",
       "      <td>0.0338</td>\n",
       "      <td>-6.278</td>\n",
       "      <td>1.0</td>\n",
       "      <td>120.003</td>\n",
       "      <td>4.0</td>\n",
       "    </tr>\n",
       "    <tr>\n",
       "      <th>20</th>\n",
       "      <td>2019-02-10 00:46:56+00:00</td>\n",
       "      <td>Android</td>\n",
       "      <td>4545</td>\n",
       "      <td>Monokrom</td>\n",
       "      <td>Tulus</td>\n",
       "      <td>Monokrom</td>\n",
       "      <td>clickrow</td>\n",
       "      <td>endplay</td>\n",
       "      <td>False</td>\n",
       "      <td>NaN</td>\n",
       "      <td>False</td>\n",
       "      <td>1549759610209</td>\n",
       "      <td>False</td>\n",
       "      <td>4GfK1qOF3uBWidbPlTCQRL</td>\n",
       "      <td>4GfK1qOF3uBWidbPlTCQRL</td>\n",
       "      <td>Monokrom</td>\n",
       "      <td>2016-08-03</td>\n",
       "      <td>214567.0</td>\n",
       "      <td>76.0</td>\n",
       "      <td>4szhn3xPmOJklFAcqNvTnQ</td>\n",
       "      <td>Monokrom</td>\n",
       "      <td>Tulus</td>\n",
       "      <td>0.57300</td>\n",
       "      <td>0.534</td>\n",
       "      <td>0.462</td>\n",
       "      <td>0.000006</td>\n",
       "      <td>0.0974</td>\n",
       "      <td>0.0326</td>\n",
       "      <td>-9.383</td>\n",
       "      <td>1.0</td>\n",
       "      <td>88.046</td>\n",
       "      <td>4.0</td>\n",
       "    </tr>\n",
       "    <tr>\n",
       "      <th>26</th>\n",
       "      <td>2019-02-10 00:55:25+00:00</td>\n",
       "      <td>Android</td>\n",
       "      <td>34663</td>\n",
       "      <td>Yellow</td>\n",
       "      <td>Coldplay</td>\n",
       "      <td>Parachutes</td>\n",
       "      <td>clickrow</td>\n",
       "      <td>endplay</td>\n",
       "      <td>False</td>\n",
       "      <td>NaN</td>\n",
       "      <td>False</td>\n",
       "      <td>1549760089412</td>\n",
       "      <td>False</td>\n",
       "      <td>3AJwUDP919kvQ9QcozQPxg</td>\n",
       "      <td>3AJwUDP919kvQ9QcozQPxg</td>\n",
       "      <td>Yellow</td>\n",
       "      <td>2000-07-10</td>\n",
       "      <td>266773.0</td>\n",
       "      <td>89.0</td>\n",
       "      <td>6ZG5lRT77aJ3btmArcykra</td>\n",
       "      <td>Parachutes</td>\n",
       "      <td>Coldplay</td>\n",
       "      <td>0.00239</td>\n",
       "      <td>0.429</td>\n",
       "      <td>0.661</td>\n",
       "      <td>0.000121</td>\n",
       "      <td>0.2340</td>\n",
       "      <td>0.0281</td>\n",
       "      <td>-7.227</td>\n",
       "      <td>1.0</td>\n",
       "      <td>173.372</td>\n",
       "      <td>4.0</td>\n",
       "    </tr>\n",
       "  </tbody>\n",
       "</table>\n",
       "</div>"
      ],
      "text/plain": [
       "                          ts platform  ms_played                        master_metadata_track_name master_metadata_album_artist_name         master_metadata_album_album_name reason_start reason_end  shuffle skipped  offline  offline_timestamp  incognito_mode               track_uri                track_id                                        track_name release_date    length  track_popularity                album_id                               album_name   artist_name  acousticness  danceability  energy  instrumentalness  liveness  speechiness  loudness  mode    tempo  time_signature\n",
       "10 2019-02-09 14:57:59+00:00  Android      21886            Untuk Perempuan Yang Sedang Di Pelukan                      Payung Teduh                              Dunia Batas     clickrow     fwdbtn     True     NaN    False      1549724255489           False  0urpBLpcm6DOGzs86rcKd8  0urpBLpcm6DOGzs86rcKd8            Untuk Perempuan Yang Sedang Di Pelukan   2014-11-04  342000.0              72.0  26FxxaKDiIGxEm549dRtaZ                              Dunia Batas  Payung Teduh       0.55200         0.477   0.493          0.003450    0.1020       0.0291    -7.346   1.0  148.984             4.0\n",
       "11 2019-02-09 14:58:09+00:00  Android       1638           Yang Patah Tumbuh, Yang Hilang Berganti                       Banda Neira  Yang Patah Tumbuh, Yang Hilang Berganti       fwdbtn     fwdbtn     True     NaN    False      1549724278451           False  6Rd4ep779v8CjlFVhaHrNX  6Rd4ep779v8CjlFVhaHrNX           Yang Patah Tumbuh, Yang Hilang Berganti   2016-01-29  393072.0              63.0  1e1NmOduCFHp1z29cSzyMa  Yang Patah Tumbuh, Yang Hilang Berganti   Banda Neira       0.93800         0.353   0.354          0.004070    0.1220       0.0268   -10.850   1.0   96.887             4.0\n",
       "19 2019-02-10 00:46:51+00:00  Android       3856  Zona Nyaman (From \"Filosofi Kopi 2: Ben & Jody\")                         Fourtwnty                        Ego & Fungsi Otak     clickrow    endplay    False     NaN    False      1549759605916           False  4lfAvFv8roumWVKXhHF8uN  4lfAvFv8roumWVKXhHF8uN  Zona Nyaman (From \"Filosofi Kopi 2: Ben & Jody\")   2018-04-20  243413.0              67.0  01PCAiyhBHXTj9KfSigcQz                        Ego & Fungsi Otak     Fourtwnty       0.35500         0.515   0.649          0.001550    0.1750       0.0338    -6.278   1.0  120.003             4.0\n",
       "20 2019-02-10 00:46:56+00:00  Android       4545                                          Monokrom                             Tulus                                 Monokrom     clickrow    endplay    False     NaN    False      1549759610209           False  4GfK1qOF3uBWidbPlTCQRL  4GfK1qOF3uBWidbPlTCQRL                                          Monokrom   2016-08-03  214567.0              76.0  4szhn3xPmOJklFAcqNvTnQ                                 Monokrom         Tulus       0.57300         0.534   0.462          0.000006    0.0974       0.0326    -9.383   1.0   88.046             4.0\n",
       "26 2019-02-10 00:55:25+00:00  Android      34663                                            Yellow                          Coldplay                               Parachutes     clickrow    endplay    False     NaN    False      1549760089412           False  3AJwUDP919kvQ9QcozQPxg  3AJwUDP919kvQ9QcozQPxg                                            Yellow   2000-07-10  266773.0              89.0  6ZG5lRT77aJ3btmArcykra                               Parachutes      Coldplay       0.00239         0.429   0.661          0.000121    0.2340       0.0281    -7.227   1.0  173.372             4.0"
      ]
     },
     "execution_count": 183,
     "metadata": {},
     "output_type": "execute_result"
    }
   ],
   "source": [
    "spotify_music_audiofeatures.head()"
   ]
  },
  {
   "cell_type": "code",
   "execution_count": 184,
   "metadata": {},
   "outputs": [
    {
     "name": "stdout",
     "output_type": "stream",
     "text": [
      "Your selected dataframe has 32 columns.\n",
      "There are 1 columns that have missing values.\n"
     ]
    },
    {
     "data": {
      "text/html": [
       "<div>\n",
       "<style scoped>\n",
       "    .dataframe tbody tr th:only-of-type {\n",
       "        vertical-align: middle;\n",
       "    }\n",
       "\n",
       "    .dataframe tbody tr th {\n",
       "        vertical-align: top;\n",
       "    }\n",
       "\n",
       "    .dataframe thead th {\n",
       "        text-align: right;\n",
       "    }\n",
       "</style>\n",
       "<table border=\"1\" class=\"dataframe\">\n",
       "  <thead>\n",
       "    <tr style=\"text-align: right;\">\n",
       "      <th></th>\n",
       "      <th>Missing Values</th>\n",
       "      <th>% of Total Values</th>\n",
       "    </tr>\n",
       "  </thead>\n",
       "  <tbody>\n",
       "    <tr>\n",
       "      <th>skipped</th>\n",
       "      <td>8480</td>\n",
       "      <td>43.5</td>\n",
       "    </tr>\n",
       "  </tbody>\n",
       "</table>\n",
       "</div>"
      ],
      "text/plain": [
       "         Missing Values  % of Total Values\n",
       "skipped            8480               43.5"
      ]
     },
     "execution_count": 184,
     "metadata": {},
     "output_type": "execute_result"
    }
   ],
   "source": [
    "missing_values_table(spotify_music_audiofeatures)"
   ]
  },
  {
   "cell_type": "code",
   "execution_count": 185,
   "metadata": {},
   "outputs": [
    {
     "data": {
      "text/plain": [
       "dtype('O')"
      ]
     },
     "execution_count": 185,
     "metadata": {},
     "output_type": "execute_result"
    }
   ],
   "source": [
    "spotify_music_audiofeatures['skipped'].dtypes"
   ]
  },
  {
   "cell_type": "code",
   "execution_count": 186,
   "metadata": {},
   "outputs": [
    {
     "data": {
      "text/plain": [
       "skipped\n",
       "False    5842\n",
       "0.0      2346\n",
       "True     1950\n",
       "1.0       854\n",
       "Name: count, dtype: int64"
      ]
     },
     "execution_count": 186,
     "metadata": {},
     "output_type": "execute_result"
    }
   ],
   "source": [
    "spotify_music_audiofeatures['skipped'].value_counts()"
   ]
  },
  {
   "cell_type": "code",
   "execution_count": 187,
   "metadata": {},
   "outputs": [],
   "source": [
    "spotify_music_audiofeatures['skipped'] = spotify_music_audiofeatures['skipped'].replace({'False': 'False', 'True': 'True', '0.0': 'False', '1.0': 'True'})"
   ]
  },
  {
   "cell_type": "code",
   "execution_count": 188,
   "metadata": {},
   "outputs": [
    {
     "data": {
      "text/plain": [
       "skipped\n",
       "False    8188\n",
       "True     2804\n",
       "Name: count, dtype: int64"
      ]
     },
     "execution_count": 188,
     "metadata": {},
     "output_type": "execute_result"
    }
   ],
   "source": [
    "spotify_music_audiofeatures['skipped'].value_counts()"
   ]
  },
  {
   "cell_type": "code",
   "execution_count": 189,
   "metadata": {},
   "outputs": [
    {
     "name": "stdout",
     "output_type": "stream",
     "text": [
      "Your selected dataframe has 32 columns.\n",
      "There are 1 columns that have missing values.\n"
     ]
    },
    {
     "data": {
      "text/html": [
       "<div>\n",
       "<style scoped>\n",
       "    .dataframe tbody tr th:only-of-type {\n",
       "        vertical-align: middle;\n",
       "    }\n",
       "\n",
       "    .dataframe tbody tr th {\n",
       "        vertical-align: top;\n",
       "    }\n",
       "\n",
       "    .dataframe thead th {\n",
       "        text-align: right;\n",
       "    }\n",
       "</style>\n",
       "<table border=\"1\" class=\"dataframe\">\n",
       "  <thead>\n",
       "    <tr style=\"text-align: right;\">\n",
       "      <th></th>\n",
       "      <th>Missing Values</th>\n",
       "      <th>% of Total Values</th>\n",
       "    </tr>\n",
       "  </thead>\n",
       "  <tbody>\n",
       "    <tr>\n",
       "      <th>skipped</th>\n",
       "      <td>8480</td>\n",
       "      <td>43.5</td>\n",
       "    </tr>\n",
       "  </tbody>\n",
       "</table>\n",
       "</div>"
      ],
      "text/plain": [
       "         Missing Values  % of Total Values\n",
       "skipped            8480               43.5"
      ]
     },
     "execution_count": 189,
     "metadata": {},
     "output_type": "execute_result"
    }
   ],
   "source": [
    "missing_values_table(spotify_music_audiofeatures)"
   ]
  },
  {
   "cell_type": "code",
   "execution_count": 190,
   "metadata": {},
   "outputs": [],
   "source": [
    "skipped_mode = spotify_music_audiofeatures['skipped'].mode()[0]\n",
    "spotify_music_audiofeatures['skipped'].fillna(skipped_mode, inplace=True)"
   ]
  },
  {
   "cell_type": "code",
   "execution_count": 191,
   "metadata": {},
   "outputs": [
    {
     "name": "stdout",
     "output_type": "stream",
     "text": [
      "Your selected dataframe has 32 columns.\n",
      "There are 0 columns that have missing values.\n"
     ]
    },
    {
     "data": {
      "text/html": [
       "<div>\n",
       "<style scoped>\n",
       "    .dataframe tbody tr th:only-of-type {\n",
       "        vertical-align: middle;\n",
       "    }\n",
       "\n",
       "    .dataframe tbody tr th {\n",
       "        vertical-align: top;\n",
       "    }\n",
       "\n",
       "    .dataframe thead th {\n",
       "        text-align: right;\n",
       "    }\n",
       "</style>\n",
       "<table border=\"1\" class=\"dataframe\">\n",
       "  <thead>\n",
       "    <tr style=\"text-align: right;\">\n",
       "      <th></th>\n",
       "      <th>Missing Values</th>\n",
       "      <th>% of Total Values</th>\n",
       "    </tr>\n",
       "  </thead>\n",
       "  <tbody>\n",
       "  </tbody>\n",
       "</table>\n",
       "</div>"
      ],
      "text/plain": [
       "Empty DataFrame\n",
       "Columns: [Missing Values, % of Total Values]\n",
       "Index: []"
      ]
     },
     "execution_count": 191,
     "metadata": {},
     "output_type": "execute_result"
    }
   ],
   "source": [
    "missing_values_table(spotify_music_audiofeatures)"
   ]
  },
  {
   "cell_type": "code",
   "execution_count": 192,
   "metadata": {},
   "outputs": [
    {
     "data": {
      "text/plain": [
       "skipped\n",
       "False    16668\n",
       "True      2804\n",
       "Name: count, dtype: int64"
      ]
     },
     "execution_count": 192,
     "metadata": {},
     "output_type": "execute_result"
    }
   ],
   "source": [
    "spotify_music_audiofeatures['skipped'].value_counts()"
   ]
  },
  {
   "cell_type": "code",
   "execution_count": 193,
   "metadata": {},
   "outputs": [
    {
     "data": {
      "text/plain": [
       "False    17016\n",
       "True      2456\n",
       "Name: count, dtype: int64"
      ]
     },
     "execution_count": 193,
     "metadata": {},
     "output_type": "execute_result"
    }
   ],
   "source": [
    "spotify_music_audiofeatures.duplicated().value_counts()"
   ]
  },
  {
   "cell_type": "markdown",
   "metadata": {},
   "source": [
    "#### **Podcast Streaming History**"
   ]
  },
  {
   "cell_type": "code",
   "execution_count": 194,
   "metadata": {},
   "outputs": [],
   "source": [
    "# Subset of columns included in the podcast streaming history\n",
    "podcast_columns = ['ts', 'platform', 'ms_played', 'episode_name', 'episode_show_name', 'spotify_episode_uri', 'reason_start', 'reason_end', 'shuffle', 'skipped', 'offline', 'offline_timestamp', 'incognito_mode']"
   ]
  },
  {
   "cell_type": "code",
   "execution_count": 195,
   "metadata": {},
   "outputs": [],
   "source": [
    "spotify_podcast = spotify_data[podcast_columns].copy()"
   ]
  },
  {
   "cell_type": "code",
   "execution_count": 196,
   "metadata": {},
   "outputs": [
    {
     "name": "stdout",
     "output_type": "stream",
     "text": [
      "<class 'pandas.core.frame.DataFrame'>\n",
      "RangeIndex: 129291 entries, 0 to 129290\n",
      "Data columns (total 13 columns):\n",
      " #   Column               Non-Null Count   Dtype              \n",
      "---  ------               --------------   -----              \n",
      " 0   ts                   129291 non-null  datetime64[ns, UTC]\n",
      " 1   platform             129291 non-null  object             \n",
      " 2   ms_played            129291 non-null  int64              \n",
      " 3   episode_name         2268 non-null    object             \n",
      " 4   episode_show_name    2265 non-null    object             \n",
      " 5   spotify_episode_uri  2268 non-null    object             \n",
      " 6   reason_start         129291 non-null  object             \n",
      " 7   reason_end           129291 non-null  object             \n",
      " 8   shuffle              129291 non-null  bool               \n",
      " 9   skipped              71953 non-null   object             \n",
      " 10  offline              129291 non-null  bool               \n",
      " 11  offline_timestamp    129291 non-null  int64              \n",
      " 12  incognito_mode       129291 non-null  bool               \n",
      "dtypes: bool(3), datetime64[ns, UTC](1), int64(2), object(7)\n",
      "memory usage: 10.2+ MB\n"
     ]
    }
   ],
   "source": [
    "spotify_podcast.info()"
   ]
  },
  {
   "cell_type": "code",
   "execution_count": 197,
   "metadata": {},
   "outputs": [],
   "source": [
    "# Make sure the data only includes podcast history\n",
    "spotify_podcast = spotify_podcast.dropna(subset=['spotify_episode_uri'])"
   ]
  },
  {
   "cell_type": "code",
   "execution_count": 198,
   "metadata": {},
   "outputs": [
    {
     "name": "stdout",
     "output_type": "stream",
     "text": [
      "<class 'pandas.core.frame.DataFrame'>\n",
      "Index: 2268 entries, 0 to 129198\n",
      "Data columns (total 13 columns):\n",
      " #   Column               Non-Null Count  Dtype              \n",
      "---  ------               --------------  -----              \n",
      " 0   ts                   2268 non-null   datetime64[ns, UTC]\n",
      " 1   platform             2268 non-null   object             \n",
      " 2   ms_played            2268 non-null   int64              \n",
      " 3   episode_name         2268 non-null   object             \n",
      " 4   episode_show_name    2265 non-null   object             \n",
      " 5   spotify_episode_uri  2268 non-null   object             \n",
      " 6   reason_start         2268 non-null   object             \n",
      " 7   reason_end           2268 non-null   object             \n",
      " 8   shuffle              2268 non-null   bool               \n",
      " 9   skipped              1113 non-null   object             \n",
      " 10  offline              2268 non-null   bool               \n",
      " 11  offline_timestamp    2268 non-null   int64              \n",
      " 12  incognito_mode       2268 non-null   bool               \n",
      "dtypes: bool(3), datetime64[ns, UTC](1), int64(2), object(7)\n",
      "memory usage: 201.6+ KB\n"
     ]
    }
   ],
   "source": [
    "spotify_podcast.info()"
   ]
  },
  {
   "cell_type": "code",
   "execution_count": 199,
   "metadata": {},
   "outputs": [
    {
     "data": {
      "text/html": [
       "<div>\n",
       "<style scoped>\n",
       "    .dataframe tbody tr th:only-of-type {\n",
       "        vertical-align: middle;\n",
       "    }\n",
       "\n",
       "    .dataframe tbody tr th {\n",
       "        vertical-align: top;\n",
       "    }\n",
       "\n",
       "    .dataframe thead th {\n",
       "        text-align: right;\n",
       "    }\n",
       "</style>\n",
       "<table border=\"1\" class=\"dataframe\">\n",
       "  <thead>\n",
       "    <tr style=\"text-align: right;\">\n",
       "      <th></th>\n",
       "      <th>ts</th>\n",
       "      <th>platform</th>\n",
       "      <th>ms_played</th>\n",
       "      <th>episode_name</th>\n",
       "      <th>episode_show_name</th>\n",
       "      <th>spotify_episode_uri</th>\n",
       "      <th>reason_start</th>\n",
       "      <th>reason_end</th>\n",
       "      <th>shuffle</th>\n",
       "      <th>skipped</th>\n",
       "      <th>offline</th>\n",
       "      <th>offline_timestamp</th>\n",
       "      <th>incognito_mode</th>\n",
       "    </tr>\n",
       "  </thead>\n",
       "  <tbody>\n",
       "    <tr>\n",
       "      <th>0</th>\n",
       "      <td>2019-02-08 22:51:39+00:00</td>\n",
       "      <td>Android</td>\n",
       "      <td>31267</td>\n",
       "      <td>8 - \"Taste\" by Rebecca Woodmass</td>\n",
       "      <td>A Little Poem with Rebecca Woodmass</td>\n",
       "      <td>spotify:episode:0lY0dPwAfZoPgSepp1eCrp</td>\n",
       "      <td>clickrow</td>\n",
       "      <td>endplay</td>\n",
       "      <td>False</td>\n",
       "      <td>NaN</td>\n",
       "      <td>False</td>\n",
       "      <td>1549666235287</td>\n",
       "      <td>False</td>\n",
       "    </tr>\n",
       "    <tr>\n",
       "      <th>1</th>\n",
       "      <td>2019-02-09 03:50:12+00:00</td>\n",
       "      <td>Android</td>\n",
       "      <td>5463</td>\n",
       "      <td>What your breath could reveal about your healt...</td>\n",
       "      <td>TED Talks Daily</td>\n",
       "      <td>spotify:episode:6v0Fw2ov3RclzEFoG68roa</td>\n",
       "      <td>clickrow</td>\n",
       "      <td>unexpected-exit-while-paused</td>\n",
       "      <td>False</td>\n",
       "      <td>NaN</td>\n",
       "      <td>False</td>\n",
       "      <td>1549666299325</td>\n",
       "      <td>False</td>\n",
       "    </tr>\n",
       "    <tr>\n",
       "      <th>2</th>\n",
       "      <td>2019-02-09 03:50:33+00:00</td>\n",
       "      <td>Android</td>\n",
       "      <td>5463</td>\n",
       "      <td>What your breath could reveal about your healt...</td>\n",
       "      <td>TED Talks Daily</td>\n",
       "      <td>spotify:episode:6v0Fw2ov3RclzEFoG68roa</td>\n",
       "      <td>clickrow</td>\n",
       "      <td>unexpected-exit-while-paused</td>\n",
       "      <td>False</td>\n",
       "      <td>NaN</td>\n",
       "      <td>False</td>\n",
       "      <td>1549666299325</td>\n",
       "      <td>False</td>\n",
       "    </tr>\n",
       "    <tr>\n",
       "      <th>3</th>\n",
       "      <td>2019-02-09 03:50:51+00:00</td>\n",
       "      <td>Android</td>\n",
       "      <td>5463</td>\n",
       "      <td>What your breath could reveal about your healt...</td>\n",
       "      <td>TED Talks Daily</td>\n",
       "      <td>spotify:episode:6v0Fw2ov3RclzEFoG68roa</td>\n",
       "      <td>clickrow</td>\n",
       "      <td>unexpected-exit-while-paused</td>\n",
       "      <td>False</td>\n",
       "      <td>NaN</td>\n",
       "      <td>False</td>\n",
       "      <td>1549666299325</td>\n",
       "      <td>False</td>\n",
       "    </tr>\n",
       "    <tr>\n",
       "      <th>4</th>\n",
       "      <td>2019-02-09 11:05:55+00:00</td>\n",
       "      <td>Android</td>\n",
       "      <td>77742</td>\n",
       "      <td>What your breath could reveal about your healt...</td>\n",
       "      <td>TED Talks Daily</td>\n",
       "      <td>spotify:episode:6v0Fw2ov3RclzEFoG68roa</td>\n",
       "      <td>appload</td>\n",
       "      <td>logout</td>\n",
       "      <td>False</td>\n",
       "      <td>NaN</td>\n",
       "      <td>False</td>\n",
       "      <td>1549710054124</td>\n",
       "      <td>False</td>\n",
       "    </tr>\n",
       "  </tbody>\n",
       "</table>\n",
       "</div>"
      ],
      "text/plain": [
       "                         ts platform  ms_played                                       episode_name                    episode_show_name                     spotify_episode_uri reason_start                    reason_end  shuffle skipped  offline  offline_timestamp  incognito_mode\n",
       "0 2019-02-08 22:51:39+00:00  Android      31267                    8 - \"Taste\" by Rebecca Woodmass  A Little Poem with Rebecca Woodmass  spotify:episode:0lY0dPwAfZoPgSepp1eCrp     clickrow                       endplay    False     NaN    False      1549666235287           False\n",
       "1 2019-02-09 03:50:12+00:00  Android       5463  What your breath could reveal about your healt...                      TED Talks Daily  spotify:episode:6v0Fw2ov3RclzEFoG68roa     clickrow  unexpected-exit-while-paused    False     NaN    False      1549666299325           False\n",
       "2 2019-02-09 03:50:33+00:00  Android       5463  What your breath could reveal about your healt...                      TED Talks Daily  spotify:episode:6v0Fw2ov3RclzEFoG68roa     clickrow  unexpected-exit-while-paused    False     NaN    False      1549666299325           False\n",
       "3 2019-02-09 03:50:51+00:00  Android       5463  What your breath could reveal about your healt...                      TED Talks Daily  spotify:episode:6v0Fw2ov3RclzEFoG68roa     clickrow  unexpected-exit-while-paused    False     NaN    False      1549666299325           False\n",
       "4 2019-02-09 11:05:55+00:00  Android      77742  What your breath could reveal about your healt...                      TED Talks Daily  spotify:episode:6v0Fw2ov3RclzEFoG68roa      appload                        logout    False     NaN    False      1549710054124           False"
      ]
     },
     "execution_count": 199,
     "metadata": {},
     "output_type": "execute_result"
    }
   ],
   "source": [
    "spotify_podcast.head()"
   ]
  },
  {
   "cell_type": "code",
   "execution_count": 200,
   "metadata": {},
   "outputs": [
    {
     "name": "stdout",
     "output_type": "stream",
     "text": [
      "Your selected dataframe has 13 columns.\n",
      "There are 2 columns that have missing values.\n"
     ]
    },
    {
     "data": {
      "text/html": [
       "<div>\n",
       "<style scoped>\n",
       "    .dataframe tbody tr th:only-of-type {\n",
       "        vertical-align: middle;\n",
       "    }\n",
       "\n",
       "    .dataframe tbody tr th {\n",
       "        vertical-align: top;\n",
       "    }\n",
       "\n",
       "    .dataframe thead th {\n",
       "        text-align: right;\n",
       "    }\n",
       "</style>\n",
       "<table border=\"1\" class=\"dataframe\">\n",
       "  <thead>\n",
       "    <tr style=\"text-align: right;\">\n",
       "      <th></th>\n",
       "      <th>Missing Values</th>\n",
       "      <th>% of Total Values</th>\n",
       "    </tr>\n",
       "  </thead>\n",
       "  <tbody>\n",
       "    <tr>\n",
       "      <th>skipped</th>\n",
       "      <td>1155</td>\n",
       "      <td>50.9</td>\n",
       "    </tr>\n",
       "    <tr>\n",
       "      <th>episode_show_name</th>\n",
       "      <td>3</td>\n",
       "      <td>0.1</td>\n",
       "    </tr>\n",
       "  </tbody>\n",
       "</table>\n",
       "</div>"
      ],
      "text/plain": [
       "                   Missing Values  % of Total Values\n",
       "skipped                      1155               50.9\n",
       "episode_show_name               3                0.1"
      ]
     },
     "execution_count": 200,
     "metadata": {},
     "output_type": "execute_result"
    }
   ],
   "source": [
    "missing_values = missing_values_table(spotify_podcast)\n",
    "missing_values"
   ]
  },
  {
   "cell_type": "markdown",
   "metadata": {},
   "source": [
    "## **Exploratory Data Analysis**"
   ]
  },
  {
   "cell_type": "markdown",
   "metadata": {},
   "source": [
    "### **`Audio` Streaming Analysis**"
   ]
  },
  {
   "cell_type": "markdown",
   "metadata": {},
   "source": [
    "#### **Yearly `audio` streaming trend**"
   ]
  },
  {
   "cell_type": "code",
   "execution_count": 201,
   "metadata": {},
   "outputs": [
    {
     "data": {
      "image/svg+xml": [
       "<svg class=\"main-svg\" xmlns=\"http://www.w3.org/2000/svg\" xmlns:xlink=\"http://www.w3.org/1999/xlink\" width=\"1000\" height=\"500\" style=\"\" viewBox=\"0 0 1000 500\"><rect x=\"0\" y=\"0\" width=\"1000\" height=\"500\" style=\"fill: rgb(255, 255, 255); fill-opacity: 1;\"/><defs id=\"defs-2f04e1\"><g class=\"clips\"><clipPath id=\"clip2f04e1xyplot\" class=\"plotclip\"><rect width=\"840\" height=\"320\"/></clipPath><clipPath class=\"axesclip\" id=\"clip2f04e1x\"><rect x=\"80\" y=\"0\" width=\"840\" height=\"500\"/></clipPath><clipPath class=\"axesclip\" id=\"clip2f04e1y\"><rect x=\"0\" y=\"100\" width=\"1000\" height=\"320\"/></clipPath><clipPath class=\"axesclip\" id=\"clip2f04e1xy\"><rect x=\"80\" y=\"100\" width=\"840\" height=\"320\"/></clipPath></g><g class=\"gradients\"/><g class=\"patterns\"/></defs><g class=\"bglayer\"><rect class=\"bg\" x=\"80\" y=\"100\" width=\"840\" height=\"320\" style=\"fill: rgb(229, 236, 246); fill-opacity: 1; stroke-width: 0;\"/></g><g class=\"layer-below\"><g class=\"imagelayer\"/><g class=\"shapelayer\"><g class=\"shape-group\" data-index=\"0\" clip-path=\"url(#clip2f04e1x)\"><path data-index=\"0\" fill-rule=\"evenodd\" d=\"M653.89,420H703.44V100H653.89Z\" style=\"opacity: 1; stroke: rgb(0, 0, 0); stroke-opacity: 0; fill: rgb(0, 255, 0); fill-opacity: 0.2; stroke-width: 0px;\"/></g></g></g><g class=\"cartesianlayer\"><g class=\"subplot xy\"><g class=\"layer-subplot\"><g class=\"shapelayer\"/><g class=\"imagelayer\"/></g><g class=\"minor-gridlayer\"><g class=\"x\"/><g class=\"y\"/></g><g class=\"gridlayer\"><g class=\"x\"><path class=\"xgrid crisp\" transform=\"translate(102.38,0)\" d=\"M0,100v320\" style=\"stroke: rgb(255, 255, 255); stroke-opacity: 1; stroke-width: 1px;\"/><path class=\"xgrid crisp\" transform=\"translate(249.43,0)\" d=\"M0,100v320\" style=\"stroke: rgb(255, 255, 255); stroke-opacity: 1; stroke-width: 1px;\"/><path class=\"xgrid crisp\" transform=\"translate(396.87,0)\" d=\"M0,100v320\" style=\"stroke: rgb(255, 255, 255); stroke-opacity: 1; stroke-width: 1px;\"/><path class=\"xgrid crisp\" transform=\"translate(543.9100000000001,0)\" d=\"M0,100v320\" style=\"stroke: rgb(255, 255, 255); stroke-opacity: 1; stroke-width: 1px;\"/><path class=\"xgrid crisp\" transform=\"translate(690.95,0)\" d=\"M0,100v320\" style=\"stroke: rgb(255, 255, 255); stroke-opacity: 1; stroke-width: 1px;\"/><path class=\"xgrid crisp\" transform=\"translate(837.99,0)\" d=\"M0,100v320\" style=\"stroke: rgb(255, 255, 255); stroke-opacity: 1; stroke-width: 1px;\"/></g><g class=\"y\"><path class=\"ygrid crisp\" transform=\"translate(0,330.16999999999996)\" d=\"M80,0h840\" style=\"stroke: rgb(255, 255, 255); stroke-opacity: 1; stroke-width: 1px;\"/><path class=\"ygrid crisp\" transform=\"translate(0,260.09000000000003)\" d=\"M80,0h840\" style=\"stroke: rgb(255, 255, 255); stroke-opacity: 1; stroke-width: 1px;\"/><path class=\"ygrid crisp\" transform=\"translate(0,190.01999999999998)\" d=\"M80,0h840\" style=\"stroke: rgb(255, 255, 255); stroke-opacity: 1; stroke-width: 1px;\"/><path class=\"ygrid crisp\" transform=\"translate(0,119.94)\" d=\"M80,0h840\" style=\"stroke: rgb(255, 255, 255); stroke-opacity: 1; stroke-width: 1px;\"/></g></g><g class=\"zerolinelayer\"><path class=\"yzl zl crisp\" transform=\"translate(0,400.25)\" d=\"M80,0h840\" style=\"stroke: rgb(255, 255, 255); stroke-opacity: 1; stroke-width: 2px;\"/></g><g class=\"layer-between\"><g class=\"shapelayer\"/><g class=\"imagelayer\"/></g><path class=\"xlines-below\"/><path class=\"ylines-below\"/><g class=\"overlines-below\"/><g class=\"xaxislayer-below\"/><g class=\"yaxislayer-below\"/><g class=\"overaxes-below\"/><g class=\"plot\" transform=\"translate(80,100)\" clip-path=\"url(#clip2f04e1xyplot)\"><g class=\"scatterlayer mlayer\"><g class=\"trace scatter tracef74ec0\" style=\"stroke-miterlimit: 2; opacity: 1;\"><g class=\"fills\"/><g class=\"errorbars\"/><g class=\"lines\"><path class=\"js-line\" d=\"M45.75,298.31L58.24,300.25L70.32,300.25L82.81,283.2L94.9,259.98L107.39,282.73L119.87,273.45L131.96,282.62L144.45,276.81L156.53,255.15L169.02,262.56L193.19,297.26L205.68,288.8L230.26,249.42L242.34,268.71L254.83,257.01L267.32,243.16L279.4,236.39L291.89,253.55L303.98,241.86L316.47,263.24L328.96,251.29L340.24,277.18L352.72,244.91L364.81,258.96L377.3,271.05L389.38,219L401.87,263.96L414.36,252.84L426.45,233.22L438.93,232.24L451.02,230.62L463.51,180.42L476,221.71L487.28,221.77L499.76,196.33L511.85,245.22L524.34,300.25L536.42,300.25L561.4,300.25L573.49,84.66L585.98,110.63L598.06,19.75L610.55,35.14L623.04,155.18L634.32,181.29L646.81,161.59L658.89,197.78L671.38,151.76L683.47,199.84L695.95,209.63L708.44,198.75L720.53,233.16L733.02,186.17L745.1,178.58L757.59,192.7L770.08,190.56L781.76,178.18L794.25,230.14\" style=\"vector-effect: none; fill: none; stroke: rgb(0, 128, 0); stroke-opacity: 1; stroke-width: 2px; opacity: 1;\"/></g><g class=\"points\"><path class=\"point\" transform=\"translate(45.75,298.31)\" d=\"M3,0A3,3 0 1,1 0,-3A3,3 0 0,1 3,0Z\" style=\"opacity: 1; stroke-width: 0px; fill: rgb(0, 128, 0); fill-opacity: 1;\"/><path class=\"point\" transform=\"translate(58.24,300.25)\" d=\"M3,0A3,3 0 1,1 0,-3A3,3 0 0,1 3,0Z\" style=\"opacity: 1; stroke-width: 0px; fill: rgb(0, 128, 0); fill-opacity: 1;\"/><path class=\"point\" transform=\"translate(70.32,300.25)\" d=\"M3,0A3,3 0 1,1 0,-3A3,3 0 0,1 3,0Z\" style=\"opacity: 1; stroke-width: 0px; fill: rgb(0, 128, 0); fill-opacity: 1;\"/><path class=\"point\" transform=\"translate(82.81,283.2)\" d=\"M3,0A3,3 0 1,1 0,-3A3,3 0 0,1 3,0Z\" style=\"opacity: 1; stroke-width: 0px; fill: rgb(0, 128, 0); fill-opacity: 1;\"/><path class=\"point\" transform=\"translate(94.9,259.98)\" d=\"M3,0A3,3 0 1,1 0,-3A3,3 0 0,1 3,0Z\" style=\"opacity: 1; stroke-width: 0px; fill: rgb(0, 128, 0); fill-opacity: 1;\"/><path class=\"point\" transform=\"translate(107.39,282.73)\" d=\"M3,0A3,3 0 1,1 0,-3A3,3 0 0,1 3,0Z\" style=\"opacity: 1; stroke-width: 0px; fill: rgb(0, 128, 0); fill-opacity: 1;\"/><path class=\"point\" transform=\"translate(119.87,273.45)\" d=\"M3,0A3,3 0 1,1 0,-3A3,3 0 0,1 3,0Z\" style=\"opacity: 1; stroke-width: 0px; fill: rgb(0, 128, 0); fill-opacity: 1;\"/><path class=\"point\" transform=\"translate(131.96,282.62)\" d=\"M3,0A3,3 0 1,1 0,-3A3,3 0 0,1 3,0Z\" style=\"opacity: 1; stroke-width: 0px; fill: rgb(0, 128, 0); fill-opacity: 1;\"/><path class=\"point\" transform=\"translate(144.45,276.81)\" d=\"M3,0A3,3 0 1,1 0,-3A3,3 0 0,1 3,0Z\" style=\"opacity: 1; stroke-width: 0px; fill: rgb(0, 128, 0); fill-opacity: 1;\"/><path class=\"point\" transform=\"translate(156.53,255.15)\" d=\"M3,0A3,3 0 1,1 0,-3A3,3 0 0,1 3,0Z\" style=\"opacity: 1; stroke-width: 0px; fill: rgb(0, 128, 0); fill-opacity: 1;\"/><path class=\"point\" transform=\"translate(169.02,262.56)\" d=\"M3,0A3,3 0 1,1 0,-3A3,3 0 0,1 3,0Z\" style=\"opacity: 1; stroke-width: 0px; fill: rgb(0, 128, 0); fill-opacity: 1;\"/><path class=\"point\" transform=\"translate(181.51,280.45)\" d=\"M3,0A3,3 0 1,1 0,-3A3,3 0 0,1 3,0Z\" style=\"opacity: 1; stroke-width: 0px; fill: rgb(0, 128, 0); fill-opacity: 1;\"/><path class=\"point\" transform=\"translate(193.19,297.26)\" d=\"M3,0A3,3 0 1,1 0,-3A3,3 0 0,1 3,0Z\" style=\"opacity: 1; stroke-width: 0px; fill: rgb(0, 128, 0); fill-opacity: 1;\"/><path class=\"point\" transform=\"translate(205.68,288.8)\" d=\"M3,0A3,3 0 1,1 0,-3A3,3 0 0,1 3,0Z\" style=\"opacity: 1; stroke-width: 0px; fill: rgb(0, 128, 0); fill-opacity: 1;\"/><path class=\"point\" transform=\"translate(217.77,269.28)\" d=\"M3,0A3,3 0 1,1 0,-3A3,3 0 0,1 3,0Z\" style=\"opacity: 1; stroke-width: 0px; fill: rgb(0, 128, 0); fill-opacity: 1;\"/><path class=\"point\" transform=\"translate(230.26,249.42)\" d=\"M3,0A3,3 0 1,1 0,-3A3,3 0 0,1 3,0Z\" style=\"opacity: 1; stroke-width: 0px; fill: rgb(0, 128, 0); fill-opacity: 1;\"/><path class=\"point\" transform=\"translate(242.34,268.71)\" d=\"M3,0A3,3 0 1,1 0,-3A3,3 0 0,1 3,0Z\" style=\"opacity: 1; stroke-width: 0px; fill: rgb(0, 128, 0); fill-opacity: 1;\"/><path class=\"point\" transform=\"translate(254.83,257.01)\" d=\"M3,0A3,3 0 1,1 0,-3A3,3 0 0,1 3,0Z\" style=\"opacity: 1; stroke-width: 0px; fill: rgb(0, 128, 0); fill-opacity: 1;\"/><path class=\"point\" transform=\"translate(267.32,243.16)\" d=\"M3,0A3,3 0 1,1 0,-3A3,3 0 0,1 3,0Z\" style=\"opacity: 1; stroke-width: 0px; fill: rgb(0, 128, 0); fill-opacity: 1;\"/><path class=\"point\" transform=\"translate(279.4,236.39)\" d=\"M3,0A3,3 0 1,1 0,-3A3,3 0 0,1 3,0Z\" style=\"opacity: 1; stroke-width: 0px; fill: rgb(0, 128, 0); fill-opacity: 1;\"/><path class=\"point\" transform=\"translate(291.89,253.55)\" d=\"M3,0A3,3 0 1,1 0,-3A3,3 0 0,1 3,0Z\" style=\"opacity: 1; stroke-width: 0px; fill: rgb(0, 128, 0); fill-opacity: 1;\"/><path class=\"point\" transform=\"translate(303.98,241.86)\" d=\"M3,0A3,3 0 1,1 0,-3A3,3 0 0,1 3,0Z\" style=\"opacity: 1; stroke-width: 0px; fill: rgb(0, 128, 0); fill-opacity: 1;\"/><path class=\"point\" transform=\"translate(316.47,263.24)\" d=\"M3,0A3,3 0 1,1 0,-3A3,3 0 0,1 3,0Z\" style=\"opacity: 1; stroke-width: 0px; fill: rgb(0, 128, 0); fill-opacity: 1;\"/><path class=\"point\" transform=\"translate(328.96,251.29)\" d=\"M3,0A3,3 0 1,1 0,-3A3,3 0 0,1 3,0Z\" style=\"opacity: 1; stroke-width: 0px; fill: rgb(0, 128, 0); fill-opacity: 1;\"/><path class=\"point\" transform=\"translate(340.24,277.18)\" d=\"M3,0A3,3 0 1,1 0,-3A3,3 0 0,1 3,0Z\" style=\"opacity: 1; stroke-width: 0px; fill: rgb(0, 128, 0); fill-opacity: 1;\"/><path class=\"point\" transform=\"translate(352.72,244.91)\" d=\"M3,0A3,3 0 1,1 0,-3A3,3 0 0,1 3,0Z\" style=\"opacity: 1; stroke-width: 0px; fill: rgb(0, 128, 0); fill-opacity: 1;\"/><path class=\"point\" transform=\"translate(364.81,258.96)\" d=\"M3,0A3,3 0 1,1 0,-3A3,3 0 0,1 3,0Z\" style=\"opacity: 1; stroke-width: 0px; fill: rgb(0, 128, 0); fill-opacity: 1;\"/><path class=\"point\" transform=\"translate(377.3,271.05)\" d=\"M3,0A3,3 0 1,1 0,-3A3,3 0 0,1 3,0Z\" style=\"opacity: 1; stroke-width: 0px; fill: rgb(0, 128, 0); fill-opacity: 1;\"/><path class=\"point\" transform=\"translate(389.38,219)\" d=\"M3,0A3,3 0 1,1 0,-3A3,3 0 0,1 3,0Z\" style=\"opacity: 1; stroke-width: 0px; fill: rgb(0, 128, 0); fill-opacity: 1;\"/><path class=\"point\" transform=\"translate(401.87,263.96)\" d=\"M3,0A3,3 0 1,1 0,-3A3,3 0 0,1 3,0Z\" style=\"opacity: 1; stroke-width: 0px; fill: rgb(0, 128, 0); fill-opacity: 1;\"/><path class=\"point\" transform=\"translate(414.36,252.84)\" d=\"M3,0A3,3 0 1,1 0,-3A3,3 0 0,1 3,0Z\" style=\"opacity: 1; stroke-width: 0px; fill: rgb(0, 128, 0); fill-opacity: 1;\"/><path class=\"point\" transform=\"translate(426.45,233.22)\" d=\"M3,0A3,3 0 1,1 0,-3A3,3 0 0,1 3,0Z\" style=\"opacity: 1; stroke-width: 0px; fill: rgb(0, 128, 0); fill-opacity: 1;\"/><path class=\"point\" transform=\"translate(438.93,232.24)\" d=\"M3,0A3,3 0 1,1 0,-3A3,3 0 0,1 3,0Z\" style=\"opacity: 1; stroke-width: 0px; fill: rgb(0, 128, 0); fill-opacity: 1;\"/><path class=\"point\" transform=\"translate(451.02,230.62)\" d=\"M3,0A3,3 0 1,1 0,-3A3,3 0 0,1 3,0Z\" style=\"opacity: 1; stroke-width: 0px; fill: rgb(0, 128, 0); fill-opacity: 1;\"/><path class=\"point\" transform=\"translate(463.51,180.42)\" d=\"M3,0A3,3 0 1,1 0,-3A3,3 0 0,1 3,0Z\" style=\"opacity: 1; stroke-width: 0px; fill: rgb(0, 128, 0); fill-opacity: 1;\"/><path class=\"point\" transform=\"translate(476,221.71)\" d=\"M3,0A3,3 0 1,1 0,-3A3,3 0 0,1 3,0Z\" style=\"opacity: 1; stroke-width: 0px; fill: rgb(0, 128, 0); fill-opacity: 1;\"/><path class=\"point\" transform=\"translate(487.28,221.77)\" d=\"M3,0A3,3 0 1,1 0,-3A3,3 0 0,1 3,0Z\" style=\"opacity: 1; stroke-width: 0px; fill: rgb(0, 128, 0); fill-opacity: 1;\"/><path class=\"point\" transform=\"translate(499.76,196.33)\" d=\"M3,0A3,3 0 1,1 0,-3A3,3 0 0,1 3,0Z\" style=\"opacity: 1; stroke-width: 0px; fill: rgb(0, 128, 0); fill-opacity: 1;\"/><path class=\"point\" transform=\"translate(511.85,245.22)\" d=\"M3,0A3,3 0 1,1 0,-3A3,3 0 0,1 3,0Z\" style=\"opacity: 1; stroke-width: 0px; fill: rgb(0, 128, 0); fill-opacity: 1;\"/><path class=\"point\" transform=\"translate(524.34,300.25)\" d=\"M3,0A3,3 0 1,1 0,-3A3,3 0 0,1 3,0Z\" style=\"opacity: 1; stroke-width: 0px; fill: rgb(0, 128, 0); fill-opacity: 1;\"/><path class=\"point\" transform=\"translate(536.42,300.25)\" d=\"M3,0A3,3 0 1,1 0,-3A3,3 0 0,1 3,0Z\" style=\"opacity: 1; stroke-width: 0px; fill: rgb(0, 128, 0); fill-opacity: 1;\"/><path class=\"point\" transform=\"translate(548.91,300.25)\" d=\"M3,0A3,3 0 1,1 0,-3A3,3 0 0,1 3,0Z\" style=\"opacity: 1; stroke-width: 0px; fill: rgb(0, 128, 0); fill-opacity: 1;\"/><path class=\"point\" transform=\"translate(561.4,300.25)\" d=\"M3,0A3,3 0 1,1 0,-3A3,3 0 0,1 3,0Z\" style=\"opacity: 1; stroke-width: 0px; fill: rgb(0, 128, 0); fill-opacity: 1;\"/><path class=\"point\" transform=\"translate(573.49,84.66)\" d=\"M3,0A3,3 0 1,1 0,-3A3,3 0 0,1 3,0Z\" style=\"opacity: 1; stroke-width: 0px; fill: rgb(0, 128, 0); fill-opacity: 1;\"/><path class=\"point\" transform=\"translate(585.98,110.63)\" d=\"M3,0A3,3 0 1,1 0,-3A3,3 0 0,1 3,0Z\" style=\"opacity: 1; stroke-width: 0px; fill: rgb(0, 128, 0); fill-opacity: 1;\"/><path class=\"point\" transform=\"translate(598.06,19.75)\" d=\"M3,0A3,3 0 1,1 0,-3A3,3 0 0,1 3,0Z\" style=\"opacity: 1; stroke-width: 0px; fill: rgb(0, 128, 0); fill-opacity: 1;\"/><path class=\"point\" transform=\"translate(610.55,35.14)\" d=\"M3,0A3,3 0 1,1 0,-3A3,3 0 0,1 3,0Z\" style=\"opacity: 1; stroke-width: 0px; fill: rgb(0, 128, 0); fill-opacity: 1;\"/><path class=\"point\" transform=\"translate(623.04,155.18)\" d=\"M3,0A3,3 0 1,1 0,-3A3,3 0 0,1 3,0Z\" style=\"opacity: 1; stroke-width: 0px; fill: rgb(0, 128, 0); fill-opacity: 1;\"/><path class=\"point\" transform=\"translate(634.32,181.29)\" d=\"M3,0A3,3 0 1,1 0,-3A3,3 0 0,1 3,0Z\" style=\"opacity: 1; stroke-width: 0px; fill: rgb(0, 128, 0); fill-opacity: 1;\"/><path class=\"point\" transform=\"translate(646.81,161.59)\" d=\"M3,0A3,3 0 1,1 0,-3A3,3 0 0,1 3,0Z\" style=\"opacity: 1; stroke-width: 0px; fill: rgb(0, 128, 0); fill-opacity: 1;\"/><path class=\"point\" transform=\"translate(658.89,197.78)\" d=\"M3,0A3,3 0 1,1 0,-3A3,3 0 0,1 3,0Z\" style=\"opacity: 1; stroke-width: 0px; fill: rgb(0, 128, 0); fill-opacity: 1;\"/><path class=\"point\" transform=\"translate(671.38,151.76)\" d=\"M3,0A3,3 0 1,1 0,-3A3,3 0 0,1 3,0Z\" style=\"opacity: 1; stroke-width: 0px; fill: rgb(0, 128, 0); fill-opacity: 1;\"/><path class=\"point\" transform=\"translate(683.47,199.84)\" d=\"M3,0A3,3 0 1,1 0,-3A3,3 0 0,1 3,0Z\" style=\"opacity: 1; stroke-width: 0px; fill: rgb(0, 128, 0); fill-opacity: 1;\"/><path class=\"point\" transform=\"translate(695.95,209.63)\" d=\"M3,0A3,3 0 1,1 0,-3A3,3 0 0,1 3,0Z\" style=\"opacity: 1; stroke-width: 0px; fill: rgb(0, 128, 0); fill-opacity: 1;\"/><path class=\"point\" transform=\"translate(708.44,198.75)\" d=\"M3,0A3,3 0 1,1 0,-3A3,3 0 0,1 3,0Z\" style=\"opacity: 1; stroke-width: 0px; fill: rgb(0, 128, 0); fill-opacity: 1;\"/><path class=\"point\" transform=\"translate(720.53,233.16)\" d=\"M3,0A3,3 0 1,1 0,-3A3,3 0 0,1 3,0Z\" style=\"opacity: 1; stroke-width: 0px; fill: rgb(0, 128, 0); fill-opacity: 1;\"/><path class=\"point\" transform=\"translate(733.02,186.17)\" d=\"M3,0A3,3 0 1,1 0,-3A3,3 0 0,1 3,0Z\" style=\"opacity: 1; stroke-width: 0px; fill: rgb(0, 128, 0); fill-opacity: 1;\"/><path class=\"point\" transform=\"translate(745.1,178.58)\" d=\"M3,0A3,3 0 1,1 0,-3A3,3 0 0,1 3,0Z\" style=\"opacity: 1; stroke-width: 0px; fill: rgb(0, 128, 0); fill-opacity: 1;\"/><path class=\"point\" transform=\"translate(757.59,192.7)\" d=\"M3,0A3,3 0 1,1 0,-3A3,3 0 0,1 3,0Z\" style=\"opacity: 1; stroke-width: 0px; fill: rgb(0, 128, 0); fill-opacity: 1;\"/><path class=\"point\" transform=\"translate(770.08,190.56)\" d=\"M3,0A3,3 0 1,1 0,-3A3,3 0 0,1 3,0Z\" style=\"opacity: 1; stroke-width: 0px; fill: rgb(0, 128, 0); fill-opacity: 1;\"/><path class=\"point\" transform=\"translate(781.76,178.18)\" d=\"M3,0A3,3 0 1,1 0,-3A3,3 0 0,1 3,0Z\" style=\"opacity: 1; stroke-width: 0px; fill: rgb(0, 128, 0); fill-opacity: 1;\"/><path class=\"point\" transform=\"translate(794.25,230.14)\" d=\"M3,0A3,3 0 1,1 0,-3A3,3 0 0,1 3,0Z\" style=\"opacity: 1; stroke-width: 0px; fill: rgb(0, 128, 0); fill-opacity: 1;\"/></g><g class=\"text\"/></g></g></g><g class=\"overplot\"/><path class=\"xlines-above crisp\" d=\"M0,0\" style=\"fill: none;\"/><path class=\"ylines-above crisp\" d=\"M0,0\" style=\"fill: none;\"/><g class=\"overlines-above\"/><g class=\"xaxislayer-above\"><g class=\"xtick\"><text text-anchor=\"middle\" x=\"0\" y=\"433\" transform=\"translate(102.38,0)\" style=\"font-family: 'Open Sans', verdana, arial, sans-serif; font-size: 12px; fill: rgb(42, 63, 95); fill-opacity: 1; white-space: pre; opacity: 1;\">2019</text></g><g class=\"xtick\"><text text-anchor=\"middle\" x=\"0\" y=\"433\" style=\"font-family: 'Open Sans', verdana, arial, sans-serif; font-size: 12px; fill: rgb(42, 63, 95); fill-opacity: 1; white-space: pre; opacity: 1;\" transform=\"translate(249.43,0)\">2020</text></g><g class=\"xtick\"><text text-anchor=\"middle\" x=\"0\" y=\"433\" style=\"font-family: 'Open Sans', verdana, arial, sans-serif; font-size: 12px; fill: rgb(42, 63, 95); fill-opacity: 1; white-space: pre; opacity: 1;\" transform=\"translate(396.87,0)\">2021</text></g><g class=\"xtick\"><text text-anchor=\"middle\" x=\"0\" y=\"433\" style=\"font-family: 'Open Sans', verdana, arial, sans-serif; font-size: 12px; fill: rgb(42, 63, 95); fill-opacity: 1; white-space: pre; opacity: 1;\" transform=\"translate(543.9100000000001,0)\">2022</text></g><g class=\"xtick\"><text text-anchor=\"middle\" x=\"0\" y=\"433\" style=\"font-family: 'Open Sans', verdana, arial, sans-serif; font-size: 12px; fill: rgb(42, 63, 95); fill-opacity: 1; white-space: pre; opacity: 1;\" transform=\"translate(690.95,0)\">2023</text></g><g class=\"xtick\"><text text-anchor=\"middle\" x=\"0\" y=\"433\" style=\"font-family: 'Open Sans', verdana, arial, sans-serif; font-size: 12px; fill: rgb(42, 63, 95); fill-opacity: 1; white-space: pre; opacity: 1;\" transform=\"translate(837.99,0)\">2024</text></g></g><g class=\"yaxislayer-above\"><g class=\"ytick\"><text text-anchor=\"end\" x=\"79\" y=\"4.199999999999999\" transform=\"translate(0,400.25)\" style=\"font-family: 'Open Sans', verdana, arial, sans-serif; font-size: 12px; fill: rgb(42, 63, 95); fill-opacity: 1; white-space: pre; opacity: 1;\">0</text></g><g class=\"ytick\"><text text-anchor=\"end\" x=\"79\" y=\"4.199999999999999\" style=\"font-family: 'Open Sans', verdana, arial, sans-serif; font-size: 12px; fill: rgb(42, 63, 95); fill-opacity: 1; white-space: pre; opacity: 1;\" transform=\"translate(0,330.16999999999996)\">100</text></g><g class=\"ytick\"><text text-anchor=\"end\" x=\"79\" y=\"4.199999999999999\" style=\"font-family: 'Open Sans', verdana, arial, sans-serif; font-size: 12px; fill: rgb(42, 63, 95); fill-opacity: 1; white-space: pre; opacity: 1;\" transform=\"translate(0,260.09000000000003)\">200</text></g><g class=\"ytick\"><text text-anchor=\"end\" x=\"79\" y=\"4.199999999999999\" style=\"font-family: 'Open Sans', verdana, arial, sans-serif; font-size: 12px; fill: rgb(42, 63, 95); fill-opacity: 1; white-space: pre; opacity: 1;\" transform=\"translate(0,190.01999999999998)\">300</text></g><g class=\"ytick\"><text text-anchor=\"end\" x=\"79\" y=\"4.199999999999999\" style=\"font-family: 'Open Sans', verdana, arial, sans-serif; font-size: 12px; fill: rgb(42, 63, 95); fill-opacity: 1; white-space: pre; opacity: 1;\" transform=\"translate(0,119.94)\">400</text></g></g><g class=\"overaxes-above\"/></g></g><g class=\"polarlayer\"/><g class=\"smithlayer\"/><g class=\"ternarylayer\"/><g class=\"geolayer\"/><g class=\"funnelarealayer\"/><g class=\"pielayer\"/><g class=\"iciclelayer\"/><g class=\"treemaplayer\"/><g class=\"sunburstlayer\"/><g class=\"glimages\"/><defs id=\"topdefs-2f04e1\"><g class=\"clips\"/></defs><g class=\"layer-above\"><g class=\"imagelayer\"/><g class=\"shapelayer\"/></g><g class=\"infolayer\"><g class=\"g-gtitle\"><text class=\"gtitle\" x=\"500\" y=\"50\" text-anchor=\"middle\" dy=\"0em\" style=\"font-family: 'Open Sans', verdana, arial, sans-serif; font-size: 17px; fill: rgb(42, 63, 95); opacity: 1; font-weight: normal; white-space: pre;\">Monthly Audio Streaming Trends Over Time</text></g><g class=\"g-xtitle\"><text class=\"xtitle\" x=\"500\" y=\"460.3\" text-anchor=\"middle\" style=\"font-family: 'Open Sans', verdana, arial, sans-serif; font-size: 14px; fill: rgb(42, 63, 95); opacity: 1; font-weight: normal; white-space: pre;\">Month-Year</text></g><g class=\"g-ytitle\"><text class=\"ytitle\" transform=\"rotate(-90,31.809375000000003,260)\" x=\"31.809375000000003\" y=\"260\" text-anchor=\"middle\" style=\"font-family: 'Open Sans', verdana, arial, sans-serif; font-size: 14px; fill: rgb(42, 63, 95); opacity: 1; font-weight: normal; white-space: pre;\">Hours Played</text></g></g></svg>"
      ]
     },
     "metadata": {},
     "output_type": "display_data"
    }
   ],
   "source": [
    "# Set 'ts' column as the index\n",
    "indexed = spotify_data.set_index('ts', inplace=False)\n",
    "\n",
    "# Resample the data on a monthly basis\n",
    "streaming_trends = indexed.resample('M').sum()\n",
    "\n",
    "fig = px.line(streaming_trends, x=streaming_trends.index, y=(streaming_trends['ms_played'] / (1000 * 60 * 60)).round(2),\n",
    "              labels={'ts': 'Month-Year', 'y': 'Hours Played'},\n",
    "              title='Monthly Audio Streaming Trends Over Time',\n",
    "              color_discrete_sequence=['green'], markers=True)\n",
    "\n",
    "fig.add_vrect(x0=\"2022-10-01\", x1=\"2023-02-01\", \n",
    "              fillcolor=\"rgba(0,255,0,0.2)\", \n",
    "              layer=\"below\", \n",
    "              line_width=0)\n",
    "\n",
    "fig.update_layout(title=dict(text='Monthly Audio Streaming Trends Over Time', x=0.5),\n",
    "                  xaxis_title='Month-Year',\n",
    "                  yaxis_title='Hours Played',\n",
    "                  width=1000, height=500)\n",
    "fig.show()"
   ]
  },
  {
   "cell_type": "markdown",
   "metadata": {},
   "source": [
    "#### **Weekly `audio` streaming trend**"
   ]
  },
  {
   "cell_type": "code",
   "execution_count": 202,
   "metadata": {},
   "outputs": [
    {
     "data": {
      "image/svg+xml": [
       "<svg class=\"main-svg\" xmlns=\"http://www.w3.org/2000/svg\" xmlns:xlink=\"http://www.w3.org/1999/xlink\" width=\"800\" height=\"500\" style=\"\" viewBox=\"0 0 800 500\"><rect x=\"0\" y=\"0\" width=\"800\" height=\"500\" style=\"fill: rgb(255, 255, 255); fill-opacity: 1;\"/><defs id=\"defs-cfd911\"><g class=\"clips\"><clipPath id=\"clipcfd911xyplot\" class=\"plotclip\"><rect width=\"640\" height=\"320\"/></clipPath><clipPath class=\"axesclip\" id=\"clipcfd911x\"><rect x=\"80\" y=\"0\" width=\"640\" height=\"500\"/></clipPath><clipPath class=\"axesclip\" id=\"clipcfd911y\"><rect x=\"0\" y=\"100\" width=\"800\" height=\"320\"/></clipPath><clipPath class=\"axesclip\" id=\"clipcfd911xy\"><rect x=\"80\" y=\"100\" width=\"640\" height=\"320\"/></clipPath></g><g class=\"gradients\"/><g class=\"patterns\"/></defs><g class=\"bglayer\"><rect class=\"bg\" x=\"80\" y=\"100\" width=\"640\" height=\"320\" style=\"fill: rgb(229, 236, 246); fill-opacity: 1; stroke-width: 0;\"/></g><g class=\"layer-below\"><g class=\"imagelayer\"/><g class=\"shapelayer\"/></g><g class=\"cartesianlayer\"><g class=\"subplot xy\"><g class=\"layer-subplot\"><g class=\"shapelayer\"/><g class=\"imagelayer\"/></g><g class=\"minor-gridlayer\"><g class=\"x\"/><g class=\"y\"/></g><g class=\"gridlayer\"><g class=\"x\"/><g class=\"y\"><path class=\"ygrid crisp\" transform=\"translate(0,353.94)\" d=\"M80,0h640\" style=\"stroke: rgb(255, 255, 255); stroke-opacity: 1; stroke-width: 1px;\"/><path class=\"ygrid crisp\" transform=\"translate(0,287.89)\" d=\"M80,0h640\" style=\"stroke: rgb(255, 255, 255); stroke-opacity: 1; stroke-width: 1px;\"/><path class=\"ygrid crisp\" transform=\"translate(0,221.82999999999998)\" d=\"M80,0h640\" style=\"stroke: rgb(255, 255, 255); stroke-opacity: 1; stroke-width: 1px;\"/><path class=\"ygrid crisp\" transform=\"translate(0,155.77)\" d=\"M80,0h640\" style=\"stroke: rgb(255, 255, 255); stroke-opacity: 1; stroke-width: 1px;\"/></g></g><g class=\"zerolinelayer\"><path class=\"yzl zl crisp\" transform=\"translate(0,420)\" d=\"M80,0h640\" style=\"stroke: rgb(255, 255, 255); stroke-opacity: 1; stroke-width: 2px;\"/></g><g class=\"layer-between\"><g class=\"shapelayer\"/><g class=\"imagelayer\"/></g><path class=\"xlines-below\"/><path class=\"ylines-below\"/><g class=\"overlines-below\"/><g class=\"xaxislayer-below\"/><g class=\"yaxislayer-below\"/><g class=\"overaxes-below\"/><g class=\"plot\" transform=\"translate(80,100)\" clip-path=\"url(#clipcfd911xyplot)\"><g class=\"barlayer mlayer\"><g class=\"trace bars\" style=\"opacity: 1;\"><g class=\"points\"><g class=\"point\"><path d=\"M9.14,320V17.73H82.29V320Z\" style=\"vector-effect: none; opacity: 1; stroke-width: 0.5px; fill: rgb(0, 128, 0); fill-opacity: 1; stroke: rgb(229, 236, 246); stroke-opacity: 1;\"/><text class=\"bartext bartext-inside\" text-anchor=\"middle\" data-notex=\"1\" x=\"0\" y=\"0\" style=\"font-family: 'Open Sans', verdana, arial, sans-serif; font-size: 12px; fill: rgb(255, 255, 255); fill-opacity: 1; white-space: pre;\" transform=\"translate(45.5275,32.730000000000004)\">915.17</text></g><g class=\"point\"><path d=\"M100.57,320V51.34H173.71V320Z\" style=\"vector-effect: none; opacity: 1; stroke-width: 0.5px; fill: rgb(22, 211, 92); fill-opacity: 1; stroke: rgb(229, 236, 246); stroke-opacity: 1;\"/><text class=\"bartext bartext-inside\" text-anchor=\"middle\" data-notex=\"1\" x=\"0\" y=\"0\" style=\"font-family: 'Open Sans', verdana, arial, sans-serif; font-size: 12px; fill: rgb(255, 255, 255); fill-opacity: 1; white-space: pre;\" transform=\"translate(136.9525,66.34)\">813.42</text></g><g class=\"point\"><path d=\"M192,320V22.54H265.14V320Z\" style=\"vector-effect: none; opacity: 1; stroke-width: 0.5px; fill: rgb(22, 211, 92); fill-opacity: 1; stroke: rgb(229, 236, 246); stroke-opacity: 1;\"/><text class=\"bartext bartext-inside\" text-anchor=\"middle\" data-notex=\"1\" x=\"0\" y=\"0\" style=\"font-family: 'Open Sans', verdana, arial, sans-serif; font-size: 12px; fill: rgb(255, 255, 255); fill-opacity: 1; white-space: pre;\" transform=\"translate(228.3825,37.54)\">900.62</text></g><g class=\"point\"><path d=\"M283.43,320V32.69H356.57V320Z\" style=\"vector-effect: none; opacity: 1; stroke-width: 0.5px; fill: rgb(22, 211, 92); fill-opacity: 1; stroke: rgb(229, 236, 246); stroke-opacity: 1;\"/><text class=\"bartext bartext-inside\" text-anchor=\"middle\" data-notex=\"1\" x=\"0\" y=\"0\" style=\"font-family: 'Open Sans', verdana, arial, sans-serif; font-size: 12px; fill: rgb(255, 255, 255); fill-opacity: 1; white-space: pre;\" transform=\"translate(319.8125,47.69)\">869.88</text></g><g class=\"point\"><path d=\"M374.86,320V16H448V320Z\" style=\"vector-effect: none; opacity: 1; stroke-width: 0.5px; fill: rgb(0, 128, 0); fill-opacity: 1; stroke: rgb(229, 236, 246); stroke-opacity: 1;\"/><text class=\"bartext bartext-inside\" text-anchor=\"middle\" data-notex=\"1\" x=\"0\" y=\"0\" style=\"font-family: 'Open Sans', verdana, arial, sans-serif; font-size: 12px; fill: rgb(255, 255, 255); fill-opacity: 1; white-space: pre;\" transform=\"translate(411.2425,31)\">920.42</text></g><g class=\"point\"><path d=\"M466.29,320V45.74H539.43V320Z\" style=\"vector-effect: none; opacity: 1; stroke-width: 0.5px; fill: rgb(22, 211, 92); fill-opacity: 1; stroke: rgb(229, 236, 246); stroke-opacity: 1;\"/><text class=\"bartext bartext-inside\" text-anchor=\"middle\" data-notex=\"1\" x=\"0\" y=\"0\" style=\"font-family: 'Open Sans', verdana, arial, sans-serif; font-size: 12px; fill: rgb(255, 255, 255); fill-opacity: 1; white-space: pre;\" transform=\"translate(502.6725,60.74)\">830.38</text></g><g class=\"point\"><path d=\"M557.71,320V30.21H630.86V320Z\" style=\"vector-effect: none; opacity: 1; stroke-width: 0.5px; fill: rgb(22, 211, 92); fill-opacity: 1; stroke: rgb(229, 236, 246); stroke-opacity: 1;\"/><text class=\"bartext bartext-inside\" text-anchor=\"middle\" data-notex=\"1\" x=\"0\" y=\"0\" style=\"font-family: 'Open Sans', verdana, arial, sans-serif; font-size: 12px; fill: rgb(255, 255, 255); fill-opacity: 1; white-space: pre;\" transform=\"translate(594.1053125000001,45.21)\">877.4</text></g></g></g></g></g><g class=\"overplot\"/><path class=\"xlines-above crisp\" d=\"M0,0\" style=\"fill: none;\"/><path class=\"ylines-above crisp\" d=\"M0,0\" style=\"fill: none;\"/><g class=\"overlines-above\"/><g class=\"xaxislayer-above\"><g class=\"xtick\"><text text-anchor=\"middle\" x=\"0\" y=\"433\" transform=\"translate(125.71000000000001,0)\" style=\"font-family: 'Open Sans', verdana, arial, sans-serif; font-size: 12px; fill: rgb(42, 63, 95); fill-opacity: 1; white-space: pre; opacity: 1;\">Mon</text></g><g class=\"xtick\"><text text-anchor=\"middle\" x=\"0\" y=\"433\" style=\"font-family: 'Open Sans', verdana, arial, sans-serif; font-size: 12px; fill: rgb(42, 63, 95); fill-opacity: 1; white-space: pre; opacity: 1;\" transform=\"translate(217.14,0)\">Tue</text></g><g class=\"xtick\"><text text-anchor=\"middle\" x=\"0\" y=\"433\" style=\"font-family: 'Open Sans', verdana, arial, sans-serif; font-size: 12px; fill: rgb(42, 63, 95); fill-opacity: 1; white-space: pre; opacity: 1;\" transform=\"translate(308.57,0)\">Wed</text></g><g class=\"xtick\"><text text-anchor=\"middle\" x=\"0\" y=\"433\" style=\"font-family: 'Open Sans', verdana, arial, sans-serif; font-size: 12px; fill: rgb(42, 63, 95); fill-opacity: 1; white-space: pre; opacity: 1;\" transform=\"translate(400,0)\">Thu</text></g><g class=\"xtick\"><text text-anchor=\"middle\" x=\"0\" y=\"433\" style=\"font-family: 'Open Sans', verdana, arial, sans-serif; font-size: 12px; fill: rgb(42, 63, 95); fill-opacity: 1; white-space: pre; opacity: 1;\" transform=\"translate(491.43,0)\">Fri</text></g><g class=\"xtick\"><text text-anchor=\"middle\" x=\"0\" y=\"433\" style=\"font-family: 'Open Sans', verdana, arial, sans-serif; font-size: 12px; fill: rgb(42, 63, 95); fill-opacity: 1; white-space: pre; opacity: 1;\" transform=\"translate(582.86,0)\">Sat</text></g><g class=\"xtick\"><text text-anchor=\"middle\" x=\"0\" y=\"433\" style=\"font-family: 'Open Sans', verdana, arial, sans-serif; font-size: 12px; fill: rgb(42, 63, 95); fill-opacity: 1; white-space: pre; opacity: 1;\" transform=\"translate(674.29,0)\">Sun</text></g></g><g class=\"yaxislayer-above\"><g class=\"ytick\"><text text-anchor=\"end\" x=\"79\" y=\"4.199999999999999\" transform=\"translate(0,420)\" style=\"font-family: 'Open Sans', verdana, arial, sans-serif; font-size: 12px; fill: rgb(42, 63, 95); fill-opacity: 1; white-space: pre; opacity: 1;\">0</text></g><g class=\"ytick\"><text text-anchor=\"end\" x=\"79\" y=\"4.199999999999999\" style=\"font-family: 'Open Sans', verdana, arial, sans-serif; font-size: 12px; fill: rgb(42, 63, 95); fill-opacity: 1; white-space: pre; opacity: 1;\" transform=\"translate(0,353.94)\">200</text></g><g class=\"ytick\"><text text-anchor=\"end\" x=\"79\" y=\"4.199999999999999\" style=\"font-family: 'Open Sans', verdana, arial, sans-serif; font-size: 12px; fill: rgb(42, 63, 95); fill-opacity: 1; white-space: pre; opacity: 1;\" transform=\"translate(0,287.89)\">400</text></g><g class=\"ytick\"><text text-anchor=\"end\" x=\"79\" y=\"4.199999999999999\" style=\"font-family: 'Open Sans', verdana, arial, sans-serif; font-size: 12px; fill: rgb(42, 63, 95); fill-opacity: 1; white-space: pre; opacity: 1;\" transform=\"translate(0,221.82999999999998)\">600</text></g><g class=\"ytick\"><text text-anchor=\"end\" x=\"79\" y=\"4.199999999999999\" style=\"font-family: 'Open Sans', verdana, arial, sans-serif; font-size: 12px; fill: rgb(42, 63, 95); fill-opacity: 1; white-space: pre; opacity: 1;\" transform=\"translate(0,155.77)\">800</text></g></g><g class=\"overaxes-above\"/></g></g><g class=\"polarlayer\"/><g class=\"smithlayer\"/><g class=\"ternarylayer\"/><g class=\"geolayer\"/><g class=\"funnelarealayer\"/><g class=\"pielayer\"/><g class=\"iciclelayer\"/><g class=\"treemaplayer\"/><g class=\"sunburstlayer\"/><g class=\"glimages\"/><defs id=\"topdefs-cfd911\"><g class=\"clips\"/></defs><g class=\"layer-above\"><g class=\"imagelayer\"/><g class=\"shapelayer\"><g class=\"shape-group\" data-index=\"0\" clip-path=\"url(#clipcfd911y)\"><path data-index=\"0\" fill-rule=\"evenodd\" d=\"M80,130.89L720,130.89\" style=\"opacity: 1; stroke: rgb(0, 0, 255); stroke-opacity: 1; fill: rgb(0, 0, 0); fill-opacity: 0; stroke-dasharray: 3px, 3px; stroke-width: 2px;\"/></g></g></g><g class=\"infolayer\"><g class=\"g-gtitle\"><text class=\"gtitle\" x=\"400\" y=\"50\" text-anchor=\"middle\" dy=\"0em\" style=\"font-family: 'Open Sans', verdana, arial, sans-serif; font-size: 17px; fill: rgb(42, 63, 95); opacity: 1; font-weight: normal; white-space: pre;\">Streaming Trends by Day of the Week</text></g><g class=\"g-xtitle\"><text class=\"xtitle\" x=\"400\" y=\"460.3\" text-anchor=\"middle\" style=\"font-family: 'Open Sans', verdana, arial, sans-serif; font-size: 14px; fill: rgb(42, 63, 95); opacity: 1; font-weight: normal; white-space: pre;\">Day of the Week</text></g><g class=\"g-ytitle\"><text class=\"ytitle\" transform=\"rotate(-90,31.809375000000003,260)\" x=\"31.809375000000003\" y=\"260\" text-anchor=\"middle\" style=\"font-family: 'Open Sans', verdana, arial, sans-serif; font-size: 14px; fill: rgb(42, 63, 95); opacity: 1; font-weight: normal; white-space: pre;\">Total Streaming Time (Hours)</text></g><g class=\"annotation\" data-index=\"0\" style=\"opacity: 1;\"><g class=\"annotation-text-g\" transform=\"rotate(0,656.5,121.38999999999999)\"><g class=\"cursor-pointer\" transform=\"translate(593,112)\"><rect class=\"bg\" x=\"0.5\" y=\"0.5\" width=\"126\" height=\"18\" style=\"stroke-width: 1px; stroke: rgb(0, 0, 0); stroke-opacity: 0; fill: rgb(0, 0, 0); fill-opacity: 0;\"/><text class=\"annotation-text\" text-anchor=\"middle\" x=\"63.15625\" y=\"14\" style=\"font-family: 'Open Sans', verdana, arial, sans-serif; font-size: 12px; fill: rgb(42, 63, 95); fill-opacity: 1; white-space: pre;\">Mean: 875.33 hours</text></g></g></g></g></svg>"
      ]
     },
     "metadata": {},
     "output_type": "display_data"
    }
   ],
   "source": [
    "# Analyze trends based on the day of the week\n",
    "trends_by_day = spotify_data.groupby(spotify_data['ts'].dt.dayofweek).agg({\n",
    "    'ms_played': lambda x: x.sum() / (1000 * 60 * 60)\n",
    "    }).reset_index()\n",
    "\n",
    "# Get the top 2 days of the week\n",
    "top_days = trends_by_day.nlargest(2, 'ms_played').index\n",
    "\n",
    "fig = px.bar(trends_by_day, x='ts', y='ms_played',\n",
    "             labels={'ms_played': 'Total Streaming Time (Hours)', 'ts': 'Day of the Week'},\n",
    "             title='Streaming Trends by Day of the Week')\n",
    "\n",
    "mean_trends_by_day = trends_by_day['ms_played'].mean()\n",
    "fig.add_hline(y=mean_trends_by_day, \n",
    "              line_dash=\"dot\", line_color=\"blue\", \n",
    "              annotation_text=f'Mean: {mean_trends_by_day:.2f} hours',\n",
    "              annotation_position=\"top right\")\n",
    "\n",
    "colors = ['green' if i in top_days else '#16D35C' for i in trends_by_day.index]\n",
    "fig.update_traces(marker_color=colors,\n",
    "                  text=trends_by_day['ms_played'].round(2), \n",
    "                  textposition='inside', \n",
    "                  textfont=dict(color='white'))\n",
    "\n",
    "fig.update_layout(xaxis=dict(tickmode='array', tickvals=list(range(7)), ticktext=['Mon', 'Tue', 'Wed', 'Thu', 'Fri', 'Sat', 'Sun']),\n",
    "                  title=dict(text='Streaming Trends by Day of the Week', x=0.5),\n",
    "                  width=800, height=500)\n",
    "fig.show()"
   ]
  },
  {
   "cell_type": "markdown",
   "metadata": {},
   "source": [
    "#### **`Platform` Analysis**"
   ]
  },
  {
   "cell_type": "code",
   "execution_count": 203,
   "metadata": {},
   "outputs": [
    {
     "data": {
      "image/svg+xml": [
       "<svg class=\"main-svg\" xmlns=\"http://www.w3.org/2000/svg\" xmlns:xlink=\"http://www.w3.org/1999/xlink\" width=\"500\" height=\"500\" style=\"\" viewBox=\"0 0 500 500\"><rect x=\"0\" y=\"0\" width=\"500\" height=\"500\" style=\"fill: rgb(255, 255, 255); fill-opacity: 1;\"/><defs id=\"defs-73d77a\"><g class=\"clips\"/><g class=\"gradients\"/><g class=\"patterns\"/></defs><g class=\"bglayer\"/><g class=\"layer-below\"><g class=\"imagelayer\"/><g class=\"shapelayer\"/></g><g class=\"cartesianlayer\"/><g class=\"polarlayer\"/><g class=\"smithlayer\"/><g class=\"ternarylayer\"/><g class=\"geolayer\"/><g class=\"funnelarealayer\"/><g class=\"pielayer\"><g class=\"trace\" stroke-linejoin=\"round\" style=\"opacity: 1;\"><g class=\"slice\"><path class=\"surface\" d=\"M231,260l0,-151a151,151 0 1 1 -96.62364534808164,34.961768543086876Z\" style=\"pointer-events: none; fill: rgb(0, 128, 0); fill-opacity: 1; stroke-width: 0; stroke: rgb(68, 68, 68); stroke-opacity: 1;\"/><g class=\"slicetext\"><text data-notex=\"1\" class=\"slicetext\" transform=\"translate(256.6495221486482,335.49539857447974)\" text-anchor=\"middle\" x=\"0\" y=\"0\" style=\"font-family: 'Open Sans', verdana, arial, sans-serif; font-size: 12px; fill: rgb(255, 255, 255); fill-opacity: 1; white-space: pre;\">88.9%</text></g></g><g class=\"slice\"><path class=\"surface\" d=\"M231,260l-96.62364534808157,-116.03823145691317a151,151 0 0 1 96.62364534808157,-34.96176854308683Z\" style=\"pointer-events: none; fill: rgb(22, 211, 92); fill-opacity: 1; stroke-width: 0; stroke: rgb(68, 68, 68); stroke-opacity: 1;\"/><g class=\"slicetext\"><text data-notex=\"1\" class=\"slicetext\" transform=\"translate(192.6268082559292,158.55618013168197)\" text-anchor=\"middle\" x=\"0\" y=\"0\" style=\"font-family: 'Open Sans', verdana, arial, sans-serif; font-size: 12px; fill: rgb(68, 68, 68); fill-opacity: 1; white-space: pre;\">11.1%</text></g></g></g></g><g class=\"iciclelayer\"/><g class=\"treemaplayer\"/><g class=\"sunburstlayer\"/><g class=\"glimages\"/><defs id=\"topdefs-73d77a\"><g class=\"clips\"/><clipPath id=\"legend73d77a\"><rect width=\"100\" height=\"48\" x=\"0\" y=\"0\"/></clipPath></defs><g class=\"layer-above\"><g class=\"imagelayer\"/><g class=\"shapelayer\"/></g><g class=\"infolayer\"><g class=\"legend\" pointer-events=\"all\" transform=\"translate(388.04,100)\"><rect class=\"bg\" shape-rendering=\"crispEdges\" width=\"100\" height=\"48\" x=\"0\" y=\"0\" style=\"stroke: rgb(68, 68, 68); stroke-opacity: 1; fill: rgb(255, 255, 255); fill-opacity: 1; stroke-width: 0px;\"/><g class=\"scrollbox\" transform=\"\" clip-path=\"url(#legend73d77a)\"><g class=\"groups\"><g class=\"traces\" transform=\"translate(0,14.5)\" style=\"opacity: 1;\"><text class=\"legendtext\" text-anchor=\"start\" x=\"40\" y=\"4.680000000000001\" style=\"font-family: 'Open Sans', verdana, arial, sans-serif; font-size: 12px; fill: rgb(42, 63, 95); fill-opacity: 1; white-space: pre;\">Windows</text><g class=\"layers\" style=\"opacity: 1;\"><g class=\"legendfill\"/><g class=\"legendlines\"/><g class=\"legendsymbols\"><g class=\"legendpoints\"><path class=\"legendpie\" d=\"M6,6H-6V-6H6Z\" transform=\"translate(20,0)\" style=\"fill: rgb(0, 128, 0); fill-opacity: 1; stroke-width: 0; stroke: rgb(68, 68, 68); stroke-opacity: 1;\"/></g></g></g><rect class=\"legendtoggle\" x=\"0\" y=\"-9.5\" width=\"94.34375\" height=\"19\" style=\"fill: rgb(0, 0, 0); fill-opacity: 0;\"/></g><g class=\"traces\" transform=\"translate(0,33.5)\" style=\"opacity: 1;\"><text class=\"legendtext\" text-anchor=\"start\" x=\"40\" y=\"4.680000000000001\" style=\"font-family: 'Open Sans', verdana, arial, sans-serif; font-size: 12px; fill: rgb(42, 63, 95); fill-opacity: 1; white-space: pre;\">Android</text><g class=\"layers\" style=\"opacity: 1;\"><g class=\"legendfill\"/><g class=\"legendlines\"/><g class=\"legendsymbols\"><g class=\"legendpoints\"><path class=\"legendpie\" d=\"M6,6H-6V-6H6Z\" transform=\"translate(20,0)\" style=\"fill: rgb(22, 211, 92); fill-opacity: 1; stroke-width: 0; stroke: rgb(68, 68, 68); stroke-opacity: 1;\"/></g></g></g><rect class=\"legendtoggle\" x=\"0\" y=\"-9.5\" width=\"94.34375\" height=\"19\" style=\"fill: rgb(0, 0, 0); fill-opacity: 0;\"/></g></g></g><rect class=\"scrollbar\" rx=\"20\" ry=\"3\" width=\"0\" height=\"0\" x=\"0\" y=\"0\" style=\"fill: rgb(128, 139, 164); fill-opacity: 1;\"/></g><g class=\"g-gtitle\"><text class=\"gtitle\" x=\"250\" y=\"50\" text-anchor=\"middle\" dy=\"0em\" style=\"font-family: 'Open Sans', verdana, arial, sans-serif; font-size: 17px; fill: rgb(42, 63, 95); opacity: 1; font-weight: normal; white-space: pre;\">Distribution of Streaming Platforms</text></g></g></svg>"
      ]
     },
     "metadata": {},
     "output_type": "display_data"
    }
   ],
   "source": [
    "# Calculate platform counts\n",
    "platform_counts = spotify_data['platform'].value_counts()\n",
    "\n",
    "fig = px.pie(platform_counts, values=platform_counts.values, names=platform_counts.index,\n",
    "             title='Distribution of Streaming Platforms')\n",
    "\n",
    "# Customize the appearance\n",
    "fig.update_traces(marker=dict(colors=['green', '#16D35C']))  # Set custom colors\n",
    "fig.update_layout(title={'text': 'Distribution of Streaming Platforms', 'x': 0.5})  # Center the title\n",
    "fig.update_layout(width=500, height=500)\n",
    "\n",
    "fig.show()"
   ]
  },
  {
   "cell_type": "markdown",
   "metadata": {},
   "source": [
    "### **`Music` Streaming Analysis**"
   ]
  },
  {
   "cell_type": "markdown",
   "metadata": {},
   "source": [
    "#### **Yearly `Music` Streaming Trend**"
   ]
  },
  {
   "cell_type": "markdown",
   "metadata": {},
   "source": [
    "##### **By Play Counts**"
   ]
  },
  {
   "cell_type": "markdown",
   "metadata": {},
   "source": [
    "##### **By Playback Duration**"
   ]
  },
  {
   "cell_type": "code",
   "execution_count": 204,
   "metadata": {},
   "outputs": [
    {
     "data": {
      "image/svg+xml": [
       "<svg class=\"main-svg\" xmlns=\"http://www.w3.org/2000/svg\" xmlns:xlink=\"http://www.w3.org/1999/xlink\" width=\"800\" height=\"500\" style=\"\" viewBox=\"0 0 800 500\"><rect x=\"0\" y=\"0\" width=\"800\" height=\"500\" style=\"fill: rgb(255, 255, 255); fill-opacity: 1;\"/><defs id=\"defs-9e3f4e\"><g class=\"clips\"><clipPath id=\"clip9e3f4exyplot\" class=\"plotclip\"><rect width=\"640\" height=\"320\"/></clipPath><clipPath class=\"axesclip\" id=\"clip9e3f4ex\"><rect x=\"80\" y=\"0\" width=\"640\" height=\"500\"/></clipPath><clipPath class=\"axesclip\" id=\"clip9e3f4ey\"><rect x=\"0\" y=\"100\" width=\"800\" height=\"320\"/></clipPath><clipPath class=\"axesclip\" id=\"clip9e3f4exy\"><rect x=\"80\" y=\"100\" width=\"640\" height=\"320\"/></clipPath></g><g class=\"gradients\"/><g class=\"patterns\"/></defs><g class=\"bglayer\"><rect class=\"bg\" x=\"80\" y=\"100\" width=\"640\" height=\"320\" style=\"fill: rgb(229, 236, 246); fill-opacity: 1; stroke-width: 0;\"/></g><g class=\"layer-below\"><g class=\"imagelayer\"/><g class=\"shapelayer\"/></g><g class=\"cartesianlayer\"><g class=\"subplot xy\"><g class=\"layer-subplot\"><g class=\"shapelayer\"/><g class=\"imagelayer\"/></g><g class=\"minor-gridlayer\"><g class=\"x\"/><g class=\"y\"/></g><g class=\"gridlayer\"><g class=\"x\"><path class=\"xgrid crisp\" transform=\"translate(116.06,0)\" d=\"M0,100v320\" style=\"stroke: rgb(255, 255, 255); stroke-opacity: 1; stroke-width: 1px;\"/><path class=\"xgrid crisp\" transform=\"translate(229.95,0)\" d=\"M0,100v320\" style=\"stroke: rgb(255, 255, 255); stroke-opacity: 1; stroke-width: 1px;\"/><path class=\"xgrid crisp\" transform=\"translate(343.52,0)\" d=\"M0,100v320\" style=\"stroke: rgb(255, 255, 255); stroke-opacity: 1; stroke-width: 1px;\"/><path class=\"xgrid crisp\" transform=\"translate(457.1,0)\" d=\"M0,100v320\" style=\"stroke: rgb(255, 255, 255); stroke-opacity: 1; stroke-width: 1px;\"/><path class=\"xgrid crisp\" transform=\"translate(570.6700000000001,0)\" d=\"M0,100v320\" style=\"stroke: rgb(255, 255, 255); stroke-opacity: 1; stroke-width: 1px;\"/><path class=\"xgrid crisp\" transform=\"translate(684.56,0)\" d=\"M0,100v320\" style=\"stroke: rgb(255, 255, 255); stroke-opacity: 1; stroke-width: 1px;\"/></g><g class=\"y\"><path class=\"ygrid crisp\" transform=\"translate(0,362.48)\" d=\"M80,0h640\" style=\"stroke: rgb(255, 255, 255); stroke-opacity: 1; stroke-width: 1px;\"/><path class=\"ygrid crisp\" transform=\"translate(0,274.88)\" d=\"M80,0h640\" style=\"stroke: rgb(255, 255, 255); stroke-opacity: 1; stroke-width: 1px;\"/><path class=\"ygrid crisp\" transform=\"translate(0,187.26999999999998)\" d=\"M80,0h640\" style=\"stroke: rgb(255, 255, 255); stroke-opacity: 1; stroke-width: 1px;\"/></g></g><g class=\"zerolinelayer\"/><g class=\"layer-between\"><g class=\"shapelayer\"/><g class=\"imagelayer\"/></g><path class=\"xlines-below\"/><path class=\"ylines-below\"/><g class=\"overlines-below\"/><g class=\"xaxislayer-below\"/><g class=\"yaxislayer-below\"/><g class=\"overaxes-below\"/><g class=\"plot\" transform=\"translate(80,100)\" clip-path=\"url(#clip9e3f4exyplot)\"><g class=\"scatterlayer mlayer\"><g class=\"trace scatter tracecec8bb\" style=\"stroke-miterlimit: 2; opacity: 1;\"><g class=\"fills\"/><g class=\"errorbars\"/><g class=\"lines\"><path class=\"js-line\" d=\"M35.75,300.25L149.64,243.56L263.21,184.81L376.79,48.71L490.36,19.75L604.25,278.52\" style=\"vector-effect: none; fill: none; stroke: rgb(0, 128, 0); stroke-opacity: 1; stroke-width: 2px; opacity: 1;\"/></g><g class=\"points\"><path class=\"point\" transform=\"translate(35.75,300.25)\" d=\"M3,0A3,3 0 1,1 0,-3A3,3 0 0,1 3,0Z\" style=\"opacity: 1; stroke-width: 0px; fill: rgb(0, 128, 0); fill-opacity: 1;\"/><path class=\"point\" transform=\"translate(149.64,243.56)\" d=\"M3,0A3,3 0 1,1 0,-3A3,3 0 0,1 3,0Z\" style=\"opacity: 1; stroke-width: 0px; fill: rgb(0, 128, 0); fill-opacity: 1;\"/><path class=\"point\" transform=\"translate(263.21,184.81)\" d=\"M3,0A3,3 0 1,1 0,-3A3,3 0 0,1 3,0Z\" style=\"opacity: 1; stroke-width: 0px; fill: rgb(0, 128, 0); fill-opacity: 1;\"/><path class=\"point\" transform=\"translate(376.79,48.71)\" d=\"M3,0A3,3 0 1,1 0,-3A3,3 0 0,1 3,0Z\" style=\"opacity: 1; stroke-width: 0px; fill: rgb(0, 128, 0); fill-opacity: 1;\"/><path class=\"point\" transform=\"translate(490.36,19.75)\" d=\"M3,0A3,3 0 1,1 0,-3A3,3 0 0,1 3,0Z\" style=\"opacity: 1; stroke-width: 0px; fill: rgb(0, 128, 0); fill-opacity: 1;\"/><path class=\"point\" transform=\"translate(604.25,278.52)\" d=\"M3,0A3,3 0 1,1 0,-3A3,3 0 0,1 3,0Z\" style=\"opacity: 1; stroke-width: 0px; fill: rgb(0, 128, 0); fill-opacity: 1;\"/></g><g class=\"text\"/></g></g></g><g class=\"overplot\"/><path class=\"xlines-above crisp\" d=\"M0,0\" style=\"fill: none;\"/><path class=\"ylines-above crisp\" d=\"M0,0\" style=\"fill: none;\"/><g class=\"overlines-above\"/><g class=\"xaxislayer-above\"><g class=\"xtick\"><text text-anchor=\"middle\" x=\"0\" y=\"433\" transform=\"translate(116.06,0)\" style=\"font-family: 'Open Sans', verdana, arial, sans-serif; font-size: 12px; fill: rgb(42, 63, 95); fill-opacity: 1; white-space: pre; opacity: 1;\">2020</text></g><g class=\"xtick\"><text text-anchor=\"middle\" x=\"0\" y=\"433\" style=\"font-family: 'Open Sans', verdana, arial, sans-serif; font-size: 12px; fill: rgb(42, 63, 95); fill-opacity: 1; white-space: pre; opacity: 1;\" transform=\"translate(229.95,0)\">2021</text></g><g class=\"xtick\"><text text-anchor=\"middle\" x=\"0\" y=\"433\" style=\"font-family: 'Open Sans', verdana, arial, sans-serif; font-size: 12px; fill: rgb(42, 63, 95); fill-opacity: 1; white-space: pre; opacity: 1;\" transform=\"translate(343.52,0)\">2022</text></g><g class=\"xtick\"><text text-anchor=\"middle\" x=\"0\" y=\"433\" style=\"font-family: 'Open Sans', verdana, arial, sans-serif; font-size: 12px; fill: rgb(42, 63, 95); fill-opacity: 1; white-space: pre; opacity: 1;\" transform=\"translate(457.1,0)\">2023</text></g><g class=\"xtick\"><text text-anchor=\"middle\" x=\"0\" y=\"433\" style=\"font-family: 'Open Sans', verdana, arial, sans-serif; font-size: 12px; fill: rgb(42, 63, 95); fill-opacity: 1; white-space: pre; opacity: 1;\" transform=\"translate(570.6700000000001,0)\">2024</text></g><g class=\"xtick\"><text text-anchor=\"middle\" x=\"0\" y=\"433\" style=\"font-family: 'Open Sans', verdana, arial, sans-serif; font-size: 12px; fill: rgb(42, 63, 95); fill-opacity: 1; white-space: pre; opacity: 1;\" transform=\"translate(684.56,0)\">2025</text></g></g><g class=\"yaxislayer-above\"><g class=\"ytick\"><text text-anchor=\"end\" x=\"79\" y=\"4.199999999999999\" transform=\"translate(0,362.48)\" style=\"font-family: 'Open Sans', verdana, arial, sans-serif; font-size: 12px; fill: rgb(42, 63, 95); fill-opacity: 1; white-space: pre; opacity: 1;\">500</text></g><g class=\"ytick\"><text text-anchor=\"end\" x=\"79\" y=\"4.199999999999999\" style=\"font-family: 'Open Sans', verdana, arial, sans-serif; font-size: 12px; fill: rgb(42, 63, 95); fill-opacity: 1; white-space: pre; opacity: 1;\" transform=\"translate(0,274.88)\">1000</text></g><g class=\"ytick\"><text text-anchor=\"end\" x=\"79\" y=\"4.199999999999999\" style=\"font-family: 'Open Sans', verdana, arial, sans-serif; font-size: 12px; fill: rgb(42, 63, 95); fill-opacity: 1; white-space: pre; opacity: 1;\" transform=\"translate(0,187.26999999999998)\">1500</text></g></g><g class=\"overaxes-above\"/></g></g><g class=\"polarlayer\"/><g class=\"smithlayer\"/><g class=\"ternarylayer\"/><g class=\"geolayer\"/><g class=\"funnelarealayer\"/><g class=\"pielayer\"/><g class=\"iciclelayer\"/><g class=\"treemaplayer\"/><g class=\"sunburstlayer\"/><g class=\"glimages\"/><defs id=\"topdefs-9e3f4e\"><g class=\"clips\"/></defs><g class=\"layer-above\"><g class=\"imagelayer\"/><g class=\"shapelayer\"/></g><g class=\"infolayer\"><g class=\"g-gtitle\"><text class=\"gtitle\" x=\"400\" y=\"50\" text-anchor=\"middle\" dy=\"0em\" style=\"font-family: 'Open Sans', verdana, arial, sans-serif; font-size: 17px; fill: rgb(42, 63, 95); opacity: 1; font-weight: normal; white-space: pre;\">Yearly Audio Streaming Trends Over Time</text></g><g class=\"g-xtitle\"><text class=\"xtitle\" x=\"400\" y=\"460.3\" text-anchor=\"middle\" style=\"font-family: 'Open Sans', verdana, arial, sans-serif; font-size: 14px; fill: rgb(42, 63, 95); opacity: 1; font-weight: normal; white-space: pre;\">Year</text></g><g class=\"g-ytitle\"><text class=\"ytitle\" transform=\"rotate(-90,24.184375000000003,260)\" x=\"24.184375000000003\" y=\"260\" text-anchor=\"middle\" style=\"font-family: 'Open Sans', verdana, arial, sans-serif; font-size: 14px; fill: rgb(42, 63, 95); opacity: 1; font-weight: normal; white-space: pre;\">Hours Played</text></g></g></svg>"
      ]
     },
     "metadata": {},
     "output_type": "display_data"
    }
   ],
   "source": [
    "# Set 'ts' column as the index\n",
    "indexed = spotify_music.set_index('ts', inplace=False)\n",
    "\n",
    "streaming_trends_yearly = indexed.resample('Y').sum()\n",
    "\n",
    "fig = px.line(streaming_trends_yearly, \n",
    "              x=streaming_trends_yearly.index, \n",
    "              y=(streaming_trends_yearly['ms_played'] / (1000 * 60 * 60)).round(2),\n",
    "              labels={'ts': 'Year', 'y': 'Hours Played'},\n",
    "              title='Yearly Audio Streaming Trends Over Time',\n",
    "              color_discrete_sequence=['green'], markers=True)\n",
    "\n",
    "fig.update_layout(title=dict(text='Yearly Audio Streaming Trends Over Time', x=0.5),\n",
    "                  xaxis_title='Year',\n",
    "                  yaxis_title='Hours Played',\n",
    "                  width=800, height=500)\n",
    "fig.show()"
   ]
  },
  {
   "cell_type": "markdown",
   "metadata": {},
   "source": [
    "##### **By Song Counts**"
   ]
  },
  {
   "cell_type": "code",
   "execution_count": 205,
   "metadata": {},
   "outputs": [],
   "source": [
    "spotify_music['year'] = spotify_music['ts'].dt.year\n",
    "grouped_data = spotify_music.groupby('year').size().reset_index(name='song_count')\n",
    "grouped_data = grouped_data.sort_values(by='year')"
   ]
  },
  {
   "cell_type": "code",
   "execution_count": 206,
   "metadata": {},
   "outputs": [
    {
     "data": {
      "image/svg+xml": [
       "<svg class=\"main-svg\" xmlns=\"http://www.w3.org/2000/svg\" xmlns:xlink=\"http://www.w3.org/1999/xlink\" width=\"800\" height=\"500\" style=\"\" viewBox=\"0 0 800 500\"><rect x=\"0\" y=\"0\" width=\"800\" height=\"500\" style=\"fill: rgb(255, 255, 255); fill-opacity: 1;\"/><defs id=\"defs-2e6031\"><g class=\"clips\"><clipPath id=\"clip2e6031xyplot\" class=\"plotclip\"><rect width=\"640\" height=\"360\"/></clipPath><clipPath class=\"axesclip\" id=\"clip2e6031x\"><rect x=\"80\" y=\"0\" width=\"640\" height=\"500\"/></clipPath><clipPath class=\"axesclip\" id=\"clip2e6031y\"><rect x=\"0\" y=\"60\" width=\"800\" height=\"360\"/></clipPath><clipPath class=\"axesclip\" id=\"clip2e6031xy\"><rect x=\"80\" y=\"60\" width=\"640\" height=\"360\"/></clipPath></g><g class=\"gradients\"/><g class=\"patterns\"/></defs><g class=\"bglayer\"><rect class=\"bg\" x=\"80\" y=\"60\" width=\"640\" height=\"360\" style=\"fill: rgb(229, 236, 246); fill-opacity: 1; stroke-width: 0;\"/></g><g class=\"layer-below\"><g class=\"imagelayer\"/><g class=\"shapelayer\"/></g><g class=\"cartesianlayer\"><g class=\"subplot xy\"><g class=\"layer-subplot\"><g class=\"shapelayer\"/><g class=\"imagelayer\"/></g><g class=\"minor-gridlayer\"><g class=\"x\"/><g class=\"y\"/></g><g class=\"gridlayer\"><g class=\"x\"><path class=\"xgrid crisp\" transform=\"translate(115.75,0)\" d=\"M0,60v360\" style=\"stroke: rgb(255, 255, 255); stroke-opacity: 1; stroke-width: 1px;\"/><path class=\"xgrid crisp\" transform=\"translate(229.45,0)\" d=\"M0,60v360\" style=\"stroke: rgb(255, 255, 255); stroke-opacity: 1; stroke-width: 1px;\"/><path class=\"xgrid crisp\" transform=\"translate(343.15,0)\" d=\"M0,60v360\" style=\"stroke: rgb(255, 255, 255); stroke-opacity: 1; stroke-width: 1px;\"/><path class=\"xgrid crisp\" transform=\"translate(456.85,0)\" d=\"M0,60v360\" style=\"stroke: rgb(255, 255, 255); stroke-opacity: 1; stroke-width: 1px;\"/><path class=\"xgrid crisp\" transform=\"translate(570.55,0)\" d=\"M0,60v360\" style=\"stroke: rgb(255, 255, 255); stroke-opacity: 1; stroke-width: 1px;\"/><path class=\"xgrid crisp\" transform=\"translate(684.25,0)\" d=\"M0,60v360\" style=\"stroke: rgb(255, 255, 255); stroke-opacity: 1; stroke-width: 1px;\"/></g><g class=\"y\"><path class=\"ygrid crisp\" transform=\"translate(0,380.21)\" d=\"M80,0h640\" style=\"stroke: rgb(255, 255, 255); stroke-opacity: 1; stroke-width: 1px;\"/><path class=\"ygrid crisp\" transform=\"translate(0,340.42)\" d=\"M80,0h640\" style=\"stroke: rgb(255, 255, 255); stroke-opacity: 1; stroke-width: 1px;\"/><path class=\"ygrid crisp\" transform=\"translate(0,300.62)\" d=\"M80,0h640\" style=\"stroke: rgb(255, 255, 255); stroke-opacity: 1; stroke-width: 1px;\"/><path class=\"ygrid crisp\" transform=\"translate(0,260.83000000000004)\" d=\"M80,0h640\" style=\"stroke: rgb(255, 255, 255); stroke-opacity: 1; stroke-width: 1px;\"/><path class=\"ygrid crisp\" transform=\"translate(0,221.04)\" d=\"M80,0h640\" style=\"stroke: rgb(255, 255, 255); stroke-opacity: 1; stroke-width: 1px;\"/><path class=\"ygrid crisp\" transform=\"translate(0,181.25)\" d=\"M80,0h640\" style=\"stroke: rgb(255, 255, 255); stroke-opacity: 1; stroke-width: 1px;\"/><path class=\"ygrid crisp\" transform=\"translate(0,141.45999999999998)\" d=\"M80,0h640\" style=\"stroke: rgb(255, 255, 255); stroke-opacity: 1; stroke-width: 1px;\"/><path class=\"ygrid crisp\" transform=\"translate(0,101.66)\" d=\"M80,0h640\" style=\"stroke: rgb(255, 255, 255); stroke-opacity: 1; stroke-width: 1px;\"/><path class=\"ygrid crisp\" transform=\"translate(0,61.87)\" d=\"M80,0h640\" style=\"stroke: rgb(255, 255, 255); stroke-opacity: 1; stroke-width: 1px;\"/></g></g><g class=\"zerolinelayer\"><path class=\"yzl zl crisp\" transform=\"translate(0,420)\" d=\"M80,0h640\" style=\"stroke: rgb(255, 255, 255); stroke-opacity: 1; stroke-width: 2px;\"/></g><g class=\"layer-between\"><g class=\"shapelayer\"/><g class=\"imagelayer\"/></g><path class=\"xlines-below\"/><path class=\"ylines-below\"/><g class=\"overlines-below\"/><g class=\"xaxislayer-below\"/><g class=\"yaxislayer-below\"/><g class=\"overaxes-below\"/><g class=\"plot\" transform=\"translate(80,60)\" clip-path=\"url(#clip2e6031xyplot)\"><g class=\"scatterlayer mlayer\"><g class=\"trace scatter tracedef4f8\" style=\"stroke-miterlimit: 2; opacity: 1;\"><g class=\"fills\"/><g class=\"errorbars\"/><g class=\"lines\"><path class=\"js-line\" d=\"M35.75,315.75L149.45,268.68L263.15,199.15L376.85,43.44L490.55,32.73L604.25,289.34\" style=\"vector-effect: none; fill: none; stroke: rgb(0, 128, 0); stroke-opacity: 1; stroke-width: 2px; opacity: 1;\"/></g><g class=\"points\"><path class=\"point\" transform=\"translate(35.75,315.75)\" d=\"M3,0A3,3 0 1,1 0,-3A3,3 0 0,1 3,0Z\" style=\"opacity: 1; stroke-width: 0px; fill: rgb(0, 128, 0); fill-opacity: 1;\"/><path class=\"point\" transform=\"translate(149.45,268.68)\" d=\"M3,0A3,3 0 1,1 0,-3A3,3 0 0,1 3,0Z\" style=\"opacity: 1; stroke-width: 0px; fill: rgb(0, 128, 0); fill-opacity: 1;\"/><path class=\"point\" transform=\"translate(263.15,199.15)\" d=\"M3,0A3,3 0 1,1 0,-3A3,3 0 0,1 3,0Z\" style=\"opacity: 1; stroke-width: 0px; fill: rgb(0, 128, 0); fill-opacity: 1;\"/><path class=\"point\" transform=\"translate(376.85,43.44)\" d=\"M3,0A3,3 0 1,1 0,-3A3,3 0 0,1 3,0Z\" style=\"opacity: 1; stroke-width: 0px; fill: rgb(0, 128, 0); fill-opacity: 1;\"/><path class=\"point\" transform=\"translate(490.55,32.73)\" d=\"M3,0A3,3 0 1,1 0,-3A3,3 0 0,1 3,0Z\" style=\"opacity: 1; stroke-width: 0px; fill: rgb(0, 128, 0); fill-opacity: 1;\"/><path class=\"point\" transform=\"translate(604.25,289.34)\" d=\"M3,0A3,3 0 1,1 0,-3A3,3 0 0,1 3,0Z\" style=\"opacity: 1; stroke-width: 0px; fill: rgb(0, 128, 0); fill-opacity: 1;\"/></g><g class=\"text\"/></g></g></g><g class=\"overplot\"/><path class=\"xlines-above crisp\" d=\"M0,0\" style=\"fill: none;\"/><path class=\"ylines-above crisp\" d=\"M0,0\" style=\"fill: none;\"/><g class=\"overlines-above\"/><g class=\"xaxislayer-above\"><g class=\"xtick\"><text text-anchor=\"middle\" x=\"0\" y=\"433\" transform=\"translate(115.75,0)\" style=\"font-family: 'Open Sans', verdana, arial, sans-serif; font-size: 12px; fill: rgb(42, 63, 95); fill-opacity: 1; white-space: pre; opacity: 1;\">2019</text></g><g class=\"xtick\"><text text-anchor=\"middle\" x=\"0\" y=\"433\" style=\"font-family: 'Open Sans', verdana, arial, sans-serif; font-size: 12px; fill: rgb(42, 63, 95); fill-opacity: 1; white-space: pre; opacity: 1;\" transform=\"translate(229.45,0)\">2020</text></g><g class=\"xtick\"><text text-anchor=\"middle\" x=\"0\" y=\"433\" style=\"font-family: 'Open Sans', verdana, arial, sans-serif; font-size: 12px; fill: rgb(42, 63, 95); fill-opacity: 1; white-space: pre; opacity: 1;\" transform=\"translate(343.15,0)\">2021</text></g><g class=\"xtick\"><text text-anchor=\"middle\" x=\"0\" y=\"433\" style=\"font-family: 'Open Sans', verdana, arial, sans-serif; font-size: 12px; fill: rgb(42, 63, 95); fill-opacity: 1; white-space: pre; opacity: 1;\" transform=\"translate(456.85,0)\">2022</text></g><g class=\"xtick\"><text text-anchor=\"middle\" x=\"0\" y=\"433\" style=\"font-family: 'Open Sans', verdana, arial, sans-serif; font-size: 12px; fill: rgb(42, 63, 95); fill-opacity: 1; white-space: pre; opacity: 1;\" transform=\"translate(570.55,0)\">2023</text></g><g class=\"xtick\"><text text-anchor=\"middle\" x=\"0\" y=\"433\" style=\"font-family: 'Open Sans', verdana, arial, sans-serif; font-size: 12px; fill: rgb(42, 63, 95); fill-opacity: 1; white-space: pre; opacity: 1;\" transform=\"translate(684.25,0)\">2024</text></g></g><g class=\"yaxislayer-above\"><g class=\"ytick\"><text text-anchor=\"end\" x=\"79\" y=\"4.199999999999999\" transform=\"translate(0,420)\" style=\"font-family: 'Open Sans', verdana, arial, sans-serif; font-size: 12px; fill: rgb(42, 63, 95); fill-opacity: 1; white-space: pre; opacity: 1;\">0</text></g><g class=\"ytick\"><text text-anchor=\"end\" x=\"79\" y=\"4.199999999999999\" style=\"font-family: 'Open Sans', verdana, arial, sans-serif; font-size: 12px; fill: rgb(42, 63, 95); fill-opacity: 1; white-space: pre; opacity: 1;\" transform=\"translate(0,380.21)\">5,000</text></g><g class=\"ytick\"><text text-anchor=\"end\" x=\"79\" y=\"4.199999999999999\" style=\"font-family: 'Open Sans', verdana, arial, sans-serif; font-size: 12px; fill: rgb(42, 63, 95); fill-opacity: 1; white-space: pre; opacity: 1;\" transform=\"translate(0,340.42)\">10,000</text></g><g class=\"ytick\"><text text-anchor=\"end\" x=\"79\" y=\"4.199999999999999\" style=\"font-family: 'Open Sans', verdana, arial, sans-serif; font-size: 12px; fill: rgb(42, 63, 95); fill-opacity: 1; white-space: pre; opacity: 1;\" transform=\"translate(0,300.62)\">15,000</text></g><g class=\"ytick\"><text text-anchor=\"end\" x=\"79\" y=\"4.199999999999999\" style=\"font-family: 'Open Sans', verdana, arial, sans-serif; font-size: 12px; fill: rgb(42, 63, 95); fill-opacity: 1; white-space: pre; opacity: 1;\" transform=\"translate(0,260.83000000000004)\">20,000</text></g><g class=\"ytick\"><text text-anchor=\"end\" x=\"79\" y=\"4.199999999999999\" style=\"font-family: 'Open Sans', verdana, arial, sans-serif; font-size: 12px; fill: rgb(42, 63, 95); fill-opacity: 1; white-space: pre; opacity: 1;\" transform=\"translate(0,221.04)\">25,000</text></g><g class=\"ytick\"><text text-anchor=\"end\" x=\"79\" y=\"4.199999999999999\" style=\"font-family: 'Open Sans', verdana, arial, sans-serif; font-size: 12px; fill: rgb(42, 63, 95); fill-opacity: 1; white-space: pre; opacity: 1;\" transform=\"translate(0,181.25)\">30,000</text></g><g class=\"ytick\"><text text-anchor=\"end\" x=\"79\" y=\"4.199999999999999\" style=\"font-family: 'Open Sans', verdana, arial, sans-serif; font-size: 12px; fill: rgb(42, 63, 95); fill-opacity: 1; white-space: pre; opacity: 1;\" transform=\"translate(0,141.45999999999998)\">35,000</text></g><g class=\"ytick\"><text text-anchor=\"end\" x=\"79\" y=\"4.199999999999999\" style=\"font-family: 'Open Sans', verdana, arial, sans-serif; font-size: 12px; fill: rgb(42, 63, 95); fill-opacity: 1; white-space: pre; opacity: 1;\" transform=\"translate(0,101.66)\">40,000</text></g><g class=\"ytick\"><text text-anchor=\"end\" x=\"79\" y=\"4.199999999999999\" style=\"font-family: 'Open Sans', verdana, arial, sans-serif; font-size: 12px; fill: rgb(42, 63, 95); fill-opacity: 1; white-space: pre; opacity: 1;\" transform=\"translate(0,61.87)\">45,000</text></g></g><g class=\"overaxes-above\"/></g></g><g class=\"polarlayer\"/><g class=\"smithlayer\"/><g class=\"ternarylayer\"/><g class=\"geolayer\"/><g class=\"funnelarealayer\"/><g class=\"pielayer\"/><g class=\"iciclelayer\"/><g class=\"treemaplayer\"/><g class=\"sunburstlayer\"/><g class=\"glimages\"/><defs id=\"topdefs-2e6031\"><g class=\"clips\"/></defs><g class=\"layer-above\"><g class=\"imagelayer\"/><g class=\"shapelayer\"/></g><g class=\"infolayer\"><g class=\"g-gtitle\"><text class=\"gtitle\" x=\"400\" y=\"30\" text-anchor=\"middle\" dy=\"0em\" style=\"font-family: 'Open Sans', verdana, arial, sans-serif; font-size: 17px; fill: rgb(42, 63, 95); opacity: 1; font-weight: normal; white-space: pre;\">Yearly Song Count Trends</text></g><g class=\"g-xtitle\"><text class=\"xtitle\" x=\"400\" y=\"460.3\" text-anchor=\"middle\" style=\"font-family: 'Open Sans', verdana, arial, sans-serif; font-size: 14px; fill: rgb(42, 63, 95); opacity: 1; font-weight: normal; white-space: pre;\">Year</text></g><g class=\"g-ytitle\" transform=\"translate(1.8154296875,0)\"><text class=\"ytitle\" transform=\"rotate(-90,12.184375000000003,240)\" x=\"12.184375000000003\" y=\"240\" text-anchor=\"middle\" style=\"font-family: 'Open Sans', verdana, arial, sans-serif; font-size: 14px; fill: rgb(42, 63, 95); opacity: 1; font-weight: normal; white-space: pre;\">Total Songs</text></g></g></svg>"
      ]
     },
     "metadata": {},
     "output_type": "display_data"
    }
   ],
   "source": [
    "fig = px.line(grouped_data, x='year', y='song_count',\n",
    "              labels={'year': 'Year', 'song_count': 'Total Songs'},\n",
    "              color_discrete_sequence=['green'],\n",
    "              markers=True)\n",
    "\n",
    "fig.update_layout(title=dict(text='Yearly Song Count Trends', x=0.5),\n",
    "                  xaxis_title='Year',\n",
    "                  yaxis_title='Total Songs',\n",
    "                  width=800, height=500,\n",
    "                  yaxis=dict(tickformat=',.0f', range=[0, grouped_data['song_count'].max() * 1.1]))\n",
    "fig.show()"
   ]
  },
  {
   "cell_type": "markdown",
   "metadata": {},
   "source": [
    "##### **By Artists Counts**"
   ]
  },
  {
   "cell_type": "code",
   "execution_count": 207,
   "metadata": {},
   "outputs": [
    {
     "data": {
      "image/svg+xml": [
       "<svg class=\"main-svg\" xmlns=\"http://www.w3.org/2000/svg\" xmlns:xlink=\"http://www.w3.org/1999/xlink\" width=\"800\" height=\"500\" style=\"\" viewBox=\"0 0 800 500\"><rect x=\"0\" y=\"0\" width=\"800\" height=\"500\" style=\"fill: rgb(255, 255, 255); fill-opacity: 1;\"/><defs id=\"defs-7c4a0e\"><g class=\"clips\"><clipPath id=\"clip7c4a0exyplot\" class=\"plotclip\"><rect width=\"640\" height=\"320\"/></clipPath><clipPath class=\"axesclip\" id=\"clip7c4a0ex\"><rect x=\"80\" y=\"0\" width=\"640\" height=\"500\"/></clipPath><clipPath class=\"axesclip\" id=\"clip7c4a0ey\"><rect x=\"0\" y=\"100\" width=\"800\" height=\"320\"/></clipPath><clipPath class=\"axesclip\" id=\"clip7c4a0exy\"><rect x=\"80\" y=\"100\" width=\"640\" height=\"320\"/></clipPath></g><g class=\"gradients\"/><g class=\"patterns\"/></defs><g class=\"bglayer\"><rect class=\"bg\" x=\"80\" y=\"100\" width=\"640\" height=\"320\" style=\"fill: rgb(229, 236, 246); fill-opacity: 1; stroke-width: 0;\"/></g><g class=\"layer-below\"><g class=\"imagelayer\"/><g class=\"shapelayer\"/></g><g class=\"cartesianlayer\"><g class=\"subplot xy\"><g class=\"layer-subplot\"><g class=\"shapelayer\"/><g class=\"imagelayer\"/></g><g class=\"minor-gridlayer\"><g class=\"x\"/><g class=\"y\"/></g><g class=\"gridlayer\"><g class=\"x\"><path class=\"xgrid crisp\" transform=\"translate(115.75,0)\" d=\"M0,100v320\" style=\"stroke: rgb(255, 255, 255); stroke-opacity: 1; stroke-width: 1px;\"/><path class=\"xgrid crisp\" transform=\"translate(229.45,0)\" d=\"M0,100v320\" style=\"stroke: rgb(255, 255, 255); stroke-opacity: 1; stroke-width: 1px;\"/><path class=\"xgrid crisp\" transform=\"translate(343.15,0)\" d=\"M0,100v320\" style=\"stroke: rgb(255, 255, 255); stroke-opacity: 1; stroke-width: 1px;\"/><path class=\"xgrid crisp\" transform=\"translate(456.85,0)\" d=\"M0,100v320\" style=\"stroke: rgb(255, 255, 255); stroke-opacity: 1; stroke-width: 1px;\"/><path class=\"xgrid crisp\" transform=\"translate(570.55,0)\" d=\"M0,100v320\" style=\"stroke: rgb(255, 255, 255); stroke-opacity: 1; stroke-width: 1px;\"/><path class=\"xgrid crisp\" transform=\"translate(684.25,0)\" d=\"M0,100v320\" style=\"stroke: rgb(255, 255, 255); stroke-opacity: 1; stroke-width: 1px;\"/></g><g class=\"y\"><path class=\"ygrid crisp\" transform=\"translate(0,368.96)\" d=\"M80,0h640\" style=\"stroke: rgb(255, 255, 255); stroke-opacity: 1; stroke-width: 1px;\"/><path class=\"ygrid crisp\" transform=\"translate(0,314.07)\" d=\"M80,0h640\" style=\"stroke: rgb(255, 255, 255); stroke-opacity: 1; stroke-width: 1px;\"/><path class=\"ygrid crisp\" transform=\"translate(0,259.18)\" d=\"M80,0h640\" style=\"stroke: rgb(255, 255, 255); stroke-opacity: 1; stroke-width: 1px;\"/><path class=\"ygrid crisp\" transform=\"translate(0,204.28)\" d=\"M80,0h640\" style=\"stroke: rgb(255, 255, 255); stroke-opacity: 1; stroke-width: 1px;\"/><path class=\"ygrid crisp\" transform=\"translate(0,149.39)\" d=\"M80,0h640\" style=\"stroke: rgb(255, 255, 255); stroke-opacity: 1; stroke-width: 1px;\"/></g></g><g class=\"zerolinelayer\"/><g class=\"layer-between\"><g class=\"shapelayer\"/><g class=\"imagelayer\"/></g><path class=\"xlines-below\"/><path class=\"ylines-below\"/><g class=\"overlines-below\"/><g class=\"xaxislayer-below\"/><g class=\"yaxislayer-below\"/><g class=\"overaxes-below\"/><g class=\"plot\" transform=\"translate(80,100)\" clip-path=\"url(#clip7c4a0exyplot)\"><g class=\"scatterlayer mlayer\"><g class=\"trace scatter trace5a8b15\" style=\"stroke-miterlimit: 2; opacity: 1;\"><g class=\"fills\"/><g class=\"errorbars\"/><g class=\"lines\"><path class=\"js-line\" d=\"M35.75,300.25L149.45,233.06L263.15,186.73L376.85,141.72L490.55,19.75L604.25,236.68\" style=\"vector-effect: none; fill: none; stroke: rgb(0, 128, 0); stroke-opacity: 1; stroke-width: 2px; opacity: 1;\"/></g><g class=\"points\"><path class=\"point\" transform=\"translate(35.75,300.25)\" d=\"M3,0A3,3 0 1,1 0,-3A3,3 0 0,1 3,0Z\" style=\"opacity: 1; stroke-width: 0px; fill: rgb(0, 128, 0); fill-opacity: 1;\"/><path class=\"point\" transform=\"translate(149.45,233.06)\" d=\"M3,0A3,3 0 1,1 0,-3A3,3 0 0,1 3,0Z\" style=\"opacity: 1; stroke-width: 0px; fill: rgb(0, 128, 0); fill-opacity: 1;\"/><path class=\"point\" transform=\"translate(263.15,186.73)\" d=\"M3,0A3,3 0 1,1 0,-3A3,3 0 0,1 3,0Z\" style=\"opacity: 1; stroke-width: 0px; fill: rgb(0, 128, 0); fill-opacity: 1;\"/><path class=\"point\" transform=\"translate(376.85,141.72)\" d=\"M3,0A3,3 0 1,1 0,-3A3,3 0 0,1 3,0Z\" style=\"opacity: 1; stroke-width: 0px; fill: rgb(0, 128, 0); fill-opacity: 1;\"/><path class=\"point\" transform=\"translate(490.55,19.75)\" d=\"M3,0A3,3 0 1,1 0,-3A3,3 0 0,1 3,0Z\" style=\"opacity: 1; stroke-width: 0px; fill: rgb(0, 128, 0); fill-opacity: 1;\"/><path class=\"point\" transform=\"translate(604.25,236.68)\" d=\"M3,0A3,3 0 1,1 0,-3A3,3 0 0,1 3,0Z\" style=\"opacity: 1; stroke-width: 0px; fill: rgb(0, 128, 0); fill-opacity: 1;\"/></g><g class=\"text\"/></g></g></g><g class=\"overplot\"/><path class=\"xlines-above crisp\" d=\"M0,0\" style=\"fill: none;\"/><path class=\"ylines-above crisp\" d=\"M0,0\" style=\"fill: none;\"/><g class=\"overlines-above\"/><g class=\"xaxislayer-above\"><g class=\"xtick\"><text text-anchor=\"middle\" x=\"0\" y=\"433\" transform=\"translate(115.75,0)\" style=\"font-family: 'Open Sans', verdana, arial, sans-serif; font-size: 12px; fill: rgb(42, 63, 95); fill-opacity: 1; white-space: pre; opacity: 1;\">2019</text></g><g class=\"xtick\"><text text-anchor=\"middle\" x=\"0\" y=\"433\" style=\"font-family: 'Open Sans', verdana, arial, sans-serif; font-size: 12px; fill: rgb(42, 63, 95); fill-opacity: 1; white-space: pre; opacity: 1;\" transform=\"translate(229.45,0)\">2020</text></g><g class=\"xtick\"><text text-anchor=\"middle\" x=\"0\" y=\"433\" style=\"font-family: 'Open Sans', verdana, arial, sans-serif; font-size: 12px; fill: rgb(42, 63, 95); fill-opacity: 1; white-space: pre; opacity: 1;\" transform=\"translate(343.15,0)\">2021</text></g><g class=\"xtick\"><text text-anchor=\"middle\" x=\"0\" y=\"433\" style=\"font-family: 'Open Sans', verdana, arial, sans-serif; font-size: 12px; fill: rgb(42, 63, 95); fill-opacity: 1; white-space: pre; opacity: 1;\" transform=\"translate(456.85,0)\">2022</text></g><g class=\"xtick\"><text text-anchor=\"middle\" x=\"0\" y=\"433\" style=\"font-family: 'Open Sans', verdana, arial, sans-serif; font-size: 12px; fill: rgb(42, 63, 95); fill-opacity: 1; white-space: pre; opacity: 1;\" transform=\"translate(570.55,0)\">2023</text></g><g class=\"xtick\"><text text-anchor=\"middle\" x=\"0\" y=\"433\" style=\"font-family: 'Open Sans', verdana, arial, sans-serif; font-size: 12px; fill: rgb(42, 63, 95); fill-opacity: 1; white-space: pre; opacity: 1;\" transform=\"translate(684.25,0)\">2024</text></g></g><g class=\"yaxislayer-above\"><g class=\"ytick\"><text text-anchor=\"end\" x=\"79\" y=\"4.199999999999999\" transform=\"translate(0,368.96)\" style=\"font-family: 'Open Sans', verdana, arial, sans-serif; font-size: 12px; fill: rgb(42, 63, 95); fill-opacity: 1; white-space: pre; opacity: 1;\">1000</text></g><g class=\"ytick\"><text text-anchor=\"end\" x=\"79\" y=\"4.199999999999999\" style=\"font-family: 'Open Sans', verdana, arial, sans-serif; font-size: 12px; fill: rgb(42, 63, 95); fill-opacity: 1; white-space: pre; opacity: 1;\" transform=\"translate(0,314.07)\">1500</text></g><g class=\"ytick\"><text text-anchor=\"end\" x=\"79\" y=\"4.199999999999999\" style=\"font-family: 'Open Sans', verdana, arial, sans-serif; font-size: 12px; fill: rgb(42, 63, 95); fill-opacity: 1; white-space: pre; opacity: 1;\" transform=\"translate(0,259.18)\">2000</text></g><g class=\"ytick\"><text text-anchor=\"end\" x=\"79\" y=\"4.199999999999999\" style=\"font-family: 'Open Sans', verdana, arial, sans-serif; font-size: 12px; fill: rgb(42, 63, 95); fill-opacity: 1; white-space: pre; opacity: 1;\" transform=\"translate(0,204.28)\">2500</text></g><g class=\"ytick\"><text text-anchor=\"end\" x=\"79\" y=\"4.199999999999999\" style=\"font-family: 'Open Sans', verdana, arial, sans-serif; font-size: 12px; fill: rgb(42, 63, 95); fill-opacity: 1; white-space: pre; opacity: 1;\" transform=\"translate(0,149.39)\">3000</text></g></g><g class=\"overaxes-above\"/></g></g><g class=\"polarlayer\"/><g class=\"smithlayer\"/><g class=\"ternarylayer\"/><g class=\"geolayer\"/><g class=\"funnelarealayer\"/><g class=\"pielayer\"/><g class=\"iciclelayer\"/><g class=\"treemaplayer\"/><g class=\"sunburstlayer\"/><g class=\"glimages\"/><defs id=\"topdefs-7c4a0e\"><g class=\"clips\"/></defs><g class=\"layer-above\"><g class=\"imagelayer\"/><g class=\"shapelayer\"/></g><g class=\"infolayer\"><g class=\"g-gtitle\"><text class=\"gtitle\" x=\"40\" y=\"50\" text-anchor=\"start\" dy=\"0em\" style=\"font-family: 'Open Sans', verdana, arial, sans-serif; font-size: 17px; fill: rgb(42, 63, 95); opacity: 1; font-weight: normal; white-space: pre;\">Number of Unique Artists Each Year</text></g><g class=\"g-xtitle\"><text class=\"xtitle\" x=\"400\" y=\"460.3\" text-anchor=\"middle\" style=\"font-family: 'Open Sans', verdana, arial, sans-serif; font-size: 14px; fill: rgb(42, 63, 95); opacity: 1; font-weight: normal; white-space: pre;\">Year</text></g><g class=\"g-ytitle\"><text class=\"ytitle\" transform=\"rotate(-90,24.184375000000003,260)\" x=\"24.184375000000003\" y=\"260\" text-anchor=\"middle\" style=\"font-family: 'Open Sans', verdana, arial, sans-serif; font-size: 14px; fill: rgb(42, 63, 95); opacity: 1; font-weight: normal; white-space: pre;\">Number of Unique Artists</text></g></g></svg>"
      ]
     },
     "metadata": {},
     "output_type": "display_data"
    }
   ],
   "source": [
    "# Create a 'year' column based on the 'ts' timestamp column\n",
    "spotify_data['year'] = spotify_data['ts'].dt.year\n",
    "\n",
    "# Calculate the number of unique artists for each year\n",
    "artists_per_year = spotify_data.groupby('year')['master_metadata_album_artist_name'].nunique().reset_index()\n",
    "\n",
    "# Create the plot using Plotly Express (px)\n",
    "fig = px.line(artists_per_year, x='year', y='master_metadata_album_artist_name',\n",
    "             labels={'year': 'Year', 'master_metadata_album_artist_name': 'Number of Unique Artists'},\n",
    "             title='Number of Unique Artists Each Year',\n",
    "             color_discrete_sequence=['green'], markers=True,\n",
    "             width=800, height=500)\n",
    "fig.show()"
   ]
  },
  {
   "cell_type": "markdown",
   "metadata": {},
   "source": [
    "#### **Monthly `Music` Streaming Trend**"
   ]
  },
  {
   "cell_type": "code",
   "execution_count": 208,
   "metadata": {},
   "outputs": [
    {
     "data": {
      "image/svg+xml": [
       "<svg class=\"main-svg\" xmlns=\"http://www.w3.org/2000/svg\" xmlns:xlink=\"http://www.w3.org/1999/xlink\" width=\"1100\" height=\"500\" style=\"\" viewBox=\"0 0 1100 500\"><rect x=\"0\" y=\"0\" width=\"1100\" height=\"500\" style=\"fill: rgb(255, 255, 255); fill-opacity: 1;\"/><defs id=\"defs-72f38a\"><g class=\"clips\"><clipPath id=\"clip72f38axyplot\" class=\"plotclip\"><rect width=\"940\" height=\"320\"/></clipPath><clipPath class=\"axesclip\" id=\"clip72f38ax\"><rect x=\"80\" y=\"0\" width=\"940\" height=\"500\"/></clipPath><clipPath class=\"axesclip\" id=\"clip72f38ay\"><rect x=\"0\" y=\"100\" width=\"1100\" height=\"320\"/></clipPath><clipPath class=\"axesclip\" id=\"clip72f38axy\"><rect x=\"80\" y=\"100\" width=\"940\" height=\"320\"/></clipPath></g><g class=\"gradients\"/><g class=\"patterns\"/></defs><g class=\"bglayer\"><rect class=\"bg\" x=\"80\" y=\"100\" width=\"940\" height=\"320\" style=\"fill: rgb(229, 236, 246); fill-opacity: 1; stroke-width: 0;\"/></g><g class=\"layer-below\"><g class=\"imagelayer\"/><g class=\"shapelayer\"><g class=\"shape-group\" data-index=\"0\" clip-path=\"url(#clip72f38ax)\"><path data-index=\"0\" fill-rule=\"evenodd\" d=\"M722.39,420H777.9V100H722.39Z\" style=\"opacity: 1; stroke: rgb(0, 0, 0); stroke-opacity: 0; fill: rgb(0, 255, 0); fill-opacity: 0.2; stroke-width: 0px;\"/></g></g></g><g class=\"cartesianlayer\"><g class=\"subplot xy\"><g class=\"layer-subplot\"><g class=\"shapelayer\"/><g class=\"imagelayer\"/></g><g class=\"minor-gridlayer\"><g class=\"x\"/><g class=\"y\"/></g><g class=\"gridlayer\"><g class=\"x\"><path class=\"xgrid crisp\" transform=\"translate(104.58,0)\" d=\"M0,100v320\" style=\"stroke: rgb(255, 255, 255); stroke-opacity: 1; stroke-width: 1px;\"/><path class=\"xgrid crisp\" transform=\"translate(269.3,0)\" d=\"M0,100v320\" style=\"stroke: rgb(255, 255, 255); stroke-opacity: 1; stroke-width: 1px;\"/><path class=\"xgrid crisp\" transform=\"translate(434.47,0)\" d=\"M0,100v320\" style=\"stroke: rgb(255, 255, 255); stroke-opacity: 1; stroke-width: 1px;\"/><path class=\"xgrid crisp\" transform=\"translate(599.19,0)\" d=\"M0,100v320\" style=\"stroke: rgb(255, 255, 255); stroke-opacity: 1; stroke-width: 1px;\"/><path class=\"xgrid crisp\" transform=\"translate(763.91,0)\" d=\"M0,100v320\" style=\"stroke: rgb(255, 255, 255); stroke-opacity: 1; stroke-width: 1px;\"/><path class=\"xgrid crisp\" transform=\"translate(928.63,0)\" d=\"M0,100v320\" style=\"stroke: rgb(255, 255, 255); stroke-opacity: 1; stroke-width: 1px;\"/></g><g class=\"y\"><path class=\"ygrid crisp\" transform=\"translate(0,362.95)\" d=\"M80,0h940\" style=\"stroke: rgb(255, 255, 255); stroke-opacity: 1; stroke-width: 1px;\"/><path class=\"ygrid crisp\" transform=\"translate(0,325.65999999999997)\" d=\"M80,0h940\" style=\"stroke: rgb(255, 255, 255); stroke-opacity: 1; stroke-width: 1px;\"/><path class=\"ygrid crisp\" transform=\"translate(0,288.36)\" d=\"M80,0h940\" style=\"stroke: rgb(255, 255, 255); stroke-opacity: 1; stroke-width: 1px;\"/><path class=\"ygrid crisp\" transform=\"translate(0,251.06)\" d=\"M80,0h940\" style=\"stroke: rgb(255, 255, 255); stroke-opacity: 1; stroke-width: 1px;\"/><path class=\"ygrid crisp\" transform=\"translate(0,213.76999999999998)\" d=\"M80,0h940\" style=\"stroke: rgb(255, 255, 255); stroke-opacity: 1; stroke-width: 1px;\"/><path class=\"ygrid crisp\" transform=\"translate(0,176.47)\" d=\"M80,0h940\" style=\"stroke: rgb(255, 255, 255); stroke-opacity: 1; stroke-width: 1px;\"/><path class=\"ygrid crisp\" transform=\"translate(0,139.17000000000002)\" d=\"M80,0h940\" style=\"stroke: rgb(255, 255, 255); stroke-opacity: 1; stroke-width: 1px;\"/><path class=\"ygrid crisp\" transform=\"translate(0,101.88)\" d=\"M80,0h940\" style=\"stroke: rgb(255, 255, 255); stroke-opacity: 1; stroke-width: 1px;\"/></g></g><g class=\"zerolinelayer\"><path class=\"yzl zl crisp\" transform=\"translate(0,400.25)\" d=\"M80,0h940\" style=\"stroke: rgb(255, 255, 255); stroke-opacity: 1; stroke-width: 2px;\"/></g><g class=\"layer-between\"><g class=\"shapelayer\"/><g class=\"imagelayer\"/></g><path class=\"xlines-below\"/><path class=\"ylines-below\"/><g class=\"overlines-below\"/><g class=\"xaxislayer-below\"/><g class=\"yaxislayer-below\"/><g class=\"overaxes-below\"/><g class=\"plot\" transform=\"translate(80,100)\" clip-path=\"url(#clip72f38axyplot)\"><g class=\"scatterlayer mlayer\"><g class=\"trace scatter trace6568ff\" style=\"stroke-miterlimit: 2; opacity: 1;\"><g class=\"fills\"/><g class=\"errorbars\"/><g class=\"lines\"><path class=\"js-line\" d=\"M50.75,298.25L64.74,300.25L78.28,300.25L92.27,283.48L105.81,265.94L119.8,283.65L133.79,275.54L147.33,287.91L161.32,276.76L174.86,257.52L188.85,261.05L215.92,298.17L229.91,290.05L243.45,267.75L257.44,249.79L270.98,268.33L284.97,257.19L312.5,232.51L326.49,255.65L340.03,242.19L354.02,262.42L368.01,248.14L380.64,277.42L394.63,242.28L408.17,256.96L422.16,271.69L435.7,216.18L449.69,264.64L463.68,250.98L477.22,233.7L491.21,232.12L504.75,228.12L518.74,177.13L532.73,220.74L545.37,220.85L559.36,194.63L572.89,243.77L586.88,300.25L600.42,300.25L628.4,300.25L641.94,80.27L655.93,110.1L669.47,19.75L683.46,28.81L697.45,153.22L710.09,176.13L724.08,156.35L737.62,194.63L751.61,145.53L765.14,194.39L779.13,207.54L793.12,192.83L806.66,230.92L820.65,181.45L834.19,175.7L848.18,187.94L862.17,186L875.26,174.64L889.25,235.46\" style=\"vector-effect: none; fill: none; stroke: rgb(0, 128, 0); stroke-opacity: 1; stroke-width: 2px; opacity: 1;\"/></g><g class=\"points\"><path class=\"point\" transform=\"translate(50.75,298.25)\" d=\"M3,0A3,3 0 1,1 0,-3A3,3 0 0,1 3,0Z\" style=\"opacity: 1; stroke-width: 0px; fill: rgb(0, 128, 0); fill-opacity: 1;\"/><path class=\"point\" transform=\"translate(64.74,300.25)\" d=\"M3,0A3,3 0 1,1 0,-3A3,3 0 0,1 3,0Z\" style=\"opacity: 1; stroke-width: 0px; fill: rgb(0, 128, 0); fill-opacity: 1;\"/><path class=\"point\" transform=\"translate(78.28,300.25)\" d=\"M3,0A3,3 0 1,1 0,-3A3,3 0 0,1 3,0Z\" style=\"opacity: 1; stroke-width: 0px; fill: rgb(0, 128, 0); fill-opacity: 1;\"/><path class=\"point\" transform=\"translate(92.27,283.48)\" d=\"M3,0A3,3 0 1,1 0,-3A3,3 0 0,1 3,0Z\" style=\"opacity: 1; stroke-width: 0px; fill: rgb(0, 128, 0); fill-opacity: 1;\"/><path class=\"point\" transform=\"translate(105.81,265.94)\" d=\"M3,0A3,3 0 1,1 0,-3A3,3 0 0,1 3,0Z\" style=\"opacity: 1; stroke-width: 0px; fill: rgb(0, 128, 0); fill-opacity: 1;\"/><path class=\"point\" transform=\"translate(119.8,283.65)\" d=\"M3,0A3,3 0 1,1 0,-3A3,3 0 0,1 3,0Z\" style=\"opacity: 1; stroke-width: 0px; fill: rgb(0, 128, 0); fill-opacity: 1;\"/><path class=\"point\" transform=\"translate(133.79,275.54)\" d=\"M3,0A3,3 0 1,1 0,-3A3,3 0 0,1 3,0Z\" style=\"opacity: 1; stroke-width: 0px; fill: rgb(0, 128, 0); fill-opacity: 1;\"/><path class=\"point\" transform=\"translate(147.33,287.91)\" d=\"M3,0A3,3 0 1,1 0,-3A3,3 0 0,1 3,0Z\" style=\"opacity: 1; stroke-width: 0px; fill: rgb(0, 128, 0); fill-opacity: 1;\"/><path class=\"point\" transform=\"translate(161.32,276.76)\" d=\"M3,0A3,3 0 1,1 0,-3A3,3 0 0,1 3,0Z\" style=\"opacity: 1; stroke-width: 0px; fill: rgb(0, 128, 0); fill-opacity: 1;\"/><path class=\"point\" transform=\"translate(174.86,257.52)\" d=\"M3,0A3,3 0 1,1 0,-3A3,3 0 0,1 3,0Z\" style=\"opacity: 1; stroke-width: 0px; fill: rgb(0, 128, 0); fill-opacity: 1;\"/><path class=\"point\" transform=\"translate(188.85,261.05)\" d=\"M3,0A3,3 0 1,1 0,-3A3,3 0 0,1 3,0Z\" style=\"opacity: 1; stroke-width: 0px; fill: rgb(0, 128, 0); fill-opacity: 1;\"/><path class=\"point\" transform=\"translate(202.84,280.7)\" d=\"M3,0A3,3 0 1,1 0,-3A3,3 0 0,1 3,0Z\" style=\"opacity: 1; stroke-width: 0px; fill: rgb(0, 128, 0); fill-opacity: 1;\"/><path class=\"point\" transform=\"translate(215.92,298.17)\" d=\"M3,0A3,3 0 1,1 0,-3A3,3 0 0,1 3,0Z\" style=\"opacity: 1; stroke-width: 0px; fill: rgb(0, 128, 0); fill-opacity: 1;\"/><path class=\"point\" transform=\"translate(229.91,290.05)\" d=\"M3,0A3,3 0 1,1 0,-3A3,3 0 0,1 3,0Z\" style=\"opacity: 1; stroke-width: 0px; fill: rgb(0, 128, 0); fill-opacity: 1;\"/><path class=\"point\" transform=\"translate(243.45,267.75)\" d=\"M3,0A3,3 0 1,1 0,-3A3,3 0 0,1 3,0Z\" style=\"opacity: 1; stroke-width: 0px; fill: rgb(0, 128, 0); fill-opacity: 1;\"/><path class=\"point\" transform=\"translate(257.44,249.79)\" d=\"M3,0A3,3 0 1,1 0,-3A3,3 0 0,1 3,0Z\" style=\"opacity: 1; stroke-width: 0px; fill: rgb(0, 128, 0); fill-opacity: 1;\"/><path class=\"point\" transform=\"translate(270.98,268.33)\" d=\"M3,0A3,3 0 1,1 0,-3A3,3 0 0,1 3,0Z\" style=\"opacity: 1; stroke-width: 0px; fill: rgb(0, 128, 0); fill-opacity: 1;\"/><path class=\"point\" transform=\"translate(284.97,257.19)\" d=\"M3,0A3,3 0 1,1 0,-3A3,3 0 0,1 3,0Z\" style=\"opacity: 1; stroke-width: 0px; fill: rgb(0, 128, 0); fill-opacity: 1;\"/><path class=\"point\" transform=\"translate(298.96,244.75)\" d=\"M3,0A3,3 0 1,1 0,-3A3,3 0 0,1 3,0Z\" style=\"opacity: 1; stroke-width: 0px; fill: rgb(0, 128, 0); fill-opacity: 1;\"/><path class=\"point\" transform=\"translate(312.5,232.51)\" d=\"M3,0A3,3 0 1,1 0,-3A3,3 0 0,1 3,0Z\" style=\"opacity: 1; stroke-width: 0px; fill: rgb(0, 128, 0); fill-opacity: 1;\"/><path class=\"point\" transform=\"translate(326.49,255.65)\" d=\"M3,0A3,3 0 1,1 0,-3A3,3 0 0,1 3,0Z\" style=\"opacity: 1; stroke-width: 0px; fill: rgb(0, 128, 0); fill-opacity: 1;\"/><path class=\"point\" transform=\"translate(340.03,242.19)\" d=\"M3,0A3,3 0 1,1 0,-3A3,3 0 0,1 3,0Z\" style=\"opacity: 1; stroke-width: 0px; fill: rgb(0, 128, 0); fill-opacity: 1;\"/><path class=\"point\" transform=\"translate(354.02,262.42)\" d=\"M3,0A3,3 0 1,1 0,-3A3,3 0 0,1 3,0Z\" style=\"opacity: 1; stroke-width: 0px; fill: rgb(0, 128, 0); fill-opacity: 1;\"/><path class=\"point\" transform=\"translate(368.01,248.14)\" d=\"M3,0A3,3 0 1,1 0,-3A3,3 0 0,1 3,0Z\" style=\"opacity: 1; stroke-width: 0px; fill: rgb(0, 128, 0); fill-opacity: 1;\"/><path class=\"point\" transform=\"translate(380.64,277.42)\" d=\"M3,0A3,3 0 1,1 0,-3A3,3 0 0,1 3,0Z\" style=\"opacity: 1; stroke-width: 0px; fill: rgb(0, 128, 0); fill-opacity: 1;\"/><path class=\"point\" transform=\"translate(394.63,242.28)\" d=\"M3,0A3,3 0 1,1 0,-3A3,3 0 0,1 3,0Z\" style=\"opacity: 1; stroke-width: 0px; fill: rgb(0, 128, 0); fill-opacity: 1;\"/><path class=\"point\" transform=\"translate(408.17,256.96)\" d=\"M3,0A3,3 0 1,1 0,-3A3,3 0 0,1 3,0Z\" style=\"opacity: 1; stroke-width: 0px; fill: rgb(0, 128, 0); fill-opacity: 1;\"/><path class=\"point\" transform=\"translate(422.16,271.69)\" d=\"M3,0A3,3 0 1,1 0,-3A3,3 0 0,1 3,0Z\" style=\"opacity: 1; stroke-width: 0px; fill: rgb(0, 128, 0); fill-opacity: 1;\"/><path class=\"point\" transform=\"translate(435.7,216.18)\" d=\"M3,0A3,3 0 1,1 0,-3A3,3 0 0,1 3,0Z\" style=\"opacity: 1; stroke-width: 0px; fill: rgb(0, 128, 0); fill-opacity: 1;\"/><path class=\"point\" transform=\"translate(449.69,264.64)\" d=\"M3,0A3,3 0 1,1 0,-3A3,3 0 0,1 3,0Z\" style=\"opacity: 1; stroke-width: 0px; fill: rgb(0, 128, 0); fill-opacity: 1;\"/><path class=\"point\" transform=\"translate(463.68,250.98)\" d=\"M3,0A3,3 0 1,1 0,-3A3,3 0 0,1 3,0Z\" style=\"opacity: 1; stroke-width: 0px; fill: rgb(0, 128, 0); fill-opacity: 1;\"/><path class=\"point\" transform=\"translate(477.22,233.7)\" d=\"M3,0A3,3 0 1,1 0,-3A3,3 0 0,1 3,0Z\" style=\"opacity: 1; stroke-width: 0px; fill: rgb(0, 128, 0); fill-opacity: 1;\"/><path class=\"point\" transform=\"translate(491.21,232.12)\" d=\"M3,0A3,3 0 1,1 0,-3A3,3 0 0,1 3,0Z\" style=\"opacity: 1; stroke-width: 0px; fill: rgb(0, 128, 0); fill-opacity: 1;\"/><path class=\"point\" transform=\"translate(504.75,228.12)\" d=\"M3,0A3,3 0 1,1 0,-3A3,3 0 0,1 3,0Z\" style=\"opacity: 1; stroke-width: 0px; fill: rgb(0, 128, 0); fill-opacity: 1;\"/><path class=\"point\" transform=\"translate(518.74,177.13)\" d=\"M3,0A3,3 0 1,1 0,-3A3,3 0 0,1 3,0Z\" style=\"opacity: 1; stroke-width: 0px; fill: rgb(0, 128, 0); fill-opacity: 1;\"/><path class=\"point\" transform=\"translate(532.73,220.74)\" d=\"M3,0A3,3 0 1,1 0,-3A3,3 0 0,1 3,0Z\" style=\"opacity: 1; stroke-width: 0px; fill: rgb(0, 128, 0); fill-opacity: 1;\"/><path class=\"point\" transform=\"translate(545.37,220.85)\" d=\"M3,0A3,3 0 1,1 0,-3A3,3 0 0,1 3,0Z\" style=\"opacity: 1; stroke-width: 0px; fill: rgb(0, 128, 0); fill-opacity: 1;\"/><path class=\"point\" transform=\"translate(559.36,194.63)\" d=\"M3,0A3,3 0 1,1 0,-3A3,3 0 0,1 3,0Z\" style=\"opacity: 1; stroke-width: 0px; fill: rgb(0, 128, 0); fill-opacity: 1;\"/><path class=\"point\" transform=\"translate(572.89,243.77)\" d=\"M3,0A3,3 0 1,1 0,-3A3,3 0 0,1 3,0Z\" style=\"opacity: 1; stroke-width: 0px; fill: rgb(0, 128, 0); fill-opacity: 1;\"/><path class=\"point\" transform=\"translate(586.88,300.25)\" d=\"M3,0A3,3 0 1,1 0,-3A3,3 0 0,1 3,0Z\" style=\"opacity: 1; stroke-width: 0px; fill: rgb(0, 128, 0); fill-opacity: 1;\"/><path class=\"point\" transform=\"translate(600.42,300.25)\" d=\"M3,0A3,3 0 1,1 0,-3A3,3 0 0,1 3,0Z\" style=\"opacity: 1; stroke-width: 0px; fill: rgb(0, 128, 0); fill-opacity: 1;\"/><path class=\"point\" transform=\"translate(614.41,300.25)\" d=\"M3,0A3,3 0 1,1 0,-3A3,3 0 0,1 3,0Z\" style=\"opacity: 1; stroke-width: 0px; fill: rgb(0, 128, 0); fill-opacity: 1;\"/><path class=\"point\" transform=\"translate(628.4,300.25)\" d=\"M3,0A3,3 0 1,1 0,-3A3,3 0 0,1 3,0Z\" style=\"opacity: 1; stroke-width: 0px; fill: rgb(0, 128, 0); fill-opacity: 1;\"/><path class=\"point\" transform=\"translate(641.94,80.27)\" d=\"M3,0A3,3 0 1,1 0,-3A3,3 0 0,1 3,0Z\" style=\"opacity: 1; stroke-width: 0px; fill: rgb(0, 128, 0); fill-opacity: 1;\"/><path class=\"point\" transform=\"translate(655.93,110.1)\" d=\"M3,0A3,3 0 1,1 0,-3A3,3 0 0,1 3,0Z\" style=\"opacity: 1; stroke-width: 0px; fill: rgb(0, 128, 0); fill-opacity: 1;\"/><path class=\"point\" transform=\"translate(669.47,19.75)\" d=\"M3,0A3,3 0 1,1 0,-3A3,3 0 0,1 3,0Z\" style=\"opacity: 1; stroke-width: 0px; fill: rgb(0, 128, 0); fill-opacity: 1;\"/><path class=\"point\" transform=\"translate(683.46,28.81)\" d=\"M3,0A3,3 0 1,1 0,-3A3,3 0 0,1 3,0Z\" style=\"opacity: 1; stroke-width: 0px; fill: rgb(0, 128, 0); fill-opacity: 1;\"/><path class=\"point\" transform=\"translate(697.45,153.22)\" d=\"M3,0A3,3 0 1,1 0,-3A3,3 0 0,1 3,0Z\" style=\"opacity: 1; stroke-width: 0px; fill: rgb(0, 128, 0); fill-opacity: 1;\"/><path class=\"point\" transform=\"translate(710.09,176.13)\" d=\"M3,0A3,3 0 1,1 0,-3A3,3 0 0,1 3,0Z\" style=\"opacity: 1; stroke-width: 0px; fill: rgb(0, 128, 0); fill-opacity: 1;\"/><path class=\"point\" transform=\"translate(724.08,156.35)\" d=\"M3,0A3,3 0 1,1 0,-3A3,3 0 0,1 3,0Z\" style=\"opacity: 1; stroke-width: 0px; fill: rgb(0, 128, 0); fill-opacity: 1;\"/><path class=\"point\" transform=\"translate(737.62,194.63)\" d=\"M3,0A3,3 0 1,1 0,-3A3,3 0 0,1 3,0Z\" style=\"opacity: 1; stroke-width: 0px; fill: rgb(0, 128, 0); fill-opacity: 1;\"/><path class=\"point\" transform=\"translate(751.61,145.53)\" d=\"M3,0A3,3 0 1,1 0,-3A3,3 0 0,1 3,0Z\" style=\"opacity: 1; stroke-width: 0px; fill: rgb(0, 128, 0); fill-opacity: 1;\"/><path class=\"point\" transform=\"translate(765.14,194.39)\" d=\"M3,0A3,3 0 1,1 0,-3A3,3 0 0,1 3,0Z\" style=\"opacity: 1; stroke-width: 0px; fill: rgb(0, 128, 0); fill-opacity: 1;\"/><path class=\"point\" transform=\"translate(779.13,207.54)\" d=\"M3,0A3,3 0 1,1 0,-3A3,3 0 0,1 3,0Z\" style=\"opacity: 1; stroke-width: 0px; fill: rgb(0, 128, 0); fill-opacity: 1;\"/><path class=\"point\" transform=\"translate(793.12,192.83)\" d=\"M3,0A3,3 0 1,1 0,-3A3,3 0 0,1 3,0Z\" style=\"opacity: 1; stroke-width: 0px; fill: rgb(0, 128, 0); fill-opacity: 1;\"/><path class=\"point\" transform=\"translate(806.66,230.92)\" d=\"M3,0A3,3 0 1,1 0,-3A3,3 0 0,1 3,0Z\" style=\"opacity: 1; stroke-width: 0px; fill: rgb(0, 128, 0); fill-opacity: 1;\"/><path class=\"point\" transform=\"translate(820.65,181.45)\" d=\"M3,0A3,3 0 1,1 0,-3A3,3 0 0,1 3,0Z\" style=\"opacity: 1; stroke-width: 0px; fill: rgb(0, 128, 0); fill-opacity: 1;\"/><path class=\"point\" transform=\"translate(834.19,175.7)\" d=\"M3,0A3,3 0 1,1 0,-3A3,3 0 0,1 3,0Z\" style=\"opacity: 1; stroke-width: 0px; fill: rgb(0, 128, 0); fill-opacity: 1;\"/><path class=\"point\" transform=\"translate(848.18,187.94)\" d=\"M3,0A3,3 0 1,1 0,-3A3,3 0 0,1 3,0Z\" style=\"opacity: 1; stroke-width: 0px; fill: rgb(0, 128, 0); fill-opacity: 1;\"/><path class=\"point\" transform=\"translate(862.17,186)\" d=\"M3,0A3,3 0 1,1 0,-3A3,3 0 0,1 3,0Z\" style=\"opacity: 1; stroke-width: 0px; fill: rgb(0, 128, 0); fill-opacity: 1;\"/><path class=\"point\" transform=\"translate(875.26,174.64)\" d=\"M3,0A3,3 0 1,1 0,-3A3,3 0 0,1 3,0Z\" style=\"opacity: 1; stroke-width: 0px; fill: rgb(0, 128, 0); fill-opacity: 1;\"/><path class=\"point\" transform=\"translate(889.25,235.46)\" d=\"M3,0A3,3 0 1,1 0,-3A3,3 0 0,1 3,0Z\" style=\"opacity: 1; stroke-width: 0px; fill: rgb(0, 128, 0); fill-opacity: 1;\"/></g><g class=\"text\"/></g></g></g><g class=\"overplot\"/><path class=\"xlines-above crisp\" d=\"M0,0\" style=\"fill: none;\"/><path class=\"ylines-above crisp\" d=\"M0,0\" style=\"fill: none;\"/><g class=\"overlines-above\"/><g class=\"xaxislayer-above\"><g class=\"xtick\"><text text-anchor=\"middle\" x=\"0\" y=\"433\" transform=\"translate(104.58,0)\" style=\"font-family: 'Open Sans', verdana, arial, sans-serif; font-size: 12px; fill: rgb(42, 63, 95); fill-opacity: 1; white-space: pre; opacity: 1;\">2019</text></g><g class=\"xtick\"><text text-anchor=\"middle\" x=\"0\" y=\"433\" style=\"font-family: 'Open Sans', verdana, arial, sans-serif; font-size: 12px; fill: rgb(42, 63, 95); fill-opacity: 1; white-space: pre; opacity: 1;\" transform=\"translate(269.3,0)\">2020</text></g><g class=\"xtick\"><text text-anchor=\"middle\" x=\"0\" y=\"433\" style=\"font-family: 'Open Sans', verdana, arial, sans-serif; font-size: 12px; fill: rgb(42, 63, 95); fill-opacity: 1; white-space: pre; opacity: 1;\" transform=\"translate(434.47,0)\">2021</text></g><g class=\"xtick\"><text text-anchor=\"middle\" x=\"0\" y=\"433\" style=\"font-family: 'Open Sans', verdana, arial, sans-serif; font-size: 12px; fill: rgb(42, 63, 95); fill-opacity: 1; white-space: pre; opacity: 1;\" transform=\"translate(599.19,0)\">2022</text></g><g class=\"xtick\"><text text-anchor=\"middle\" x=\"0\" y=\"433\" style=\"font-family: 'Open Sans', verdana, arial, sans-serif; font-size: 12px; fill: rgb(42, 63, 95); fill-opacity: 1; white-space: pre; opacity: 1;\" transform=\"translate(763.91,0)\">2023</text></g><g class=\"xtick\"><text text-anchor=\"middle\" x=\"0\" y=\"433\" style=\"font-family: 'Open Sans', verdana, arial, sans-serif; font-size: 12px; fill: rgb(42, 63, 95); fill-opacity: 1; white-space: pre; opacity: 1;\" transform=\"translate(928.63,0)\">2024</text></g></g><g class=\"yaxislayer-above\"><g class=\"ytick\"><text text-anchor=\"end\" x=\"79\" y=\"4.199999999999999\" transform=\"translate(0,400.25)\" style=\"font-family: 'Open Sans', verdana, arial, sans-serif; font-size: 12px; fill: rgb(42, 63, 95); fill-opacity: 1; white-space: pre; opacity: 1;\">0</text></g><g class=\"ytick\"><text text-anchor=\"end\" x=\"79\" y=\"4.199999999999999\" style=\"font-family: 'Open Sans', verdana, arial, sans-serif; font-size: 12px; fill: rgb(42, 63, 95); fill-opacity: 1; white-space: pre; opacity: 1;\" transform=\"translate(0,362.95)\">50</text></g><g class=\"ytick\"><text text-anchor=\"end\" x=\"79\" y=\"4.199999999999999\" style=\"font-family: 'Open Sans', verdana, arial, sans-serif; font-size: 12px; fill: rgb(42, 63, 95); fill-opacity: 1; white-space: pre; opacity: 1;\" transform=\"translate(0,325.65999999999997)\">100</text></g><g class=\"ytick\"><text text-anchor=\"end\" x=\"79\" y=\"4.199999999999999\" style=\"font-family: 'Open Sans', verdana, arial, sans-serif; font-size: 12px; fill: rgb(42, 63, 95); fill-opacity: 1; white-space: pre; opacity: 1;\" transform=\"translate(0,288.36)\">150</text></g><g class=\"ytick\"><text text-anchor=\"end\" x=\"79\" y=\"4.199999999999999\" style=\"font-family: 'Open Sans', verdana, arial, sans-serif; font-size: 12px; fill: rgb(42, 63, 95); fill-opacity: 1; white-space: pre; opacity: 1;\" transform=\"translate(0,251.06)\">200</text></g><g class=\"ytick\"><text text-anchor=\"end\" x=\"79\" y=\"4.199999999999999\" style=\"font-family: 'Open Sans', verdana, arial, sans-serif; font-size: 12px; fill: rgb(42, 63, 95); fill-opacity: 1; white-space: pre; opacity: 1;\" transform=\"translate(0,213.76999999999998)\">250</text></g><g class=\"ytick\"><text text-anchor=\"end\" x=\"79\" y=\"4.199999999999999\" style=\"font-family: 'Open Sans', verdana, arial, sans-serif; font-size: 12px; fill: rgb(42, 63, 95); fill-opacity: 1; white-space: pre; opacity: 1;\" transform=\"translate(0,176.47)\">300</text></g><g class=\"ytick\"><text text-anchor=\"end\" x=\"79\" y=\"4.199999999999999\" style=\"font-family: 'Open Sans', verdana, arial, sans-serif; font-size: 12px; fill: rgb(42, 63, 95); fill-opacity: 1; white-space: pre; opacity: 1;\" transform=\"translate(0,139.17000000000002)\">350</text></g><g class=\"ytick\"><text text-anchor=\"end\" x=\"79\" y=\"4.199999999999999\" style=\"font-family: 'Open Sans', verdana, arial, sans-serif; font-size: 12px; fill: rgb(42, 63, 95); fill-opacity: 1; white-space: pre; opacity: 1;\" transform=\"translate(0,101.88)\">400</text></g></g><g class=\"overaxes-above\"/></g></g><g class=\"polarlayer\"/><g class=\"smithlayer\"/><g class=\"ternarylayer\"/><g class=\"geolayer\"/><g class=\"funnelarealayer\"/><g class=\"pielayer\"/><g class=\"iciclelayer\"/><g class=\"treemaplayer\"/><g class=\"sunburstlayer\"/><g class=\"glimages\"/><defs id=\"topdefs-72f38a\"><g class=\"clips\"/></defs><g class=\"layer-above\"><g class=\"imagelayer\"/><g class=\"shapelayer\"/></g><g class=\"infolayer\"><g class=\"g-gtitle\"><text class=\"gtitle\" x=\"550\" y=\"50\" text-anchor=\"middle\" dy=\"0em\" style=\"font-family: 'Open Sans', verdana, arial, sans-serif; font-size: 17px; fill: rgb(42, 63, 95); opacity: 1; font-weight: normal; white-space: pre;\">Monthly Music Streaming Trends Over Time</text></g><g class=\"g-xtitle\"><text class=\"xtitle\" x=\"550\" y=\"460.3\" text-anchor=\"middle\" style=\"font-family: 'Open Sans', verdana, arial, sans-serif; font-size: 14px; fill: rgb(42, 63, 95); opacity: 1; font-weight: normal; white-space: pre;\">Month-Year</text></g><g class=\"g-ytitle\"><text class=\"ytitle\" transform=\"rotate(-90,31.809375000000003,260)\" x=\"31.809375000000003\" y=\"260\" text-anchor=\"middle\" style=\"font-family: 'Open Sans', verdana, arial, sans-serif; font-size: 14px; fill: rgb(42, 63, 95); opacity: 1; font-weight: normal; white-space: pre;\">Hours Played</text></g></g></svg>"
      ]
     },
     "metadata": {},
     "output_type": "display_data"
    }
   ],
   "source": [
    "# Set 'ts' column as the index\n",
    "indexed = spotify_music.set_index('ts', inplace=False)\n",
    "\n",
    "# Resample the data on a monthly basis\n",
    "streaming_trends = indexed.resample('M').sum()\n",
    "\n",
    "# Create a line plot using Plotly Express\n",
    "fig = px.line(streaming_trends, x=streaming_trends.index, y=(streaming_trends['ms_played'] / (1000 * 60 * 60)).round(2),\n",
    "              labels={'ts': 'Month-Year', 'y': 'Hours Played'},\n",
    "              title='Monthly Audio Streaming Trends Over Time',\n",
    "              color_discrete_sequence=['green'], markers=True)\n",
    "\n",
    "fig.add_vrect(x0=\"2022-10-01\", x1=\"2023-02-01\", fillcolor=\"rgba(0,255,0,0.2)\", layer=\"below\", line_width=0)\n",
    "\n",
    "fig.update_layout(title=dict(text='Monthly Music Streaming Trends Over Time', x=0.5),\n",
    "                  xaxis_title='Month-Year',\n",
    "                  yaxis_title='Hours Played',\n",
    "                  width=1100, height=500)\n",
    "fig.show()"
   ]
  },
  {
   "cell_type": "markdown",
   "metadata": {},
   "source": [
    "#### **Weekly `Music` Streaming Trend**"
   ]
  },
  {
   "cell_type": "code",
   "execution_count": 209,
   "metadata": {},
   "outputs": [
    {
     "data": {
      "image/svg+xml": [
       "<svg class=\"main-svg\" xmlns=\"http://www.w3.org/2000/svg\" xmlns:xlink=\"http://www.w3.org/1999/xlink\" width=\"800\" height=\"500\" style=\"\" viewBox=\"0 0 800 500\"><rect x=\"0\" y=\"0\" width=\"800\" height=\"500\" style=\"fill: rgb(255, 255, 255); fill-opacity: 1;\"/><defs id=\"defs-fc0f6c\"><g class=\"clips\"><clipPath id=\"clipfc0f6cxyplot\" class=\"plotclip\"><rect width=\"640\" height=\"320\"/></clipPath><clipPath class=\"axesclip\" id=\"clipfc0f6cx\"><rect x=\"80\" y=\"0\" width=\"640\" height=\"500\"/></clipPath><clipPath class=\"axesclip\" id=\"clipfc0f6cy\"><rect x=\"0\" y=\"100\" width=\"800\" height=\"320\"/></clipPath><clipPath class=\"axesclip\" id=\"clipfc0f6cxy\"><rect x=\"80\" y=\"100\" width=\"640\" height=\"320\"/></clipPath></g><g class=\"gradients\"/><g class=\"patterns\"/></defs><g class=\"bglayer\"><rect class=\"bg\" x=\"80\" y=\"100\" width=\"640\" height=\"320\" style=\"fill: rgb(229, 236, 246); fill-opacity: 1; stroke-width: 0;\"/></g><g class=\"layer-below\"><g class=\"imagelayer\"/><g class=\"shapelayer\"/></g><g class=\"cartesianlayer\"><g class=\"subplot xy\"><g class=\"layer-subplot\"><g class=\"shapelayer\"/><g class=\"imagelayer\"/></g><g class=\"minor-gridlayer\"><g class=\"x\"/><g class=\"y\"/></g><g class=\"gridlayer\"><g class=\"x\"/><g class=\"y\"><path class=\"ygrid crisp\" transform=\"translate(0,351.07)\" d=\"M80,0h640\" style=\"stroke: rgb(255, 255, 255); stroke-opacity: 1; stroke-width: 1px;\"/><path class=\"ygrid crisp\" transform=\"translate(0,282.15)\" d=\"M80,0h640\" style=\"stroke: rgb(255, 255, 255); stroke-opacity: 1; stroke-width: 1px;\"/><path class=\"ygrid crisp\" transform=\"translate(0,213.22)\" d=\"M80,0h640\" style=\"stroke: rgb(255, 255, 255); stroke-opacity: 1; stroke-width: 1px;\"/><path class=\"ygrid crisp\" transform=\"translate(0,144.3)\" d=\"M80,0h640\" style=\"stroke: rgb(255, 255, 255); stroke-opacity: 1; stroke-width: 1px;\"/></g></g><g class=\"zerolinelayer\"><path class=\"yzl zl crisp\" transform=\"translate(0,420)\" d=\"M80,0h640\" style=\"stroke: rgb(255, 255, 255); stroke-opacity: 1; stroke-width: 2px;\"/></g><g class=\"layer-between\"><g class=\"shapelayer\"/><g class=\"imagelayer\"/></g><path class=\"xlines-below\"/><path class=\"ylines-below\"/><g class=\"overlines-below\"/><g class=\"xaxislayer-below\"/><g class=\"yaxislayer-below\"/><g class=\"overaxes-below\"/><g class=\"plot\" transform=\"translate(80,100)\" clip-path=\"url(#clipfc0f6cxyplot)\"><g class=\"barlayer mlayer\"><g class=\"trace bars\" style=\"opacity: 1;\"><g class=\"points\"><g class=\"point\"><path d=\"M9.14,320V19.93H82.29V320Z\" style=\"vector-effect: none; opacity: 1; stroke-width: 0.5px; fill: rgb(0, 128, 0); fill-opacity: 1; stroke: rgb(229, 236, 246); stroke-opacity: 1;\"/><text class=\"bartext bartext-inside\" text-anchor=\"middle\" data-notex=\"1\" x=\"0\" y=\"0\" style=\"font-family: 'Open Sans', verdana, arial, sans-serif; font-size: 12px; fill: rgb(255, 255, 255); fill-opacity: 1; white-space: pre;\" transform=\"translate(45.715,34.93)\">870.71</text></g><g class=\"point\"><path d=\"M100.57,320V54H173.71V320Z\" style=\"vector-effect: none; opacity: 1; stroke-width: 0.5px; fill: rgb(22, 211, 92); fill-opacity: 1; stroke: rgb(229, 236, 246); stroke-opacity: 1;\"/><text class=\"bartext bartext-inside\" text-anchor=\"middle\" data-notex=\"1\" x=\"0\" y=\"0\" style=\"font-family: 'Open Sans', verdana, arial, sans-serif; font-size: 12px; fill: rgb(255, 255, 255); fill-opacity: 1; white-space: pre;\" transform=\"translate(136.9525,69)\">771.85</text></g><g class=\"point\"><path d=\"M192,320V26.77H265.14V320Z\" style=\"vector-effect: none; opacity: 1; stroke-width: 0.5px; fill: rgb(22, 211, 92); fill-opacity: 1; stroke: rgb(229, 236, 246); stroke-opacity: 1;\"/><text class=\"bartext bartext-inside\" text-anchor=\"middle\" data-notex=\"1\" x=\"0\" y=\"0\" style=\"font-family: 'Open Sans', verdana, arial, sans-serif; font-size: 12px; fill: rgb(255, 255, 255); fill-opacity: 1; white-space: pre;\" transform=\"translate(228.3825,41.769999999999996)\">850.86</text></g><g class=\"point\"><path d=\"M283.43,320V32.87H356.57V320Z\" style=\"vector-effect: none; opacity: 1; stroke-width: 0.5px; fill: rgb(22, 211, 92); fill-opacity: 1; stroke: rgb(229, 236, 246); stroke-opacity: 1;\"/><text class=\"bartext bartext-inside\" text-anchor=\"middle\" data-notex=\"1\" x=\"0\" y=\"0\" style=\"font-family: 'Open Sans', verdana, arial, sans-serif; font-size: 12px; fill: rgb(255, 255, 255); fill-opacity: 1; white-space: pre;\" transform=\"translate(319.8125,47.87)\">833.17</text></g><g class=\"point\"><path d=\"M374.86,320V16H448V320Z\" style=\"vector-effect: none; opacity: 1; stroke-width: 0.5px; fill: rgb(0, 128, 0); fill-opacity: 1; stroke: rgb(229, 236, 246); stroke-opacity: 1;\"/><text class=\"bartext bartext-inside\" text-anchor=\"middle\" data-notex=\"1\" x=\"0\" y=\"0\" style=\"font-family: 'Open Sans', verdana, arial, sans-serif; font-size: 12px; fill: rgb(255, 255, 255); fill-opacity: 1; white-space: pre;\" transform=\"translate(411.43,31)\">882.11</text></g><g class=\"point\"><path d=\"M466.29,320V47.22H539.43V320Z\" style=\"vector-effect: none; opacity: 1; stroke-width: 0.5px; fill: rgb(22, 211, 92); fill-opacity: 1; stroke: rgb(229, 236, 246); stroke-opacity: 1;\"/><text class=\"bartext bartext-inside\" text-anchor=\"middle\" data-notex=\"1\" x=\"0\" y=\"0\" style=\"font-family: 'Open Sans', verdana, arial, sans-serif; font-size: 12px; fill: rgb(255, 255, 255); fill-opacity: 1; white-space: pre;\" transform=\"translate(502.86,62.22)\">791.51</text></g><g class=\"point\"><path d=\"M557.71,320V27.26H630.86V320Z\" style=\"vector-effect: none; opacity: 1; stroke-width: 0.5px; fill: rgb(22, 211, 92); fill-opacity: 1; stroke: rgb(229, 236, 246); stroke-opacity: 1;\"/><text class=\"bartext bartext-inside\" text-anchor=\"middle\" data-notex=\"1\" x=\"0\" y=\"0\" style=\"font-family: 'Open Sans', verdana, arial, sans-serif; font-size: 12px; fill: rgb(255, 255, 255); fill-opacity: 1; white-space: pre;\" transform=\"translate(594.0975000000001,42.260000000000005)\">849.44</text></g></g></g></g></g><g class=\"overplot\"/><path class=\"xlines-above crisp\" d=\"M0,0\" style=\"fill: none;\"/><path class=\"ylines-above crisp\" d=\"M0,0\" style=\"fill: none;\"/><g class=\"overlines-above\"/><g class=\"xaxislayer-above\"><g class=\"xtick\"><text text-anchor=\"middle\" x=\"0\" y=\"433\" transform=\"translate(125.71000000000001,0)\" style=\"font-family: 'Open Sans', verdana, arial, sans-serif; font-size: 12px; fill: rgb(42, 63, 95); fill-opacity: 1; white-space: pre; opacity: 1;\">Mon</text></g><g class=\"xtick\"><text text-anchor=\"middle\" x=\"0\" y=\"433\" style=\"font-family: 'Open Sans', verdana, arial, sans-serif; font-size: 12px; fill: rgb(42, 63, 95); fill-opacity: 1; white-space: pre; opacity: 1;\" transform=\"translate(217.14,0)\">Tue</text></g><g class=\"xtick\"><text text-anchor=\"middle\" x=\"0\" y=\"433\" style=\"font-family: 'Open Sans', verdana, arial, sans-serif; font-size: 12px; fill: rgb(42, 63, 95); fill-opacity: 1; white-space: pre; opacity: 1;\" transform=\"translate(308.57,0)\">Wed</text></g><g class=\"xtick\"><text text-anchor=\"middle\" x=\"0\" y=\"433\" style=\"font-family: 'Open Sans', verdana, arial, sans-serif; font-size: 12px; fill: rgb(42, 63, 95); fill-opacity: 1; white-space: pre; opacity: 1;\" transform=\"translate(400,0)\">Thu</text></g><g class=\"xtick\"><text text-anchor=\"middle\" x=\"0\" y=\"433\" style=\"font-family: 'Open Sans', verdana, arial, sans-serif; font-size: 12px; fill: rgb(42, 63, 95); fill-opacity: 1; white-space: pre; opacity: 1;\" transform=\"translate(491.43,0)\">Fri</text></g><g class=\"xtick\"><text text-anchor=\"middle\" x=\"0\" y=\"433\" style=\"font-family: 'Open Sans', verdana, arial, sans-serif; font-size: 12px; fill: rgb(42, 63, 95); fill-opacity: 1; white-space: pre; opacity: 1;\" transform=\"translate(582.86,0)\">Sat</text></g><g class=\"xtick\"><text text-anchor=\"middle\" x=\"0\" y=\"433\" style=\"font-family: 'Open Sans', verdana, arial, sans-serif; font-size: 12px; fill: rgb(42, 63, 95); fill-opacity: 1; white-space: pre; opacity: 1;\" transform=\"translate(674.29,0)\">Sun</text></g></g><g class=\"yaxislayer-above\"><g class=\"ytick\"><text text-anchor=\"end\" x=\"79\" y=\"4.199999999999999\" transform=\"translate(0,420)\" style=\"font-family: 'Open Sans', verdana, arial, sans-serif; font-size: 12px; fill: rgb(42, 63, 95); fill-opacity: 1; white-space: pre; opacity: 1;\">0</text></g><g class=\"ytick\"><text text-anchor=\"end\" x=\"79\" y=\"4.199999999999999\" style=\"font-family: 'Open Sans', verdana, arial, sans-serif; font-size: 12px; fill: rgb(42, 63, 95); fill-opacity: 1; white-space: pre; opacity: 1;\" transform=\"translate(0,351.07)\">200</text></g><g class=\"ytick\"><text text-anchor=\"end\" x=\"79\" y=\"4.199999999999999\" style=\"font-family: 'Open Sans', verdana, arial, sans-serif; font-size: 12px; fill: rgb(42, 63, 95); fill-opacity: 1; white-space: pre; opacity: 1;\" transform=\"translate(0,282.15)\">400</text></g><g class=\"ytick\"><text text-anchor=\"end\" x=\"79\" y=\"4.199999999999999\" style=\"font-family: 'Open Sans', verdana, arial, sans-serif; font-size: 12px; fill: rgb(42, 63, 95); fill-opacity: 1; white-space: pre; opacity: 1;\" transform=\"translate(0,213.22)\">600</text></g><g class=\"ytick\"><text text-anchor=\"end\" x=\"79\" y=\"4.199999999999999\" style=\"font-family: 'Open Sans', verdana, arial, sans-serif; font-size: 12px; fill: rgb(42, 63, 95); fill-opacity: 1; white-space: pre; opacity: 1;\" transform=\"translate(0,144.3)\">800</text></g></g><g class=\"overaxes-above\"/></g></g><g class=\"polarlayer\"/><g class=\"smithlayer\"/><g class=\"ternarylayer\"/><g class=\"geolayer\"/><g class=\"funnelarealayer\"/><g class=\"pielayer\"/><g class=\"iciclelayer\"/><g class=\"treemaplayer\"/><g class=\"sunburstlayer\"/><g class=\"glimages\"/><defs id=\"topdefs-fc0f6c\"><g class=\"clips\"/></defs><g class=\"layer-above\"><g class=\"imagelayer\"/><g class=\"shapelayer\"><g class=\"shape-group\" data-index=\"0\" clip-path=\"url(#clipfc0f6cy)\"><path data-index=\"0\" fill-rule=\"evenodd\" d=\"M80,132.01L720,132.01\" style=\"opacity: 1; stroke: rgb(0, 0, 255); stroke-opacity: 1; fill: rgb(0, 0, 0); fill-opacity: 0; stroke-dasharray: 3px, 3px; stroke-width: 2px;\"/></g></g></g><g class=\"infolayer\"><g class=\"g-gtitle\"><text class=\"gtitle\" x=\"400\" y=\"50\" text-anchor=\"middle\" dy=\"0em\" style=\"font-family: 'Open Sans', verdana, arial, sans-serif; font-size: 17px; fill: rgb(42, 63, 95); opacity: 1; font-weight: normal; white-space: pre;\">Streaming Trends by Day of the Week</text></g><g class=\"g-xtitle\"><text class=\"xtitle\" x=\"400\" y=\"460.3\" text-anchor=\"middle\" style=\"font-family: 'Open Sans', verdana, arial, sans-serif; font-size: 14px; fill: rgb(42, 63, 95); opacity: 1; font-weight: normal; white-space: pre;\">Day of the Week</text></g><g class=\"g-ytitle\"><text class=\"ytitle\" transform=\"rotate(-90,31.809375000000003,260)\" x=\"31.809375000000003\" y=\"260\" text-anchor=\"middle\" style=\"font-family: 'Open Sans', verdana, arial, sans-serif; font-size: 14px; fill: rgb(42, 63, 95); opacity: 1; font-weight: normal; white-space: pre;\">Total Streaming Time (Hours)</text></g><g class=\"annotation\" data-index=\"0\" style=\"opacity: 1;\"><g class=\"annotation-text-g\" transform=\"rotate(0,656.5,122.50999999999999)\"><g class=\"cursor-pointer\" transform=\"translate(593,113)\"><rect class=\"bg\" x=\"0.5\" y=\"0.5\" width=\"126\" height=\"18\" style=\"stroke-width: 1px; stroke: rgb(0, 0, 0); stroke-opacity: 0; fill: rgb(0, 0, 0); fill-opacity: 0;\"/><text class=\"annotation-text\" text-anchor=\"middle\" x=\"63.15625\" y=\"14\" style=\"font-family: 'Open Sans', verdana, arial, sans-serif; font-size: 12px; fill: rgb(42, 63, 95); fill-opacity: 1; white-space: pre;\">Mean: 835.66 hours</text></g></g></g></g></svg>"
      ]
     },
     "metadata": {},
     "output_type": "display_data"
    }
   ],
   "source": [
    "# Analyze trends based on the day of the week\n",
    "trends_by_day = spotify_music.groupby(spotify_data['ts'].dt.dayofweek).agg({\n",
    "    'ms_played': lambda x: x.sum() / (1000 * 60 * 60)  # Convert milliseconds to hours and sum\n",
    "}).reset_index()\n",
    "\n",
    "# Get the top 2 days of the week\n",
    "top_days = trends_by_day.nlargest(2, 'ms_played').index\n",
    "\n",
    "# Visualize the trends\n",
    "fig = px.bar(trends_by_day, x='ts', y='ms_played',\n",
    "             labels={'ms_played': 'Total Streaming Time (Hours)', 'ts': 'Day of the Week'},\n",
    "             title='Streaming Trends by Day of the Week')\n",
    "\n",
    "mean_trends_by_day = trends_by_day['ms_played'].mean()\n",
    "fig.add_hline(y=mean_trends_by_day, \n",
    "              line_dash=\"dot\", line_color=\"blue\", \n",
    "              annotation_text=f'Mean: {mean_trends_by_day:.2f} hours',\n",
    "              annotation_position=\"top right\")\n",
    "\n",
    "colors = ['green' if i in top_days else '#16D35C' for i in trends_by_day.index]\n",
    "fig.update_traces(marker_color=colors,\n",
    "                  text=trends_by_day['ms_played'].round(2), \n",
    "                  textposition='inside', \n",
    "                  textfont=dict(color='white'))\n",
    "\n",
    "fig.update_layout(xaxis=dict(tickmode='array', tickvals=list(range(7)), ticktext=['Mon', 'Tue', 'Wed', 'Thu', 'Fri', 'Sat', 'Sun']),\n",
    "                  title=dict(text='Streaming Trends by Day of the Week', x=0.5),\n",
    "                  width=800, height=500)\n",
    "fig.show()"
   ]
  },
  {
   "cell_type": "markdown",
   "metadata": {},
   "source": [
    "#### **Daily `Music` Streaming Trend**"
   ]
  },
  {
   "cell_type": "code",
   "execution_count": 210,
   "metadata": {},
   "outputs": [
    {
     "data": {
      "image/svg+xml": [
       "<svg class=\"main-svg\" xmlns=\"http://www.w3.org/2000/svg\" xmlns:xlink=\"http://www.w3.org/1999/xlink\" width=\"1100\" height=\"500\" style=\"\" viewBox=\"0 0 1100 500\"><rect x=\"0\" y=\"0\" width=\"1100\" height=\"500\" style=\"fill: rgb(255, 255, 255); fill-opacity: 1;\"/><defs id=\"defs-106555\"><g class=\"clips\"><clipPath id=\"clip106555xyplot\" class=\"plotclip\"><rect width=\"940\" height=\"320\"/></clipPath><clipPath class=\"axesclip\" id=\"clip106555x\"><rect x=\"80\" y=\"0\" width=\"940\" height=\"500\"/></clipPath><clipPath class=\"axesclip\" id=\"clip106555y\"><rect x=\"0\" y=\"100\" width=\"1100\" height=\"320\"/></clipPath><clipPath class=\"axesclip\" id=\"clip106555xy\"><rect x=\"80\" y=\"100\" width=\"940\" height=\"320\"/></clipPath></g><g class=\"gradients\"/><g class=\"patterns\"/></defs><g class=\"bglayer\"><rect class=\"bg\" x=\"80\" y=\"100\" width=\"940\" height=\"320\" style=\"fill: rgb(229, 236, 246); fill-opacity: 1; stroke-width: 0;\"/></g><g class=\"layer-below\"><g class=\"imagelayer\"/><g class=\"shapelayer\"/></g><g class=\"cartesianlayer\"><g class=\"subplot xy\"><g class=\"layer-subplot\"><g class=\"shapelayer\"/><g class=\"imagelayer\"/></g><g class=\"minor-gridlayer\"><g class=\"x\"/><g class=\"y\"/></g><g class=\"gridlayer\"><g class=\"x\"><path class=\"xgrid crisp\" transform=\"translate(244.13,0)\" d=\"M0,100v320\" style=\"stroke: rgb(255, 255, 255); stroke-opacity: 1; stroke-width: 1px;\"/><path class=\"xgrid crisp\" transform=\"translate(428.41,0)\" d=\"M0,100v320\" style=\"stroke: rgb(255, 255, 255); stroke-opacity: 1; stroke-width: 1px;\"/><path class=\"xgrid crisp\" transform=\"translate(612.18,0)\" d=\"M0,100v320\" style=\"stroke: rgb(255, 255, 255); stroke-opacity: 1; stroke-width: 1px;\"/><path class=\"xgrid crisp\" transform=\"translate(795.95,0)\" d=\"M0,100v320\" style=\"stroke: rgb(255, 255, 255); stroke-opacity: 1; stroke-width: 1px;\"/><path class=\"xgrid crisp\" transform=\"translate(979.72,0)\" d=\"M0,100v320\" style=\"stroke: rgb(255, 255, 255); stroke-opacity: 1; stroke-width: 1px;\"/></g><g class=\"y\"><path class=\"ygrid crisp\" transform=\"translate(0,354.08000000000004)\" d=\"M80,0h940\" style=\"stroke: rgb(255, 255, 255); stroke-opacity: 1; stroke-width: 1px;\"/><path class=\"ygrid crisp\" transform=\"translate(0,304.02)\" d=\"M80,0h940\" style=\"stroke: rgb(255, 255, 255); stroke-opacity: 1; stroke-width: 1px;\"/><path class=\"ygrid crisp\" transform=\"translate(0,253.95)\" d=\"M80,0h940\" style=\"stroke: rgb(255, 255, 255); stroke-opacity: 1; stroke-width: 1px;\"/><path class=\"ygrid crisp\" transform=\"translate(0,203.88)\" d=\"M80,0h940\" style=\"stroke: rgb(255, 255, 255); stroke-opacity: 1; stroke-width: 1px;\"/><path class=\"ygrid crisp\" transform=\"translate(0,153.82)\" d=\"M80,0h940\" style=\"stroke: rgb(255, 255, 255); stroke-opacity: 1; stroke-width: 1px;\"/><path class=\"ygrid crisp\" transform=\"translate(0,103.75)\" d=\"M80,0h940\" style=\"stroke: rgb(255, 255, 255); stroke-opacity: 1; stroke-width: 1px;\"/></g></g><g class=\"zerolinelayer\"><path class=\"yzl zl crisp\" transform=\"translate(0,404.15)\" d=\"M80,0h940\" style=\"stroke: rgb(255, 255, 255); stroke-opacity: 1; stroke-width: 2px;\"/></g><g class=\"layer-between\"><g class=\"shapelayer\"/><g class=\"imagelayer\"/></g><path class=\"xlines-below\"/><path class=\"ylines-below\"/><g class=\"overlines-below\"/><g class=\"xaxislayer-below\"/><g class=\"yaxislayer-below\"/><g class=\"overaxes-below\"/><g class=\"plot\" transform=\"translate(80,100)\" clip-path=\"url(#clip106555xyplot)\"/><g class=\"overplot\"/><path class=\"xlines-above crisp\" d=\"M0,0\" style=\"fill: none;\"/><path class=\"ylines-above crisp\" d=\"M0,0\" style=\"fill: none;\"/><g class=\"overlines-above\"/><g class=\"xaxislayer-above\"><g class=\"xtick\"><text text-anchor=\"middle\" x=\"0\" y=\"433\" transform=\"translate(244.13,0)\" style=\"font-family: 'Open Sans', verdana, arial, sans-serif; font-size: 12px; fill: rgb(42, 63, 95); fill-opacity: 1; white-space: pre; opacity: 1;\">2020</text></g><g class=\"xtick\"><text text-anchor=\"middle\" x=\"0\" y=\"433\" style=\"font-family: 'Open Sans', verdana, arial, sans-serif; font-size: 12px; fill: rgb(42, 63, 95); fill-opacity: 1; white-space: pre; opacity: 1;\" transform=\"translate(428.41,0)\">2021</text></g><g class=\"xtick\"><text text-anchor=\"middle\" x=\"0\" y=\"433\" style=\"font-family: 'Open Sans', verdana, arial, sans-serif; font-size: 12px; fill: rgb(42, 63, 95); fill-opacity: 1; white-space: pre; opacity: 1;\" transform=\"translate(612.18,0)\">2022</text></g><g class=\"xtick\"><text text-anchor=\"middle\" x=\"0\" y=\"433\" style=\"font-family: 'Open Sans', verdana, arial, sans-serif; font-size: 12px; fill: rgb(42, 63, 95); fill-opacity: 1; white-space: pre; opacity: 1;\" transform=\"translate(795.95,0)\">2023</text></g><g class=\"xtick\"><text text-anchor=\"middle\" x=\"0\" y=\"433\" style=\"font-family: 'Open Sans', verdana, arial, sans-serif; font-size: 12px; fill: rgb(42, 63, 95); fill-opacity: 1; white-space: pre; opacity: 1;\" transform=\"translate(979.72,0)\">2024</text></g></g><g class=\"yaxislayer-above\"><g class=\"ytick\"><text text-anchor=\"end\" x=\"79\" y=\"4.199999999999999\" transform=\"translate(0,404.15)\" style=\"font-family: 'Open Sans', verdana, arial, sans-serif; font-size: 12px; fill: rgb(42, 63, 95); fill-opacity: 1; white-space: pre; opacity: 1;\">0</text></g><g class=\"ytick\"><text text-anchor=\"end\" x=\"79\" y=\"4.199999999999999\" style=\"font-family: 'Open Sans', verdana, arial, sans-serif; font-size: 12px; fill: rgb(42, 63, 95); fill-opacity: 1; white-space: pre; opacity: 1;\" transform=\"translate(0,354.08000000000004)\">5</text></g><g class=\"ytick\"><text text-anchor=\"end\" x=\"79\" y=\"4.199999999999999\" style=\"font-family: 'Open Sans', verdana, arial, sans-serif; font-size: 12px; fill: rgb(42, 63, 95); fill-opacity: 1; white-space: pre; opacity: 1;\" transform=\"translate(0,304.02)\">10</text></g><g class=\"ytick\"><text text-anchor=\"end\" x=\"79\" y=\"4.199999999999999\" style=\"font-family: 'Open Sans', verdana, arial, sans-serif; font-size: 12px; fill: rgb(42, 63, 95); fill-opacity: 1; white-space: pre; opacity: 1;\" transform=\"translate(0,253.95)\">15</text></g><g class=\"ytick\"><text text-anchor=\"end\" x=\"79\" y=\"4.199999999999999\" style=\"font-family: 'Open Sans', verdana, arial, sans-serif; font-size: 12px; fill: rgb(42, 63, 95); fill-opacity: 1; white-space: pre; opacity: 1;\" transform=\"translate(0,203.88)\">20</text></g><g class=\"ytick\"><text text-anchor=\"end\" x=\"79\" y=\"4.199999999999999\" style=\"font-family: 'Open Sans', verdana, arial, sans-serif; font-size: 12px; fill: rgb(42, 63, 95); fill-opacity: 1; white-space: pre; opacity: 1;\" transform=\"translate(0,153.82)\">25</text></g><g class=\"ytick\"><text text-anchor=\"end\" x=\"79\" y=\"4.199999999999999\" style=\"font-family: 'Open Sans', verdana, arial, sans-serif; font-size: 12px; fill: rgb(42, 63, 95); fill-opacity: 1; white-space: pre; opacity: 1;\" transform=\"translate(0,103.75)\">30</text></g></g><g class=\"overaxes-above\"/></g></g><g class=\"polarlayer\"/><g class=\"smithlayer\"/><g class=\"ternarylayer\"/><g class=\"geolayer\"/><g class=\"funnelarealayer\"/><g class=\"pielayer\"/><g class=\"iciclelayer\"/><g class=\"treemaplayer\"/><g class=\"sunburstlayer\"/><g class=\"glimages\"><image xmlns=\"http://www.w3.org/2000/svg\" xlink:href=\"data:image/png;base64,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\" preserveAspectRatio=\"none\" x=\"0\" y=\"0\" width=\"1100px\" height=\"500px\"/><image xmlns=\"http://www.w3.org/2000/svg\" xlink:href=\"data:image/png;base64,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\" preserveAspectRatio=\"none\" x=\"0\" y=\"0\" width=\"1100px\" height=\"500px\"/></g><defs id=\"topdefs-106555\"><g class=\"clips\"/></defs><g class=\"layer-above\"><g class=\"imagelayer\"/><g class=\"shapelayer\"/></g><g class=\"infolayer\"><g class=\"g-gtitle\"><text class=\"gtitle\" x=\"550\" y=\"50\" text-anchor=\"middle\" dy=\"0em\" style=\"font-family: 'Open Sans', verdana, arial, sans-serif; font-size: 17px; fill: rgb(42, 63, 95); opacity: 1; font-weight: normal; white-space: pre;\">Daily Playback Time Over Time</text></g><g class=\"g-xtitle\"><text class=\"xtitle\" x=\"550\" y=\"460.3\" text-anchor=\"middle\" style=\"font-family: 'Open Sans', verdana, arial, sans-serif; font-size: 14px; fill: rgb(42, 63, 95); opacity: 1; font-weight: normal; white-space: pre;\">Date</text></g><g class=\"g-ytitle\"><text class=\"ytitle\" transform=\"rotate(-90,39.434375,260)\" x=\"39.434375\" y=\"260\" text-anchor=\"middle\" style=\"font-family: 'Open Sans', verdana, arial, sans-serif; font-size: 14px; fill: rgb(42, 63, 95); opacity: 1; font-weight: normal; white-space: pre;\">Total Playback Time (Hours)</text></g></g></svg>"
      ]
     },
     "metadata": {},
     "output_type": "display_data"
    }
   ],
   "source": [
    "daily_playback_counts = (spotify_music.groupby(spotify_music['ts'].dt.date)['ms_played'].sum() / (1000 * 60 * 60)).reset_index()\n",
    "\n",
    "fig = px.line(daily_playback_counts, x='ts', y='ms_played',\n",
    "              labels={'ts': 'Date', 'ms_played': 'Playback Time'},\n",
    "              title='Daily Playback Time Over Time',\n",
    "              hover_data={'ts': '|%B %d, %Y'})\n",
    "\n",
    "fig.update_layout(xaxis_title='Date', yaxis_title='Total Playback Time (Hours)', title_x=0.5,\n",
    "                  width=1100, height=500)\n",
    "fig.show()"
   ]
  },
  {
   "cell_type": "code",
   "execution_count": 211,
   "metadata": {},
   "outputs": [
    {
     "data": {
      "text/html": [
       "<div>\n",
       "<style scoped>\n",
       "    .dataframe tbody tr th:only-of-type {\n",
       "        vertical-align: middle;\n",
       "    }\n",
       "\n",
       "    .dataframe tbody tr th {\n",
       "        vertical-align: top;\n",
       "    }\n",
       "\n",
       "    .dataframe thead th {\n",
       "        text-align: right;\n",
       "    }\n",
       "</style>\n",
       "<table border=\"1\" class=\"dataframe\">\n",
       "  <thead>\n",
       "    <tr style=\"text-align: right;\">\n",
       "      <th></th>\n",
       "      <th>Artist</th>\n",
       "      <th>Track Name</th>\n",
       "      <th>Playback Duration</th>\n",
       "    </tr>\n",
       "  </thead>\n",
       "  <tbody>\n",
       "    <tr>\n",
       "      <th>237</th>\n",
       "      <td>Taylor Swift</td>\n",
       "      <td>august</td>\n",
       "      <td>13.096100</td>\n",
       "    </tr>\n",
       "    <tr>\n",
       "      <th>269</th>\n",
       "      <td>d4vd</td>\n",
       "      <td>Here With Me</td>\n",
       "      <td>11.356467</td>\n",
       "    </tr>\n",
       "    <tr>\n",
       "      <th>173</th>\n",
       "      <td>New West</td>\n",
       "      <td>Those Eyes</td>\n",
       "      <td>11.037500</td>\n",
       "    </tr>\n",
       "    <tr>\n",
       "      <th>164</th>\n",
       "      <td>Miley Cyrus</td>\n",
       "      <td>Angels Like You</td>\n",
       "      <td>9.822650</td>\n",
       "    </tr>\n",
       "    <tr>\n",
       "      <th>249</th>\n",
       "      <td>The Weeknd</td>\n",
       "      <td>Die For You (with Ariana Grande) - Remix</td>\n",
       "      <td>8.293283</td>\n",
       "    </tr>\n",
       "    <tr>\n",
       "      <th>95</th>\n",
       "      <td>Justin Bieber</td>\n",
       "      <td>Love Yourself</td>\n",
       "      <td>7.790667</td>\n",
       "    </tr>\n",
       "    <tr>\n",
       "      <th>21</th>\n",
       "      <td>Aziz Hedra</td>\n",
       "      <td>Somebody's Pleasure</td>\n",
       "      <td>7.465233</td>\n",
       "    </tr>\n",
       "    <tr>\n",
       "      <th>102</th>\n",
       "      <td>Keane</td>\n",
       "      <td>Somewhere Only We Know</td>\n",
       "      <td>7.433967</td>\n",
       "    </tr>\n",
       "    <tr>\n",
       "      <th>188</th>\n",
       "      <td>Raim Laode</td>\n",
       "      <td>Komang</td>\n",
       "      <td>7.423533</td>\n",
       "    </tr>\n",
       "    <tr>\n",
       "      <th>230</th>\n",
       "      <td>Taylor Swift</td>\n",
       "      <td>All Of The Girls You Loved Before</td>\n",
       "      <td>7.380233</td>\n",
       "    </tr>\n",
       "  </tbody>\n",
       "</table>\n",
       "</div>"
      ],
      "text/plain": [
       "            Artist                                Track Name  Playback Duration\n",
       "237   Taylor Swift                                    august          13.096100\n",
       "269           d4vd                              Here With Me          11.356467\n",
       "173       New West                                Those Eyes          11.037500\n",
       "164    Miley Cyrus                           Angels Like You           9.822650\n",
       "249     The Weeknd  Die For You (with Ariana Grande) - Remix           8.293283\n",
       "95   Justin Bieber                             Love Yourself           7.790667\n",
       "21      Aziz Hedra                       Somebody's Pleasure           7.465233\n",
       "102          Keane                    Somewhere Only We Know           7.433967\n",
       "188     Raim Laode                                    Komang           7.423533\n",
       "230   Taylor Swift         All Of The Girls You Loved Before           7.380233"
      ]
     },
     "execution_count": 211,
     "metadata": {},
     "output_type": "execute_result"
    }
   ],
   "source": [
    "may_5th_data = spotify_data[spotify_data['ts'].dt.date == pd.to_datetime('2023-05-05').date()]\n",
    "song_playback_duration_may_5th = (may_5th_data.groupby(['master_metadata_album_artist_name', 'master_metadata_track_name'])['ms_played'].sum() / (1000 * 60)).reset_index()\n",
    "top_10_songs_may_5th = song_playback_duration_may_5th.nlargest(10, 'ms_played')\n",
    "\n",
    "top_10_songs_may_5th = top_10_songs_may_5th.rename(columns={'master_metadata_album_artist_name': 'Artist', \n",
    "                                                            'master_metadata_track_name': 'Track Name',\n",
    "                                                            'ms_played': 'Playback Duration'})\n",
    "\n",
    "top_10_songs_may_5th"
   ]
  },
  {
   "cell_type": "markdown",
   "metadata": {},
   "source": [
    "#### **Hourly `Music` Streaming Trend**"
   ]
  },
  {
   "cell_type": "markdown",
   "metadata": {},
   "source": [
    "#### **`Top Albums` All the Time**"
   ]
  },
  {
   "cell_type": "code",
   "execution_count": 212,
   "metadata": {},
   "outputs": [],
   "source": [
    "album_playback_duration = spotify_data.groupby('master_metadata_album_album_name')['ms_played'].sum() / (1000 * 60)\n",
    "album_play_counts = spotify_data['master_metadata_album_album_name'].value_counts()"
   ]
  },
  {
   "cell_type": "code",
   "execution_count": 213,
   "metadata": {},
   "outputs": [],
   "source": [
    "# Create a DataFrame with album names, artist names, and play times\n",
    "album_metadata = spotify_data[['master_metadata_album_album_name', 'master_metadata_album_artist_name']]\n",
    "album_metadata.drop_duplicates(inplace=True)  # Remove duplicate rows\n",
    "album_metadata.set_index('master_metadata_album_album_name', inplace=True)\n",
    "\n",
    "# Merge album_metadata with album_playback_duration\n",
    "merged_data = album_metadata.merge(album_playback_duration, left_index=True, right_index=True)\n",
    "\n",
    "# Merge merged_data with album_play_counts\n",
    "merged_data = merged_data.merge(album_play_counts, left_index=True, right_index=True)"
   ]
  },
  {
   "cell_type": "code",
   "execution_count": 214,
   "metadata": {},
   "outputs": [],
   "source": [
    "merged_data.columns = ['Artist Name', 'Playback Duration', 'Play Counts']\n",
    "\n",
    "# Reset index to turn the index into a regular column\n",
    "merged_data.reset_index(inplace=True)\n",
    "\n",
    "# Set the desired name for the index column\n",
    "merged_data.rename(columns={'master_metadata_album_album_name': 'Album Name'}, inplace=True)"
   ]
  },
  {
   "cell_type": "code",
   "execution_count": 215,
   "metadata": {},
   "outputs": [
    {
     "name": "stdout",
     "output_type": "stream",
     "text": [
      "\n",
      "Top 20 Albums by Playback Duration (in Hours) and Play Counts:\n",
      "                              Album Name         Artist Name  Playback Duration  Play Counts\n",
      "                               gg bb xx                LANY            3039.83         1084\n",
      "                 Menari Dengan Bayangan              Hindia            2745.03          791\n",
      "                          Malibu Nights                LANY            2528.48          811\n",
      "                             mama's boy                LANY            2519.52          834\n",
      "                              Midnights        Taylor Swift            2417.14          796\n",
      "                          Mantra Mantra           Kunto Aji            2299.69          675\n",
      "                                   LANY                LANY            2278.33          703\n",
      "         The Feeling of Falling Upwards 5 Seconds of Summer            2251.92          593\n",
      "                             logic mess         Arash Buana            1833.99          589\n",
      "                      ~how i'm feeling~                Lauv            1544.70          529\n",
      "                                Manusia               Tulus            1522.54          494\n",
      "                               Konotasi              Fletch            1452.23          387\n",
      "                           Changes - EP                Hayd            1403.58          522\n",
      "                                  5SOS5 5 Seconds of Summer            1369.88          438\n",
      "                               Monokrom               Tulus            1160.88          422\n",
      "                    Selamat Ulang Tahun        Nadin Amizah            1094.41          309\n",
      "                         Selamat Datang           Biru Baru            1032.46          310\n",
      "Yang Patah Tumbuh, Yang Hilang Berganti         Banda Neira            1028.92          203\n",
      "                       a beautiful blur                LANY             980.49          315\n",
      "                           Storytelling       Pathos Humano             972.90          308\n"
     ]
    }
   ],
   "source": [
    "grouped_data = merged_data.groupby('Album Name')\n",
    "\n",
    "filtered_data = []\n",
    "\n",
    "for album, group in grouped_data: # Check if the album has more than one artist\n",
    "    if len(group['Artist Name'].unique()) > 1:\n",
    "        filtered_data.append(group.head(1))\n",
    "    else:\n",
    "        filtered_data.append(group)\n",
    "\n",
    "filtered_merged_data = pd.concat(filtered_data)\n",
    "\n",
    "top_albums = filtered_merged_data.nlargest(20, 'Playback Duration')\n",
    "print(\"\\nTop 20 Albums by Playback Duration (in Hours) and Play Counts:\\n\", top_albums.to_string(index=False, float_format=\"{:.2f}\".format))"
   ]
  },
  {
   "cell_type": "code",
   "execution_count": 216,
   "metadata": {},
   "outputs": [
    {
     "data": {
      "image/svg+xml": [
       "<svg class=\"main-svg\" xmlns=\"http://www.w3.org/2000/svg\" xmlns:xlink=\"http://www.w3.org/1999/xlink\" width=\"1100\" height=\"500\" style=\"\" viewBox=\"0 0 1100 500\"><rect x=\"0\" y=\"0\" width=\"1100\" height=\"500\" style=\"fill: rgb(255, 255, 255); fill-opacity: 1;\"/><defs id=\"defs-f5d0bc\"><g class=\"clips\"><clipPath id=\"clipf5d0bcxyplot\" class=\"plotclip\"><rect width=\"940\" height=\"170\"/></clipPath><clipPath class=\"axesclip\" id=\"clipf5d0bcx\"><rect x=\"80\" y=\"0\" width=\"940\" height=\"500\"/></clipPath><clipPath class=\"axesclip\" id=\"clipf5d0bcy\"><rect x=\"0\" y=\"100\" width=\"1100\" height=\"170\"/></clipPath><clipPath class=\"axesclip\" id=\"clipf5d0bcxy\"><rect x=\"80\" y=\"100\" width=\"940\" height=\"170\"/></clipPath></g><g class=\"gradients\"/><g class=\"patterns\"/></defs><g class=\"bglayer\"><rect class=\"bg\" x=\"80\" y=\"100\" width=\"940\" height=\"170\" style=\"fill: rgb(229, 236, 246); fill-opacity: 1; stroke-width: 0;\"/></g><g class=\"layer-below\"><g class=\"imagelayer\"/><g class=\"shapelayer\"/></g><g class=\"cartesianlayer\"><g class=\"subplot xy\"><g class=\"layer-subplot\"><g class=\"shapelayer\"/><g class=\"imagelayer\"/></g><g class=\"minor-gridlayer\"><g class=\"x\"/><g class=\"y\"/></g><g class=\"gridlayer\"><g class=\"x\"/><g class=\"y\"><path class=\"ygrid crisp\" transform=\"translate(0,218.11)\" d=\"M80,0h940\" style=\"stroke: rgb(255, 255, 255); stroke-opacity: 1; stroke-width: 1px;\"/><path class=\"ygrid crisp\" transform=\"translate(0,166.20999999999998)\" d=\"M80,0h940\" style=\"stroke: rgb(255, 255, 255); stroke-opacity: 1; stroke-width: 1px;\"/><path class=\"ygrid crisp\" transform=\"translate(0,114.32)\" d=\"M80,0h940\" style=\"stroke: rgb(255, 255, 255); stroke-opacity: 1; stroke-width: 1px;\"/></g></g><g class=\"zerolinelayer\"><path class=\"yzl zl crisp\" transform=\"translate(0,270)\" d=\"M80,0h940\" style=\"stroke: rgb(255, 255, 255); stroke-opacity: 1; stroke-width: 2px;\"/></g><g class=\"layer-between\"><g class=\"shapelayer\"/><g class=\"imagelayer\"/></g><path class=\"xlines-below\"/><path class=\"ylines-below\"/><g class=\"overlines-below\"/><g class=\"xaxislayer-below\"/><g class=\"yaxislayer-below\"/><g class=\"overaxes-below\"/><g class=\"plot\" transform=\"translate(80,100)\" clip-path=\"url(#clipf5d0bcxyplot)\"><g class=\"barlayer mlayer\"><g class=\"trace bars\" style=\"opacity: 1;\"><g class=\"points\"><g class=\"point\"><path d=\"M33.1,170V113.75H68.4V170Z\" style=\"vector-effect: none; opacity: 1; stroke-width: 0.5px; fill: rgb(0, 128, 0); fill-opacity: 1; stroke: rgb(229, 236, 246); stroke-opacity: 1;\"/></g><g class=\"point\"><path d=\"M77.23,170V128.95H112.53V170Z\" style=\"vector-effect: none; opacity: 1; stroke-width: 0.5px; fill: rgb(0, 128, 0); fill-opacity: 1; stroke: rgb(229, 236, 246); stroke-opacity: 1;\"/></g><g class=\"point\"><path d=\"M121.36,170V127.91H156.67V170Z\" style=\"vector-effect: none; opacity: 1; stroke-width: 0.5px; fill: rgb(0, 128, 0); fill-opacity: 1; stroke: rgb(229, 236, 246); stroke-opacity: 1;\"/></g><g class=\"point\"><path d=\"M165.49,170V126.72H200.8V170Z\" style=\"vector-effect: none; opacity: 1; stroke-width: 0.5px; fill: rgb(0, 128, 0); fill-opacity: 1; stroke: rgb(229, 236, 246); stroke-opacity: 1;\"/></g><g class=\"point\"><path d=\"M209.62,170V128.69H244.93V170Z\" style=\"vector-effect: none; opacity: 1; stroke-width: 0.5px; fill: rgb(0, 128, 0); fill-opacity: 1; stroke: rgb(229, 236, 246); stroke-opacity: 1;\"/></g><g class=\"point\"><path d=\"M253.76,170V134.97H289.06V170Z\" style=\"vector-effect: none; opacity: 1; stroke-width: 0.5px; fill: rgb(0, 128, 0); fill-opacity: 1; stroke: rgb(229, 236, 246); stroke-opacity: 1;\"/></g><g class=\"point\"><path d=\"M297.89,170V133.52H333.19V170Z\" style=\"vector-effect: none; opacity: 1; stroke-width: 0.5px; fill: rgb(0, 128, 0); fill-opacity: 1; stroke: rgb(229, 236, 246); stroke-opacity: 1;\"/></g><g class=\"point\"><path d=\"M342.02,170V139.23H377.32V170Z\" style=\"vector-effect: none; opacity: 1; stroke-width: 0.5px; fill: rgb(0, 128, 0); fill-opacity: 1; stroke: rgb(229, 236, 246); stroke-opacity: 1;\"/></g><g class=\"point\"><path d=\"M386.15,170V139.43H421.46V170Z\" style=\"vector-effect: none; opacity: 1; stroke-width: 0.5px; fill: rgb(0, 128, 0); fill-opacity: 1; stroke: rgb(229, 236, 246); stroke-opacity: 1;\"/></g><g class=\"point\"><path d=\"M430.28,170V142.55H465.59V170Z\" style=\"vector-effect: none; opacity: 1; stroke-width: 0.5px; fill: rgb(0, 128, 0); fill-opacity: 1; stroke: rgb(229, 236, 246); stroke-opacity: 1;\"/></g><g class=\"point\"><path d=\"M474.41,170V144.36H509.72V170Z\" style=\"vector-effect: none; opacity: 1; stroke-width: 0.5px; fill: rgb(0, 128, 0); fill-opacity: 1; stroke: rgb(229, 236, 246); stroke-opacity: 1;\"/></g><g class=\"point\"><path d=\"M518.54,170V149.92H553.85V170Z\" style=\"vector-effect: none; opacity: 1; stroke-width: 0.5px; fill: rgb(0, 128, 0); fill-opacity: 1; stroke: rgb(229, 236, 246); stroke-opacity: 1;\"/></g><g class=\"point\"><path d=\"M562.68,170V142.91H597.98V170Z\" style=\"vector-effect: none; opacity: 1; stroke-width: 0.5px; fill: rgb(0, 128, 0); fill-opacity: 1; stroke: rgb(229, 236, 246); stroke-opacity: 1;\"/></g><g class=\"point\"><path d=\"M606.81,170V147.27H642.11V170Z\" style=\"vector-effect: none; opacity: 1; stroke-width: 0.5px; fill: rgb(0, 128, 0); fill-opacity: 1; stroke: rgb(229, 236, 246); stroke-opacity: 1;\"/></g><g class=\"point\"><path d=\"M650.94,170V148.1H686.24V170Z\" style=\"vector-effect: none; opacity: 1; stroke-width: 0.5px; fill: rgb(0, 128, 0); fill-opacity: 1; stroke: rgb(229, 236, 246); stroke-opacity: 1;\"/></g><g class=\"point\"><path d=\"M695.07,170V153.96H730.38V170Z\" style=\"vector-effect: none; opacity: 1; stroke-width: 0.5px; fill: rgb(0, 128, 0); fill-opacity: 1; stroke: rgb(229, 236, 246); stroke-opacity: 1;\"/></g><g class=\"point\"><path d=\"M739.2,170V153.91H774.51V170Z\" style=\"vector-effect: none; opacity: 1; stroke-width: 0.5px; fill: rgb(0, 128, 0); fill-opacity: 1; stroke: rgb(229, 236, 246); stroke-opacity: 1;\"/></g><g class=\"point\"><path d=\"M783.33,170V159.47H818.64V170Z\" style=\"vector-effect: none; opacity: 1; stroke-width: 0.5px; fill: rgb(0, 128, 0); fill-opacity: 1; stroke: rgb(229, 236, 246); stroke-opacity: 1;\"/></g><g class=\"point\"><path d=\"M827.47,170V153.65H862.77V170Z\" style=\"vector-effect: none; opacity: 1; stroke-width: 0.5px; fill: rgb(0, 128, 0); fill-opacity: 1; stroke: rgb(229, 236, 246); stroke-opacity: 1;\"/></g><g class=\"point\"><path d=\"M871.6,170V154.02H906.9V170Z\" style=\"vector-effect: none; opacity: 1; stroke-width: 0.5px; fill: rgb(0, 128, 0); fill-opacity: 1; stroke: rgb(229, 236, 246); stroke-opacity: 1;\"/></g></g></g></g><g class=\"scatterlayer mlayer\"><g class=\"trace scatter trace24e8ae\" style=\"stroke-miterlimit: 2; opacity: 1;\"><g class=\"fills\"/><g class=\"errorbars\"/><g class=\"lines\"><path class=\"js-line\" d=\"M50.75,12.25L94.88,27.55L139.01,38.79L183.14,39.25L227.28,44.56L271.41,50.66L315.54,51.77L359.67,53.14L403.8,74.83L447.93,89.84L492.07,90.99L536.2,94.64L580.33,97.16L624.46,98.91L668.59,109.76L756.86,116.42L800.99,116.6L845.12,119.12L889.25,119.51\" style=\"vector-effect: none; fill: none; stroke: rgb(0, 0, 255); stroke-opacity: 1; stroke-width: 2px; opacity: 1;\"/></g><g class=\"points\"><path class=\"point\" transform=\"translate(50.75,12.25)\" d=\"M3,0A3,3 0 1,1 0,-3A3,3 0 0,1 3,0Z\" style=\"opacity: 1; stroke-width: 0px; fill: rgb(0, 0, 255); fill-opacity: 1;\"/><path class=\"point\" transform=\"translate(94.88,27.55)\" d=\"M3,0A3,3 0 1,1 0,-3A3,3 0 0,1 3,0Z\" style=\"opacity: 1; stroke-width: 0px; fill: rgb(0, 0, 255); fill-opacity: 1;\"/><path class=\"point\" transform=\"translate(139.01,38.79)\" d=\"M3,0A3,3 0 1,1 0,-3A3,3 0 0,1 3,0Z\" style=\"opacity: 1; stroke-width: 0px; fill: rgb(0, 0, 255); fill-opacity: 1;\"/><path class=\"point\" transform=\"translate(183.14,39.25)\" d=\"M3,0A3,3 0 1,1 0,-3A3,3 0 0,1 3,0Z\" style=\"opacity: 1; stroke-width: 0px; fill: rgb(0, 0, 255); fill-opacity: 1;\"/><path class=\"point\" transform=\"translate(227.28,44.56)\" d=\"M3,0A3,3 0 1,1 0,-3A3,3 0 0,1 3,0Z\" style=\"opacity: 1; stroke-width: 0px; fill: rgb(0, 0, 255); fill-opacity: 1;\"/><path class=\"point\" transform=\"translate(271.41,50.66)\" d=\"M3,0A3,3 0 1,1 0,-3A3,3 0 0,1 3,0Z\" style=\"opacity: 1; stroke-width: 0px; fill: rgb(0, 0, 255); fill-opacity: 1;\"/><path class=\"point\" transform=\"translate(315.54,51.77)\" d=\"M3,0A3,3 0 1,1 0,-3A3,3 0 0,1 3,0Z\" style=\"opacity: 1; stroke-width: 0px; fill: rgb(0, 0, 255); fill-opacity: 1;\"/><path class=\"point\" transform=\"translate(359.67,53.14)\" d=\"M3,0A3,3 0 1,1 0,-3A3,3 0 0,1 3,0Z\" style=\"opacity: 1; stroke-width: 0px; fill: rgb(0, 0, 255); fill-opacity: 1;\"/><path class=\"point\" transform=\"translate(403.8,74.83)\" d=\"M3,0A3,3 0 1,1 0,-3A3,3 0 0,1 3,0Z\" style=\"opacity: 1; stroke-width: 0px; fill: rgb(0, 0, 255); fill-opacity: 1;\"/><path class=\"point\" transform=\"translate(447.93,89.84)\" d=\"M3,0A3,3 0 1,1 0,-3A3,3 0 0,1 3,0Z\" style=\"opacity: 1; stroke-width: 0px; fill: rgb(0, 0, 255); fill-opacity: 1;\"/><path class=\"point\" transform=\"translate(492.07,90.99)\" d=\"M3,0A3,3 0 1,1 0,-3A3,3 0 0,1 3,0Z\" style=\"opacity: 1; stroke-width: 0px; fill: rgb(0, 0, 255); fill-opacity: 1;\"/><path class=\"point\" transform=\"translate(536.2,94.64)\" d=\"M3,0A3,3 0 1,1 0,-3A3,3 0 0,1 3,0Z\" style=\"opacity: 1; stroke-width: 0px; fill: rgb(0, 0, 255); fill-opacity: 1;\"/><path class=\"point\" transform=\"translate(580.33,97.16)\" d=\"M3,0A3,3 0 1,1 0,-3A3,3 0 0,1 3,0Z\" style=\"opacity: 1; stroke-width: 0px; fill: rgb(0, 0, 255); fill-opacity: 1;\"/><path class=\"point\" transform=\"translate(624.46,98.91)\" d=\"M3,0A3,3 0 1,1 0,-3A3,3 0 0,1 3,0Z\" style=\"opacity: 1; stroke-width: 0px; fill: rgb(0, 0, 255); fill-opacity: 1;\"/><path class=\"point\" transform=\"translate(668.59,109.76)\" d=\"M3,0A3,3 0 1,1 0,-3A3,3 0 0,1 3,0Z\" style=\"opacity: 1; stroke-width: 0px; fill: rgb(0, 0, 255); fill-opacity: 1;\"/><path class=\"point\" transform=\"translate(712.72,113.21)\" d=\"M3,0A3,3 0 1,1 0,-3A3,3 0 0,1 3,0Z\" style=\"opacity: 1; stroke-width: 0px; fill: rgb(0, 0, 255); fill-opacity: 1;\"/><path class=\"point\" transform=\"translate(756.86,116.42)\" d=\"M3,0A3,3 0 1,1 0,-3A3,3 0 0,1 3,0Z\" style=\"opacity: 1; stroke-width: 0px; fill: rgb(0, 0, 255); fill-opacity: 1;\"/><path class=\"point\" transform=\"translate(800.99,116.6)\" d=\"M3,0A3,3 0 1,1 0,-3A3,3 0 0,1 3,0Z\" style=\"opacity: 1; stroke-width: 0px; fill: rgb(0, 0, 255); fill-opacity: 1;\"/><path class=\"point\" transform=\"translate(845.12,119.12)\" d=\"M3,0A3,3 0 1,1 0,-3A3,3 0 0,1 3,0Z\" style=\"opacity: 1; stroke-width: 0px; fill: rgb(0, 0, 255); fill-opacity: 1;\"/><path class=\"point\" transform=\"translate(889.25,119.51)\" d=\"M3,0A3,3 0 1,1 0,-3A3,3 0 0,1 3,0Z\" style=\"opacity: 1; stroke-width: 0px; fill: rgb(0, 0, 255); fill-opacity: 1;\"/></g><g class=\"text\"/></g></g></g><g class=\"overplot\"/><path class=\"xlines-above crisp\" d=\"M0,0\" style=\"fill: none;\"/><path class=\"ylines-above crisp\" d=\"M0,0\" style=\"fill: none;\"/><g class=\"overlines-above\"/><g class=\"xaxislayer-above\"><g class=\"xtick\"><text text-anchor=\"end\" x=\"0\" y=\"283\" transform=\"translate(130.75,0) rotate(-45,0,277)\" style=\"font-family: 'Open Sans', verdana, arial, sans-serif; font-size: 12px; fill: rgb(42, 63, 95); fill-opacity: 1; white-space: pre; opacity: 1;\">gg bb xx</text></g><g class=\"xtick\"><text text-anchor=\"end\" x=\"0\" y=\"283\" transform=\"translate(174.88,0) rotate(-45,0,277)\" style=\"font-family: 'Open Sans', verdana, arial, sans-serif; font-size: 12px; fill: rgb(42, 63, 95); fill-opacity: 1; white-space: pre; opacity: 1;\">Menari Dengan Bayangan</text></g><g class=\"xtick\"><text text-anchor=\"end\" x=\"0\" y=\"283\" transform=\"translate(219.01,0) rotate(-45,0,277)\" style=\"font-family: 'Open Sans', verdana, arial, sans-serif; font-size: 12px; fill: rgb(42, 63, 95); fill-opacity: 1; white-space: pre; opacity: 1;\">Malibu Nights</text></g><g class=\"xtick\"><text text-anchor=\"end\" x=\"0\" y=\"283\" transform=\"translate(263.14,0) rotate(-45,0,277)\" style=\"font-family: 'Open Sans', verdana, arial, sans-serif; font-size: 12px; fill: rgb(42, 63, 95); fill-opacity: 1; white-space: pre; opacity: 1;\">mama's boy</text></g><g class=\"xtick\"><text text-anchor=\"end\" x=\"0\" y=\"283\" transform=\"translate(307.28,0) rotate(-45,0,277)\" style=\"font-family: 'Open Sans', verdana, arial, sans-serif; font-size: 12px; fill: rgb(42, 63, 95); fill-opacity: 1; white-space: pre; opacity: 1;\">Midnights</text></g><g class=\"xtick\"><text text-anchor=\"end\" x=\"0\" y=\"283\" transform=\"translate(351.41,0) rotate(-45,0,277)\" style=\"font-family: 'Open Sans', verdana, arial, sans-serif; font-size: 12px; fill: rgb(42, 63, 95); fill-opacity: 1; white-space: pre; opacity: 1;\">Mantra Mantra</text></g><g class=\"xtick\"><text text-anchor=\"end\" x=\"0\" y=\"283\" transform=\"translate(395.54,0) rotate(-45,0,277)\" style=\"font-family: 'Open Sans', verdana, arial, sans-serif; font-size: 12px; fill: rgb(42, 63, 95); fill-opacity: 1; white-space: pre; opacity: 1;\">LANY</text></g><g class=\"xtick\"><text text-anchor=\"end\" x=\"0\" y=\"283\" transform=\"translate(439.67,0) rotate(-45,0,277)\" style=\"font-family: 'Open Sans', verdana, arial, sans-serif; font-size: 12px; fill: rgb(42, 63, 95); fill-opacity: 1; white-space: pre; opacity: 1;\">The Feeling of Falling Upwards</text></g><g class=\"xtick\"><text text-anchor=\"end\" x=\"0\" y=\"283\" transform=\"translate(483.8,0) rotate(-45,0,277)\" style=\"font-family: 'Open Sans', verdana, arial, sans-serif; font-size: 12px; fill: rgb(42, 63, 95); fill-opacity: 1; white-space: pre; opacity: 1;\">logic mess</text></g><g class=\"xtick\"><text text-anchor=\"end\" x=\"0\" y=\"283\" transform=\"translate(527.9300000000001,0) rotate(-45,0,277)\" style=\"font-family: 'Open Sans', verdana, arial, sans-serif; font-size: 12px; fill: rgb(42, 63, 95); fill-opacity: 1; white-space: pre; opacity: 1;\">~how i'm feeling~</text></g><g class=\"xtick\"><text text-anchor=\"end\" x=\"0\" y=\"283\" transform=\"translate(572.0699999999999,0) rotate(-45,0,277)\" style=\"font-family: 'Open Sans', verdana, arial, sans-serif; font-size: 12px; fill: rgb(42, 63, 95); fill-opacity: 1; white-space: pre; opacity: 1;\">Manusia</text></g><g class=\"xtick\"><text text-anchor=\"end\" x=\"0\" y=\"283\" transform=\"translate(616.2,0) rotate(-45,0,277)\" style=\"font-family: 'Open Sans', verdana, arial, sans-serif; font-size: 12px; fill: rgb(42, 63, 95); fill-opacity: 1; white-space: pre; opacity: 1;\">Konotasi</text></g><g class=\"xtick\"><text text-anchor=\"end\" x=\"0\" y=\"283\" transform=\"translate(660.33,0) rotate(-45,0,277)\" style=\"font-family: 'Open Sans', verdana, arial, sans-serif; font-size: 12px; fill: rgb(42, 63, 95); fill-opacity: 1; white-space: pre; opacity: 1;\">Changes - EP</text></g><g class=\"xtick\"><text text-anchor=\"end\" x=\"0\" y=\"283\" transform=\"translate(704.46,0) rotate(-45,0,277)\" style=\"font-family: 'Open Sans', verdana, arial, sans-serif; font-size: 12px; fill: rgb(42, 63, 95); fill-opacity: 1; white-space: pre; opacity: 1;\">5SOS5</text></g><g class=\"xtick\"><text text-anchor=\"end\" x=\"0\" y=\"283\" transform=\"translate(748.59,0) rotate(-45,0,277)\" style=\"font-family: 'Open Sans', verdana, arial, sans-serif; font-size: 12px; fill: rgb(42, 63, 95); fill-opacity: 1; white-space: pre; opacity: 1;\">Monokrom</text></g><g class=\"xtick\"><text text-anchor=\"end\" x=\"0\" y=\"283\" transform=\"translate(792.72,0) rotate(-45,0,277)\" style=\"font-family: 'Open Sans', verdana, arial, sans-serif; font-size: 12px; fill: rgb(42, 63, 95); fill-opacity: 1; white-space: pre; opacity: 1;\">Selamat Ulang Tahun</text></g><g class=\"xtick\"><text text-anchor=\"end\" x=\"0\" y=\"283\" transform=\"translate(836.86,0) rotate(-45,0,277)\" style=\"font-family: 'Open Sans', verdana, arial, sans-serif; font-size: 12px; fill: rgb(42, 63, 95); fill-opacity: 1; white-space: pre; opacity: 1;\">Selamat Datang</text></g><g class=\"xtick\"><text text-anchor=\"end\" x=\"0\" y=\"283\" transform=\"translate(880.99,0) rotate(-45,0,277)\" style=\"font-family: 'Open Sans', verdana, arial, sans-serif; font-size: 12px; fill: rgb(42, 63, 95); fill-opacity: 1; white-space: pre; opacity: 1;\">Yang Patah Tumbuh, Yang Hilang Berganti</text></g><g class=\"xtick\"><text text-anchor=\"end\" x=\"0\" y=\"283\" transform=\"translate(925.12,0) rotate(-45,0,277)\" style=\"font-family: 'Open Sans', verdana, arial, sans-serif; font-size: 12px; fill: rgb(42, 63, 95); fill-opacity: 1; white-space: pre; opacity: 1;\">a beautiful blur</text></g><g class=\"xtick\"><text text-anchor=\"end\" x=\"0\" y=\"283\" transform=\"translate(969.25,0) rotate(-45,0,277)\" style=\"font-family: 'Open Sans', verdana, arial, sans-serif; font-size: 12px; fill: rgb(42, 63, 95); fill-opacity: 1; white-space: pre; opacity: 1;\">Storytelling</text></g></g><g class=\"yaxislayer-above\"><g class=\"ytick\"><text text-anchor=\"end\" x=\"79\" y=\"4.199999999999999\" transform=\"translate(0,270)\" style=\"font-family: 'Open Sans', verdana, arial, sans-serif; font-size: 12px; fill: rgb(0, 128, 0); fill-opacity: 1; white-space: pre; opacity: 1;\">0</text></g><g class=\"ytick\"><text text-anchor=\"end\" x=\"79\" y=\"4.199999999999999\" style=\"font-family: 'Open Sans', verdana, arial, sans-serif; font-size: 12px; fill: rgb(0, 128, 0); fill-opacity: 1; white-space: pre; opacity: 1;\" transform=\"translate(0,218.11)\">1000</text></g><g class=\"ytick\"><text text-anchor=\"end\" x=\"79\" y=\"4.199999999999999\" style=\"font-family: 'Open Sans', verdana, arial, sans-serif; font-size: 12px; fill: rgb(0, 128, 0); fill-opacity: 1; white-space: pre; opacity: 1;\" transform=\"translate(0,166.20999999999998)\">2000</text></g><g class=\"ytick\"><text text-anchor=\"end\" x=\"79\" y=\"4.199999999999999\" style=\"font-family: 'Open Sans', verdana, arial, sans-serif; font-size: 12px; fill: rgb(0, 128, 0); fill-opacity: 1; white-space: pre; opacity: 1;\" transform=\"translate(0,114.32)\">3000</text></g></g><g class=\"overaxes-above\"/></g></g><g class=\"polarlayer\"/><g class=\"smithlayer\"/><g class=\"ternarylayer\"/><g class=\"geolayer\"/><g class=\"funnelarealayer\"/><g class=\"pielayer\"/><g class=\"iciclelayer\"/><g class=\"treemaplayer\"/><g class=\"sunburstlayer\"/><g class=\"glimages\"/><defs id=\"topdefs-f5d0bc\"><g class=\"clips\"/><clipPath id=\"legendf5d0bc\"><rect width=\"154\" height=\"48\" x=\"0\" y=\"0\"/></clipPath></defs><g class=\"layer-above\"><g class=\"imagelayer\"/><g class=\"shapelayer\"/></g><g class=\"infolayer\"><g class=\"legend\" pointer-events=\"all\" transform=\"translate(80,100)\"><rect class=\"bg\" shape-rendering=\"crispEdges\" width=\"154\" height=\"48\" x=\"0\" y=\"0\" style=\"stroke: rgb(255, 255, 255); stroke-opacity: 0; fill: rgb(255, 255, 255); fill-opacity: 0; stroke-width: 0px;\"/><g class=\"scrollbox\" transform=\"\" clip-path=\"url(#legendf5d0bc)\"><g class=\"groups\"><g class=\"traces\" transform=\"translate(0,14.5)\" style=\"opacity: 1;\"><text class=\"legendtext\" text-anchor=\"start\" x=\"40\" y=\"4.680000000000001\" style=\"font-family: 'Open Sans', verdana, arial, sans-serif; font-size: 12px; fill: rgb(42, 63, 95); fill-opacity: 1; white-space: pre;\">Playback Duration</text><g class=\"layers\" style=\"opacity: 1;\"><g class=\"legendfill\"/><g class=\"legendlines\"><path class=\"js-line\" d=\"M5,0h30\" style=\"fill: none; stroke: rgb(0, 0, 255); stroke-opacity: 1; stroke-width: 2px;\"/></g><g class=\"legendsymbols\"><g class=\"legendpoints\"><path class=\"scatterpts\" transform=\"translate(20,0)\" d=\"M3,0A3,3 0 1,1 0,-3A3,3 0 0,1 3,0Z\" style=\"opacity: 1; stroke-width: 0px; fill: rgb(0, 0, 255); fill-opacity: 1;\"/></g></g></g><rect class=\"legendtoggle\" x=\"0\" y=\"-9.5\" width=\"148.859375\" height=\"19\" style=\"fill: rgb(0, 0, 0); fill-opacity: 0;\"/></g><g class=\"traces\" transform=\"translate(0,33.5)\" style=\"opacity: 1;\"><text class=\"legendtext\" text-anchor=\"start\" x=\"40\" y=\"4.680000000000001\" style=\"font-family: 'Open Sans', verdana, arial, sans-serif; font-size: 12px; fill: rgb(42, 63, 95); fill-opacity: 1; white-space: pre;\">Play Counts</text><g class=\"layers\" style=\"opacity: 1;\"><g class=\"legendfill\"/><g class=\"legendlines\"/><g class=\"legendsymbols\"><g class=\"legendpoints\"><path class=\"legendundefined\" d=\"M6,6H-6V-6H6Z\" transform=\"translate(20,0)\" style=\"stroke-width: 0.5px; fill: rgb(0, 128, 0); fill-opacity: 1; stroke: rgb(229, 236, 246); stroke-opacity: 1;\"/></g></g></g><rect class=\"legendtoggle\" x=\"0\" y=\"-9.5\" width=\"148.859375\" height=\"19\" style=\"fill: rgb(0, 0, 0); fill-opacity: 0;\"/></g></g></g><rect class=\"scrollbar\" rx=\"20\" ry=\"3\" width=\"0\" height=\"0\" x=\"0\" y=\"0\" style=\"fill: rgb(128, 139, 164); fill-opacity: 1;\"/></g><g class=\"g-gtitle\"><text class=\"gtitle\" x=\"550\" y=\"50\" text-anchor=\"middle\" dy=\"0em\" style=\"font-family: 'Open Sans', verdana, arial, sans-serif; font-size: 17px; fill: rgb(42, 63, 95); opacity: 1; font-weight: normal; white-space: pre;\">Top 20 Albums by Playback Duration and Play Counts</text></g><g class=\"g-xtitle\"><text class=\"xtitle\" x=\"550\" y=\"487.73359375\" text-anchor=\"middle\" style=\"font-family: 'Open Sans', verdana, arial, sans-serif; font-size: 14px; fill: rgb(42, 63, 95); opacity: 1; font-weight: normal; white-space: pre;\">Album Name</text></g><g class=\"g-ytitle\"><text class=\"ytitle\" transform=\"rotate(-90,24.184375000000003,185)\" x=\"24.184375000000003\" y=\"185\" text-anchor=\"middle\" style=\"font-family: 'Open Sans', verdana, arial, sans-serif; font-size: 14px; fill: rgb(0, 128, 0); opacity: 1; font-weight: normal; white-space: pre;\">Play Counts</text></g></g></svg>"
      ]
     },
     "metadata": {},
     "output_type": "display_data"
    }
   ],
   "source": [
    "# Create traces for playback duration (line) and play counts (bars)\n",
    "trace_duration = go.Scatter(x=top_albums['Album Name'], y=top_albums['Playback Duration'],\n",
    "                            mode='lines+markers', name='Playback Duration', line=dict(color='blue'))\n",
    "trace_counts = go.Bar(x=top_albums['Album Name'], y=top_albums['Play Counts'],\n",
    "                      name='Play Counts', marker=dict(color='green'))\n",
    "\n",
    "# Create layout for the chart with a secondary y-axis\n",
    "layout = go.Layout(title='Top 20 Albums by Playback Duration and Play Counts', title_x=0.5,\n",
    "                   xaxis=dict(title='Album Name', tickangle=-45),\n",
    "                   yaxis=dict(title='Play Counts', side='left', color='green'),\n",
    "                   yaxis2=dict(title='Playback Duration', side='right', overlaying='y', color='blue'),\n",
    "                   legend=dict(x=0, y=1.0, bgcolor='rgba(255, 255, 255, 0)', bordercolor='rgba(255, 255, 255, 0)'),\n",
    "                   barmode='group', width=1100, height=500)\n",
    "\n",
    "fig = go.Figure(data=[trace_duration, trace_counts], layout=layout)\n",
    "fig.show()"
   ]
  },
  {
   "cell_type": "code",
   "execution_count": 217,
   "metadata": {},
   "outputs": [
    {
     "data": {
      "image/svg+xml": [
       "<svg class=\"main-svg\" xmlns=\"http://www.w3.org/2000/svg\" xmlns:xlink=\"http://www.w3.org/1999/xlink\" width=\"1100\" height=\"500\" style=\"\" viewBox=\"0 0 1100 500\"><rect x=\"0\" y=\"0\" width=\"1100\" height=\"500\" style=\"fill: rgb(255, 255, 255); fill-opacity: 1;\"/><defs id=\"defs-917f16\"><g class=\"clips\"><clipPath id=\"clip917f16xyplot\" class=\"plotclip\"><rect width=\"922\" height=\"262\"/></clipPath><clipPath id=\"clip917f16xy2plot\" class=\"plotclip\"><rect width=\"922\" height=\"262\"/></clipPath><clipPath class=\"axesclip\" id=\"clip917f16x\"><rect x=\"80\" y=\"0\" width=\"922\" height=\"500\"/></clipPath><clipPath class=\"axesclip\" id=\"clip917f16y\"><rect x=\"0\" y=\"60\" width=\"1100\" height=\"262\"/></clipPath><clipPath class=\"axesclip\" id=\"clip917f16xy\"><rect x=\"80\" y=\"60\" width=\"922\" height=\"262\"/></clipPath><clipPath class=\"axesclip\" id=\"clip917f16y2\"><rect x=\"0\" y=\"60\" width=\"1100\" height=\"262\"/></clipPath><clipPath class=\"axesclip\" id=\"clip917f16xy2\"><rect x=\"80\" y=\"60\" width=\"922\" height=\"262\"/></clipPath></g><g class=\"gradients\"/><g class=\"patterns\"/></defs><g class=\"bglayer\"><rect class=\"bg\" x=\"80\" y=\"60\" width=\"922\" height=\"262\" style=\"fill: rgb(229, 236, 246); fill-opacity: 1; stroke-width: 0;\"/></g><g class=\"layer-below\"><g class=\"imagelayer\"/><g class=\"shapelayer\"/></g><g class=\"cartesianlayer\"><g class=\"subplot xy\"><g class=\"layer-subplot\"><g class=\"shapelayer\"/><g class=\"imagelayer\"/></g><g class=\"minor-gridlayer\"><g class=\"x\"/><g class=\"y\"/><g class=\"y2\"/></g><g class=\"gridlayer\"><g class=\"x\"/><g class=\"y\"><path class=\"ygrid crisp\" transform=\"translate(0,281.06)\" d=\"M80,0h922\" style=\"stroke: rgb(255, 255, 255); stroke-opacity: 1; stroke-width: 1px;\"/><path class=\"ygrid crisp\" transform=\"translate(0,240.12)\" d=\"M80,0h922\" style=\"stroke: rgb(255, 255, 255); stroke-opacity: 1; stroke-width: 1px;\"/><path class=\"ygrid crisp\" transform=\"translate(0,199.18)\" d=\"M80,0h922\" style=\"stroke: rgb(255, 255, 255); stroke-opacity: 1; stroke-width: 1px;\"/><path class=\"ygrid crisp\" transform=\"translate(0,158.24)\" d=\"M80,0h922\" style=\"stroke: rgb(255, 255, 255); stroke-opacity: 1; stroke-width: 1px;\"/><path class=\"ygrid crisp\" transform=\"translate(0,117.3)\" d=\"M80,0h922\" style=\"stroke: rgb(255, 255, 255); stroke-opacity: 1; stroke-width: 1px;\"/><path class=\"ygrid crisp\" transform=\"translate(0,76.36)\" d=\"M80,0h922\" style=\"stroke: rgb(255, 255, 255); stroke-opacity: 1; stroke-width: 1px;\"/></g><g class=\"y2\"><path class=\"y2grid crisp\" transform=\"translate(0,305.93)\" d=\"M80,0h922\" style=\"stroke: rgb(255, 255, 255); stroke-opacity: 1; stroke-width: 1px;\"/><path class=\"y2grid crisp\" transform=\"translate(0,254.1)\" d=\"M80,0h922\" style=\"stroke: rgb(255, 255, 255); stroke-opacity: 1; stroke-width: 1px;\"/><path class=\"y2grid crisp\" transform=\"translate(0,202.27)\" d=\"M80,0h922\" style=\"stroke: rgb(255, 255, 255); stroke-opacity: 1; stroke-width: 1px;\"/><path class=\"y2grid crisp\" transform=\"translate(0,150.45)\" d=\"M80,0h922\" style=\"stroke: rgb(255, 255, 255); stroke-opacity: 1; stroke-width: 1px;\"/><path class=\"y2grid crisp\" transform=\"translate(0,98.62)\" d=\"M80,0h922\" style=\"stroke: rgb(255, 255, 255); stroke-opacity: 1; stroke-width: 1px;\"/></g></g><g class=\"zerolinelayer\"><path class=\"yzl zl crisp\" transform=\"translate(0,322)\" d=\"M80,0h922\" style=\"stroke: rgb(255, 255, 255); stroke-opacity: 1; stroke-width: 2px;\"/></g><g class=\"layer-between\"><g class=\"shapelayer\"/><g class=\"imagelayer\"/></g><path class=\"xlines-below\"/><path class=\"ylines-below\"/><g class=\"overlines-below\"><path class=\"xy2-x\"/><path class=\"xy2-y\"/></g><g class=\"xaxislayer-below\"/><g class=\"yaxislayer-below\"/><g class=\"overaxes-below\"><g class=\"xy2-x\"/><g class=\"xy2-y\"/></g><g class=\"plot\" transform=\"translate(80,60)\" clip-path=\"url(#clip917f16xyplot)\"><g class=\"barlayer mlayer\"><g class=\"trace bars\" style=\"opacity: 1;\"><g class=\"points\"><g class=\"point\"><path d=\"M32.54,262V13.1H67.16V262Z\" style=\"vector-effect: none; opacity: 1; stroke-width: 0.5px; fill: rgb(0, 128, 0); fill-opacity: 1; stroke: rgb(229, 236, 246); stroke-opacity: 1;\"/></g><g class=\"point\"><path d=\"M75.82,262V37.24H110.44V262Z\" style=\"vector-effect: none; opacity: 1; stroke-width: 0.5px; fill: rgb(0, 128, 0); fill-opacity: 1; stroke: rgb(229, 236, 246); stroke-opacity: 1;\"/></g><g class=\"point\"><path d=\"M119.1,262V54.97H153.72V262Z\" style=\"vector-effect: none; opacity: 1; stroke-width: 0.5px; fill: rgb(0, 128, 0); fill-opacity: 1; stroke: rgb(229, 236, 246); stroke-opacity: 1;\"/></g><g class=\"point\"><path d=\"M162.38,262V55.7H197V262Z\" style=\"vector-effect: none; opacity: 1; stroke-width: 0.5px; fill: rgb(0, 128, 0); fill-opacity: 1; stroke: rgb(229, 236, 246); stroke-opacity: 1;\"/></g><g class=\"point\"><path d=\"M205.65,262V64.09H240.28V262Z\" style=\"vector-effect: none; opacity: 1; stroke-width: 0.5px; fill: rgb(0, 128, 0); fill-opacity: 1; stroke: rgb(229, 236, 246); stroke-opacity: 1;\"/></g><g class=\"point\"><path d=\"M248.93,262V73.7H283.56V262Z\" style=\"vector-effect: none; opacity: 1; stroke-width: 0.5px; fill: rgb(0, 128, 0); fill-opacity: 1; stroke: rgb(229, 236, 246); stroke-opacity: 1;\"/></g><g class=\"point\"><path d=\"M292.21,262V75.45H326.84V262Z\" style=\"vector-effect: none; opacity: 1; stroke-width: 0.5px; fill: rgb(0, 128, 0); fill-opacity: 1; stroke: rgb(229, 236, 246); stroke-opacity: 1;\"/></g><g class=\"point\"><path d=\"M335.49,262V77.61H370.11V262Z\" style=\"vector-effect: none; opacity: 1; stroke-width: 0.5px; fill: rgb(0, 128, 0); fill-opacity: 1; stroke: rgb(229, 236, 246); stroke-opacity: 1;\"/></g><g class=\"point\"><path d=\"M378.77,262V111.83H413.39V262Z\" style=\"vector-effect: none; opacity: 1; stroke-width: 0.5px; fill: rgb(0, 128, 0); fill-opacity: 1; stroke: rgb(229, 236, 246); stroke-opacity: 1;\"/></g><g class=\"point\"><path d=\"M422.05,262V135.52H456.67V262Z\" style=\"vector-effect: none; opacity: 1; stroke-width: 0.5px; fill: rgb(0, 128, 0); fill-opacity: 1; stroke: rgb(229, 236, 246); stroke-opacity: 1;\"/></g><g class=\"point\"><path d=\"M465.33,262V137.34H499.95V262Z\" style=\"vector-effect: none; opacity: 1; stroke-width: 0.5px; fill: rgb(0, 128, 0); fill-opacity: 1; stroke: rgb(229, 236, 246); stroke-opacity: 1;\"/></g><g class=\"point\"><path d=\"M508.61,262V143.09H543.23V262Z\" style=\"vector-effect: none; opacity: 1; stroke-width: 0.5px; fill: rgb(0, 128, 0); fill-opacity: 1; stroke: rgb(229, 236, 246); stroke-opacity: 1;\"/></g><g class=\"point\"><path d=\"M551.89,262V147.08H586.51V262Z\" style=\"vector-effect: none; opacity: 1; stroke-width: 0.5px; fill: rgb(0, 128, 0); fill-opacity: 1; stroke: rgb(229, 236, 246); stroke-opacity: 1;\"/></g><g class=\"point\"><path d=\"M595.16,262V149.83H629.79V262Z\" style=\"vector-effect: none; opacity: 1; stroke-width: 0.5px; fill: rgb(0, 128, 0); fill-opacity: 1; stroke: rgb(229, 236, 246); stroke-opacity: 1;\"/></g><g class=\"point\"><path d=\"M638.44,262V166.95H673.07V262Z\" style=\"vector-effect: none; opacity: 1; stroke-width: 0.5px; fill: rgb(0, 128, 0); fill-opacity: 1; stroke: rgb(229, 236, 246); stroke-opacity: 1;\"/></g><g class=\"point\"><path d=\"M681.72,262V172.39H716.35V262Z\" style=\"vector-effect: none; opacity: 1; stroke-width: 0.5px; fill: rgb(0, 128, 0); fill-opacity: 1; stroke: rgb(229, 236, 246); stroke-opacity: 1;\"/></g><g class=\"point\"><path d=\"M725,262V177.46H759.62V262Z\" style=\"vector-effect: none; opacity: 1; stroke-width: 0.5px; fill: rgb(0, 128, 0); fill-opacity: 1; stroke: rgb(229, 236, 246); stroke-opacity: 1;\"/></g><g class=\"point\"><path d=\"M768.28,262V177.75H802.9V262Z\" style=\"vector-effect: none; opacity: 1; stroke-width: 0.5px; fill: rgb(0, 128, 0); fill-opacity: 1; stroke: rgb(229, 236, 246); stroke-opacity: 1;\"/></g><g class=\"point\"><path d=\"M811.56,262V181.72H846.18V262Z\" style=\"vector-effect: none; opacity: 1; stroke-width: 0.5px; fill: rgb(0, 128, 0); fill-opacity: 1; stroke: rgb(229, 236, 246); stroke-opacity: 1;\"/></g><g class=\"point\"><path d=\"M854.84,262V182.34H889.46V262Z\" style=\"vector-effect: none; opacity: 1; stroke-width: 0.5px; fill: rgb(0, 128, 0); fill-opacity: 1; stroke: rgb(229, 236, 246); stroke-opacity: 1;\"/></g></g></g></g></g><g class=\"overplot\"><g class=\"xy2\" transform=\"translate(80,60)\" clip-path=\"url(#clip917f16xy2plot)\"><g class=\"scatterlayer mlayer\"><g class=\"trace scatter tracec19d36\" style=\"stroke-miterlimit: 2; opacity: 1;\"><g class=\"fills\"/><g class=\"errorbars\"/><g class=\"lines\"><path class=\"js-line\" d=\"M49.85,16.85L93.13,92.78L136.41,87.59L179.69,81.63L222.97,91.48L266.24,122.84L309.52,115.58L352.8,144.09L396.08,145.12L439.36,160.67L482.64,169.74L525.92,197.47L569.2,162.49L612.48,184.25L655.76,188.4L699.03,217.68L742.31,217.42L785.59,245.15L828.87,216.13L872.15,217.94\" style=\"vector-effect: none; fill: none; stroke: rgb(154, 205, 50); stroke-opacity: 1; stroke-width: 2px; opacity: 1;\"/></g><g class=\"points\"><path class=\"point\" transform=\"translate(49.85,16.85)\" d=\"M3,0A3,3 0 1,1 0,-3A3,3 0 0,1 3,0Z\" style=\"opacity: 1; stroke-width: 0px; fill: rgb(154, 205, 50); fill-opacity: 1;\"/><path class=\"point\" transform=\"translate(93.13,92.78)\" d=\"M3,0A3,3 0 1,1 0,-3A3,3 0 0,1 3,0Z\" style=\"opacity: 1; stroke-width: 0px; fill: rgb(154, 205, 50); fill-opacity: 1;\"/><path class=\"point\" transform=\"translate(136.41,87.59)\" d=\"M3,0A3,3 0 1,1 0,-3A3,3 0 0,1 3,0Z\" style=\"opacity: 1; stroke-width: 0px; fill: rgb(154, 205, 50); fill-opacity: 1;\"/><path class=\"point\" transform=\"translate(179.69,81.63)\" d=\"M3,0A3,3 0 1,1 0,-3A3,3 0 0,1 3,0Z\" style=\"opacity: 1; stroke-width: 0px; fill: rgb(154, 205, 50); fill-opacity: 1;\"/><path class=\"point\" transform=\"translate(222.97,91.48)\" d=\"M3,0A3,3 0 1,1 0,-3A3,3 0 0,1 3,0Z\" style=\"opacity: 1; stroke-width: 0px; fill: rgb(154, 205, 50); fill-opacity: 1;\"/><path class=\"point\" transform=\"translate(266.24,122.84)\" d=\"M3,0A3,3 0 1,1 0,-3A3,3 0 0,1 3,0Z\" style=\"opacity: 1; stroke-width: 0px; fill: rgb(154, 205, 50); fill-opacity: 1;\"/><path class=\"point\" transform=\"translate(309.52,115.58)\" d=\"M3,0A3,3 0 1,1 0,-3A3,3 0 0,1 3,0Z\" style=\"opacity: 1; stroke-width: 0px; fill: rgb(154, 205, 50); fill-opacity: 1;\"/><path class=\"point\" transform=\"translate(352.8,144.09)\" d=\"M3,0A3,3 0 1,1 0,-3A3,3 0 0,1 3,0Z\" style=\"opacity: 1; stroke-width: 0px; fill: rgb(154, 205, 50); fill-opacity: 1;\"/><path class=\"point\" transform=\"translate(396.08,145.12)\" d=\"M3,0A3,3 0 1,1 0,-3A3,3 0 0,1 3,0Z\" style=\"opacity: 1; stroke-width: 0px; fill: rgb(154, 205, 50); fill-opacity: 1;\"/><path class=\"point\" transform=\"translate(439.36,160.67)\" d=\"M3,0A3,3 0 1,1 0,-3A3,3 0 0,1 3,0Z\" style=\"opacity: 1; stroke-width: 0px; fill: rgb(154, 205, 50); fill-opacity: 1;\"/><path class=\"point\" transform=\"translate(482.64,169.74)\" d=\"M3,0A3,3 0 1,1 0,-3A3,3 0 0,1 3,0Z\" style=\"opacity: 1; stroke-width: 0px; fill: rgb(154, 205, 50); fill-opacity: 1;\"/><path class=\"point\" transform=\"translate(525.92,197.47)\" d=\"M3,0A3,3 0 1,1 0,-3A3,3 0 0,1 3,0Z\" style=\"opacity: 1; stroke-width: 0px; fill: rgb(154, 205, 50); fill-opacity: 1;\"/><path class=\"point\" transform=\"translate(569.2,162.49)\" d=\"M3,0A3,3 0 1,1 0,-3A3,3 0 0,1 3,0Z\" style=\"opacity: 1; stroke-width: 0px; fill: rgb(154, 205, 50); fill-opacity: 1;\"/><path class=\"point\" transform=\"translate(612.48,184.25)\" d=\"M3,0A3,3 0 1,1 0,-3A3,3 0 0,1 3,0Z\" style=\"opacity: 1; stroke-width: 0px; fill: rgb(154, 205, 50); fill-opacity: 1;\"/><path class=\"point\" transform=\"translate(655.76,188.4)\" d=\"M3,0A3,3 0 1,1 0,-3A3,3 0 0,1 3,0Z\" style=\"opacity: 1; stroke-width: 0px; fill: rgb(154, 205, 50); fill-opacity: 1;\"/><path class=\"point\" transform=\"translate(699.03,217.68)\" d=\"M3,0A3,3 0 1,1 0,-3A3,3 0 0,1 3,0Z\" style=\"opacity: 1; stroke-width: 0px; fill: rgb(154, 205, 50); fill-opacity: 1;\"/><path class=\"point\" transform=\"translate(742.31,217.42)\" d=\"M3,0A3,3 0 1,1 0,-3A3,3 0 0,1 3,0Z\" style=\"opacity: 1; stroke-width: 0px; fill: rgb(154, 205, 50); fill-opacity: 1;\"/><path class=\"point\" transform=\"translate(785.59,245.15)\" d=\"M3,0A3,3 0 1,1 0,-3A3,3 0 0,1 3,0Z\" style=\"opacity: 1; stroke-width: 0px; fill: rgb(154, 205, 50); fill-opacity: 1;\"/><path class=\"point\" transform=\"translate(828.87,216.13)\" d=\"M3,0A3,3 0 1,1 0,-3A3,3 0 0,1 3,0Z\" style=\"opacity: 1; stroke-width: 0px; fill: rgb(154, 205, 50); fill-opacity: 1;\"/><path class=\"point\" transform=\"translate(872.15,217.94)\" d=\"M3,0A3,3 0 1,1 0,-3A3,3 0 0,1 3,0Z\" style=\"opacity: 1; stroke-width: 0px; fill: rgb(154, 205, 50); fill-opacity: 1;\"/></g><g class=\"text\"/></g></g></g></g><path class=\"xlines-above crisp\" d=\"M0,0\" style=\"fill: none;\"/><path class=\"ylines-above crisp\" d=\"M0,0\" style=\"fill: none;\"/><g class=\"overlines-above\"><path class=\"xy2-x crisp\" d=\"M0,0\" style=\"fill: none;\"/><path class=\"xy2-y crisp\" d=\"M0,0\" style=\"fill: none;\"/></g><g class=\"xaxislayer-above\"><g class=\"xtick\"><text text-anchor=\"start\" x=\"0\" y=\"335\" transform=\"translate(129.85,0) rotate(29.999999999999996,0,329)\" style=\"font-family: 'Open Sans', verdana, arial, sans-serif; font-size: 12px; fill: rgb(42, 63, 95); fill-opacity: 1; white-space: pre; opacity: 1;\">gg bb xx</text></g><g class=\"xtick\"><text text-anchor=\"start\" x=\"0\" y=\"335\" transform=\"translate(173.13,0) rotate(29.999999999999996,0,329)\" style=\"font-family: 'Open Sans', verdana, arial, sans-serif; font-size: 12px; fill: rgb(42, 63, 95); fill-opacity: 1; white-space: pre; opacity: 1;\">Menari Dengan Bayangan</text></g><g class=\"xtick\"><text text-anchor=\"start\" x=\"0\" y=\"335\" transform=\"translate(216.41,0) rotate(29.999999999999996,0,329)\" style=\"font-family: 'Open Sans', verdana, arial, sans-serif; font-size: 12px; fill: rgb(42, 63, 95); fill-opacity: 1; white-space: pre; opacity: 1;\">Malibu Nights</text></g><g class=\"xtick\"><text text-anchor=\"start\" x=\"0\" y=\"335\" transform=\"translate(259.69,0) rotate(29.999999999999996,0,329)\" style=\"font-family: 'Open Sans', verdana, arial, sans-serif; font-size: 12px; fill: rgb(42, 63, 95); fill-opacity: 1; white-space: pre; opacity: 1;\">mama's boy</text></g><g class=\"xtick\"><text text-anchor=\"start\" x=\"0\" y=\"335\" transform=\"translate(302.97,0) rotate(29.999999999999996,0,329)\" style=\"font-family: 'Open Sans', verdana, arial, sans-serif; font-size: 12px; fill: rgb(42, 63, 95); fill-opacity: 1; white-space: pre; opacity: 1;\">Midnights</text></g><g class=\"xtick\"><text text-anchor=\"start\" x=\"0\" y=\"335\" transform=\"translate(346.24,0) rotate(29.999999999999996,0,329)\" style=\"font-family: 'Open Sans', verdana, arial, sans-serif; font-size: 12px; fill: rgb(42, 63, 95); fill-opacity: 1; white-space: pre; opacity: 1;\">Mantra Mantra</text></g><g class=\"xtick\"><text text-anchor=\"start\" x=\"0\" y=\"335\" transform=\"translate(389.52,0) rotate(29.999999999999996,0,329)\" style=\"font-family: 'Open Sans', verdana, arial, sans-serif; font-size: 12px; fill: rgb(42, 63, 95); fill-opacity: 1; white-space: pre; opacity: 1;\">LANY</text></g><g class=\"xtick\"><text text-anchor=\"start\" x=\"0\" y=\"335\" transform=\"translate(432.8,0) rotate(29.999999999999996,0,329)\" style=\"font-family: 'Open Sans', verdana, arial, sans-serif; font-size: 12px; fill: rgb(42, 63, 95); fill-opacity: 1; white-space: pre; opacity: 1;\">The Feeling of Falling Upwards</text></g><g class=\"xtick\"><text text-anchor=\"start\" x=\"0\" y=\"335\" transform=\"translate(476.08,0) rotate(29.999999999999996,0,329)\" style=\"font-family: 'Open Sans', verdana, arial, sans-serif; font-size: 12px; fill: rgb(42, 63, 95); fill-opacity: 1; white-space: pre; opacity: 1;\">logic mess</text></g><g class=\"xtick\"><text text-anchor=\"start\" x=\"0\" y=\"335\" transform=\"translate(519.36,0) rotate(29.999999999999996,0,329)\" style=\"font-family: 'Open Sans', verdana, arial, sans-serif; font-size: 12px; fill: rgb(42, 63, 95); fill-opacity: 1; white-space: pre; opacity: 1;\">~how i'm feeling~</text></g><g class=\"xtick\"><text text-anchor=\"start\" x=\"0\" y=\"335\" transform=\"translate(562.64,0) rotate(29.999999999999996,0,329)\" style=\"font-family: 'Open Sans', verdana, arial, sans-serif; font-size: 12px; fill: rgb(42, 63, 95); fill-opacity: 1; white-space: pre; opacity: 1;\">Manusia</text></g><g class=\"xtick\"><text text-anchor=\"start\" x=\"0\" y=\"335\" transform=\"translate(605.92,0) rotate(29.999999999999996,0,329)\" style=\"font-family: 'Open Sans', verdana, arial, sans-serif; font-size: 12px; fill: rgb(42, 63, 95); fill-opacity: 1; white-space: pre; opacity: 1;\">Konotasi</text></g><g class=\"xtick\"><text text-anchor=\"start\" x=\"0\" y=\"335\" transform=\"translate(649.2,0) rotate(29.999999999999996,0,329)\" style=\"font-family: 'Open Sans', verdana, arial, sans-serif; font-size: 12px; fill: rgb(42, 63, 95); fill-opacity: 1; white-space: pre; opacity: 1;\">Changes - EP</text></g><g class=\"xtick\"><text text-anchor=\"start\" x=\"0\" y=\"335\" transform=\"translate(692.48,0) rotate(29.999999999999996,0,329)\" style=\"font-family: 'Open Sans', verdana, arial, sans-serif; font-size: 12px; fill: rgb(42, 63, 95); fill-opacity: 1; white-space: pre; opacity: 1;\">5SOS5</text></g><g class=\"xtick\"><text text-anchor=\"start\" x=\"0\" y=\"335\" transform=\"translate(735.76,0) rotate(29.999999999999996,0,329)\" style=\"font-family: 'Open Sans', verdana, arial, sans-serif; font-size: 12px; fill: rgb(42, 63, 95); fill-opacity: 1; white-space: pre; opacity: 1;\">Monokrom</text></g><g class=\"xtick\"><text text-anchor=\"start\" x=\"0\" y=\"335\" transform=\"translate(779.03,0) rotate(29.999999999999996,0,329)\" style=\"font-family: 'Open Sans', verdana, arial, sans-serif; font-size: 12px; fill: rgb(42, 63, 95); fill-opacity: 1; white-space: pre; opacity: 1;\">Selamat Ulang Tahun</text></g><g class=\"xtick\"><text text-anchor=\"start\" x=\"0\" y=\"335\" transform=\"translate(822.31,0) rotate(29.999999999999996,0,329)\" style=\"font-family: 'Open Sans', verdana, arial, sans-serif; font-size: 12px; fill: rgb(42, 63, 95); fill-opacity: 1; white-space: pre; opacity: 1;\">Selamat Datang</text></g><g class=\"xtick\"><text text-anchor=\"start\" x=\"0\" y=\"335\" transform=\"translate(865.59,0) rotate(29.999999999999996,0,329)\" style=\"font-family: 'Open Sans', verdana, arial, sans-serif; font-size: 12px; fill: rgb(42, 63, 95); fill-opacity: 1; white-space: pre; opacity: 1;\">Yang Patah Tumbuh, Yang Hilang Berganti</text></g><g class=\"xtick\"><text text-anchor=\"start\" x=\"0\" y=\"335\" transform=\"translate(908.87,0) rotate(29.999999999999996,0,329)\" style=\"font-family: 'Open Sans', verdana, arial, sans-serif; font-size: 12px; fill: rgb(42, 63, 95); fill-opacity: 1; white-space: pre; opacity: 1;\">a beautiful blur</text></g><g class=\"xtick\"><text text-anchor=\"start\" x=\"0\" y=\"335\" transform=\"translate(952.15,0) rotate(29.999999999999996,0,329)\" style=\"font-family: 'Open Sans', verdana, arial, sans-serif; font-size: 12px; fill: rgb(42, 63, 95); fill-opacity: 1; white-space: pre; opacity: 1;\">Storytelling</text></g></g><g class=\"yaxislayer-above\"><g class=\"ytick\"><text text-anchor=\"end\" x=\"79\" y=\"4.199999999999999\" transform=\"translate(0,322)\" style=\"font-family: 'Open Sans', verdana, arial, sans-serif; font-size: 12px; fill: rgb(0, 128, 0); fill-opacity: 1; white-space: pre; opacity: 1;\">0</text></g><g class=\"ytick\"><text text-anchor=\"end\" x=\"79\" y=\"4.199999999999999\" style=\"font-family: 'Open Sans', verdana, arial, sans-serif; font-size: 12px; fill: rgb(0, 128, 0); fill-opacity: 1; white-space: pre; opacity: 1;\" transform=\"translate(0,281.06)\">500</text></g><g class=\"ytick\"><text text-anchor=\"end\" x=\"79\" y=\"4.199999999999999\" style=\"font-family: 'Open Sans', verdana, arial, sans-serif; font-size: 12px; fill: rgb(0, 128, 0); fill-opacity: 1; white-space: pre; opacity: 1;\" transform=\"translate(0,240.12)\">1000</text></g><g class=\"ytick\"><text text-anchor=\"end\" x=\"79\" y=\"4.199999999999999\" style=\"font-family: 'Open Sans', verdana, arial, sans-serif; font-size: 12px; fill: rgb(0, 128, 0); fill-opacity: 1; white-space: pre; opacity: 1;\" transform=\"translate(0,199.18)\">1500</text></g><g class=\"ytick\"><text text-anchor=\"end\" x=\"79\" y=\"4.199999999999999\" style=\"font-family: 'Open Sans', verdana, arial, sans-serif; font-size: 12px; fill: rgb(0, 128, 0); fill-opacity: 1; white-space: pre; opacity: 1;\" transform=\"translate(0,158.24)\">2000</text></g><g class=\"ytick\"><text text-anchor=\"end\" x=\"79\" y=\"4.199999999999999\" style=\"font-family: 'Open Sans', verdana, arial, sans-serif; font-size: 12px; fill: rgb(0, 128, 0); fill-opacity: 1; white-space: pre; opacity: 1;\" transform=\"translate(0,117.3)\">2500</text></g><g class=\"ytick\"><text text-anchor=\"end\" x=\"79\" y=\"4.199999999999999\" style=\"font-family: 'Open Sans', verdana, arial, sans-serif; font-size: 12px; fill: rgb(0, 128, 0); fill-opacity: 1; white-space: pre; opacity: 1;\" transform=\"translate(0,76.36)\">3000</text></g></g><g class=\"overaxes-above\"><g class=\"xy2-x\"/><g class=\"xy2-y\"><g class=\"y2tick\"><text text-anchor=\"start\" x=\"1003\" y=\"4.199999999999999\" transform=\"translate(0,305.93)\" style=\"font-family: 'Open Sans', verdana, arial, sans-serif; font-size: 12px; fill: rgb(154, 205, 50); fill-opacity: 1; white-space: pre; opacity: 1;\">200</text></g><g class=\"y2tick\"><text text-anchor=\"start\" x=\"1003\" y=\"4.199999999999999\" style=\"font-family: 'Open Sans', verdana, arial, sans-serif; font-size: 12px; fill: rgb(154, 205, 50); fill-opacity: 1; white-space: pre; opacity: 1;\" transform=\"translate(0,254.1)\">400</text></g><g class=\"y2tick\"><text text-anchor=\"start\" x=\"1003\" y=\"4.199999999999999\" style=\"font-family: 'Open Sans', verdana, arial, sans-serif; font-size: 12px; fill: rgb(154, 205, 50); fill-opacity: 1; white-space: pre; opacity: 1;\" transform=\"translate(0,202.27)\">600</text></g><g class=\"y2tick\"><text text-anchor=\"start\" x=\"1003\" y=\"4.199999999999999\" style=\"font-family: 'Open Sans', verdana, arial, sans-serif; font-size: 12px; fill: rgb(154, 205, 50); fill-opacity: 1; white-space: pre; opacity: 1;\" transform=\"translate(0,150.45)\">800</text></g><g class=\"y2tick\"><text text-anchor=\"start\" x=\"1003\" y=\"4.199999999999999\" style=\"font-family: 'Open Sans', verdana, arial, sans-serif; font-size: 12px; fill: rgb(154, 205, 50); fill-opacity: 1; white-space: pre; opacity: 1;\" transform=\"translate(0,98.62)\">1000</text></g></g></g></g><g class=\"subplot xy2\"/></g><g class=\"polarlayer\"/><g class=\"smithlayer\"/><g class=\"ternarylayer\"/><g class=\"geolayer\"/><g class=\"funnelarealayer\"/><g class=\"pielayer\"/><g class=\"iciclelayer\"/><g class=\"treemaplayer\"/><g class=\"sunburstlayer\"/><g class=\"glimages\"/><defs id=\"topdefs-917f16\"><g class=\"clips\"/></defs><g class=\"layer-above\"><g class=\"imagelayer\"/><g class=\"shapelayer\"/></g><g class=\"infolayer\"><g class=\"g-gtitle\"><text class=\"gtitle\" x=\"550\" y=\"30\" text-anchor=\"middle\" dy=\"0em\" style=\"font-family: 'Open Sans', verdana, arial, sans-serif; font-size: 17px; fill: rgb(42, 63, 95); opacity: 1; font-weight: normal; white-space: pre;\">Top 20 Albums by Playback Duration and Play Counts</text></g><g class=\"g-xtitle\"><text class=\"xtitle\" x=\"541\" y=\"487.9220703125\" text-anchor=\"middle\" style=\"font-family: 'Open Sans', verdana, arial, sans-serif; font-size: 14px; fill: rgb(42, 63, 95); opacity: 1; font-weight: normal; white-space: pre;\">Album Name</text></g><g class=\"g-ytitle\"><text class=\"ytitle\" transform=\"rotate(-90,24.184375000000003,191)\" x=\"24.184375000000003\" y=\"191\" text-anchor=\"middle\" style=\"font-family: 'Open Sans', verdana, arial, sans-serif; font-size: 14px; fill: rgb(0, 128, 0); opacity: 1; font-weight: normal; white-space: pre;\">Playback Duration</text></g><g class=\"g-y2title\"><text class=\"y2title\" transform=\"rotate(-90,1058.190625,191)\" x=\"1058.190625\" y=\"191\" text-anchor=\"middle\" style=\"font-family: 'Open Sans', verdana, arial, sans-serif; font-size: 14px; fill: rgb(154, 205, 50); opacity: 1; font-weight: normal; white-space: pre;\">Play Counts</text></g></g></svg>"
      ]
     },
     "metadata": {},
     "output_type": "display_data"
    }
   ],
   "source": [
    "fig = px.bar(top_albums, x='Album Name', y='Playback Duration',\n",
    "             color_discrete_sequence=['green'], labels={'Playback Duration': 'Playback Duration'})\n",
    "\n",
    "fig.add_scatter(x=top_albums['Album Name'], y=top_albums['Play Counts'], \n",
    "                mode='lines+markers', name='Play Counts', yaxis='y2', line=dict(color='yellowgreen'))\n",
    "\n",
    "fig.update_layout(title='Top 20 Albums by Playback Duration and Play Counts', title_x=0.5,\n",
    "                  xaxis_title='Album Name', yaxis_title='Playback Duration',\n",
    "                  yaxis=dict(title='Playback Duration', color='green'),\n",
    "                  yaxis2=dict(title='Play Counts', color='yellowgreen', overlaying='y', side='right'),\n",
    "                  showlegend=False, width=1100, height=500)\n",
    "\n",
    "fig.update_traces(hovertemplate=\"<b>%{x}</b><br>Playback Duration: %{y:.2f}<extra></extra>\", selector=dict(type='bar')) # Hover data for the bar plot\n",
    "fig.update_traces(hovertemplate=\"<b>%{x}</b><br>Play Counts: %{y}<extra></extra>\", selector=dict(type='scatter')) # Hover data for the line plot\n",
    "fig.show()"
   ]
  },
  {
   "cell_type": "markdown",
   "metadata": {},
   "source": [
    "#### **`Favourite Songs` All the Time**"
   ]
  },
  {
   "cell_type": "markdown",
   "metadata": {},
   "source": [
    "#### **`Favourite Artists` All the Time**"
   ]
  },
  {
   "cell_type": "code",
   "execution_count": 218,
   "metadata": {},
   "outputs": [
    {
     "data": {
      "text/plain": [
       "master_metadata_album_artist_name\n",
       "LANY                   4546\n",
       "Taylor Swift           2107\n",
       "5 Seconds of Summer    2103\n",
       "Tulus                  1422\n",
       "Kunto Aji              1304\n",
       "Lofi Fruits Music      1200\n",
       "Lauv                   1097\n",
       "Hindia                 1065\n",
       "Hayd                   1048\n",
       "Yiruma                 1046\n",
       "Arash Buana            1035\n",
       "YOASOBI                 982\n",
       "Coldplay                935\n",
       "keshi                   868\n",
       "Khalid                  849\n",
       "Justin Bieber           837\n",
       "Sheila On 7             831\n",
       "Ardhito Pramono         717\n",
       "Jeremy Zucker           660\n",
       "NIKI                    643\n",
       "Name: count, dtype: int64"
      ]
     },
     "execution_count": 218,
     "metadata": {},
     "output_type": "execute_result"
    }
   ],
   "source": [
    "# The top 20 artists with the most number of streams based on play counts\n",
    "artist_play_counts = spotify_data['master_metadata_album_artist_name'].value_counts().head(20)\n",
    "artist_play_counts"
   ]
  },
  {
   "cell_type": "code",
   "execution_count": 219,
   "metadata": {},
   "outputs": [
    {
     "data": {
      "image/svg+xml": [
       "<svg class=\"main-svg\" xmlns=\"http://www.w3.org/2000/svg\" xmlns:xlink=\"http://www.w3.org/1999/xlink\" width=\"1000\" height=\"500\" style=\"\" viewBox=\"0 0 1000 500\"><rect x=\"0\" y=\"0\" width=\"1000\" height=\"500\" style=\"fill: rgb(255, 255, 255); fill-opacity: 1;\"/><defs id=\"defs-46be82\"><g class=\"clips\"><clipPath id=\"clip46be82xyplot\" class=\"plotclip\"><rect width=\"840\" height=\"256\"/></clipPath><clipPath class=\"axesclip\" id=\"clip46be82x\"><rect x=\"80\" y=\"0\" width=\"840\" height=\"500\"/></clipPath><clipPath class=\"axesclip\" id=\"clip46be82y\"><rect x=\"0\" y=\"100\" width=\"1000\" height=\"256\"/></clipPath><clipPath class=\"axesclip\" id=\"clip46be82xy\"><rect x=\"80\" y=\"100\" width=\"840\" height=\"256\"/></clipPath></g><g class=\"gradients\"/><g class=\"patterns\"/></defs><g class=\"bglayer\"><rect class=\"bg\" x=\"80\" y=\"100\" width=\"840\" height=\"256\" style=\"fill: rgb(229, 236, 246); fill-opacity: 1; stroke-width: 0;\"/></g><g class=\"layer-below\"><g class=\"imagelayer\"/><g class=\"shapelayer\"/></g><g class=\"cartesianlayer\"><g class=\"subplot xy\"><g class=\"layer-subplot\"><g class=\"shapelayer\"/><g class=\"imagelayer\"/></g><g class=\"minor-gridlayer\"><g class=\"x\"/><g class=\"y\"/></g><g class=\"gridlayer\"><g class=\"x\"/><g class=\"y\"><path class=\"ygrid crisp\" transform=\"translate(0,302.5)\" d=\"M80,0h840\" style=\"stroke: rgb(255, 255, 255); stroke-opacity: 1; stroke-width: 1px;\"/><path class=\"ygrid crisp\" transform=\"translate(0,249)\" d=\"M80,0h840\" style=\"stroke: rgb(255, 255, 255); stroke-opacity: 1; stroke-width: 1px;\"/><path class=\"ygrid crisp\" transform=\"translate(0,195.51)\" d=\"M80,0h840\" style=\"stroke: rgb(255, 255, 255); stroke-opacity: 1; stroke-width: 1px;\"/><path class=\"ygrid crisp\" transform=\"translate(0,142.01)\" d=\"M80,0h840\" style=\"stroke: rgb(255, 255, 255); stroke-opacity: 1; stroke-width: 1px;\"/></g></g><g class=\"zerolinelayer\"><path class=\"yzl zl crisp\" transform=\"translate(0,356)\" d=\"M80,0h840\" style=\"stroke: rgb(255, 255, 255); stroke-opacity: 1; stroke-width: 2px;\"/></g><g class=\"layer-between\"><g class=\"shapelayer\"/><g class=\"imagelayer\"/></g><path class=\"xlines-below\"/><path class=\"ylines-below\"/><g class=\"overlines-below\"/><g class=\"xaxislayer-below\"/><g class=\"yaxislayer-below\"/><g class=\"overaxes-below\"/><g class=\"plot\" transform=\"translate(80,100)\" clip-path=\"url(#clip46be82xyplot)\"><g class=\"barlayer mlayer\"><g class=\"trace bars\" style=\"opacity: 1;\"><g class=\"points\"><g class=\"point\"><path d=\"M8.4,256V12.8H75.6V256Z\" style=\"vector-effect: none; opacity: 1; stroke-width: 0.5px; fill: rgb(0, 128, 0); fill-opacity: 1; stroke: rgb(229, 236, 246); stroke-opacity: 1;\"/><text class=\"bartext bartext-inside\" text-anchor=\"middle\" data-notex=\"1\" x=\"0\" y=\"0\" style=\"font-family: 'Open Sans', verdana, arial, sans-serif; font-size: 12px; fill: rgb(255, 255, 255); fill-opacity: 1; white-space: pre;\" transform=\"translate(41.8125,27.8)\">4546</text></g><g class=\"point\"><path d=\"M92.4,256V143.28H159.6V256Z\" style=\"vector-effect: none; opacity: 1; stroke-width: 0.5px; fill: rgb(0, 128, 0); fill-opacity: 1; stroke: rgb(229, 236, 246); stroke-opacity: 1;\"/><text class=\"bartext bartext-inside\" text-anchor=\"middle\" data-notex=\"1\" x=\"0\" y=\"0\" style=\"font-family: 'Open Sans', verdana, arial, sans-serif; font-size: 12px; fill: rgb(255, 255, 255); fill-opacity: 1; white-space: pre;\" transform=\"translate(125.8125,158.28)\">2107</text></g><g class=\"point\"><path d=\"M176.4,256V143.49H243.6V256Z\" style=\"vector-effect: none; opacity: 1; stroke-width: 0.5px; fill: rgb(0, 128, 0); fill-opacity: 1; stroke: rgb(229, 236, 246); stroke-opacity: 1;\"/><text class=\"bartext bartext-inside\" text-anchor=\"middle\" data-notex=\"1\" x=\"0\" y=\"0\" style=\"font-family: 'Open Sans', verdana, arial, sans-serif; font-size: 12px; fill: rgb(255, 255, 255); fill-opacity: 1; white-space: pre;\" transform=\"translate(210,158.49)\">2103</text></g><g class=\"point\"><path d=\"M260.4,256V179.93H327.6V256Z\" style=\"vector-effect: none; opacity: 1; stroke-width: 0.5px; fill: rgb(22, 211, 92); fill-opacity: 1; stroke: rgb(229, 236, 246); stroke-opacity: 1;\"/><text class=\"bartext bartext-inside\" text-anchor=\"middle\" data-notex=\"1\" x=\"0\" y=\"0\" style=\"font-family: 'Open Sans', verdana, arial, sans-serif; font-size: 12px; fill: rgb(255, 255, 255); fill-opacity: 1; white-space: pre;\" transform=\"translate(293.8125,194.93)\">1422</text></g><g class=\"point\"><path d=\"M344.4,256V186.24H411.6V256Z\" style=\"vector-effect: none; opacity: 1; stroke-width: 0.5px; fill: rgb(22, 211, 92); fill-opacity: 1; stroke: rgb(229, 236, 246); stroke-opacity: 1;\"/><text class=\"bartext bartext-inside\" text-anchor=\"middle\" data-notex=\"1\" x=\"0\" y=\"0\" style=\"font-family: 'Open Sans', verdana, arial, sans-serif; font-size: 12px; fill: rgb(255, 255, 255); fill-opacity: 1; white-space: pre;\" transform=\"translate(377.8125,201.24)\">1304</text></g><g class=\"point\"><path d=\"M428.4,256V191.8H495.6V256Z\" style=\"vector-effect: none; opacity: 1; stroke-width: 0.5px; fill: rgb(22, 211, 92); fill-opacity: 1; stroke: rgb(229, 236, 246); stroke-opacity: 1;\"/><text class=\"bartext bartext-inside\" text-anchor=\"middle\" data-notex=\"1\" x=\"0\" y=\"0\" style=\"font-family: 'Open Sans', verdana, arial, sans-serif; font-size: 12px; fill: rgb(255, 255, 255); fill-opacity: 1; white-space: pre;\" transform=\"translate(461.8125,206.8)\">1200</text></g><g class=\"point\"><path d=\"M512.4,256V197.31H579.6V256Z\" style=\"vector-effect: none; opacity: 1; stroke-width: 0.5px; fill: rgb(22, 211, 92); fill-opacity: 1; stroke: rgb(229, 236, 246); stroke-opacity: 1;\"/><text class=\"bartext bartext-inside\" text-anchor=\"middle\" data-notex=\"1\" x=\"0\" y=\"0\" style=\"font-family: 'Open Sans', verdana, arial, sans-serif; font-size: 12px; fill: rgb(255, 255, 255); fill-opacity: 1; white-space: pre;\" transform=\"translate(545.8125,212.31)\">1097</text></g><g class=\"point\"><path d=\"M596.4,256V199.03H663.6V256Z\" style=\"vector-effect: none; opacity: 1; stroke-width: 0.5px; fill: rgb(22, 211, 92); fill-opacity: 1; stroke: rgb(229, 236, 246); stroke-opacity: 1;\"/><text class=\"bartext bartext-inside\" text-anchor=\"middle\" data-notex=\"1\" x=\"0\" y=\"0\" style=\"font-family: 'Open Sans', verdana, arial, sans-serif; font-size: 12px; fill: rgb(255, 255, 255); fill-opacity: 1; white-space: pre;\" transform=\"translate(629.8125,214.03)\">1065</text></g><g class=\"point\"><path d=\"M680.4,256V199.93H747.6V256Z\" style=\"vector-effect: none; opacity: 1; stroke-width: 0.5px; fill: rgb(22, 211, 92); fill-opacity: 1; stroke: rgb(229, 236, 246); stroke-opacity: 1;\"/><text class=\"bartext bartext-inside\" text-anchor=\"middle\" data-notex=\"1\" x=\"0\" y=\"0\" style=\"font-family: 'Open Sans', verdana, arial, sans-serif; font-size: 12px; fill: rgb(255, 255, 255); fill-opacity: 1; white-space: pre;\" transform=\"translate(713.8125,214.93)\">1048</text></g><g class=\"point\"><path d=\"M764.4,256V200.04H831.6V256Z\" style=\"vector-effect: none; opacity: 1; stroke-width: 0.5px; fill: rgb(22, 211, 92); fill-opacity: 1; stroke: rgb(229, 236, 246); stroke-opacity: 1;\"/><text class=\"bartext bartext-inside\" text-anchor=\"middle\" data-notex=\"1\" x=\"0\" y=\"0\" style=\"font-family: 'Open Sans', verdana, arial, sans-serif; font-size: 12px; fill: rgb(255, 255, 255); fill-opacity: 1; white-space: pre;\" transform=\"translate(797.8125,215.04)\">1046</text></g></g></g></g></g><g class=\"overplot\"/><path class=\"xlines-above crisp\" d=\"M0,0\" style=\"fill: none;\"/><path class=\"ylines-above crisp\" d=\"M0,0\" style=\"fill: none;\"/><g class=\"overlines-above\"/><g class=\"xaxislayer-above\"><g class=\"xtick\"><text text-anchor=\"end\" x=\"0\" y=\"369\" transform=\"translate(122,0) rotate(-45,0,363)\" style=\"font-family: 'Open Sans', verdana, arial, sans-serif; font-size: 12px; fill: rgb(42, 63, 95); fill-opacity: 1; white-space: pre; opacity: 1;\">LANY</text></g><g class=\"xtick\"><text text-anchor=\"end\" x=\"0\" y=\"369\" transform=\"translate(206,0) rotate(-45,0,363)\" style=\"font-family: 'Open Sans', verdana, arial, sans-serif; font-size: 12px; fill: rgb(42, 63, 95); fill-opacity: 1; white-space: pre; opacity: 1;\">Taylor Swift</text></g><g class=\"xtick\"><text text-anchor=\"end\" x=\"0\" y=\"369\" transform=\"translate(290,0) rotate(-45,0,363)\" style=\"font-family: 'Open Sans', verdana, arial, sans-serif; font-size: 12px; fill: rgb(42, 63, 95); fill-opacity: 1; white-space: pre; opacity: 1;\">5 Seconds of Summer</text></g><g class=\"xtick\"><text text-anchor=\"end\" x=\"0\" y=\"369\" transform=\"translate(374,0) rotate(-45,0,363)\" style=\"font-family: 'Open Sans', verdana, arial, sans-serif; font-size: 12px; fill: rgb(42, 63, 95); fill-opacity: 1; white-space: pre; opacity: 1;\">Tulus</text></g><g class=\"xtick\"><text text-anchor=\"end\" x=\"0\" y=\"369\" transform=\"translate(458,0) rotate(-45,0,363)\" style=\"font-family: 'Open Sans', verdana, arial, sans-serif; font-size: 12px; fill: rgb(42, 63, 95); fill-opacity: 1; white-space: pre; opacity: 1;\">Kunto Aji</text></g><g class=\"xtick\"><text text-anchor=\"end\" x=\"0\" y=\"369\" transform=\"translate(542,0) rotate(-45,0,363)\" style=\"font-family: 'Open Sans', verdana, arial, sans-serif; font-size: 12px; fill: rgb(42, 63, 95); fill-opacity: 1; white-space: pre; opacity: 1;\">Lofi Fruits Music</text></g><g class=\"xtick\"><text text-anchor=\"end\" x=\"0\" y=\"369\" transform=\"translate(626,0) rotate(-45,0,363)\" style=\"font-family: 'Open Sans', verdana, arial, sans-serif; font-size: 12px; fill: rgb(42, 63, 95); fill-opacity: 1; white-space: pre; opacity: 1;\">Lauv</text></g><g class=\"xtick\"><text text-anchor=\"end\" x=\"0\" y=\"369\" transform=\"translate(710,0) rotate(-45,0,363)\" style=\"font-family: 'Open Sans', verdana, arial, sans-serif; font-size: 12px; fill: rgb(42, 63, 95); fill-opacity: 1; white-space: pre; opacity: 1;\">Hindia</text></g><g class=\"xtick\"><text text-anchor=\"end\" x=\"0\" y=\"369\" transform=\"translate(794,0) rotate(-45,0,363)\" style=\"font-family: 'Open Sans', verdana, arial, sans-serif; font-size: 12px; fill: rgb(42, 63, 95); fill-opacity: 1; white-space: pre; opacity: 1;\">Hayd</text></g><g class=\"xtick\"><text text-anchor=\"end\" x=\"0\" y=\"369\" transform=\"translate(878,0) rotate(-45,0,363)\" style=\"font-family: 'Open Sans', verdana, arial, sans-serif; font-size: 12px; fill: rgb(42, 63, 95); fill-opacity: 1; white-space: pre; opacity: 1;\">Yiruma</text></g></g><g class=\"yaxislayer-above\"><g class=\"ytick\"><text text-anchor=\"end\" x=\"79\" y=\"4.199999999999999\" transform=\"translate(0,356)\" style=\"font-family: 'Open Sans', verdana, arial, sans-serif; font-size: 12px; fill: rgb(42, 63, 95); fill-opacity: 1; white-space: pre; opacity: 1;\">0</text></g><g class=\"ytick\"><text text-anchor=\"end\" x=\"79\" y=\"4.199999999999999\" style=\"font-family: 'Open Sans', verdana, arial, sans-serif; font-size: 12px; fill: rgb(42, 63, 95); fill-opacity: 1; white-space: pre; opacity: 1;\" transform=\"translate(0,302.5)\">1000</text></g><g class=\"ytick\"><text text-anchor=\"end\" x=\"79\" y=\"4.199999999999999\" style=\"font-family: 'Open Sans', verdana, arial, sans-serif; font-size: 12px; fill: rgb(42, 63, 95); fill-opacity: 1; white-space: pre; opacity: 1;\" transform=\"translate(0,249)\">2000</text></g><g class=\"ytick\"><text text-anchor=\"end\" x=\"79\" y=\"4.199999999999999\" style=\"font-family: 'Open Sans', verdana, arial, sans-serif; font-size: 12px; fill: rgb(42, 63, 95); fill-opacity: 1; white-space: pre; opacity: 1;\" transform=\"translate(0,195.51)\">3000</text></g><g class=\"ytick\"><text text-anchor=\"end\" x=\"79\" y=\"4.199999999999999\" style=\"font-family: 'Open Sans', verdana, arial, sans-serif; font-size: 12px; fill: rgb(42, 63, 95); fill-opacity: 1; white-space: pre; opacity: 1;\" transform=\"translate(0,142.01)\">4000</text></g></g><g class=\"overaxes-above\"/></g></g><g class=\"polarlayer\"/><g class=\"smithlayer\"/><g class=\"ternarylayer\"/><g class=\"geolayer\"/><g class=\"funnelarealayer\"/><g class=\"pielayer\"/><g class=\"iciclelayer\"/><g class=\"treemaplayer\"/><g class=\"sunburstlayer\"/><g class=\"glimages\"/><defs id=\"topdefs-46be82\"><g class=\"clips\"/></defs><g class=\"layer-above\"><g class=\"imagelayer\"/><g class=\"shapelayer\"><g class=\"shape-group\" data-index=\"0\" clip-path=\"url(#clip46be82y)\"><path data-index=\"0\" fill-rule=\"evenodd\" d=\"M80,300.34000000000003L920,300.34000000000003\" style=\"opacity: 1; stroke: rgb(0, 0, 255); stroke-opacity: 1; fill: rgb(0, 0, 0); fill-opacity: 0; stroke-dasharray: 3px, 3px; stroke-width: 2px;\"/></g></g></g><g class=\"infolayer\"><g class=\"g-gtitle\"><text class=\"gtitle\" x=\"500\" y=\"50\" text-anchor=\"middle\" dy=\"0em\" style=\"font-family: 'Open Sans', verdana, arial, sans-serif; font-size: 17px; fill: rgb(42, 63, 95); opacity: 1; font-weight: normal; white-space: pre;\">Top 10 Most Streamed Artists Based on Play Counts</text></g><g class=\"g-xtitle\"><text class=\"xtitle\" x=\"500\" y=\"487.9962890625\" text-anchor=\"middle\" style=\"font-family: 'Open Sans', verdana, arial, sans-serif; font-size: 14px; fill: rgb(42, 63, 95); opacity: 1; font-weight: normal; white-space: pre;\">Artists</text></g><g class=\"g-ytitle\"><text class=\"ytitle\" transform=\"rotate(-90,24.184375000000003,228)\" x=\"24.184375000000003\" y=\"228\" text-anchor=\"middle\" style=\"font-family: 'Open Sans', verdana, arial, sans-serif; font-size: 14px; fill: rgb(42, 63, 95); opacity: 1; font-weight: normal; white-space: pre;\">Total Streams in Hours</text></g><g class=\"annotation\" data-index=\"0\" style=\"opacity: 1;\"><g class=\"annotation-text-g\" transform=\"rotate(0,847.5,290.84000000000003)\"><g class=\"cursor-pointer\" transform=\"translate(775,281)\"><rect class=\"bg\" x=\"0.5\" y=\"0.5\" width=\"144\" height=\"18\" style=\"stroke-width: 1px; stroke: rgb(0, 0, 0); stroke-opacity: 0; fill: rgb(0, 0, 0); fill-opacity: 0;\"/><text class=\"annotation-text\" text-anchor=\"middle\" x=\"72.359375\" y=\"14\" style=\"font-family: 'Open Sans', verdana, arial, sans-serif; font-size: 12px; fill: rgb(42, 63, 95); fill-opacity: 1; white-space: pre;\">Median: 1040.50 hours</text></g></g></g></g></svg>"
      ]
     },
     "metadata": {},
     "output_type": "display_data"
    }
   ],
   "source": [
    "fig = px.bar(artist_play_counts.head(10), x=artist_play_counts.head(10).index, y=artist_play_counts.head(10).values,\n",
    "             labels={'x': 'Artists', 'y': 'Total Streams'},\n",
    "             title='Top 10 Most Streamed Artists Based on Play Counts')\n",
    "\n",
    "# Define colors using Spotify palette for top 3 tracks, green for others\n",
    "color_scale = ['green' if artist in artist_play_counts.head(3).index else '#16D35C' for artist in artist_play_counts.index]\n",
    "\n",
    "fig.update_traces(marker_color=color_scale,\n",
    "                  text=artist_play_counts.values, \n",
    "                  textposition='inside', \n",
    "                  textfont=dict(color='white'))\n",
    "\n",
    "median_play_counts = artist_play_counts.median()\n",
    "fig.add_hline(y=median_play_counts, \n",
    "              line_dash=\"dot\", line_color=\"blue\", \n",
    "              annotation_text=f'Median: {median_play_counts:.2f} hours',\n",
    "              annotation_position=\"top right\")\n",
    "\n",
    "fig.update_layout(xaxis_title='Artists', \n",
    "                  yaxis_title='Total Streams in Hours', \n",
    "                  xaxis_tickangle=-45, showlegend=False, title_x=0.5,\n",
    "                  width=1000, height=500)\n",
    "fig.show()"
   ]
  },
  {
   "cell_type": "code",
   "execution_count": 220,
   "metadata": {},
   "outputs": [
    {
     "data": {
      "text/html": [
       "<div>\n",
       "<style scoped>\n",
       "    .dataframe tbody tr th:only-of-type {\n",
       "        vertical-align: middle;\n",
       "    }\n",
       "\n",
       "    .dataframe tbody tr th {\n",
       "        vertical-align: top;\n",
       "    }\n",
       "\n",
       "    .dataframe thead th {\n",
       "        text-align: right;\n",
       "    }\n",
       "</style>\n",
       "<table border=\"1\" class=\"dataframe\">\n",
       "  <thead>\n",
       "    <tr style=\"text-align: right;\">\n",
       "      <th></th>\n",
       "      <th>master_metadata_album_artist_name</th>\n",
       "      <th>ms_played</th>\n",
       "    </tr>\n",
       "  </thead>\n",
       "  <tbody>\n",
       "    <tr>\n",
       "      <th>0</th>\n",
       "      <td>LANY</td>\n",
       "      <td>230.744049</td>\n",
       "    </tr>\n",
       "    <tr>\n",
       "      <th>1</th>\n",
       "      <td>Taylor Swift</td>\n",
       "      <td>112.156477</td>\n",
       "    </tr>\n",
       "    <tr>\n",
       "      <th>2</th>\n",
       "      <td>5 Seconds of Summer</td>\n",
       "      <td>111.687614</td>\n",
       "    </tr>\n",
       "    <tr>\n",
       "      <th>3</th>\n",
       "      <td>Tulus</td>\n",
       "      <td>70.940952</td>\n",
       "    </tr>\n",
       "    <tr>\n",
       "      <th>4</th>\n",
       "      <td>Kunto Aji</td>\n",
       "      <td>68.328141</td>\n",
       "    </tr>\n",
       "    <tr>\n",
       "      <th>5</th>\n",
       "      <td>Hindia</td>\n",
       "      <td>62.088841</td>\n",
       "    </tr>\n",
       "    <tr>\n",
       "      <th>6</th>\n",
       "      <td>Yiruma</td>\n",
       "      <td>58.929776</td>\n",
       "    </tr>\n",
       "    <tr>\n",
       "      <th>7</th>\n",
       "      <td>Coldplay</td>\n",
       "      <td>56.972251</td>\n",
       "    </tr>\n",
       "    <tr>\n",
       "      <th>8</th>\n",
       "      <td>Arash Buana</td>\n",
       "      <td>54.303224</td>\n",
       "    </tr>\n",
       "    <tr>\n",
       "      <th>9</th>\n",
       "      <td>Hayd</td>\n",
       "      <td>50.801769</td>\n",
       "    </tr>\n",
       "    <tr>\n",
       "      <th>10</th>\n",
       "      <td>Lauv</td>\n",
       "      <td>50.020413</td>\n",
       "    </tr>\n",
       "    <tr>\n",
       "      <th>11</th>\n",
       "      <td>Sheila On 7</td>\n",
       "      <td>47.324903</td>\n",
       "    </tr>\n",
       "    <tr>\n",
       "      <th>12</th>\n",
       "      <td>YOASOBI</td>\n",
       "      <td>45.719326</td>\n",
       "    </tr>\n",
       "    <tr>\n",
       "      <th>13</th>\n",
       "      <td>Lofi Fruits Music</td>\n",
       "      <td>39.359067</td>\n",
       "    </tr>\n",
       "    <tr>\n",
       "      <th>14</th>\n",
       "      <td>NIKI</td>\n",
       "      <td>36.798640</td>\n",
       "    </tr>\n",
       "    <tr>\n",
       "      <th>15</th>\n",
       "      <td>DEPAPEPE</td>\n",
       "      <td>36.450706</td>\n",
       "    </tr>\n",
       "    <tr>\n",
       "      <th>16</th>\n",
       "      <td>Justin Bieber</td>\n",
       "      <td>35.677207</td>\n",
       "    </tr>\n",
       "    <tr>\n",
       "      <th>17</th>\n",
       "      <td>Fletch</td>\n",
       "      <td>35.444381</td>\n",
       "    </tr>\n",
       "    <tr>\n",
       "      <th>18</th>\n",
       "      <td>Ludovico Einaudi</td>\n",
       "      <td>34.799555</td>\n",
       "    </tr>\n",
       "    <tr>\n",
       "      <th>19</th>\n",
       "      <td>keshi</td>\n",
       "      <td>33.591430</td>\n",
       "    </tr>\n",
       "  </tbody>\n",
       "</table>\n",
       "</div>"
      ],
      "text/plain": [
       "   master_metadata_album_artist_name   ms_played\n",
       "0                               LANY  230.744049\n",
       "1                       Taylor Swift  112.156477\n",
       "2                5 Seconds of Summer  111.687614\n",
       "3                              Tulus   70.940952\n",
       "4                          Kunto Aji   68.328141\n",
       "5                             Hindia   62.088841\n",
       "6                             Yiruma   58.929776\n",
       "7                           Coldplay   56.972251\n",
       "8                        Arash Buana   54.303224\n",
       "9                               Hayd   50.801769\n",
       "10                              Lauv   50.020413\n",
       "11                       Sheila On 7   47.324903\n",
       "12                           YOASOBI   45.719326\n",
       "13                 Lofi Fruits Music   39.359067\n",
       "14                              NIKI   36.798640\n",
       "15                          DEPAPEPE   36.450706\n",
       "16                     Justin Bieber   35.677207\n",
       "17                            Fletch   35.444381\n",
       "18                  Ludovico Einaudi   34.799555\n",
       "19                             keshi   33.591430"
      ]
     },
     "execution_count": 220,
     "metadata": {},
     "output_type": "execute_result"
    }
   ],
   "source": [
    "# Calculate the accumulated number of streams for each artist in hours\n",
    "artist_playback_duration = spotify_data.groupby('master_metadata_album_artist_name')['ms_played'].sum() / (1000 * 60 * 60)\n",
    "\n",
    "# Sort artists based on the accumulated number of streams, from most to least\n",
    "artist_playback_duration = artist_playback_duration.sort_values(ascending=False).head(20).reset_index()\n",
    "artist_playback_duration"
   ]
  },
  {
   "cell_type": "code",
   "execution_count": 221,
   "metadata": {},
   "outputs": [
    {
     "data": {
      "image/svg+xml": [
       "<svg class=\"main-svg\" xmlns=\"http://www.w3.org/2000/svg\" xmlns:xlink=\"http://www.w3.org/1999/xlink\" width=\"1000\" height=\"500\" style=\"\" viewBox=\"0 0 1000 500\"><rect x=\"0\" y=\"0\" width=\"1000\" height=\"500\" style=\"fill: rgb(255, 255, 255); fill-opacity: 1;\"/><defs id=\"defs-6e70be\"><g class=\"clips\"><clipPath id=\"clip6e70bexyplot\" class=\"plotclip\"><rect width=\"840\" height=\"256\"/></clipPath><clipPath class=\"axesclip\" id=\"clip6e70bex\"><rect x=\"80\" y=\"0\" width=\"840\" height=\"500\"/></clipPath><clipPath class=\"axesclip\" id=\"clip6e70bey\"><rect x=\"0\" y=\"100\" width=\"1000\" height=\"256\"/></clipPath><clipPath class=\"axesclip\" id=\"clip6e70bexy\"><rect x=\"80\" y=\"100\" width=\"840\" height=\"256\"/></clipPath></g><g class=\"gradients\"/><g class=\"patterns\"/></defs><g class=\"bglayer\"><rect class=\"bg\" x=\"80\" y=\"100\" width=\"840\" height=\"256\" style=\"fill: rgb(229, 236, 246); fill-opacity: 1; stroke-width: 0;\"/></g><g class=\"layer-below\"><g class=\"imagelayer\"/><g class=\"shapelayer\"/></g><g class=\"cartesianlayer\"><g class=\"subplot xy\"><g class=\"layer-subplot\"><g class=\"shapelayer\"/><g class=\"imagelayer\"/></g><g class=\"minor-gridlayer\"><g class=\"x\"/><g class=\"y\"/></g><g class=\"gridlayer\"><g class=\"x\"/><g class=\"y\"><path class=\"ygrid crisp\" transform=\"translate(0,303.3)\" d=\"M80,0h840\" style=\"stroke: rgb(255, 255, 255); stroke-opacity: 1; stroke-width: 1px;\"/><path class=\"ygrid crisp\" transform=\"translate(0,250.6)\" d=\"M80,0h840\" style=\"stroke: rgb(255, 255, 255); stroke-opacity: 1; stroke-width: 1px;\"/><path class=\"ygrid crisp\" transform=\"translate(0,197.9)\" d=\"M80,0h840\" style=\"stroke: rgb(255, 255, 255); stroke-opacity: 1; stroke-width: 1px;\"/><path class=\"ygrid crisp\" transform=\"translate(0,145.2)\" d=\"M80,0h840\" style=\"stroke: rgb(255, 255, 255); stroke-opacity: 1; stroke-width: 1px;\"/></g></g><g class=\"zerolinelayer\"><path class=\"yzl zl crisp\" transform=\"translate(0,356)\" d=\"M80,0h840\" style=\"stroke: rgb(255, 255, 255); stroke-opacity: 1; stroke-width: 2px;\"/></g><g class=\"layer-between\"><g class=\"shapelayer\"/><g class=\"imagelayer\"/></g><path class=\"xlines-below\"/><path class=\"ylines-below\"/><g class=\"overlines-below\"/><g class=\"xaxislayer-below\"/><g class=\"yaxislayer-below\"/><g class=\"overaxes-below\"/><g class=\"plot\" transform=\"translate(80,100)\" clip-path=\"url(#clip6e70bexyplot)\"><g class=\"barlayer mlayer\"><g class=\"trace bars\" style=\"opacity: 1;\"><g class=\"points\"><g class=\"point\"><path d=\"M8.4,256V12.8H75.6V256Z\" style=\"vector-effect: none; opacity: 1; stroke-width: 0.5px; fill: rgb(0, 128, 0); fill-opacity: 1; stroke: rgb(229, 236, 246); stroke-opacity: 1;\"/><text class=\"bartext bartext-inside\" text-anchor=\"middle\" data-notex=\"1\" x=\"0\" y=\"0\" style=\"font-family: 'Open Sans', verdana, arial, sans-serif; font-size: 12px; fill: rgb(255, 255, 255); fill-opacity: 1; white-space: pre;\" transform=\"translate(41.8125,27.8)\">230.74</text></g><g class=\"point\"><path d=\"M92.4,256V137.79H159.6V256Z\" style=\"vector-effect: none; opacity: 1; stroke-width: 0.5px; fill: rgb(0, 128, 0); fill-opacity: 1; stroke: rgb(229, 236, 246); stroke-opacity: 1;\"/><text class=\"bartext bartext-inside\" text-anchor=\"middle\" data-notex=\"1\" x=\"0\" y=\"0\" style=\"font-family: 'Open Sans', verdana, arial, sans-serif; font-size: 12px; fill: rgb(255, 255, 255); fill-opacity: 1; white-space: pre;\" transform=\"translate(125.8125,152.79)\">112.16</text></g><g class=\"point\"><path d=\"M176.4,256V138.28H243.6V256Z\" style=\"vector-effect: none; opacity: 1; stroke-width: 0.5px; fill: rgb(0, 128, 0); fill-opacity: 1; stroke: rgb(229, 236, 246); stroke-opacity: 1;\"/><text class=\"bartext bartext-inside\" text-anchor=\"middle\" data-notex=\"1\" x=\"0\" y=\"0\" style=\"font-family: 'Open Sans', verdana, arial, sans-serif; font-size: 12px; fill: rgb(255, 255, 255); fill-opacity: 1; white-space: pre;\" transform=\"translate(209.8125,153.28)\">111.69</text></g><g class=\"point\"><path d=\"M260.4,256V181.23H327.6V256Z\" style=\"vector-effect: none; opacity: 1; stroke-width: 0.5px; fill: rgb(22, 211, 92); fill-opacity: 1; stroke: rgb(229, 236, 246); stroke-opacity: 1;\"/><text class=\"bartext bartext-inside\" text-anchor=\"middle\" data-notex=\"1\" x=\"0\" y=\"0\" style=\"font-family: 'Open Sans', verdana, arial, sans-serif; font-size: 12px; fill: rgb(255, 255, 255); fill-opacity: 1; white-space: pre;\" transform=\"translate(293.8203125,196.23)\">70.94</text></g><g class=\"point\"><path d=\"M344.4,256V183.98H411.6V256Z\" style=\"vector-effect: none; opacity: 1; stroke-width: 0.5px; fill: rgb(22, 211, 92); fill-opacity: 1; stroke: rgb(229, 236, 246); stroke-opacity: 1;\"/><text class=\"bartext bartext-inside\" text-anchor=\"middle\" data-notex=\"1\" x=\"0\" y=\"0\" style=\"font-family: 'Open Sans', verdana, arial, sans-serif; font-size: 12px; fill: rgb(255, 255, 255); fill-opacity: 1; white-space: pre;\" transform=\"translate(378,198.98)\">68.33</text></g><g class=\"point\"><path d=\"M428.4,256V190.56H495.6V256Z\" style=\"vector-effect: none; opacity: 1; stroke-width: 0.5px; fill: rgb(22, 211, 92); fill-opacity: 1; stroke: rgb(229, 236, 246); stroke-opacity: 1;\"/><text class=\"bartext bartext-inside\" text-anchor=\"middle\" data-notex=\"1\" x=\"0\" y=\"0\" style=\"font-family: 'Open Sans', verdana, arial, sans-serif; font-size: 12px; fill: rgb(255, 255, 255); fill-opacity: 1; white-space: pre;\" transform=\"translate(461.8203125,205.56)\">62.09</text></g><g class=\"point\"><path d=\"M512.4,256V193.89H579.6V256Z\" style=\"vector-effect: none; opacity: 1; stroke-width: 0.5px; fill: rgb(22, 211, 92); fill-opacity: 1; stroke: rgb(229, 236, 246); stroke-opacity: 1;\"/><text class=\"bartext bartext-inside\" text-anchor=\"middle\" data-notex=\"1\" x=\"0\" y=\"0\" style=\"font-family: 'Open Sans', verdana, arial, sans-serif; font-size: 12px; fill: rgb(255, 255, 255); fill-opacity: 1; white-space: pre;\" transform=\"translate(546,208.89)\">58.93</text></g><g class=\"point\"><path d=\"M596.4,256V195.95H663.6V256Z\" style=\"vector-effect: none; opacity: 1; stroke-width: 0.5px; fill: rgb(22, 211, 92); fill-opacity: 1; stroke: rgb(229, 236, 246); stroke-opacity: 1;\"/><text class=\"bartext bartext-inside\" text-anchor=\"middle\" data-notex=\"1\" x=\"0\" y=\"0\" style=\"font-family: 'Open Sans', verdana, arial, sans-serif; font-size: 12px; fill: rgb(255, 255, 255); fill-opacity: 1; white-space: pre;\" transform=\"translate(629.8203125,210.95)\">56.97</text></g><g class=\"point\"><path d=\"M680.4,256V198.77H747.6V256Z\" style=\"vector-effect: none; opacity: 1; stroke-width: 0.5px; fill: rgb(22, 211, 92); fill-opacity: 1; stroke: rgb(229, 236, 246); stroke-opacity: 1;\"/><text class=\"bartext bartext-inside\" text-anchor=\"middle\" data-notex=\"1\" x=\"0\" y=\"0\" style=\"font-family: 'Open Sans', verdana, arial, sans-serif; font-size: 12px; fill: rgb(255, 255, 255); fill-opacity: 1; white-space: pre;\" transform=\"translate(714,213.77)\">54.3</text></g><g class=\"point\"><path d=\"M764.4,256V202.46H831.6V256Z\" style=\"vector-effect: none; opacity: 1; stroke-width: 0.5px; fill: rgb(22, 211, 92); fill-opacity: 1; stroke: rgb(229, 236, 246); stroke-opacity: 1;\"/><text class=\"bartext bartext-inside\" text-anchor=\"middle\" data-notex=\"1\" x=\"0\" y=\"0\" style=\"font-family: 'Open Sans', verdana, arial, sans-serif; font-size: 12px; fill: rgb(255, 255, 255); fill-opacity: 1; white-space: pre;\" transform=\"translate(797.8203125,217.46)\">50.8</text></g></g></g></g></g><g class=\"overplot\"/><path class=\"xlines-above crisp\" d=\"M0,0\" style=\"fill: none;\"/><path class=\"ylines-above crisp\" d=\"M0,0\" style=\"fill: none;\"/><g class=\"overlines-above\"/><g class=\"xaxislayer-above\"><g class=\"xtick\"><text text-anchor=\"end\" x=\"0\" y=\"369\" transform=\"translate(122,0) rotate(-45,0,363)\" style=\"font-family: 'Open Sans', verdana, arial, sans-serif; font-size: 12px; fill: rgb(42, 63, 95); fill-opacity: 1; white-space: pre; opacity: 1;\">LANY</text></g><g class=\"xtick\"><text text-anchor=\"end\" x=\"0\" y=\"369\" transform=\"translate(206,0) rotate(-45,0,363)\" style=\"font-family: 'Open Sans', verdana, arial, sans-serif; font-size: 12px; fill: rgb(42, 63, 95); fill-opacity: 1; white-space: pre; opacity: 1;\">Taylor Swift</text></g><g class=\"xtick\"><text text-anchor=\"end\" x=\"0\" y=\"369\" transform=\"translate(290,0) rotate(-45,0,363)\" style=\"font-family: 'Open Sans', verdana, arial, sans-serif; font-size: 12px; fill: rgb(42, 63, 95); fill-opacity: 1; white-space: pre; opacity: 1;\">5 Seconds of Summer</text></g><g class=\"xtick\"><text text-anchor=\"end\" x=\"0\" y=\"369\" transform=\"translate(374,0) rotate(-45,0,363)\" style=\"font-family: 'Open Sans', verdana, arial, sans-serif; font-size: 12px; fill: rgb(42, 63, 95); fill-opacity: 1; white-space: pre; opacity: 1;\">Tulus</text></g><g class=\"xtick\"><text text-anchor=\"end\" x=\"0\" y=\"369\" transform=\"translate(458,0) rotate(-45,0,363)\" style=\"font-family: 'Open Sans', verdana, arial, sans-serif; font-size: 12px; fill: rgb(42, 63, 95); fill-opacity: 1; white-space: pre; opacity: 1;\">Kunto Aji</text></g><g class=\"xtick\"><text text-anchor=\"end\" x=\"0\" y=\"369\" transform=\"translate(542,0) rotate(-45,0,363)\" style=\"font-family: 'Open Sans', verdana, arial, sans-serif; font-size: 12px; fill: rgb(42, 63, 95); fill-opacity: 1; white-space: pre; opacity: 1;\">Hindia</text></g><g class=\"xtick\"><text text-anchor=\"end\" x=\"0\" y=\"369\" transform=\"translate(626,0) rotate(-45,0,363)\" style=\"font-family: 'Open Sans', verdana, arial, sans-serif; font-size: 12px; fill: rgb(42, 63, 95); fill-opacity: 1; white-space: pre; opacity: 1;\">Yiruma</text></g><g class=\"xtick\"><text text-anchor=\"end\" x=\"0\" y=\"369\" transform=\"translate(710,0) rotate(-45,0,363)\" style=\"font-family: 'Open Sans', verdana, arial, sans-serif; font-size: 12px; fill: rgb(42, 63, 95); fill-opacity: 1; white-space: pre; opacity: 1;\">Coldplay</text></g><g class=\"xtick\"><text text-anchor=\"end\" x=\"0\" y=\"369\" transform=\"translate(794,0) rotate(-45,0,363)\" style=\"font-family: 'Open Sans', verdana, arial, sans-serif; font-size: 12px; fill: rgb(42, 63, 95); fill-opacity: 1; white-space: pre; opacity: 1;\">Arash Buana</text></g><g class=\"xtick\"><text text-anchor=\"end\" x=\"0\" y=\"369\" transform=\"translate(878,0) rotate(-45,0,363)\" style=\"font-family: 'Open Sans', verdana, arial, sans-serif; font-size: 12px; fill: rgb(42, 63, 95); fill-opacity: 1; white-space: pre; opacity: 1;\">Hayd</text></g></g><g class=\"yaxislayer-above\"><g class=\"ytick\"><text text-anchor=\"end\" x=\"79\" y=\"4.199999999999999\" transform=\"translate(0,356)\" style=\"font-family: 'Open Sans', verdana, arial, sans-serif; font-size: 12px; fill: rgb(42, 63, 95); fill-opacity: 1; white-space: pre; opacity: 1;\">0</text></g><g class=\"ytick\"><text text-anchor=\"end\" x=\"79\" y=\"4.199999999999999\" style=\"font-family: 'Open Sans', verdana, arial, sans-serif; font-size: 12px; fill: rgb(42, 63, 95); fill-opacity: 1; white-space: pre; opacity: 1;\" transform=\"translate(0,303.3)\">50</text></g><g class=\"ytick\"><text text-anchor=\"end\" x=\"79\" y=\"4.199999999999999\" style=\"font-family: 'Open Sans', verdana, arial, sans-serif; font-size: 12px; fill: rgb(42, 63, 95); fill-opacity: 1; white-space: pre; opacity: 1;\" transform=\"translate(0,250.6)\">100</text></g><g class=\"ytick\"><text text-anchor=\"end\" x=\"79\" y=\"4.199999999999999\" style=\"font-family: 'Open Sans', verdana, arial, sans-serif; font-size: 12px; fill: rgb(42, 63, 95); fill-opacity: 1; white-space: pre; opacity: 1;\" transform=\"translate(0,197.9)\">150</text></g><g class=\"ytick\"><text text-anchor=\"end\" x=\"79\" y=\"4.199999999999999\" style=\"font-family: 'Open Sans', verdana, arial, sans-serif; font-size: 12px; fill: rgb(42, 63, 95); fill-opacity: 1; white-space: pre; opacity: 1;\" transform=\"translate(0,145.2)\">200</text></g></g><g class=\"overaxes-above\"/></g></g><g class=\"polarlayer\"/><g class=\"smithlayer\"/><g class=\"ternarylayer\"/><g class=\"geolayer\"/><g class=\"funnelarealayer\"/><g class=\"pielayer\"/><g class=\"iciclelayer\"/><g class=\"treemaplayer\"/><g class=\"sunburstlayer\"/><g class=\"glimages\"/><defs id=\"topdefs-6e70be\"><g class=\"clips\"/></defs><g class=\"layer-above\"><g class=\"imagelayer\"/><g class=\"shapelayer\"><g class=\"shape-group\" data-index=\"0\" clip-path=\"url(#clip6e70bey)\"><path data-index=\"0\" fill-rule=\"evenodd\" d=\"M80,302.87L920,302.87\" style=\"opacity: 1; stroke: rgb(0, 0, 255); stroke-opacity: 1; fill: rgb(0, 0, 0); fill-opacity: 0; stroke-dasharray: 3px, 3px; stroke-width: 2px;\"/></g></g></g><g class=\"infolayer\"><g class=\"g-gtitle\"><text class=\"gtitle\" x=\"500\" y=\"50\" text-anchor=\"middle\" dy=\"0em\" style=\"font-family: 'Open Sans', verdana, arial, sans-serif; font-size: 17px; fill: rgb(42, 63, 95); opacity: 1; font-weight: normal; white-space: pre;\">Top 10 Most Streamed Artists Based on Playback Duration</text></g><g class=\"g-xtitle\"><text class=\"xtitle\" x=\"500\" y=\"487.9962890625\" text-anchor=\"middle\" style=\"font-family: 'Open Sans', verdana, arial, sans-serif; font-size: 14px; fill: rgb(42, 63, 95); opacity: 1; font-weight: normal; white-space: pre;\">Artists</text></g><g class=\"g-ytitle\"><text class=\"ytitle\" transform=\"rotate(-90,31.809375000000003,228)\" x=\"31.809375000000003\" y=\"228\" text-anchor=\"middle\" style=\"font-family: 'Open Sans', verdana, arial, sans-serif; font-size: 14px; fill: rgb(42, 63, 95); opacity: 1; font-weight: normal; white-space: pre;\">Total Streams in Hours</text></g><g class=\"annotation\" data-index=\"0\" style=\"opacity: 1;\"><g class=\"annotation-text-g\" transform=\"rotate(0,855,293.37)\"><g class=\"cursor-pointer\" transform=\"translate(790,284)\"><rect class=\"bg\" x=\"0.5\" y=\"0.5\" width=\"129\" height=\"18\" style=\"stroke-width: 1px; stroke: rgb(0, 0, 0); stroke-opacity: 0; fill: rgb(0, 0, 0); fill-opacity: 0;\"/><text class=\"annotation-text\" text-anchor=\"middle\" x=\"64.734375\" y=\"14\" style=\"font-family: 'Open Sans', verdana, arial, sans-serif; font-size: 12px; fill: rgb(42, 63, 95); fill-opacity: 1; white-space: pre;\">Median: 50.41 hours</text></g></g></g></g></svg>"
      ]
     },
     "metadata": {},
     "output_type": "display_data"
    }
   ],
   "source": [
    "fig = px.bar(artist_playback_duration.head(10), x='master_metadata_album_artist_name', y='ms_played',\n",
    "             labels={'master_metadata_album_artist_name': 'Artists', 'ms_played': 'Total Streams in Hours'},\n",
    "             title='Top 10 Most Streamed Artists Based on Playback Duration')\n",
    "\n",
    "# Define colors using Spotify palette for top 5 tracks, green for others\n",
    "color_scale = ['green' if artist in artist_playback_duration.head(3).values else '#16D35C' for artist in artist_playback_duration['master_metadata_album_artist_name']]\n",
    "\n",
    "fig.update_traces(marker_color=color_scale,\n",
    "                  text=artist_playback_duration['ms_played'].round(2), \n",
    "                  textposition='inside', \n",
    "                  textfont=dict(color='white'))\n",
    "\n",
    "median_playback_duration = artist_playback_duration['ms_played'].median()\n",
    "fig.add_hline(y=median_playback_duration, \n",
    "              line_dash=\"dot\", line_color=\"blue\", \n",
    "              annotation_text=f'Median: {median_playback_duration:.2f} hours',\n",
    "              annotation_position=\"top right\")\n",
    "\n",
    "fig.update_layout(xaxis_title='Artists', \n",
    "                  yaxis_title='Total Streams in Hours', \n",
    "                  xaxis_tickangle=-45, showlegend=False, title_x=0.5,\n",
    "                  width=1000, height=500)\n",
    "fig.show()"
   ]
  },
  {
   "cell_type": "markdown",
   "metadata": {},
   "source": [
    "#### **`Top 3 Songs` from `Top 3 Artist`**"
   ]
  },
  {
   "cell_type": "code",
   "execution_count": 222,
   "metadata": {},
   "outputs": [
    {
     "data": {
      "text/html": [
       "<div>\n",
       "<style scoped>\n",
       "    .dataframe tbody tr th:only-of-type {\n",
       "        vertical-align: middle;\n",
       "    }\n",
       "\n",
       "    .dataframe tbody tr th {\n",
       "        vertical-align: top;\n",
       "    }\n",
       "\n",
       "    .dataframe thead th {\n",
       "        text-align: right;\n",
       "    }\n",
       "</style>\n",
       "<table border=\"1\" class=\"dataframe\">\n",
       "  <thead>\n",
       "    <tr style=\"text-align: right;\">\n",
       "      <th></th>\n",
       "      <th>master_metadata_album_artist_name</th>\n",
       "      <th>master_metadata_track_name</th>\n",
       "      <th>ms_played</th>\n",
       "    </tr>\n",
       "  </thead>\n",
       "  <tbody>\n",
       "    <tr>\n",
       "      <th>2307</th>\n",
       "      <td>Cheon ji won</td>\n",
       "      <td>You Can Cry</td>\n",
       "      <td>935.66</td>\n",
       "    </tr>\n",
       "    <tr>\n",
       "      <th>7109</th>\n",
       "      <td>LANY</td>\n",
       "      <td>the older you get, the less you cry</td>\n",
       "      <td>866.31</td>\n",
       "    </tr>\n",
       "    <tr>\n",
       "      <th>7048</th>\n",
       "      <td>LANY</td>\n",
       "      <td>Malibu Nights</td>\n",
       "      <td>864.07</td>\n",
       "    </tr>\n",
       "    <tr>\n",
       "      <th>4037</th>\n",
       "      <td>Feby Putri</td>\n",
       "      <td>Runtuh</td>\n",
       "      <td>730.33</td>\n",
       "    </tr>\n",
       "    <tr>\n",
       "      <th>6957</th>\n",
       "      <td>Kunto Aji</td>\n",
       "      <td>Rehat</td>\n",
       "      <td>725.18</td>\n",
       "    </tr>\n",
       "    <tr>\n",
       "      <th>5044</th>\n",
       "      <td>Hayd</td>\n",
       "      <td>Suffocate</td>\n",
       "      <td>722.41</td>\n",
       "    </tr>\n",
       "    <tr>\n",
       "      <th>7061</th>\n",
       "      <td>LANY</td>\n",
       "      <td>Thick And Thin</td>\n",
       "      <td>703.88</td>\n",
       "    </tr>\n",
       "    <tr>\n",
       "      <th>6952</th>\n",
       "      <td>Kunto Aji</td>\n",
       "      <td>Pilu Membiru</td>\n",
       "      <td>667.96</td>\n",
       "    </tr>\n",
       "    <tr>\n",
       "      <th>2357</th>\n",
       "      <td>Choi Yu Ree</td>\n",
       "      <td>Wish</td>\n",
       "      <td>665.10</td>\n",
       "    </tr>\n",
       "    <tr>\n",
       "      <th>14884</th>\n",
       "      <td>push baby</td>\n",
       "      <td>Wishing We Were More Than Friends</td>\n",
       "      <td>652.49</td>\n",
       "    </tr>\n",
       "    <tr>\n",
       "      <th>5162</th>\n",
       "      <td>Hindia</td>\n",
       "      <td>Membasuh</td>\n",
       "      <td>643.25</td>\n",
       "    </tr>\n",
       "    <tr>\n",
       "      <th>9674</th>\n",
       "      <td>ONG SEONG WU</td>\n",
       "      <td>Late Regret</td>\n",
       "      <td>598.92</td>\n",
       "    </tr>\n",
       "    <tr>\n",
       "      <th>7081</th>\n",
       "      <td>LANY</td>\n",
       "      <td>get away</td>\n",
       "      <td>596.61</td>\n",
       "    </tr>\n",
       "    <tr>\n",
       "      <th>5035</th>\n",
       "      <td>Hayd</td>\n",
       "      <td>Closure</td>\n",
       "      <td>593.76</td>\n",
       "    </tr>\n",
       "    <tr>\n",
       "      <th>3566</th>\n",
       "      <td>EasyFM</td>\n",
       "      <td>I'd Rather</td>\n",
       "      <td>578.71</td>\n",
       "    </tr>\n",
       "    <tr>\n",
       "      <th>10072</th>\n",
       "      <td>Payung Teduh</td>\n",
       "      <td>Untuk Perempuan Yang Sedang Di Pelukan</td>\n",
       "      <td>571.56</td>\n",
       "    </tr>\n",
       "    <tr>\n",
       "      <th>7115</th>\n",
       "      <td>LANY</td>\n",
       "      <td>you!</td>\n",
       "      <td>552.01</td>\n",
       "    </tr>\n",
       "    <tr>\n",
       "      <th>1501</th>\n",
       "      <td>Banda Neira</td>\n",
       "      <td>Sampai Jadi Debu (Menampilkan Gardika Gigih)</td>\n",
       "      <td>550.60</td>\n",
       "    </tr>\n",
       "    <tr>\n",
       "      <th>9135</th>\n",
       "      <td>NIKI</td>\n",
       "      <td>Oceans &amp; Engines</td>\n",
       "      <td>535.71</td>\n",
       "    </tr>\n",
       "    <tr>\n",
       "      <th>7056</th>\n",
       "      <td>LANY</td>\n",
       "      <td>Super Far</td>\n",
       "      <td>535.33</td>\n",
       "    </tr>\n",
       "  </tbody>\n",
       "</table>\n",
       "</div>"
      ],
      "text/plain": [
       "      master_metadata_album_artist_name                    master_metadata_track_name  ms_played\n",
       "2307                       Cheon ji won                                   You Can Cry     935.66\n",
       "7109                               LANY           the older you get, the less you cry     866.31\n",
       "7048                               LANY                                 Malibu Nights     864.07\n",
       "4037                         Feby Putri                                        Runtuh     730.33\n",
       "6957                          Kunto Aji                                         Rehat     725.18\n",
       "5044                               Hayd                                     Suffocate     722.41\n",
       "7061                               LANY                                Thick And Thin     703.88\n",
       "6952                          Kunto Aji                                  Pilu Membiru     667.96\n",
       "2357                        Choi Yu Ree                                          Wish     665.10\n",
       "14884                         push baby             Wishing We Were More Than Friends     652.49\n",
       "5162                             Hindia                                      Membasuh     643.25\n",
       "9674                       ONG SEONG WU                                   Late Regret     598.92\n",
       "7081                               LANY                                      get away     596.61\n",
       "5035                               Hayd                                       Closure     593.76\n",
       "3566                             EasyFM                                    I'd Rather     578.71\n",
       "10072                      Payung Teduh        Untuk Perempuan Yang Sedang Di Pelukan     571.56\n",
       "7115                               LANY                                          you!     552.01\n",
       "1501                        Banda Neira  Sampai Jadi Debu (Menampilkan Gardika Gigih)     550.60\n",
       "9135                               NIKI                              Oceans & Engines     535.71\n",
       "7056                               LANY                                     Super Far     535.33"
      ]
     },
     "execution_count": 222,
     "metadata": {},
     "output_type": "execute_result"
    }
   ],
   "source": [
    "# Calculate the accumulated number of streams for each artist in hours\n",
    "most_played_songs = (spotify_data.groupby(['master_metadata_album_artist_name', 'master_metadata_track_name'])['ms_played'].sum() / (1000 * 60)).reset_index()\n",
    "\n",
    "# Sort artists based on the accumulated number of streams, from most to least\n",
    "list_most_played_songs = most_played_songs.sort_values(by='ms_played', ascending=False).round(2).head(20)\n",
    "list_most_played_songs"
   ]
  },
  {
   "cell_type": "code",
   "execution_count": 223,
   "metadata": {},
   "outputs": [
    {
     "data": {
      "image/svg+xml": [
       "<svg class=\"main-svg\" xmlns=\"http://www.w3.org/2000/svg\" xmlns:xlink=\"http://www.w3.org/1999/xlink\" width=\"1000\" height=\"500\" style=\"\" viewBox=\"0 0 1000 500\"><rect x=\"0\" y=\"0\" width=\"1000\" height=\"500\" style=\"fill: rgb(255, 255, 255); fill-opacity: 1;\"/><defs id=\"defs-ffc9d1\"><g class=\"clips\"><clipPath id=\"clipffc9d1xyplot\" class=\"plotclip\"><rect width=\"552\" height=\"320\"/></clipPath><clipPath class=\"axesclip\" id=\"clipffc9d1x\"><rect x=\"245\" y=\"0\" width=\"552\" height=\"500\"/></clipPath><clipPath class=\"axesclip\" id=\"clipffc9d1y\"><rect x=\"0\" y=\"100\" width=\"1000\" height=\"320\"/></clipPath><clipPath class=\"axesclip\" id=\"clipffc9d1xy\"><rect x=\"245\" y=\"100\" width=\"552\" height=\"320\"/></clipPath></g><g class=\"gradients\"/><g class=\"patterns\"/></defs><g class=\"bglayer\"><rect class=\"bg\" x=\"245\" y=\"100\" width=\"552\" height=\"320\" style=\"fill: rgb(229, 236, 246); fill-opacity: 1; stroke-width: 0;\"/></g><g class=\"layer-below\"><g class=\"imagelayer\"/><g class=\"shapelayer\"/></g><g class=\"cartesianlayer\"><g class=\"subplot xy\"><g class=\"layer-subplot\"><g class=\"shapelayer\"/><g class=\"imagelayer\"/></g><g class=\"minor-gridlayer\"><g class=\"x\"/><g class=\"y\"/></g><g class=\"gridlayer\"><g class=\"x\"><path class=\"xgrid crisp\" transform=\"translate(366.07,0)\" d=\"M0,100v320\" style=\"stroke: rgb(255, 255, 255); stroke-opacity: 1; stroke-width: 1px;\"/><path class=\"xgrid crisp\" transform=\"translate(487.13,0)\" d=\"M0,100v320\" style=\"stroke: rgb(255, 255, 255); stroke-opacity: 1; stroke-width: 1px;\"/><path class=\"xgrid crisp\" transform=\"translate(608.2,0)\" d=\"M0,100v320\" style=\"stroke: rgb(255, 255, 255); stroke-opacity: 1; stroke-width: 1px;\"/><path class=\"xgrid crisp\" transform=\"translate(729.26,0)\" d=\"M0,100v320\" style=\"stroke: rgb(255, 255, 255); stroke-opacity: 1; stroke-width: 1px;\"/></g><g class=\"y\"/></g><g class=\"zerolinelayer\"><path class=\"xzl zl crisp\" transform=\"translate(245,0)\" d=\"M0,100v320\" style=\"stroke: rgb(255, 255, 255); stroke-opacity: 1; stroke-width: 2px;\"/></g><g class=\"layer-between\"><g class=\"shapelayer\"/><g class=\"imagelayer\"/></g><path class=\"xlines-below\"/><path class=\"ylines-below\"/><g class=\"overlines-below\"/><g class=\"xaxislayer-below\"/><g class=\"yaxislayer-below\"/><g class=\"overaxes-below\"/><g class=\"plot\" transform=\"translate(245,100)\" clip-path=\"url(#clipffc9d1xyplot)\"><g class=\"barlayer mlayer\"><g class=\"trace bars\" style=\"opacity: 1;\"><g class=\"points\"><g class=\"point\"><path d=\"M0,316.44V288H148.39V316.44Z\" style=\"vector-effect: none; opacity: 1; stroke-width: 0.5px; fill: rgb(99, 110, 250); fill-opacity: 1; stroke: rgb(229, 236, 246); stroke-opacity: 1;\"/></g><g class=\"point\"><path d=\"M0,280.89V252.44H180.57V280.89Z\" style=\"vector-effect: none; opacity: 1; stroke-width: 0.5px; fill: rgb(99, 110, 250); fill-opacity: 1; stroke: rgb(229, 236, 246); stroke-opacity: 1;\"/></g><g class=\"point\"><path d=\"M0,245.33V216.89H181.96V245.33Z\" style=\"vector-effect: none; opacity: 1; stroke-width: 0.5px; fill: rgb(99, 110, 250); fill-opacity: 1; stroke: rgb(229, 236, 246); stroke-opacity: 1;\"/></g></g></g><g class=\"trace bars\" style=\"opacity: 1;\"><g class=\"points\"><g class=\"point\"><path d=\"M0,209.78V181.33H174.96V209.78Z\" style=\"vector-effect: none; opacity: 1; stroke-width: 0.5px; fill: rgb(239, 85, 59); fill-opacity: 1; stroke: rgb(229, 236, 246); stroke-opacity: 1;\"/></g><g class=\"point\"><path d=\"M0,174.22V145.78H262.48V174.22Z\" style=\"vector-effect: none; opacity: 1; stroke-width: 0.5px; fill: rgb(239, 85, 59); fill-opacity: 1; stroke: rgb(229, 236, 246); stroke-opacity: 1;\"/></g><g class=\"point\"><path d=\"M0,138.67V110.22H298.67V138.67Z\" style=\"vector-effect: none; opacity: 1; stroke-width: 0.5px; fill: rgb(239, 85, 59); fill-opacity: 1; stroke: rgb(229, 236, 246); stroke-opacity: 1;\"/></g></g></g><g class=\"trace bars\" style=\"opacity: 1;\"><g class=\"points\"><g class=\"point\"><path d=\"M0,103.11V74.67H426.08V103.11Z\" style=\"vector-effect: none; opacity: 1; stroke-width: 0.5px; fill: rgb(0, 204, 150); fill-opacity: 1; stroke: rgb(229, 236, 246); stroke-opacity: 1;\"/></g><g class=\"point\"><path d=\"M0,67.56V39.11H523.04V67.56Z\" style=\"vector-effect: none; opacity: 1; stroke-width: 0.5px; fill: rgb(0, 204, 150); fill-opacity: 1; stroke: rgb(229, 236, 246); stroke-opacity: 1;\"/></g><g class=\"point\"><path d=\"M0,32V3.56H524.4V32Z\" style=\"vector-effect: none; opacity: 1; stroke-width: 0.5px; fill: rgb(0, 204, 150); fill-opacity: 1; stroke: rgb(229, 236, 246); stroke-opacity: 1;\"/></g></g></g></g></g><g class=\"overplot\"/><path class=\"xlines-above crisp\" d=\"M0,0\" style=\"fill: none;\"/><path class=\"ylines-above crisp\" d=\"M0,0\" style=\"fill: none;\"/><g class=\"overlines-above\"/><g class=\"xaxislayer-above\"><g class=\"xtick\"><text text-anchor=\"middle\" x=\"0\" y=\"433\" transform=\"translate(245,0)\" style=\"font-family: 'Open Sans', verdana, arial, sans-serif; font-size: 12px; fill: rgb(42, 63, 95); fill-opacity: 1; white-space: pre; opacity: 1;\">0</text></g><g class=\"xtick\"><text text-anchor=\"middle\" x=\"0\" y=\"433\" style=\"font-family: 'Open Sans', verdana, arial, sans-serif; font-size: 12px; fill: rgb(42, 63, 95); fill-opacity: 1; white-space: pre; opacity: 1;\" transform=\"translate(366.07,0)\">200</text></g><g class=\"xtick\"><text text-anchor=\"middle\" x=\"0\" y=\"433\" style=\"font-family: 'Open Sans', verdana, arial, sans-serif; font-size: 12px; fill: rgb(42, 63, 95); fill-opacity: 1; white-space: pre; opacity: 1;\" transform=\"translate(487.13,0)\">400</text></g><g class=\"xtick\"><text text-anchor=\"middle\" x=\"0\" y=\"433\" style=\"font-family: 'Open Sans', verdana, arial, sans-serif; font-size: 12px; fill: rgb(42, 63, 95); fill-opacity: 1; white-space: pre; opacity: 1;\" transform=\"translate(608.2,0)\">600</text></g><g class=\"xtick\"><text text-anchor=\"middle\" x=\"0\" y=\"433\" style=\"font-family: 'Open Sans', verdana, arial, sans-serif; font-size: 12px; fill: rgb(42, 63, 95); fill-opacity: 1; white-space: pre; opacity: 1;\" transform=\"translate(729.26,0)\">800</text></g></g><g class=\"yaxislayer-above\"><g class=\"ytick\"><text text-anchor=\"end\" x=\"244\" y=\"4.199999999999999\" transform=\"translate(0,402.22)\" style=\"font-family: 'Open Sans', verdana, arial, sans-serif; font-size: 12px; fill: rgb(42, 63, 95); fill-opacity: 1; white-space: pre; opacity: 1;\">Youngblood</text></g><g class=\"ytick\"><text text-anchor=\"end\" x=\"244\" y=\"4.199999999999999\" transform=\"translate(0,366.67)\" style=\"font-family: 'Open Sans', verdana, arial, sans-serif; font-size: 12px; fill: rgb(42, 63, 95); fill-opacity: 1; white-space: pre; opacity: 1;\">Ghost Of You</text></g><g class=\"ytick\"><text text-anchor=\"end\" x=\"244\" y=\"4.199999999999999\" transform=\"translate(0,331.11)\" style=\"font-family: 'Open Sans', verdana, arial, sans-serif; font-size: 12px; fill: rgb(42, 63, 95); fill-opacity: 1; white-space: pre; opacity: 1;\">COMPLETE MESS</text></g><g class=\"ytick\"><text text-anchor=\"end\" x=\"244\" y=\"4.199999999999999\" transform=\"translate(0,295.56)\" style=\"font-family: 'Open Sans', verdana, arial, sans-serif; font-size: 12px; fill: rgb(42, 63, 95); fill-opacity: 1; white-space: pre; opacity: 1;\">Lavender Haze</text></g><g class=\"ytick\"><text text-anchor=\"end\" x=\"244\" y=\"4.199999999999999\" transform=\"translate(0,260)\" style=\"font-family: 'Open Sans', verdana, arial, sans-serif; font-size: 12px; fill: rgb(42, 63, 95); fill-opacity: 1; white-space: pre; opacity: 1;\">Anti-Hero</text></g><g class=\"ytick\"><text text-anchor=\"end\" x=\"244\" y=\"4.199999999999999\" transform=\"translate(0,224.44)\" style=\"font-family: 'Open Sans', verdana, arial, sans-serif; font-size: 12px; fill: rgb(42, 63, 95); fill-opacity: 1; white-space: pre; opacity: 1;\">august</text></g><g class=\"ytick\"><text text-anchor=\"end\" x=\"244\" y=\"4.199999999999999\" transform=\"translate(0,188.89)\" style=\"font-family: 'Open Sans', verdana, arial, sans-serif; font-size: 12px; fill: rgb(42, 63, 95); fill-opacity: 1; white-space: pre; opacity: 1;\">Thick And Thin</text></g><g class=\"ytick\"><text text-anchor=\"end\" x=\"244\" y=\"4.199999999999999\" transform=\"translate(0,153.32999999999998)\" style=\"font-family: 'Open Sans', verdana, arial, sans-serif; font-size: 12px; fill: rgb(42, 63, 95); fill-opacity: 1; white-space: pre; opacity: 1;\">Malibu Nights</text></g><g class=\"ytick\"><text text-anchor=\"end\" x=\"244\" y=\"4.199999999999999\" transform=\"translate(0,117.78)\" style=\"font-family: 'Open Sans', verdana, arial, sans-serif; font-size: 12px; fill: rgb(42, 63, 95); fill-opacity: 1; white-space: pre; opacity: 1;\">the older you get, the less you cry</text></g></g><g class=\"overaxes-above\"/></g></g><g class=\"polarlayer\"/><g class=\"smithlayer\"/><g class=\"ternarylayer\"/><g class=\"geolayer\"/><g class=\"funnelarealayer\"/><g class=\"pielayer\"/><g class=\"iciclelayer\"/><g class=\"treemaplayer\"/><g class=\"sunburstlayer\"/><g class=\"glimages\"/><defs id=\"topdefs-ffc9d1\"><g class=\"clips\"/><clipPath id=\"legendffc9d1\"><rect width=\"180\" height=\"86\" x=\"0\" y=\"0\"/></clipPath></defs><g class=\"layer-above\"><g class=\"imagelayer\"/><g class=\"shapelayer\"/></g><g class=\"infolayer\"><g class=\"legend\" pointer-events=\"all\" transform=\"translate(808.04,100)\"><rect class=\"bg\" shape-rendering=\"crispEdges\" width=\"180\" height=\"86\" x=\"0\" y=\"0\" style=\"stroke: rgb(68, 68, 68); stroke-opacity: 1; fill: rgb(255, 255, 255); fill-opacity: 1; stroke-width: 0px;\"/><g class=\"scrollbox\" transform=\"\" clip-path=\"url(#legendffc9d1)\"><text class=\"legendtitletext\" text-anchor=\"start\" x=\"2\" y=\"18.2\" style=\"font-family: 'Open Sans', verdana, arial, sans-serif; font-size: 14px; fill: rgb(42, 63, 95); fill-opacity: 1; white-space: pre;\">Artist</text><g class=\"groups\" transform=\"\"><g class=\"traces\" transform=\"translate(0,32.7)\" style=\"opacity: 1;\"><text class=\"legendtext\" text-anchor=\"start\" x=\"40\" y=\"4.680000000000001\" style=\"font-family: 'Open Sans', verdana, arial, sans-serif; font-size: 12px; fill: rgb(42, 63, 95); fill-opacity: 1; white-space: pre;\">5 Seconds of Summer</text><g class=\"layers\" style=\"opacity: 1;\"><g class=\"legendfill\"/><g class=\"legendlines\"/><g class=\"legendsymbols\"><g class=\"legendpoints\"><path class=\"legendundefined\" d=\"M6,6H-6V-6H6Z\" transform=\"translate(20,0)\" style=\"stroke-width: 0.5px; fill: rgb(99, 110, 250); fill-opacity: 1; stroke: rgb(229, 236, 246); stroke-opacity: 1;\"/></g></g></g><rect class=\"legendtoggle\" x=\"0\" y=\"-9.5\" width=\"174.296875\" height=\"19\" style=\"fill: rgb(0, 0, 0); fill-opacity: 0;\"/></g></g><g class=\"groups\" transform=\"\"><g class=\"traces\" transform=\"translate(0,51.7)\" style=\"opacity: 1;\"><text class=\"legendtext\" text-anchor=\"start\" x=\"40\" y=\"4.680000000000001\" style=\"font-family: 'Open Sans', verdana, arial, sans-serif; font-size: 12px; fill: rgb(42, 63, 95); fill-opacity: 1; white-space: pre;\">Taylor Swift</text><g class=\"layers\" style=\"opacity: 1;\"><g class=\"legendfill\"/><g class=\"legendlines\"/><g class=\"legendsymbols\"><g class=\"legendpoints\"><path class=\"legendundefined\" d=\"M6,6H-6V-6H6Z\" transform=\"translate(20,0)\" style=\"stroke-width: 0.5px; fill: rgb(239, 85, 59); fill-opacity: 1; stroke: rgb(229, 236, 246); stroke-opacity: 1;\"/></g></g></g><rect class=\"legendtoggle\" x=\"0\" y=\"-9.5\" width=\"174.296875\" height=\"19\" style=\"fill: rgb(0, 0, 0); fill-opacity: 0;\"/></g></g><g class=\"groups\" transform=\"\"><g class=\"traces\" transform=\"translate(0,70.7)\" style=\"opacity: 1;\"><text class=\"legendtext\" text-anchor=\"start\" x=\"40\" y=\"4.680000000000001\" style=\"font-family: 'Open Sans', verdana, arial, sans-serif; font-size: 12px; fill: rgb(42, 63, 95); fill-opacity: 1; white-space: pre;\">LANY</text><g class=\"layers\" style=\"opacity: 1;\"><g class=\"legendfill\"/><g class=\"legendlines\"/><g class=\"legendsymbols\"><g class=\"legendpoints\"><path class=\"legendundefined\" d=\"M6,6H-6V-6H6Z\" transform=\"translate(20,0)\" style=\"stroke-width: 0.5px; fill: rgb(0, 204, 150); fill-opacity: 1; stroke: rgb(229, 236, 246); stroke-opacity: 1;\"/></g></g></g><rect class=\"legendtoggle\" x=\"0\" y=\"-9.5\" width=\"174.296875\" height=\"19\" style=\"fill: rgb(0, 0, 0); fill-opacity: 0;\"/></g></g></g><rect class=\"scrollbar\" rx=\"20\" ry=\"3\" width=\"0\" height=\"0\" x=\"0\" y=\"0\" style=\"fill: rgb(128, 139, 164); fill-opacity: 1;\"/></g><g class=\"g-gtitle\"><text class=\"gtitle\" x=\"500\" y=\"50\" text-anchor=\"middle\" dy=\"0em\" style=\"font-family: 'Open Sans', verdana, arial, sans-serif; font-size: 17px; fill: rgb(42, 63, 95); opacity: 1; font-weight: normal; white-space: pre;\">Top 3 Songs from Top 3 Most Played Artists</text></g><g class=\"g-xtitle\"><text class=\"xtitle\" x=\"521\" y=\"460.3\" text-anchor=\"middle\" style=\"font-family: 'Open Sans', verdana, arial, sans-serif; font-size: 14px; fill: rgb(42, 63, 95); opacity: 1; font-weight: normal; white-space: pre;\">Total Playback Time (minutes)</text></g><g class=\"g-ytitle\" transform=\"translate(1.9873046875,0)\"><text class=\"ytitle\" transform=\"rotate(-90,12.012499999999989,260)\" x=\"12.012499999999989\" y=\"260\" text-anchor=\"middle\" style=\"font-family: 'Open Sans', verdana, arial, sans-serif; font-size: 14px; fill: rgb(42, 63, 95); opacity: 1; font-weight: normal; white-space: pre;\">Track Name</text></g></g></svg>"
      ]
     },
     "metadata": {},
     "output_type": "display_data"
    }
   ],
   "source": [
    "top_artists = artist_playback_duration.sort_values(by='ms_played', ascending=False).head(3)['master_metadata_album_artist_name']\n",
    "\n",
    "top_songs = pd.concat([most_played_songs[most_played_songs['master_metadata_album_artist_name'] == artist].nlargest(3, 'ms_played') for artist in top_artists])\n",
    "top_songs = top_songs.sort_values(by='ms_played', ascending=True)\n",
    "\n",
    "fig = px.bar(top_songs, x='ms_played', y='master_metadata_track_name', color='master_metadata_album_artist_name', orientation='h',\n",
    "             labels={'master_metadata_track_name': 'Track Name', 'ms_played': 'Playback Time', 'master_metadata_album_artist_name': 'Artist'},\n",
    "             title='Top 3 Songs from Top 3 Most Played Artists')\n",
    "\n",
    "fig.update_layout(xaxis_title='Total Playback Time (minutes)', yaxis_title='Track Name',\n",
    "                  legend_title='Artist', title_x=0.5, width=1000, height=500)\n",
    "\n",
    "fig.show()"
   ]
  },
  {
   "cell_type": "markdown",
   "metadata": {},
   "source": [
    "#### **Yearly `Top Songs` and `Top Artists`**"
   ]
  },
  {
   "cell_type": "markdown",
   "metadata": {},
   "source": [
    "##### **`2019` Top Songs and Top Artists**"
   ]
  },
  {
   "cell_type": "code",
   "execution_count": 224,
   "metadata": {},
   "outputs": [
    {
     "name": "stdout",
     "output_type": "stream",
     "text": [
      "Top Songs for 2019:\n",
      "                                          Track Name              Artist  Playback Duration\n",
      "1301          Untuk Perempuan Yang Sedang Di Pelukan        Payung Teduh          1735.6242\n",
      "1019    Sampai Jadi Debu (Menampilkan Gardika Gigih)         Banda Neira          1564.9837\n",
      "546                            If You're Not The One  Daniel Bedingfield          1286.2758\n",
      "732                                     Love Someone        Lukas Graham          1160.4668\n",
      "1371         Yang Patah Tumbuh, Yang Hilang Berganti         Banda Neira          1116.8143\n",
      "1197                              Teman Tapi Menikah       Dengarkan Dia          1001.2434\n",
      "97                                             April       Fiersa Besari           994.5008\n",
      "475                                      Hitam Putih           Fourtwnty           961.3434\n",
      "517                                  I Love You 3000    Stephanie Poetri           926.2673\n",
      "285                                           Dan...         Sheila On 7           881.1327\n",
      "161                                       Bersenyawa       Dengarkan Dia           866.9673\n",
      "1139                                 Stay As You Are             Sabrina           862.0240\n",
      "364                                 Fana Merah Jambu           Fourtwnty           855.3257\n",
      "36                                          Adu Rayu      Yovie Widianto           851.4383\n",
      "1079                                        Señorita        Shawn Mendes           811.5828\n",
      "1325                                Waktu Yang Salah       Fiersa Besari           776.4771\n",
      "165                         Best Part (feat. H.E.R.)       Daniel Caesar           757.5335\n",
      "874                                        On My Way         Alan Walker           746.7236\n",
      "30    A Whole New World (End Title) - From \"Aladdin\"                ZAYN           746.1855\n",
      "228                       Can't Take My Eyes Off You      Joseph Vincent           737.5428\n"
     ]
    }
   ],
   "source": [
    "spotify_data_2019 = spotify_data[spotify_data['ts'].dt.year == 2019]\n",
    "\n",
    "top_songs = (spotify_data_2019.groupby(['master_metadata_track_name', 'master_metadata_album_artist_name'])['ms_played'].sum() / (1000 * 10)).reset_index()\n",
    "top_songs = top_songs.sort_values(by='ms_played', ascending=False).head(20)\n",
    "\n",
    "top_songs = top_songs.rename(columns={'master_metadata_album_artist_name': 'Artist', \n",
    "                                      'master_metadata_track_name': 'Track Name',\n",
    "                                      'ms_played': 'Playback Duration'})\n",
    "\n",
    "print(\"Top Songs for 2019:\")\n",
    "print(top_songs)"
   ]
  },
  {
   "cell_type": "markdown",
   "metadata": {},
   "source": [
    "##### **`2020` Top Songs and Top Artists**"
   ]
  },
  {
   "cell_type": "code",
   "execution_count": 225,
   "metadata": {},
   "outputs": [
    {
     "name": "stdout",
     "output_type": "stream",
     "text": [
      "Top Songs for 2020:\n",
      "                   Track Name           Artist  Playback Duration\n",
      "2070                Tiga Pagi           Fletch          2717.0763\n",
      "748   Growing Up (Rara Sekar)         Daramuda          2056.1518\n",
      "1656                 Sadajiwa           Fletch          1456.4656\n",
      "1073           Laraku, Pilumu           Fletch          1445.7452\n",
      "1260                 Membasuh           Hindia          1410.8291\n",
      "1072                     Lara     Dialog Senja          1392.1713\n",
      "699            Forget Jakarta   Adhitia Sofyan          1376.4033\n",
      "124               Angin Hujan           Fletch          1268.4740\n",
      "2322                    ghost       Skinnyfabs          1228.9302\n",
      "1509             Pilu Membiru        Kunto Aji          1222.5940\n",
      "19       3 A.M. (Bonus Track)           Fletch          1210.6356\n",
      "1538           Pura Pura Lupa            Mahen          1125.9884\n",
      "1503      Pesan Di Balik Awan   Adhitia Sofyan          1109.8110\n",
      "175                  Bad Liar  Imagine Dragons          1104.1589\n",
      "1259            Melukis Senja      Budi Doremi          1079.0104\n",
      "931                Intentions    Justin Bieber          1026.1107\n",
      "1898                    Sugar         Maroon 5          1016.8656\n",
      "1216            Malibu Nights             LANY           998.5633\n",
      "478          Darling, Can We?           Fletch           998.1102\n",
      "1403                      ONE         DEPAPEPE           983.9751\n"
     ]
    }
   ],
   "source": [
    "spotify_data_2020 = spotify_data[spotify_data['ts'].dt.year == 2020]\n",
    "\n",
    "top_songs = (spotify_data_2020.groupby(['master_metadata_track_name', 'master_metadata_album_artist_name'])['ms_played'].sum() / (1000 * 10)).reset_index()\n",
    "top_songs = top_songs.sort_values(by='ms_played', ascending=False).head(20)\n",
    "\n",
    "top_songs = top_songs.rename(columns={'master_metadata_album_artist_name': 'Artist', \n",
    "                                      'master_metadata_track_name': 'Track Name',\n",
    "                                      'ms_played': 'Playback Duration'})\n",
    "\n",
    "print(\"Top Songs for 2020:\")\n",
    "print(top_songs)"
   ]
  },
  {
   "cell_type": "markdown",
   "metadata": {},
   "source": [
    "##### **`2021` Top Songs and Top Artists**"
   ]
  },
  {
   "cell_type": "code",
   "execution_count": 226,
   "metadata": {},
   "outputs": [
    {
     "name": "stdout",
     "output_type": "stream",
     "text": [
      "Top Songs for 2021:\n",
      "                                             Track Name           Artist  Playback Duration\n",
      "3016                                        You Can Cry     Cheon ji won          4105.4100\n",
      "2087                                              Rehat        Kunto Aji          2200.9607\n",
      "2064                                          Rainy Day      Sungha Jung          2063.9920\n",
      "109                                          All I Need            JEMMA          1948.5355\n",
      "1648                                             Middle         DJ Snake          1838.5583\n",
      "2976                                               Wish      Choi Yu Ree          1817.4193\n",
      "1600                                          May I Ask      Luke Chiang          1676.4227\n",
      "2234                                            Sejenak        Biru Baru          1616.7461\n",
      "1266                                          Je T'aime              JOY          1553.9198\n",
      "229                                             Baangka        Biru Baru          1511.4055\n",
      "1153                                         I'd Rather           EasyFM          1504.0388\n",
      "1011                                Here's Your Perfect     Jamie Miller          1495.9538\n",
      "1378                                        Late Regret     ONG SEONG WU          1461.7082\n",
      "1108  I Just Couldn't Save You Tonight - Story of Ka...  Ardhito Pramono          1459.7751\n",
      "295                               Belum Siap Kehilangan  Stevan Pasaribu          1412.6682\n",
      "1911                                         Past Lives    Martin Arteta          1410.8995\n",
      "2106                                    Resah Jadi Luka       Daun Jatuh          1365.3417\n",
      "3470                                                끝까지              BEN          1359.3789\n",
      "113                                          All I Want         Kodaline          1313.4582\n",
      "1987                                       Pilu Membiru        Kunto Aji          1260.9673\n"
     ]
    }
   ],
   "source": [
    "spotify_data_2021 = spotify_data[spotify_data['ts'].dt.year == 2021]\n",
    "\n",
    "top_songs = (spotify_data_2021.groupby(['master_metadata_track_name', 'master_metadata_album_artist_name'])['ms_played'].sum() / (1000 * 10)).reset_index()\n",
    "top_songs = top_songs.sort_values(by='ms_played', ascending=False).head(20)\n",
    "\n",
    "top_songs = top_songs.rename(columns={'master_metadata_album_artist_name': 'Artist', \n",
    "                                      'master_metadata_track_name': 'Track Name',\n",
    "                                      'ms_played': 'Playback Duration'})\n",
    "\n",
    "print(\"Top Songs for 2021:\")\n",
    "print(top_songs)"
   ]
  },
  {
   "cell_type": "markdown",
   "metadata": {},
   "source": [
    "##### **`2022` Top Songs and Top Artists**"
   ]
  },
  {
   "cell_type": "code",
   "execution_count": 227,
   "metadata": {},
   "outputs": [
    {
     "name": "stdout",
     "output_type": "stream",
     "text": [
      "Top Songs for 2022:\n",
      "                               Track Name         Artist  Playback Duration\n",
      "4617  the older you get, the less you cry           LANY          3510.8196\n",
      "3477                            Suffocate           Hayd          3390.6054\n",
      "1558               Hugging You - Acoustic  Tom Rosenthal          2947.5772\n",
      "3756                       Thick And Thin           LANY          2788.8270\n",
      "4365                             get away           LANY          2690.4806\n",
      "4603                         take a break    Arash Buana          2679.7142\n",
      "4116    Wishing We Were More Than Friends      push baby          2394.4954\n",
      "3513                            Super Far           LANY          2353.5310\n",
      "1268                                Ghost  Justin Bieber          2334.5762\n",
      "1085                             FEELINGS   Timmy Albert          2301.7431\n",
      "4681                                 you!           LANY          2293.7744\n",
      "4305                         cowboy in LA           LANY          2251.2827\n",
      "3034                               Runtuh     Feby Putri          2138.4840\n",
      "711                               Closure           Hayd          2132.4524\n",
      "4328                                 down         Mokita          2069.9522\n",
      "3455            Strawberries & Cigarettes    Troye Sivan          2006.5956\n",
      "4385                   heart won't let me           LANY          1985.2027\n",
      "1452                             Hericane           LANY          1860.7514\n",
      "2048                          Late Regret   ONG SEONG WU          1858.8010\n",
      "1395                   Hati-Hati di Jalan          Tulus          1850.8470\n"
     ]
    }
   ],
   "source": [
    "spotify_data_2022 = spotify_data[spotify_data['ts'].dt.year == 2022]\n",
    "\n",
    "top_songs = (spotify_data_2022.groupby(['master_metadata_track_name', 'master_metadata_album_artist_name'])['ms_played'].sum() / (1000 * 10)).reset_index()\n",
    "top_songs = top_songs.sort_values(by='ms_played', ascending=False).head(20)\n",
    "\n",
    "top_songs = top_songs.rename(columns={'master_metadata_album_artist_name': 'Artist', \n",
    "                                      'master_metadata_track_name': 'Track Name',\n",
    "                                      'ms_played': 'Playback Duration'})\n",
    "\n",
    "print(\"Top Songs for 2022:\")\n",
    "print(top_songs)"
   ]
  },
  {
   "cell_type": "markdown",
   "metadata": {},
   "source": [
    "##### **`2023` Top Songs and Top Artists**"
   ]
  },
  {
   "cell_type": "code",
   "execution_count": 228,
   "metadata": {},
   "outputs": [
    {
     "name": "stdout",
     "output_type": "stream",
     "text": [
      "Top Songs for 2023:\n",
      "                               Track Name                  Artist  Playback Duration\n",
      "1248                       Cosmic Railway                     EXO          2904.3849\n",
      "3781                        Malibu Nights                    LANY          2602.9827\n",
      "5499                  Somebody's Pleasure              Aziz Hedra          2083.7113\n",
      "1829                        Falling Again                    Ridh          2015.5834\n",
      "3291                                LIMBO                   keshi          1944.5400\n",
      "2438                         Here With Me                    d4vd          1925.6382\n",
      "7318                            hurt road                    DAY6          1905.5338\n",
      "4392                     Opening Sequence     TOMORROW X TOGETHER          1865.6154\n",
      "5899                    Tak Segampang Itu            Anggi Marito          1807.4089\n",
      "7064                               august            Taylor Swift          1786.7549\n",
      "6239                           Those Eyes                New West          1766.0189\n",
      "2727                          I Loved You                    DAY6          1749.6378\n",
      "2754           I Sunk In All The Memories  Vancouver Sleep Clinic          1693.3513\n",
      "7712  the older you get, the less you cry                    LANY          1687.0487\n",
      "6832    Wishing We Were More Than Friends               push baby          1520.3724\n",
      "7179                dlma </3 (feat. LANY)                   Bazzi          1494.1229\n",
      "4855                                Rehat               Kunto Aji          1471.8204\n",
      "2369                   Head In The Clouds                    Hayd          1468.5360\n",
      "528                   Back 2 U (AM 01:27)                 NCT 127          1460.5469\n",
      "27                                     13                    LANY          1454.7710\n"
     ]
    }
   ],
   "source": [
    "spotify_data_2023 = spotify_data[spotify_data['ts'].dt.year == 2023]\n",
    "\n",
    "top_songs = (spotify_data_2023.groupby(['master_metadata_track_name', 'master_metadata_album_artist_name'])['ms_played'].sum() / (1000 * 10)).reset_index()\n",
    "top_songs = top_songs.sort_values(by='ms_played', ascending=False).head(20)\n",
    "\n",
    "top_songs = top_songs.rename(columns={'master_metadata_album_artist_name': 'Artist', \n",
    "                                      'master_metadata_track_name': 'Track Name',\n",
    "                                      'ms_played': 'Playback Duration'})\n",
    "\n",
    "print(\"Top Songs for 2023:\")\n",
    "print(top_songs)"
   ]
  },
  {
   "cell_type": "markdown",
   "metadata": {},
   "source": [
    "##### **`2024` Top Songs and Top Artists (Q1)**"
   ]
  },
  {
   "cell_type": "code",
   "execution_count": 229,
   "metadata": {},
   "outputs": [
    {
     "name": "stdout",
     "output_type": "stream",
     "text": [
      "Top Songs for 2024:\n",
      "                                             Track Name               Artist  Playback Duration\n",
      "1648                                   Oceans & Engines                 NIKI          2971.3604\n",
      "1703  Outer Space / Carry On (Live from The Royal Al...  5 Seconds of Summer          1379.0707\n",
      "2615                                         Youngblood  5 Seconds of Summer          1348.8625\n",
      "2226                                              Teeth  5 Seconds of Summer          1285.1589\n",
      "174                                             Amnesia  5 Seconds of Summer          1255.8973\n",
      "1335                                            Lighter             Galantis          1133.0853\n",
      "256                                           Bad Omens  5 Seconds of Summer          1096.6947\n",
      "2002                               She Looks So Perfect  5 Seconds of Summer          1071.8165\n",
      "822                                        Ghost Of You  5 Seconds of Summer          1051.1631\n",
      "1457   Me, Myself & I (Live from The Royal Albert Hall)  5 Seconds of Summer          1004.4509\n",
      "2527                                    Who Do You Love     The Chainsmokers           984.5671\n",
      "825      Ghost of You (Live from The Royal Albert Hall)  5 Seconds of Summer           936.4217\n",
      "175           Amnesia (Live from The Royal Albert Hall)  5 Seconds of Summer           932.2700\n",
      "422          CAROUSEL (Live from The Royal Albert Hall)  5 Seconds of Summer           921.7249\n",
      "425     COMPLETE MESS (Live from The Royal Albert Hall)  5 Seconds of Summer           899.1281\n",
      "2206     Take My Hand (Live from The Royal Albert Hall)  5 Seconds of Summer           883.5207\n",
      "1188  Jet Black Heart (Live from The Royal Albert Hall)  5 Seconds of Summer           867.7499\n",
      "2010                                    She's Kinda Hot  5 Seconds of Summer           865.4946\n",
      "2616       Youngblood (Live from The Royal Albert Hall)  5 Seconds of Summer           821.6866\n",
      "1662  Older (feat. Sierra Deaton) (Live from The Roy...  5 Seconds of Summer           804.6981\n"
     ]
    }
   ],
   "source": [
    "spotify_data_2024 = spotify_data[spotify_data['ts'].dt.year == 2024]\n",
    "\n",
    "top_songs = (spotify_data_2024.groupby(['master_metadata_track_name', 'master_metadata_album_artist_name'])['ms_played'].sum() / (1000 * 10)).reset_index()\n",
    "top_songs = top_songs.sort_values(by='ms_played', ascending=False).head(20)\n",
    "\n",
    "top_songs = top_songs.rename(columns={'master_metadata_album_artist_name': 'Artist', \n",
    "                                      'master_metadata_track_name': 'Track Name',\n",
    "                                      'ms_played': 'Playback Duration'})\n",
    "\n",
    "print(\"Top Songs for 2024:\")\n",
    "print(top_songs)"
   ]
  },
  {
   "cell_type": "markdown",
   "metadata": {},
   "source": [
    "### **`Podcast` Streaming Analysis**"
   ]
  },
  {
   "cell_type": "markdown",
   "metadata": {},
   "source": [
    "#### **Yearly podcast streaming trend**"
   ]
  },
  {
   "cell_type": "code",
   "execution_count": 230,
   "metadata": {},
   "outputs": [],
   "source": [
    "grouped_data = spotify_podcast.groupby(spotify_podcast['ts'].dt.year).size().reset_index(name='podcast_count')\n",
    "grouped_data.columns = ['year', 'podcast_count']\n",
    "grouped_data = grouped_data.sort_values(by='year')"
   ]
  },
  {
   "cell_type": "code",
   "execution_count": 231,
   "metadata": {},
   "outputs": [
    {
     "data": {
      "image/svg+xml": [
       "<svg class=\"main-svg\" xmlns=\"http://www.w3.org/2000/svg\" xmlns:xlink=\"http://www.w3.org/1999/xlink\" width=\"800\" height=\"500\" style=\"\" viewBox=\"0 0 800 500\"><rect x=\"0\" y=\"0\" width=\"800\" height=\"500\" style=\"fill: rgb(255, 255, 255); fill-opacity: 1;\"/><defs id=\"defs-930e68\"><g class=\"clips\"><clipPath id=\"clip930e68xyplot\" class=\"plotclip\"><rect width=\"640\" height=\"360\"/></clipPath><clipPath class=\"axesclip\" id=\"clip930e68x\"><rect x=\"80\" y=\"0\" width=\"640\" height=\"500\"/></clipPath><clipPath class=\"axesclip\" id=\"clip930e68y\"><rect x=\"0\" y=\"60\" width=\"800\" height=\"360\"/></clipPath><clipPath class=\"axesclip\" id=\"clip930e68xy\"><rect x=\"80\" y=\"60\" width=\"640\" height=\"360\"/></clipPath></g><g class=\"gradients\"/><g class=\"patterns\"/></defs><g class=\"bglayer\"><rect class=\"bg\" x=\"80\" y=\"60\" width=\"640\" height=\"360\" style=\"fill: rgb(229, 236, 246); fill-opacity: 1; stroke-width: 0;\"/></g><g class=\"layer-below\"><g class=\"imagelayer\"/><g class=\"shapelayer\"/></g><g class=\"cartesianlayer\"><g class=\"subplot xy\"><g class=\"layer-subplot\"><g class=\"shapelayer\"/><g class=\"imagelayer\"/></g><g class=\"minor-gridlayer\"><g class=\"x\"/><g class=\"y\"/></g><g class=\"gridlayer\"><g class=\"x\"><path class=\"xgrid crisp\" transform=\"translate(115.75,0)\" d=\"M0,60v360\" style=\"stroke: rgb(255, 255, 255); stroke-opacity: 1; stroke-width: 1px;\"/><path class=\"xgrid crisp\" transform=\"translate(229.45,0)\" d=\"M0,60v360\" style=\"stroke: rgb(255, 255, 255); stroke-opacity: 1; stroke-width: 1px;\"/><path class=\"xgrid crisp\" transform=\"translate(343.15,0)\" d=\"M0,60v360\" style=\"stroke: rgb(255, 255, 255); stroke-opacity: 1; stroke-width: 1px;\"/><path class=\"xgrid crisp\" transform=\"translate(456.85,0)\" d=\"M0,60v360\" style=\"stroke: rgb(255, 255, 255); stroke-opacity: 1; stroke-width: 1px;\"/><path class=\"xgrid crisp\" transform=\"translate(570.55,0)\" d=\"M0,60v360\" style=\"stroke: rgb(255, 255, 255); stroke-opacity: 1; stroke-width: 1px;\"/><path class=\"xgrid crisp\" transform=\"translate(684.25,0)\" d=\"M0,60v360\" style=\"stroke: rgb(255, 255, 255); stroke-opacity: 1; stroke-width: 1px;\"/></g><g class=\"y\"><path class=\"ygrid crisp\" transform=\"translate(0,367.04)\" d=\"M80,0h640\" style=\"stroke: rgb(255, 255, 255); stroke-opacity: 1; stroke-width: 1px;\"/><path class=\"ygrid crisp\" transform=\"translate(0,314.09000000000003)\" d=\"M80,0h640\" style=\"stroke: rgb(255, 255, 255); stroke-opacity: 1; stroke-width: 1px;\"/><path class=\"ygrid crisp\" transform=\"translate(0,261.13)\" d=\"M80,0h640\" style=\"stroke: rgb(255, 255, 255); stroke-opacity: 1; stroke-width: 1px;\"/><path class=\"ygrid crisp\" transform=\"translate(0,208.17)\" d=\"M80,0h640\" style=\"stroke: rgb(255, 255, 255); stroke-opacity: 1; stroke-width: 1px;\"/><path class=\"ygrid crisp\" transform=\"translate(0,155.22)\" d=\"M80,0h640\" style=\"stroke: rgb(255, 255, 255); stroke-opacity: 1; stroke-width: 1px;\"/><path class=\"ygrid crisp\" transform=\"translate(0,102.25999999999999)\" d=\"M80,0h640\" style=\"stroke: rgb(255, 255, 255); stroke-opacity: 1; stroke-width: 1px;\"/></g></g><g class=\"zerolinelayer\"><path class=\"yzl zl crisp\" transform=\"translate(0,420)\" d=\"M80,0h640\" style=\"stroke: rgb(255, 255, 255); stroke-opacity: 1; stroke-width: 2px;\"/></g><g class=\"layer-between\"><g class=\"shapelayer\"/><g class=\"imagelayer\"/></g><path class=\"xlines-below\"/><path class=\"ylines-below\"/><g class=\"overlines-below\"/><g class=\"xaxislayer-below\"/><g class=\"yaxislayer-below\"/><g class=\"overaxes-below\"/><g class=\"plot\" transform=\"translate(80,60)\" clip-path=\"url(#clip930e68xyplot)\"><g class=\"scatterlayer mlayer\"><g class=\"trace scatter trace75ff0d\" style=\"stroke-miterlimit: 2; opacity: 1;\"><g class=\"fills\"/><g class=\"errorbars\"/><g class=\"lines\"><path class=\"js-line\" d=\"M35.75,221.78L149.45,230.26L263.15,168.83L376.85,32.73L490.55,83.04L604.25,222.31\" style=\"vector-effect: none; fill: none; stroke: rgb(0, 128, 0); stroke-opacity: 1; stroke-width: 2px; opacity: 1;\"/></g><g class=\"points\"><path class=\"point\" transform=\"translate(35.75,221.78)\" d=\"M3,0A3,3 0 1,1 0,-3A3,3 0 0,1 3,0Z\" style=\"opacity: 1; stroke-width: 0px; fill: rgb(0, 128, 0); fill-opacity: 1;\"/><path class=\"point\" transform=\"translate(149.45,230.26)\" d=\"M3,0A3,3 0 1,1 0,-3A3,3 0 0,1 3,0Z\" style=\"opacity: 1; stroke-width: 0px; fill: rgb(0, 128, 0); fill-opacity: 1;\"/><path class=\"point\" transform=\"translate(263.15,168.83)\" d=\"M3,0A3,3 0 1,1 0,-3A3,3 0 0,1 3,0Z\" style=\"opacity: 1; stroke-width: 0px; fill: rgb(0, 128, 0); fill-opacity: 1;\"/><path class=\"point\" transform=\"translate(376.85,32.73)\" d=\"M3,0A3,3 0 1,1 0,-3A3,3 0 0,1 3,0Z\" style=\"opacity: 1; stroke-width: 0px; fill: rgb(0, 128, 0); fill-opacity: 1;\"/><path class=\"point\" transform=\"translate(490.55,83.04)\" d=\"M3,0A3,3 0 1,1 0,-3A3,3 0 0,1 3,0Z\" style=\"opacity: 1; stroke-width: 0px; fill: rgb(0, 128, 0); fill-opacity: 1;\"/><path class=\"point\" transform=\"translate(604.25,222.31)\" d=\"M3,0A3,3 0 1,1 0,-3A3,3 0 0,1 3,0Z\" style=\"opacity: 1; stroke-width: 0px; fill: rgb(0, 128, 0); fill-opacity: 1;\"/></g><g class=\"text\"/></g></g></g><g class=\"overplot\"/><path class=\"xlines-above crisp\" d=\"M0,0\" style=\"fill: none;\"/><path class=\"ylines-above crisp\" d=\"M0,0\" style=\"fill: none;\"/><g class=\"overlines-above\"/><g class=\"xaxislayer-above\"><g class=\"xtick\"><text text-anchor=\"middle\" x=\"0\" y=\"433\" transform=\"translate(115.75,0)\" style=\"font-family: 'Open Sans', verdana, arial, sans-serif; font-size: 12px; fill: rgb(42, 63, 95); fill-opacity: 1; white-space: pre; opacity: 1;\">2019</text></g><g class=\"xtick\"><text text-anchor=\"middle\" x=\"0\" y=\"433\" style=\"font-family: 'Open Sans', verdana, arial, sans-serif; font-size: 12px; fill: rgb(42, 63, 95); fill-opacity: 1; white-space: pre; opacity: 1;\" transform=\"translate(229.45,0)\">2020</text></g><g class=\"xtick\"><text text-anchor=\"middle\" x=\"0\" y=\"433\" style=\"font-family: 'Open Sans', verdana, arial, sans-serif; font-size: 12px; fill: rgb(42, 63, 95); fill-opacity: 1; white-space: pre; opacity: 1;\" transform=\"translate(343.15,0)\">2021</text></g><g class=\"xtick\"><text text-anchor=\"middle\" x=\"0\" y=\"433\" style=\"font-family: 'Open Sans', verdana, arial, sans-serif; font-size: 12px; fill: rgb(42, 63, 95); fill-opacity: 1; white-space: pre; opacity: 1;\" transform=\"translate(456.85,0)\">2022</text></g><g class=\"xtick\"><text text-anchor=\"middle\" x=\"0\" y=\"433\" style=\"font-family: 'Open Sans', verdana, arial, sans-serif; font-size: 12px; fill: rgb(42, 63, 95); fill-opacity: 1; white-space: pre; opacity: 1;\" transform=\"translate(570.55,0)\">2023</text></g><g class=\"xtick\"><text text-anchor=\"middle\" x=\"0\" y=\"433\" style=\"font-family: 'Open Sans', verdana, arial, sans-serif; font-size: 12px; fill: rgb(42, 63, 95); fill-opacity: 1; white-space: pre; opacity: 1;\" transform=\"translate(684.25,0)\">2024</text></g></g><g class=\"yaxislayer-above\"><g class=\"ytick\"><text text-anchor=\"end\" x=\"79\" y=\"4.199999999999999\" transform=\"translate(0,420)\" style=\"font-family: 'Open Sans', verdana, arial, sans-serif; font-size: 12px; fill: rgb(42, 63, 95); fill-opacity: 1; white-space: pre; opacity: 1;\">0</text></g><g class=\"ytick\"><text text-anchor=\"end\" x=\"79\" y=\"4.199999999999999\" style=\"font-family: 'Open Sans', verdana, arial, sans-serif; font-size: 12px; fill: rgb(42, 63, 95); fill-opacity: 1; white-space: pre; opacity: 1;\" transform=\"translate(0,367.04)\">100</text></g><g class=\"ytick\"><text text-anchor=\"end\" x=\"79\" y=\"4.199999999999999\" style=\"font-family: 'Open Sans', verdana, arial, sans-serif; font-size: 12px; fill: rgb(42, 63, 95); fill-opacity: 1; white-space: pre; opacity: 1;\" transform=\"translate(0,314.09000000000003)\">200</text></g><g class=\"ytick\"><text text-anchor=\"end\" x=\"79\" y=\"4.199999999999999\" style=\"font-family: 'Open Sans', verdana, arial, sans-serif; font-size: 12px; fill: rgb(42, 63, 95); fill-opacity: 1; white-space: pre; opacity: 1;\" transform=\"translate(0,261.13)\">300</text></g><g class=\"ytick\"><text text-anchor=\"end\" x=\"79\" y=\"4.199999999999999\" style=\"font-family: 'Open Sans', verdana, arial, sans-serif; font-size: 12px; fill: rgb(42, 63, 95); fill-opacity: 1; white-space: pre; opacity: 1;\" transform=\"translate(0,208.17)\">400</text></g><g class=\"ytick\"><text text-anchor=\"end\" x=\"79\" y=\"4.199999999999999\" style=\"font-family: 'Open Sans', verdana, arial, sans-serif; font-size: 12px; fill: rgb(42, 63, 95); fill-opacity: 1; white-space: pre; opacity: 1;\" transform=\"translate(0,155.22)\">500</text></g><g class=\"ytick\"><text text-anchor=\"end\" x=\"79\" y=\"4.199999999999999\" style=\"font-family: 'Open Sans', verdana, arial, sans-serif; font-size: 12px; fill: rgb(42, 63, 95); fill-opacity: 1; white-space: pre; opacity: 1;\" transform=\"translate(0,102.25999999999999)\">600</text></g></g><g class=\"overaxes-above\"/></g></g><g class=\"polarlayer\"/><g class=\"smithlayer\"/><g class=\"ternarylayer\"/><g class=\"geolayer\"/><g class=\"funnelarealayer\"/><g class=\"pielayer\"/><g class=\"iciclelayer\"/><g class=\"treemaplayer\"/><g class=\"sunburstlayer\"/><g class=\"glimages\"/><defs id=\"topdefs-930e68\"><g class=\"clips\"/></defs><g class=\"layer-above\"><g class=\"imagelayer\"/><g class=\"shapelayer\"/></g><g class=\"infolayer\"><g class=\"g-gtitle\"><text class=\"gtitle\" x=\"400\" y=\"30\" text-anchor=\"middle\" dy=\"0em\" style=\"font-family: 'Open Sans', verdana, arial, sans-serif; font-size: 17px; fill: rgb(42, 63, 95); opacity: 1; font-weight: normal; white-space: pre;\">Yearly Podcast Listening Trends</text></g><g class=\"g-xtitle\"><text class=\"xtitle\" x=\"400\" y=\"460.3\" text-anchor=\"middle\" style=\"font-family: 'Open Sans', verdana, arial, sans-serif; font-size: 14px; fill: rgb(42, 63, 95); opacity: 1; font-weight: normal; white-space: pre;\">Year</text></g><g class=\"g-ytitle\"><text class=\"ytitle\" transform=\"rotate(-90,31.809375000000003,240)\" x=\"31.809375000000003\" y=\"240\" text-anchor=\"middle\" style=\"font-family: 'Open Sans', verdana, arial, sans-serif; font-size: 14px; fill: rgb(42, 63, 95); opacity: 1; font-weight: normal; white-space: pre;\">Total Number of Podcast Episodes</text></g></g></svg>"
      ]
     },
     "metadata": {},
     "output_type": "display_data"
    }
   ],
   "source": [
    "fig = px.line(grouped_data, x='year', y='podcast_count',\n",
    "              labels={'year': 'Year', 'podcast_count': 'Total Episode'},\n",
    "              color_discrete_sequence=['green'],\n",
    "              markers=True)\n",
    "\n",
    "fig.update_layout(title=dict(text='Yearly Podcast Listening Trends', x=0.5),\n",
    "                  xaxis_title='Year',\n",
    "                  yaxis_title='Total Number of Podcast Episodes',\n",
    "                  width=800, height=500,\n",
    "                  yaxis=dict(tickformat=',.0f', range=[0, grouped_data['podcast_count'].max() * 1.1]))\n",
    "fig.show()"
   ]
  },
  {
   "cell_type": "markdown",
   "metadata": {},
   "source": [
    "#### **Monthly podcast streaming trend**"
   ]
  },
  {
   "cell_type": "code",
   "execution_count": 232,
   "metadata": {},
   "outputs": [
    {
     "data": {
      "image/svg+xml": [
       "<svg class=\"main-svg\" xmlns=\"http://www.w3.org/2000/svg\" xmlns:xlink=\"http://www.w3.org/1999/xlink\" width=\"1100\" height=\"500\" style=\"\" viewBox=\"0 0 1100 500\"><rect x=\"0\" y=\"0\" width=\"1100\" height=\"500\" style=\"fill: rgb(255, 255, 255); fill-opacity: 1;\"/><defs id=\"defs-ddb23d\"><g class=\"clips\"><clipPath id=\"clipddb23dxyplot\" class=\"plotclip\"><rect width=\"940\" height=\"320\"/></clipPath><clipPath class=\"axesclip\" id=\"clipddb23dx\"><rect x=\"80\" y=\"0\" width=\"940\" height=\"500\"/></clipPath><clipPath class=\"axesclip\" id=\"clipddb23dy\"><rect x=\"0\" y=\"100\" width=\"1100\" height=\"320\"/></clipPath><clipPath class=\"axesclip\" id=\"clipddb23dxy\"><rect x=\"80\" y=\"100\" width=\"940\" height=\"320\"/></clipPath></g><g class=\"gradients\"/><g class=\"patterns\"/></defs><g class=\"bglayer\"><rect class=\"bg\" x=\"80\" y=\"100\" width=\"940\" height=\"320\" style=\"fill: rgb(229, 236, 246); fill-opacity: 1; stroke-width: 0;\"/></g><g class=\"layer-below\"><g class=\"imagelayer\"/><g class=\"shapelayer\"><g class=\"shape-group\" data-index=\"0\" clip-path=\"url(#clipddb23dx)\"><path data-index=\"0\" fill-rule=\"evenodd\" d=\"M736.38,420H763.91V100H736.38Z\" style=\"opacity: 1; stroke: rgb(0, 0, 0); stroke-opacity: 0; fill: rgb(0, 255, 0); fill-opacity: 0.2; stroke-width: 0px;\"/></g><g class=\"shape-group\" data-index=\"1\" clip-path=\"url(#clipddb23dx)\"><path data-index=\"1\" fill-rule=\"evenodd\" d=\"M928.63,420H969.7V100H928.63Z\" style=\"opacity: 1; stroke: rgb(0, 0, 0); stroke-opacity: 0; fill: rgb(0, 255, 0); fill-opacity: 0.2; stroke-width: 0px;\"/></g></g></g><g class=\"cartesianlayer\"><g class=\"subplot xy\"><g class=\"layer-subplot\"><g class=\"shapelayer\"/><g class=\"imagelayer\"/></g><g class=\"minor-gridlayer\"><g class=\"x\"/><g class=\"y\"/></g><g class=\"gridlayer\"><g class=\"x\"><path class=\"xgrid crisp\" transform=\"translate(104.58,0)\" d=\"M0,100v320\" style=\"stroke: rgb(255, 255, 255); stroke-opacity: 1; stroke-width: 1px;\"/><path class=\"xgrid crisp\" transform=\"translate(269.3,0)\" d=\"M0,100v320\" style=\"stroke: rgb(255, 255, 255); stroke-opacity: 1; stroke-width: 1px;\"/><path class=\"xgrid crisp\" transform=\"translate(434.47,0)\" d=\"M0,100v320\" style=\"stroke: rgb(255, 255, 255); stroke-opacity: 1; stroke-width: 1px;\"/><path class=\"xgrid crisp\" transform=\"translate(599.19,0)\" d=\"M0,100v320\" style=\"stroke: rgb(255, 255, 255); stroke-opacity: 1; stroke-width: 1px;\"/><path class=\"xgrid crisp\" transform=\"translate(763.91,0)\" d=\"M0,100v320\" style=\"stroke: rgb(255, 255, 255); stroke-opacity: 1; stroke-width: 1px;\"/><path class=\"xgrid crisp\" transform=\"translate(928.63,0)\" d=\"M0,100v320\" style=\"stroke: rgb(255, 255, 255); stroke-opacity: 1; stroke-width: 1px;\"/></g><g class=\"y\"><path class=\"ygrid crisp\" transform=\"translate(0,342.37)\" d=\"M80,0h940\" style=\"stroke: rgb(255, 255, 255); stroke-opacity: 1; stroke-width: 1px;\"/><path class=\"ygrid crisp\" transform=\"translate(0,284.48)\" d=\"M80,0h940\" style=\"stroke: rgb(255, 255, 255); stroke-opacity: 1; stroke-width: 1px;\"/><path class=\"ygrid crisp\" transform=\"translate(0,226.6)\" d=\"M80,0h940\" style=\"stroke: rgb(255, 255, 255); stroke-opacity: 1; stroke-width: 1px;\"/><path class=\"ygrid crisp\" transform=\"translate(0,168.72)\" d=\"M80,0h940\" style=\"stroke: rgb(255, 255, 255); stroke-opacity: 1; stroke-width: 1px;\"/><path class=\"ygrid crisp\" transform=\"translate(0,110.84)\" d=\"M80,0h940\" style=\"stroke: rgb(255, 255, 255); stroke-opacity: 1; stroke-width: 1px;\"/></g></g><g class=\"zerolinelayer\"><path class=\"yzl zl crisp\" transform=\"translate(0,400.25)\" d=\"M80,0h940\" style=\"stroke: rgb(255, 255, 255); stroke-opacity: 1; stroke-width: 2px;\"/></g><g class=\"layer-between\"><g class=\"shapelayer\"/><g class=\"imagelayer\"/></g><path class=\"xlines-below\"/><path class=\"ylines-below\"/><g class=\"overlines-below\"/><g class=\"xaxislayer-below\"/><g class=\"yaxislayer-below\"/><g class=\"overaxes-below\"/><g class=\"plot\" transform=\"translate(80,100)\" clip-path=\"url(#clipddb23dxyplot)\"><g class=\"scatterlayer mlayer\"><g class=\"trace scatter tracefab1fe\" style=\"stroke-miterlimit: 2; opacity: 1;\"><g class=\"fills\"/><g class=\"errorbars\"/><g class=\"lines\"><path class=\"js-line\" d=\"M50.75,299.32L64.74,300.25L78.28,300.25L92.27,278.83L105.81,167.58L119.8,266.56L133.79,241.09L147.33,200.46L161.32,277.56L174.86,218.4L188.85,285.9L202.84,276.63L215.92,283.23L229.91,269.46L243.45,293.19L257.44,243.76L270.98,274.55L284.97,254.18L298.96,218.52L312.5,296.55L326.49,220.95L340.03,236.46L354.02,276.05L368.01,300.25L380.64,273.39L394.63,285.78L408.17,289.95L422.16,261.12L435.7,262.86L449.69,253.25L463.68,281.61L477.22,225.81L491.21,234.15L504.75,269.46L518.74,231.6L532.73,236.81L545.37,236L559.36,222.69L572.89,267.6L586.88,300.25L600.42,300.25L628.4,300.25L641.94,152.88L655.93,118.85L669.47,19.75L683.46,133.32L697.45,185.53L710.09,261.47L724.08,242.95L737.62,246.53L751.61,248.39L765.14,284.27L779.13,242.14L793.12,290.64L806.66,267.72L820.65,259.5L834.19,223.27L848.18,266.68L862.17,261.35L875.26,233.22L889.25,147.56\" style=\"vector-effect: none; fill: none; stroke: rgb(0, 128, 0); stroke-opacity: 1; stroke-width: 2px; opacity: 1;\"/></g><g class=\"points\"><path class=\"point\" transform=\"translate(50.75,299.32)\" d=\"M3,0A3,3 0 1,1 0,-3A3,3 0 0,1 3,0Z\" style=\"opacity: 1; stroke-width: 0px; fill: rgb(0, 128, 0); fill-opacity: 1;\"/><path class=\"point\" transform=\"translate(64.74,300.25)\" d=\"M3,0A3,3 0 1,1 0,-3A3,3 0 0,1 3,0Z\" style=\"opacity: 1; stroke-width: 0px; fill: rgb(0, 128, 0); fill-opacity: 1;\"/><path class=\"point\" transform=\"translate(78.28,300.25)\" d=\"M3,0A3,3 0 1,1 0,-3A3,3 0 0,1 3,0Z\" style=\"opacity: 1; stroke-width: 0px; fill: rgb(0, 128, 0); fill-opacity: 1;\"/><path class=\"point\" transform=\"translate(92.27,278.83)\" d=\"M3,0A3,3 0 1,1 0,-3A3,3 0 0,1 3,0Z\" style=\"opacity: 1; stroke-width: 0px; fill: rgb(0, 128, 0); fill-opacity: 1;\"/><path class=\"point\" transform=\"translate(105.81,167.58)\" d=\"M3,0A3,3 0 1,1 0,-3A3,3 0 0,1 3,0Z\" style=\"opacity: 1; stroke-width: 0px; fill: rgb(0, 128, 0); fill-opacity: 1;\"/><path class=\"point\" transform=\"translate(119.8,266.56)\" d=\"M3,0A3,3 0 1,1 0,-3A3,3 0 0,1 3,0Z\" style=\"opacity: 1; stroke-width: 0px; fill: rgb(0, 128, 0); fill-opacity: 1;\"/><path class=\"point\" transform=\"translate(133.79,241.09)\" d=\"M3,0A3,3 0 1,1 0,-3A3,3 0 0,1 3,0Z\" style=\"opacity: 1; stroke-width: 0px; fill: rgb(0, 128, 0); fill-opacity: 1;\"/><path class=\"point\" transform=\"translate(147.33,200.46)\" d=\"M3,0A3,3 0 1,1 0,-3A3,3 0 0,1 3,0Z\" style=\"opacity: 1; stroke-width: 0px; fill: rgb(0, 128, 0); fill-opacity: 1;\"/><path class=\"point\" transform=\"translate(161.32,277.56)\" d=\"M3,0A3,3 0 1,1 0,-3A3,3 0 0,1 3,0Z\" style=\"opacity: 1; stroke-width: 0px; fill: rgb(0, 128, 0); fill-opacity: 1;\"/><path class=\"point\" transform=\"translate(174.86,218.4)\" d=\"M3,0A3,3 0 1,1 0,-3A3,3 0 0,1 3,0Z\" style=\"opacity: 1; stroke-width: 0px; fill: rgb(0, 128, 0); fill-opacity: 1;\"/><path class=\"point\" transform=\"translate(188.85,285.9)\" d=\"M3,0A3,3 0 1,1 0,-3A3,3 0 0,1 3,0Z\" style=\"opacity: 1; stroke-width: 0px; fill: rgb(0, 128, 0); fill-opacity: 1;\"/><path class=\"point\" transform=\"translate(202.84,276.63)\" d=\"M3,0A3,3 0 1,1 0,-3A3,3 0 0,1 3,0Z\" style=\"opacity: 1; stroke-width: 0px; fill: rgb(0, 128, 0); fill-opacity: 1;\"/><path class=\"point\" transform=\"translate(215.92,283.23)\" d=\"M3,0A3,3 0 1,1 0,-3A3,3 0 0,1 3,0Z\" style=\"opacity: 1; stroke-width: 0px; fill: rgb(0, 128, 0); fill-opacity: 1;\"/><path class=\"point\" transform=\"translate(229.91,269.46)\" d=\"M3,0A3,3 0 1,1 0,-3A3,3 0 0,1 3,0Z\" style=\"opacity: 1; stroke-width: 0px; fill: rgb(0, 128, 0); fill-opacity: 1;\"/><path class=\"point\" transform=\"translate(243.45,293.19)\" d=\"M3,0A3,3 0 1,1 0,-3A3,3 0 0,1 3,0Z\" style=\"opacity: 1; stroke-width: 0px; fill: rgb(0, 128, 0); fill-opacity: 1;\"/><path class=\"point\" transform=\"translate(257.44,243.76)\" d=\"M3,0A3,3 0 1,1 0,-3A3,3 0 0,1 3,0Z\" style=\"opacity: 1; stroke-width: 0px; fill: rgb(0, 128, 0); fill-opacity: 1;\"/><path class=\"point\" transform=\"translate(270.98,274.55)\" d=\"M3,0A3,3 0 1,1 0,-3A3,3 0 0,1 3,0Z\" style=\"opacity: 1; stroke-width: 0px; fill: rgb(0, 128, 0); fill-opacity: 1;\"/><path class=\"point\" transform=\"translate(284.97,254.18)\" d=\"M3,0A3,3 0 1,1 0,-3A3,3 0 0,1 3,0Z\" style=\"opacity: 1; stroke-width: 0px; fill: rgb(0, 128, 0); fill-opacity: 1;\"/><path class=\"point\" transform=\"translate(298.96,218.52)\" d=\"M3,0A3,3 0 1,1 0,-3A3,3 0 0,1 3,0Z\" style=\"opacity: 1; stroke-width: 0px; fill: rgb(0, 128, 0); fill-opacity: 1;\"/><path class=\"point\" transform=\"translate(312.5,296.55)\" d=\"M3,0A3,3 0 1,1 0,-3A3,3 0 0,1 3,0Z\" style=\"opacity: 1; stroke-width: 0px; fill: rgb(0, 128, 0); fill-opacity: 1;\"/><path class=\"point\" transform=\"translate(326.49,220.95)\" d=\"M3,0A3,3 0 1,1 0,-3A3,3 0 0,1 3,0Z\" style=\"opacity: 1; stroke-width: 0px; fill: rgb(0, 128, 0); fill-opacity: 1;\"/><path class=\"point\" transform=\"translate(340.03,236.46)\" d=\"M3,0A3,3 0 1,1 0,-3A3,3 0 0,1 3,0Z\" style=\"opacity: 1; stroke-width: 0px; fill: rgb(0, 128, 0); fill-opacity: 1;\"/><path class=\"point\" transform=\"translate(354.02,276.05)\" d=\"M3,0A3,3 0 1,1 0,-3A3,3 0 0,1 3,0Z\" style=\"opacity: 1; stroke-width: 0px; fill: rgb(0, 128, 0); fill-opacity: 1;\"/><path class=\"point\" transform=\"translate(368.01,300.25)\" d=\"M3,0A3,3 0 1,1 0,-3A3,3 0 0,1 3,0Z\" style=\"opacity: 1; stroke-width: 0px; fill: rgb(0, 128, 0); fill-opacity: 1;\"/><path class=\"point\" transform=\"translate(380.64,273.39)\" d=\"M3,0A3,3 0 1,1 0,-3A3,3 0 0,1 3,0Z\" style=\"opacity: 1; stroke-width: 0px; fill: rgb(0, 128, 0); fill-opacity: 1;\"/><path class=\"point\" transform=\"translate(394.63,285.78)\" d=\"M3,0A3,3 0 1,1 0,-3A3,3 0 0,1 3,0Z\" style=\"opacity: 1; stroke-width: 0px; fill: rgb(0, 128, 0); fill-opacity: 1;\"/><path class=\"point\" transform=\"translate(408.17,289.95)\" d=\"M3,0A3,3 0 1,1 0,-3A3,3 0 0,1 3,0Z\" style=\"opacity: 1; stroke-width: 0px; fill: rgb(0, 128, 0); fill-opacity: 1;\"/><path class=\"point\" transform=\"translate(422.16,261.12)\" d=\"M3,0A3,3 0 1,1 0,-3A3,3 0 0,1 3,0Z\" style=\"opacity: 1; stroke-width: 0px; fill: rgb(0, 128, 0); fill-opacity: 1;\"/><path class=\"point\" transform=\"translate(435.7,262.86)\" d=\"M3,0A3,3 0 1,1 0,-3A3,3 0 0,1 3,0Z\" style=\"opacity: 1; stroke-width: 0px; fill: rgb(0, 128, 0); fill-opacity: 1;\"/><path class=\"point\" transform=\"translate(449.69,253.25)\" d=\"M3,0A3,3 0 1,1 0,-3A3,3 0 0,1 3,0Z\" style=\"opacity: 1; stroke-width: 0px; fill: rgb(0, 128, 0); fill-opacity: 1;\"/><path class=\"point\" transform=\"translate(463.68,281.61)\" d=\"M3,0A3,3 0 1,1 0,-3A3,3 0 0,1 3,0Z\" style=\"opacity: 1; stroke-width: 0px; fill: rgb(0, 128, 0); fill-opacity: 1;\"/><path class=\"point\" transform=\"translate(477.22,225.81)\" d=\"M3,0A3,3 0 1,1 0,-3A3,3 0 0,1 3,0Z\" style=\"opacity: 1; stroke-width: 0px; fill: rgb(0, 128, 0); fill-opacity: 1;\"/><path class=\"point\" transform=\"translate(491.21,234.15)\" d=\"M3,0A3,3 0 1,1 0,-3A3,3 0 0,1 3,0Z\" style=\"opacity: 1; stroke-width: 0px; fill: rgb(0, 128, 0); fill-opacity: 1;\"/><path class=\"point\" transform=\"translate(504.75,269.46)\" d=\"M3,0A3,3 0 1,1 0,-3A3,3 0 0,1 3,0Z\" style=\"opacity: 1; stroke-width: 0px; fill: rgb(0, 128, 0); fill-opacity: 1;\"/><path class=\"point\" transform=\"translate(518.74,231.6)\" d=\"M3,0A3,3 0 1,1 0,-3A3,3 0 0,1 3,0Z\" style=\"opacity: 1; stroke-width: 0px; fill: rgb(0, 128, 0); fill-opacity: 1;\"/><path class=\"point\" transform=\"translate(532.73,236.81)\" d=\"M3,0A3,3 0 1,1 0,-3A3,3 0 0,1 3,0Z\" style=\"opacity: 1; stroke-width: 0px; fill: rgb(0, 128, 0); fill-opacity: 1;\"/><path class=\"point\" transform=\"translate(545.37,236)\" d=\"M3,0A3,3 0 1,1 0,-3A3,3 0 0,1 3,0Z\" style=\"opacity: 1; stroke-width: 0px; fill: rgb(0, 128, 0); fill-opacity: 1;\"/><path class=\"point\" transform=\"translate(559.36,222.69)\" d=\"M3,0A3,3 0 1,1 0,-3A3,3 0 0,1 3,0Z\" style=\"opacity: 1; stroke-width: 0px; fill: rgb(0, 128, 0); fill-opacity: 1;\"/><path class=\"point\" transform=\"translate(572.89,267.6)\" d=\"M3,0A3,3 0 1,1 0,-3A3,3 0 0,1 3,0Z\" style=\"opacity: 1; stroke-width: 0px; fill: rgb(0, 128, 0); fill-opacity: 1;\"/><path class=\"point\" transform=\"translate(586.88,300.25)\" d=\"M3,0A3,3 0 1,1 0,-3A3,3 0 0,1 3,0Z\" style=\"opacity: 1; stroke-width: 0px; fill: rgb(0, 128, 0); fill-opacity: 1;\"/><path class=\"point\" transform=\"translate(600.42,300.25)\" d=\"M3,0A3,3 0 1,1 0,-3A3,3 0 0,1 3,0Z\" style=\"opacity: 1; stroke-width: 0px; fill: rgb(0, 128, 0); fill-opacity: 1;\"/><path class=\"point\" transform=\"translate(614.41,300.25)\" d=\"M3,0A3,3 0 1,1 0,-3A3,3 0 0,1 3,0Z\" style=\"opacity: 1; stroke-width: 0px; fill: rgb(0, 128, 0); fill-opacity: 1;\"/><path class=\"point\" transform=\"translate(628.4,300.25)\" d=\"M3,0A3,3 0 1,1 0,-3A3,3 0 0,1 3,0Z\" style=\"opacity: 1; stroke-width: 0px; fill: rgb(0, 128, 0); fill-opacity: 1;\"/><path class=\"point\" transform=\"translate(641.94,152.88)\" d=\"M3,0A3,3 0 1,1 0,-3A3,3 0 0,1 3,0Z\" style=\"opacity: 1; stroke-width: 0px; fill: rgb(0, 128, 0); fill-opacity: 1;\"/><path class=\"point\" transform=\"translate(655.93,118.85)\" d=\"M3,0A3,3 0 1,1 0,-3A3,3 0 0,1 3,0Z\" style=\"opacity: 1; stroke-width: 0px; fill: rgb(0, 128, 0); fill-opacity: 1;\"/><path class=\"point\" transform=\"translate(669.47,19.75)\" d=\"M3,0A3,3 0 1,1 0,-3A3,3 0 0,1 3,0Z\" style=\"opacity: 1; stroke-width: 0px; fill: rgb(0, 128, 0); fill-opacity: 1;\"/><path class=\"point\" transform=\"translate(683.46,133.32)\" d=\"M3,0A3,3 0 1,1 0,-3A3,3 0 0,1 3,0Z\" style=\"opacity: 1; stroke-width: 0px; fill: rgb(0, 128, 0); fill-opacity: 1;\"/><path class=\"point\" transform=\"translate(697.45,185.53)\" d=\"M3,0A3,3 0 1,1 0,-3A3,3 0 0,1 3,0Z\" style=\"opacity: 1; stroke-width: 0px; fill: rgb(0, 128, 0); fill-opacity: 1;\"/><path class=\"point\" transform=\"translate(710.09,261.47)\" d=\"M3,0A3,3 0 1,1 0,-3A3,3 0 0,1 3,0Z\" style=\"opacity: 1; stroke-width: 0px; fill: rgb(0, 128, 0); fill-opacity: 1;\"/><path class=\"point\" transform=\"translate(724.08,242.95)\" d=\"M3,0A3,3 0 1,1 0,-3A3,3 0 0,1 3,0Z\" style=\"opacity: 1; stroke-width: 0px; fill: rgb(0, 128, 0); fill-opacity: 1;\"/><path class=\"point\" transform=\"translate(737.62,246.53)\" d=\"M3,0A3,3 0 1,1 0,-3A3,3 0 0,1 3,0Z\" style=\"opacity: 1; stroke-width: 0px; fill: rgb(0, 128, 0); fill-opacity: 1;\"/><path class=\"point\" transform=\"translate(751.61,248.39)\" d=\"M3,0A3,3 0 1,1 0,-3A3,3 0 0,1 3,0Z\" style=\"opacity: 1; stroke-width: 0px; fill: rgb(0, 128, 0); fill-opacity: 1;\"/><path class=\"point\" transform=\"translate(765.14,284.27)\" d=\"M3,0A3,3 0 1,1 0,-3A3,3 0 0,1 3,0Z\" style=\"opacity: 1; stroke-width: 0px; fill: rgb(0, 128, 0); fill-opacity: 1;\"/><path class=\"point\" transform=\"translate(779.13,242.14)\" d=\"M3,0A3,3 0 1,1 0,-3A3,3 0 0,1 3,0Z\" style=\"opacity: 1; stroke-width: 0px; fill: rgb(0, 128, 0); fill-opacity: 1;\"/><path class=\"point\" transform=\"translate(793.12,290.64)\" d=\"M3,0A3,3 0 1,1 0,-3A3,3 0 0,1 3,0Z\" style=\"opacity: 1; stroke-width: 0px; fill: rgb(0, 128, 0); fill-opacity: 1;\"/><path class=\"point\" transform=\"translate(806.66,267.72)\" d=\"M3,0A3,3 0 1,1 0,-3A3,3 0 0,1 3,0Z\" style=\"opacity: 1; stroke-width: 0px; fill: rgb(0, 128, 0); fill-opacity: 1;\"/><path class=\"point\" transform=\"translate(820.65,259.5)\" d=\"M3,0A3,3 0 1,1 0,-3A3,3 0 0,1 3,0Z\" style=\"opacity: 1; stroke-width: 0px; fill: rgb(0, 128, 0); fill-opacity: 1;\"/><path class=\"point\" transform=\"translate(834.19,223.27)\" d=\"M3,0A3,3 0 1,1 0,-3A3,3 0 0,1 3,0Z\" style=\"opacity: 1; stroke-width: 0px; fill: rgb(0, 128, 0); fill-opacity: 1;\"/><path class=\"point\" transform=\"translate(848.18,266.68)\" d=\"M3,0A3,3 0 1,1 0,-3A3,3 0 0,1 3,0Z\" style=\"opacity: 1; stroke-width: 0px; fill: rgb(0, 128, 0); fill-opacity: 1;\"/><path class=\"point\" transform=\"translate(862.17,261.35)\" d=\"M3,0A3,3 0 1,1 0,-3A3,3 0 0,1 3,0Z\" style=\"opacity: 1; stroke-width: 0px; fill: rgb(0, 128, 0); fill-opacity: 1;\"/><path class=\"point\" transform=\"translate(875.26,233.22)\" d=\"M3,0A3,3 0 1,1 0,-3A3,3 0 0,1 3,0Z\" style=\"opacity: 1; stroke-width: 0px; fill: rgb(0, 128, 0); fill-opacity: 1;\"/><path class=\"point\" transform=\"translate(889.25,147.56)\" d=\"M3,0A3,3 0 1,1 0,-3A3,3 0 0,1 3,0Z\" style=\"opacity: 1; stroke-width: 0px; fill: rgb(0, 128, 0); fill-opacity: 1;\"/></g><g class=\"text\"/></g></g></g><g class=\"overplot\"/><path class=\"xlines-above crisp\" d=\"M0,0\" style=\"fill: none;\"/><path class=\"ylines-above crisp\" d=\"M0,0\" style=\"fill: none;\"/><g class=\"overlines-above\"/><g class=\"xaxislayer-above\"><g class=\"xtick\"><text text-anchor=\"middle\" x=\"0\" y=\"433\" transform=\"translate(104.58,0)\" style=\"font-family: 'Open Sans', verdana, arial, sans-serif; font-size: 12px; fill: rgb(42, 63, 95); fill-opacity: 1; white-space: pre; opacity: 1;\">2019</text></g><g class=\"xtick\"><text text-anchor=\"middle\" x=\"0\" y=\"433\" style=\"font-family: 'Open Sans', verdana, arial, sans-serif; font-size: 12px; fill: rgb(42, 63, 95); fill-opacity: 1; white-space: pre; opacity: 1;\" transform=\"translate(269.3,0)\">2020</text></g><g class=\"xtick\"><text text-anchor=\"middle\" x=\"0\" y=\"433\" style=\"font-family: 'Open Sans', verdana, arial, sans-serif; font-size: 12px; fill: rgb(42, 63, 95); fill-opacity: 1; white-space: pre; opacity: 1;\" transform=\"translate(434.47,0)\">2021</text></g><g class=\"xtick\"><text text-anchor=\"middle\" x=\"0\" y=\"433\" style=\"font-family: 'Open Sans', verdana, arial, sans-serif; font-size: 12px; fill: rgb(42, 63, 95); fill-opacity: 1; white-space: pre; opacity: 1;\" transform=\"translate(599.19,0)\">2022</text></g><g class=\"xtick\"><text text-anchor=\"middle\" x=\"0\" y=\"433\" style=\"font-family: 'Open Sans', verdana, arial, sans-serif; font-size: 12px; fill: rgb(42, 63, 95); fill-opacity: 1; white-space: pre; opacity: 1;\" transform=\"translate(763.91,0)\">2023</text></g><g class=\"xtick\"><text text-anchor=\"middle\" x=\"0\" y=\"433\" style=\"font-family: 'Open Sans', verdana, arial, sans-serif; font-size: 12px; fill: rgb(42, 63, 95); fill-opacity: 1; white-space: pre; opacity: 1;\" transform=\"translate(928.63,0)\">2024</text></g></g><g class=\"yaxislayer-above\"><g class=\"ytick\"><text text-anchor=\"end\" x=\"79\" y=\"4.199999999999999\" transform=\"translate(0,400.25)\" style=\"font-family: 'Open Sans', verdana, arial, sans-serif; font-size: 12px; fill: rgb(42, 63, 95); fill-opacity: 1; white-space: pre; opacity: 1;\">0</text></g><g class=\"ytick\"><text text-anchor=\"end\" x=\"79\" y=\"4.199999999999999\" style=\"font-family: 'Open Sans', verdana, arial, sans-serif; font-size: 12px; fill: rgb(42, 63, 95); fill-opacity: 1; white-space: pre; opacity: 1;\" transform=\"translate(0,342.37)\">5</text></g><g class=\"ytick\"><text text-anchor=\"end\" x=\"79\" y=\"4.199999999999999\" style=\"font-family: 'Open Sans', verdana, arial, sans-serif; font-size: 12px; fill: rgb(42, 63, 95); fill-opacity: 1; white-space: pre; opacity: 1;\" transform=\"translate(0,284.48)\">10</text></g><g class=\"ytick\"><text text-anchor=\"end\" x=\"79\" y=\"4.199999999999999\" style=\"font-family: 'Open Sans', verdana, arial, sans-serif; font-size: 12px; fill: rgb(42, 63, 95); fill-opacity: 1; white-space: pre; opacity: 1;\" transform=\"translate(0,226.6)\">15</text></g><g class=\"ytick\"><text text-anchor=\"end\" x=\"79\" y=\"4.199999999999999\" style=\"font-family: 'Open Sans', verdana, arial, sans-serif; font-size: 12px; fill: rgb(42, 63, 95); fill-opacity: 1; white-space: pre; opacity: 1;\" transform=\"translate(0,168.72)\">20</text></g><g class=\"ytick\"><text text-anchor=\"end\" x=\"79\" y=\"4.199999999999999\" style=\"font-family: 'Open Sans', verdana, arial, sans-serif; font-size: 12px; fill: rgb(42, 63, 95); fill-opacity: 1; white-space: pre; opacity: 1;\" transform=\"translate(0,110.84)\">25</text></g></g><g class=\"overaxes-above\"/></g></g><g class=\"polarlayer\"/><g class=\"smithlayer\"/><g class=\"ternarylayer\"/><g class=\"geolayer\"/><g class=\"funnelarealayer\"/><g class=\"pielayer\"/><g class=\"iciclelayer\"/><g class=\"treemaplayer\"/><g class=\"sunburstlayer\"/><g class=\"glimages\"/><defs id=\"topdefs-ddb23d\"><g class=\"clips\"/></defs><g class=\"layer-above\"><g class=\"imagelayer\"/><g class=\"shapelayer\"/></g><g class=\"infolayer\"><g class=\"g-gtitle\"><text class=\"gtitle\" x=\"550\" y=\"50\" text-anchor=\"middle\" dy=\"0em\" style=\"font-family: 'Open Sans', verdana, arial, sans-serif; font-size: 17px; fill: rgb(42, 63, 95); opacity: 1; font-weight: normal; white-space: pre;\">Monthly Music Streaming Trends Over Time</text></g><g class=\"g-xtitle\"><text class=\"xtitle\" x=\"550\" y=\"460.3\" text-anchor=\"middle\" style=\"font-family: 'Open Sans', verdana, arial, sans-serif; font-size: 14px; fill: rgb(42, 63, 95); opacity: 1; font-weight: normal; white-space: pre;\">Month-Year</text></g><g class=\"g-ytitle\"><text class=\"ytitle\" transform=\"rotate(-90,39.434375,260)\" x=\"39.434375\" y=\"260\" text-anchor=\"middle\" style=\"font-family: 'Open Sans', verdana, arial, sans-serif; font-size: 14px; fill: rgb(42, 63, 95); opacity: 1; font-weight: normal; white-space: pre;\">Hours Played</text></g></g></svg>"
      ]
     },
     "metadata": {},
     "output_type": "display_data"
    }
   ],
   "source": [
    "# Set 'ts' column as the index\n",
    "indexed = spotify_podcast.set_index('ts', inplace=False)\n",
    "\n",
    "# Resample the data on a monthly basis\n",
    "streaming_trends = indexed.resample('M').sum()\n",
    "\n",
    "# Create a line plot using Plotly Express\n",
    "fig = px.line(streaming_trends, x=streaming_trends.index, y=(streaming_trends['ms_played'] / (1000 * 60 * 60)).round(2),\n",
    "              labels={'ts': 'Month-Year', 'y': 'Hours Played'},\n",
    "              title='Monthly Audio Streaming Trends Over Time',\n",
    "              color_discrete_sequence=['green'], markers=True)\n",
    "\n",
    "fig.add_vrect(x0=\"2022-11-01\", x1=\"2023-01-01\", fillcolor=\"rgba(0,255,0,0.2)\", layer=\"below\", line_width=0)\n",
    "fig.add_vrect(x0=\"2024-01-01\", x1=\"2024-04-01\", fillcolor=\"rgba(0,255,0,0.2)\", layer=\"below\", line_width=0)\n",
    "\n",
    "fig.update_layout(title=dict(text='Monthly Music Streaming Trends Over Time', x=0.5),\n",
    "                  xaxis_title='Month-Year',\n",
    "                  yaxis_title='Hours Played',\n",
    "                  width=1100, height=500)\n",
    "fig.show()"
   ]
  },
  {
   "cell_type": "markdown",
   "metadata": {},
   "source": [
    "#### **Weekly podcast streaming trend**"
   ]
  },
  {
   "cell_type": "code",
   "execution_count": 233,
   "metadata": {},
   "outputs": [
    {
     "data": {
      "image/svg+xml": [
       "<svg class=\"main-svg\" xmlns=\"http://www.w3.org/2000/svg\" xmlns:xlink=\"http://www.w3.org/1999/xlink\" width=\"800\" height=\"500\" style=\"\" viewBox=\"0 0 800 500\"><rect x=\"0\" y=\"0\" width=\"800\" height=\"500\" style=\"fill: rgb(255, 255, 255); fill-opacity: 1;\"/><defs id=\"defs-5b061f\"><g class=\"clips\"><clipPath id=\"clip5b061fxyplot\" class=\"plotclip\"><rect width=\"640\" height=\"320\"/></clipPath><clipPath class=\"axesclip\" id=\"clip5b061fx\"><rect x=\"80\" y=\"0\" width=\"640\" height=\"500\"/></clipPath><clipPath class=\"axesclip\" id=\"clip5b061fy\"><rect x=\"0\" y=\"100\" width=\"800\" height=\"320\"/></clipPath><clipPath class=\"axesclip\" id=\"clip5b061fxy\"><rect x=\"80\" y=\"100\" width=\"640\" height=\"320\"/></clipPath></g><g class=\"gradients\"/><g class=\"patterns\"/></defs><g class=\"bglayer\"><rect class=\"bg\" x=\"80\" y=\"100\" width=\"640\" height=\"320\" style=\"fill: rgb(229, 236, 246); fill-opacity: 1; stroke-width: 0;\"/></g><g class=\"layer-below\"><g class=\"imagelayer\"/><g class=\"shapelayer\"/></g><g class=\"cartesianlayer\"><g class=\"subplot xy\"><g class=\"layer-subplot\"><g class=\"shapelayer\"/><g class=\"imagelayer\"/></g><g class=\"minor-gridlayer\"><g class=\"x\"/><g class=\"y\"/></g><g class=\"gridlayer\"><g class=\"x\"/><g class=\"y\"><path class=\"ygrid crisp\" transform=\"translate(0,358.9)\" d=\"M80,0h640\" style=\"stroke: rgb(255, 255, 255); stroke-opacity: 1; stroke-width: 1px;\"/><path class=\"ygrid crisp\" transform=\"translate(0,297.8)\" d=\"M80,0h640\" style=\"stroke: rgb(255, 255, 255); stroke-opacity: 1; stroke-width: 1px;\"/><path class=\"ygrid crisp\" transform=\"translate(0,236.69)\" d=\"M80,0h640\" style=\"stroke: rgb(255, 255, 255); stroke-opacity: 1; stroke-width: 1px;\"/><path class=\"ygrid crisp\" transform=\"translate(0,175.59)\" d=\"M80,0h640\" style=\"stroke: rgb(255, 255, 255); stroke-opacity: 1; stroke-width: 1px;\"/><path class=\"ygrid crisp\" transform=\"translate(0,114.49)\" d=\"M80,0h640\" style=\"stroke: rgb(255, 255, 255); stroke-opacity: 1; stroke-width: 1px;\"/></g></g><g class=\"zerolinelayer\"><path class=\"yzl zl crisp\" transform=\"translate(0,420)\" d=\"M80,0h640\" style=\"stroke: rgb(255, 255, 255); stroke-opacity: 1; stroke-width: 2px;\"/></g><g class=\"layer-between\"><g class=\"shapelayer\"/><g class=\"imagelayer\"/></g><path class=\"xlines-below\"/><path class=\"ylines-below\"/><g class=\"overlines-below\"/><g class=\"xaxislayer-below\"/><g class=\"yaxislayer-below\"/><g class=\"overaxes-below\"/><g class=\"plot\" transform=\"translate(80,100)\" clip-path=\"url(#clip5b061fxyplot)\"><g class=\"barlayer mlayer\"><g class=\"trace bars\" style=\"opacity: 1;\"><g class=\"points\"><g class=\"point\"><path d=\"M9.14,320V48.17H82.29V320Z\" style=\"vector-effect: none; opacity: 1; stroke-width: 0.5px; fill: rgb(0, 128, 0); fill-opacity: 1; stroke: rgb(229, 236, 246); stroke-opacity: 1;\"/><text class=\"bartext bartext-inside\" text-anchor=\"middle\" data-notex=\"1\" x=\"0\" y=\"0\" style=\"font-family: 'Open Sans', verdana, arial, sans-serif; font-size: 12px; fill: rgb(255, 255, 255); fill-opacity: 1; white-space: pre;\" transform=\"translate(45.5353125,63.17)\">44.49</text></g><g class=\"point\"><path d=\"M100.57,320V66.01H173.71V320Z\" style=\"vector-effect: none; opacity: 1; stroke-width: 0.5px; fill: rgb(22, 211, 92); fill-opacity: 1; stroke: rgb(229, 236, 246); stroke-opacity: 1;\"/><text class=\"bartext bartext-inside\" text-anchor=\"middle\" data-notex=\"1\" x=\"0\" y=\"0\" style=\"font-family: 'Open Sans', verdana, arial, sans-serif; font-size: 12px; fill: rgb(255, 255, 255); fill-opacity: 1; white-space: pre;\" transform=\"translate(136.9603125,81.01)\">41.57</text></g><g class=\"point\"><path d=\"M192,320V16H265.14V320Z\" style=\"vector-effect: none; opacity: 1; stroke-width: 0.5px; fill: rgb(0, 128, 0); fill-opacity: 1; stroke: rgb(229, 236, 246); stroke-opacity: 1;\"/><text class=\"bartext bartext-inside\" text-anchor=\"middle\" data-notex=\"1\" x=\"0\" y=\"0\" style=\"font-family: 'Open Sans', verdana, arial, sans-serif; font-size: 12px; fill: rgb(255, 255, 255); fill-opacity: 1; white-space: pre;\" transform=\"translate(228.3903125,31)\">49.75</text></g><g class=\"point\"><path d=\"M283.43,320V95.67H356.57V320Z\" style=\"vector-effect: none; opacity: 1; stroke-width: 0.5px; fill: rgb(22, 211, 92); fill-opacity: 1; stroke: rgb(229, 236, 246); stroke-opacity: 1;\"/><text class=\"bartext bartext-inside\" text-anchor=\"middle\" data-notex=\"1\" x=\"0\" y=\"0\" style=\"font-family: 'Open Sans', verdana, arial, sans-serif; font-size: 12px; fill: rgb(255, 255, 255); fill-opacity: 1; white-space: pre;\" transform=\"translate(320,110.67)\">36.71</text></g><g class=\"point\"><path d=\"M374.86,320V84.98H448V320Z\" style=\"vector-effect: none; opacity: 1; stroke-width: 0.5px; fill: rgb(22, 211, 92); fill-opacity: 1; stroke: rgb(229, 236, 246); stroke-opacity: 1;\"/><text class=\"bartext bartext-inside\" text-anchor=\"middle\" data-notex=\"1\" x=\"0\" y=\"0\" style=\"font-family: 'Open Sans', verdana, arial, sans-serif; font-size: 12px; fill: rgb(255, 255, 255); fill-opacity: 1; white-space: pre;\" transform=\"translate(411.2503125,99.98)\">38.46</text></g><g class=\"point\"><path d=\"M466.29,320V82.49H539.43V320Z\" style=\"vector-effect: none; opacity: 1; stroke-width: 0.5px; fill: rgb(22, 211, 92); fill-opacity: 1; stroke: rgb(229, 236, 246); stroke-opacity: 1;\"/><text class=\"bartext bartext-inside\" text-anchor=\"middle\" data-notex=\"1\" x=\"0\" y=\"0\" style=\"font-family: 'Open Sans', verdana, arial, sans-serif; font-size: 12px; fill: rgb(255, 255, 255); fill-opacity: 1; white-space: pre;\" transform=\"translate(502.6803125,97.49)\">38.87</text></g><g class=\"point\"><path d=\"M557.71,320V149.11H630.86V320Z\" style=\"vector-effect: none; opacity: 1; stroke-width: 0.5px; fill: rgb(22, 211, 92); fill-opacity: 1; stroke: rgb(229, 236, 246); stroke-opacity: 1;\"/><text class=\"bartext bartext-inside\" text-anchor=\"middle\" data-notex=\"1\" x=\"0\" y=\"0\" style=\"font-family: 'Open Sans', verdana, arial, sans-serif; font-size: 12px; fill: rgb(255, 255, 255); fill-opacity: 1; white-space: pre;\" transform=\"translate(594.1053125000001,164.11)\">27.97</text></g></g></g></g></g><g class=\"overplot\"/><path class=\"xlines-above crisp\" d=\"M0,0\" style=\"fill: none;\"/><path class=\"ylines-above crisp\" d=\"M0,0\" style=\"fill: none;\"/><g class=\"overlines-above\"/><g class=\"xaxislayer-above\"><g class=\"xtick\"><text text-anchor=\"middle\" x=\"0\" y=\"433\" transform=\"translate(125.71000000000001,0)\" style=\"font-family: 'Open Sans', verdana, arial, sans-serif; font-size: 12px; fill: rgb(42, 63, 95); fill-opacity: 1; white-space: pre; opacity: 1;\">Mon</text></g><g class=\"xtick\"><text text-anchor=\"middle\" x=\"0\" y=\"433\" style=\"font-family: 'Open Sans', verdana, arial, sans-serif; font-size: 12px; fill: rgb(42, 63, 95); fill-opacity: 1; white-space: pre; opacity: 1;\" transform=\"translate(217.14,0)\">Tue</text></g><g class=\"xtick\"><text text-anchor=\"middle\" x=\"0\" y=\"433\" style=\"font-family: 'Open Sans', verdana, arial, sans-serif; font-size: 12px; fill: rgb(42, 63, 95); fill-opacity: 1; white-space: pre; opacity: 1;\" transform=\"translate(308.57,0)\">Wed</text></g><g class=\"xtick\"><text text-anchor=\"middle\" x=\"0\" y=\"433\" style=\"font-family: 'Open Sans', verdana, arial, sans-serif; font-size: 12px; fill: rgb(42, 63, 95); fill-opacity: 1; white-space: pre; opacity: 1;\" transform=\"translate(400,0)\">Thu</text></g><g class=\"xtick\"><text text-anchor=\"middle\" x=\"0\" y=\"433\" style=\"font-family: 'Open Sans', verdana, arial, sans-serif; font-size: 12px; fill: rgb(42, 63, 95); fill-opacity: 1; white-space: pre; opacity: 1;\" transform=\"translate(491.43,0)\">Fri</text></g><g class=\"xtick\"><text text-anchor=\"middle\" x=\"0\" y=\"433\" style=\"font-family: 'Open Sans', verdana, arial, sans-serif; font-size: 12px; fill: rgb(42, 63, 95); fill-opacity: 1; white-space: pre; opacity: 1;\" transform=\"translate(582.86,0)\">Sat</text></g><g class=\"xtick\"><text text-anchor=\"middle\" x=\"0\" y=\"433\" style=\"font-family: 'Open Sans', verdana, arial, sans-serif; font-size: 12px; fill: rgb(42, 63, 95); fill-opacity: 1; white-space: pre; opacity: 1;\" transform=\"translate(674.29,0)\">Sun</text></g></g><g class=\"yaxislayer-above\"><g class=\"ytick\"><text text-anchor=\"end\" x=\"79\" y=\"4.199999999999999\" transform=\"translate(0,420)\" style=\"font-family: 'Open Sans', verdana, arial, sans-serif; font-size: 12px; fill: rgb(42, 63, 95); fill-opacity: 1; white-space: pre; opacity: 1;\">0</text></g><g class=\"ytick\"><text text-anchor=\"end\" x=\"79\" y=\"4.199999999999999\" style=\"font-family: 'Open Sans', verdana, arial, sans-serif; font-size: 12px; fill: rgb(42, 63, 95); fill-opacity: 1; white-space: pre; opacity: 1;\" transform=\"translate(0,358.9)\">10</text></g><g class=\"ytick\"><text text-anchor=\"end\" x=\"79\" y=\"4.199999999999999\" style=\"font-family: 'Open Sans', verdana, arial, sans-serif; font-size: 12px; fill: rgb(42, 63, 95); fill-opacity: 1; white-space: pre; opacity: 1;\" transform=\"translate(0,297.8)\">20</text></g><g class=\"ytick\"><text text-anchor=\"end\" x=\"79\" y=\"4.199999999999999\" style=\"font-family: 'Open Sans', verdana, arial, sans-serif; font-size: 12px; fill: rgb(42, 63, 95); fill-opacity: 1; white-space: pre; opacity: 1;\" transform=\"translate(0,236.69)\">30</text></g><g class=\"ytick\"><text text-anchor=\"end\" x=\"79\" y=\"4.199999999999999\" style=\"font-family: 'Open Sans', verdana, arial, sans-serif; font-size: 12px; fill: rgb(42, 63, 95); fill-opacity: 1; white-space: pre; opacity: 1;\" transform=\"translate(0,175.59)\">40</text></g><g class=\"ytick\"><text text-anchor=\"end\" x=\"79\" y=\"4.199999999999999\" style=\"font-family: 'Open Sans', verdana, arial, sans-serif; font-size: 12px; fill: rgb(42, 63, 95); fill-opacity: 1; white-space: pre; opacity: 1;\" transform=\"translate(0,114.49)\">50</text></g></g><g class=\"overaxes-above\"/></g></g><g class=\"polarlayer\"/><g class=\"smithlayer\"/><g class=\"ternarylayer\"/><g class=\"geolayer\"/><g class=\"funnelarealayer\"/><g class=\"pielayer\"/><g class=\"iciclelayer\"/><g class=\"treemaplayer\"/><g class=\"sunburstlayer\"/><g class=\"glimages\"/><defs id=\"topdefs-5b061f\"><g class=\"clips\"/></defs><g class=\"layer-above\"><g class=\"imagelayer\"/><g class=\"shapelayer\"><g class=\"shape-group\" data-index=\"0\" clip-path=\"url(#clip5b061fy)\"><path data-index=\"0\" fill-rule=\"evenodd\" d=\"M80,177.49L720,177.49\" style=\"opacity: 1; stroke: rgb(0, 0, 255); stroke-opacity: 1; fill: rgb(0, 0, 0); fill-opacity: 0; stroke-dasharray: 3px, 3px; stroke-width: 2px;\"/></g></g></g><g class=\"infolayer\"><g class=\"g-gtitle\"><text class=\"gtitle\" x=\"400\" y=\"50\" text-anchor=\"middle\" dy=\"0em\" style=\"font-family: 'Open Sans', verdana, arial, sans-serif; font-size: 17px; fill: rgb(42, 63, 95); opacity: 1; font-weight: normal; white-space: pre;\">Streaming Trends by Day of the Week</text></g><g class=\"g-xtitle\"><text class=\"xtitle\" x=\"400\" y=\"460.3\" text-anchor=\"middle\" style=\"font-family: 'Open Sans', verdana, arial, sans-serif; font-size: 14px; fill: rgb(42, 63, 95); opacity: 1; font-weight: normal; white-space: pre;\">Day of the Week</text></g><g class=\"g-ytitle\"><text class=\"ytitle\" transform=\"rotate(-90,39.434375,260)\" x=\"39.434375\" y=\"260\" text-anchor=\"middle\" style=\"font-family: 'Open Sans', verdana, arial, sans-serif; font-size: 14px; fill: rgb(42, 63, 95); opacity: 1; font-weight: normal; white-space: pre;\">Total Streaming Time (Hours)</text></g><g class=\"annotation\" data-index=\"0\" style=\"opacity: 1;\"><g class=\"annotation-text-g\" transform=\"rotate(0,660.5,167.99)\"><g class=\"cursor-pointer\" transform=\"translate(601,158)\"><rect class=\"bg\" x=\"0.5\" y=\"0.5\" width=\"118\" height=\"18\" style=\"stroke-width: 1px; stroke: rgb(0, 0, 0); stroke-opacity: 0; fill: rgb(0, 0, 0); fill-opacity: 0;\"/><text class=\"annotation-text\" text-anchor=\"middle\" x=\"59.34375\" y=\"14\" style=\"font-family: 'Open Sans', verdana, arial, sans-serif; font-size: 12px; fill: rgb(42, 63, 95); fill-opacity: 1; white-space: pre;\">Mean: 39.69 hours</text></g></g></g></g></svg>"
      ]
     },
     "metadata": {},
     "output_type": "display_data"
    }
   ],
   "source": [
    "# Analyze trends based on the day of the week\n",
    "trends_by_day = spotify_podcast.groupby(spotify_podcast['ts'].dt.dayofweek).agg({\n",
    "    'ms_played': lambda x: x.sum() / (1000 * 60 * 60)  # Convert milliseconds to hours and sum\n",
    "}).reset_index()\n",
    "\n",
    "# Get the top 2 days of the week\n",
    "top_days = trends_by_day.nlargest(2, 'ms_played').index\n",
    "\n",
    "# Visualize the trends\n",
    "fig = px.bar(trends_by_day, x='ts', y='ms_played',\n",
    "             labels={'ms_played': 'Total Streaming Time (Hours)', 'ts': 'Day of the Week'},\n",
    "             title='Streaming Trends by Day of the Week')\n",
    "\n",
    "# Add a line to show the mean   \n",
    "mean_trends_by_day = trends_by_day['ms_played'].mean()\n",
    "fig.add_hline(y=mean_trends_by_day, \n",
    "              line_dash=\"dot\", line_color=\"blue\", \n",
    "              annotation_text=f'Mean: {mean_trends_by_day:.2f} hours',\n",
    "              annotation_position=\"top right\")\n",
    "\n",
    "colors = ['green' if i in top_days else '#16D35C' for i in trends_by_day.index]\n",
    "fig.update_traces(marker_color=colors,\n",
    "                  text=trends_by_day['ms_played'].round(2), \n",
    "                  textposition='inside', \n",
    "                  textfont=dict(color='white'))\n",
    "\n",
    "fig.update_layout(xaxis=dict(tickmode='array', tickvals=list(range(7)), ticktext=['Mon', 'Tue', 'Wed', 'Thu', 'Fri', 'Sat', 'Sun']),\n",
    "                  title=dict(text='Streaming Trends by Day of the Week', x=0.5),\n",
    "                  width=800, height=500)\n",
    "fig.show()"
   ]
  },
  {
   "cell_type": "markdown",
   "metadata": {},
   "source": [
    "#### **Favourite podcast/show name all the time**"
   ]
  },
  {
   "cell_type": "code",
   "execution_count": 234,
   "metadata": {},
   "outputs": [
    {
     "data": {
      "text/html": [
       "<div>\n",
       "<style scoped>\n",
       "    .dataframe tbody tr th:only-of-type {\n",
       "        vertical-align: middle;\n",
       "    }\n",
       "\n",
       "    .dataframe tbody tr th {\n",
       "        vertical-align: top;\n",
       "    }\n",
       "\n",
       "    .dataframe thead th {\n",
       "        text-align: right;\n",
       "    }\n",
       "</style>\n",
       "<table border=\"1\" class=\"dataframe\">\n",
       "  <thead>\n",
       "    <tr style=\"text-align: right;\">\n",
       "      <th></th>\n",
       "      <th>episode_show_name</th>\n",
       "      <th>ms_played</th>\n",
       "    </tr>\n",
       "  </thead>\n",
       "  <tbody>\n",
       "    <tr>\n",
       "      <th>0</th>\n",
       "      <td>Mishary Rashid Alafasy</td>\n",
       "      <td>27.971994</td>\n",
       "    </tr>\n",
       "    <tr>\n",
       "      <th>1</th>\n",
       "      <td>Rintik Sedu</td>\n",
       "      <td>19.422181</td>\n",
       "    </tr>\n",
       "    <tr>\n",
       "      <th>2</th>\n",
       "      <td>DataFramed</td>\n",
       "      <td>13.877386</td>\n",
       "    </tr>\n",
       "    <tr>\n",
       "      <th>3</th>\n",
       "      <td>PodQuest</td>\n",
       "      <td>9.767602</td>\n",
       "    </tr>\n",
       "    <tr>\n",
       "      <th>4</th>\n",
       "      <td>Kuas, Kanvas dan Bulan Kesepian</td>\n",
       "      <td>7.600316</td>\n",
       "    </tr>\n",
       "    <tr>\n",
       "      <th>5</th>\n",
       "      <td>YOASOBI THE BOOK 2 Spotify Edition</td>\n",
       "      <td>7.392940</td>\n",
       "    </tr>\n",
       "    <tr>\n",
       "      <th>6</th>\n",
       "      <td>Zenius Learning</td>\n",
       "      <td>6.584304</td>\n",
       "    </tr>\n",
       "    <tr>\n",
       "      <th>7</th>\n",
       "      <td>The Friday Podcast</td>\n",
       "      <td>5.433518</td>\n",
       "    </tr>\n",
       "    <tr>\n",
       "      <th>8</th>\n",
       "      <td>Data Talks</td>\n",
       "      <td>5.317237</td>\n",
       "    </tr>\n",
       "    <tr>\n",
       "      <th>9</th>\n",
       "      <td>Calm it Down</td>\n",
       "      <td>5.160765</td>\n",
       "    </tr>\n",
       "    <tr>\n",
       "      <th>10</th>\n",
       "      <td>Endgame with Gita Wirjawan</td>\n",
       "      <td>4.887886</td>\n",
       "    </tr>\n",
       "    <tr>\n",
       "      <th>11</th>\n",
       "      <td>Thirty Days Of Lunch Podcast</td>\n",
       "      <td>4.881186</td>\n",
       "    </tr>\n",
       "    <tr>\n",
       "      <th>12</th>\n",
       "      <td>The Late Brunch with Sara Neyrhiza</td>\n",
       "      <td>4.800567</td>\n",
       "    </tr>\n",
       "    <tr>\n",
       "      <th>13</th>\n",
       "      <td>Meditate with Tsamara</td>\n",
       "      <td>4.658508</td>\n",
       "    </tr>\n",
       "    <tr>\n",
       "      <th>14</th>\n",
       "      <td>Decision Making with Irfan Agia</td>\n",
       "      <td>4.636518</td>\n",
       "    </tr>\n",
       "    <tr>\n",
       "      <th>15</th>\n",
       "      <td>quranreview</td>\n",
       "      <td>4.528829</td>\n",
       "    </tr>\n",
       "    <tr>\n",
       "      <th>16</th>\n",
       "      <td>Banana Data Podcast</td>\n",
       "      <td>4.520710</td>\n",
       "    </tr>\n",
       "    <tr>\n",
       "      <th>17</th>\n",
       "      <td>Menjadi Manusia</td>\n",
       "      <td>4.386385</td>\n",
       "    </tr>\n",
       "    <tr>\n",
       "      <th>18</th>\n",
       "      <td>Mudacumasekali</td>\n",
       "      <td>4.346022</td>\n",
       "    </tr>\n",
       "    <tr>\n",
       "      <th>19</th>\n",
       "      <td>Podcast Raditya Dika</td>\n",
       "      <td>3.635567</td>\n",
       "    </tr>\n",
       "  </tbody>\n",
       "</table>\n",
       "</div>"
      ],
      "text/plain": [
       "                     episode_show_name  ms_played\n",
       "0               Mishary Rashid Alafasy  27.971994\n",
       "1                          Rintik Sedu  19.422181\n",
       "2                           DataFramed  13.877386\n",
       "3                             PodQuest   9.767602\n",
       "4      Kuas, Kanvas dan Bulan Kesepian   7.600316\n",
       "5   YOASOBI THE BOOK 2 Spotify Edition   7.392940\n",
       "6                      Zenius Learning   6.584304\n",
       "7                   The Friday Podcast   5.433518\n",
       "8                           Data Talks   5.317237\n",
       "9                         Calm it Down   5.160765\n",
       "10          Endgame with Gita Wirjawan   4.887886\n",
       "11        Thirty Days Of Lunch Podcast   4.881186\n",
       "12  The Late Brunch with Sara Neyrhiza   4.800567\n",
       "13               Meditate with Tsamara   4.658508\n",
       "14     Decision Making with Irfan Agia   4.636518\n",
       "15                         quranreview   4.528829\n",
       "16                 Banana Data Podcast   4.520710\n",
       "17                     Menjadi Manusia   4.386385\n",
       "18                      Mudacumasekali   4.346022\n",
       "19                Podcast Raditya Dika   3.635567"
      ]
     },
     "execution_count": 234,
     "metadata": {},
     "output_type": "execute_result"
    }
   ],
   "source": [
    "# Calculate the accumulated number of streams for each artist in hours\n",
    "showname_playback_duration = spotify_data.groupby('episode_show_name')['ms_played'].sum() / (1000 * 60 * 60)\n",
    "\n",
    "# Sort artists based on the accumulated number of streams, from most to least\n",
    "showname_playback_duration = showname_playback_duration.sort_values(ascending=False).head(20).reset_index()\n",
    "showname_playback_duration"
   ]
  },
  {
   "cell_type": "code",
   "execution_count": 235,
   "metadata": {},
   "outputs": [
    {
     "data": {
      "image/svg+xml": [
       "<svg class=\"main-svg\" xmlns=\"http://www.w3.org/2000/svg\" xmlns:xlink=\"http://www.w3.org/1999/xlink\" width=\"1000\" height=\"500\" style=\"\" viewBox=\"0 0 1000 500\"><rect x=\"0\" y=\"0\" width=\"1000\" height=\"500\" style=\"fill: rgb(255, 255, 255); fill-opacity: 1;\"/><defs id=\"defs-dc5ef9\"><g class=\"clips\"><clipPath id=\"clipdc5ef9xyplot\" class=\"plotclip\"><rect width=\"840\" height=\"188\"/></clipPath><clipPath class=\"axesclip\" id=\"clipdc5ef9x\"><rect x=\"80\" y=\"0\" width=\"840\" height=\"500\"/></clipPath><clipPath class=\"axesclip\" id=\"clipdc5ef9y\"><rect x=\"0\" y=\"100\" width=\"1000\" height=\"188\"/></clipPath><clipPath class=\"axesclip\" id=\"clipdc5ef9xy\"><rect x=\"80\" y=\"100\" width=\"840\" height=\"188\"/></clipPath></g><g class=\"gradients\"/><g class=\"patterns\"/></defs><g class=\"bglayer\"><rect class=\"bg\" x=\"80\" y=\"100\" width=\"840\" height=\"188\" style=\"fill: rgb(229, 236, 246); fill-opacity: 1; stroke-width: 0;\"/></g><g class=\"layer-below\"><g class=\"imagelayer\"/><g class=\"shapelayer\"/></g><g class=\"cartesianlayer\"><g class=\"subplot xy\"><g class=\"layer-subplot\"><g class=\"shapelayer\"/><g class=\"imagelayer\"/></g><g class=\"minor-gridlayer\"><g class=\"x\"/><g class=\"y\"/></g><g class=\"gridlayer\"><g class=\"x\"/><g class=\"y\"><path class=\"ygrid crisp\" transform=\"translate(0,224.15)\" d=\"M80,0h840\" style=\"stroke: rgb(255, 255, 255); stroke-opacity: 1; stroke-width: 1px;\"/><path class=\"ygrid crisp\" transform=\"translate(0,160.3)\" d=\"M80,0h840\" style=\"stroke: rgb(255, 255, 255); stroke-opacity: 1; stroke-width: 1px;\"/></g></g><g class=\"zerolinelayer\"><path class=\"yzl zl crisp\" transform=\"translate(0,288)\" d=\"M80,0h840\" style=\"stroke: rgb(255, 255, 255); stroke-opacity: 1; stroke-width: 2px;\"/></g><g class=\"layer-between\"><g class=\"shapelayer\"/><g class=\"imagelayer\"/></g><path class=\"xlines-below\"/><path class=\"ylines-below\"/><g class=\"overlines-below\"/><g class=\"xaxislayer-below\"/><g class=\"yaxislayer-below\"/><g class=\"overaxes-below\"/><g class=\"plot\" transform=\"translate(80,100)\" clip-path=\"url(#clipdc5ef9xyplot)\"><g class=\"barlayer mlayer\"><g class=\"trace bars\" style=\"opacity: 1;\"><g class=\"points\"><g class=\"point\"><path d=\"M8.4,188V9.4H75.6V188Z\" style=\"vector-effect: none; opacity: 1; stroke-width: 0.5px; fill: rgb(0, 128, 0); fill-opacity: 1; stroke: rgb(229, 236, 246); stroke-opacity: 1;\"/><text class=\"bartext bartext-inside\" text-anchor=\"middle\" data-notex=\"1\" x=\"0\" y=\"0\" style=\"font-family: 'Open Sans', verdana, arial, sans-serif; font-size: 12px; fill: rgb(255, 255, 255); fill-opacity: 1; white-space: pre;\" transform=\"translate(41.8203125,24.4)\">27.97</text></g><g class=\"point\"><path d=\"M92.4,188V63.99H159.6V188Z\" style=\"vector-effect: none; opacity: 1; stroke-width: 0.5px; fill: rgb(0, 128, 0); fill-opacity: 1; stroke: rgb(229, 236, 246); stroke-opacity: 1;\"/><text class=\"bartext bartext-inside\" text-anchor=\"middle\" data-notex=\"1\" x=\"0\" y=\"0\" style=\"font-family: 'Open Sans', verdana, arial, sans-serif; font-size: 12px; fill: rgb(255, 255, 255); fill-opacity: 1; white-space: pre;\" transform=\"translate(125.8203125,78.99000000000001)\">19.42</text></g><g class=\"point\"><path d=\"M176.4,188V99.39H243.6V188Z\" style=\"vector-effect: none; opacity: 1; stroke-width: 0.5px; fill: rgb(0, 128, 0); fill-opacity: 1; stroke: rgb(229, 236, 246); stroke-opacity: 1;\"/><text class=\"bartext bartext-inside\" text-anchor=\"middle\" data-notex=\"1\" x=\"0\" y=\"0\" style=\"font-family: 'Open Sans', verdana, arial, sans-serif; font-size: 12px; fill: rgb(255, 255, 255); fill-opacity: 1; white-space: pre;\" transform=\"translate(209.8203125,114.39)\">13.88</text></g><g class=\"point\"><path d=\"M260.4,188V125.63H327.6V188Z\" style=\"vector-effect: none; opacity: 1; stroke-width: 0.5px; fill: rgb(22, 211, 92); fill-opacity: 1; stroke: rgb(229, 236, 246); stroke-opacity: 1;\"/><text class=\"bartext bartext-inside\" text-anchor=\"middle\" data-notex=\"1\" x=\"0\" y=\"0\" style=\"font-family: 'Open Sans', verdana, arial, sans-serif; font-size: 12px; fill: rgb(255, 255, 255); fill-opacity: 1; white-space: pre;\" transform=\"translate(293.8203125,140.63)\">9.77</text></g><g class=\"point\"><path d=\"M344.4,188V139.47H411.6V188Z\" style=\"vector-effect: none; opacity: 1; stroke-width: 0.5px; fill: rgb(22, 211, 92); fill-opacity: 1; stroke: rgb(229, 236, 246); stroke-opacity: 1;\"/><text class=\"bartext bartext-inside\" text-anchor=\"middle\" data-notex=\"1\" x=\"0\" y=\"0\" style=\"font-family: 'Open Sans', verdana, arial, sans-serif; font-size: 12px; fill: rgb(255, 255, 255); fill-opacity: 1; white-space: pre;\" transform=\"translate(377.8125,154.47)\">7.6</text></g><g class=\"point\"><path d=\"M428.4,188V140.8H495.6V188Z\" style=\"vector-effect: none; opacity: 1; stroke-width: 0.5px; fill: rgb(22, 211, 92); fill-opacity: 1; stroke: rgb(229, 236, 246); stroke-opacity: 1;\"/><text class=\"bartext bartext-inside\" text-anchor=\"middle\" data-notex=\"1\" x=\"0\" y=\"0\" style=\"font-family: 'Open Sans', verdana, arial, sans-serif; font-size: 12px; fill: rgb(255, 255, 255); fill-opacity: 1; white-space: pre;\" transform=\"translate(461.8203125,155.8)\">7.39</text></g><g class=\"point\"><path d=\"M512.4,188V145.96H579.6V188Z\" style=\"vector-effect: none; opacity: 1; stroke-width: 0.5px; fill: rgb(22, 211, 92); fill-opacity: 1; stroke: rgb(229, 236, 246); stroke-opacity: 1;\"/><text class=\"bartext bartext-inside\" text-anchor=\"middle\" data-notex=\"1\" x=\"0\" y=\"0\" style=\"font-family: 'Open Sans', verdana, arial, sans-serif; font-size: 12px; fill: rgb(255, 255, 255); fill-opacity: 1; white-space: pre;\" transform=\"translate(545.8203125,160.96)\">6.58</text></g><g class=\"point\"><path d=\"M596.4,188V153.31H663.6V188Z\" style=\"vector-effect: none; opacity: 1; stroke-width: 0.5px; fill: rgb(22, 211, 92); fill-opacity: 1; stroke: rgb(229, 236, 246); stroke-opacity: 1;\"/><text class=\"bartext bartext-inside\" text-anchor=\"middle\" data-notex=\"1\" x=\"0\" y=\"0\" style=\"font-family: 'Open Sans', verdana, arial, sans-serif; font-size: 12px; fill: rgb(255, 255, 255); fill-opacity: 1; white-space: pre;\" transform=\"translate(630,168.31)\">5.43</text></g><g class=\"point\"><path d=\"M680.4,188V154.05H747.6V188Z\" style=\"vector-effect: none; opacity: 1; stroke-width: 0.5px; fill: rgb(22, 211, 92); fill-opacity: 1; stroke: rgb(229, 236, 246); stroke-opacity: 1;\"/><text class=\"bartext bartext-inside\" text-anchor=\"middle\" data-notex=\"1\" x=\"0\" y=\"0\" style=\"font-family: 'Open Sans', verdana, arial, sans-serif; font-size: 12px; fill: rgb(255, 255, 255); fill-opacity: 1; white-space: pre;\" transform=\"translate(713.8203125,169.05)\">5.32</text></g><g class=\"point\"><path d=\"M764.4,188V155.05H831.6V188Z\" style=\"vector-effect: none; opacity: 1; stroke-width: 0.5px; fill: rgb(22, 211, 92); fill-opacity: 1; stroke: rgb(229, 236, 246); stroke-opacity: 1;\"/><text class=\"bartext bartext-inside\" text-anchor=\"middle\" data-notex=\"1\" x=\"0\" y=\"0\" style=\"font-family: 'Open Sans', verdana, arial, sans-serif; font-size: 12px; fill: rgb(255, 255, 255); fill-opacity: 1; white-space: pre;\" transform=\"translate(797.8203125,170.05)\">5.16</text></g></g></g></g></g><g class=\"overplot\"/><path class=\"xlines-above crisp\" d=\"M0,0\" style=\"fill: none;\"/><path class=\"ylines-above crisp\" d=\"M0,0\" style=\"fill: none;\"/><g class=\"overlines-above\"/><g class=\"xaxislayer-above\"><g class=\"xtick\"><text text-anchor=\"end\" x=\"0\" y=\"301\" transform=\"translate(122,0) rotate(-45,0,295)\" style=\"font-family: 'Open Sans', verdana, arial, sans-serif; font-size: 12px; fill: rgb(42, 63, 95); fill-opacity: 1; white-space: pre; opacity: 1;\">Mishary Rashid Alafasy</text></g><g class=\"xtick\"><text text-anchor=\"end\" x=\"0\" y=\"301\" transform=\"translate(206,0) rotate(-45,0,295)\" style=\"font-family: 'Open Sans', verdana, arial, sans-serif; font-size: 12px; fill: rgb(42, 63, 95); fill-opacity: 1; white-space: pre; opacity: 1;\">Rintik Sedu</text></g><g class=\"xtick\"><text text-anchor=\"end\" x=\"0\" y=\"301\" transform=\"translate(290,0) rotate(-45,0,295)\" style=\"font-family: 'Open Sans', verdana, arial, sans-serif; font-size: 12px; fill: rgb(42, 63, 95); fill-opacity: 1; white-space: pre; opacity: 1;\">DataFramed</text></g><g class=\"xtick\"><text text-anchor=\"end\" x=\"0\" y=\"301\" transform=\"translate(374,0) rotate(-45,0,295)\" style=\"font-family: 'Open Sans', verdana, arial, sans-serif; font-size: 12px; fill: rgb(42, 63, 95); fill-opacity: 1; white-space: pre; opacity: 1;\">PodQuest</text></g><g class=\"xtick\"><text text-anchor=\"end\" x=\"0\" y=\"301\" transform=\"translate(458,0) rotate(-45,0,295)\" style=\"font-family: 'Open Sans', verdana, arial, sans-serif; font-size: 12px; fill: rgb(42, 63, 95); fill-opacity: 1; white-space: pre; opacity: 1;\">Kuas, Kanvas dan Bulan Kesepian</text></g><g class=\"xtick\"><text text-anchor=\"end\" x=\"0\" y=\"301\" transform=\"translate(542,0) rotate(-45,0,295)\" style=\"font-family: 'Open Sans', verdana, arial, sans-serif; font-size: 12px; fill: rgb(42, 63, 95); fill-opacity: 1; white-space: pre; opacity: 1;\">YOASOBI THE BOOK 2 Spotify Edition</text></g><g class=\"xtick\"><text text-anchor=\"end\" x=\"0\" y=\"301\" transform=\"translate(626,0) rotate(-45,0,295)\" style=\"font-family: 'Open Sans', verdana, arial, sans-serif; font-size: 12px; fill: rgb(42, 63, 95); fill-opacity: 1; white-space: pre; opacity: 1;\">Zenius Learning</text></g><g class=\"xtick\"><text text-anchor=\"end\" x=\"0\" y=\"301\" transform=\"translate(710,0) rotate(-45,0,295)\" style=\"font-family: 'Open Sans', verdana, arial, sans-serif; font-size: 12px; fill: rgb(42, 63, 95); fill-opacity: 1; white-space: pre; opacity: 1;\">The Friday Podcast</text></g><g class=\"xtick\"><text text-anchor=\"end\" x=\"0\" y=\"301\" transform=\"translate(794,0) rotate(-45,0,295)\" style=\"font-family: 'Open Sans', verdana, arial, sans-serif; font-size: 12px; fill: rgb(42, 63, 95); fill-opacity: 1; white-space: pre; opacity: 1;\">Data Talks</text></g><g class=\"xtick\"><text text-anchor=\"end\" x=\"0\" y=\"301\" transform=\"translate(878,0) rotate(-45,0,295)\" style=\"font-family: 'Open Sans', verdana, arial, sans-serif; font-size: 12px; fill: rgb(42, 63, 95); fill-opacity: 1; white-space: pre; opacity: 1;\">Calm it Down</text></g></g><g class=\"yaxislayer-above\"><g class=\"ytick\"><text text-anchor=\"end\" x=\"79\" y=\"4.199999999999999\" transform=\"translate(0,288)\" style=\"font-family: 'Open Sans', verdana, arial, sans-serif; font-size: 12px; fill: rgb(42, 63, 95); fill-opacity: 1; white-space: pre; opacity: 1;\">0</text></g><g class=\"ytick\"><text text-anchor=\"end\" x=\"79\" y=\"4.199999999999999\" style=\"font-family: 'Open Sans', verdana, arial, sans-serif; font-size: 12px; fill: rgb(42, 63, 95); fill-opacity: 1; white-space: pre; opacity: 1;\" transform=\"translate(0,224.15)\">10</text></g><g class=\"ytick\"><text text-anchor=\"end\" x=\"79\" y=\"4.199999999999999\" style=\"font-family: 'Open Sans', verdana, arial, sans-serif; font-size: 12px; fill: rgb(42, 63, 95); fill-opacity: 1; white-space: pre; opacity: 1;\" transform=\"translate(0,160.3)\">20</text></g></g><g class=\"overaxes-above\"/></g></g><g class=\"polarlayer\"/><g class=\"smithlayer\"/><g class=\"ternarylayer\"/><g class=\"geolayer\"/><g class=\"funnelarealayer\"/><g class=\"pielayer\"/><g class=\"iciclelayer\"/><g class=\"treemaplayer\"/><g class=\"sunburstlayer\"/><g class=\"glimages\"/><defs id=\"topdefs-dc5ef9\"><g class=\"clips\"/></defs><g class=\"layer-above\"><g class=\"imagelayer\"/><g class=\"shapelayer\"/></g><g class=\"infolayer\"><g class=\"g-gtitle\"><text class=\"gtitle\" x=\"500\" y=\"50\" text-anchor=\"middle\" dy=\"0em\" style=\"font-family: 'Open Sans', verdana, arial, sans-serif; font-size: 17px; fill: rgb(42, 63, 95); opacity: 1; font-weight: normal; white-space: pre;\">Top 10 Most Streamed Podcast Based on Playback Duration</text></g><g class=\"g-xtitle\"><text class=\"xtitle\" x=\"500\" y=\"487.1935546875\" text-anchor=\"middle\" style=\"font-family: 'Open Sans', verdana, arial, sans-serif; font-size: 14px; fill: rgb(42, 63, 95); opacity: 1; font-weight: normal; white-space: pre;\">Artists</text></g><g class=\"g-ytitle\"><text class=\"ytitle\" transform=\"rotate(-90,39.434375,194)\" x=\"39.434375\" y=\"194\" text-anchor=\"middle\" style=\"font-family: 'Open Sans', verdana, arial, sans-serif; font-size: 14px; fill: rgb(42, 63, 95); opacity: 1; font-weight: normal; white-space: pre;\">Total Streams in Hours</text></g></g></svg>"
      ]
     },
     "metadata": {},
     "output_type": "display_data"
    }
   ],
   "source": [
    "# Visualize top artists\n",
    "fig = px.bar(showname_playback_duration.head(10), x='episode_show_name', y='ms_played',\n",
    "             labels={'episode_show_name': 'Artists', 'ms_played': 'Total Streams in Hours'},\n",
    "             title='Top 10 Most Streamed Podcast Based on Playback Duration')\n",
    "\n",
    "# Define colors using Spotify palette for top 5 tracks, green for others\n",
    "color_scale = ['green' if artist in showname_playback_duration.head(3).values else '#16D35C' for artist in showname_playback_duration['episode_show_name']]\n",
    "\n",
    "# Update colors and text labels for each bar\n",
    "fig.update_traces(marker_color=color_scale,\n",
    "                  text=showname_playback_duration['ms_played'].round(2), \n",
    "                  textposition='inside', \n",
    "                  textfont=dict(color='white'))\n",
    "\n",
    "fig.update_layout(xaxis_title='Artists', \n",
    "                  yaxis_title='Total Streams in Hours', \n",
    "                  xaxis_tickangle=-45, showlegend=False, title_x=0.5,\n",
    "                  width=1000, height=500)\n",
    "fig.show()"
   ]
  },
  {
   "cell_type": "code",
   "execution_count": 236,
   "metadata": {},
   "outputs": [
    {
     "data": {
      "text/plain": [
       "episode_show_name\n",
       "Mishary Rashid Alafasy                343\n",
       "Rintik Sedu                           197\n",
       "YOASOBI THE BOOK 2 Spotify Edition     86\n",
       "Menjadi Manusia                        77\n",
       "The Late Brunch with Sara Neyrhiza     51\n",
       "Kuas, Kanvas dan Bulan Kesepian        47\n",
       "quranreview                            45\n",
       "Yaqeen Podcast                         39\n",
       "PodQuest                               37\n",
       "MengAnalisa                            34\n",
       "Calm it Down                           33\n",
       "Meditate with Tsamara                  30\n",
       "Podcast Raditya Dika                   28\n",
       "Zenius Learning                        28\n",
       "WORK LIFE TRAMPOLINE                   27\n",
       "Endgame with Gita Wirjawan             25\n",
       "Mudacumasekali                         25\n",
       "The Friday Podcast                     23\n",
       "DataFramed                             23\n",
       "BukaTalks                              23\n",
       "Name: count, dtype: int64"
      ]
     },
     "execution_count": 236,
     "metadata": {},
     "output_type": "execute_result"
    }
   ],
   "source": [
    "# The top 20 artists with the most number of streams based on play counts\n",
    "showname_play_counts = spotify_podcast['episode_show_name'].value_counts().head(20)\n",
    "showname_play_counts"
   ]
  },
  {
   "cell_type": "code",
   "execution_count": 237,
   "metadata": {},
   "outputs": [
    {
     "data": {
      "image/svg+xml": [
       "<svg class=\"main-svg\" xmlns=\"http://www.w3.org/2000/svg\" xmlns:xlink=\"http://www.w3.org/1999/xlink\" width=\"1000\" height=\"500\" style=\"\" viewBox=\"0 0 1000 500\"><rect x=\"0\" y=\"0\" width=\"1000\" height=\"500\" style=\"fill: rgb(255, 255, 255); fill-opacity: 1;\"/><defs id=\"defs-e25767\"><g class=\"clips\"><clipPath id=\"clipe25767xyplot\" class=\"plotclip\"><rect width=\"840\" height=\"188\"/></clipPath><clipPath class=\"axesclip\" id=\"clipe25767x\"><rect x=\"80\" y=\"0\" width=\"840\" height=\"500\"/></clipPath><clipPath class=\"axesclip\" id=\"clipe25767y\"><rect x=\"0\" y=\"100\" width=\"1000\" height=\"188\"/></clipPath><clipPath class=\"axesclip\" id=\"clipe25767xy\"><rect x=\"80\" y=\"100\" width=\"840\" height=\"188\"/></clipPath></g><g class=\"gradients\"/><g class=\"patterns\"/></defs><g class=\"bglayer\"><rect class=\"bg\" x=\"80\" y=\"100\" width=\"840\" height=\"188\" style=\"fill: rgb(229, 236, 246); fill-opacity: 1; stroke-width: 0;\"/></g><g class=\"layer-below\"><g class=\"imagelayer\"/><g class=\"shapelayer\"/></g><g class=\"cartesianlayer\"><g class=\"subplot xy\"><g class=\"layer-subplot\"><g class=\"shapelayer\"/><g class=\"imagelayer\"/></g><g class=\"minor-gridlayer\"><g class=\"x\"/><g class=\"y\"/></g><g class=\"gridlayer\"><g class=\"x\"/><g class=\"y\"><path class=\"ygrid crisp\" transform=\"translate(0,235.93)\" d=\"M80,0h840\" style=\"stroke: rgb(255, 255, 255); stroke-opacity: 1; stroke-width: 1px;\"/><path class=\"ygrid crisp\" transform=\"translate(0,183.86)\" d=\"M80,0h840\" style=\"stroke: rgb(255, 255, 255); stroke-opacity: 1; stroke-width: 1px;\"/><path class=\"ygrid crisp\" transform=\"translate(0,131.79)\" d=\"M80,0h840\" style=\"stroke: rgb(255, 255, 255); stroke-opacity: 1; stroke-width: 1px;\"/></g></g><g class=\"zerolinelayer\"><path class=\"yzl zl crisp\" transform=\"translate(0,288)\" d=\"M80,0h840\" style=\"stroke: rgb(255, 255, 255); stroke-opacity: 1; stroke-width: 2px;\"/></g><g class=\"layer-between\"><g class=\"shapelayer\"/><g class=\"imagelayer\"/></g><path class=\"xlines-below\"/><path class=\"ylines-below\"/><g class=\"overlines-below\"/><g class=\"xaxislayer-below\"/><g class=\"yaxislayer-below\"/><g class=\"overaxes-below\"/><g class=\"plot\" transform=\"translate(80,100)\" clip-path=\"url(#clipe25767xyplot)\"><g class=\"barlayer mlayer\"><g class=\"trace bars\" style=\"opacity: 1;\"><g class=\"points\"><g class=\"point\"><path d=\"M8.4,188V9.4H75.6V188Z\" style=\"vector-effect: none; opacity: 1; stroke-width: 0.5px; fill: rgb(0, 128, 0); fill-opacity: 1; stroke: rgb(229, 236, 246); stroke-opacity: 1;\"/><text class=\"bartext bartext-inside\" text-anchor=\"middle\" data-notex=\"1\" x=\"0\" y=\"0\" style=\"font-family: 'Open Sans', verdana, arial, sans-serif; font-size: 12px; fill: rgb(255, 255, 255); fill-opacity: 1; white-space: pre;\" transform=\"translate(42,24.4)\">343</text></g><g class=\"point\"><path d=\"M92.4,188V85.42H159.6V188Z\" style=\"vector-effect: none; opacity: 1; stroke-width: 0.5px; fill: rgb(0, 128, 0); fill-opacity: 1; stroke: rgb(229, 236, 246); stroke-opacity: 1;\"/><text class=\"bartext bartext-inside\" text-anchor=\"middle\" data-notex=\"1\" x=\"0\" y=\"0\" style=\"font-family: 'Open Sans', verdana, arial, sans-serif; font-size: 12px; fill: rgb(255, 255, 255); fill-opacity: 1; white-space: pre;\" transform=\"translate(125.8125,100.42)\">197</text></g><g class=\"point\"><path d=\"M176.4,188V143.22H243.6V188Z\" style=\"vector-effect: none; opacity: 1; stroke-width: 0.5px; fill: rgb(0, 128, 0); fill-opacity: 1; stroke: rgb(229, 236, 246); stroke-opacity: 1;\"/><text class=\"bartext bartext-inside\" text-anchor=\"middle\" data-notex=\"1\" x=\"0\" y=\"0\" style=\"font-family: 'Open Sans', verdana, arial, sans-serif; font-size: 12px; fill: rgb(255, 255, 255); fill-opacity: 1; white-space: pre;\" transform=\"translate(209.8203125,158.22)\">86</text></g><g class=\"point\"><path d=\"M260.4,188V147.91H327.6V188Z\" style=\"vector-effect: none; opacity: 1; stroke-width: 0.5px; fill: rgb(22, 211, 92); fill-opacity: 1; stroke: rgb(229, 236, 246); stroke-opacity: 1;\"/><text class=\"bartext bartext-inside\" text-anchor=\"middle\" data-notex=\"1\" x=\"0\" y=\"0\" style=\"font-family: 'Open Sans', verdana, arial, sans-serif; font-size: 12px; fill: rgb(255, 255, 255); fill-opacity: 1; white-space: pre;\" transform=\"translate(293.8203125,162.91)\">77</text></g><g class=\"point\"><path d=\"M344.4,188V161.44H411.6V188Z\" style=\"vector-effect: none; opacity: 1; stroke-width: 0.5px; fill: rgb(22, 211, 92); fill-opacity: 1; stroke: rgb(229, 236, 246); stroke-opacity: 1;\"/><text class=\"bartext bartext-inside\" text-anchor=\"middle\" data-notex=\"1\" x=\"0\" y=\"0\" style=\"font-family: 'Open Sans', verdana, arial, sans-serif; font-size: 12px; fill: rgb(255, 255, 255); fill-opacity: 1; white-space: pre;\" transform=\"translate(378,176.44)\">51</text></g><g class=\"point\"><path d=\"M428.4,188V163.53H495.6V188Z\" style=\"vector-effect: none; opacity: 1; stroke-width: 0.5px; fill: rgb(22, 211, 92); fill-opacity: 1; stroke: rgb(229, 236, 246); stroke-opacity: 1;\"/><text class=\"bartext bartext-inside\" text-anchor=\"middle\" data-notex=\"1\" x=\"0\" y=\"0\" style=\"font-family: 'Open Sans', verdana, arial, sans-serif; font-size: 12px; fill: rgb(255, 255, 255); fill-opacity: 1; white-space: pre;\" transform=\"translate(461.8203125,178.53)\">47</text></g><g class=\"point\"><path d=\"M512.4,188V164.57H579.6V188Z\" style=\"vector-effect: none; opacity: 1; stroke-width: 0.5px; fill: rgb(22, 211, 92); fill-opacity: 1; stroke: rgb(229, 236, 246); stroke-opacity: 1;\"/><text class=\"bartext bartext-inside\" text-anchor=\"middle\" data-notex=\"1\" x=\"0\" y=\"0\" style=\"font-family: 'Open Sans', verdana, arial, sans-serif; font-size: 12px; fill: rgb(255, 255, 255); fill-opacity: 1; white-space: pre;\" transform=\"translate(545.8203125,179.57)\">45</text></g><g class=\"point\"><path d=\"M596.4,188V167.69H663.6V188Z\" style=\"vector-effect: none; opacity: 1; stroke-width: 0.5px; fill: rgb(22, 211, 92); fill-opacity: 1; stroke: rgb(229, 236, 246); stroke-opacity: 1;\"/><text class=\"bartext bartext-inside\" text-anchor=\"middle\" data-notex=\"1\" x=\"0\" y=\"0\" style=\"font-family: 'Open Sans', verdana, arial, sans-serif; font-size: 12px; fill: rgb(255, 255, 255); fill-opacity: 1; white-space: pre;\" transform=\"translate(629.828578125,182.138)scale(0.9540000000000002)\">39</text></g><g class=\"point\"><path d=\"M680.4,188V168.73H747.6V188Z\" style=\"vector-effect: none; opacity: 1; stroke-width: 0.5px; fill: rgb(22, 211, 92); fill-opacity: 1; stroke: rgb(229, 236, 246); stroke-opacity: 1;\"/><text class=\"bartext bartext-inside\" text-anchor=\"middle\" data-notex=\"1\" x=\"0\" y=\"0\" style=\"font-family: 'Open Sans', verdana, arial, sans-serif; font-size: 12px; fill: rgb(255, 255, 255); fill-opacity: 1; white-space: pre;\" transform=\"translate(713.8410364583333,182.346)scale(0.8846666666666674)\">37</text></g><g class=\"point\"><path d=\"M764.4,188V170.3H831.6V188Z\" style=\"vector-effect: none; opacity: 1; stroke-width: 0.5px; fill: rgb(22, 211, 92); fill-opacity: 1; stroke: rgb(229, 236, 246); stroke-opacity: 1;\"/><text class=\"bartext bartext-inside\" text-anchor=\"middle\" data-notex=\"1\" x=\"0\" y=\"0\" style=\"font-family: 'Open Sans', verdana, arial, sans-serif; font-size: 12px; fill: rgb(255, 255, 255); fill-opacity: 1; white-space: pre;\" transform=\"translate(797.85984375,182.66)scale(0.7799999999999992)\">34</text></g></g></g></g></g><g class=\"overplot\"/><path class=\"xlines-above crisp\" d=\"M0,0\" style=\"fill: none;\"/><path class=\"ylines-above crisp\" d=\"M0,0\" style=\"fill: none;\"/><g class=\"overlines-above\"/><g class=\"xaxislayer-above\"><g class=\"xtick\"><text text-anchor=\"end\" x=\"0\" y=\"301\" transform=\"translate(122,0) rotate(-45,0,295)\" style=\"font-family: 'Open Sans', verdana, arial, sans-serif; font-size: 12px; fill: rgb(42, 63, 95); fill-opacity: 1; white-space: pre; opacity: 1;\">Mishary Rashid Alafasy</text></g><g class=\"xtick\"><text text-anchor=\"end\" x=\"0\" y=\"301\" transform=\"translate(206,0) rotate(-45,0,295)\" style=\"font-family: 'Open Sans', verdana, arial, sans-serif; font-size: 12px; fill: rgb(42, 63, 95); fill-opacity: 1; white-space: pre; opacity: 1;\">Rintik Sedu</text></g><g class=\"xtick\"><text text-anchor=\"end\" x=\"0\" y=\"301\" transform=\"translate(290,0) rotate(-45,0,295)\" style=\"font-family: 'Open Sans', verdana, arial, sans-serif; font-size: 12px; fill: rgb(42, 63, 95); fill-opacity: 1; white-space: pre; opacity: 1;\">YOASOBI THE BOOK 2 Spotify Edition</text></g><g class=\"xtick\"><text text-anchor=\"end\" x=\"0\" y=\"301\" transform=\"translate(374,0) rotate(-45,0,295)\" style=\"font-family: 'Open Sans', verdana, arial, sans-serif; font-size: 12px; fill: rgb(42, 63, 95); fill-opacity: 1; white-space: pre; opacity: 1;\">Menjadi Manusia</text></g><g class=\"xtick\"><text text-anchor=\"end\" x=\"0\" y=\"301\" transform=\"translate(458,0) rotate(-45,0,295)\" style=\"font-family: 'Open Sans', verdana, arial, sans-serif; font-size: 12px; fill: rgb(42, 63, 95); fill-opacity: 1; white-space: pre; opacity: 1;\">The Late Brunch with Sara Neyrhiza</text></g><g class=\"xtick\"><text text-anchor=\"end\" x=\"0\" y=\"301\" transform=\"translate(542,0) rotate(-45,0,295)\" style=\"font-family: 'Open Sans', verdana, arial, sans-serif; font-size: 12px; fill: rgb(42, 63, 95); fill-opacity: 1; white-space: pre; opacity: 1;\">Kuas, Kanvas dan Bulan Kesepian</text></g><g class=\"xtick\"><text text-anchor=\"end\" x=\"0\" y=\"301\" transform=\"translate(626,0) rotate(-45,0,295)\" style=\"font-family: 'Open Sans', verdana, arial, sans-serif; font-size: 12px; fill: rgb(42, 63, 95); fill-opacity: 1; white-space: pre; opacity: 1;\">quranreview</text></g><g class=\"xtick\"><text text-anchor=\"end\" x=\"0\" y=\"301\" transform=\"translate(710,0) rotate(-45,0,295)\" style=\"font-family: 'Open Sans', verdana, arial, sans-serif; font-size: 12px; fill: rgb(42, 63, 95); fill-opacity: 1; white-space: pre; opacity: 1;\">Yaqeen Podcast</text></g><g class=\"xtick\"><text text-anchor=\"end\" x=\"0\" y=\"301\" transform=\"translate(794,0) rotate(-45,0,295)\" style=\"font-family: 'Open Sans', verdana, arial, sans-serif; font-size: 12px; fill: rgb(42, 63, 95); fill-opacity: 1; white-space: pre; opacity: 1;\">PodQuest</text></g><g class=\"xtick\"><text text-anchor=\"end\" x=\"0\" y=\"301\" transform=\"translate(878,0) rotate(-45,0,295)\" style=\"font-family: 'Open Sans', verdana, arial, sans-serif; font-size: 12px; fill: rgb(42, 63, 95); fill-opacity: 1; white-space: pre; opacity: 1;\">MengAnalisa</text></g></g><g class=\"yaxislayer-above\"><g class=\"ytick\"><text text-anchor=\"end\" x=\"79\" y=\"4.199999999999999\" transform=\"translate(0,288)\" style=\"font-family: 'Open Sans', verdana, arial, sans-serif; font-size: 12px; fill: rgb(42, 63, 95); fill-opacity: 1; white-space: pre; opacity: 1;\">0</text></g><g class=\"ytick\"><text text-anchor=\"end\" x=\"79\" y=\"4.199999999999999\" style=\"font-family: 'Open Sans', verdana, arial, sans-serif; font-size: 12px; fill: rgb(42, 63, 95); fill-opacity: 1; white-space: pre; opacity: 1;\" transform=\"translate(0,235.93)\">100</text></g><g class=\"ytick\"><text text-anchor=\"end\" x=\"79\" y=\"4.199999999999999\" style=\"font-family: 'Open Sans', verdana, arial, sans-serif; font-size: 12px; fill: rgb(42, 63, 95); fill-opacity: 1; white-space: pre; opacity: 1;\" transform=\"translate(0,183.86)\">200</text></g><g class=\"ytick\"><text text-anchor=\"end\" x=\"79\" y=\"4.199999999999999\" style=\"font-family: 'Open Sans', verdana, arial, sans-serif; font-size: 12px; fill: rgb(42, 63, 95); fill-opacity: 1; white-space: pre; opacity: 1;\" transform=\"translate(0,131.79)\">300</text></g></g><g class=\"overaxes-above\"/></g></g><g class=\"polarlayer\"/><g class=\"smithlayer\"/><g class=\"ternarylayer\"/><g class=\"geolayer\"/><g class=\"funnelarealayer\"/><g class=\"pielayer\"/><g class=\"iciclelayer\"/><g class=\"treemaplayer\"/><g class=\"sunburstlayer\"/><g class=\"glimages\"/><defs id=\"topdefs-e25767\"><g class=\"clips\"/></defs><g class=\"layer-above\"><g class=\"imagelayer\"/><g class=\"shapelayer\"/></g><g class=\"infolayer\"><g class=\"g-gtitle\"><text class=\"gtitle\" x=\"500\" y=\"50\" text-anchor=\"middle\" dy=\"0em\" style=\"font-family: 'Open Sans', verdana, arial, sans-serif; font-size: 17px; fill: rgb(42, 63, 95); opacity: 1; font-weight: normal; white-space: pre;\">Top 10 Most Streamed Podcast Based on Play Counts</text></g><g class=\"g-xtitle\"><text class=\"xtitle\" x=\"500\" y=\"487.1935546875\" text-anchor=\"middle\" style=\"font-family: 'Open Sans', verdana, arial, sans-serif; font-size: 14px; fill: rgb(42, 63, 95); opacity: 1; font-weight: normal; white-space: pre;\">Artists</text></g><g class=\"g-ytitle\"><text class=\"ytitle\" transform=\"rotate(-90,31.809375000000003,194)\" x=\"31.809375000000003\" y=\"194\" text-anchor=\"middle\" style=\"font-family: 'Open Sans', verdana, arial, sans-serif; font-size: 14px; fill: rgb(42, 63, 95); opacity: 1; font-weight: normal; white-space: pre;\">Total Streams in Hours</text></g></g></svg>"
      ]
     },
     "metadata": {},
     "output_type": "display_data"
    }
   ],
   "source": [
    "# Visualize top artists\n",
    "fig = px.bar(showname_play_counts.head(10), x=showname_play_counts.head(10).index, y=showname_play_counts.head(10).values,\n",
    "             labels={'x': 'Artists', 'y': 'Total Streams'},\n",
    "             title='Top 10 Most Streamed Podcast Based on Play Counts')\n",
    "\n",
    "# Define colors using Spotify palette for top 5 tracks, green for others\n",
    "color_scale = ['green' if artist in showname_play_counts.head(3).index else '#16D35C' for artist in showname_play_counts.index]\n",
    "\n",
    "# Update colors and text labels for each bar\n",
    "fig.update_traces(marker_color=color_scale,\n",
    "                  text=showname_play_counts.values, \n",
    "                  textposition='inside', \n",
    "                  textfont=dict(color='white'))\n",
    "\n",
    "fig.update_layout(xaxis_title='Artists', \n",
    "                  yaxis_title='Total Streams in Hours', \n",
    "                  xaxis_tickangle=-45, showlegend=False, title_x=0.5,\n",
    "                  width=1000, height=500)\n",
    "fig.show()"
   ]
  }
 ],
 "metadata": {
  "kernelspec": {
   "display_name": "Python 3",
   "language": "python",
   "name": "python3"
  },
  "language_info": {
   "codemirror_mode": {
    "name": "ipython",
    "version": 3
   },
   "file_extension": ".py",
   "mimetype": "text/x-python",
   "name": "python",
   "nbconvert_exporter": "python",
   "pygments_lexer": "ipython3",
   "version": "3.12.2"
  }
 },
 "nbformat": 4,
 "nbformat_minor": 2
}
