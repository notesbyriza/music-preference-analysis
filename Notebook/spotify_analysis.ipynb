{
 "cells": [
  {
   "cell_type": "markdown",
   "metadata": {},
   "source": [
    "## **Overview**"
   ]
  },
  {
   "cell_type": "markdown",
   "metadata": {},
   "source": [
    "The objective of this project is to conduct a comprehensive analysis of the user's music preferences and tastes using data from Spotify's API and the user's streaming history. By leveraging Python programming language and various data analysis libraries, the project aims to provide insights into the user's listening habits, preferred artists, tracks, and other relevant metrics. The ultimate goal is to gain a deeper understanding of the user's musical preferences and behavior."
   ]
  },
  {
   "cell_type": "markdown",
   "metadata": {},
   "source": [
    "## **Key Objectives:**"
   ]
  },
  {
   "cell_type": "markdown",
   "metadata": {},
   "source": [
    "1. **Data Collection:**\n",
    "   - Utilize the publicly available API of Spotify to gather data on artists and tracks.\n",
    "   - Obtain my streaming history data from Spotify's Account Privacy page.\n",
    "\n",
    "2. **Data Preprocessing:**\n",
    "   - Cleanse and preprocess the data obtained from both sources to ensure consistency and accuracy.\n",
    "   - Handle missing values, duplicates, and other anomalies in the data.\n",
    "\n",
    "3. **Exploratory Data Analysis (EDA):**\n",
    "   - Perform exploratory data analysis to uncover patterns and trends in my music listening habits.\n",
    "   - Visualize the distribution of artists, and tracks in my listening history.\n",
    "   - Identify correlations between different variables such as time of day, day of week, and music preferences.\n",
    "\n",
    "4. **Feature Engineering:**\n",
    "   - Extract relevant features from the data to facilitate further analysis.\n",
    "   - Create new variables or metrics to capture specific aspects of my music preferences.\n",
    "\n",
    "5. **Modeling and Analysis:**\n",
    "   - Apply machine learning algorithms or statistical models to predict my preferences or recommend new music.\n",
    "   - Conduct cluster analysis to group similar genres, artists, or tracks based on my behavior.\n",
    "   - Explore sentiment analysis to understand the emotional response associated with different types of music.\n",
    "\n",
    "6. **Insights and Recommendations:**\n",
    "   - Summarize findings from the analysis and derive actionable insights about my music preferences.\n",
    "   - Provide personalized recommendations for new music, playlists, or artists based on the analysis results.\n",
    "   - Offer suggestions for improving my music listening experience on Spotify."
   ]
  },
  {
   "cell_type": "markdown",
   "metadata": {},
   "source": [
    "## **Tools and Technologies:**\n",
    "\n",
    "- Python programming language\n",
    "- Pandas, NumPy for data manipulation\n",
    "- Matplotlib, Seaborn for data visualization\n",
    "- Scikit-learn for machine learning algorithms\n",
    "- Spotify API for data retrieval\n",
    "- Jupyter Notebook for interactive development and documentation"
   ]
  },
  {
   "cell_type": "markdown",
   "metadata": {},
   "source": [
    "## **Import Package**"
   ]
  },
  {
   "cell_type": "code",
   "execution_count": 1,
   "metadata": {},
   "outputs": [],
   "source": [
    "# Importing all the required libraries and packages\n",
    "import numpy as np\n",
    "import pandas as pd\n",
    "import matplotlib.pyplot as plt\n",
    "import plotly.express as px\n",
    "import plotly.io as pio\n",
    "import seaborn as sns\n",
    "import warnings\n",
    "\n",
    "warnings.filterwarnings(\"ignore\")\n",
    "pio.renderers.default = \"svg\""
   ]
  },
  {
   "cell_type": "markdown",
   "metadata": {},
   "source": [
    "## **Data Overview**"
   ]
  },
  {
   "cell_type": "markdown",
   "metadata": {},
   "source": [
    "### **Read Data**"
   ]
  },
  {
   "cell_type": "code",
   "execution_count": 2,
   "metadata": {},
   "outputs": [],
   "source": [
    "spotify_data = pd.read_csv(r'D:\\Project\\Repository\\spotify-analysis\\Data\\all_spotify_data.csv', low_memory=False)"
   ]
  },
  {
   "cell_type": "code",
   "execution_count": 3,
   "metadata": {},
   "outputs": [
    {
     "data": {
      "text/html": [
       "<div>\n",
       "<style scoped>\n",
       "    .dataframe tbody tr th:only-of-type {\n",
       "        vertical-align: middle;\n",
       "    }\n",
       "\n",
       "    .dataframe tbody tr th {\n",
       "        vertical-align: top;\n",
       "    }\n",
       "\n",
       "    .dataframe thead th {\n",
       "        text-align: right;\n",
       "    }\n",
       "</style>\n",
       "<table border=\"1\" class=\"dataframe\">\n",
       "  <thead>\n",
       "    <tr style=\"text-align: right;\">\n",
       "      <th></th>\n",
       "      <th>ts</th>\n",
       "      <th>platform</th>\n",
       "      <th>ms_played</th>\n",
       "      <th>master_metadata_track_name</th>\n",
       "      <th>master_metadata_album_artist_name</th>\n",
       "      <th>master_metadata_album_album_name</th>\n",
       "      <th>episode_name</th>\n",
       "      <th>episode_show_name</th>\n",
       "      <th>spotify_episode_uri</th>\n",
       "      <th>reason_start</th>\n",
       "      <th>...</th>\n",
       "      <th>acousticness</th>\n",
       "      <th>danceability</th>\n",
       "      <th>energy</th>\n",
       "      <th>instrumentalness</th>\n",
       "      <th>liveness</th>\n",
       "      <th>speechiness</th>\n",
       "      <th>loudness</th>\n",
       "      <th>mode</th>\n",
       "      <th>tempo</th>\n",
       "      <th>time_signature</th>\n",
       "    </tr>\n",
       "  </thead>\n",
       "  <tbody>\n",
       "    <tr>\n",
       "      <th>0</th>\n",
       "      <td>2019-02-08T22:51:39Z</td>\n",
       "      <td>Android</td>\n",
       "      <td>31267</td>\n",
       "      <td>NaN</td>\n",
       "      <td>NaN</td>\n",
       "      <td>NaN</td>\n",
       "      <td>8 - \"Taste\" by Rebecca Woodmass</td>\n",
       "      <td>A Little Poem with Rebecca Woodmass</td>\n",
       "      <td>spotify:episode:0lY0dPwAfZoPgSepp1eCrp</td>\n",
       "      <td>clickrow</td>\n",
       "      <td>...</td>\n",
       "      <td>NaN</td>\n",
       "      <td>NaN</td>\n",
       "      <td>NaN</td>\n",
       "      <td>NaN</td>\n",
       "      <td>NaN</td>\n",
       "      <td>NaN</td>\n",
       "      <td>NaN</td>\n",
       "      <td>NaN</td>\n",
       "      <td>NaN</td>\n",
       "      <td>NaN</td>\n",
       "    </tr>\n",
       "    <tr>\n",
       "      <th>1</th>\n",
       "      <td>2019-02-09T03:50:12Z</td>\n",
       "      <td>Android</td>\n",
       "      <td>5463</td>\n",
       "      <td>NaN</td>\n",
       "      <td>NaN</td>\n",
       "      <td>NaN</td>\n",
       "      <td>What your breath could reveal about your healt...</td>\n",
       "      <td>TED Talks Daily</td>\n",
       "      <td>spotify:episode:6v0Fw2ov3RclzEFoG68roa</td>\n",
       "      <td>clickrow</td>\n",
       "      <td>...</td>\n",
       "      <td>NaN</td>\n",
       "      <td>NaN</td>\n",
       "      <td>NaN</td>\n",
       "      <td>NaN</td>\n",
       "      <td>NaN</td>\n",
       "      <td>NaN</td>\n",
       "      <td>NaN</td>\n",
       "      <td>NaN</td>\n",
       "      <td>NaN</td>\n",
       "      <td>NaN</td>\n",
       "    </tr>\n",
       "    <tr>\n",
       "      <th>2</th>\n",
       "      <td>2019-02-09T03:50:33Z</td>\n",
       "      <td>Android</td>\n",
       "      <td>5463</td>\n",
       "      <td>NaN</td>\n",
       "      <td>NaN</td>\n",
       "      <td>NaN</td>\n",
       "      <td>What your breath could reveal about your healt...</td>\n",
       "      <td>TED Talks Daily</td>\n",
       "      <td>spotify:episode:6v0Fw2ov3RclzEFoG68roa</td>\n",
       "      <td>clickrow</td>\n",
       "      <td>...</td>\n",
       "      <td>NaN</td>\n",
       "      <td>NaN</td>\n",
       "      <td>NaN</td>\n",
       "      <td>NaN</td>\n",
       "      <td>NaN</td>\n",
       "      <td>NaN</td>\n",
       "      <td>NaN</td>\n",
       "      <td>NaN</td>\n",
       "      <td>NaN</td>\n",
       "      <td>NaN</td>\n",
       "    </tr>\n",
       "    <tr>\n",
       "      <th>3</th>\n",
       "      <td>2019-02-09T03:50:51Z</td>\n",
       "      <td>Android</td>\n",
       "      <td>5463</td>\n",
       "      <td>NaN</td>\n",
       "      <td>NaN</td>\n",
       "      <td>NaN</td>\n",
       "      <td>What your breath could reveal about your healt...</td>\n",
       "      <td>TED Talks Daily</td>\n",
       "      <td>spotify:episode:6v0Fw2ov3RclzEFoG68roa</td>\n",
       "      <td>clickrow</td>\n",
       "      <td>...</td>\n",
       "      <td>NaN</td>\n",
       "      <td>NaN</td>\n",
       "      <td>NaN</td>\n",
       "      <td>NaN</td>\n",
       "      <td>NaN</td>\n",
       "      <td>NaN</td>\n",
       "      <td>NaN</td>\n",
       "      <td>NaN</td>\n",
       "      <td>NaN</td>\n",
       "      <td>NaN</td>\n",
       "    </tr>\n",
       "    <tr>\n",
       "      <th>4</th>\n",
       "      <td>2019-02-09T11:05:55Z</td>\n",
       "      <td>Android</td>\n",
       "      <td>77742</td>\n",
       "      <td>NaN</td>\n",
       "      <td>NaN</td>\n",
       "      <td>NaN</td>\n",
       "      <td>What your breath could reveal about your healt...</td>\n",
       "      <td>TED Talks Daily</td>\n",
       "      <td>spotify:episode:6v0Fw2ov3RclzEFoG68roa</td>\n",
       "      <td>appload</td>\n",
       "      <td>...</td>\n",
       "      <td>NaN</td>\n",
       "      <td>NaN</td>\n",
       "      <td>NaN</td>\n",
       "      <td>NaN</td>\n",
       "      <td>NaN</td>\n",
       "      <td>NaN</td>\n",
       "      <td>NaN</td>\n",
       "      <td>NaN</td>\n",
       "      <td>NaN</td>\n",
       "      <td>NaN</td>\n",
       "    </tr>\n",
       "  </tbody>\n",
       "</table>\n",
       "<p>5 rows × 35 columns</p>\n",
       "</div>"
      ],
      "text/plain": [
       "                     ts platform  ms_played master_metadata_track_name  \\\n",
       "0  2019-02-08T22:51:39Z  Android      31267                        NaN   \n",
       "1  2019-02-09T03:50:12Z  Android       5463                        NaN   \n",
       "2  2019-02-09T03:50:33Z  Android       5463                        NaN   \n",
       "3  2019-02-09T03:50:51Z  Android       5463                        NaN   \n",
       "4  2019-02-09T11:05:55Z  Android      77742                        NaN   \n",
       "\n",
       "  master_metadata_album_artist_name master_metadata_album_album_name  \\\n",
       "0                               NaN                              NaN   \n",
       "1                               NaN                              NaN   \n",
       "2                               NaN                              NaN   \n",
       "3                               NaN                              NaN   \n",
       "4                               NaN                              NaN   \n",
       "\n",
       "                                        episode_name  \\\n",
       "0                    8 - \"Taste\" by Rebecca Woodmass   \n",
       "1  What your breath could reveal about your healt...   \n",
       "2  What your breath could reveal about your healt...   \n",
       "3  What your breath could reveal about your healt...   \n",
       "4  What your breath could reveal about your healt...   \n",
       "\n",
       "                     episode_show_name  \\\n",
       "0  A Little Poem with Rebecca Woodmass   \n",
       "1                      TED Talks Daily   \n",
       "2                      TED Talks Daily   \n",
       "3                      TED Talks Daily   \n",
       "4                      TED Talks Daily   \n",
       "\n",
       "                      spotify_episode_uri reason_start  ... acousticness  \\\n",
       "0  spotify:episode:0lY0dPwAfZoPgSepp1eCrp     clickrow  ...          NaN   \n",
       "1  spotify:episode:6v0Fw2ov3RclzEFoG68roa     clickrow  ...          NaN   \n",
       "2  spotify:episode:6v0Fw2ov3RclzEFoG68roa     clickrow  ...          NaN   \n",
       "3  spotify:episode:6v0Fw2ov3RclzEFoG68roa     clickrow  ...          NaN   \n",
       "4  spotify:episode:6v0Fw2ov3RclzEFoG68roa      appload  ...          NaN   \n",
       "\n",
       "   danceability energy  instrumentalness  liveness  speechiness loudness mode  \\\n",
       "0           NaN    NaN               NaN       NaN          NaN      NaN  NaN   \n",
       "1           NaN    NaN               NaN       NaN          NaN      NaN  NaN   \n",
       "2           NaN    NaN               NaN       NaN          NaN      NaN  NaN   \n",
       "3           NaN    NaN               NaN       NaN          NaN      NaN  NaN   \n",
       "4           NaN    NaN               NaN       NaN          NaN      NaN  NaN   \n",
       "\n",
       "  tempo time_signature  \n",
       "0   NaN            NaN  \n",
       "1   NaN            NaN  \n",
       "2   NaN            NaN  \n",
       "3   NaN            NaN  \n",
       "4   NaN            NaN  \n",
       "\n",
       "[5 rows x 35 columns]"
      ]
     },
     "execution_count": 3,
     "metadata": {},
     "output_type": "execute_result"
    }
   ],
   "source": [
    "spotify_data.head()"
   ]
  },
  {
   "cell_type": "markdown",
   "metadata": {},
   "source": [
    "### **Detailed Data Information**"
   ]
  },
  {
   "cell_type": "code",
   "execution_count": 4,
   "metadata": {},
   "outputs": [
    {
     "name": "stdout",
     "output_type": "stream",
     "text": [
      "<class 'pandas.core.frame.DataFrame'>\n",
      "RangeIndex: 129291 entries, 0 to 129290\n",
      "Data columns (total 35 columns):\n",
      " #   Column                             Non-Null Count   Dtype  \n",
      "---  ------                             --------------   -----  \n",
      " 0   ts                                 129291 non-null  object \n",
      " 1   platform                           129291 non-null  object \n",
      " 2   ms_played                          129291 non-null  int64  \n",
      " 3   master_metadata_track_name         126946 non-null  object \n",
      " 4   master_metadata_album_artist_name  126946 non-null  object \n",
      " 5   master_metadata_album_album_name   126946 non-null  object \n",
      " 6   episode_name                       2268 non-null    object \n",
      " 7   episode_show_name                  2265 non-null    object \n",
      " 8   spotify_episode_uri                2268 non-null    object \n",
      " 9   reason_start                       129291 non-null  object \n",
      " 10  reason_end                         129291 non-null  object \n",
      " 11  shuffle                            129291 non-null  bool   \n",
      " 12  skipped                            71953 non-null   object \n",
      " 13  offline                            129291 non-null  bool   \n",
      " 14  offline_timestamp                  129291 non-null  int64  \n",
      " 15  incognito_mode                     129291 non-null  bool   \n",
      " 16  track_uri                          126946 non-null  object \n",
      " 17  track_id                           19472 non-null   object \n",
      " 18  track_name                         19472 non-null   object \n",
      " 19  release_date                       19472 non-null   object \n",
      " 20  length                             19472 non-null   float64\n",
      " 21  track_popularity                   19472 non-null   float64\n",
      " 22  album_id                           19472 non-null   object \n",
      " 23  album_name                         19472 non-null   object \n",
      " 24  artist_name                        19472 non-null   object \n",
      " 25  acousticness                       19472 non-null   float64\n",
      " 26  danceability                       19472 non-null   float64\n",
      " 27  energy                             19472 non-null   float64\n",
      " 28  instrumentalness                   19472 non-null   float64\n",
      " 29  liveness                           19472 non-null   float64\n",
      " 30  speechiness                        19472 non-null   float64\n",
      " 31  loudness                           19472 non-null   float64\n",
      " 32  mode                               19472 non-null   float64\n",
      " 33  tempo                              19472 non-null   float64\n",
      " 34  time_signature                     19472 non-null   float64\n",
      "dtypes: bool(3), float64(12), int64(2), object(18)\n",
      "memory usage: 31.9+ MB\n"
     ]
    }
   ],
   "source": [
    "spotify_data.info()"
   ]
  },
  {
   "cell_type": "code",
   "execution_count": 5,
   "metadata": {},
   "outputs": [
    {
     "data": {
      "text/html": [
       "<div>\n",
       "<style scoped>\n",
       "    .dataframe tbody tr th:only-of-type {\n",
       "        vertical-align: middle;\n",
       "    }\n",
       "\n",
       "    .dataframe tbody tr th {\n",
       "        vertical-align: top;\n",
       "    }\n",
       "\n",
       "    .dataframe thead th {\n",
       "        text-align: right;\n",
       "    }\n",
       "</style>\n",
       "<table border=\"1\" class=\"dataframe\">\n",
       "  <thead>\n",
       "    <tr style=\"text-align: right;\">\n",
       "      <th></th>\n",
       "      <th>ms_played</th>\n",
       "      <th>offline_timestamp</th>\n",
       "      <th>length</th>\n",
       "      <th>track_popularity</th>\n",
       "      <th>acousticness</th>\n",
       "      <th>danceability</th>\n",
       "      <th>energy</th>\n",
       "      <th>instrumentalness</th>\n",
       "      <th>liveness</th>\n",
       "      <th>speechiness</th>\n",
       "      <th>loudness</th>\n",
       "      <th>mode</th>\n",
       "      <th>tempo</th>\n",
       "      <th>time_signature</th>\n",
       "    </tr>\n",
       "  </thead>\n",
       "  <tbody>\n",
       "    <tr>\n",
       "      <th>count</th>\n",
       "      <td>1.292910e+05</td>\n",
       "      <td>1.292910e+05</td>\n",
       "      <td>19472.000000</td>\n",
       "      <td>19472.000000</td>\n",
       "      <td>19472.000000</td>\n",
       "      <td>19472.000000</td>\n",
       "      <td>19472.000000</td>\n",
       "      <td>19472.000000</td>\n",
       "      <td>19472.000000</td>\n",
       "      <td>19472.000000</td>\n",
       "      <td>19472.000000</td>\n",
       "      <td>19472.000000</td>\n",
       "      <td>19472.000000</td>\n",
       "      <td>19472.000000</td>\n",
       "    </tr>\n",
       "    <tr>\n",
       "      <th>mean</th>\n",
       "      <td>1.706095e+05</td>\n",
       "      <td>6.602668e+11</td>\n",
       "      <td>225346.360055</td>\n",
       "      <td>67.454704</td>\n",
       "      <td>0.493939</td>\n",
       "      <td>0.546504</td>\n",
       "      <td>0.488246</td>\n",
       "      <td>0.069886</td>\n",
       "      <td>0.157588</td>\n",
       "      <td>0.050309</td>\n",
       "      <td>-8.672958</td>\n",
       "      <td>0.865396</td>\n",
       "      <td>118.507806</td>\n",
       "      <td>3.916290</td>\n",
       "    </tr>\n",
       "    <tr>\n",
       "      <th>std</th>\n",
       "      <td>1.345194e+05</td>\n",
       "      <td>7.959263e+11</td>\n",
       "      <td>54444.477531</td>\n",
       "      <td>15.252182</td>\n",
       "      <td>0.343756</td>\n",
       "      <td>0.137735</td>\n",
       "      <td>0.220862</td>\n",
       "      <td>0.221245</td>\n",
       "      <td>0.106004</td>\n",
       "      <td>0.046766</td>\n",
       "      <td>4.025461</td>\n",
       "      <td>0.341308</td>\n",
       "      <td>29.829805</td>\n",
       "      <td>0.328999</td>\n",
       "    </tr>\n",
       "    <tr>\n",
       "      <th>min</th>\n",
       "      <td>0.000000e+00</td>\n",
       "      <td>0.000000e+00</td>\n",
       "      <td>48000.000000</td>\n",
       "      <td>2.000000</td>\n",
       "      <td>0.000026</td>\n",
       "      <td>0.079300</td>\n",
       "      <td>0.002440</td>\n",
       "      <td>0.000000</td>\n",
       "      <td>0.033400</td>\n",
       "      <td>0.023200</td>\n",
       "      <td>-44.677000</td>\n",
       "      <td>0.000000</td>\n",
       "      <td>52.463000</td>\n",
       "      <td>1.000000</td>\n",
       "    </tr>\n",
       "    <tr>\n",
       "      <th>25%</th>\n",
       "      <td>1.103370e+05</td>\n",
       "      <td>1.672713e+09</td>\n",
       "      <td>194469.000000</td>\n",
       "      <td>60.000000</td>\n",
       "      <td>0.130000</td>\n",
       "      <td>0.447000</td>\n",
       "      <td>0.319000</td>\n",
       "      <td>0.000000</td>\n",
       "      <td>0.097400</td>\n",
       "      <td>0.030700</td>\n",
       "      <td>-10.917000</td>\n",
       "      <td>1.000000</td>\n",
       "      <td>95.985000</td>\n",
       "      <td>4.000000</td>\n",
       "    </tr>\n",
       "    <tr>\n",
       "      <th>50%</th>\n",
       "      <td>1.857730e+05</td>\n",
       "      <td>1.701224e+09</td>\n",
       "      <td>218735.000000</td>\n",
       "      <td>70.000000</td>\n",
       "      <td>0.513000</td>\n",
       "      <td>0.559000</td>\n",
       "      <td>0.463000</td>\n",
       "      <td>0.000011</td>\n",
       "      <td>0.113000</td>\n",
       "      <td>0.036300</td>\n",
       "      <td>-7.680000</td>\n",
       "      <td>1.000000</td>\n",
       "      <td>114.924000</td>\n",
       "      <td>4.000000</td>\n",
       "    </tr>\n",
       "    <tr>\n",
       "      <th>75%</th>\n",
       "      <td>2.245420e+05</td>\n",
       "      <td>1.616122e+12</td>\n",
       "      <td>252266.000000</td>\n",
       "      <td>77.000000</td>\n",
       "      <td>0.831000</td>\n",
       "      <td>0.643000</td>\n",
       "      <td>0.661000</td>\n",
       "      <td>0.001010</td>\n",
       "      <td>0.170000</td>\n",
       "      <td>0.051900</td>\n",
       "      <td>-5.927000</td>\n",
       "      <td>1.000000</td>\n",
       "      <td>139.916000</td>\n",
       "      <td>4.000000</td>\n",
       "    </tr>\n",
       "    <tr>\n",
       "      <th>max</th>\n",
       "      <td>7.575928e+06</td>\n",
       "      <td>1.665470e+12</td>\n",
       "      <td>493400.000000</td>\n",
       "      <td>96.000000</td>\n",
       "      <td>0.996000</td>\n",
       "      <td>0.925000</td>\n",
       "      <td>0.988000</td>\n",
       "      <td>0.982000</td>\n",
       "      <td>0.626000</td>\n",
       "      <td>0.463000</td>\n",
       "      <td>-1.329000</td>\n",
       "      <td>1.000000</td>\n",
       "      <td>199.811000</td>\n",
       "      <td>5.000000</td>\n",
       "    </tr>\n",
       "  </tbody>\n",
       "</table>\n",
       "</div>"
      ],
      "text/plain": [
       "          ms_played  offline_timestamp         length  track_popularity  \\\n",
       "count  1.292910e+05       1.292910e+05   19472.000000      19472.000000   \n",
       "mean   1.706095e+05       6.602668e+11  225346.360055         67.454704   \n",
       "std    1.345194e+05       7.959263e+11   54444.477531         15.252182   \n",
       "min    0.000000e+00       0.000000e+00   48000.000000          2.000000   \n",
       "25%    1.103370e+05       1.672713e+09  194469.000000         60.000000   \n",
       "50%    1.857730e+05       1.701224e+09  218735.000000         70.000000   \n",
       "75%    2.245420e+05       1.616122e+12  252266.000000         77.000000   \n",
       "max    7.575928e+06       1.665470e+12  493400.000000         96.000000   \n",
       "\n",
       "       acousticness  danceability        energy  instrumentalness  \\\n",
       "count  19472.000000  19472.000000  19472.000000      19472.000000   \n",
       "mean       0.493939      0.546504      0.488246          0.069886   \n",
       "std        0.343756      0.137735      0.220862          0.221245   \n",
       "min        0.000026      0.079300      0.002440          0.000000   \n",
       "25%        0.130000      0.447000      0.319000          0.000000   \n",
       "50%        0.513000      0.559000      0.463000          0.000011   \n",
       "75%        0.831000      0.643000      0.661000          0.001010   \n",
       "max        0.996000      0.925000      0.988000          0.982000   \n",
       "\n",
       "           liveness   speechiness      loudness          mode         tempo  \\\n",
       "count  19472.000000  19472.000000  19472.000000  19472.000000  19472.000000   \n",
       "mean       0.157588      0.050309     -8.672958      0.865396    118.507806   \n",
       "std        0.106004      0.046766      4.025461      0.341308     29.829805   \n",
       "min        0.033400      0.023200    -44.677000      0.000000     52.463000   \n",
       "25%        0.097400      0.030700    -10.917000      1.000000     95.985000   \n",
       "50%        0.113000      0.036300     -7.680000      1.000000    114.924000   \n",
       "75%        0.170000      0.051900     -5.927000      1.000000    139.916000   \n",
       "max        0.626000      0.463000     -1.329000      1.000000    199.811000   \n",
       "\n",
       "       time_signature  \n",
       "count    19472.000000  \n",
       "mean         3.916290  \n",
       "std          0.328999  \n",
       "min          1.000000  \n",
       "25%          4.000000  \n",
       "50%          4.000000  \n",
       "75%          4.000000  \n",
       "max          5.000000  "
      ]
     },
     "execution_count": 5,
     "metadata": {},
     "output_type": "execute_result"
    }
   ],
   "source": [
    "spotify_data.describe()"
   ]
  },
  {
   "cell_type": "code",
   "execution_count": 6,
   "metadata": {},
   "outputs": [
    {
     "data": {
      "text/html": [
       "<div>\n",
       "<style scoped>\n",
       "    .dataframe tbody tr th:only-of-type {\n",
       "        vertical-align: middle;\n",
       "    }\n",
       "\n",
       "    .dataframe tbody tr th {\n",
       "        vertical-align: top;\n",
       "    }\n",
       "\n",
       "    .dataframe thead th {\n",
       "        text-align: right;\n",
       "    }\n",
       "</style>\n",
       "<table border=\"1\" class=\"dataframe\">\n",
       "  <thead>\n",
       "    <tr style=\"text-align: right;\">\n",
       "      <th></th>\n",
       "      <th>ts</th>\n",
       "      <th>platform</th>\n",
       "      <th>master_metadata_track_name</th>\n",
       "      <th>master_metadata_album_artist_name</th>\n",
       "      <th>master_metadata_album_album_name</th>\n",
       "      <th>episode_name</th>\n",
       "      <th>episode_show_name</th>\n",
       "      <th>spotify_episode_uri</th>\n",
       "      <th>reason_start</th>\n",
       "      <th>reason_end</th>\n",
       "      <th>skipped</th>\n",
       "      <th>track_uri</th>\n",
       "      <th>track_id</th>\n",
       "      <th>track_name</th>\n",
       "      <th>release_date</th>\n",
       "      <th>album_id</th>\n",
       "      <th>album_name</th>\n",
       "      <th>artist_name</th>\n",
       "    </tr>\n",
       "  </thead>\n",
       "  <tbody>\n",
       "    <tr>\n",
       "      <th>count</th>\n",
       "      <td>129291</td>\n",
       "      <td>129291</td>\n",
       "      <td>126946</td>\n",
       "      <td>126946</td>\n",
       "      <td>126946</td>\n",
       "      <td>2268</td>\n",
       "      <td>2265</td>\n",
       "      <td>2268</td>\n",
       "      <td>129291</td>\n",
       "      <td>129291</td>\n",
       "      <td>71953</td>\n",
       "      <td>126946</td>\n",
       "      <td>19472</td>\n",
       "      <td>19472</td>\n",
       "      <td>19472</td>\n",
       "      <td>19472</td>\n",
       "      <td>19472</td>\n",
       "      <td>19472</td>\n",
       "    </tr>\n",
       "    <tr>\n",
       "      <th>unique</th>\n",
       "      <td>103535</td>\n",
       "      <td>2</td>\n",
       "      <td>13737</td>\n",
       "      <td>6102</td>\n",
       "      <td>10997</td>\n",
       "      <td>1396</td>\n",
       "      <td>296</td>\n",
       "      <td>1397</td>\n",
       "      <td>9</td>\n",
       "      <td>10</td>\n",
       "      <td>4</td>\n",
       "      <td>16706</td>\n",
       "      <td>564</td>\n",
       "      <td>529</td>\n",
       "      <td>348</td>\n",
       "      <td>407</td>\n",
       "      <td>402</td>\n",
       "      <td>117</td>\n",
       "    </tr>\n",
       "    <tr>\n",
       "      <th>top</th>\n",
       "      <td>2022-01-01T11:42:30Z</td>\n",
       "      <td>Windows</td>\n",
       "      <td>Location</td>\n",
       "      <td>LANY</td>\n",
       "      <td>gg bb xx</td>\n",
       "      <td>YOASOBI THE BOOK 2 Spotify Edition</td>\n",
       "      <td>Mishary Rashid Alafasy</td>\n",
       "      <td>spotify:episode:0sPNGPetAt5PP9IXKD6Bko</td>\n",
       "      <td>trackdone</td>\n",
       "      <td>trackdone</td>\n",
       "      <td>False</td>\n",
       "      <td>152lZdxL1OR0ZMW6KquMif</td>\n",
       "      <td>1bD4DokWm69ZwGBQ75jAga</td>\n",
       "      <td>You Can Cry</td>\n",
       "      <td>2019-11-29</td>\n",
       "      <td>1DAuVHMlBvIjzWZALSUXbn</td>\n",
       "      <td>Menari Dengan Bayangan</td>\n",
       "      <td>LANY</td>\n",
       "    </tr>\n",
       "    <tr>\n",
       "      <th>freq</th>\n",
       "      <td>331</td>\n",
       "      <td>115003</td>\n",
       "      <td>760</td>\n",
       "      <td>4546</td>\n",
       "      <td>1084</td>\n",
       "      <td>86</td>\n",
       "      <td>343</td>\n",
       "      <td>86</td>\n",
       "      <td>90065</td>\n",
       "      <td>89606</td>\n",
       "      <td>35601</td>\n",
       "      <td>757</td>\n",
       "      <td>254</td>\n",
       "      <td>254</td>\n",
       "      <td>607</td>\n",
       "      <td>607</td>\n",
       "      <td>607</td>\n",
       "      <td>986</td>\n",
       "    </tr>\n",
       "  </tbody>\n",
       "</table>\n",
       "</div>"
      ],
      "text/plain": [
       "                          ts platform master_metadata_track_name  \\\n",
       "count                 129291   129291                     126946   \n",
       "unique                103535        2                      13737   \n",
       "top     2022-01-01T11:42:30Z  Windows                   Location   \n",
       "freq                     331   115003                        760   \n",
       "\n",
       "       master_metadata_album_artist_name master_metadata_album_album_name  \\\n",
       "count                             126946                           126946   \n",
       "unique                              6102                            10997   \n",
       "top                                 LANY                         gg bb xx   \n",
       "freq                                4546                             1084   \n",
       "\n",
       "                              episode_name       episode_show_name  \\\n",
       "count                                 2268                    2265   \n",
       "unique                                1396                     296   \n",
       "top     YOASOBI THE BOOK 2 Spotify Edition  Mishary Rashid Alafasy   \n",
       "freq                                    86                     343   \n",
       "\n",
       "                           spotify_episode_uri reason_start reason_end  \\\n",
       "count                                     2268       129291     129291   \n",
       "unique                                    1397            9         10   \n",
       "top     spotify:episode:0sPNGPetAt5PP9IXKD6Bko    trackdone  trackdone   \n",
       "freq                                        86        90065      89606   \n",
       "\n",
       "       skipped               track_uri                track_id   track_name  \\\n",
       "count    71953                  126946                   19472        19472   \n",
       "unique       4                   16706                     564          529   \n",
       "top      False  152lZdxL1OR0ZMW6KquMif  1bD4DokWm69ZwGBQ75jAga  You Can Cry   \n",
       "freq     35601                     757                     254          254   \n",
       "\n",
       "       release_date                album_id              album_name  \\\n",
       "count         19472                   19472                   19472   \n",
       "unique          348                     407                     402   \n",
       "top      2019-11-29  1DAuVHMlBvIjzWZALSUXbn  Menari Dengan Bayangan   \n",
       "freq            607                     607                     607   \n",
       "\n",
       "       artist_name  \n",
       "count        19472  \n",
       "unique         117  \n",
       "top           LANY  \n",
       "freq           986  "
      ]
     },
     "execution_count": 6,
     "metadata": {},
     "output_type": "execute_result"
    }
   ],
   "source": [
    "spotify_data.describe(include='object')"
   ]
  },
  {
   "cell_type": "markdown",
   "metadata": {},
   "source": [
    "## **Data Preprocessing**"
   ]
  },
  {
   "cell_type": "markdown",
   "metadata": {},
   "source": [
    "### **Data Type**"
   ]
  },
  {
   "cell_type": "markdown",
   "metadata": {},
   "source": [
    "#### **Checking Data Type**"
   ]
  },
  {
   "cell_type": "code",
   "execution_count": 7,
   "metadata": {},
   "outputs": [
    {
     "data": {
      "text/plain": [
       "ts                                    object\n",
       "platform                              object\n",
       "ms_played                              int64\n",
       "master_metadata_track_name            object\n",
       "master_metadata_album_artist_name     object\n",
       "master_metadata_album_album_name      object\n",
       "episode_name                          object\n",
       "episode_show_name                     object\n",
       "spotify_episode_uri                   object\n",
       "reason_start                          object\n",
       "reason_end                            object\n",
       "shuffle                                 bool\n",
       "skipped                               object\n",
       "offline                                 bool\n",
       "offline_timestamp                      int64\n",
       "incognito_mode                          bool\n",
       "track_uri                             object\n",
       "track_id                              object\n",
       "track_name                            object\n",
       "release_date                          object\n",
       "length                               float64\n",
       "track_popularity                     float64\n",
       "album_id                              object\n",
       "album_name                            object\n",
       "artist_name                           object\n",
       "acousticness                         float64\n",
       "danceability                         float64\n",
       "energy                               float64\n",
       "instrumentalness                     float64\n",
       "liveness                             float64\n",
       "speechiness                          float64\n",
       "loudness                             float64\n",
       "mode                                 float64\n",
       "tempo                                float64\n",
       "time_signature                       float64\n",
       "dtype: object"
      ]
     },
     "execution_count": 7,
     "metadata": {},
     "output_type": "execute_result"
    }
   ],
   "source": [
    "spotify_data.dtypes"
   ]
  },
  {
   "cell_type": "markdown",
   "metadata": {},
   "source": [
    "#### **Fixing Data Type**"
   ]
  },
  {
   "cell_type": "code",
   "execution_count": 8,
   "metadata": {},
   "outputs": [],
   "source": [
    "# Convert 'ts' column to datetime format\n",
    "spotify_data['ts'] = pd.to_datetime(spotify_data['ts'])"
   ]
  },
  {
   "cell_type": "code",
   "execution_count": 9,
   "metadata": {},
   "outputs": [
    {
     "data": {
      "text/plain": [
       "datetime64[ns, UTC]"
      ]
     },
     "execution_count": 9,
     "metadata": {},
     "output_type": "execute_result"
    }
   ],
   "source": [
    "spotify_data['ts'].dtypes"
   ]
  },
  {
   "cell_type": "markdown",
   "metadata": {},
   "source": [
    "### **Data Duplicates**"
   ]
  },
  {
   "cell_type": "markdown",
   "metadata": {},
   "source": [
    "#### **Identifying Data Duplicates**"
   ]
  },
  {
   "cell_type": "code",
   "execution_count": 10,
   "metadata": {},
   "outputs": [
    {
     "data": {
      "text/plain": [
       "False    112881\n",
       "True      16410\n",
       "Name: count, dtype: int64"
      ]
     },
     "execution_count": 10,
     "metadata": {},
     "output_type": "execute_result"
    }
   ],
   "source": [
    "spotify_data.duplicated().value_counts()"
   ]
  },
  {
   "cell_type": "code",
   "execution_count": 11,
   "metadata": {},
   "outputs": [
    {
     "data": {
      "text/html": [
       "<div>\n",
       "<style scoped>\n",
       "    .dataframe tbody tr th:only-of-type {\n",
       "        vertical-align: middle;\n",
       "    }\n",
       "\n",
       "    .dataframe tbody tr th {\n",
       "        vertical-align: top;\n",
       "    }\n",
       "\n",
       "    .dataframe thead th {\n",
       "        text-align: right;\n",
       "    }\n",
       "</style>\n",
       "<table border=\"1\" class=\"dataframe\">\n",
       "  <thead>\n",
       "    <tr style=\"text-align: right;\">\n",
       "      <th></th>\n",
       "      <th>ts</th>\n",
       "      <th>platform</th>\n",
       "      <th>ms_played</th>\n",
       "      <th>master_metadata_track_name</th>\n",
       "      <th>master_metadata_album_artist_name</th>\n",
       "      <th>master_metadata_album_album_name</th>\n",
       "      <th>episode_name</th>\n",
       "      <th>episode_show_name</th>\n",
       "      <th>spotify_episode_uri</th>\n",
       "      <th>reason_start</th>\n",
       "      <th>...</th>\n",
       "      <th>acousticness</th>\n",
       "      <th>danceability</th>\n",
       "      <th>energy</th>\n",
       "      <th>instrumentalness</th>\n",
       "      <th>liveness</th>\n",
       "      <th>speechiness</th>\n",
       "      <th>loudness</th>\n",
       "      <th>mode</th>\n",
       "      <th>tempo</th>\n",
       "      <th>time_signature</th>\n",
       "    </tr>\n",
       "  </thead>\n",
       "  <tbody>\n",
       "    <tr>\n",
       "      <th>1456</th>\n",
       "      <td>2019-06-24 03:29:12+00:00</td>\n",
       "      <td>Android</td>\n",
       "      <td>25909</td>\n",
       "      <td>Complicated</td>\n",
       "      <td>Olivia O'Brien</td>\n",
       "      <td>Complicated</td>\n",
       "      <td>NaN</td>\n",
       "      <td>NaN</td>\n",
       "      <td>NaN</td>\n",
       "      <td>trackdone</td>\n",
       "      <td>...</td>\n",
       "      <td>NaN</td>\n",
       "      <td>NaN</td>\n",
       "      <td>NaN</td>\n",
       "      <td>NaN</td>\n",
       "      <td>NaN</td>\n",
       "      <td>NaN</td>\n",
       "      <td>NaN</td>\n",
       "      <td>NaN</td>\n",
       "      <td>NaN</td>\n",
       "      <td>NaN</td>\n",
       "    </tr>\n",
       "    <tr>\n",
       "      <th>3418</th>\n",
       "      <td>2019-10-21 09:28:58+00:00</td>\n",
       "      <td>Android</td>\n",
       "      <td>247108</td>\n",
       "      <td>Something Just Like This</td>\n",
       "      <td>The Chainsmokers</td>\n",
       "      <td>Memories...Do Not Open</td>\n",
       "      <td>NaN</td>\n",
       "      <td>NaN</td>\n",
       "      <td>NaN</td>\n",
       "      <td>trackdone</td>\n",
       "      <td>...</td>\n",
       "      <td>0.0498</td>\n",
       "      <td>0.617</td>\n",
       "      <td>0.635</td>\n",
       "      <td>0.000014</td>\n",
       "      <td>0.164</td>\n",
       "      <td>0.0317</td>\n",
       "      <td>-6.769</td>\n",
       "      <td>0.0</td>\n",
       "      <td>103.019</td>\n",
       "      <td>4.0</td>\n",
       "    </tr>\n",
       "    <tr>\n",
       "      <th>4549</th>\n",
       "      <td>2019-11-23 10:44:28+00:00</td>\n",
       "      <td>Android</td>\n",
       "      <td>4007</td>\n",
       "      <td>Something Just Like This</td>\n",
       "      <td>The Chainsmokers</td>\n",
       "      <td>Memories...Do Not Open</td>\n",
       "      <td>NaN</td>\n",
       "      <td>NaN</td>\n",
       "      <td>NaN</td>\n",
       "      <td>clickrow</td>\n",
       "      <td>...</td>\n",
       "      <td>0.0498</td>\n",
       "      <td>0.617</td>\n",
       "      <td>0.635</td>\n",
       "      <td>0.000014</td>\n",
       "      <td>0.164</td>\n",
       "      <td>0.0317</td>\n",
       "      <td>-6.769</td>\n",
       "      <td>0.0</td>\n",
       "      <td>103.019</td>\n",
       "      <td>4.0</td>\n",
       "    </tr>\n",
       "    <tr>\n",
       "      <th>4832</th>\n",
       "      <td>2019-11-30 11:14:35+00:00</td>\n",
       "      <td>Android</td>\n",
       "      <td>247108</td>\n",
       "      <td>Something Just Like This</td>\n",
       "      <td>The Chainsmokers</td>\n",
       "      <td>Memories...Do Not Open</td>\n",
       "      <td>NaN</td>\n",
       "      <td>NaN</td>\n",
       "      <td>NaN</td>\n",
       "      <td>trackdone</td>\n",
       "      <td>...</td>\n",
       "      <td>0.0498</td>\n",
       "      <td>0.617</td>\n",
       "      <td>0.635</td>\n",
       "      <td>0.000014</td>\n",
       "      <td>0.164</td>\n",
       "      <td>0.0317</td>\n",
       "      <td>-6.769</td>\n",
       "      <td>0.0</td>\n",
       "      <td>103.019</td>\n",
       "      <td>4.0</td>\n",
       "    </tr>\n",
       "    <tr>\n",
       "      <th>5137</th>\n",
       "      <td>2019-12-08 04:23:33+00:00</td>\n",
       "      <td>Android</td>\n",
       "      <td>247108</td>\n",
       "      <td>Something Just Like This</td>\n",
       "      <td>The Chainsmokers</td>\n",
       "      <td>Memories...Do Not Open</td>\n",
       "      <td>NaN</td>\n",
       "      <td>NaN</td>\n",
       "      <td>NaN</td>\n",
       "      <td>trackdone</td>\n",
       "      <td>...</td>\n",
       "      <td>0.0498</td>\n",
       "      <td>0.617</td>\n",
       "      <td>0.635</td>\n",
       "      <td>0.000014</td>\n",
       "      <td>0.164</td>\n",
       "      <td>0.0317</td>\n",
       "      <td>-6.769</td>\n",
       "      <td>0.0</td>\n",
       "      <td>103.019</td>\n",
       "      <td>4.0</td>\n",
       "    </tr>\n",
       "  </tbody>\n",
       "</table>\n",
       "<p>5 rows × 35 columns</p>\n",
       "</div>"
      ],
      "text/plain": [
       "                            ts platform  ms_played master_metadata_track_name  \\\n",
       "1456 2019-06-24 03:29:12+00:00  Android      25909                Complicated   \n",
       "3418 2019-10-21 09:28:58+00:00  Android     247108   Something Just Like This   \n",
       "4549 2019-11-23 10:44:28+00:00  Android       4007   Something Just Like This   \n",
       "4832 2019-11-30 11:14:35+00:00  Android     247108   Something Just Like This   \n",
       "5137 2019-12-08 04:23:33+00:00  Android     247108   Something Just Like This   \n",
       "\n",
       "     master_metadata_album_artist_name master_metadata_album_album_name  \\\n",
       "1456                    Olivia O'Brien                      Complicated   \n",
       "3418                  The Chainsmokers           Memories...Do Not Open   \n",
       "4549                  The Chainsmokers           Memories...Do Not Open   \n",
       "4832                  The Chainsmokers           Memories...Do Not Open   \n",
       "5137                  The Chainsmokers           Memories...Do Not Open   \n",
       "\n",
       "     episode_name episode_show_name spotify_episode_uri reason_start  ...  \\\n",
       "1456          NaN               NaN                 NaN    trackdone  ...   \n",
       "3418          NaN               NaN                 NaN    trackdone  ...   \n",
       "4549          NaN               NaN                 NaN     clickrow  ...   \n",
       "4832          NaN               NaN                 NaN    trackdone  ...   \n",
       "5137          NaN               NaN                 NaN    trackdone  ...   \n",
       "\n",
       "     acousticness  danceability energy  instrumentalness  liveness  \\\n",
       "1456          NaN           NaN    NaN               NaN       NaN   \n",
       "3418       0.0498         0.617  0.635          0.000014     0.164   \n",
       "4549       0.0498         0.617  0.635          0.000014     0.164   \n",
       "4832       0.0498         0.617  0.635          0.000014     0.164   \n",
       "5137       0.0498         0.617  0.635          0.000014     0.164   \n",
       "\n",
       "      speechiness loudness mode    tempo time_signature  \n",
       "1456          NaN      NaN  NaN      NaN            NaN  \n",
       "3418       0.0317   -6.769  0.0  103.019            4.0  \n",
       "4549       0.0317   -6.769  0.0  103.019            4.0  \n",
       "4832       0.0317   -6.769  0.0  103.019            4.0  \n",
       "5137       0.0317   -6.769  0.0  103.019            4.0  \n",
       "\n",
       "[5 rows x 35 columns]"
      ]
     },
     "execution_count": 11,
     "metadata": {},
     "output_type": "execute_result"
    }
   ],
   "source": [
    "duplicate_rows = spotify_data[spotify_data.duplicated()]\n",
    "duplicate_rows.head()"
   ]
  },
  {
   "cell_type": "markdown",
   "metadata": {},
   "source": [
    "### **Missing Values**"
   ]
  },
  {
   "cell_type": "markdown",
   "metadata": {},
   "source": [
    "#### **Identifying Missing Values**"
   ]
  },
  {
   "cell_type": "code",
   "execution_count": 12,
   "metadata": {},
   "outputs": [],
   "source": [
    "# Function to calculate missing values by column \n",
    "def missing_values_table(df):\n",
    "        # Total missing values\n",
    "        mis_val = df.isnull().sum()\n",
    "        # Percentage of missing values\n",
    "        mis_val_percent = 100 * df.isnull().sum() / len(df)\n",
    "        # Make a table with the results\n",
    "        mis_val_table = pd.concat([mis_val, mis_val_percent], axis=1)\n",
    "        # Rename the columns\n",
    "        mis_val_table_ren_columns = mis_val_table.rename(\n",
    "        columns = {0 : 'Missing Values', 1 : '% of Total Values'})\n",
    "        \n",
    "        # Sort the table by percentage of missing descending\n",
    "        mis_val_table_ren_columns = mis_val_table_ren_columns[\n",
    "            mis_val_table_ren_columns.iloc[:,1] != 0].sort_values(\n",
    "        '% of Total Values', ascending=False).round(1)\n",
    "        \n",
    "        # Print some summary information\n",
    "        print (\"Your selected dataframe has \" + str(df.shape[1]) + \" columns.\\n\"      \n",
    "            \"There are \" + str(mis_val_table_ren_columns.shape[0]) +\n",
    "              \" columns that have missing values.\")\n",
    "        \n",
    "        # Return the dataframe with missing information\n",
    "        return mis_val_table_ren_columns"
   ]
  },
  {
   "cell_type": "code",
   "execution_count": 13,
   "metadata": {},
   "outputs": [
    {
     "name": "stdout",
     "output_type": "stream",
     "text": [
      "Your selected dataframe has 35 columns.\n",
      "There are 26 columns that have missing values.\n"
     ]
    },
    {
     "data": {
      "text/html": [
       "<div>\n",
       "<style scoped>\n",
       "    .dataframe tbody tr th:only-of-type {\n",
       "        vertical-align: middle;\n",
       "    }\n",
       "\n",
       "    .dataframe tbody tr th {\n",
       "        vertical-align: top;\n",
       "    }\n",
       "\n",
       "    .dataframe thead th {\n",
       "        text-align: right;\n",
       "    }\n",
       "</style>\n",
       "<table border=\"1\" class=\"dataframe\">\n",
       "  <thead>\n",
       "    <tr style=\"text-align: right;\">\n",
       "      <th></th>\n",
       "      <th>Missing Values</th>\n",
       "      <th>% of Total Values</th>\n",
       "    </tr>\n",
       "  </thead>\n",
       "  <tbody>\n",
       "    <tr>\n",
       "      <th>episode_show_name</th>\n",
       "      <td>127026</td>\n",
       "      <td>98.2</td>\n",
       "    </tr>\n",
       "    <tr>\n",
       "      <th>episode_name</th>\n",
       "      <td>127023</td>\n",
       "      <td>98.2</td>\n",
       "    </tr>\n",
       "    <tr>\n",
       "      <th>spotify_episode_uri</th>\n",
       "      <td>127023</td>\n",
       "      <td>98.2</td>\n",
       "    </tr>\n",
       "    <tr>\n",
       "      <th>album_id</th>\n",
       "      <td>109819</td>\n",
       "      <td>84.9</td>\n",
       "    </tr>\n",
       "    <tr>\n",
       "      <th>artist_name</th>\n",
       "      <td>109819</td>\n",
       "      <td>84.9</td>\n",
       "    </tr>\n",
       "    <tr>\n",
       "      <th>tempo</th>\n",
       "      <td>109819</td>\n",
       "      <td>84.9</td>\n",
       "    </tr>\n",
       "    <tr>\n",
       "      <th>mode</th>\n",
       "      <td>109819</td>\n",
       "      <td>84.9</td>\n",
       "    </tr>\n",
       "    <tr>\n",
       "      <th>loudness</th>\n",
       "      <td>109819</td>\n",
       "      <td>84.9</td>\n",
       "    </tr>\n",
       "    <tr>\n",
       "      <th>speechiness</th>\n",
       "      <td>109819</td>\n",
       "      <td>84.9</td>\n",
       "    </tr>\n",
       "    <tr>\n",
       "      <th>liveness</th>\n",
       "      <td>109819</td>\n",
       "      <td>84.9</td>\n",
       "    </tr>\n",
       "    <tr>\n",
       "      <th>instrumentalness</th>\n",
       "      <td>109819</td>\n",
       "      <td>84.9</td>\n",
       "    </tr>\n",
       "    <tr>\n",
       "      <th>energy</th>\n",
       "      <td>109819</td>\n",
       "      <td>84.9</td>\n",
       "    </tr>\n",
       "    <tr>\n",
       "      <th>danceability</th>\n",
       "      <td>109819</td>\n",
       "      <td>84.9</td>\n",
       "    </tr>\n",
       "    <tr>\n",
       "      <th>acousticness</th>\n",
       "      <td>109819</td>\n",
       "      <td>84.9</td>\n",
       "    </tr>\n",
       "    <tr>\n",
       "      <th>time_signature</th>\n",
       "      <td>109819</td>\n",
       "      <td>84.9</td>\n",
       "    </tr>\n",
       "    <tr>\n",
       "      <th>album_name</th>\n",
       "      <td>109819</td>\n",
       "      <td>84.9</td>\n",
       "    </tr>\n",
       "    <tr>\n",
       "      <th>track_popularity</th>\n",
       "      <td>109819</td>\n",
       "      <td>84.9</td>\n",
       "    </tr>\n",
       "    <tr>\n",
       "      <th>length</th>\n",
       "      <td>109819</td>\n",
       "      <td>84.9</td>\n",
       "    </tr>\n",
       "    <tr>\n",
       "      <th>release_date</th>\n",
       "      <td>109819</td>\n",
       "      <td>84.9</td>\n",
       "    </tr>\n",
       "    <tr>\n",
       "      <th>track_name</th>\n",
       "      <td>109819</td>\n",
       "      <td>84.9</td>\n",
       "    </tr>\n",
       "    <tr>\n",
       "      <th>track_id</th>\n",
       "      <td>109819</td>\n",
       "      <td>84.9</td>\n",
       "    </tr>\n",
       "    <tr>\n",
       "      <th>skipped</th>\n",
       "      <td>57338</td>\n",
       "      <td>44.3</td>\n",
       "    </tr>\n",
       "    <tr>\n",
       "      <th>master_metadata_album_artist_name</th>\n",
       "      <td>2345</td>\n",
       "      <td>1.8</td>\n",
       "    </tr>\n",
       "    <tr>\n",
       "      <th>track_uri</th>\n",
       "      <td>2345</td>\n",
       "      <td>1.8</td>\n",
       "    </tr>\n",
       "    <tr>\n",
       "      <th>master_metadata_album_album_name</th>\n",
       "      <td>2345</td>\n",
       "      <td>1.8</td>\n",
       "    </tr>\n",
       "    <tr>\n",
       "      <th>master_metadata_track_name</th>\n",
       "      <td>2345</td>\n",
       "      <td>1.8</td>\n",
       "    </tr>\n",
       "  </tbody>\n",
       "</table>\n",
       "</div>"
      ],
      "text/plain": [
       "                                   Missing Values  % of Total Values\n",
       "episode_show_name                          127026               98.2\n",
       "episode_name                               127023               98.2\n",
       "spotify_episode_uri                        127023               98.2\n",
       "album_id                                   109819               84.9\n",
       "artist_name                                109819               84.9\n",
       "tempo                                      109819               84.9\n",
       "mode                                       109819               84.9\n",
       "loudness                                   109819               84.9\n",
       "speechiness                                109819               84.9\n",
       "liveness                                   109819               84.9\n",
       "instrumentalness                           109819               84.9\n",
       "energy                                     109819               84.9\n",
       "danceability                               109819               84.9\n",
       "acousticness                               109819               84.9\n",
       "time_signature                             109819               84.9\n",
       "album_name                                 109819               84.9\n",
       "track_popularity                           109819               84.9\n",
       "length                                     109819               84.9\n",
       "release_date                               109819               84.9\n",
       "track_name                                 109819               84.9\n",
       "track_id                                   109819               84.9\n",
       "skipped                                     57338               44.3\n",
       "master_metadata_album_artist_name            2345                1.8\n",
       "track_uri                                    2345                1.8\n",
       "master_metadata_album_album_name             2345                1.8\n",
       "master_metadata_track_name                   2345                1.8"
      ]
     },
     "execution_count": 13,
     "metadata": {},
     "output_type": "execute_result"
    }
   ],
   "source": [
    "missing_values = missing_values_table(spotify_data)\n",
    "missing_values"
   ]
  },
  {
   "cell_type": "markdown",
   "metadata": {},
   "source": [
    "#### **Missing Values Handling**"
   ]
  },
  {
   "cell_type": "code",
   "execution_count": 14,
   "metadata": {},
   "outputs": [],
   "source": [
    "# # Menghapus baris yang memiliki nilai null di kolom yang dipilih\n",
    "# merged_data_cleaned = merged_data.dropna(subset=['track_id', 'track_name', 'release_date', 'length', 'popularity', \n",
    "#                                                  'album_id', 'album_name', 'artist_name', 'acousticness', \n",
    "#                                                  'danceability', 'energy', 'instrumentalness', 'liveness', \n",
    "#                                                  'speechiness', 'loudness', 'mode', 'tempo', 'time_signature'])"
   ]
  },
  {
   "cell_type": "code",
   "execution_count": 15,
   "metadata": {},
   "outputs": [],
   "source": [
    "# merged_data_cleaned.info()"
   ]
  },
  {
   "cell_type": "code",
   "execution_count": 16,
   "metadata": {},
   "outputs": [],
   "source": [
    "# merged_data_cleaned.head()"
   ]
  },
  {
   "cell_type": "code",
   "execution_count": 17,
   "metadata": {},
   "outputs": [],
   "source": [
    "# Menghapus baris yang memiliki duplikat berdasarkan spotify_track_uri\n",
    "# merged_data_cleaned = merged_data_cleaned.drop_duplicates(subset=['spotify_track_uri'])\n",
    "\n",
    "# Menampilkan DataFrame hasil setelah menghapus data duplikat berdasarkan spotify_track_uri\n",
    "# print(merged_data_cleaned)"
   ]
  },
  {
   "cell_type": "code",
   "execution_count": 18,
   "metadata": {},
   "outputs": [],
   "source": [
    "# merged_data_cleaned.head()"
   ]
  },
  {
   "cell_type": "code",
   "execution_count": 19,
   "metadata": {},
   "outputs": [],
   "source": [
    "# merged_data_cleaned.info()"
   ]
  },
  {
   "cell_type": "markdown",
   "metadata": {},
   "source": [
    "### **Features List**"
   ]
  },
  {
   "cell_type": "code",
   "execution_count": 20,
   "metadata": {},
   "outputs": [
    {
     "name": "stdout",
     "output_type": "stream",
     "text": [
      "List of numerical featues ['ms_played', 'offline_timestamp', 'length', 'track_popularity', 'acousticness', 'danceability', 'energy', 'instrumentalness', 'liveness', 'speechiness', 'loudness', 'mode', 'tempo', 'time_signature']\n"
     ]
    }
   ],
   "source": [
    "# list numerical features in streaming history music dataframe\n",
    "numerical_features = list(spotify_data.select_dtypes(include=['int64','float64']).columns)\n",
    "print('List of numerical featues {}'.format(numerical_features))"
   ]
  },
  {
   "cell_type": "code",
   "execution_count": 21,
   "metadata": {},
   "outputs": [
    {
     "name": "stdout",
     "output_type": "stream",
     "text": [
      "List of categorical featues ['platform', 'master_metadata_track_name', 'master_metadata_album_artist_name', 'master_metadata_album_album_name', 'episode_name', 'episode_show_name', 'spotify_episode_uri', 'reason_start', 'reason_end', 'skipped', 'track_uri', 'track_id', 'track_name', 'release_date', 'album_id', 'album_name', 'artist_name']\n"
     ]
    }
   ],
   "source": [
    "# list categorical features\n",
    "categorical_features = list(spotify_data.select_dtypes(include=['object']).columns)\n",
    "print('List of categorical featues {}'.format(categorical_features))"
   ]
  },
  {
   "cell_type": "markdown",
   "metadata": {},
   "source": [
    "### **Outliers**"
   ]
  },
  {
   "cell_type": "markdown",
   "metadata": {},
   "source": [
    "#### **Outlier Checking**"
   ]
  },
  {
   "cell_type": "code",
   "execution_count": 22,
   "metadata": {},
   "outputs": [],
   "source": [
    "# # check the 16th first numerical features outliers\n",
    "# fig, axes = plt.subplots(3, 5, figsize=(12, 6))\n",
    "# for i, col in enumerate(numerical_features[0:14]):        \n",
    "#     ax_ = sns.boxplot(x=spotify_data[col], ax=axes.flatten()[i])\n",
    "# plt.tight_layout()"
   ]
  },
  {
   "cell_type": "markdown",
   "metadata": {},
   "source": [
    "## **Exploratory Data Analysis**"
   ]
  },
  {
   "cell_type": "markdown",
   "metadata": {},
   "source": [
    "### **Separate Music and Podcast from Streaming History**"
   ]
  },
  {
   "cell_type": "markdown",
   "metadata": {},
   "source": [
    "#### **Music Streaming History**"
   ]
  },
  {
   "cell_type": "code",
   "execution_count": 23,
   "metadata": {},
   "outputs": [],
   "source": [
    "# Make sure the data only includes music history\n",
    "indices_to_drop = spotify_data[spotify_data['episode_name'].notnull() & spotify_data['episode_show_name'].notnull() & spotify_data['spotify_episode_uri'].notnull()].index\n",
    "spotify_music = spotify_data.drop(indices_to_drop)"
   ]
  },
  {
   "cell_type": "code",
   "execution_count": 24,
   "metadata": {},
   "outputs": [],
   "source": [
    "# Remove columns related to podcast\n",
    "spotify_music = spotify_music.drop(columns=['episode_name', 'episode_show_name', 'spotify_episode_uri'])"
   ]
  },
  {
   "cell_type": "code",
   "execution_count": 25,
   "metadata": {},
   "outputs": [
    {
     "name": "stdout",
     "output_type": "stream",
     "text": [
      "<class 'pandas.core.frame.DataFrame'>\n",
      "Index: 127026 entries, 5 to 129290\n",
      "Data columns (total 32 columns):\n",
      " #   Column                             Non-Null Count   Dtype              \n",
      "---  ------                             --------------   -----              \n",
      " 0   ts                                 127026 non-null  datetime64[ns, UTC]\n",
      " 1   platform                           127026 non-null  object             \n",
      " 2   ms_played                          127026 non-null  int64              \n",
      " 3   master_metadata_track_name         126946 non-null  object             \n",
      " 4   master_metadata_album_artist_name  126946 non-null  object             \n",
      " 5   master_metadata_album_album_name   126946 non-null  object             \n",
      " 6   reason_start                       127026 non-null  object             \n",
      " 7   reason_end                         127026 non-null  object             \n",
      " 8   shuffle                            127026 non-null  bool               \n",
      " 9   skipped                            70840 non-null   object             \n",
      " 10  offline                            127026 non-null  bool               \n",
      " 11  offline_timestamp                  127026 non-null  int64              \n",
      " 12  incognito_mode                     127026 non-null  bool               \n",
      " 13  track_uri                          126946 non-null  object             \n",
      " 14  track_id                           19472 non-null   object             \n",
      " 15  track_name                         19472 non-null   object             \n",
      " 16  release_date                       19472 non-null   object             \n",
      " 17  length                             19472 non-null   float64            \n",
      " 18  track_popularity                   19472 non-null   float64            \n",
      " 19  album_id                           19472 non-null   object             \n",
      " 20  album_name                         19472 non-null   object             \n",
      " 21  artist_name                        19472 non-null   object             \n",
      " 22  acousticness                       19472 non-null   float64            \n",
      " 23  danceability                       19472 non-null   float64            \n",
      " 24  energy                             19472 non-null   float64            \n",
      " 25  instrumentalness                   19472 non-null   float64            \n",
      " 26  liveness                           19472 non-null   float64            \n",
      " 27  speechiness                        19472 non-null   float64            \n",
      " 28  loudness                           19472 non-null   float64            \n",
      " 29  mode                               19472 non-null   float64            \n",
      " 30  tempo                              19472 non-null   float64            \n",
      " 31  time_signature                     19472 non-null   float64            \n",
      "dtypes: bool(3), datetime64[ns, UTC](1), float64(12), int64(2), object(14)\n",
      "memory usage: 29.4+ MB\n"
     ]
    }
   ],
   "source": [
    "spotify_music.info()"
   ]
  },
  {
   "cell_type": "code",
   "execution_count": 26,
   "metadata": {},
   "outputs": [
    {
     "data": {
      "text/html": [
       "<div>\n",
       "<style scoped>\n",
       "    .dataframe tbody tr th:only-of-type {\n",
       "        vertical-align: middle;\n",
       "    }\n",
       "\n",
       "    .dataframe tbody tr th {\n",
       "        vertical-align: top;\n",
       "    }\n",
       "\n",
       "    .dataframe thead th {\n",
       "        text-align: right;\n",
       "    }\n",
       "</style>\n",
       "<table border=\"1\" class=\"dataframe\">\n",
       "  <thead>\n",
       "    <tr style=\"text-align: right;\">\n",
       "      <th></th>\n",
       "      <th>ts</th>\n",
       "      <th>platform</th>\n",
       "      <th>ms_played</th>\n",
       "      <th>master_metadata_track_name</th>\n",
       "      <th>master_metadata_album_artist_name</th>\n",
       "      <th>master_metadata_album_album_name</th>\n",
       "      <th>reason_start</th>\n",
       "      <th>reason_end</th>\n",
       "      <th>shuffle</th>\n",
       "      <th>skipped</th>\n",
       "      <th>...</th>\n",
       "      <th>acousticness</th>\n",
       "      <th>danceability</th>\n",
       "      <th>energy</th>\n",
       "      <th>instrumentalness</th>\n",
       "      <th>liveness</th>\n",
       "      <th>speechiness</th>\n",
       "      <th>loudness</th>\n",
       "      <th>mode</th>\n",
       "      <th>tempo</th>\n",
       "      <th>time_signature</th>\n",
       "    </tr>\n",
       "  </thead>\n",
       "  <tbody>\n",
       "    <tr>\n",
       "      <th>5</th>\n",
       "      <td>2019-02-09 14:54:58+00:00</td>\n",
       "      <td>Android</td>\n",
       "      <td>47292</td>\n",
       "      <td>A Sky Full of Stars - Live at the Royal Albert...</td>\n",
       "      <td>Coldplay</td>\n",
       "      <td>Ghost Stories Live 2014</td>\n",
       "      <td>appload</td>\n",
       "      <td>endplay</td>\n",
       "      <td>True</td>\n",
       "      <td>NaN</td>\n",
       "      <td>...</td>\n",
       "      <td>NaN</td>\n",
       "      <td>NaN</td>\n",
       "      <td>NaN</td>\n",
       "      <td>NaN</td>\n",
       "      <td>NaN</td>\n",
       "      <td>NaN</td>\n",
       "      <td>NaN</td>\n",
       "      <td>NaN</td>\n",
       "      <td>NaN</td>\n",
       "      <td>NaN</td>\n",
       "    </tr>\n",
       "    <tr>\n",
       "      <th>6</th>\n",
       "      <td>2019-02-09 14:55:31+00:00</td>\n",
       "      <td>Android</td>\n",
       "      <td>30126</td>\n",
       "      <td>Noi siamo infinito</td>\n",
       "      <td>Alessio Bernabei</td>\n",
       "      <td>Noi siamo infinito</td>\n",
       "      <td>clickrow</td>\n",
       "      <td>endplay</td>\n",
       "      <td>True</td>\n",
       "      <td>NaN</td>\n",
       "      <td>...</td>\n",
       "      <td>NaN</td>\n",
       "      <td>NaN</td>\n",
       "      <td>NaN</td>\n",
       "      <td>NaN</td>\n",
       "      <td>NaN</td>\n",
       "      <td>NaN</td>\n",
       "      <td>NaN</td>\n",
       "      <td>NaN</td>\n",
       "      <td>NaN</td>\n",
       "      <td>NaN</td>\n",
       "    </tr>\n",
       "    <tr>\n",
       "      <th>7</th>\n",
       "      <td>2019-02-09 14:56:14+00:00</td>\n",
       "      <td>Android</td>\n",
       "      <td>40875</td>\n",
       "      <td>Sediakala</td>\n",
       "      <td>Dialog Dini Hari</td>\n",
       "      <td>Sediakala</td>\n",
       "      <td>appload</td>\n",
       "      <td>endplay</td>\n",
       "      <td>True</td>\n",
       "      <td>NaN</td>\n",
       "      <td>...</td>\n",
       "      <td>NaN</td>\n",
       "      <td>NaN</td>\n",
       "      <td>NaN</td>\n",
       "      <td>NaN</td>\n",
       "      <td>NaN</td>\n",
       "      <td>NaN</td>\n",
       "      <td>NaN</td>\n",
       "      <td>NaN</td>\n",
       "      <td>NaN</td>\n",
       "      <td>NaN</td>\n",
       "    </tr>\n",
       "    <tr>\n",
       "      <th>8</th>\n",
       "      <td>2019-02-09 14:56:58+00:00</td>\n",
       "      <td>Android</td>\n",
       "      <td>42898</td>\n",
       "      <td>Garis Terdepan</td>\n",
       "      <td>Fiersa Besari</td>\n",
       "      <td>Konspirasi Alam Semesta</td>\n",
       "      <td>clickrow</td>\n",
       "      <td>endplay</td>\n",
       "      <td>True</td>\n",
       "      <td>NaN</td>\n",
       "      <td>...</td>\n",
       "      <td>NaN</td>\n",
       "      <td>NaN</td>\n",
       "      <td>NaN</td>\n",
       "      <td>NaN</td>\n",
       "      <td>NaN</td>\n",
       "      <td>NaN</td>\n",
       "      <td>NaN</td>\n",
       "      <td>NaN</td>\n",
       "      <td>NaN</td>\n",
       "      <td>NaN</td>\n",
       "    </tr>\n",
       "    <tr>\n",
       "      <th>9</th>\n",
       "      <td>2019-02-09 14:57:36+00:00</td>\n",
       "      <td>Android</td>\n",
       "      <td>34332</td>\n",
       "      <td>Kata Hilang Makna</td>\n",
       "      <td>Yura Yunita</td>\n",
       "      <td>Merakit</td>\n",
       "      <td>appload</td>\n",
       "      <td>endplay</td>\n",
       "      <td>True</td>\n",
       "      <td>NaN</td>\n",
       "      <td>...</td>\n",
       "      <td>NaN</td>\n",
       "      <td>NaN</td>\n",
       "      <td>NaN</td>\n",
       "      <td>NaN</td>\n",
       "      <td>NaN</td>\n",
       "      <td>NaN</td>\n",
       "      <td>NaN</td>\n",
       "      <td>NaN</td>\n",
       "      <td>NaN</td>\n",
       "      <td>NaN</td>\n",
       "    </tr>\n",
       "  </tbody>\n",
       "</table>\n",
       "<p>5 rows × 32 columns</p>\n",
       "</div>"
      ],
      "text/plain": [
       "                         ts platform  ms_played  \\\n",
       "5 2019-02-09 14:54:58+00:00  Android      47292   \n",
       "6 2019-02-09 14:55:31+00:00  Android      30126   \n",
       "7 2019-02-09 14:56:14+00:00  Android      40875   \n",
       "8 2019-02-09 14:56:58+00:00  Android      42898   \n",
       "9 2019-02-09 14:57:36+00:00  Android      34332   \n",
       "\n",
       "                          master_metadata_track_name  \\\n",
       "5  A Sky Full of Stars - Live at the Royal Albert...   \n",
       "6                                 Noi siamo infinito   \n",
       "7                                          Sediakala   \n",
       "8                                     Garis Terdepan   \n",
       "9                                  Kata Hilang Makna   \n",
       "\n",
       "  master_metadata_album_artist_name master_metadata_album_album_name  \\\n",
       "5                          Coldplay          Ghost Stories Live 2014   \n",
       "6                  Alessio Bernabei               Noi siamo infinito   \n",
       "7                  Dialog Dini Hari                        Sediakala   \n",
       "8                     Fiersa Besari          Konspirasi Alam Semesta   \n",
       "9                       Yura Yunita                          Merakit   \n",
       "\n",
       "  reason_start reason_end  shuffle skipped  ...  acousticness  danceability  \\\n",
       "5      appload    endplay     True     NaN  ...           NaN           NaN   \n",
       "6     clickrow    endplay     True     NaN  ...           NaN           NaN   \n",
       "7      appload    endplay     True     NaN  ...           NaN           NaN   \n",
       "8     clickrow    endplay     True     NaN  ...           NaN           NaN   \n",
       "9      appload    endplay     True     NaN  ...           NaN           NaN   \n",
       "\n",
       "   energy instrumentalness liveness speechiness loudness  mode  tempo  \\\n",
       "5     NaN              NaN      NaN         NaN      NaN   NaN    NaN   \n",
       "6     NaN              NaN      NaN         NaN      NaN   NaN    NaN   \n",
       "7     NaN              NaN      NaN         NaN      NaN   NaN    NaN   \n",
       "8     NaN              NaN      NaN         NaN      NaN   NaN    NaN   \n",
       "9     NaN              NaN      NaN         NaN      NaN   NaN    NaN   \n",
       "\n",
       "  time_signature  \n",
       "5            NaN  \n",
       "6            NaN  \n",
       "7            NaN  \n",
       "8            NaN  \n",
       "9            NaN  \n",
       "\n",
       "[5 rows x 32 columns]"
      ]
     },
     "execution_count": 26,
     "metadata": {},
     "output_type": "execute_result"
    }
   ],
   "source": [
    "spotify_music.head()"
   ]
  },
  {
   "cell_type": "markdown",
   "metadata": {},
   "source": [
    "#### **Music Streaming History with Audio Features Detail**"
   ]
  },
  {
   "cell_type": "code",
   "execution_count": 27,
   "metadata": {},
   "outputs": [],
   "source": [
    "# Make sure the data only includes music history\n",
    "spotify_music_audiofeatures = spotify_music.loc[spotify_music['track_id'].notnull()]"
   ]
  },
  {
   "cell_type": "code",
   "execution_count": 28,
   "metadata": {},
   "outputs": [
    {
     "name": "stdout",
     "output_type": "stream",
     "text": [
      "<class 'pandas.core.frame.DataFrame'>\n",
      "Index: 19472 entries, 10 to 129254\n",
      "Data columns (total 32 columns):\n",
      " #   Column                             Non-Null Count  Dtype              \n",
      "---  ------                             --------------  -----              \n",
      " 0   ts                                 19472 non-null  datetime64[ns, UTC]\n",
      " 1   platform                           19472 non-null  object             \n",
      " 2   ms_played                          19472 non-null  int64              \n",
      " 3   master_metadata_track_name         19472 non-null  object             \n",
      " 4   master_metadata_album_artist_name  19472 non-null  object             \n",
      " 5   master_metadata_album_album_name   19472 non-null  object             \n",
      " 6   reason_start                       19472 non-null  object             \n",
      " 7   reason_end                         19472 non-null  object             \n",
      " 8   shuffle                            19472 non-null  bool               \n",
      " 9   skipped                            10992 non-null  object             \n",
      " 10  offline                            19472 non-null  bool               \n",
      " 11  offline_timestamp                  19472 non-null  int64              \n",
      " 12  incognito_mode                     19472 non-null  bool               \n",
      " 13  track_uri                          19472 non-null  object             \n",
      " 14  track_id                           19472 non-null  object             \n",
      " 15  track_name                         19472 non-null  object             \n",
      " 16  release_date                       19472 non-null  object             \n",
      " 17  length                             19472 non-null  float64            \n",
      " 18  track_popularity                   19472 non-null  float64            \n",
      " 19  album_id                           19472 non-null  object             \n",
      " 20  album_name                         19472 non-null  object             \n",
      " 21  artist_name                        19472 non-null  object             \n",
      " 22  acousticness                       19472 non-null  float64            \n",
      " 23  danceability                       19472 non-null  float64            \n",
      " 24  energy                             19472 non-null  float64            \n",
      " 25  instrumentalness                   19472 non-null  float64            \n",
      " 26  liveness                           19472 non-null  float64            \n",
      " 27  speechiness                        19472 non-null  float64            \n",
      " 28  loudness                           19472 non-null  float64            \n",
      " 29  mode                               19472 non-null  float64            \n",
      " 30  tempo                              19472 non-null  float64            \n",
      " 31  time_signature                     19472 non-null  float64            \n",
      "dtypes: bool(3), datetime64[ns, UTC](1), float64(12), int64(2), object(14)\n",
      "memory usage: 4.5+ MB\n"
     ]
    }
   ],
   "source": [
    "spotify_music_audiofeatures.info()"
   ]
  },
  {
   "cell_type": "code",
   "execution_count": 29,
   "metadata": {},
   "outputs": [
    {
     "data": {
      "text/html": [
       "<div>\n",
       "<style scoped>\n",
       "    .dataframe tbody tr th:only-of-type {\n",
       "        vertical-align: middle;\n",
       "    }\n",
       "\n",
       "    .dataframe tbody tr th {\n",
       "        vertical-align: top;\n",
       "    }\n",
       "\n",
       "    .dataframe thead th {\n",
       "        text-align: right;\n",
       "    }\n",
       "</style>\n",
       "<table border=\"1\" class=\"dataframe\">\n",
       "  <thead>\n",
       "    <tr style=\"text-align: right;\">\n",
       "      <th></th>\n",
       "      <th>ts</th>\n",
       "      <th>platform</th>\n",
       "      <th>ms_played</th>\n",
       "      <th>master_metadata_track_name</th>\n",
       "      <th>master_metadata_album_artist_name</th>\n",
       "      <th>master_metadata_album_album_name</th>\n",
       "      <th>reason_start</th>\n",
       "      <th>reason_end</th>\n",
       "      <th>shuffle</th>\n",
       "      <th>skipped</th>\n",
       "      <th>...</th>\n",
       "      <th>acousticness</th>\n",
       "      <th>danceability</th>\n",
       "      <th>energy</th>\n",
       "      <th>instrumentalness</th>\n",
       "      <th>liveness</th>\n",
       "      <th>speechiness</th>\n",
       "      <th>loudness</th>\n",
       "      <th>mode</th>\n",
       "      <th>tempo</th>\n",
       "      <th>time_signature</th>\n",
       "    </tr>\n",
       "  </thead>\n",
       "  <tbody>\n",
       "    <tr>\n",
       "      <th>10</th>\n",
       "      <td>2019-02-09 14:57:59+00:00</td>\n",
       "      <td>Android</td>\n",
       "      <td>21886</td>\n",
       "      <td>Untuk Perempuan Yang Sedang Di Pelukan</td>\n",
       "      <td>Payung Teduh</td>\n",
       "      <td>Dunia Batas</td>\n",
       "      <td>clickrow</td>\n",
       "      <td>fwdbtn</td>\n",
       "      <td>True</td>\n",
       "      <td>NaN</td>\n",
       "      <td>...</td>\n",
       "      <td>0.55200</td>\n",
       "      <td>0.477</td>\n",
       "      <td>0.493</td>\n",
       "      <td>0.003450</td>\n",
       "      <td>0.1020</td>\n",
       "      <td>0.0291</td>\n",
       "      <td>-7.346</td>\n",
       "      <td>1.0</td>\n",
       "      <td>148.984</td>\n",
       "      <td>4.0</td>\n",
       "    </tr>\n",
       "    <tr>\n",
       "      <th>11</th>\n",
       "      <td>2019-02-09 14:58:09+00:00</td>\n",
       "      <td>Android</td>\n",
       "      <td>1638</td>\n",
       "      <td>Yang Patah Tumbuh, Yang Hilang Berganti</td>\n",
       "      <td>Banda Neira</td>\n",
       "      <td>Yang Patah Tumbuh, Yang Hilang Berganti</td>\n",
       "      <td>fwdbtn</td>\n",
       "      <td>fwdbtn</td>\n",
       "      <td>True</td>\n",
       "      <td>NaN</td>\n",
       "      <td>...</td>\n",
       "      <td>0.93800</td>\n",
       "      <td>0.353</td>\n",
       "      <td>0.354</td>\n",
       "      <td>0.004070</td>\n",
       "      <td>0.1220</td>\n",
       "      <td>0.0268</td>\n",
       "      <td>-10.850</td>\n",
       "      <td>1.0</td>\n",
       "      <td>96.887</td>\n",
       "      <td>4.0</td>\n",
       "    </tr>\n",
       "    <tr>\n",
       "      <th>19</th>\n",
       "      <td>2019-02-10 00:46:51+00:00</td>\n",
       "      <td>Android</td>\n",
       "      <td>3856</td>\n",
       "      <td>Zona Nyaman (From \"Filosofi Kopi 2: Ben &amp; Jody\")</td>\n",
       "      <td>Fourtwnty</td>\n",
       "      <td>Ego &amp; Fungsi Otak</td>\n",
       "      <td>clickrow</td>\n",
       "      <td>endplay</td>\n",
       "      <td>False</td>\n",
       "      <td>NaN</td>\n",
       "      <td>...</td>\n",
       "      <td>0.35500</td>\n",
       "      <td>0.515</td>\n",
       "      <td>0.649</td>\n",
       "      <td>0.001550</td>\n",
       "      <td>0.1750</td>\n",
       "      <td>0.0338</td>\n",
       "      <td>-6.278</td>\n",
       "      <td>1.0</td>\n",
       "      <td>120.003</td>\n",
       "      <td>4.0</td>\n",
       "    </tr>\n",
       "    <tr>\n",
       "      <th>20</th>\n",
       "      <td>2019-02-10 00:46:56+00:00</td>\n",
       "      <td>Android</td>\n",
       "      <td>4545</td>\n",
       "      <td>Monokrom</td>\n",
       "      <td>Tulus</td>\n",
       "      <td>Monokrom</td>\n",
       "      <td>clickrow</td>\n",
       "      <td>endplay</td>\n",
       "      <td>False</td>\n",
       "      <td>NaN</td>\n",
       "      <td>...</td>\n",
       "      <td>0.57300</td>\n",
       "      <td>0.534</td>\n",
       "      <td>0.462</td>\n",
       "      <td>0.000006</td>\n",
       "      <td>0.0974</td>\n",
       "      <td>0.0326</td>\n",
       "      <td>-9.383</td>\n",
       "      <td>1.0</td>\n",
       "      <td>88.046</td>\n",
       "      <td>4.0</td>\n",
       "    </tr>\n",
       "    <tr>\n",
       "      <th>26</th>\n",
       "      <td>2019-02-10 00:55:25+00:00</td>\n",
       "      <td>Android</td>\n",
       "      <td>34663</td>\n",
       "      <td>Yellow</td>\n",
       "      <td>Coldplay</td>\n",
       "      <td>Parachutes</td>\n",
       "      <td>clickrow</td>\n",
       "      <td>endplay</td>\n",
       "      <td>False</td>\n",
       "      <td>NaN</td>\n",
       "      <td>...</td>\n",
       "      <td>0.00239</td>\n",
       "      <td>0.429</td>\n",
       "      <td>0.661</td>\n",
       "      <td>0.000121</td>\n",
       "      <td>0.2340</td>\n",
       "      <td>0.0281</td>\n",
       "      <td>-7.227</td>\n",
       "      <td>1.0</td>\n",
       "      <td>173.372</td>\n",
       "      <td>4.0</td>\n",
       "    </tr>\n",
       "  </tbody>\n",
       "</table>\n",
       "<p>5 rows × 32 columns</p>\n",
       "</div>"
      ],
      "text/plain": [
       "                          ts platform  ms_played  \\\n",
       "10 2019-02-09 14:57:59+00:00  Android      21886   \n",
       "11 2019-02-09 14:58:09+00:00  Android       1638   \n",
       "19 2019-02-10 00:46:51+00:00  Android       3856   \n",
       "20 2019-02-10 00:46:56+00:00  Android       4545   \n",
       "26 2019-02-10 00:55:25+00:00  Android      34663   \n",
       "\n",
       "                          master_metadata_track_name  \\\n",
       "10            Untuk Perempuan Yang Sedang Di Pelukan   \n",
       "11           Yang Patah Tumbuh, Yang Hilang Berganti   \n",
       "19  Zona Nyaman (From \"Filosofi Kopi 2: Ben & Jody\")   \n",
       "20                                          Monokrom   \n",
       "26                                            Yellow   \n",
       "\n",
       "   master_metadata_album_artist_name         master_metadata_album_album_name  \\\n",
       "10                      Payung Teduh                              Dunia Batas   \n",
       "11                       Banda Neira  Yang Patah Tumbuh, Yang Hilang Berganti   \n",
       "19                         Fourtwnty                        Ego & Fungsi Otak   \n",
       "20                             Tulus                                 Monokrom   \n",
       "26                          Coldplay                               Parachutes   \n",
       "\n",
       "   reason_start reason_end  shuffle skipped  ...  acousticness  danceability  \\\n",
       "10     clickrow     fwdbtn     True     NaN  ...       0.55200         0.477   \n",
       "11       fwdbtn     fwdbtn     True     NaN  ...       0.93800         0.353   \n",
       "19     clickrow    endplay    False     NaN  ...       0.35500         0.515   \n",
       "20     clickrow    endplay    False     NaN  ...       0.57300         0.534   \n",
       "26     clickrow    endplay    False     NaN  ...       0.00239         0.429   \n",
       "\n",
       "    energy instrumentalness liveness speechiness loudness  mode    tempo  \\\n",
       "10   0.493         0.003450   0.1020      0.0291   -7.346   1.0  148.984   \n",
       "11   0.354         0.004070   0.1220      0.0268  -10.850   1.0   96.887   \n",
       "19   0.649         0.001550   0.1750      0.0338   -6.278   1.0  120.003   \n",
       "20   0.462         0.000006   0.0974      0.0326   -9.383   1.0   88.046   \n",
       "26   0.661         0.000121   0.2340      0.0281   -7.227   1.0  173.372   \n",
       "\n",
       "   time_signature  \n",
       "10            4.0  \n",
       "11            4.0  \n",
       "19            4.0  \n",
       "20            4.0  \n",
       "26            4.0  \n",
       "\n",
       "[5 rows x 32 columns]"
      ]
     },
     "execution_count": 29,
     "metadata": {},
     "output_type": "execute_result"
    }
   ],
   "source": [
    "spotify_music_audiofeatures.head()"
   ]
  },
  {
   "cell_type": "code",
   "execution_count": 30,
   "metadata": {},
   "outputs": [
    {
     "name": "stdout",
     "output_type": "stream",
     "text": [
      "Your selected dataframe has 32 columns.\n",
      "There are 1 columns that have missing values.\n"
     ]
    },
    {
     "data": {
      "text/html": [
       "<div>\n",
       "<style scoped>\n",
       "    .dataframe tbody tr th:only-of-type {\n",
       "        vertical-align: middle;\n",
       "    }\n",
       "\n",
       "    .dataframe tbody tr th {\n",
       "        vertical-align: top;\n",
       "    }\n",
       "\n",
       "    .dataframe thead th {\n",
       "        text-align: right;\n",
       "    }\n",
       "</style>\n",
       "<table border=\"1\" class=\"dataframe\">\n",
       "  <thead>\n",
       "    <tr style=\"text-align: right;\">\n",
       "      <th></th>\n",
       "      <th>Missing Values</th>\n",
       "      <th>% of Total Values</th>\n",
       "    </tr>\n",
       "  </thead>\n",
       "  <tbody>\n",
       "    <tr>\n",
       "      <th>skipped</th>\n",
       "      <td>8480</td>\n",
       "      <td>43.5</td>\n",
       "    </tr>\n",
       "  </tbody>\n",
       "</table>\n",
       "</div>"
      ],
      "text/plain": [
       "         Missing Values  % of Total Values\n",
       "skipped            8480               43.5"
      ]
     },
     "execution_count": 30,
     "metadata": {},
     "output_type": "execute_result"
    }
   ],
   "source": [
    "missing_values = missing_values_table(spotify_music_audiofeatures)\n",
    "missing_values"
   ]
  },
  {
   "cell_type": "code",
   "execution_count": 31,
   "metadata": {},
   "outputs": [
    {
     "data": {
      "text/plain": [
       "skipped\n",
       "False    5842\n",
       "0.0      2346\n",
       "True     1950\n",
       "1.0       854\n",
       "Name: count, dtype: int64"
      ]
     },
     "execution_count": 31,
     "metadata": {},
     "output_type": "execute_result"
    }
   ],
   "source": [
    "spotify_music_audiofeatures['skipped'].value_counts()"
   ]
  },
  {
   "cell_type": "markdown",
   "metadata": {},
   "source": [
    "#### **Podcast Streaming History**"
   ]
  },
  {
   "cell_type": "code",
   "execution_count": 32,
   "metadata": {},
   "outputs": [],
   "source": [
    "# Subset of columns included in the podcast streaming history\n",
    "podcast_columns = ['ts', 'platform', 'ms_played', 'episode_name', 'episode_show_name', 'spotify_episode_uri', 'reason_start', 'reason_end', 'shuffle', 'skipped', 'offline', 'offline_timestamp', 'incognito_mode']"
   ]
  },
  {
   "cell_type": "code",
   "execution_count": 33,
   "metadata": {},
   "outputs": [],
   "source": [
    "# Create a new dataframe\n",
    "spotify_podcast = spotify_data[podcast_columns].copy()"
   ]
  },
  {
   "cell_type": "code",
   "execution_count": 34,
   "metadata": {},
   "outputs": [
    {
     "name": "stdout",
     "output_type": "stream",
     "text": [
      "<class 'pandas.core.frame.DataFrame'>\n",
      "RangeIndex: 129291 entries, 0 to 129290\n",
      "Data columns (total 13 columns):\n",
      " #   Column               Non-Null Count   Dtype              \n",
      "---  ------               --------------   -----              \n",
      " 0   ts                   129291 non-null  datetime64[ns, UTC]\n",
      " 1   platform             129291 non-null  object             \n",
      " 2   ms_played            129291 non-null  int64              \n",
      " 3   episode_name         2268 non-null    object             \n",
      " 4   episode_show_name    2265 non-null    object             \n",
      " 5   spotify_episode_uri  2268 non-null    object             \n",
      " 6   reason_start         129291 non-null  object             \n",
      " 7   reason_end           129291 non-null  object             \n",
      " 8   shuffle              129291 non-null  bool               \n",
      " 9   skipped              71953 non-null   object             \n",
      " 10  offline              129291 non-null  bool               \n",
      " 11  offline_timestamp    129291 non-null  int64              \n",
      " 12  incognito_mode       129291 non-null  bool               \n",
      "dtypes: bool(3), datetime64[ns, UTC](1), int64(2), object(7)\n",
      "memory usage: 10.2+ MB\n"
     ]
    }
   ],
   "source": [
    "spotify_podcast.info()"
   ]
  },
  {
   "cell_type": "code",
   "execution_count": 35,
   "metadata": {},
   "outputs": [],
   "source": [
    "# Make sure the data only includes podcast history\n",
    "spotify_podcast = spotify_podcast.dropna(subset=['spotify_episode_uri'])"
   ]
  },
  {
   "cell_type": "code",
   "execution_count": 36,
   "metadata": {},
   "outputs": [
    {
     "name": "stdout",
     "output_type": "stream",
     "text": [
      "<class 'pandas.core.frame.DataFrame'>\n",
      "Index: 2268 entries, 0 to 129198\n",
      "Data columns (total 13 columns):\n",
      " #   Column               Non-Null Count  Dtype              \n",
      "---  ------               --------------  -----              \n",
      " 0   ts                   2268 non-null   datetime64[ns, UTC]\n",
      " 1   platform             2268 non-null   object             \n",
      " 2   ms_played            2268 non-null   int64              \n",
      " 3   episode_name         2268 non-null   object             \n",
      " 4   episode_show_name    2265 non-null   object             \n",
      " 5   spotify_episode_uri  2268 non-null   object             \n",
      " 6   reason_start         2268 non-null   object             \n",
      " 7   reason_end           2268 non-null   object             \n",
      " 8   shuffle              2268 non-null   bool               \n",
      " 9   skipped              1113 non-null   object             \n",
      " 10  offline              2268 non-null   bool               \n",
      " 11  offline_timestamp    2268 non-null   int64              \n",
      " 12  incognito_mode       2268 non-null   bool               \n",
      "dtypes: bool(3), datetime64[ns, UTC](1), int64(2), object(7)\n",
      "memory usage: 201.6+ KB\n"
     ]
    }
   ],
   "source": [
    "spotify_podcast.info()"
   ]
  },
  {
   "cell_type": "code",
   "execution_count": 37,
   "metadata": {},
   "outputs": [
    {
     "data": {
      "text/html": [
       "<div>\n",
       "<style scoped>\n",
       "    .dataframe tbody tr th:only-of-type {\n",
       "        vertical-align: middle;\n",
       "    }\n",
       "\n",
       "    .dataframe tbody tr th {\n",
       "        vertical-align: top;\n",
       "    }\n",
       "\n",
       "    .dataframe thead th {\n",
       "        text-align: right;\n",
       "    }\n",
       "</style>\n",
       "<table border=\"1\" class=\"dataframe\">\n",
       "  <thead>\n",
       "    <tr style=\"text-align: right;\">\n",
       "      <th></th>\n",
       "      <th>ts</th>\n",
       "      <th>platform</th>\n",
       "      <th>ms_played</th>\n",
       "      <th>episode_name</th>\n",
       "      <th>episode_show_name</th>\n",
       "      <th>spotify_episode_uri</th>\n",
       "      <th>reason_start</th>\n",
       "      <th>reason_end</th>\n",
       "      <th>shuffle</th>\n",
       "      <th>skipped</th>\n",
       "      <th>offline</th>\n",
       "      <th>offline_timestamp</th>\n",
       "      <th>incognito_mode</th>\n",
       "    </tr>\n",
       "  </thead>\n",
       "  <tbody>\n",
       "    <tr>\n",
       "      <th>0</th>\n",
       "      <td>2019-02-08 22:51:39+00:00</td>\n",
       "      <td>Android</td>\n",
       "      <td>31267</td>\n",
       "      <td>8 - \"Taste\" by Rebecca Woodmass</td>\n",
       "      <td>A Little Poem with Rebecca Woodmass</td>\n",
       "      <td>spotify:episode:0lY0dPwAfZoPgSepp1eCrp</td>\n",
       "      <td>clickrow</td>\n",
       "      <td>endplay</td>\n",
       "      <td>False</td>\n",
       "      <td>NaN</td>\n",
       "      <td>False</td>\n",
       "      <td>1549666235287</td>\n",
       "      <td>False</td>\n",
       "    </tr>\n",
       "    <tr>\n",
       "      <th>1</th>\n",
       "      <td>2019-02-09 03:50:12+00:00</td>\n",
       "      <td>Android</td>\n",
       "      <td>5463</td>\n",
       "      <td>What your breath could reveal about your healt...</td>\n",
       "      <td>TED Talks Daily</td>\n",
       "      <td>spotify:episode:6v0Fw2ov3RclzEFoG68roa</td>\n",
       "      <td>clickrow</td>\n",
       "      <td>unexpected-exit-while-paused</td>\n",
       "      <td>False</td>\n",
       "      <td>NaN</td>\n",
       "      <td>False</td>\n",
       "      <td>1549666299325</td>\n",
       "      <td>False</td>\n",
       "    </tr>\n",
       "    <tr>\n",
       "      <th>2</th>\n",
       "      <td>2019-02-09 03:50:33+00:00</td>\n",
       "      <td>Android</td>\n",
       "      <td>5463</td>\n",
       "      <td>What your breath could reveal about your healt...</td>\n",
       "      <td>TED Talks Daily</td>\n",
       "      <td>spotify:episode:6v0Fw2ov3RclzEFoG68roa</td>\n",
       "      <td>clickrow</td>\n",
       "      <td>unexpected-exit-while-paused</td>\n",
       "      <td>False</td>\n",
       "      <td>NaN</td>\n",
       "      <td>False</td>\n",
       "      <td>1549666299325</td>\n",
       "      <td>False</td>\n",
       "    </tr>\n",
       "    <tr>\n",
       "      <th>3</th>\n",
       "      <td>2019-02-09 03:50:51+00:00</td>\n",
       "      <td>Android</td>\n",
       "      <td>5463</td>\n",
       "      <td>What your breath could reveal about your healt...</td>\n",
       "      <td>TED Talks Daily</td>\n",
       "      <td>spotify:episode:6v0Fw2ov3RclzEFoG68roa</td>\n",
       "      <td>clickrow</td>\n",
       "      <td>unexpected-exit-while-paused</td>\n",
       "      <td>False</td>\n",
       "      <td>NaN</td>\n",
       "      <td>False</td>\n",
       "      <td>1549666299325</td>\n",
       "      <td>False</td>\n",
       "    </tr>\n",
       "    <tr>\n",
       "      <th>4</th>\n",
       "      <td>2019-02-09 11:05:55+00:00</td>\n",
       "      <td>Android</td>\n",
       "      <td>77742</td>\n",
       "      <td>What your breath could reveal about your healt...</td>\n",
       "      <td>TED Talks Daily</td>\n",
       "      <td>spotify:episode:6v0Fw2ov3RclzEFoG68roa</td>\n",
       "      <td>appload</td>\n",
       "      <td>logout</td>\n",
       "      <td>False</td>\n",
       "      <td>NaN</td>\n",
       "      <td>False</td>\n",
       "      <td>1549710054124</td>\n",
       "      <td>False</td>\n",
       "    </tr>\n",
       "  </tbody>\n",
       "</table>\n",
       "</div>"
      ],
      "text/plain": [
       "                         ts platform  ms_played  \\\n",
       "0 2019-02-08 22:51:39+00:00  Android      31267   \n",
       "1 2019-02-09 03:50:12+00:00  Android       5463   \n",
       "2 2019-02-09 03:50:33+00:00  Android       5463   \n",
       "3 2019-02-09 03:50:51+00:00  Android       5463   \n",
       "4 2019-02-09 11:05:55+00:00  Android      77742   \n",
       "\n",
       "                                        episode_name  \\\n",
       "0                    8 - \"Taste\" by Rebecca Woodmass   \n",
       "1  What your breath could reveal about your healt...   \n",
       "2  What your breath could reveal about your healt...   \n",
       "3  What your breath could reveal about your healt...   \n",
       "4  What your breath could reveal about your healt...   \n",
       "\n",
       "                     episode_show_name  \\\n",
       "0  A Little Poem with Rebecca Woodmass   \n",
       "1                      TED Talks Daily   \n",
       "2                      TED Talks Daily   \n",
       "3                      TED Talks Daily   \n",
       "4                      TED Talks Daily   \n",
       "\n",
       "                      spotify_episode_uri reason_start  \\\n",
       "0  spotify:episode:0lY0dPwAfZoPgSepp1eCrp     clickrow   \n",
       "1  spotify:episode:6v0Fw2ov3RclzEFoG68roa     clickrow   \n",
       "2  spotify:episode:6v0Fw2ov3RclzEFoG68roa     clickrow   \n",
       "3  spotify:episode:6v0Fw2ov3RclzEFoG68roa     clickrow   \n",
       "4  spotify:episode:6v0Fw2ov3RclzEFoG68roa      appload   \n",
       "\n",
       "                     reason_end  shuffle skipped  offline  offline_timestamp  \\\n",
       "0                       endplay    False     NaN    False      1549666235287   \n",
       "1  unexpected-exit-while-paused    False     NaN    False      1549666299325   \n",
       "2  unexpected-exit-while-paused    False     NaN    False      1549666299325   \n",
       "3  unexpected-exit-while-paused    False     NaN    False      1549666299325   \n",
       "4                        logout    False     NaN    False      1549710054124   \n",
       "\n",
       "   incognito_mode  \n",
       "0           False  \n",
       "1           False  \n",
       "2           False  \n",
       "3           False  \n",
       "4           False  "
      ]
     },
     "execution_count": 37,
     "metadata": {},
     "output_type": "execute_result"
    }
   ],
   "source": [
    "spotify_podcast.head()"
   ]
  },
  {
   "cell_type": "markdown",
   "metadata": {},
   "source": [
    "### **Time-based `Trend` Analysis**"
   ]
  },
  {
   "cell_type": "markdown",
   "metadata": {},
   "source": [
    "#### **Overall Streaming**"
   ]
  },
  {
   "cell_type": "code",
   "execution_count": 38,
   "metadata": {},
   "outputs": [
    {
     "data": {
      "image/svg+xml": [
       "<svg class=\"main-svg\" xmlns=\"http://www.w3.org/2000/svg\" xmlns:xlink=\"http://www.w3.org/1999/xlink\" width=\"1000\" height=\"500\" style=\"\" viewBox=\"0 0 1000 500\"><rect x=\"0\" y=\"0\" width=\"1000\" height=\"500\" style=\"fill: rgb(255, 255, 255); fill-opacity: 1;\"/><defs id=\"defs-e2f8f8\"><g class=\"clips\"><clipPath id=\"clipe2f8f8xyplot\" class=\"plotclip\"><rect width=\"840\" height=\"320\"/></clipPath><clipPath class=\"axesclip\" id=\"clipe2f8f8x\"><rect x=\"80\" y=\"0\" width=\"840\" height=\"500\"/></clipPath><clipPath class=\"axesclip\" id=\"clipe2f8f8y\"><rect x=\"0\" y=\"100\" width=\"1000\" height=\"320\"/></clipPath><clipPath class=\"axesclip\" id=\"clipe2f8f8xy\"><rect x=\"80\" y=\"100\" width=\"840\" height=\"320\"/></clipPath></g><g class=\"gradients\"/><g class=\"patterns\"/></defs><g class=\"bglayer\"><rect class=\"bg\" x=\"80\" y=\"100\" width=\"840\" height=\"320\" style=\"fill: rgb(229, 236, 246); fill-opacity: 1; stroke-width: 0;\"/></g><g class=\"layer-below\"><g class=\"imagelayer\"/><g class=\"shapelayer\"><g class=\"shape-group\" data-index=\"0\" clip-path=\"url(#clipe2f8f8x)\"><path data-index=\"0\" fill-rule=\"evenodd\" d=\"M653.89,420H703.44V100H653.89Z\" style=\"opacity: 1; stroke: rgb(0, 0, 0); stroke-opacity: 0; fill: rgb(0, 255, 0); fill-opacity: 0.2; stroke-width: 0px;\"/></g></g></g><g class=\"cartesianlayer\"><g class=\"subplot xy\"><g class=\"layer-subplot\"><g class=\"shapelayer\"/><g class=\"imagelayer\"/></g><g class=\"minor-gridlayer\"><g class=\"x\"/><g class=\"y\"/></g><g class=\"gridlayer\"><g class=\"x\"><path class=\"xgrid crisp\" transform=\"translate(102.38,0)\" d=\"M0,100v320\" style=\"stroke: rgb(255, 255, 255); stroke-opacity: 1; stroke-width: 1px;\"/><path class=\"xgrid crisp\" transform=\"translate(249.43,0)\" d=\"M0,100v320\" style=\"stroke: rgb(255, 255, 255); stroke-opacity: 1; stroke-width: 1px;\"/><path class=\"xgrid crisp\" transform=\"translate(396.87,0)\" d=\"M0,100v320\" style=\"stroke: rgb(255, 255, 255); stroke-opacity: 1; stroke-width: 1px;\"/><path class=\"xgrid crisp\" transform=\"translate(543.9100000000001,0)\" d=\"M0,100v320\" style=\"stroke: rgb(255, 255, 255); stroke-opacity: 1; stroke-width: 1px;\"/><path class=\"xgrid crisp\" transform=\"translate(690.95,0)\" d=\"M0,100v320\" style=\"stroke: rgb(255, 255, 255); stroke-opacity: 1; stroke-width: 1px;\"/><path class=\"xgrid crisp\" transform=\"translate(837.99,0)\" d=\"M0,100v320\" style=\"stroke: rgb(255, 255, 255); stroke-opacity: 1; stroke-width: 1px;\"/></g><g class=\"y\"><path class=\"ygrid crisp\" transform=\"translate(0,330.16999999999996)\" d=\"M80,0h840\" style=\"stroke: rgb(255, 255, 255); stroke-opacity: 1; stroke-width: 1px;\"/><path class=\"ygrid crisp\" transform=\"translate(0,260.09000000000003)\" d=\"M80,0h840\" style=\"stroke: rgb(255, 255, 255); stroke-opacity: 1; stroke-width: 1px;\"/><path class=\"ygrid crisp\" transform=\"translate(0,190.01999999999998)\" d=\"M80,0h840\" style=\"stroke: rgb(255, 255, 255); stroke-opacity: 1; stroke-width: 1px;\"/><path class=\"ygrid crisp\" transform=\"translate(0,119.94)\" d=\"M80,0h840\" style=\"stroke: rgb(255, 255, 255); stroke-opacity: 1; stroke-width: 1px;\"/></g></g><g class=\"zerolinelayer\"><path class=\"yzl zl crisp\" transform=\"translate(0,400.25)\" d=\"M80,0h840\" style=\"stroke: rgb(255, 255, 255); stroke-opacity: 1; stroke-width: 2px;\"/></g><g class=\"layer-between\"><g class=\"shapelayer\"/><g class=\"imagelayer\"/></g><path class=\"xlines-below\"/><path class=\"ylines-below\"/><g class=\"overlines-below\"/><g class=\"xaxislayer-below\"/><g class=\"yaxislayer-below\"/><g class=\"overaxes-below\"/><g class=\"plot\" transform=\"translate(80,100)\" clip-path=\"url(#clipe2f8f8xyplot)\"><g class=\"scatterlayer mlayer\"><g class=\"trace scatter trace021cb5\" style=\"stroke-miterlimit: 2; opacity: 1;\"><g class=\"fills\"/><g class=\"errorbars\"/><g class=\"lines\"><path class=\"js-line\" d=\"M45.75,298.31L58.24,300.25L70.32,300.25L82.81,283.2L94.9,259.98L107.39,282.73L119.87,273.45L131.96,282.62L144.45,276.81L156.53,255.15L169.02,262.56L193.19,297.26L205.68,288.8L230.26,249.42L242.34,268.71L254.83,257.01L267.32,243.16L279.4,236.39L291.89,253.55L303.98,241.86L316.47,263.24L328.96,251.29L340.24,277.18L352.72,244.91L364.81,258.96L377.3,271.05L389.38,219L401.87,263.96L414.36,252.84L426.45,233.22L438.93,232.24L451.02,230.62L463.51,180.42L476,221.71L487.28,221.77L499.76,196.33L511.85,245.22L524.34,300.25L536.42,300.25L561.4,300.25L573.49,84.66L585.98,110.63L598.06,19.75L610.55,35.14L623.04,155.18L634.32,181.29L646.81,161.59L658.89,197.78L671.38,151.76L683.47,199.84L695.95,209.63L708.44,198.75L720.53,233.16L733.02,186.17L745.1,178.58L757.59,192.7L770.08,190.56L781.76,178.18L794.25,230.14\" style=\"vector-effect: none; fill: none; stroke: rgb(0, 128, 0); stroke-opacity: 1; stroke-width: 2px; opacity: 1;\"/></g><g class=\"points\"><path class=\"point\" transform=\"translate(45.75,298.31)\" d=\"M3,0A3,3 0 1,1 0,-3A3,3 0 0,1 3,0Z\" style=\"opacity: 1; stroke-width: 0px; fill: rgb(0, 128, 0); fill-opacity: 1;\"/><path class=\"point\" transform=\"translate(58.24,300.25)\" d=\"M3,0A3,3 0 1,1 0,-3A3,3 0 0,1 3,0Z\" style=\"opacity: 1; stroke-width: 0px; fill: rgb(0, 128, 0); fill-opacity: 1;\"/><path class=\"point\" transform=\"translate(70.32,300.25)\" d=\"M3,0A3,3 0 1,1 0,-3A3,3 0 0,1 3,0Z\" style=\"opacity: 1; stroke-width: 0px; fill: rgb(0, 128, 0); fill-opacity: 1;\"/><path class=\"point\" transform=\"translate(82.81,283.2)\" d=\"M3,0A3,3 0 1,1 0,-3A3,3 0 0,1 3,0Z\" style=\"opacity: 1; stroke-width: 0px; fill: rgb(0, 128, 0); fill-opacity: 1;\"/><path class=\"point\" transform=\"translate(94.9,259.98)\" d=\"M3,0A3,3 0 1,1 0,-3A3,3 0 0,1 3,0Z\" style=\"opacity: 1; stroke-width: 0px; fill: rgb(0, 128, 0); fill-opacity: 1;\"/><path class=\"point\" transform=\"translate(107.39,282.73)\" d=\"M3,0A3,3 0 1,1 0,-3A3,3 0 0,1 3,0Z\" style=\"opacity: 1; stroke-width: 0px; fill: rgb(0, 128, 0); fill-opacity: 1;\"/><path class=\"point\" transform=\"translate(119.87,273.45)\" d=\"M3,0A3,3 0 1,1 0,-3A3,3 0 0,1 3,0Z\" style=\"opacity: 1; stroke-width: 0px; fill: rgb(0, 128, 0); fill-opacity: 1;\"/><path class=\"point\" transform=\"translate(131.96,282.62)\" d=\"M3,0A3,3 0 1,1 0,-3A3,3 0 0,1 3,0Z\" style=\"opacity: 1; stroke-width: 0px; fill: rgb(0, 128, 0); fill-opacity: 1;\"/><path class=\"point\" transform=\"translate(144.45,276.81)\" d=\"M3,0A3,3 0 1,1 0,-3A3,3 0 0,1 3,0Z\" style=\"opacity: 1; stroke-width: 0px; fill: rgb(0, 128, 0); fill-opacity: 1;\"/><path class=\"point\" transform=\"translate(156.53,255.15)\" d=\"M3,0A3,3 0 1,1 0,-3A3,3 0 0,1 3,0Z\" style=\"opacity: 1; stroke-width: 0px; fill: rgb(0, 128, 0); fill-opacity: 1;\"/><path class=\"point\" transform=\"translate(169.02,262.56)\" d=\"M3,0A3,3 0 1,1 0,-3A3,3 0 0,1 3,0Z\" style=\"opacity: 1; stroke-width: 0px; fill: rgb(0, 128, 0); fill-opacity: 1;\"/><path class=\"point\" transform=\"translate(181.51,280.45)\" d=\"M3,0A3,3 0 1,1 0,-3A3,3 0 0,1 3,0Z\" style=\"opacity: 1; stroke-width: 0px; fill: rgb(0, 128, 0); fill-opacity: 1;\"/><path class=\"point\" transform=\"translate(193.19,297.26)\" d=\"M3,0A3,3 0 1,1 0,-3A3,3 0 0,1 3,0Z\" style=\"opacity: 1; stroke-width: 0px; fill: rgb(0, 128, 0); fill-opacity: 1;\"/><path class=\"point\" transform=\"translate(205.68,288.8)\" d=\"M3,0A3,3 0 1,1 0,-3A3,3 0 0,1 3,0Z\" style=\"opacity: 1; stroke-width: 0px; fill: rgb(0, 128, 0); fill-opacity: 1;\"/><path class=\"point\" transform=\"translate(217.77,269.28)\" d=\"M3,0A3,3 0 1,1 0,-3A3,3 0 0,1 3,0Z\" style=\"opacity: 1; stroke-width: 0px; fill: rgb(0, 128, 0); fill-opacity: 1;\"/><path class=\"point\" transform=\"translate(230.26,249.42)\" d=\"M3,0A3,3 0 1,1 0,-3A3,3 0 0,1 3,0Z\" style=\"opacity: 1; stroke-width: 0px; fill: rgb(0, 128, 0); fill-opacity: 1;\"/><path class=\"point\" transform=\"translate(242.34,268.71)\" d=\"M3,0A3,3 0 1,1 0,-3A3,3 0 0,1 3,0Z\" style=\"opacity: 1; stroke-width: 0px; fill: rgb(0, 128, 0); fill-opacity: 1;\"/><path class=\"point\" transform=\"translate(254.83,257.01)\" d=\"M3,0A3,3 0 1,1 0,-3A3,3 0 0,1 3,0Z\" style=\"opacity: 1; stroke-width: 0px; fill: rgb(0, 128, 0); fill-opacity: 1;\"/><path class=\"point\" transform=\"translate(267.32,243.16)\" d=\"M3,0A3,3 0 1,1 0,-3A3,3 0 0,1 3,0Z\" style=\"opacity: 1; stroke-width: 0px; fill: rgb(0, 128, 0); fill-opacity: 1;\"/><path class=\"point\" transform=\"translate(279.4,236.39)\" d=\"M3,0A3,3 0 1,1 0,-3A3,3 0 0,1 3,0Z\" style=\"opacity: 1; stroke-width: 0px; fill: rgb(0, 128, 0); fill-opacity: 1;\"/><path class=\"point\" transform=\"translate(291.89,253.55)\" d=\"M3,0A3,3 0 1,1 0,-3A3,3 0 0,1 3,0Z\" style=\"opacity: 1; stroke-width: 0px; fill: rgb(0, 128, 0); fill-opacity: 1;\"/><path class=\"point\" transform=\"translate(303.98,241.86)\" d=\"M3,0A3,3 0 1,1 0,-3A3,3 0 0,1 3,0Z\" style=\"opacity: 1; stroke-width: 0px; fill: rgb(0, 128, 0); fill-opacity: 1;\"/><path class=\"point\" transform=\"translate(316.47,263.24)\" d=\"M3,0A3,3 0 1,1 0,-3A3,3 0 0,1 3,0Z\" style=\"opacity: 1; stroke-width: 0px; fill: rgb(0, 128, 0); fill-opacity: 1;\"/><path class=\"point\" transform=\"translate(328.96,251.29)\" d=\"M3,0A3,3 0 1,1 0,-3A3,3 0 0,1 3,0Z\" style=\"opacity: 1; stroke-width: 0px; fill: rgb(0, 128, 0); fill-opacity: 1;\"/><path class=\"point\" transform=\"translate(340.24,277.18)\" d=\"M3,0A3,3 0 1,1 0,-3A3,3 0 0,1 3,0Z\" style=\"opacity: 1; stroke-width: 0px; fill: rgb(0, 128, 0); fill-opacity: 1;\"/><path class=\"point\" transform=\"translate(352.72,244.91)\" d=\"M3,0A3,3 0 1,1 0,-3A3,3 0 0,1 3,0Z\" style=\"opacity: 1; stroke-width: 0px; fill: rgb(0, 128, 0); fill-opacity: 1;\"/><path class=\"point\" transform=\"translate(364.81,258.96)\" d=\"M3,0A3,3 0 1,1 0,-3A3,3 0 0,1 3,0Z\" style=\"opacity: 1; stroke-width: 0px; fill: rgb(0, 128, 0); fill-opacity: 1;\"/><path class=\"point\" transform=\"translate(377.3,271.05)\" d=\"M3,0A3,3 0 1,1 0,-3A3,3 0 0,1 3,0Z\" style=\"opacity: 1; stroke-width: 0px; fill: rgb(0, 128, 0); fill-opacity: 1;\"/><path class=\"point\" transform=\"translate(389.38,219)\" d=\"M3,0A3,3 0 1,1 0,-3A3,3 0 0,1 3,0Z\" style=\"opacity: 1; stroke-width: 0px; fill: rgb(0, 128, 0); fill-opacity: 1;\"/><path class=\"point\" transform=\"translate(401.87,263.96)\" d=\"M3,0A3,3 0 1,1 0,-3A3,3 0 0,1 3,0Z\" style=\"opacity: 1; stroke-width: 0px; fill: rgb(0, 128, 0); fill-opacity: 1;\"/><path class=\"point\" transform=\"translate(414.36,252.84)\" d=\"M3,0A3,3 0 1,1 0,-3A3,3 0 0,1 3,0Z\" style=\"opacity: 1; stroke-width: 0px; fill: rgb(0, 128, 0); fill-opacity: 1;\"/><path class=\"point\" transform=\"translate(426.45,233.22)\" d=\"M3,0A3,3 0 1,1 0,-3A3,3 0 0,1 3,0Z\" style=\"opacity: 1; stroke-width: 0px; fill: rgb(0, 128, 0); fill-opacity: 1;\"/><path class=\"point\" transform=\"translate(438.93,232.24)\" d=\"M3,0A3,3 0 1,1 0,-3A3,3 0 0,1 3,0Z\" style=\"opacity: 1; stroke-width: 0px; fill: rgb(0, 128, 0); fill-opacity: 1;\"/><path class=\"point\" transform=\"translate(451.02,230.62)\" d=\"M3,0A3,3 0 1,1 0,-3A3,3 0 0,1 3,0Z\" style=\"opacity: 1; stroke-width: 0px; fill: rgb(0, 128, 0); fill-opacity: 1;\"/><path class=\"point\" transform=\"translate(463.51,180.42)\" d=\"M3,0A3,3 0 1,1 0,-3A3,3 0 0,1 3,0Z\" style=\"opacity: 1; stroke-width: 0px; fill: rgb(0, 128, 0); fill-opacity: 1;\"/><path class=\"point\" transform=\"translate(476,221.71)\" d=\"M3,0A3,3 0 1,1 0,-3A3,3 0 0,1 3,0Z\" style=\"opacity: 1; stroke-width: 0px; fill: rgb(0, 128, 0); fill-opacity: 1;\"/><path class=\"point\" transform=\"translate(487.28,221.77)\" d=\"M3,0A3,3 0 1,1 0,-3A3,3 0 0,1 3,0Z\" style=\"opacity: 1; stroke-width: 0px; fill: rgb(0, 128, 0); fill-opacity: 1;\"/><path class=\"point\" transform=\"translate(499.76,196.33)\" d=\"M3,0A3,3 0 1,1 0,-3A3,3 0 0,1 3,0Z\" style=\"opacity: 1; stroke-width: 0px; fill: rgb(0, 128, 0); fill-opacity: 1;\"/><path class=\"point\" transform=\"translate(511.85,245.22)\" d=\"M3,0A3,3 0 1,1 0,-3A3,3 0 0,1 3,0Z\" style=\"opacity: 1; stroke-width: 0px; fill: rgb(0, 128, 0); fill-opacity: 1;\"/><path class=\"point\" transform=\"translate(524.34,300.25)\" d=\"M3,0A3,3 0 1,1 0,-3A3,3 0 0,1 3,0Z\" style=\"opacity: 1; stroke-width: 0px; fill: rgb(0, 128, 0); fill-opacity: 1;\"/><path class=\"point\" transform=\"translate(536.42,300.25)\" d=\"M3,0A3,3 0 1,1 0,-3A3,3 0 0,1 3,0Z\" style=\"opacity: 1; stroke-width: 0px; fill: rgb(0, 128, 0); fill-opacity: 1;\"/><path class=\"point\" transform=\"translate(548.91,300.25)\" d=\"M3,0A3,3 0 1,1 0,-3A3,3 0 0,1 3,0Z\" style=\"opacity: 1; stroke-width: 0px; fill: rgb(0, 128, 0); fill-opacity: 1;\"/><path class=\"point\" transform=\"translate(561.4,300.25)\" d=\"M3,0A3,3 0 1,1 0,-3A3,3 0 0,1 3,0Z\" style=\"opacity: 1; stroke-width: 0px; fill: rgb(0, 128, 0); fill-opacity: 1;\"/><path class=\"point\" transform=\"translate(573.49,84.66)\" d=\"M3,0A3,3 0 1,1 0,-3A3,3 0 0,1 3,0Z\" style=\"opacity: 1; stroke-width: 0px; fill: rgb(0, 128, 0); fill-opacity: 1;\"/><path class=\"point\" transform=\"translate(585.98,110.63)\" d=\"M3,0A3,3 0 1,1 0,-3A3,3 0 0,1 3,0Z\" style=\"opacity: 1; stroke-width: 0px; fill: rgb(0, 128, 0); fill-opacity: 1;\"/><path class=\"point\" transform=\"translate(598.06,19.75)\" d=\"M3,0A3,3 0 1,1 0,-3A3,3 0 0,1 3,0Z\" style=\"opacity: 1; stroke-width: 0px; fill: rgb(0, 128, 0); fill-opacity: 1;\"/><path class=\"point\" transform=\"translate(610.55,35.14)\" d=\"M3,0A3,3 0 1,1 0,-3A3,3 0 0,1 3,0Z\" style=\"opacity: 1; stroke-width: 0px; fill: rgb(0, 128, 0); fill-opacity: 1;\"/><path class=\"point\" transform=\"translate(623.04,155.18)\" d=\"M3,0A3,3 0 1,1 0,-3A3,3 0 0,1 3,0Z\" style=\"opacity: 1; stroke-width: 0px; fill: rgb(0, 128, 0); fill-opacity: 1;\"/><path class=\"point\" transform=\"translate(634.32,181.29)\" d=\"M3,0A3,3 0 1,1 0,-3A3,3 0 0,1 3,0Z\" style=\"opacity: 1; stroke-width: 0px; fill: rgb(0, 128, 0); fill-opacity: 1;\"/><path class=\"point\" transform=\"translate(646.81,161.59)\" d=\"M3,0A3,3 0 1,1 0,-3A3,3 0 0,1 3,0Z\" style=\"opacity: 1; stroke-width: 0px; fill: rgb(0, 128, 0); fill-opacity: 1;\"/><path class=\"point\" transform=\"translate(658.89,197.78)\" d=\"M3,0A3,3 0 1,1 0,-3A3,3 0 0,1 3,0Z\" style=\"opacity: 1; stroke-width: 0px; fill: rgb(0, 128, 0); fill-opacity: 1;\"/><path class=\"point\" transform=\"translate(671.38,151.76)\" d=\"M3,0A3,3 0 1,1 0,-3A3,3 0 0,1 3,0Z\" style=\"opacity: 1; stroke-width: 0px; fill: rgb(0, 128, 0); fill-opacity: 1;\"/><path class=\"point\" transform=\"translate(683.47,199.84)\" d=\"M3,0A3,3 0 1,1 0,-3A3,3 0 0,1 3,0Z\" style=\"opacity: 1; stroke-width: 0px; fill: rgb(0, 128, 0); fill-opacity: 1;\"/><path class=\"point\" transform=\"translate(695.95,209.63)\" d=\"M3,0A3,3 0 1,1 0,-3A3,3 0 0,1 3,0Z\" style=\"opacity: 1; stroke-width: 0px; fill: rgb(0, 128, 0); fill-opacity: 1;\"/><path class=\"point\" transform=\"translate(708.44,198.75)\" d=\"M3,0A3,3 0 1,1 0,-3A3,3 0 0,1 3,0Z\" style=\"opacity: 1; stroke-width: 0px; fill: rgb(0, 128, 0); fill-opacity: 1;\"/><path class=\"point\" transform=\"translate(720.53,233.16)\" d=\"M3,0A3,3 0 1,1 0,-3A3,3 0 0,1 3,0Z\" style=\"opacity: 1; stroke-width: 0px; fill: rgb(0, 128, 0); fill-opacity: 1;\"/><path class=\"point\" transform=\"translate(733.02,186.17)\" d=\"M3,0A3,3 0 1,1 0,-3A3,3 0 0,1 3,0Z\" style=\"opacity: 1; stroke-width: 0px; fill: rgb(0, 128, 0); fill-opacity: 1;\"/><path class=\"point\" transform=\"translate(745.1,178.58)\" d=\"M3,0A3,3 0 1,1 0,-3A3,3 0 0,1 3,0Z\" style=\"opacity: 1; stroke-width: 0px; fill: rgb(0, 128, 0); fill-opacity: 1;\"/><path class=\"point\" transform=\"translate(757.59,192.7)\" d=\"M3,0A3,3 0 1,1 0,-3A3,3 0 0,1 3,0Z\" style=\"opacity: 1; stroke-width: 0px; fill: rgb(0, 128, 0); fill-opacity: 1;\"/><path class=\"point\" transform=\"translate(770.08,190.56)\" d=\"M3,0A3,3 0 1,1 0,-3A3,3 0 0,1 3,0Z\" style=\"opacity: 1; stroke-width: 0px; fill: rgb(0, 128, 0); fill-opacity: 1;\"/><path class=\"point\" transform=\"translate(781.76,178.18)\" d=\"M3,0A3,3 0 1,1 0,-3A3,3 0 0,1 3,0Z\" style=\"opacity: 1; stroke-width: 0px; fill: rgb(0, 128, 0); fill-opacity: 1;\"/><path class=\"point\" transform=\"translate(794.25,230.14)\" d=\"M3,0A3,3 0 1,1 0,-3A3,3 0 0,1 3,0Z\" style=\"opacity: 1; stroke-width: 0px; fill: rgb(0, 128, 0); fill-opacity: 1;\"/></g><g class=\"text\"/></g></g></g><g class=\"overplot\"/><path class=\"xlines-above crisp\" d=\"M0,0\" style=\"fill: none;\"/><path class=\"ylines-above crisp\" d=\"M0,0\" style=\"fill: none;\"/><g class=\"overlines-above\"/><g class=\"xaxislayer-above\"><g class=\"xtick\"><text text-anchor=\"middle\" x=\"0\" y=\"433\" transform=\"translate(102.38,0)\" style=\"font-family: 'Open Sans', verdana, arial, sans-serif; font-size: 12px; fill: rgb(42, 63, 95); fill-opacity: 1; white-space: pre; opacity: 1;\">2019</text></g><g class=\"xtick\"><text text-anchor=\"middle\" x=\"0\" y=\"433\" style=\"font-family: 'Open Sans', verdana, arial, sans-serif; font-size: 12px; fill: rgb(42, 63, 95); fill-opacity: 1; white-space: pre; opacity: 1;\" transform=\"translate(249.43,0)\">2020</text></g><g class=\"xtick\"><text text-anchor=\"middle\" x=\"0\" y=\"433\" style=\"font-family: 'Open Sans', verdana, arial, sans-serif; font-size: 12px; fill: rgb(42, 63, 95); fill-opacity: 1; white-space: pre; opacity: 1;\" transform=\"translate(396.87,0)\">2021</text></g><g class=\"xtick\"><text text-anchor=\"middle\" x=\"0\" y=\"433\" style=\"font-family: 'Open Sans', verdana, arial, sans-serif; font-size: 12px; fill: rgb(42, 63, 95); fill-opacity: 1; white-space: pre; opacity: 1;\" transform=\"translate(543.9100000000001,0)\">2022</text></g><g class=\"xtick\"><text text-anchor=\"middle\" x=\"0\" y=\"433\" style=\"font-family: 'Open Sans', verdana, arial, sans-serif; font-size: 12px; fill: rgb(42, 63, 95); fill-opacity: 1; white-space: pre; opacity: 1;\" transform=\"translate(690.95,0)\">2023</text></g><g class=\"xtick\"><text text-anchor=\"middle\" x=\"0\" y=\"433\" style=\"font-family: 'Open Sans', verdana, arial, sans-serif; font-size: 12px; fill: rgb(42, 63, 95); fill-opacity: 1; white-space: pre; opacity: 1;\" transform=\"translate(837.99,0)\">2024</text></g></g><g class=\"yaxislayer-above\"><g class=\"ytick\"><text text-anchor=\"end\" x=\"79\" y=\"4.199999999999999\" transform=\"translate(0,400.25)\" style=\"font-family: 'Open Sans', verdana, arial, sans-serif; font-size: 12px; fill: rgb(42, 63, 95); fill-opacity: 1; white-space: pre; opacity: 1;\">0</text></g><g class=\"ytick\"><text text-anchor=\"end\" x=\"79\" y=\"4.199999999999999\" style=\"font-family: 'Open Sans', verdana, arial, sans-serif; font-size: 12px; fill: rgb(42, 63, 95); fill-opacity: 1; white-space: pre; opacity: 1;\" transform=\"translate(0,330.16999999999996)\">100</text></g><g class=\"ytick\"><text text-anchor=\"end\" x=\"79\" y=\"4.199999999999999\" style=\"font-family: 'Open Sans', verdana, arial, sans-serif; font-size: 12px; fill: rgb(42, 63, 95); fill-opacity: 1; white-space: pre; opacity: 1;\" transform=\"translate(0,260.09000000000003)\">200</text></g><g class=\"ytick\"><text text-anchor=\"end\" x=\"79\" y=\"4.199999999999999\" style=\"font-family: 'Open Sans', verdana, arial, sans-serif; font-size: 12px; fill: rgb(42, 63, 95); fill-opacity: 1; white-space: pre; opacity: 1;\" transform=\"translate(0,190.01999999999998)\">300</text></g><g class=\"ytick\"><text text-anchor=\"end\" x=\"79\" y=\"4.199999999999999\" style=\"font-family: 'Open Sans', verdana, arial, sans-serif; font-size: 12px; fill: rgb(42, 63, 95); fill-opacity: 1; white-space: pre; opacity: 1;\" transform=\"translate(0,119.94)\">400</text></g></g><g class=\"overaxes-above\"/></g></g><g class=\"polarlayer\"/><g class=\"smithlayer\"/><g class=\"ternarylayer\"/><g class=\"geolayer\"/><g class=\"funnelarealayer\"/><g class=\"pielayer\"/><g class=\"iciclelayer\"/><g class=\"treemaplayer\"/><g class=\"sunburstlayer\"/><g class=\"glimages\"/><defs id=\"topdefs-e2f8f8\"><g class=\"clips\"/></defs><g class=\"layer-above\"><g class=\"imagelayer\"/><g class=\"shapelayer\"/></g><g class=\"infolayer\"><g class=\"g-gtitle\"><text class=\"gtitle\" x=\"500\" y=\"50\" text-anchor=\"middle\" dy=\"0em\" style=\"font-family: 'Open Sans', verdana, arial, sans-serif; font-size: 17px; fill: rgb(42, 63, 95); opacity: 1; font-weight: normal; white-space: pre;\">Monthly Audio Streaming Trends Over Time</text></g><g class=\"g-xtitle\"><text class=\"xtitle\" x=\"500\" y=\"460.3\" text-anchor=\"middle\" style=\"font-family: 'Open Sans', verdana, arial, sans-serif; font-size: 14px; fill: rgb(42, 63, 95); opacity: 1; font-weight: normal; white-space: pre;\">Month-Year</text></g><g class=\"g-ytitle\"><text class=\"ytitle\" transform=\"rotate(-90,31.809375000000003,260)\" x=\"31.809375000000003\" y=\"260\" text-anchor=\"middle\" style=\"font-family: 'Open Sans', verdana, arial, sans-serif; font-size: 14px; fill: rgb(42, 63, 95); opacity: 1; font-weight: normal; white-space: pre;\">Hours Played</text></g></g></svg>"
      ]
     },
     "metadata": {},
     "output_type": "display_data"
    }
   ],
   "source": [
    "# Set 'ts' column as the index\n",
    "indexed = spotify_data.set_index('ts', inplace=False)\n",
    "\n",
    "# Resample the data on a monthly basis\n",
    "streaming_trends = indexed.resample('M').sum()\n",
    "\n",
    "# Create a line plot using Plotly Express\n",
    "fig = px.line(streaming_trends, x=streaming_trends.index, y=(streaming_trends['ms_played'] / (1000 * 60 * 60)).round(2),\n",
    "              labels={'ts': 'Month-Year', 'y': 'Hours Played'},\n",
    "              title='Monthly Audio Streaming Trends Over Time',\n",
    "              color_discrete_sequence=['green'], markers=True)\n",
    "\n",
    "fig.add_vrect(x0=\"2022-10-01\", x1=\"2023-02-01\", fillcolor=\"rgba(0,255,0,0.2)\", layer=\"below\", line_width=0)\n",
    "\n",
    "fig.update_layout(title=dict(text='Monthly Audio Streaming Trends Over Time', x=0.5),\n",
    "                  xaxis_title='Month-Year',\n",
    "                  yaxis_title='Hours Played',\n",
    "                  width=1000, height=500)\n",
    "fig.show()"
   ]
  },
  {
   "cell_type": "code",
   "execution_count": 39,
   "metadata": {},
   "outputs": [
    {
     "data": {
      "image/svg+xml": [
       "<svg class=\"main-svg\" xmlns=\"http://www.w3.org/2000/svg\" xmlns:xlink=\"http://www.w3.org/1999/xlink\" width=\"800\" height=\"500\" style=\"\" viewBox=\"0 0 800 500\"><rect x=\"0\" y=\"0\" width=\"800\" height=\"500\" style=\"fill: rgb(255, 255, 255); fill-opacity: 1;\"/><defs id=\"defs-4328e6\"><g class=\"clips\"><clipPath id=\"clip4328e6xyplot\" class=\"plotclip\"><rect width=\"640\" height=\"320\"/></clipPath><clipPath class=\"axesclip\" id=\"clip4328e6x\"><rect x=\"80\" y=\"0\" width=\"640\" height=\"500\"/></clipPath><clipPath class=\"axesclip\" id=\"clip4328e6y\"><rect x=\"0\" y=\"100\" width=\"800\" height=\"320\"/></clipPath><clipPath class=\"axesclip\" id=\"clip4328e6xy\"><rect x=\"80\" y=\"100\" width=\"640\" height=\"320\"/></clipPath></g><g class=\"gradients\"/><g class=\"patterns\"/></defs><g class=\"bglayer\"><rect class=\"bg\" x=\"80\" y=\"100\" width=\"640\" height=\"320\" style=\"fill: rgb(229, 236, 246); fill-opacity: 1; stroke-width: 0;\"/></g><g class=\"layer-below\"><g class=\"imagelayer\"/><g class=\"shapelayer\"/></g><g class=\"cartesianlayer\"><g class=\"subplot xy\"><g class=\"layer-subplot\"><g class=\"shapelayer\"/><g class=\"imagelayer\"/></g><g class=\"minor-gridlayer\"><g class=\"x\"/><g class=\"y\"/></g><g class=\"gridlayer\"><g class=\"x\"/><g class=\"y\"><path class=\"ygrid crisp\" transform=\"translate(0,353.94)\" d=\"M80,0h640\" style=\"stroke: rgb(255, 255, 255); stroke-opacity: 1; stroke-width: 1px;\"/><path class=\"ygrid crisp\" transform=\"translate(0,287.89)\" d=\"M80,0h640\" style=\"stroke: rgb(255, 255, 255); stroke-opacity: 1; stroke-width: 1px;\"/><path class=\"ygrid crisp\" transform=\"translate(0,221.82999999999998)\" d=\"M80,0h640\" style=\"stroke: rgb(255, 255, 255); stroke-opacity: 1; stroke-width: 1px;\"/><path class=\"ygrid crisp\" transform=\"translate(0,155.77)\" d=\"M80,0h640\" style=\"stroke: rgb(255, 255, 255); stroke-opacity: 1; stroke-width: 1px;\"/></g></g><g class=\"zerolinelayer\"><path class=\"yzl zl crisp\" transform=\"translate(0,420)\" d=\"M80,0h640\" style=\"stroke: rgb(255, 255, 255); stroke-opacity: 1; stroke-width: 2px;\"/></g><g class=\"layer-between\"><g class=\"shapelayer\"/><g class=\"imagelayer\"/></g><path class=\"xlines-below\"/><path class=\"ylines-below\"/><g class=\"overlines-below\"/><g class=\"xaxislayer-below\"/><g class=\"yaxislayer-below\"/><g class=\"overaxes-below\"/><g class=\"plot\" transform=\"translate(80,100)\" clip-path=\"url(#clip4328e6xyplot)\"><g class=\"barlayer mlayer\"><g class=\"trace bars\" style=\"opacity: 1;\"><g class=\"points\"><g class=\"point\"><path d=\"M9.14,320V17.73H82.29V320Z\" style=\"vector-effect: none; opacity: 1; stroke-width: 0.5px; fill: rgb(0, 128, 0); fill-opacity: 1; stroke: rgb(229, 236, 246); stroke-opacity: 1;\"/><text class=\"bartext bartext-inside\" text-anchor=\"middle\" data-notex=\"1\" x=\"0\" y=\"0\" style=\"font-family: 'Open Sans', verdana, arial, sans-serif; font-size: 12px; fill: rgb(255, 255, 255); fill-opacity: 1; white-space: pre;\" transform=\"translate(45.5275,32.730000000000004)\">915.17</text></g><g class=\"point\"><path d=\"M100.57,320V51.34H173.71V320Z\" style=\"vector-effect: none; opacity: 1; stroke-width: 0.5px; fill: rgb(22, 211, 92); fill-opacity: 1; stroke: rgb(229, 236, 246); stroke-opacity: 1;\"/><text class=\"bartext bartext-inside\" text-anchor=\"middle\" data-notex=\"1\" x=\"0\" y=\"0\" style=\"font-family: 'Open Sans', verdana, arial, sans-serif; font-size: 12px; fill: rgb(255, 255, 255); fill-opacity: 1; white-space: pre;\" transform=\"translate(136.9525,66.34)\">813.42</text></g><g class=\"point\"><path d=\"M192,320V22.54H265.14V320Z\" style=\"vector-effect: none; opacity: 1; stroke-width: 0.5px; fill: rgb(22, 211, 92); fill-opacity: 1; stroke: rgb(229, 236, 246); stroke-opacity: 1;\"/><text class=\"bartext bartext-inside\" text-anchor=\"middle\" data-notex=\"1\" x=\"0\" y=\"0\" style=\"font-family: 'Open Sans', verdana, arial, sans-serif; font-size: 12px; fill: rgb(255, 255, 255); fill-opacity: 1; white-space: pre;\" transform=\"translate(228.3825,37.54)\">900.62</text></g><g class=\"point\"><path d=\"M283.43,320V32.69H356.57V320Z\" style=\"vector-effect: none; opacity: 1; stroke-width: 0.5px; fill: rgb(22, 211, 92); fill-opacity: 1; stroke: rgb(229, 236, 246); stroke-opacity: 1;\"/><text class=\"bartext bartext-inside\" text-anchor=\"middle\" data-notex=\"1\" x=\"0\" y=\"0\" style=\"font-family: 'Open Sans', verdana, arial, sans-serif; font-size: 12px; fill: rgb(255, 255, 255); fill-opacity: 1; white-space: pre;\" transform=\"translate(319.8125,47.69)\">869.88</text></g><g class=\"point\"><path d=\"M374.86,320V16H448V320Z\" style=\"vector-effect: none; opacity: 1; stroke-width: 0.5px; fill: rgb(0, 128, 0); fill-opacity: 1; stroke: rgb(229, 236, 246); stroke-opacity: 1;\"/><text class=\"bartext bartext-inside\" text-anchor=\"middle\" data-notex=\"1\" x=\"0\" y=\"0\" style=\"font-family: 'Open Sans', verdana, arial, sans-serif; font-size: 12px; fill: rgb(255, 255, 255); fill-opacity: 1; white-space: pre;\" transform=\"translate(411.2425,31)\">920.42</text></g><g class=\"point\"><path d=\"M466.29,320V45.74H539.43V320Z\" style=\"vector-effect: none; opacity: 1; stroke-width: 0.5px; fill: rgb(22, 211, 92); fill-opacity: 1; stroke: rgb(229, 236, 246); stroke-opacity: 1;\"/><text class=\"bartext bartext-inside\" text-anchor=\"middle\" data-notex=\"1\" x=\"0\" y=\"0\" style=\"font-family: 'Open Sans', verdana, arial, sans-serif; font-size: 12px; fill: rgb(255, 255, 255); fill-opacity: 1; white-space: pre;\" transform=\"translate(502.6725,60.74)\">830.38</text></g><g class=\"point\"><path d=\"M557.71,320V30.21H630.86V320Z\" style=\"vector-effect: none; opacity: 1; stroke-width: 0.5px; fill: rgb(22, 211, 92); fill-opacity: 1; stroke: rgb(229, 236, 246); stroke-opacity: 1;\"/><text class=\"bartext bartext-inside\" text-anchor=\"middle\" data-notex=\"1\" x=\"0\" y=\"0\" style=\"font-family: 'Open Sans', verdana, arial, sans-serif; font-size: 12px; fill: rgb(255, 255, 255); fill-opacity: 1; white-space: pre;\" transform=\"translate(594.1053125000001,45.21)\">877.4</text></g></g></g></g></g><g class=\"overplot\"/><path class=\"xlines-above crisp\" d=\"M0,0\" style=\"fill: none;\"/><path class=\"ylines-above crisp\" d=\"M0,0\" style=\"fill: none;\"/><g class=\"overlines-above\"/><g class=\"xaxislayer-above\"><g class=\"xtick\"><text text-anchor=\"middle\" x=\"0\" y=\"433\" transform=\"translate(125.71000000000001,0)\" style=\"font-family: 'Open Sans', verdana, arial, sans-serif; font-size: 12px; fill: rgb(42, 63, 95); fill-opacity: 1; white-space: pre; opacity: 1;\">Mon</text></g><g class=\"xtick\"><text text-anchor=\"middle\" x=\"0\" y=\"433\" style=\"font-family: 'Open Sans', verdana, arial, sans-serif; font-size: 12px; fill: rgb(42, 63, 95); fill-opacity: 1; white-space: pre; opacity: 1;\" transform=\"translate(217.14,0)\">Tue</text></g><g class=\"xtick\"><text text-anchor=\"middle\" x=\"0\" y=\"433\" style=\"font-family: 'Open Sans', verdana, arial, sans-serif; font-size: 12px; fill: rgb(42, 63, 95); fill-opacity: 1; white-space: pre; opacity: 1;\" transform=\"translate(308.57,0)\">Wed</text></g><g class=\"xtick\"><text text-anchor=\"middle\" x=\"0\" y=\"433\" style=\"font-family: 'Open Sans', verdana, arial, sans-serif; font-size: 12px; fill: rgb(42, 63, 95); fill-opacity: 1; white-space: pre; opacity: 1;\" transform=\"translate(400,0)\">Thu</text></g><g class=\"xtick\"><text text-anchor=\"middle\" x=\"0\" y=\"433\" style=\"font-family: 'Open Sans', verdana, arial, sans-serif; font-size: 12px; fill: rgb(42, 63, 95); fill-opacity: 1; white-space: pre; opacity: 1;\" transform=\"translate(491.43,0)\">Fri</text></g><g class=\"xtick\"><text text-anchor=\"middle\" x=\"0\" y=\"433\" style=\"font-family: 'Open Sans', verdana, arial, sans-serif; font-size: 12px; fill: rgb(42, 63, 95); fill-opacity: 1; white-space: pre; opacity: 1;\" transform=\"translate(582.86,0)\">Sat</text></g><g class=\"xtick\"><text text-anchor=\"middle\" x=\"0\" y=\"433\" style=\"font-family: 'Open Sans', verdana, arial, sans-serif; font-size: 12px; fill: rgb(42, 63, 95); fill-opacity: 1; white-space: pre; opacity: 1;\" transform=\"translate(674.29,0)\">Sun</text></g></g><g class=\"yaxislayer-above\"><g class=\"ytick\"><text text-anchor=\"end\" x=\"79\" y=\"4.199999999999999\" transform=\"translate(0,420)\" style=\"font-family: 'Open Sans', verdana, arial, sans-serif; font-size: 12px; fill: rgb(42, 63, 95); fill-opacity: 1; white-space: pre; opacity: 1;\">0</text></g><g class=\"ytick\"><text text-anchor=\"end\" x=\"79\" y=\"4.199999999999999\" style=\"font-family: 'Open Sans', verdana, arial, sans-serif; font-size: 12px; fill: rgb(42, 63, 95); fill-opacity: 1; white-space: pre; opacity: 1;\" transform=\"translate(0,353.94)\">200</text></g><g class=\"ytick\"><text text-anchor=\"end\" x=\"79\" y=\"4.199999999999999\" style=\"font-family: 'Open Sans', verdana, arial, sans-serif; font-size: 12px; fill: rgb(42, 63, 95); fill-opacity: 1; white-space: pre; opacity: 1;\" transform=\"translate(0,287.89)\">400</text></g><g class=\"ytick\"><text text-anchor=\"end\" x=\"79\" y=\"4.199999999999999\" style=\"font-family: 'Open Sans', verdana, arial, sans-serif; font-size: 12px; fill: rgb(42, 63, 95); fill-opacity: 1; white-space: pre; opacity: 1;\" transform=\"translate(0,221.82999999999998)\">600</text></g><g class=\"ytick\"><text text-anchor=\"end\" x=\"79\" y=\"4.199999999999999\" style=\"font-family: 'Open Sans', verdana, arial, sans-serif; font-size: 12px; fill: rgb(42, 63, 95); fill-opacity: 1; white-space: pre; opacity: 1;\" transform=\"translate(0,155.77)\">800</text></g></g><g class=\"overaxes-above\"/></g></g><g class=\"polarlayer\"/><g class=\"smithlayer\"/><g class=\"ternarylayer\"/><g class=\"geolayer\"/><g class=\"funnelarealayer\"/><g class=\"pielayer\"/><g class=\"iciclelayer\"/><g class=\"treemaplayer\"/><g class=\"sunburstlayer\"/><g class=\"glimages\"/><defs id=\"topdefs-4328e6\"><g class=\"clips\"/></defs><g class=\"layer-above\"><g class=\"imagelayer\"/><g class=\"shapelayer\"/></g><g class=\"infolayer\"><g class=\"g-gtitle\"><text class=\"gtitle\" x=\"400\" y=\"50\" text-anchor=\"middle\" dy=\"0em\" style=\"font-family: 'Open Sans', verdana, arial, sans-serif; font-size: 17px; fill: rgb(42, 63, 95); opacity: 1; font-weight: normal; white-space: pre;\">Streaming Trends by Day of the Week</text></g><g class=\"g-xtitle\"><text class=\"xtitle\" x=\"400\" y=\"460.3\" text-anchor=\"middle\" style=\"font-family: 'Open Sans', verdana, arial, sans-serif; font-size: 14px; fill: rgb(42, 63, 95); opacity: 1; font-weight: normal; white-space: pre;\">Day of the Week</text></g><g class=\"g-ytitle\"><text class=\"ytitle\" transform=\"rotate(-90,31.809375000000003,260)\" x=\"31.809375000000003\" y=\"260\" text-anchor=\"middle\" style=\"font-family: 'Open Sans', verdana, arial, sans-serif; font-size: 14px; fill: rgb(42, 63, 95); opacity: 1; font-weight: normal; white-space: pre;\">Total Streaming Time (Hours)</text></g></g></svg>"
      ]
     },
     "metadata": {},
     "output_type": "display_data"
    }
   ],
   "source": [
    "# Analyze trends based on the day of the week\n",
    "trends_by_day = spotify_data.groupby(spotify_data['ts'].dt.dayofweek).agg({\n",
    "    'ms_played': lambda x: x.sum() / (1000 * 60 * 60)  # Convert milliseconds to hours and sum\n",
    "}).reset_index()\n",
    "\n",
    "# Get the top 2 days of the week\n",
    "top_days = trends_by_day.nlargest(2, 'ms_played').index\n",
    "\n",
    "# Visualize the trends\n",
    "fig = px.bar(trends_by_day, x='ts', y='ms_played',\n",
    "             labels={'ms_played': 'Total Streaming Time (Hours)', 'ts': 'Day of the Week'},\n",
    "             title='Streaming Trends by Day of the Week')\n",
    "\n",
    "colors = ['green' if i in top_days else '#16D35C' for i in trends_by_day.index]\n",
    "\n",
    "fig.update_traces(marker_color=colors,\n",
    "                  text=trends_by_day['ms_played'].round(2), \n",
    "                  textposition='inside', \n",
    "                  textfont=dict(color='white'))\n",
    "\n",
    "fig.update_layout(xaxis=dict(tickmode='array', tickvals=list(range(7)), ticktext=['Mon', 'Tue', 'Wed', 'Thu', 'Fri', 'Sat', 'Sun']),\n",
    "                  title=dict(text='Streaming Trends by Day of the Week', x=0.5),\n",
    "                  width=800, height=500)\n",
    "fig.show()"
   ]
  },
  {
   "cell_type": "markdown",
   "metadata": {},
   "source": [
    "#### **Music Streaming**"
   ]
  },
  {
   "cell_type": "code",
   "execution_count": 40,
   "metadata": {},
   "outputs": [
    {
     "data": {
      "image/svg+xml": [
       "<svg class=\"main-svg\" xmlns=\"http://www.w3.org/2000/svg\" xmlns:xlink=\"http://www.w3.org/1999/xlink\" width=\"1000\" height=\"500\" style=\"\" viewBox=\"0 0 1000 500\"><rect x=\"0\" y=\"0\" width=\"1000\" height=\"500\" style=\"fill: rgb(255, 255, 255); fill-opacity: 1;\"/><defs id=\"defs-17163e\"><g class=\"clips\"><clipPath id=\"clip17163exyplot\" class=\"plotclip\"><rect width=\"840\" height=\"320\"/></clipPath><clipPath class=\"axesclip\" id=\"clip17163ex\"><rect x=\"80\" y=\"0\" width=\"840\" height=\"500\"/></clipPath><clipPath class=\"axesclip\" id=\"clip17163ey\"><rect x=\"0\" y=\"100\" width=\"1000\" height=\"320\"/></clipPath><clipPath class=\"axesclip\" id=\"clip17163exy\"><rect x=\"80\" y=\"100\" width=\"840\" height=\"320\"/></clipPath></g><g class=\"gradients\"/><g class=\"patterns\"/></defs><g class=\"bglayer\"><rect class=\"bg\" x=\"80\" y=\"100\" width=\"840\" height=\"320\" style=\"fill: rgb(229, 236, 246); fill-opacity: 1; stroke-width: 0;\"/></g><g class=\"layer-below\"><g class=\"imagelayer\"/><g class=\"shapelayer\"><g class=\"shape-group\" data-index=\"0\" clip-path=\"url(#clip17163ex)\"><path data-index=\"0\" fill-rule=\"evenodd\" d=\"M653.89,420H703.44V100H653.89Z\" style=\"opacity: 1; stroke: rgb(0, 0, 0); stroke-opacity: 0; fill: rgb(0, 255, 0); fill-opacity: 0.2; stroke-width: 0px;\"/></g></g></g><g class=\"cartesianlayer\"><g class=\"subplot xy\"><g class=\"layer-subplot\"><g class=\"shapelayer\"/><g class=\"imagelayer\"/></g><g class=\"minor-gridlayer\"><g class=\"x\"/><g class=\"y\"/></g><g class=\"gridlayer\"><g class=\"x\"><path class=\"xgrid crisp\" transform=\"translate(102.38,0)\" d=\"M0,100v320\" style=\"stroke: rgb(255, 255, 255); stroke-opacity: 1; stroke-width: 1px;\"/><path class=\"xgrid crisp\" transform=\"translate(249.43,0)\" d=\"M0,100v320\" style=\"stroke: rgb(255, 255, 255); stroke-opacity: 1; stroke-width: 1px;\"/><path class=\"xgrid crisp\" transform=\"translate(396.87,0)\" d=\"M0,100v320\" style=\"stroke: rgb(255, 255, 255); stroke-opacity: 1; stroke-width: 1px;\"/><path class=\"xgrid crisp\" transform=\"translate(543.9100000000001,0)\" d=\"M0,100v320\" style=\"stroke: rgb(255, 255, 255); stroke-opacity: 1; stroke-width: 1px;\"/><path class=\"xgrid crisp\" transform=\"translate(690.95,0)\" d=\"M0,100v320\" style=\"stroke: rgb(255, 255, 255); stroke-opacity: 1; stroke-width: 1px;\"/><path class=\"xgrid crisp\" transform=\"translate(837.99,0)\" d=\"M0,100v320\" style=\"stroke: rgb(255, 255, 255); stroke-opacity: 1; stroke-width: 1px;\"/></g><g class=\"y\"><path class=\"ygrid crisp\" transform=\"translate(0,362.95)\" d=\"M80,0h840\" style=\"stroke: rgb(255, 255, 255); stroke-opacity: 1; stroke-width: 1px;\"/><path class=\"ygrid crisp\" transform=\"translate(0,325.65999999999997)\" d=\"M80,0h840\" style=\"stroke: rgb(255, 255, 255); stroke-opacity: 1; stroke-width: 1px;\"/><path class=\"ygrid crisp\" transform=\"translate(0,288.36)\" d=\"M80,0h840\" style=\"stroke: rgb(255, 255, 255); stroke-opacity: 1; stroke-width: 1px;\"/><path class=\"ygrid crisp\" transform=\"translate(0,251.06)\" d=\"M80,0h840\" style=\"stroke: rgb(255, 255, 255); stroke-opacity: 1; stroke-width: 1px;\"/><path class=\"ygrid crisp\" transform=\"translate(0,213.76999999999998)\" d=\"M80,0h840\" style=\"stroke: rgb(255, 255, 255); stroke-opacity: 1; stroke-width: 1px;\"/><path class=\"ygrid crisp\" transform=\"translate(0,176.47)\" d=\"M80,0h840\" style=\"stroke: rgb(255, 255, 255); stroke-opacity: 1; stroke-width: 1px;\"/><path class=\"ygrid crisp\" transform=\"translate(0,139.17000000000002)\" d=\"M80,0h840\" style=\"stroke: rgb(255, 255, 255); stroke-opacity: 1; stroke-width: 1px;\"/><path class=\"ygrid crisp\" transform=\"translate(0,101.88)\" d=\"M80,0h840\" style=\"stroke: rgb(255, 255, 255); stroke-opacity: 1; stroke-width: 1px;\"/></g></g><g class=\"zerolinelayer\"><path class=\"yzl zl crisp\" transform=\"translate(0,400.25)\" d=\"M80,0h840\" style=\"stroke: rgb(255, 255, 255); stroke-opacity: 1; stroke-width: 2px;\"/></g><g class=\"layer-between\"><g class=\"shapelayer\"/><g class=\"imagelayer\"/></g><path class=\"xlines-below\"/><path class=\"ylines-below\"/><g class=\"overlines-below\"/><g class=\"xaxislayer-below\"/><g class=\"yaxislayer-below\"/><g class=\"overaxes-below\"/><g class=\"plot\" transform=\"translate(80,100)\" clip-path=\"url(#clip17163exyplot)\"><g class=\"scatterlayer mlayer\"><g class=\"trace scatter trace8b8d48\" style=\"stroke-miterlimit: 2; opacity: 1;\"><g class=\"fills\"/><g class=\"errorbars\"/><g class=\"lines\"><path class=\"js-line\" d=\"M45.75,298.25L58.24,300.25L70.32,300.25L82.81,283.48L94.9,265.94L107.39,283.65L119.87,275.54L131.96,287.91L144.45,276.76L156.53,257.52L169.02,261.05L193.19,298.17L205.68,290.05L217.77,267.75L230.26,249.79L242.34,268.33L254.83,257.19L279.4,232.51L291.89,255.65L303.98,242.19L316.47,262.42L328.96,248.14L340.24,277.42L352.72,242.28L364.81,256.96L377.3,271.69L389.38,216.18L401.87,264.64L414.36,250.98L426.45,233.7L438.93,232.12L451.02,228.12L463.51,177.13L476,220.74L487.28,220.85L499.76,194.63L511.85,243.77L524.34,300.25L536.42,300.25L561.4,300.25L573.49,80.27L585.98,110.1L598.06,19.75L610.55,28.81L623.04,153.22L634.32,176.13L646.81,156.35L658.89,194.63L671.38,145.53L683.47,194.39L695.95,207.54L708.44,192.83L720.53,230.92L733.02,181.45L745.1,175.7L757.59,187.94L770.08,186L781.76,174.64L794.25,235.46\" style=\"vector-effect: none; fill: none; stroke: rgb(0, 128, 0); stroke-opacity: 1; stroke-width: 2px; opacity: 1;\"/></g><g class=\"points\"><path class=\"point\" transform=\"translate(45.75,298.25)\" d=\"M3,0A3,3 0 1,1 0,-3A3,3 0 0,1 3,0Z\" style=\"opacity: 1; stroke-width: 0px; fill: rgb(0, 128, 0); fill-opacity: 1;\"/><path class=\"point\" transform=\"translate(58.24,300.25)\" d=\"M3,0A3,3 0 1,1 0,-3A3,3 0 0,1 3,0Z\" style=\"opacity: 1; stroke-width: 0px; fill: rgb(0, 128, 0); fill-opacity: 1;\"/><path class=\"point\" transform=\"translate(70.32,300.25)\" d=\"M3,0A3,3 0 1,1 0,-3A3,3 0 0,1 3,0Z\" style=\"opacity: 1; stroke-width: 0px; fill: rgb(0, 128, 0); fill-opacity: 1;\"/><path class=\"point\" transform=\"translate(82.81,283.48)\" d=\"M3,0A3,3 0 1,1 0,-3A3,3 0 0,1 3,0Z\" style=\"opacity: 1; stroke-width: 0px; fill: rgb(0, 128, 0); fill-opacity: 1;\"/><path class=\"point\" transform=\"translate(94.9,265.94)\" d=\"M3,0A3,3 0 1,1 0,-3A3,3 0 0,1 3,0Z\" style=\"opacity: 1; stroke-width: 0px; fill: rgb(0, 128, 0); fill-opacity: 1;\"/><path class=\"point\" transform=\"translate(107.39,283.65)\" d=\"M3,0A3,3 0 1,1 0,-3A3,3 0 0,1 3,0Z\" style=\"opacity: 1; stroke-width: 0px; fill: rgb(0, 128, 0); fill-opacity: 1;\"/><path class=\"point\" transform=\"translate(119.87,275.54)\" d=\"M3,0A3,3 0 1,1 0,-3A3,3 0 0,1 3,0Z\" style=\"opacity: 1; stroke-width: 0px; fill: rgb(0, 128, 0); fill-opacity: 1;\"/><path class=\"point\" transform=\"translate(131.96,287.91)\" d=\"M3,0A3,3 0 1,1 0,-3A3,3 0 0,1 3,0Z\" style=\"opacity: 1; stroke-width: 0px; fill: rgb(0, 128, 0); fill-opacity: 1;\"/><path class=\"point\" transform=\"translate(144.45,276.76)\" d=\"M3,0A3,3 0 1,1 0,-3A3,3 0 0,1 3,0Z\" style=\"opacity: 1; stroke-width: 0px; fill: rgb(0, 128, 0); fill-opacity: 1;\"/><path class=\"point\" transform=\"translate(156.53,257.52)\" d=\"M3,0A3,3 0 1,1 0,-3A3,3 0 0,1 3,0Z\" style=\"opacity: 1; stroke-width: 0px; fill: rgb(0, 128, 0); fill-opacity: 1;\"/><path class=\"point\" transform=\"translate(169.02,261.05)\" d=\"M3,0A3,3 0 1,1 0,-3A3,3 0 0,1 3,0Z\" style=\"opacity: 1; stroke-width: 0px; fill: rgb(0, 128, 0); fill-opacity: 1;\"/><path class=\"point\" transform=\"translate(181.51,280.7)\" d=\"M3,0A3,3 0 1,1 0,-3A3,3 0 0,1 3,0Z\" style=\"opacity: 1; stroke-width: 0px; fill: rgb(0, 128, 0); fill-opacity: 1;\"/><path class=\"point\" transform=\"translate(193.19,298.17)\" d=\"M3,0A3,3 0 1,1 0,-3A3,3 0 0,1 3,0Z\" style=\"opacity: 1; stroke-width: 0px; fill: rgb(0, 128, 0); fill-opacity: 1;\"/><path class=\"point\" transform=\"translate(205.68,290.05)\" d=\"M3,0A3,3 0 1,1 0,-3A3,3 0 0,1 3,0Z\" style=\"opacity: 1; stroke-width: 0px; fill: rgb(0, 128, 0); fill-opacity: 1;\"/><path class=\"point\" transform=\"translate(217.77,267.75)\" d=\"M3,0A3,3 0 1,1 0,-3A3,3 0 0,1 3,0Z\" style=\"opacity: 1; stroke-width: 0px; fill: rgb(0, 128, 0); fill-opacity: 1;\"/><path class=\"point\" transform=\"translate(230.26,249.79)\" d=\"M3,0A3,3 0 1,1 0,-3A3,3 0 0,1 3,0Z\" style=\"opacity: 1; stroke-width: 0px; fill: rgb(0, 128, 0); fill-opacity: 1;\"/><path class=\"point\" transform=\"translate(242.34,268.33)\" d=\"M3,0A3,3 0 1,1 0,-3A3,3 0 0,1 3,0Z\" style=\"opacity: 1; stroke-width: 0px; fill: rgb(0, 128, 0); fill-opacity: 1;\"/><path class=\"point\" transform=\"translate(254.83,257.19)\" d=\"M3,0A3,3 0 1,1 0,-3A3,3 0 0,1 3,0Z\" style=\"opacity: 1; stroke-width: 0px; fill: rgb(0, 128, 0); fill-opacity: 1;\"/><path class=\"point\" transform=\"translate(267.32,244.75)\" d=\"M3,0A3,3 0 1,1 0,-3A3,3 0 0,1 3,0Z\" style=\"opacity: 1; stroke-width: 0px; fill: rgb(0, 128, 0); fill-opacity: 1;\"/><path class=\"point\" transform=\"translate(279.4,232.51)\" d=\"M3,0A3,3 0 1,1 0,-3A3,3 0 0,1 3,0Z\" style=\"opacity: 1; stroke-width: 0px; fill: rgb(0, 128, 0); fill-opacity: 1;\"/><path class=\"point\" transform=\"translate(291.89,255.65)\" d=\"M3,0A3,3 0 1,1 0,-3A3,3 0 0,1 3,0Z\" style=\"opacity: 1; stroke-width: 0px; fill: rgb(0, 128, 0); fill-opacity: 1;\"/><path class=\"point\" transform=\"translate(303.98,242.19)\" d=\"M3,0A3,3 0 1,1 0,-3A3,3 0 0,1 3,0Z\" style=\"opacity: 1; stroke-width: 0px; fill: rgb(0, 128, 0); fill-opacity: 1;\"/><path class=\"point\" transform=\"translate(316.47,262.42)\" d=\"M3,0A3,3 0 1,1 0,-3A3,3 0 0,1 3,0Z\" style=\"opacity: 1; stroke-width: 0px; fill: rgb(0, 128, 0); fill-opacity: 1;\"/><path class=\"point\" transform=\"translate(328.96,248.14)\" d=\"M3,0A3,3 0 1,1 0,-3A3,3 0 0,1 3,0Z\" style=\"opacity: 1; stroke-width: 0px; fill: rgb(0, 128, 0); fill-opacity: 1;\"/><path class=\"point\" transform=\"translate(340.24,277.42)\" d=\"M3,0A3,3 0 1,1 0,-3A3,3 0 0,1 3,0Z\" style=\"opacity: 1; stroke-width: 0px; fill: rgb(0, 128, 0); fill-opacity: 1;\"/><path class=\"point\" transform=\"translate(352.72,242.28)\" d=\"M3,0A3,3 0 1,1 0,-3A3,3 0 0,1 3,0Z\" style=\"opacity: 1; stroke-width: 0px; fill: rgb(0, 128, 0); fill-opacity: 1;\"/><path class=\"point\" transform=\"translate(364.81,256.96)\" d=\"M3,0A3,3 0 1,1 0,-3A3,3 0 0,1 3,0Z\" style=\"opacity: 1; stroke-width: 0px; fill: rgb(0, 128, 0); fill-opacity: 1;\"/><path class=\"point\" transform=\"translate(377.3,271.69)\" d=\"M3,0A3,3 0 1,1 0,-3A3,3 0 0,1 3,0Z\" style=\"opacity: 1; stroke-width: 0px; fill: rgb(0, 128, 0); fill-opacity: 1;\"/><path class=\"point\" transform=\"translate(389.38,216.18)\" d=\"M3,0A3,3 0 1,1 0,-3A3,3 0 0,1 3,0Z\" style=\"opacity: 1; stroke-width: 0px; fill: rgb(0, 128, 0); fill-opacity: 1;\"/><path class=\"point\" transform=\"translate(401.87,264.64)\" d=\"M3,0A3,3 0 1,1 0,-3A3,3 0 0,1 3,0Z\" style=\"opacity: 1; stroke-width: 0px; fill: rgb(0, 128, 0); fill-opacity: 1;\"/><path class=\"point\" transform=\"translate(414.36,250.98)\" d=\"M3,0A3,3 0 1,1 0,-3A3,3 0 0,1 3,0Z\" style=\"opacity: 1; stroke-width: 0px; fill: rgb(0, 128, 0); fill-opacity: 1;\"/><path class=\"point\" transform=\"translate(426.45,233.7)\" d=\"M3,0A3,3 0 1,1 0,-3A3,3 0 0,1 3,0Z\" style=\"opacity: 1; stroke-width: 0px; fill: rgb(0, 128, 0); fill-opacity: 1;\"/><path class=\"point\" transform=\"translate(438.93,232.12)\" d=\"M3,0A3,3 0 1,1 0,-3A3,3 0 0,1 3,0Z\" style=\"opacity: 1; stroke-width: 0px; fill: rgb(0, 128, 0); fill-opacity: 1;\"/><path class=\"point\" transform=\"translate(451.02,228.12)\" d=\"M3,0A3,3 0 1,1 0,-3A3,3 0 0,1 3,0Z\" style=\"opacity: 1; stroke-width: 0px; fill: rgb(0, 128, 0); fill-opacity: 1;\"/><path class=\"point\" transform=\"translate(463.51,177.13)\" d=\"M3,0A3,3 0 1,1 0,-3A3,3 0 0,1 3,0Z\" style=\"opacity: 1; stroke-width: 0px; fill: rgb(0, 128, 0); fill-opacity: 1;\"/><path class=\"point\" transform=\"translate(476,220.74)\" d=\"M3,0A3,3 0 1,1 0,-3A3,3 0 0,1 3,0Z\" style=\"opacity: 1; stroke-width: 0px; fill: rgb(0, 128, 0); fill-opacity: 1;\"/><path class=\"point\" transform=\"translate(487.28,220.85)\" d=\"M3,0A3,3 0 1,1 0,-3A3,3 0 0,1 3,0Z\" style=\"opacity: 1; stroke-width: 0px; fill: rgb(0, 128, 0); fill-opacity: 1;\"/><path class=\"point\" transform=\"translate(499.76,194.63)\" d=\"M3,0A3,3 0 1,1 0,-3A3,3 0 0,1 3,0Z\" style=\"opacity: 1; stroke-width: 0px; fill: rgb(0, 128, 0); fill-opacity: 1;\"/><path class=\"point\" transform=\"translate(511.85,243.77)\" d=\"M3,0A3,3 0 1,1 0,-3A3,3 0 0,1 3,0Z\" style=\"opacity: 1; stroke-width: 0px; fill: rgb(0, 128, 0); fill-opacity: 1;\"/><path class=\"point\" transform=\"translate(524.34,300.25)\" d=\"M3,0A3,3 0 1,1 0,-3A3,3 0 0,1 3,0Z\" style=\"opacity: 1; stroke-width: 0px; fill: rgb(0, 128, 0); fill-opacity: 1;\"/><path class=\"point\" transform=\"translate(536.42,300.25)\" d=\"M3,0A3,3 0 1,1 0,-3A3,3 0 0,1 3,0Z\" style=\"opacity: 1; stroke-width: 0px; fill: rgb(0, 128, 0); fill-opacity: 1;\"/><path class=\"point\" transform=\"translate(548.91,300.25)\" d=\"M3,0A3,3 0 1,1 0,-3A3,3 0 0,1 3,0Z\" style=\"opacity: 1; stroke-width: 0px; fill: rgb(0, 128, 0); fill-opacity: 1;\"/><path class=\"point\" transform=\"translate(561.4,300.25)\" d=\"M3,0A3,3 0 1,1 0,-3A3,3 0 0,1 3,0Z\" style=\"opacity: 1; stroke-width: 0px; fill: rgb(0, 128, 0); fill-opacity: 1;\"/><path class=\"point\" transform=\"translate(573.49,80.27)\" d=\"M3,0A3,3 0 1,1 0,-3A3,3 0 0,1 3,0Z\" style=\"opacity: 1; stroke-width: 0px; fill: rgb(0, 128, 0); fill-opacity: 1;\"/><path class=\"point\" transform=\"translate(585.98,110.1)\" d=\"M3,0A3,3 0 1,1 0,-3A3,3 0 0,1 3,0Z\" style=\"opacity: 1; stroke-width: 0px; fill: rgb(0, 128, 0); fill-opacity: 1;\"/><path class=\"point\" transform=\"translate(598.06,19.75)\" d=\"M3,0A3,3 0 1,1 0,-3A3,3 0 0,1 3,0Z\" style=\"opacity: 1; stroke-width: 0px; fill: rgb(0, 128, 0); fill-opacity: 1;\"/><path class=\"point\" transform=\"translate(610.55,28.81)\" d=\"M3,0A3,3 0 1,1 0,-3A3,3 0 0,1 3,0Z\" style=\"opacity: 1; stroke-width: 0px; fill: rgb(0, 128, 0); fill-opacity: 1;\"/><path class=\"point\" transform=\"translate(623.04,153.22)\" d=\"M3,0A3,3 0 1,1 0,-3A3,3 0 0,1 3,0Z\" style=\"opacity: 1; stroke-width: 0px; fill: rgb(0, 128, 0); fill-opacity: 1;\"/><path class=\"point\" transform=\"translate(634.32,176.13)\" d=\"M3,0A3,3 0 1,1 0,-3A3,3 0 0,1 3,0Z\" style=\"opacity: 1; stroke-width: 0px; fill: rgb(0, 128, 0); fill-opacity: 1;\"/><path class=\"point\" transform=\"translate(646.81,156.35)\" d=\"M3,0A3,3 0 1,1 0,-3A3,3 0 0,1 3,0Z\" style=\"opacity: 1; stroke-width: 0px; fill: rgb(0, 128, 0); fill-opacity: 1;\"/><path class=\"point\" transform=\"translate(658.89,194.63)\" d=\"M3,0A3,3 0 1,1 0,-3A3,3 0 0,1 3,0Z\" style=\"opacity: 1; stroke-width: 0px; fill: rgb(0, 128, 0); fill-opacity: 1;\"/><path class=\"point\" transform=\"translate(671.38,145.53)\" d=\"M3,0A3,3 0 1,1 0,-3A3,3 0 0,1 3,0Z\" style=\"opacity: 1; stroke-width: 0px; fill: rgb(0, 128, 0); fill-opacity: 1;\"/><path class=\"point\" transform=\"translate(683.47,194.39)\" d=\"M3,0A3,3 0 1,1 0,-3A3,3 0 0,1 3,0Z\" style=\"opacity: 1; stroke-width: 0px; fill: rgb(0, 128, 0); fill-opacity: 1;\"/><path class=\"point\" transform=\"translate(695.95,207.54)\" d=\"M3,0A3,3 0 1,1 0,-3A3,3 0 0,1 3,0Z\" style=\"opacity: 1; stroke-width: 0px; fill: rgb(0, 128, 0); fill-opacity: 1;\"/><path class=\"point\" transform=\"translate(708.44,192.83)\" d=\"M3,0A3,3 0 1,1 0,-3A3,3 0 0,1 3,0Z\" style=\"opacity: 1; stroke-width: 0px; fill: rgb(0, 128, 0); fill-opacity: 1;\"/><path class=\"point\" transform=\"translate(720.53,230.92)\" d=\"M3,0A3,3 0 1,1 0,-3A3,3 0 0,1 3,0Z\" style=\"opacity: 1; stroke-width: 0px; fill: rgb(0, 128, 0); fill-opacity: 1;\"/><path class=\"point\" transform=\"translate(733.02,181.45)\" d=\"M3,0A3,3 0 1,1 0,-3A3,3 0 0,1 3,0Z\" style=\"opacity: 1; stroke-width: 0px; fill: rgb(0, 128, 0); fill-opacity: 1;\"/><path class=\"point\" transform=\"translate(745.1,175.7)\" d=\"M3,0A3,3 0 1,1 0,-3A3,3 0 0,1 3,0Z\" style=\"opacity: 1; stroke-width: 0px; fill: rgb(0, 128, 0); fill-opacity: 1;\"/><path class=\"point\" transform=\"translate(757.59,187.94)\" d=\"M3,0A3,3 0 1,1 0,-3A3,3 0 0,1 3,0Z\" style=\"opacity: 1; stroke-width: 0px; fill: rgb(0, 128, 0); fill-opacity: 1;\"/><path class=\"point\" transform=\"translate(770.08,186)\" d=\"M3,0A3,3 0 1,1 0,-3A3,3 0 0,1 3,0Z\" style=\"opacity: 1; stroke-width: 0px; fill: rgb(0, 128, 0); fill-opacity: 1;\"/><path class=\"point\" transform=\"translate(781.76,174.64)\" d=\"M3,0A3,3 0 1,1 0,-3A3,3 0 0,1 3,0Z\" style=\"opacity: 1; stroke-width: 0px; fill: rgb(0, 128, 0); fill-opacity: 1;\"/><path class=\"point\" transform=\"translate(794.25,235.46)\" d=\"M3,0A3,3 0 1,1 0,-3A3,3 0 0,1 3,0Z\" style=\"opacity: 1; stroke-width: 0px; fill: rgb(0, 128, 0); fill-opacity: 1;\"/></g><g class=\"text\"/></g></g></g><g class=\"overplot\"/><path class=\"xlines-above crisp\" d=\"M0,0\" style=\"fill: none;\"/><path class=\"ylines-above crisp\" d=\"M0,0\" style=\"fill: none;\"/><g class=\"overlines-above\"/><g class=\"xaxislayer-above\"><g class=\"xtick\"><text text-anchor=\"middle\" x=\"0\" y=\"433\" transform=\"translate(102.38,0)\" style=\"font-family: 'Open Sans', verdana, arial, sans-serif; font-size: 12px; fill: rgb(42, 63, 95); fill-opacity: 1; white-space: pre; opacity: 1;\">2019</text></g><g class=\"xtick\"><text text-anchor=\"middle\" x=\"0\" y=\"433\" style=\"font-family: 'Open Sans', verdana, arial, sans-serif; font-size: 12px; fill: rgb(42, 63, 95); fill-opacity: 1; white-space: pre; opacity: 1;\" transform=\"translate(249.43,0)\">2020</text></g><g class=\"xtick\"><text text-anchor=\"middle\" x=\"0\" y=\"433\" style=\"font-family: 'Open Sans', verdana, arial, sans-serif; font-size: 12px; fill: rgb(42, 63, 95); fill-opacity: 1; white-space: pre; opacity: 1;\" transform=\"translate(396.87,0)\">2021</text></g><g class=\"xtick\"><text text-anchor=\"middle\" x=\"0\" y=\"433\" style=\"font-family: 'Open Sans', verdana, arial, sans-serif; font-size: 12px; fill: rgb(42, 63, 95); fill-opacity: 1; white-space: pre; opacity: 1;\" transform=\"translate(543.9100000000001,0)\">2022</text></g><g class=\"xtick\"><text text-anchor=\"middle\" x=\"0\" y=\"433\" style=\"font-family: 'Open Sans', verdana, arial, sans-serif; font-size: 12px; fill: rgb(42, 63, 95); fill-opacity: 1; white-space: pre; opacity: 1;\" transform=\"translate(690.95,0)\">2023</text></g><g class=\"xtick\"><text text-anchor=\"middle\" x=\"0\" y=\"433\" style=\"font-family: 'Open Sans', verdana, arial, sans-serif; font-size: 12px; fill: rgb(42, 63, 95); fill-opacity: 1; white-space: pre; opacity: 1;\" transform=\"translate(837.99,0)\">2024</text></g></g><g class=\"yaxislayer-above\"><g class=\"ytick\"><text text-anchor=\"end\" x=\"79\" y=\"4.199999999999999\" transform=\"translate(0,400.25)\" style=\"font-family: 'Open Sans', verdana, arial, sans-serif; font-size: 12px; fill: rgb(42, 63, 95); fill-opacity: 1; white-space: pre; opacity: 1;\">0</text></g><g class=\"ytick\"><text text-anchor=\"end\" x=\"79\" y=\"4.199999999999999\" style=\"font-family: 'Open Sans', verdana, arial, sans-serif; font-size: 12px; fill: rgb(42, 63, 95); fill-opacity: 1; white-space: pre; opacity: 1;\" transform=\"translate(0,362.95)\">50</text></g><g class=\"ytick\"><text text-anchor=\"end\" x=\"79\" y=\"4.199999999999999\" style=\"font-family: 'Open Sans', verdana, arial, sans-serif; font-size: 12px; fill: rgb(42, 63, 95); fill-opacity: 1; white-space: pre; opacity: 1;\" transform=\"translate(0,325.65999999999997)\">100</text></g><g class=\"ytick\"><text text-anchor=\"end\" x=\"79\" y=\"4.199999999999999\" style=\"font-family: 'Open Sans', verdana, arial, sans-serif; font-size: 12px; fill: rgb(42, 63, 95); fill-opacity: 1; white-space: pre; opacity: 1;\" transform=\"translate(0,288.36)\">150</text></g><g class=\"ytick\"><text text-anchor=\"end\" x=\"79\" y=\"4.199999999999999\" style=\"font-family: 'Open Sans', verdana, arial, sans-serif; font-size: 12px; fill: rgb(42, 63, 95); fill-opacity: 1; white-space: pre; opacity: 1;\" transform=\"translate(0,251.06)\">200</text></g><g class=\"ytick\"><text text-anchor=\"end\" x=\"79\" y=\"4.199999999999999\" style=\"font-family: 'Open Sans', verdana, arial, sans-serif; font-size: 12px; fill: rgb(42, 63, 95); fill-opacity: 1; white-space: pre; opacity: 1;\" transform=\"translate(0,213.76999999999998)\">250</text></g><g class=\"ytick\"><text text-anchor=\"end\" x=\"79\" y=\"4.199999999999999\" style=\"font-family: 'Open Sans', verdana, arial, sans-serif; font-size: 12px; fill: rgb(42, 63, 95); fill-opacity: 1; white-space: pre; opacity: 1;\" transform=\"translate(0,176.47)\">300</text></g><g class=\"ytick\"><text text-anchor=\"end\" x=\"79\" y=\"4.199999999999999\" style=\"font-family: 'Open Sans', verdana, arial, sans-serif; font-size: 12px; fill: rgb(42, 63, 95); fill-opacity: 1; white-space: pre; opacity: 1;\" transform=\"translate(0,139.17000000000002)\">350</text></g><g class=\"ytick\"><text text-anchor=\"end\" x=\"79\" y=\"4.199999999999999\" style=\"font-family: 'Open Sans', verdana, arial, sans-serif; font-size: 12px; fill: rgb(42, 63, 95); fill-opacity: 1; white-space: pre; opacity: 1;\" transform=\"translate(0,101.88)\">400</text></g></g><g class=\"overaxes-above\"/></g></g><g class=\"polarlayer\"/><g class=\"smithlayer\"/><g class=\"ternarylayer\"/><g class=\"geolayer\"/><g class=\"funnelarealayer\"/><g class=\"pielayer\"/><g class=\"iciclelayer\"/><g class=\"treemaplayer\"/><g class=\"sunburstlayer\"/><g class=\"glimages\"/><defs id=\"topdefs-17163e\"><g class=\"clips\"/></defs><g class=\"layer-above\"><g class=\"imagelayer\"/><g class=\"shapelayer\"/></g><g class=\"infolayer\"><g class=\"g-gtitle\"><text class=\"gtitle\" x=\"500\" y=\"50\" text-anchor=\"middle\" dy=\"0em\" style=\"font-family: 'Open Sans', verdana, arial, sans-serif; font-size: 17px; fill: rgb(42, 63, 95); opacity: 1; font-weight: normal; white-space: pre;\">Monthly Music Streaming Trends Over Time</text></g><g class=\"g-xtitle\"><text class=\"xtitle\" x=\"500\" y=\"460.3\" text-anchor=\"middle\" style=\"font-family: 'Open Sans', verdana, arial, sans-serif; font-size: 14px; fill: rgb(42, 63, 95); opacity: 1; font-weight: normal; white-space: pre;\">Month-Year</text></g><g class=\"g-ytitle\"><text class=\"ytitle\" transform=\"rotate(-90,31.809375000000003,260)\" x=\"31.809375000000003\" y=\"260\" text-anchor=\"middle\" style=\"font-family: 'Open Sans', verdana, arial, sans-serif; font-size: 14px; fill: rgb(42, 63, 95); opacity: 1; font-weight: normal; white-space: pre;\">Hours Played</text></g></g></svg>"
      ]
     },
     "metadata": {},
     "output_type": "display_data"
    }
   ],
   "source": [
    "# Set 'ts' column as the index\n",
    "indexed = spotify_music.set_index('ts', inplace=False)\n",
    "\n",
    "# Resample the data on a monthly basis\n",
    "streaming_trends = indexed.resample('M').sum()\n",
    "\n",
    "# Create a line plot using Plotly Express\n",
    "fig = px.line(streaming_trends, x=streaming_trends.index, y=(streaming_trends['ms_played'] / (1000 * 60 * 60)).round(2),\n",
    "              labels={'ts': 'Month-Year', 'y': 'Hours Played'},\n",
    "              title='Monthly Audio Streaming Trends Over Time',\n",
    "              color_discrete_sequence=['green'], markers=True)\n",
    "\n",
    "fig.add_vrect(x0=\"2022-10-01\", x1=\"2023-02-01\", fillcolor=\"rgba(0,255,0,0.2)\", layer=\"below\", line_width=0)\n",
    "\n",
    "fig.update_layout(title=dict(text='Monthly Music Streaming Trends Over Time', x=0.5),\n",
    "                  xaxis_title='Month-Year',\n",
    "                  yaxis_title='Hours Played',\n",
    "                  width=1000, height=500)\n",
    "fig.show()"
   ]
  },
  {
   "cell_type": "code",
   "execution_count": 41,
   "metadata": {},
   "outputs": [
    {
     "data": {
      "image/svg+xml": [
       "<svg class=\"main-svg\" xmlns=\"http://www.w3.org/2000/svg\" xmlns:xlink=\"http://www.w3.org/1999/xlink\" width=\"800\" height=\"500\" style=\"\" viewBox=\"0 0 800 500\"><rect x=\"0\" y=\"0\" width=\"800\" height=\"500\" style=\"fill: rgb(255, 255, 255); fill-opacity: 1;\"/><defs id=\"defs-f0b6e9\"><g class=\"clips\"><clipPath id=\"clipf0b6e9xyplot\" class=\"plotclip\"><rect width=\"640\" height=\"320\"/></clipPath><clipPath class=\"axesclip\" id=\"clipf0b6e9x\"><rect x=\"80\" y=\"0\" width=\"640\" height=\"500\"/></clipPath><clipPath class=\"axesclip\" id=\"clipf0b6e9y\"><rect x=\"0\" y=\"100\" width=\"800\" height=\"320\"/></clipPath><clipPath class=\"axesclip\" id=\"clipf0b6e9xy\"><rect x=\"80\" y=\"100\" width=\"640\" height=\"320\"/></clipPath></g><g class=\"gradients\"/><g class=\"patterns\"/></defs><g class=\"bglayer\"><rect class=\"bg\" x=\"80\" y=\"100\" width=\"640\" height=\"320\" style=\"fill: rgb(229, 236, 246); fill-opacity: 1; stroke-width: 0;\"/></g><g class=\"layer-below\"><g class=\"imagelayer\"/><g class=\"shapelayer\"/></g><g class=\"cartesianlayer\"><g class=\"subplot xy\"><g class=\"layer-subplot\"><g class=\"shapelayer\"/><g class=\"imagelayer\"/></g><g class=\"minor-gridlayer\"><g class=\"x\"/><g class=\"y\"/></g><g class=\"gridlayer\"><g class=\"x\"/><g class=\"y\"><path class=\"ygrid crisp\" transform=\"translate(0,351.07)\" d=\"M80,0h640\" style=\"stroke: rgb(255, 255, 255); stroke-opacity: 1; stroke-width: 1px;\"/><path class=\"ygrid crisp\" transform=\"translate(0,282.15)\" d=\"M80,0h640\" style=\"stroke: rgb(255, 255, 255); stroke-opacity: 1; stroke-width: 1px;\"/><path class=\"ygrid crisp\" transform=\"translate(0,213.22)\" d=\"M80,0h640\" style=\"stroke: rgb(255, 255, 255); stroke-opacity: 1; stroke-width: 1px;\"/><path class=\"ygrid crisp\" transform=\"translate(0,144.3)\" d=\"M80,0h640\" style=\"stroke: rgb(255, 255, 255); stroke-opacity: 1; stroke-width: 1px;\"/></g></g><g class=\"zerolinelayer\"><path class=\"yzl zl crisp\" transform=\"translate(0,420)\" d=\"M80,0h640\" style=\"stroke: rgb(255, 255, 255); stroke-opacity: 1; stroke-width: 2px;\"/></g><g class=\"layer-between\"><g class=\"shapelayer\"/><g class=\"imagelayer\"/></g><path class=\"xlines-below\"/><path class=\"ylines-below\"/><g class=\"overlines-below\"/><g class=\"xaxislayer-below\"/><g class=\"yaxislayer-below\"/><g class=\"overaxes-below\"/><g class=\"plot\" transform=\"translate(80,100)\" clip-path=\"url(#clipf0b6e9xyplot)\"><g class=\"barlayer mlayer\"><g class=\"trace bars\" style=\"opacity: 1;\"><g class=\"points\"><g class=\"point\"><path d=\"M9.14,320V19.93H82.29V320Z\" style=\"vector-effect: none; opacity: 1; stroke-width: 0.5px; fill: rgb(0, 128, 0); fill-opacity: 1; stroke: rgb(229, 236, 246); stroke-opacity: 1;\"/><text class=\"bartext bartext-inside\" text-anchor=\"middle\" data-notex=\"1\" x=\"0\" y=\"0\" style=\"font-family: 'Open Sans', verdana, arial, sans-serif; font-size: 12px; fill: rgb(255, 255, 255); fill-opacity: 1; white-space: pre;\" transform=\"translate(45.715,34.93)\">870.71</text></g><g class=\"point\"><path d=\"M100.57,320V54H173.71V320Z\" style=\"vector-effect: none; opacity: 1; stroke-width: 0.5px; fill: rgb(22, 211, 92); fill-opacity: 1; stroke: rgb(229, 236, 246); stroke-opacity: 1;\"/><text class=\"bartext bartext-inside\" text-anchor=\"middle\" data-notex=\"1\" x=\"0\" y=\"0\" style=\"font-family: 'Open Sans', verdana, arial, sans-serif; font-size: 12px; fill: rgb(255, 255, 255); fill-opacity: 1; white-space: pre;\" transform=\"translate(136.9525,69)\">771.85</text></g><g class=\"point\"><path d=\"M192,320V26.77H265.14V320Z\" style=\"vector-effect: none; opacity: 1; stroke-width: 0.5px; fill: rgb(22, 211, 92); fill-opacity: 1; stroke: rgb(229, 236, 246); stroke-opacity: 1;\"/><text class=\"bartext bartext-inside\" text-anchor=\"middle\" data-notex=\"1\" x=\"0\" y=\"0\" style=\"font-family: 'Open Sans', verdana, arial, sans-serif; font-size: 12px; fill: rgb(255, 255, 255); fill-opacity: 1; white-space: pre;\" transform=\"translate(228.3825,41.769999999999996)\">850.86</text></g><g class=\"point\"><path d=\"M283.43,320V32.87H356.57V320Z\" style=\"vector-effect: none; opacity: 1; stroke-width: 0.5px; fill: rgb(22, 211, 92); fill-opacity: 1; stroke: rgb(229, 236, 246); stroke-opacity: 1;\"/><text class=\"bartext bartext-inside\" text-anchor=\"middle\" data-notex=\"1\" x=\"0\" y=\"0\" style=\"font-family: 'Open Sans', verdana, arial, sans-serif; font-size: 12px; fill: rgb(255, 255, 255); fill-opacity: 1; white-space: pre;\" transform=\"translate(319.8125,47.87)\">833.17</text></g><g class=\"point\"><path d=\"M374.86,320V16H448V320Z\" style=\"vector-effect: none; opacity: 1; stroke-width: 0.5px; fill: rgb(0, 128, 0); fill-opacity: 1; stroke: rgb(229, 236, 246); stroke-opacity: 1;\"/><text class=\"bartext bartext-inside\" text-anchor=\"middle\" data-notex=\"1\" x=\"0\" y=\"0\" style=\"font-family: 'Open Sans', verdana, arial, sans-serif; font-size: 12px; fill: rgb(255, 255, 255); fill-opacity: 1; white-space: pre;\" transform=\"translate(411.43,31)\">882.11</text></g><g class=\"point\"><path d=\"M466.29,320V47.22H539.43V320Z\" style=\"vector-effect: none; opacity: 1; stroke-width: 0.5px; fill: rgb(22, 211, 92); fill-opacity: 1; stroke: rgb(229, 236, 246); stroke-opacity: 1;\"/><text class=\"bartext bartext-inside\" text-anchor=\"middle\" data-notex=\"1\" x=\"0\" y=\"0\" style=\"font-family: 'Open Sans', verdana, arial, sans-serif; font-size: 12px; fill: rgb(255, 255, 255); fill-opacity: 1; white-space: pre;\" transform=\"translate(502.86,62.22)\">791.51</text></g><g class=\"point\"><path d=\"M557.71,320V27.26H630.86V320Z\" style=\"vector-effect: none; opacity: 1; stroke-width: 0.5px; fill: rgb(22, 211, 92); fill-opacity: 1; stroke: rgb(229, 236, 246); stroke-opacity: 1;\"/><text class=\"bartext bartext-inside\" text-anchor=\"middle\" data-notex=\"1\" x=\"0\" y=\"0\" style=\"font-family: 'Open Sans', verdana, arial, sans-serif; font-size: 12px; fill: rgb(255, 255, 255); fill-opacity: 1; white-space: pre;\" transform=\"translate(594.0975000000001,42.260000000000005)\">849.44</text></g></g></g></g></g><g class=\"overplot\"/><path class=\"xlines-above crisp\" d=\"M0,0\" style=\"fill: none;\"/><path class=\"ylines-above crisp\" d=\"M0,0\" style=\"fill: none;\"/><g class=\"overlines-above\"/><g class=\"xaxislayer-above\"><g class=\"xtick\"><text text-anchor=\"middle\" x=\"0\" y=\"433\" transform=\"translate(125.71000000000001,0)\" style=\"font-family: 'Open Sans', verdana, arial, sans-serif; font-size: 12px; fill: rgb(42, 63, 95); fill-opacity: 1; white-space: pre; opacity: 1;\">Mon</text></g><g class=\"xtick\"><text text-anchor=\"middle\" x=\"0\" y=\"433\" style=\"font-family: 'Open Sans', verdana, arial, sans-serif; font-size: 12px; fill: rgb(42, 63, 95); fill-opacity: 1; white-space: pre; opacity: 1;\" transform=\"translate(217.14,0)\">Tue</text></g><g class=\"xtick\"><text text-anchor=\"middle\" x=\"0\" y=\"433\" style=\"font-family: 'Open Sans', verdana, arial, sans-serif; font-size: 12px; fill: rgb(42, 63, 95); fill-opacity: 1; white-space: pre; opacity: 1;\" transform=\"translate(308.57,0)\">Wed</text></g><g class=\"xtick\"><text text-anchor=\"middle\" x=\"0\" y=\"433\" style=\"font-family: 'Open Sans', verdana, arial, sans-serif; font-size: 12px; fill: rgb(42, 63, 95); fill-opacity: 1; white-space: pre; opacity: 1;\" transform=\"translate(400,0)\">Thu</text></g><g class=\"xtick\"><text text-anchor=\"middle\" x=\"0\" y=\"433\" style=\"font-family: 'Open Sans', verdana, arial, sans-serif; font-size: 12px; fill: rgb(42, 63, 95); fill-opacity: 1; white-space: pre; opacity: 1;\" transform=\"translate(491.43,0)\">Fri</text></g><g class=\"xtick\"><text text-anchor=\"middle\" x=\"0\" y=\"433\" style=\"font-family: 'Open Sans', verdana, arial, sans-serif; font-size: 12px; fill: rgb(42, 63, 95); fill-opacity: 1; white-space: pre; opacity: 1;\" transform=\"translate(582.86,0)\">Sat</text></g><g class=\"xtick\"><text text-anchor=\"middle\" x=\"0\" y=\"433\" style=\"font-family: 'Open Sans', verdana, arial, sans-serif; font-size: 12px; fill: rgb(42, 63, 95); fill-opacity: 1; white-space: pre; opacity: 1;\" transform=\"translate(674.29,0)\">Sun</text></g></g><g class=\"yaxislayer-above\"><g class=\"ytick\"><text text-anchor=\"end\" x=\"79\" y=\"4.199999999999999\" transform=\"translate(0,420)\" style=\"font-family: 'Open Sans', verdana, arial, sans-serif; font-size: 12px; fill: rgb(42, 63, 95); fill-opacity: 1; white-space: pre; opacity: 1;\">0</text></g><g class=\"ytick\"><text text-anchor=\"end\" x=\"79\" y=\"4.199999999999999\" style=\"font-family: 'Open Sans', verdana, arial, sans-serif; font-size: 12px; fill: rgb(42, 63, 95); fill-opacity: 1; white-space: pre; opacity: 1;\" transform=\"translate(0,351.07)\">200</text></g><g class=\"ytick\"><text text-anchor=\"end\" x=\"79\" y=\"4.199999999999999\" style=\"font-family: 'Open Sans', verdana, arial, sans-serif; font-size: 12px; fill: rgb(42, 63, 95); fill-opacity: 1; white-space: pre; opacity: 1;\" transform=\"translate(0,282.15)\">400</text></g><g class=\"ytick\"><text text-anchor=\"end\" x=\"79\" y=\"4.199999999999999\" style=\"font-family: 'Open Sans', verdana, arial, sans-serif; font-size: 12px; fill: rgb(42, 63, 95); fill-opacity: 1; white-space: pre; opacity: 1;\" transform=\"translate(0,213.22)\">600</text></g><g class=\"ytick\"><text text-anchor=\"end\" x=\"79\" y=\"4.199999999999999\" style=\"font-family: 'Open Sans', verdana, arial, sans-serif; font-size: 12px; fill: rgb(42, 63, 95); fill-opacity: 1; white-space: pre; opacity: 1;\" transform=\"translate(0,144.3)\">800</text></g></g><g class=\"overaxes-above\"/></g></g><g class=\"polarlayer\"/><g class=\"smithlayer\"/><g class=\"ternarylayer\"/><g class=\"geolayer\"/><g class=\"funnelarealayer\"/><g class=\"pielayer\"/><g class=\"iciclelayer\"/><g class=\"treemaplayer\"/><g class=\"sunburstlayer\"/><g class=\"glimages\"/><defs id=\"topdefs-f0b6e9\"><g class=\"clips\"/></defs><g class=\"layer-above\"><g class=\"imagelayer\"/><g class=\"shapelayer\"/></g><g class=\"infolayer\"><g class=\"g-gtitle\"><text class=\"gtitle\" x=\"400\" y=\"50\" text-anchor=\"middle\" dy=\"0em\" style=\"font-family: 'Open Sans', verdana, arial, sans-serif; font-size: 17px; fill: rgb(42, 63, 95); opacity: 1; font-weight: normal; white-space: pre;\">Streaming Trends by Day of the Week</text></g><g class=\"g-xtitle\"><text class=\"xtitle\" x=\"400\" y=\"460.3\" text-anchor=\"middle\" style=\"font-family: 'Open Sans', verdana, arial, sans-serif; font-size: 14px; fill: rgb(42, 63, 95); opacity: 1; font-weight: normal; white-space: pre;\">Day of the Week</text></g><g class=\"g-ytitle\"><text class=\"ytitle\" transform=\"rotate(-90,31.809375000000003,260)\" x=\"31.809375000000003\" y=\"260\" text-anchor=\"middle\" style=\"font-family: 'Open Sans', verdana, arial, sans-serif; font-size: 14px; fill: rgb(42, 63, 95); opacity: 1; font-weight: normal; white-space: pre;\">Total Streaming Time (Hours)</text></g></g></svg>"
      ]
     },
     "metadata": {},
     "output_type": "display_data"
    }
   ],
   "source": [
    "# Analyze trends based on the day of the week\n",
    "trends_by_day = spotify_music.groupby(spotify_data['ts'].dt.dayofweek).agg({\n",
    "    'ms_played': lambda x: x.sum() / (1000 * 60 * 60)  # Convert milliseconds to hours and sum\n",
    "}).reset_index()\n",
    "\n",
    "# Get the top 2 days of the week\n",
    "top_days = trends_by_day.nlargest(2, 'ms_played').index\n",
    "\n",
    "# Visualize the trends\n",
    "fig = px.bar(trends_by_day, x='ts', y='ms_played',\n",
    "             labels={'ms_played': 'Total Streaming Time (Hours)', 'ts': 'Day of the Week'},\n",
    "             title='Streaming Trends by Day of the Week')\n",
    "\n",
    "colors = ['green' if i in top_days else '#16D35C' for i in trends_by_day.index]\n",
    "\n",
    "fig.update_traces(marker_color=colors,\n",
    "                  text=trends_by_day['ms_played'].round(2), \n",
    "                  textposition='inside', \n",
    "                  textfont=dict(color='white'))\n",
    "\n",
    "fig.update_layout(xaxis=dict(tickmode='array', tickvals=list(range(7)), ticktext=['Mon', 'Tue', 'Wed', 'Thu', 'Fri', 'Sat', 'Sun']),\n",
    "                  title=dict(text='Streaming Trends by Day of the Week', x=0.5),\n",
    "                  width=800, height=500)\n",
    "fig.show()"
   ]
  },
  {
   "cell_type": "markdown",
   "metadata": {},
   "source": [
    "#### **Podcast Streaming**"
   ]
  },
  {
   "cell_type": "code",
   "execution_count": 42,
   "metadata": {},
   "outputs": [
    {
     "data": {
      "image/svg+xml": [
       "<svg class=\"main-svg\" xmlns=\"http://www.w3.org/2000/svg\" xmlns:xlink=\"http://www.w3.org/1999/xlink\" width=\"1000\" height=\"500\" style=\"\" viewBox=\"0 0 1000 500\"><rect x=\"0\" y=\"0\" width=\"1000\" height=\"500\" style=\"fill: rgb(255, 255, 255); fill-opacity: 1;\"/><defs id=\"defs-acb61e\"><g class=\"clips\"><clipPath id=\"clipacb61exyplot\" class=\"plotclip\"><rect width=\"840\" height=\"320\"/></clipPath><clipPath class=\"axesclip\" id=\"clipacb61ex\"><rect x=\"80\" y=\"0\" width=\"840\" height=\"500\"/></clipPath><clipPath class=\"axesclip\" id=\"clipacb61ey\"><rect x=\"0\" y=\"100\" width=\"1000\" height=\"320\"/></clipPath><clipPath class=\"axesclip\" id=\"clipacb61exy\"><rect x=\"80\" y=\"100\" width=\"840\" height=\"320\"/></clipPath></g><g class=\"gradients\"/><g class=\"patterns\"/></defs><g class=\"bglayer\"><rect class=\"bg\" x=\"80\" y=\"100\" width=\"840\" height=\"320\" style=\"fill: rgb(229, 236, 246); fill-opacity: 1; stroke-width: 0;\"/></g><g class=\"layer-below\"><g class=\"imagelayer\"/><g class=\"shapelayer\"><g class=\"shape-group\" data-index=\"0\" clip-path=\"url(#clipacb61ex)\"><path data-index=\"0\" fill-rule=\"evenodd\" d=\"M666.38,420H690.95V100H666.38Z\" style=\"opacity: 1; stroke: rgb(0, 0, 0); stroke-opacity: 0; fill: rgb(0, 255, 0); fill-opacity: 0.2; stroke-width: 0px;\"/></g><g class=\"shape-group\" data-index=\"1\" clip-path=\"url(#clipacb61ex)\"><path data-index=\"1\" fill-rule=\"evenodd\" d=\"M837.99,420H874.65V100H837.99Z\" style=\"opacity: 1; stroke: rgb(0, 0, 0); stroke-opacity: 0; fill: rgb(0, 255, 0); fill-opacity: 0.2; stroke-width: 0px;\"/></g></g></g><g class=\"cartesianlayer\"><g class=\"subplot xy\"><g class=\"layer-subplot\"><g class=\"shapelayer\"/><g class=\"imagelayer\"/></g><g class=\"minor-gridlayer\"><g class=\"x\"/><g class=\"y\"/></g><g class=\"gridlayer\"><g class=\"x\"><path class=\"xgrid crisp\" transform=\"translate(102.38,0)\" d=\"M0,100v320\" style=\"stroke: rgb(255, 255, 255); stroke-opacity: 1; stroke-width: 1px;\"/><path class=\"xgrid crisp\" transform=\"translate(249.43,0)\" d=\"M0,100v320\" style=\"stroke: rgb(255, 255, 255); stroke-opacity: 1; stroke-width: 1px;\"/><path class=\"xgrid crisp\" transform=\"translate(396.87,0)\" d=\"M0,100v320\" style=\"stroke: rgb(255, 255, 255); stroke-opacity: 1; stroke-width: 1px;\"/><path class=\"xgrid crisp\" transform=\"translate(543.9100000000001,0)\" d=\"M0,100v320\" style=\"stroke: rgb(255, 255, 255); stroke-opacity: 1; stroke-width: 1px;\"/><path class=\"xgrid crisp\" transform=\"translate(690.95,0)\" d=\"M0,100v320\" style=\"stroke: rgb(255, 255, 255); stroke-opacity: 1; stroke-width: 1px;\"/><path class=\"xgrid crisp\" transform=\"translate(837.99,0)\" d=\"M0,100v320\" style=\"stroke: rgb(255, 255, 255); stroke-opacity: 1; stroke-width: 1px;\"/></g><g class=\"y\"><path class=\"ygrid crisp\" transform=\"translate(0,342.37)\" d=\"M80,0h840\" style=\"stroke: rgb(255, 255, 255); stroke-opacity: 1; stroke-width: 1px;\"/><path class=\"ygrid crisp\" transform=\"translate(0,284.48)\" d=\"M80,0h840\" style=\"stroke: rgb(255, 255, 255); stroke-opacity: 1; stroke-width: 1px;\"/><path class=\"ygrid crisp\" transform=\"translate(0,226.6)\" d=\"M80,0h840\" style=\"stroke: rgb(255, 255, 255); stroke-opacity: 1; stroke-width: 1px;\"/><path class=\"ygrid crisp\" transform=\"translate(0,168.72)\" d=\"M80,0h840\" style=\"stroke: rgb(255, 255, 255); stroke-opacity: 1; stroke-width: 1px;\"/><path class=\"ygrid crisp\" transform=\"translate(0,110.84)\" d=\"M80,0h840\" style=\"stroke: rgb(255, 255, 255); stroke-opacity: 1; stroke-width: 1px;\"/></g></g><g class=\"zerolinelayer\"><path class=\"yzl zl crisp\" transform=\"translate(0,400.25)\" d=\"M80,0h840\" style=\"stroke: rgb(255, 255, 255); stroke-opacity: 1; stroke-width: 2px;\"/></g><g class=\"layer-between\"><g class=\"shapelayer\"/><g class=\"imagelayer\"/></g><path class=\"xlines-below\"/><path class=\"ylines-below\"/><g class=\"overlines-below\"/><g class=\"xaxislayer-below\"/><g class=\"yaxislayer-below\"/><g class=\"overaxes-below\"/><g class=\"plot\" transform=\"translate(80,100)\" clip-path=\"url(#clipacb61exyplot)\"><g class=\"scatterlayer mlayer\"><g class=\"trace scatter tracea087aa\" style=\"stroke-miterlimit: 2; opacity: 1;\"><g class=\"fills\"/><g class=\"errorbars\"/><g class=\"lines\"><path class=\"js-line\" d=\"M45.75,299.32L58.24,300.25L70.32,300.25L82.81,278.83L94.9,167.58L107.39,266.56L119.87,241.09L131.96,200.46L144.45,277.56L156.53,218.4L169.02,285.9L181.51,276.63L193.19,283.23L205.68,269.46L217.77,293.19L230.26,243.76L242.34,274.55L254.83,254.18L267.32,218.52L279.4,296.55L291.89,220.95L303.98,236.46L316.47,276.05L328.96,300.25L340.24,273.39L352.72,285.78L364.81,289.95L377.3,261.12L389.38,262.86L401.87,253.25L414.36,281.61L426.45,225.81L438.93,234.15L451.02,269.46L463.51,231.6L476,236.81L487.28,236L499.76,222.69L511.85,267.6L524.34,300.25L536.42,300.25L561.4,300.25L573.49,152.88L585.98,118.85L598.06,19.75L610.55,133.32L623.04,185.53L634.32,261.47L646.81,242.95L658.89,246.53L671.38,248.39L683.47,284.27L695.95,242.14L708.44,290.64L720.53,267.72L733.02,259.5L745.1,223.27L757.59,266.68L770.08,261.35L781.76,233.22L794.25,147.56\" style=\"vector-effect: none; fill: none; stroke: rgb(0, 128, 0); stroke-opacity: 1; stroke-width: 2px; opacity: 1;\"/></g><g class=\"points\"><path class=\"point\" transform=\"translate(45.75,299.32)\" d=\"M3,0A3,3 0 1,1 0,-3A3,3 0 0,1 3,0Z\" style=\"opacity: 1; stroke-width: 0px; fill: rgb(0, 128, 0); fill-opacity: 1;\"/><path class=\"point\" transform=\"translate(58.24,300.25)\" d=\"M3,0A3,3 0 1,1 0,-3A3,3 0 0,1 3,0Z\" style=\"opacity: 1; stroke-width: 0px; fill: rgb(0, 128, 0); fill-opacity: 1;\"/><path class=\"point\" transform=\"translate(70.32,300.25)\" d=\"M3,0A3,3 0 1,1 0,-3A3,3 0 0,1 3,0Z\" style=\"opacity: 1; stroke-width: 0px; fill: rgb(0, 128, 0); fill-opacity: 1;\"/><path class=\"point\" transform=\"translate(82.81,278.83)\" d=\"M3,0A3,3 0 1,1 0,-3A3,3 0 0,1 3,0Z\" style=\"opacity: 1; stroke-width: 0px; fill: rgb(0, 128, 0); fill-opacity: 1;\"/><path class=\"point\" transform=\"translate(94.9,167.58)\" d=\"M3,0A3,3 0 1,1 0,-3A3,3 0 0,1 3,0Z\" style=\"opacity: 1; stroke-width: 0px; fill: rgb(0, 128, 0); fill-opacity: 1;\"/><path class=\"point\" transform=\"translate(107.39,266.56)\" d=\"M3,0A3,3 0 1,1 0,-3A3,3 0 0,1 3,0Z\" style=\"opacity: 1; stroke-width: 0px; fill: rgb(0, 128, 0); fill-opacity: 1;\"/><path class=\"point\" transform=\"translate(119.87,241.09)\" d=\"M3,0A3,3 0 1,1 0,-3A3,3 0 0,1 3,0Z\" style=\"opacity: 1; stroke-width: 0px; fill: rgb(0, 128, 0); fill-opacity: 1;\"/><path class=\"point\" transform=\"translate(131.96,200.46)\" d=\"M3,0A3,3 0 1,1 0,-3A3,3 0 0,1 3,0Z\" style=\"opacity: 1; stroke-width: 0px; fill: rgb(0, 128, 0); fill-opacity: 1;\"/><path class=\"point\" transform=\"translate(144.45,277.56)\" d=\"M3,0A3,3 0 1,1 0,-3A3,3 0 0,1 3,0Z\" style=\"opacity: 1; stroke-width: 0px; fill: rgb(0, 128, 0); fill-opacity: 1;\"/><path class=\"point\" transform=\"translate(156.53,218.4)\" d=\"M3,0A3,3 0 1,1 0,-3A3,3 0 0,1 3,0Z\" style=\"opacity: 1; stroke-width: 0px; fill: rgb(0, 128, 0); fill-opacity: 1;\"/><path class=\"point\" transform=\"translate(169.02,285.9)\" d=\"M3,0A3,3 0 1,1 0,-3A3,3 0 0,1 3,0Z\" style=\"opacity: 1; stroke-width: 0px; fill: rgb(0, 128, 0); fill-opacity: 1;\"/><path class=\"point\" transform=\"translate(181.51,276.63)\" d=\"M3,0A3,3 0 1,1 0,-3A3,3 0 0,1 3,0Z\" style=\"opacity: 1; stroke-width: 0px; fill: rgb(0, 128, 0); fill-opacity: 1;\"/><path class=\"point\" transform=\"translate(193.19,283.23)\" d=\"M3,0A3,3 0 1,1 0,-3A3,3 0 0,1 3,0Z\" style=\"opacity: 1; stroke-width: 0px; fill: rgb(0, 128, 0); fill-opacity: 1;\"/><path class=\"point\" transform=\"translate(205.68,269.46)\" d=\"M3,0A3,3 0 1,1 0,-3A3,3 0 0,1 3,0Z\" style=\"opacity: 1; stroke-width: 0px; fill: rgb(0, 128, 0); fill-opacity: 1;\"/><path class=\"point\" transform=\"translate(217.77,293.19)\" d=\"M3,0A3,3 0 1,1 0,-3A3,3 0 0,1 3,0Z\" style=\"opacity: 1; stroke-width: 0px; fill: rgb(0, 128, 0); fill-opacity: 1;\"/><path class=\"point\" transform=\"translate(230.26,243.76)\" d=\"M3,0A3,3 0 1,1 0,-3A3,3 0 0,1 3,0Z\" style=\"opacity: 1; stroke-width: 0px; fill: rgb(0, 128, 0); fill-opacity: 1;\"/><path class=\"point\" transform=\"translate(242.34,274.55)\" d=\"M3,0A3,3 0 1,1 0,-3A3,3 0 0,1 3,0Z\" style=\"opacity: 1; stroke-width: 0px; fill: rgb(0, 128, 0); fill-opacity: 1;\"/><path class=\"point\" transform=\"translate(254.83,254.18)\" d=\"M3,0A3,3 0 1,1 0,-3A3,3 0 0,1 3,0Z\" style=\"opacity: 1; stroke-width: 0px; fill: rgb(0, 128, 0); fill-opacity: 1;\"/><path class=\"point\" transform=\"translate(267.32,218.52)\" d=\"M3,0A3,3 0 1,1 0,-3A3,3 0 0,1 3,0Z\" style=\"opacity: 1; stroke-width: 0px; fill: rgb(0, 128, 0); fill-opacity: 1;\"/><path class=\"point\" transform=\"translate(279.4,296.55)\" d=\"M3,0A3,3 0 1,1 0,-3A3,3 0 0,1 3,0Z\" style=\"opacity: 1; stroke-width: 0px; fill: rgb(0, 128, 0); fill-opacity: 1;\"/><path class=\"point\" transform=\"translate(291.89,220.95)\" d=\"M3,0A3,3 0 1,1 0,-3A3,3 0 0,1 3,0Z\" style=\"opacity: 1; stroke-width: 0px; fill: rgb(0, 128, 0); fill-opacity: 1;\"/><path class=\"point\" transform=\"translate(303.98,236.46)\" d=\"M3,0A3,3 0 1,1 0,-3A3,3 0 0,1 3,0Z\" style=\"opacity: 1; stroke-width: 0px; fill: rgb(0, 128, 0); fill-opacity: 1;\"/><path class=\"point\" transform=\"translate(316.47,276.05)\" d=\"M3,0A3,3 0 1,1 0,-3A3,3 0 0,1 3,0Z\" style=\"opacity: 1; stroke-width: 0px; fill: rgb(0, 128, 0); fill-opacity: 1;\"/><path class=\"point\" transform=\"translate(328.96,300.25)\" d=\"M3,0A3,3 0 1,1 0,-3A3,3 0 0,1 3,0Z\" style=\"opacity: 1; stroke-width: 0px; fill: rgb(0, 128, 0); fill-opacity: 1;\"/><path class=\"point\" transform=\"translate(340.24,273.39)\" d=\"M3,0A3,3 0 1,1 0,-3A3,3 0 0,1 3,0Z\" style=\"opacity: 1; stroke-width: 0px; fill: rgb(0, 128, 0); fill-opacity: 1;\"/><path class=\"point\" transform=\"translate(352.72,285.78)\" d=\"M3,0A3,3 0 1,1 0,-3A3,3 0 0,1 3,0Z\" style=\"opacity: 1; stroke-width: 0px; fill: rgb(0, 128, 0); fill-opacity: 1;\"/><path class=\"point\" transform=\"translate(364.81,289.95)\" d=\"M3,0A3,3 0 1,1 0,-3A3,3 0 0,1 3,0Z\" style=\"opacity: 1; stroke-width: 0px; fill: rgb(0, 128, 0); fill-opacity: 1;\"/><path class=\"point\" transform=\"translate(377.3,261.12)\" d=\"M3,0A3,3 0 1,1 0,-3A3,3 0 0,1 3,0Z\" style=\"opacity: 1; stroke-width: 0px; fill: rgb(0, 128, 0); fill-opacity: 1;\"/><path class=\"point\" transform=\"translate(389.38,262.86)\" d=\"M3,0A3,3 0 1,1 0,-3A3,3 0 0,1 3,0Z\" style=\"opacity: 1; stroke-width: 0px; fill: rgb(0, 128, 0); fill-opacity: 1;\"/><path class=\"point\" transform=\"translate(401.87,253.25)\" d=\"M3,0A3,3 0 1,1 0,-3A3,3 0 0,1 3,0Z\" style=\"opacity: 1; stroke-width: 0px; fill: rgb(0, 128, 0); fill-opacity: 1;\"/><path class=\"point\" transform=\"translate(414.36,281.61)\" d=\"M3,0A3,3 0 1,1 0,-3A3,3 0 0,1 3,0Z\" style=\"opacity: 1; stroke-width: 0px; fill: rgb(0, 128, 0); fill-opacity: 1;\"/><path class=\"point\" transform=\"translate(426.45,225.81)\" d=\"M3,0A3,3 0 1,1 0,-3A3,3 0 0,1 3,0Z\" style=\"opacity: 1; stroke-width: 0px; fill: rgb(0, 128, 0); fill-opacity: 1;\"/><path class=\"point\" transform=\"translate(438.93,234.15)\" d=\"M3,0A3,3 0 1,1 0,-3A3,3 0 0,1 3,0Z\" style=\"opacity: 1; stroke-width: 0px; fill: rgb(0, 128, 0); fill-opacity: 1;\"/><path class=\"point\" transform=\"translate(451.02,269.46)\" d=\"M3,0A3,3 0 1,1 0,-3A3,3 0 0,1 3,0Z\" style=\"opacity: 1; stroke-width: 0px; fill: rgb(0, 128, 0); fill-opacity: 1;\"/><path class=\"point\" transform=\"translate(463.51,231.6)\" d=\"M3,0A3,3 0 1,1 0,-3A3,3 0 0,1 3,0Z\" style=\"opacity: 1; stroke-width: 0px; fill: rgb(0, 128, 0); fill-opacity: 1;\"/><path class=\"point\" transform=\"translate(476,236.81)\" d=\"M3,0A3,3 0 1,1 0,-3A3,3 0 0,1 3,0Z\" style=\"opacity: 1; stroke-width: 0px; fill: rgb(0, 128, 0); fill-opacity: 1;\"/><path class=\"point\" transform=\"translate(487.28,236)\" d=\"M3,0A3,3 0 1,1 0,-3A3,3 0 0,1 3,0Z\" style=\"opacity: 1; stroke-width: 0px; fill: rgb(0, 128, 0); fill-opacity: 1;\"/><path class=\"point\" transform=\"translate(499.76,222.69)\" d=\"M3,0A3,3 0 1,1 0,-3A3,3 0 0,1 3,0Z\" style=\"opacity: 1; stroke-width: 0px; fill: rgb(0, 128, 0); fill-opacity: 1;\"/><path class=\"point\" transform=\"translate(511.85,267.6)\" d=\"M3,0A3,3 0 1,1 0,-3A3,3 0 0,1 3,0Z\" style=\"opacity: 1; stroke-width: 0px; fill: rgb(0, 128, 0); fill-opacity: 1;\"/><path class=\"point\" transform=\"translate(524.34,300.25)\" d=\"M3,0A3,3 0 1,1 0,-3A3,3 0 0,1 3,0Z\" style=\"opacity: 1; stroke-width: 0px; fill: rgb(0, 128, 0); fill-opacity: 1;\"/><path class=\"point\" transform=\"translate(536.42,300.25)\" d=\"M3,0A3,3 0 1,1 0,-3A3,3 0 0,1 3,0Z\" style=\"opacity: 1; stroke-width: 0px; fill: rgb(0, 128, 0); fill-opacity: 1;\"/><path class=\"point\" transform=\"translate(548.91,300.25)\" d=\"M3,0A3,3 0 1,1 0,-3A3,3 0 0,1 3,0Z\" style=\"opacity: 1; stroke-width: 0px; fill: rgb(0, 128, 0); fill-opacity: 1;\"/><path class=\"point\" transform=\"translate(561.4,300.25)\" d=\"M3,0A3,3 0 1,1 0,-3A3,3 0 0,1 3,0Z\" style=\"opacity: 1; stroke-width: 0px; fill: rgb(0, 128, 0); fill-opacity: 1;\"/><path class=\"point\" transform=\"translate(573.49,152.88)\" d=\"M3,0A3,3 0 1,1 0,-3A3,3 0 0,1 3,0Z\" style=\"opacity: 1; stroke-width: 0px; fill: rgb(0, 128, 0); fill-opacity: 1;\"/><path class=\"point\" transform=\"translate(585.98,118.85)\" d=\"M3,0A3,3 0 1,1 0,-3A3,3 0 0,1 3,0Z\" style=\"opacity: 1; stroke-width: 0px; fill: rgb(0, 128, 0); fill-opacity: 1;\"/><path class=\"point\" transform=\"translate(598.06,19.75)\" d=\"M3,0A3,3 0 1,1 0,-3A3,3 0 0,1 3,0Z\" style=\"opacity: 1; stroke-width: 0px; fill: rgb(0, 128, 0); fill-opacity: 1;\"/><path class=\"point\" transform=\"translate(610.55,133.32)\" d=\"M3,0A3,3 0 1,1 0,-3A3,3 0 0,1 3,0Z\" style=\"opacity: 1; stroke-width: 0px; fill: rgb(0, 128, 0); fill-opacity: 1;\"/><path class=\"point\" transform=\"translate(623.04,185.53)\" d=\"M3,0A3,3 0 1,1 0,-3A3,3 0 0,1 3,0Z\" style=\"opacity: 1; stroke-width: 0px; fill: rgb(0, 128, 0); fill-opacity: 1;\"/><path class=\"point\" transform=\"translate(634.32,261.47)\" d=\"M3,0A3,3 0 1,1 0,-3A3,3 0 0,1 3,0Z\" style=\"opacity: 1; stroke-width: 0px; fill: rgb(0, 128, 0); fill-opacity: 1;\"/><path class=\"point\" transform=\"translate(646.81,242.95)\" d=\"M3,0A3,3 0 1,1 0,-3A3,3 0 0,1 3,0Z\" style=\"opacity: 1; stroke-width: 0px; fill: rgb(0, 128, 0); fill-opacity: 1;\"/><path class=\"point\" transform=\"translate(658.89,246.53)\" d=\"M3,0A3,3 0 1,1 0,-3A3,3 0 0,1 3,0Z\" style=\"opacity: 1; stroke-width: 0px; fill: rgb(0, 128, 0); fill-opacity: 1;\"/><path class=\"point\" transform=\"translate(671.38,248.39)\" d=\"M3,0A3,3 0 1,1 0,-3A3,3 0 0,1 3,0Z\" style=\"opacity: 1; stroke-width: 0px; fill: rgb(0, 128, 0); fill-opacity: 1;\"/><path class=\"point\" transform=\"translate(683.47,284.27)\" d=\"M3,0A3,3 0 1,1 0,-3A3,3 0 0,1 3,0Z\" style=\"opacity: 1; stroke-width: 0px; fill: rgb(0, 128, 0); fill-opacity: 1;\"/><path class=\"point\" transform=\"translate(695.95,242.14)\" d=\"M3,0A3,3 0 1,1 0,-3A3,3 0 0,1 3,0Z\" style=\"opacity: 1; stroke-width: 0px; fill: rgb(0, 128, 0); fill-opacity: 1;\"/><path class=\"point\" transform=\"translate(708.44,290.64)\" d=\"M3,0A3,3 0 1,1 0,-3A3,3 0 0,1 3,0Z\" style=\"opacity: 1; stroke-width: 0px; fill: rgb(0, 128, 0); fill-opacity: 1;\"/><path class=\"point\" transform=\"translate(720.53,267.72)\" d=\"M3,0A3,3 0 1,1 0,-3A3,3 0 0,1 3,0Z\" style=\"opacity: 1; stroke-width: 0px; fill: rgb(0, 128, 0); fill-opacity: 1;\"/><path class=\"point\" transform=\"translate(733.02,259.5)\" d=\"M3,0A3,3 0 1,1 0,-3A3,3 0 0,1 3,0Z\" style=\"opacity: 1; stroke-width: 0px; fill: rgb(0, 128, 0); fill-opacity: 1;\"/><path class=\"point\" transform=\"translate(745.1,223.27)\" d=\"M3,0A3,3 0 1,1 0,-3A3,3 0 0,1 3,0Z\" style=\"opacity: 1; stroke-width: 0px; fill: rgb(0, 128, 0); fill-opacity: 1;\"/><path class=\"point\" transform=\"translate(757.59,266.68)\" d=\"M3,0A3,3 0 1,1 0,-3A3,3 0 0,1 3,0Z\" style=\"opacity: 1; stroke-width: 0px; fill: rgb(0, 128, 0); fill-opacity: 1;\"/><path class=\"point\" transform=\"translate(770.08,261.35)\" d=\"M3,0A3,3 0 1,1 0,-3A3,3 0 0,1 3,0Z\" style=\"opacity: 1; stroke-width: 0px; fill: rgb(0, 128, 0); fill-opacity: 1;\"/><path class=\"point\" transform=\"translate(781.76,233.22)\" d=\"M3,0A3,3 0 1,1 0,-3A3,3 0 0,1 3,0Z\" style=\"opacity: 1; stroke-width: 0px; fill: rgb(0, 128, 0); fill-opacity: 1;\"/><path class=\"point\" transform=\"translate(794.25,147.56)\" d=\"M3,0A3,3 0 1,1 0,-3A3,3 0 0,1 3,0Z\" style=\"opacity: 1; stroke-width: 0px; fill: rgb(0, 128, 0); fill-opacity: 1;\"/></g><g class=\"text\"/></g></g></g><g class=\"overplot\"/><path class=\"xlines-above crisp\" d=\"M0,0\" style=\"fill: none;\"/><path class=\"ylines-above crisp\" d=\"M0,0\" style=\"fill: none;\"/><g class=\"overlines-above\"/><g class=\"xaxislayer-above\"><g class=\"xtick\"><text text-anchor=\"middle\" x=\"0\" y=\"433\" transform=\"translate(102.38,0)\" style=\"font-family: 'Open Sans', verdana, arial, sans-serif; font-size: 12px; fill: rgb(42, 63, 95); fill-opacity: 1; white-space: pre; opacity: 1;\">2019</text></g><g class=\"xtick\"><text text-anchor=\"middle\" x=\"0\" y=\"433\" style=\"font-family: 'Open Sans', verdana, arial, sans-serif; font-size: 12px; fill: rgb(42, 63, 95); fill-opacity: 1; white-space: pre; opacity: 1;\" transform=\"translate(249.43,0)\">2020</text></g><g class=\"xtick\"><text text-anchor=\"middle\" x=\"0\" y=\"433\" style=\"font-family: 'Open Sans', verdana, arial, sans-serif; font-size: 12px; fill: rgb(42, 63, 95); fill-opacity: 1; white-space: pre; opacity: 1;\" transform=\"translate(396.87,0)\">2021</text></g><g class=\"xtick\"><text text-anchor=\"middle\" x=\"0\" y=\"433\" style=\"font-family: 'Open Sans', verdana, arial, sans-serif; font-size: 12px; fill: rgb(42, 63, 95); fill-opacity: 1; white-space: pre; opacity: 1;\" transform=\"translate(543.9100000000001,0)\">2022</text></g><g class=\"xtick\"><text text-anchor=\"middle\" x=\"0\" y=\"433\" style=\"font-family: 'Open Sans', verdana, arial, sans-serif; font-size: 12px; fill: rgb(42, 63, 95); fill-opacity: 1; white-space: pre; opacity: 1;\" transform=\"translate(690.95,0)\">2023</text></g><g class=\"xtick\"><text text-anchor=\"middle\" x=\"0\" y=\"433\" style=\"font-family: 'Open Sans', verdana, arial, sans-serif; font-size: 12px; fill: rgb(42, 63, 95); fill-opacity: 1; white-space: pre; opacity: 1;\" transform=\"translate(837.99,0)\">2024</text></g></g><g class=\"yaxislayer-above\"><g class=\"ytick\"><text text-anchor=\"end\" x=\"79\" y=\"4.199999999999999\" transform=\"translate(0,400.25)\" style=\"font-family: 'Open Sans', verdana, arial, sans-serif; font-size: 12px; fill: rgb(42, 63, 95); fill-opacity: 1; white-space: pre; opacity: 1;\">0</text></g><g class=\"ytick\"><text text-anchor=\"end\" x=\"79\" y=\"4.199999999999999\" style=\"font-family: 'Open Sans', verdana, arial, sans-serif; font-size: 12px; fill: rgb(42, 63, 95); fill-opacity: 1; white-space: pre; opacity: 1;\" transform=\"translate(0,342.37)\">5</text></g><g class=\"ytick\"><text text-anchor=\"end\" x=\"79\" y=\"4.199999999999999\" style=\"font-family: 'Open Sans', verdana, arial, sans-serif; font-size: 12px; fill: rgb(42, 63, 95); fill-opacity: 1; white-space: pre; opacity: 1;\" transform=\"translate(0,284.48)\">10</text></g><g class=\"ytick\"><text text-anchor=\"end\" x=\"79\" y=\"4.199999999999999\" style=\"font-family: 'Open Sans', verdana, arial, sans-serif; font-size: 12px; fill: rgb(42, 63, 95); fill-opacity: 1; white-space: pre; opacity: 1;\" transform=\"translate(0,226.6)\">15</text></g><g class=\"ytick\"><text text-anchor=\"end\" x=\"79\" y=\"4.199999999999999\" style=\"font-family: 'Open Sans', verdana, arial, sans-serif; font-size: 12px; fill: rgb(42, 63, 95); fill-opacity: 1; white-space: pre; opacity: 1;\" transform=\"translate(0,168.72)\">20</text></g><g class=\"ytick\"><text text-anchor=\"end\" x=\"79\" y=\"4.199999999999999\" style=\"font-family: 'Open Sans', verdana, arial, sans-serif; font-size: 12px; fill: rgb(42, 63, 95); fill-opacity: 1; white-space: pre; opacity: 1;\" transform=\"translate(0,110.84)\">25</text></g></g><g class=\"overaxes-above\"/></g></g><g class=\"polarlayer\"/><g class=\"smithlayer\"/><g class=\"ternarylayer\"/><g class=\"geolayer\"/><g class=\"funnelarealayer\"/><g class=\"pielayer\"/><g class=\"iciclelayer\"/><g class=\"treemaplayer\"/><g class=\"sunburstlayer\"/><g class=\"glimages\"/><defs id=\"topdefs-acb61e\"><g class=\"clips\"/></defs><g class=\"layer-above\"><g class=\"imagelayer\"/><g class=\"shapelayer\"/></g><g class=\"infolayer\"><g class=\"g-gtitle\"><text class=\"gtitle\" x=\"500\" y=\"50\" text-anchor=\"middle\" dy=\"0em\" style=\"font-family: 'Open Sans', verdana, arial, sans-serif; font-size: 17px; fill: rgb(42, 63, 95); opacity: 1; font-weight: normal; white-space: pre;\">Monthly Music Streaming Trends Over Time</text></g><g class=\"g-xtitle\"><text class=\"xtitle\" x=\"500\" y=\"460.3\" text-anchor=\"middle\" style=\"font-family: 'Open Sans', verdana, arial, sans-serif; font-size: 14px; fill: rgb(42, 63, 95); opacity: 1; font-weight: normal; white-space: pre;\">Month-Year</text></g><g class=\"g-ytitle\"><text class=\"ytitle\" transform=\"rotate(-90,39.434375,260)\" x=\"39.434375\" y=\"260\" text-anchor=\"middle\" style=\"font-family: 'Open Sans', verdana, arial, sans-serif; font-size: 14px; fill: rgb(42, 63, 95); opacity: 1; font-weight: normal; white-space: pre;\">Hours Played</text></g></g></svg>"
      ]
     },
     "metadata": {},
     "output_type": "display_data"
    }
   ],
   "source": [
    "# Set 'ts' column as the index\n",
    "indexed = spotify_podcast.set_index('ts', inplace=False)\n",
    "\n",
    "# Resample the data on a monthly basis\n",
    "streaming_trends = indexed.resample('M').sum()\n",
    "\n",
    "# Create a line plot using Plotly Express\n",
    "fig = px.line(streaming_trends, x=streaming_trends.index, y=(streaming_trends['ms_played'] / (1000 * 60 * 60)).round(2),\n",
    "              labels={'ts': 'Month-Year', 'y': 'Hours Played'},\n",
    "              title='Monthly Audio Streaming Trends Over Time',\n",
    "              color_discrete_sequence=['green'], markers=True)\n",
    "\n",
    "fig.add_vrect(x0=\"2022-11-01\", x1=\"2023-01-01\", fillcolor=\"rgba(0,255,0,0.2)\", layer=\"below\", line_width=0)\n",
    "fig.add_vrect(x0=\"2024-01-01\", x1=\"2024-04-01\", fillcolor=\"rgba(0,255,0,0.2)\", layer=\"below\", line_width=0)\n",
    "\n",
    "fig.update_layout(title=dict(text='Monthly Music Streaming Trends Over Time', x=0.5),\n",
    "                  xaxis_title='Month-Year',\n",
    "                  yaxis_title='Hours Played',\n",
    "                  width=1000, height=500)\n",
    "fig.show()"
   ]
  },
  {
   "cell_type": "code",
   "execution_count": 43,
   "metadata": {},
   "outputs": [
    {
     "data": {
      "image/svg+xml": [
       "<svg class=\"main-svg\" xmlns=\"http://www.w3.org/2000/svg\" xmlns:xlink=\"http://www.w3.org/1999/xlink\" width=\"800\" height=\"500\" style=\"\" viewBox=\"0 0 800 500\"><rect x=\"0\" y=\"0\" width=\"800\" height=\"500\" style=\"fill: rgb(255, 255, 255); fill-opacity: 1;\"/><defs id=\"defs-7c1711\"><g class=\"clips\"><clipPath id=\"clip7c1711xyplot\" class=\"plotclip\"><rect width=\"640\" height=\"320\"/></clipPath><clipPath class=\"axesclip\" id=\"clip7c1711x\"><rect x=\"80\" y=\"0\" width=\"640\" height=\"500\"/></clipPath><clipPath class=\"axesclip\" id=\"clip7c1711y\"><rect x=\"0\" y=\"100\" width=\"800\" height=\"320\"/></clipPath><clipPath class=\"axesclip\" id=\"clip7c1711xy\"><rect x=\"80\" y=\"100\" width=\"640\" height=\"320\"/></clipPath></g><g class=\"gradients\"/><g class=\"patterns\"/></defs><g class=\"bglayer\"><rect class=\"bg\" x=\"80\" y=\"100\" width=\"640\" height=\"320\" style=\"fill: rgb(229, 236, 246); fill-opacity: 1; stroke-width: 0;\"/></g><g class=\"layer-below\"><g class=\"imagelayer\"/><g class=\"shapelayer\"/></g><g class=\"cartesianlayer\"><g class=\"subplot xy\"><g class=\"layer-subplot\"><g class=\"shapelayer\"/><g class=\"imagelayer\"/></g><g class=\"minor-gridlayer\"><g class=\"x\"/><g class=\"y\"/></g><g class=\"gridlayer\"><g class=\"x\"/><g class=\"y\"><path class=\"ygrid crisp\" transform=\"translate(0,358.9)\" d=\"M80,0h640\" style=\"stroke: rgb(255, 255, 255); stroke-opacity: 1; stroke-width: 1px;\"/><path class=\"ygrid crisp\" transform=\"translate(0,297.8)\" d=\"M80,0h640\" style=\"stroke: rgb(255, 255, 255); stroke-opacity: 1; stroke-width: 1px;\"/><path class=\"ygrid crisp\" transform=\"translate(0,236.69)\" d=\"M80,0h640\" style=\"stroke: rgb(255, 255, 255); stroke-opacity: 1; stroke-width: 1px;\"/><path class=\"ygrid crisp\" transform=\"translate(0,175.59)\" d=\"M80,0h640\" style=\"stroke: rgb(255, 255, 255); stroke-opacity: 1; stroke-width: 1px;\"/><path class=\"ygrid crisp\" transform=\"translate(0,114.49)\" d=\"M80,0h640\" style=\"stroke: rgb(255, 255, 255); stroke-opacity: 1; stroke-width: 1px;\"/></g></g><g class=\"zerolinelayer\"><path class=\"yzl zl crisp\" transform=\"translate(0,420)\" d=\"M80,0h640\" style=\"stroke: rgb(255, 255, 255); stroke-opacity: 1; stroke-width: 2px;\"/></g><g class=\"layer-between\"><g class=\"shapelayer\"/><g class=\"imagelayer\"/></g><path class=\"xlines-below\"/><path class=\"ylines-below\"/><g class=\"overlines-below\"/><g class=\"xaxislayer-below\"/><g class=\"yaxislayer-below\"/><g class=\"overaxes-below\"/><g class=\"plot\" transform=\"translate(80,100)\" clip-path=\"url(#clip7c1711xyplot)\"><g class=\"barlayer mlayer\"><g class=\"trace bars\" style=\"opacity: 1;\"><g class=\"points\"><g class=\"point\"><path d=\"M9.14,320V48.17H82.29V320Z\" style=\"vector-effect: none; opacity: 1; stroke-width: 0.5px; fill: rgb(0, 128, 0); fill-opacity: 1; stroke: rgb(229, 236, 246); stroke-opacity: 1;\"/><text class=\"bartext bartext-inside\" text-anchor=\"middle\" data-notex=\"1\" x=\"0\" y=\"0\" style=\"font-family: 'Open Sans', verdana, arial, sans-serif; font-size: 12px; fill: rgb(255, 255, 255); fill-opacity: 1; white-space: pre;\" transform=\"translate(45.5353125,63.17)\">44.49</text></g><g class=\"point\"><path d=\"M100.57,320V66.01H173.71V320Z\" style=\"vector-effect: none; opacity: 1; stroke-width: 0.5px; fill: rgb(22, 211, 92); fill-opacity: 1; stroke: rgb(229, 236, 246); stroke-opacity: 1;\"/><text class=\"bartext bartext-inside\" text-anchor=\"middle\" data-notex=\"1\" x=\"0\" y=\"0\" style=\"font-family: 'Open Sans', verdana, arial, sans-serif; font-size: 12px; fill: rgb(255, 255, 255); fill-opacity: 1; white-space: pre;\" transform=\"translate(136.9603125,81.01)\">41.57</text></g><g class=\"point\"><path d=\"M192,320V16H265.14V320Z\" style=\"vector-effect: none; opacity: 1; stroke-width: 0.5px; fill: rgb(0, 128, 0); fill-opacity: 1; stroke: rgb(229, 236, 246); stroke-opacity: 1;\"/><text class=\"bartext bartext-inside\" text-anchor=\"middle\" data-notex=\"1\" x=\"0\" y=\"0\" style=\"font-family: 'Open Sans', verdana, arial, sans-serif; font-size: 12px; fill: rgb(255, 255, 255); fill-opacity: 1; white-space: pre;\" transform=\"translate(228.3903125,31)\">49.75</text></g><g class=\"point\"><path d=\"M283.43,320V95.67H356.57V320Z\" style=\"vector-effect: none; opacity: 1; stroke-width: 0.5px; fill: rgb(22, 211, 92); fill-opacity: 1; stroke: rgb(229, 236, 246); stroke-opacity: 1;\"/><text class=\"bartext bartext-inside\" text-anchor=\"middle\" data-notex=\"1\" x=\"0\" y=\"0\" style=\"font-family: 'Open Sans', verdana, arial, sans-serif; font-size: 12px; fill: rgb(255, 255, 255); fill-opacity: 1; white-space: pre;\" transform=\"translate(320,110.67)\">36.71</text></g><g class=\"point\"><path d=\"M374.86,320V84.98H448V320Z\" style=\"vector-effect: none; opacity: 1; stroke-width: 0.5px; fill: rgb(22, 211, 92); fill-opacity: 1; stroke: rgb(229, 236, 246); stroke-opacity: 1;\"/><text class=\"bartext bartext-inside\" text-anchor=\"middle\" data-notex=\"1\" x=\"0\" y=\"0\" style=\"font-family: 'Open Sans', verdana, arial, sans-serif; font-size: 12px; fill: rgb(255, 255, 255); fill-opacity: 1; white-space: pre;\" transform=\"translate(411.2503125,99.98)\">38.46</text></g><g class=\"point\"><path d=\"M466.29,320V82.49H539.43V320Z\" style=\"vector-effect: none; opacity: 1; stroke-width: 0.5px; fill: rgb(22, 211, 92); fill-opacity: 1; stroke: rgb(229, 236, 246); stroke-opacity: 1;\"/><text class=\"bartext bartext-inside\" text-anchor=\"middle\" data-notex=\"1\" x=\"0\" y=\"0\" style=\"font-family: 'Open Sans', verdana, arial, sans-serif; font-size: 12px; fill: rgb(255, 255, 255); fill-opacity: 1; white-space: pre;\" transform=\"translate(502.6803125,97.49)\">38.87</text></g><g class=\"point\"><path d=\"M557.71,320V149.11H630.86V320Z\" style=\"vector-effect: none; opacity: 1; stroke-width: 0.5px; fill: rgb(22, 211, 92); fill-opacity: 1; stroke: rgb(229, 236, 246); stroke-opacity: 1;\"/><text class=\"bartext bartext-inside\" text-anchor=\"middle\" data-notex=\"1\" x=\"0\" y=\"0\" style=\"font-family: 'Open Sans', verdana, arial, sans-serif; font-size: 12px; fill: rgb(255, 255, 255); fill-opacity: 1; white-space: pre;\" transform=\"translate(594.1053125000001,164.11)\">27.97</text></g></g></g></g></g><g class=\"overplot\"/><path class=\"xlines-above crisp\" d=\"M0,0\" style=\"fill: none;\"/><path class=\"ylines-above crisp\" d=\"M0,0\" style=\"fill: none;\"/><g class=\"overlines-above\"/><g class=\"xaxislayer-above\"><g class=\"xtick\"><text text-anchor=\"middle\" x=\"0\" y=\"433\" transform=\"translate(125.71000000000001,0)\" style=\"font-family: 'Open Sans', verdana, arial, sans-serif; font-size: 12px; fill: rgb(42, 63, 95); fill-opacity: 1; white-space: pre; opacity: 1;\">Mon</text></g><g class=\"xtick\"><text text-anchor=\"middle\" x=\"0\" y=\"433\" style=\"font-family: 'Open Sans', verdana, arial, sans-serif; font-size: 12px; fill: rgb(42, 63, 95); fill-opacity: 1; white-space: pre; opacity: 1;\" transform=\"translate(217.14,0)\">Tue</text></g><g class=\"xtick\"><text text-anchor=\"middle\" x=\"0\" y=\"433\" style=\"font-family: 'Open Sans', verdana, arial, sans-serif; font-size: 12px; fill: rgb(42, 63, 95); fill-opacity: 1; white-space: pre; opacity: 1;\" transform=\"translate(308.57,0)\">Wed</text></g><g class=\"xtick\"><text text-anchor=\"middle\" x=\"0\" y=\"433\" style=\"font-family: 'Open Sans', verdana, arial, sans-serif; font-size: 12px; fill: rgb(42, 63, 95); fill-opacity: 1; white-space: pre; opacity: 1;\" transform=\"translate(400,0)\">Thu</text></g><g class=\"xtick\"><text text-anchor=\"middle\" x=\"0\" y=\"433\" style=\"font-family: 'Open Sans', verdana, arial, sans-serif; font-size: 12px; fill: rgb(42, 63, 95); fill-opacity: 1; white-space: pre; opacity: 1;\" transform=\"translate(491.43,0)\">Fri</text></g><g class=\"xtick\"><text text-anchor=\"middle\" x=\"0\" y=\"433\" style=\"font-family: 'Open Sans', verdana, arial, sans-serif; font-size: 12px; fill: rgb(42, 63, 95); fill-opacity: 1; white-space: pre; opacity: 1;\" transform=\"translate(582.86,0)\">Sat</text></g><g class=\"xtick\"><text text-anchor=\"middle\" x=\"0\" y=\"433\" style=\"font-family: 'Open Sans', verdana, arial, sans-serif; font-size: 12px; fill: rgb(42, 63, 95); fill-opacity: 1; white-space: pre; opacity: 1;\" transform=\"translate(674.29,0)\">Sun</text></g></g><g class=\"yaxislayer-above\"><g class=\"ytick\"><text text-anchor=\"end\" x=\"79\" y=\"4.199999999999999\" transform=\"translate(0,420)\" style=\"font-family: 'Open Sans', verdana, arial, sans-serif; font-size: 12px; fill: rgb(42, 63, 95); fill-opacity: 1; white-space: pre; opacity: 1;\">0</text></g><g class=\"ytick\"><text text-anchor=\"end\" x=\"79\" y=\"4.199999999999999\" style=\"font-family: 'Open Sans', verdana, arial, sans-serif; font-size: 12px; fill: rgb(42, 63, 95); fill-opacity: 1; white-space: pre; opacity: 1;\" transform=\"translate(0,358.9)\">10</text></g><g class=\"ytick\"><text text-anchor=\"end\" x=\"79\" y=\"4.199999999999999\" style=\"font-family: 'Open Sans', verdana, arial, sans-serif; font-size: 12px; fill: rgb(42, 63, 95); fill-opacity: 1; white-space: pre; opacity: 1;\" transform=\"translate(0,297.8)\">20</text></g><g class=\"ytick\"><text text-anchor=\"end\" x=\"79\" y=\"4.199999999999999\" style=\"font-family: 'Open Sans', verdana, arial, sans-serif; font-size: 12px; fill: rgb(42, 63, 95); fill-opacity: 1; white-space: pre; opacity: 1;\" transform=\"translate(0,236.69)\">30</text></g><g class=\"ytick\"><text text-anchor=\"end\" x=\"79\" y=\"4.199999999999999\" style=\"font-family: 'Open Sans', verdana, arial, sans-serif; font-size: 12px; fill: rgb(42, 63, 95); fill-opacity: 1; white-space: pre; opacity: 1;\" transform=\"translate(0,175.59)\">40</text></g><g class=\"ytick\"><text text-anchor=\"end\" x=\"79\" y=\"4.199999999999999\" style=\"font-family: 'Open Sans', verdana, arial, sans-serif; font-size: 12px; fill: rgb(42, 63, 95); fill-opacity: 1; white-space: pre; opacity: 1;\" transform=\"translate(0,114.49)\">50</text></g></g><g class=\"overaxes-above\"/></g></g><g class=\"polarlayer\"/><g class=\"smithlayer\"/><g class=\"ternarylayer\"/><g class=\"geolayer\"/><g class=\"funnelarealayer\"/><g class=\"pielayer\"/><g class=\"iciclelayer\"/><g class=\"treemaplayer\"/><g class=\"sunburstlayer\"/><g class=\"glimages\"/><defs id=\"topdefs-7c1711\"><g class=\"clips\"/></defs><g class=\"layer-above\"><g class=\"imagelayer\"/><g class=\"shapelayer\"/></g><g class=\"infolayer\"><g class=\"g-gtitle\"><text class=\"gtitle\" x=\"400\" y=\"50\" text-anchor=\"middle\" dy=\"0em\" style=\"font-family: 'Open Sans', verdana, arial, sans-serif; font-size: 17px; fill: rgb(42, 63, 95); opacity: 1; font-weight: normal; white-space: pre;\">Streaming Trends by Day of the Week</text></g><g class=\"g-xtitle\"><text class=\"xtitle\" x=\"400\" y=\"460.3\" text-anchor=\"middle\" style=\"font-family: 'Open Sans', verdana, arial, sans-serif; font-size: 14px; fill: rgb(42, 63, 95); opacity: 1; font-weight: normal; white-space: pre;\">Day of the Week</text></g><g class=\"g-ytitle\"><text class=\"ytitle\" transform=\"rotate(-90,39.434375,260)\" x=\"39.434375\" y=\"260\" text-anchor=\"middle\" style=\"font-family: 'Open Sans', verdana, arial, sans-serif; font-size: 14px; fill: rgb(42, 63, 95); opacity: 1; font-weight: normal; white-space: pre;\">Total Streaming Time (Hours)</text></g></g></svg>"
      ]
     },
     "metadata": {},
     "output_type": "display_data"
    }
   ],
   "source": [
    "# Analyze trends based on the day of the week\n",
    "trends_by_day = spotify_podcast.groupby(spotify_podcast['ts'].dt.dayofweek).agg({\n",
    "    'ms_played': lambda x: x.sum() / (1000 * 60 * 60)  # Convert milliseconds to hours and sum\n",
    "}).reset_index()\n",
    "\n",
    "# Get the top 2 days of the week\n",
    "top_days = trends_by_day.nlargest(2, 'ms_played').index\n",
    "\n",
    "# Visualize the trends\n",
    "fig = px.bar(trends_by_day, x='ts', y='ms_played',\n",
    "             labels={'ms_played': 'Total Streaming Time (Hours)', 'ts': 'Day of the Week'},\n",
    "             title='Streaming Trends by Day of the Week')\n",
    "\n",
    "colors = ['green' if i in top_days else '#16D35C' for i in trends_by_day.index]\n",
    "\n",
    "fig.update_traces(marker_color=colors,\n",
    "                  text=trends_by_day['ms_played'].round(2), \n",
    "                  textposition='inside', \n",
    "                  textfont=dict(color='white'))\n",
    "\n",
    "fig.update_layout(xaxis=dict(tickmode='array', tickvals=list(range(7)), ticktext=['Mon', 'Tue', 'Wed', 'Thu', 'Fri', 'Sat', 'Sun']),\n",
    "                  title=dict(text='Streaming Trends by Day of the Week', x=0.5),\n",
    "                  width=800, height=500)\n",
    "fig.show()"
   ]
  },
  {
   "cell_type": "markdown",
   "metadata": {},
   "source": [
    "### **`Platform` Analysis**"
   ]
  },
  {
   "cell_type": "code",
   "execution_count": 44,
   "metadata": {},
   "outputs": [
    {
     "data": {
      "image/svg+xml": [
       "<svg class=\"main-svg\" xmlns=\"http://www.w3.org/2000/svg\" xmlns:xlink=\"http://www.w3.org/1999/xlink\" width=\"500\" height=\"500\" style=\"\" viewBox=\"0 0 500 500\"><rect x=\"0\" y=\"0\" width=\"500\" height=\"500\" style=\"fill: rgb(255, 255, 255); fill-opacity: 1;\"/><defs id=\"defs-267b85\"><g class=\"clips\"/><g class=\"gradients\"/><g class=\"patterns\"/></defs><g class=\"bglayer\"/><g class=\"layer-below\"><g class=\"imagelayer\"/><g class=\"shapelayer\"/></g><g class=\"cartesianlayer\"/><g class=\"polarlayer\"/><g class=\"smithlayer\"/><g class=\"ternarylayer\"/><g class=\"geolayer\"/><g class=\"funnelarealayer\"/><g class=\"pielayer\"><g class=\"trace\" stroke-linejoin=\"round\" style=\"opacity: 1;\"><g class=\"slice\"><path class=\"surface\" d=\"M231,260l0,-151a151,151 0 1 1 -96.62364534808164,34.961768543086876Z\" style=\"pointer-events: none; fill: rgb(0, 128, 0); fill-opacity: 1; stroke-width: 0; stroke: rgb(68, 68, 68); stroke-opacity: 1;\"/><g class=\"slicetext\"><text data-notex=\"1\" class=\"slicetext\" transform=\"translate(256.6495221486482,335.49539857447974)\" text-anchor=\"middle\" x=\"0\" y=\"0\" style=\"font-family: 'Open Sans', verdana, arial, sans-serif; font-size: 12px; fill: rgb(255, 255, 255); fill-opacity: 1; white-space: pre;\">88.9%</text></g></g><g class=\"slice\"><path class=\"surface\" d=\"M231,260l-96.62364534808157,-116.03823145691317a151,151 0 0 1 96.62364534808157,-34.96176854308683Z\" style=\"pointer-events: none; fill: rgb(22, 211, 92); fill-opacity: 1; stroke-width: 0; stroke: rgb(68, 68, 68); stroke-opacity: 1;\"/><g class=\"slicetext\"><text data-notex=\"1\" class=\"slicetext\" transform=\"translate(192.6268082559292,158.55618013168197)\" text-anchor=\"middle\" x=\"0\" y=\"0\" style=\"font-family: 'Open Sans', verdana, arial, sans-serif; font-size: 12px; fill: rgb(68, 68, 68); fill-opacity: 1; white-space: pre;\">11.1%</text></g></g></g></g><g class=\"iciclelayer\"/><g class=\"treemaplayer\"/><g class=\"sunburstlayer\"/><g class=\"glimages\"/><defs id=\"topdefs-267b85\"><g class=\"clips\"/><clipPath id=\"legend267b85\"><rect width=\"100\" height=\"48\" x=\"0\" y=\"0\"/></clipPath></defs><g class=\"layer-above\"><g class=\"imagelayer\"/><g class=\"shapelayer\"/></g><g class=\"infolayer\"><g class=\"legend\" pointer-events=\"all\" transform=\"translate(388.04,100)\"><rect class=\"bg\" shape-rendering=\"crispEdges\" style=\"stroke: rgb(68, 68, 68); stroke-opacity: 1; fill: rgb(255, 255, 255); fill-opacity: 1; stroke-width: 0px;\" width=\"100\" height=\"48\" x=\"0\" y=\"0\"/><g class=\"scrollbox\" transform=\"\" clip-path=\"url(#legend267b85)\"><g class=\"groups\"><g class=\"traces\" transform=\"translate(0,14.5)\" style=\"opacity: 1;\"><text class=\"legendtext\" text-anchor=\"start\" x=\"40\" y=\"4.680000000000001\" style=\"font-family: 'Open Sans', verdana, arial, sans-serif; font-size: 12px; fill: rgb(42, 63, 95); fill-opacity: 1; white-space: pre;\">Windows</text><g class=\"layers\" style=\"opacity: 1;\"><g class=\"legendfill\"/><g class=\"legendlines\"/><g class=\"legendsymbols\"><g class=\"legendpoints\"><path class=\"legendpie\" d=\"M6,6H-6V-6H6Z\" transform=\"translate(20,0)\" style=\"fill: rgb(0, 128, 0); fill-opacity: 1; stroke-width: 0; stroke: rgb(68, 68, 68); stroke-opacity: 1;\"/></g></g></g><rect class=\"legendtoggle\" x=\"0\" y=\"-9.5\" width=\"94.34375\" height=\"19\" style=\"fill: rgb(0, 0, 0); fill-opacity: 0;\"/></g><g class=\"traces\" transform=\"translate(0,33.5)\" style=\"opacity: 1;\"><text class=\"legendtext\" text-anchor=\"start\" x=\"40\" y=\"4.680000000000001\" style=\"font-family: 'Open Sans', verdana, arial, sans-serif; font-size: 12px; fill: rgb(42, 63, 95); fill-opacity: 1; white-space: pre;\">Android</text><g class=\"layers\" style=\"opacity: 1;\"><g class=\"legendfill\"/><g class=\"legendlines\"/><g class=\"legendsymbols\"><g class=\"legendpoints\"><path class=\"legendpie\" d=\"M6,6H-6V-6H6Z\" transform=\"translate(20,0)\" style=\"fill: rgb(22, 211, 92); fill-opacity: 1; stroke-width: 0; stroke: rgb(68, 68, 68); stroke-opacity: 1;\"/></g></g></g><rect class=\"legendtoggle\" x=\"0\" y=\"-9.5\" width=\"94.34375\" height=\"19\" style=\"fill: rgb(0, 0, 0); fill-opacity: 0;\"/></g></g></g><rect class=\"scrollbar\" rx=\"20\" ry=\"3\" width=\"0\" height=\"0\" style=\"fill: rgb(128, 139, 164); fill-opacity: 1;\" x=\"0\" y=\"0\"/></g><g class=\"g-gtitle\"><text class=\"gtitle\" x=\"250\" y=\"50\" text-anchor=\"middle\" dy=\"0em\" style=\"font-family: 'Open Sans', verdana, arial, sans-serif; font-size: 17px; fill: rgb(42, 63, 95); opacity: 1; font-weight: normal; white-space: pre;\">Distribution of Streaming Platforms</text></g></g></svg>"
      ]
     },
     "metadata": {},
     "output_type": "display_data"
    }
   ],
   "source": [
    "# Calculate platform counts\n",
    "platform_counts = spotify_data['platform'].value_counts()\n",
    "\n",
    "# Create a pie chart\n",
    "fig = px.pie(platform_counts, values=platform_counts.values, names=platform_counts.index,\n",
    "             title='Distribution of Streaming Platforms')\n",
    "\n",
    "# Customize the appearance\n",
    "fig.update_traces(marker=dict(colors=['green', '#16D35C']))  # Set custom colors\n",
    "fig.update_layout(title={'text': 'Distribution of Streaming Platforms', 'x': 0.5})  # Center the title\n",
    "fig.update_layout(width=500, height=500)\n",
    "\n",
    "fig.show()"
   ]
  },
  {
   "cell_type": "markdown",
   "metadata": {},
   "source": [
    "### **Analysis of `Show Name`**"
   ]
  },
  {
   "cell_type": "markdown",
   "metadata": {},
   "source": [
    "#### **Based on `Playback Duration`**"
   ]
  },
  {
   "cell_type": "code",
   "execution_count": 45,
   "metadata": {},
   "outputs": [
    {
     "data": {
      "text/html": [
       "<div>\n",
       "<style scoped>\n",
       "    .dataframe tbody tr th:only-of-type {\n",
       "        vertical-align: middle;\n",
       "    }\n",
       "\n",
       "    .dataframe tbody tr th {\n",
       "        vertical-align: top;\n",
       "    }\n",
       "\n",
       "    .dataframe thead th {\n",
       "        text-align: right;\n",
       "    }\n",
       "</style>\n",
       "<table border=\"1\" class=\"dataframe\">\n",
       "  <thead>\n",
       "    <tr style=\"text-align: right;\">\n",
       "      <th></th>\n",
       "      <th>episode_show_name</th>\n",
       "      <th>ms_played</th>\n",
       "    </tr>\n",
       "  </thead>\n",
       "  <tbody>\n",
       "    <tr>\n",
       "      <th>0</th>\n",
       "      <td>Mishary Rashid Alafasy</td>\n",
       "      <td>27.971994</td>\n",
       "    </tr>\n",
       "    <tr>\n",
       "      <th>1</th>\n",
       "      <td>Rintik Sedu</td>\n",
       "      <td>19.422181</td>\n",
       "    </tr>\n",
       "    <tr>\n",
       "      <th>2</th>\n",
       "      <td>DataFramed</td>\n",
       "      <td>13.877386</td>\n",
       "    </tr>\n",
       "    <tr>\n",
       "      <th>3</th>\n",
       "      <td>PodQuest</td>\n",
       "      <td>9.767602</td>\n",
       "    </tr>\n",
       "    <tr>\n",
       "      <th>4</th>\n",
       "      <td>Kuas, Kanvas dan Bulan Kesepian</td>\n",
       "      <td>7.600316</td>\n",
       "    </tr>\n",
       "    <tr>\n",
       "      <th>5</th>\n",
       "      <td>YOASOBI THE BOOK 2 Spotify Edition</td>\n",
       "      <td>7.392940</td>\n",
       "    </tr>\n",
       "    <tr>\n",
       "      <th>6</th>\n",
       "      <td>Zenius Learning</td>\n",
       "      <td>6.584304</td>\n",
       "    </tr>\n",
       "    <tr>\n",
       "      <th>7</th>\n",
       "      <td>The Friday Podcast</td>\n",
       "      <td>5.433518</td>\n",
       "    </tr>\n",
       "    <tr>\n",
       "      <th>8</th>\n",
       "      <td>Data Talks</td>\n",
       "      <td>5.317237</td>\n",
       "    </tr>\n",
       "    <tr>\n",
       "      <th>9</th>\n",
       "      <td>Calm it Down</td>\n",
       "      <td>5.160765</td>\n",
       "    </tr>\n",
       "    <tr>\n",
       "      <th>10</th>\n",
       "      <td>Endgame with Gita Wirjawan</td>\n",
       "      <td>4.887886</td>\n",
       "    </tr>\n",
       "    <tr>\n",
       "      <th>11</th>\n",
       "      <td>Thirty Days Of Lunch Podcast</td>\n",
       "      <td>4.881186</td>\n",
       "    </tr>\n",
       "    <tr>\n",
       "      <th>12</th>\n",
       "      <td>The Late Brunch with Sara Neyrhiza</td>\n",
       "      <td>4.800567</td>\n",
       "    </tr>\n",
       "    <tr>\n",
       "      <th>13</th>\n",
       "      <td>Meditate with Tsamara</td>\n",
       "      <td>4.658508</td>\n",
       "    </tr>\n",
       "    <tr>\n",
       "      <th>14</th>\n",
       "      <td>Decision Making with Irfan Agia</td>\n",
       "      <td>4.636518</td>\n",
       "    </tr>\n",
       "    <tr>\n",
       "      <th>15</th>\n",
       "      <td>quranreview</td>\n",
       "      <td>4.528829</td>\n",
       "    </tr>\n",
       "    <tr>\n",
       "      <th>16</th>\n",
       "      <td>Banana Data Podcast</td>\n",
       "      <td>4.520710</td>\n",
       "    </tr>\n",
       "    <tr>\n",
       "      <th>17</th>\n",
       "      <td>Menjadi Manusia</td>\n",
       "      <td>4.386385</td>\n",
       "    </tr>\n",
       "    <tr>\n",
       "      <th>18</th>\n",
       "      <td>Mudacumasekali</td>\n",
       "      <td>4.346022</td>\n",
       "    </tr>\n",
       "    <tr>\n",
       "      <th>19</th>\n",
       "      <td>Podcast Raditya Dika</td>\n",
       "      <td>3.635567</td>\n",
       "    </tr>\n",
       "  </tbody>\n",
       "</table>\n",
       "</div>"
      ],
      "text/plain": [
       "                     episode_show_name  ms_played\n",
       "0               Mishary Rashid Alafasy  27.971994\n",
       "1                          Rintik Sedu  19.422181\n",
       "2                           DataFramed  13.877386\n",
       "3                             PodQuest   9.767602\n",
       "4      Kuas, Kanvas dan Bulan Kesepian   7.600316\n",
       "5   YOASOBI THE BOOK 2 Spotify Edition   7.392940\n",
       "6                      Zenius Learning   6.584304\n",
       "7                   The Friday Podcast   5.433518\n",
       "8                           Data Talks   5.317237\n",
       "9                         Calm it Down   5.160765\n",
       "10          Endgame with Gita Wirjawan   4.887886\n",
       "11        Thirty Days Of Lunch Podcast   4.881186\n",
       "12  The Late Brunch with Sara Neyrhiza   4.800567\n",
       "13               Meditate with Tsamara   4.658508\n",
       "14     Decision Making with Irfan Agia   4.636518\n",
       "15                         quranreview   4.528829\n",
       "16                 Banana Data Podcast   4.520710\n",
       "17                     Menjadi Manusia   4.386385\n",
       "18                      Mudacumasekali   4.346022\n",
       "19                Podcast Raditya Dika   3.635567"
      ]
     },
     "execution_count": 45,
     "metadata": {},
     "output_type": "execute_result"
    }
   ],
   "source": [
    "# Calculate the accumulated number of streams for each artist in hours\n",
    "showname_playback_duration = spotify_data.groupby('episode_show_name')['ms_played'].sum() / (1000 * 60 * 60)\n",
    "\n",
    "# Sort artists based on the accumulated number of streams, from most to least\n",
    "showname_playback_duration = showname_playback_duration.sort_values(ascending=False).head(20).reset_index()\n",
    "showname_playback_duration"
   ]
  },
  {
   "cell_type": "code",
   "execution_count": 46,
   "metadata": {},
   "outputs": [
    {
     "data": {
      "image/svg+xml": [
       "<svg class=\"main-svg\" xmlns=\"http://www.w3.org/2000/svg\" xmlns:xlink=\"http://www.w3.org/1999/xlink\" width=\"800\" height=\"500\" style=\"\" viewBox=\"0 0 800 500\"><rect x=\"0\" y=\"0\" width=\"800\" height=\"500\" style=\"fill: rgb(255, 255, 255); fill-opacity: 1;\"/><defs id=\"defs-0e1456\"><g class=\"clips\"><clipPath id=\"clip0e1456xyplot\" class=\"plotclip\"><rect width=\"638\" height=\"188\"/></clipPath><clipPath class=\"axesclip\" id=\"clip0e1456x\"><rect x=\"82\" y=\"0\" width=\"638\" height=\"500\"/></clipPath><clipPath class=\"axesclip\" id=\"clip0e1456y\"><rect x=\"0\" y=\"100\" width=\"800\" height=\"188\"/></clipPath><clipPath class=\"axesclip\" id=\"clip0e1456xy\"><rect x=\"82\" y=\"100\" width=\"638\" height=\"188\"/></clipPath></g><g class=\"gradients\"/><g class=\"patterns\"/></defs><g class=\"bglayer\"><rect class=\"bg\" x=\"82\" y=\"100\" width=\"638\" height=\"188\" style=\"fill: rgb(229, 236, 246); fill-opacity: 1; stroke-width: 0;\"/></g><g class=\"layer-below\"><g class=\"imagelayer\"/><g class=\"shapelayer\"/></g><g class=\"cartesianlayer\"><g class=\"subplot xy\"><g class=\"layer-subplot\"><g class=\"shapelayer\"/><g class=\"imagelayer\"/></g><g class=\"minor-gridlayer\"><g class=\"x\"/><g class=\"y\"/></g><g class=\"gridlayer\"><g class=\"x\"/><g class=\"y\"><path class=\"ygrid crisp\" transform=\"translate(0,224.15)\" d=\"M82,0h638\" style=\"stroke: rgb(255, 255, 255); stroke-opacity: 1; stroke-width: 1px;\"/><path class=\"ygrid crisp\" transform=\"translate(0,160.3)\" d=\"M82,0h638\" style=\"stroke: rgb(255, 255, 255); stroke-opacity: 1; stroke-width: 1px;\"/></g></g><g class=\"zerolinelayer\"><path class=\"yzl zl crisp\" transform=\"translate(0,288)\" d=\"M82,0h638\" style=\"stroke: rgb(255, 255, 255); stroke-opacity: 1; stroke-width: 2px;\"/></g><g class=\"layer-between\"><g class=\"shapelayer\"/><g class=\"imagelayer\"/></g><path class=\"xlines-below\"/><path class=\"ylines-below\"/><g class=\"overlines-below\"/><g class=\"xaxislayer-below\"/><g class=\"yaxislayer-below\"/><g class=\"overaxes-below\"/><g class=\"plot\" transform=\"translate(82,100)\" clip-path=\"url(#clip0e1456xyplot)\"><g class=\"barlayer mlayer\"><g class=\"trace bars\" style=\"opacity: 1;\"><g class=\"points\"><g class=\"point\"><path d=\"M6.38,188V9.4H57.42V188Z\" style=\"vector-effect: none; opacity: 1; stroke-width: 0.5px; fill: rgb(0, 128, 0); fill-opacity: 1; stroke: rgb(229, 236, 246); stroke-opacity: 1;\"/><text class=\"bartext bartext-inside\" text-anchor=\"middle\" data-notex=\"1\" x=\"0\" y=\"0\" style=\"font-family: 'Open Sans', verdana, arial, sans-serif; font-size: 12px; fill: rgb(255, 255, 255); fill-opacity: 1; white-space: pre;\" transform=\"translate(31.7203125,24.4)\">27.97</text></g><g class=\"point\"><path d=\"M70.18,188V63.99H121.22V188Z\" style=\"vector-effect: none; opacity: 1; stroke-width: 0.5px; fill: rgb(0, 128, 0); fill-opacity: 1; stroke: rgb(229, 236, 246); stroke-opacity: 1;\"/><text class=\"bartext bartext-inside\" text-anchor=\"middle\" data-notex=\"1\" x=\"0\" y=\"0\" style=\"font-family: 'Open Sans', verdana, arial, sans-serif; font-size: 12px; fill: rgb(255, 255, 255); fill-opacity: 1; white-space: pre;\" transform=\"translate(95.5203125,78.99000000000001)\">19.42</text></g><g class=\"point\"><path d=\"M133.98,188V99.39H185.02V188Z\" style=\"vector-effect: none; opacity: 1; stroke-width: 0.5px; fill: rgb(0, 128, 0); fill-opacity: 1; stroke: rgb(229, 236, 246); stroke-opacity: 1;\"/><text class=\"bartext bartext-inside\" text-anchor=\"middle\" data-notex=\"1\" x=\"0\" y=\"0\" style=\"font-family: 'Open Sans', verdana, arial, sans-serif; font-size: 12px; fill: rgb(255, 255, 255); fill-opacity: 1; white-space: pre;\" transform=\"translate(159.3203125,114.39)\">13.88</text></g><g class=\"point\"><path d=\"M197.78,188V125.63H248.82V188Z\" style=\"vector-effect: none; opacity: 1; stroke-width: 0.5px; fill: rgb(22, 211, 92); fill-opacity: 1; stroke: rgb(229, 236, 246); stroke-opacity: 1;\"/><text class=\"bartext bartext-inside\" text-anchor=\"middle\" data-notex=\"1\" x=\"0\" y=\"0\" style=\"font-family: 'Open Sans', verdana, arial, sans-serif; font-size: 12px; fill: rgb(255, 255, 255); fill-opacity: 1; white-space: pre;\" transform=\"translate(223.1203125,140.63)\">9.77</text></g><g class=\"point\"><path d=\"M261.58,188V139.47H312.62V188Z\" style=\"vector-effect: none; opacity: 1; stroke-width: 0.5px; fill: rgb(22, 211, 92); fill-opacity: 1; stroke: rgb(229, 236, 246); stroke-opacity: 1;\"/><text class=\"bartext bartext-inside\" text-anchor=\"middle\" data-notex=\"1\" x=\"0\" y=\"0\" style=\"font-family: 'Open Sans', verdana, arial, sans-serif; font-size: 12px; fill: rgb(255, 255, 255); fill-opacity: 1; white-space: pre;\" transform=\"translate(286.9125,154.47)\">7.6</text></g><g class=\"point\"><path d=\"M325.38,188V140.8H376.42V188Z\" style=\"vector-effect: none; opacity: 1; stroke-width: 0.5px; fill: rgb(22, 211, 92); fill-opacity: 1; stroke: rgb(229, 236, 246); stroke-opacity: 1;\"/><text class=\"bartext bartext-inside\" text-anchor=\"middle\" data-notex=\"1\" x=\"0\" y=\"0\" style=\"font-family: 'Open Sans', verdana, arial, sans-serif; font-size: 12px; fill: rgb(255, 255, 255); fill-opacity: 1; white-space: pre;\" transform=\"translate(350.7203125,155.8)\">7.39</text></g><g class=\"point\"><path d=\"M389.18,188V145.96H440.22V188Z\" style=\"vector-effect: none; opacity: 1; stroke-width: 0.5px; fill: rgb(22, 211, 92); fill-opacity: 1; stroke: rgb(229, 236, 246); stroke-opacity: 1;\"/><text class=\"bartext bartext-inside\" text-anchor=\"middle\" data-notex=\"1\" x=\"0\" y=\"0\" style=\"font-family: 'Open Sans', verdana, arial, sans-serif; font-size: 12px; fill: rgb(255, 255, 255); fill-opacity: 1; white-space: pre;\" transform=\"translate(414.52031250000005,160.96)\">6.58</text></g><g class=\"point\"><path d=\"M452.98,188V153.31H504.02V188Z\" style=\"vector-effect: none; opacity: 1; stroke-width: 0.5px; fill: rgb(22, 211, 92); fill-opacity: 1; stroke: rgb(229, 236, 246); stroke-opacity: 1;\"/><text class=\"bartext bartext-inside\" text-anchor=\"middle\" data-notex=\"1\" x=\"0\" y=\"0\" style=\"font-family: 'Open Sans', verdana, arial, sans-serif; font-size: 12px; fill: rgb(255, 255, 255); fill-opacity: 1; white-space: pre;\" transform=\"translate(478.5,168.31)\">5.43</text></g><g class=\"point\"><path d=\"M516.78,188V154.05H567.82V188Z\" style=\"vector-effect: none; opacity: 1; stroke-width: 0.5px; fill: rgb(22, 211, 92); fill-opacity: 1; stroke: rgb(229, 236, 246); stroke-opacity: 1;\"/><text class=\"bartext bartext-inside\" text-anchor=\"middle\" data-notex=\"1\" x=\"0\" y=\"0\" style=\"font-family: 'Open Sans', verdana, arial, sans-serif; font-size: 12px; fill: rgb(255, 255, 255); fill-opacity: 1; white-space: pre;\" transform=\"translate(542.1203125,169.05)\">5.32</text></g><g class=\"point\"><path d=\"M580.58,188V155.05H631.62V188Z\" style=\"vector-effect: none; opacity: 1; stroke-width: 0.5px; fill: rgb(22, 211, 92); fill-opacity: 1; stroke: rgb(229, 236, 246); stroke-opacity: 1;\"/><text class=\"bartext bartext-inside\" text-anchor=\"middle\" data-notex=\"1\" x=\"0\" y=\"0\" style=\"font-family: 'Open Sans', verdana, arial, sans-serif; font-size: 12px; fill: rgb(255, 255, 255); fill-opacity: 1; white-space: pre;\" transform=\"translate(605.9203125,170.05)\">5.16</text></g></g></g></g></g><g class=\"overplot\"/><path class=\"xlines-above crisp\" d=\"M0,0\" style=\"fill: none;\"/><path class=\"ylines-above crisp\" d=\"M0,0\" style=\"fill: none;\"/><g class=\"overlines-above\"/><g class=\"xaxislayer-above\"><g class=\"xtick\"><text text-anchor=\"end\" x=\"0\" y=\"301\" transform=\"translate(113.9,0) rotate(-45,0,295)\" style=\"font-family: 'Open Sans', verdana, arial, sans-serif; font-size: 12px; fill: rgb(42, 63, 95); fill-opacity: 1; white-space: pre; opacity: 1;\">Mishary Rashid Alafasy</text></g><g class=\"xtick\"><text text-anchor=\"end\" x=\"0\" y=\"301\" transform=\"translate(177.7,0) rotate(-45,0,295)\" style=\"font-family: 'Open Sans', verdana, arial, sans-serif; font-size: 12px; fill: rgb(42, 63, 95); fill-opacity: 1; white-space: pre; opacity: 1;\">Rintik Sedu</text></g><g class=\"xtick\"><text text-anchor=\"end\" x=\"0\" y=\"301\" transform=\"translate(241.5,0) rotate(-45,0,295)\" style=\"font-family: 'Open Sans', verdana, arial, sans-serif; font-size: 12px; fill: rgb(42, 63, 95); fill-opacity: 1; white-space: pre; opacity: 1;\">DataFramed</text></g><g class=\"xtick\"><text text-anchor=\"end\" x=\"0\" y=\"301\" transform=\"translate(305.3,0) rotate(-45,0,295)\" style=\"font-family: 'Open Sans', verdana, arial, sans-serif; font-size: 12px; fill: rgb(42, 63, 95); fill-opacity: 1; white-space: pre; opacity: 1;\">PodQuest</text></g><g class=\"xtick\"><text text-anchor=\"end\" x=\"0\" y=\"301\" transform=\"translate(369.1,0) rotate(-45,0,295)\" style=\"font-family: 'Open Sans', verdana, arial, sans-serif; font-size: 12px; fill: rgb(42, 63, 95); fill-opacity: 1; white-space: pre; opacity: 1;\">Kuas, Kanvas dan Bulan Kesepian</text></g><g class=\"xtick\"><text text-anchor=\"end\" x=\"0\" y=\"301\" transform=\"translate(432.9,0) rotate(-45,0,295)\" style=\"font-family: 'Open Sans', verdana, arial, sans-serif; font-size: 12px; fill: rgb(42, 63, 95); fill-opacity: 1; white-space: pre; opacity: 1;\">YOASOBI THE BOOK 2 Spotify Edition</text></g><g class=\"xtick\"><text text-anchor=\"end\" x=\"0\" y=\"301\" transform=\"translate(496.7,0) rotate(-45,0,295)\" style=\"font-family: 'Open Sans', verdana, arial, sans-serif; font-size: 12px; fill: rgb(42, 63, 95); fill-opacity: 1; white-space: pre; opacity: 1;\">Zenius Learning</text></g><g class=\"xtick\"><text text-anchor=\"end\" x=\"0\" y=\"301\" transform=\"translate(560.5,0) rotate(-45,0,295)\" style=\"font-family: 'Open Sans', verdana, arial, sans-serif; font-size: 12px; fill: rgb(42, 63, 95); fill-opacity: 1; white-space: pre; opacity: 1;\">The Friday Podcast</text></g><g class=\"xtick\"><text text-anchor=\"end\" x=\"0\" y=\"301\" transform=\"translate(624.3,0) rotate(-45,0,295)\" style=\"font-family: 'Open Sans', verdana, arial, sans-serif; font-size: 12px; fill: rgb(42, 63, 95); fill-opacity: 1; white-space: pre; opacity: 1;\">Data Talks</text></g><g class=\"xtick\"><text text-anchor=\"end\" x=\"0\" y=\"301\" transform=\"translate(688.1,0) rotate(-45,0,295)\" style=\"font-family: 'Open Sans', verdana, arial, sans-serif; font-size: 12px; fill: rgb(42, 63, 95); fill-opacity: 1; white-space: pre; opacity: 1;\">Calm it Down</text></g></g><g class=\"yaxislayer-above\"><g class=\"ytick\"><text text-anchor=\"end\" x=\"81\" y=\"4.199999999999999\" transform=\"translate(0,288)\" style=\"font-family: 'Open Sans', verdana, arial, sans-serif; font-size: 12px; fill: rgb(42, 63, 95); fill-opacity: 1; white-space: pre; opacity: 1;\">0</text></g><g class=\"ytick\"><text text-anchor=\"end\" x=\"81\" y=\"4.199999999999999\" style=\"font-family: 'Open Sans', verdana, arial, sans-serif; font-size: 12px; fill: rgb(42, 63, 95); fill-opacity: 1; white-space: pre; opacity: 1;\" transform=\"translate(0,224.15)\">10</text></g><g class=\"ytick\"><text text-anchor=\"end\" x=\"81\" y=\"4.199999999999999\" style=\"font-family: 'Open Sans', verdana, arial, sans-serif; font-size: 12px; fill: rgb(42, 63, 95); fill-opacity: 1; white-space: pre; opacity: 1;\" transform=\"translate(0,160.3)\">20</text></g></g><g class=\"overaxes-above\"/></g></g><g class=\"polarlayer\"/><g class=\"smithlayer\"/><g class=\"ternarylayer\"/><g class=\"geolayer\"/><g class=\"funnelarealayer\"/><g class=\"pielayer\"/><g class=\"iciclelayer\"/><g class=\"treemaplayer\"/><g class=\"sunburstlayer\"/><g class=\"glimages\"/><defs id=\"topdefs-0e1456\"><g class=\"clips\"/></defs><g class=\"layer-above\"><g class=\"imagelayer\"/><g class=\"shapelayer\"/></g><g class=\"infolayer\"><g class=\"g-gtitle\"><text class=\"gtitle\" x=\"400\" y=\"50\" text-anchor=\"middle\" dy=\"0em\" style=\"font-family: 'Open Sans', verdana, arial, sans-serif; font-size: 17px; fill: rgb(42, 63, 95); opacity: 1; font-weight: normal; white-space: pre;\">Top 20 Most Streamed Artists Based on Playback Duration</text></g><g class=\"g-xtitle\"><text class=\"xtitle\" x=\"401\" y=\"487.1935546875\" text-anchor=\"middle\" style=\"font-family: 'Open Sans', verdana, arial, sans-serif; font-size: 14px; fill: rgb(42, 63, 95); opacity: 1; font-weight: normal; white-space: pre;\">Artists</text></g><g class=\"g-ytitle\"><text class=\"ytitle\" transform=\"rotate(-90,41.434375,194)\" x=\"41.434375\" y=\"194\" text-anchor=\"middle\" style=\"font-family: 'Open Sans', verdana, arial, sans-serif; font-size: 14px; fill: rgb(42, 63, 95); opacity: 1; font-weight: normal; white-space: pre;\">Total Streams in Hours</text></g></g></svg>"
      ]
     },
     "metadata": {},
     "output_type": "display_data"
    }
   ],
   "source": [
    "# Visualize top artists\n",
    "fig = px.bar(showname_playback_duration.head(10), x='episode_show_name', y='ms_played',\n",
    "             labels={'episode_show_name': 'Artists', 'ms_played': 'Total Streams in Hours'},\n",
    "             title='Top 20 Most Streamed Artists Based on Playback Duration')\n",
    "\n",
    "# Define colors using Spotify palette for top 5 tracks, green for others\n",
    "color_scale = ['green' if artist in showname_playback_duration.head(3).values else '#16D35C' for artist in showname_playback_duration['episode_show_name']]\n",
    "\n",
    "# Update colors and text labels for each bar\n",
    "fig.update_traces(marker_color=color_scale,\n",
    "                  text=showname_playback_duration['ms_played'].round(2), \n",
    "                  textposition='inside', \n",
    "                  textfont=dict(color='white'))\n",
    "\n",
    "fig.update_layout(xaxis_title='Artists', \n",
    "                  yaxis_title='Total Streams in Hours', \n",
    "                  xaxis_tickangle=-45, showlegend=False, title_x=0.5,\n",
    "                  width=800, height=500)\n",
    "fig.show()"
   ]
  },
  {
   "cell_type": "markdown",
   "metadata": {},
   "source": [
    "#### **Based on `Play Count`**"
   ]
  },
  {
   "cell_type": "code",
   "execution_count": 47,
   "metadata": {},
   "outputs": [
    {
     "data": {
      "text/plain": [
       "episode_show_name\n",
       "Mishary Rashid Alafasy                343\n",
       "Rintik Sedu                           197\n",
       "YOASOBI THE BOOK 2 Spotify Edition     86\n",
       "Menjadi Manusia                        77\n",
       "The Late Brunch with Sara Neyrhiza     51\n",
       "Kuas, Kanvas dan Bulan Kesepian        47\n",
       "quranreview                            45\n",
       "Yaqeen Podcast                         39\n",
       "PodQuest                               37\n",
       "MengAnalisa                            34\n",
       "Calm it Down                           33\n",
       "Meditate with Tsamara                  30\n",
       "Podcast Raditya Dika                   28\n",
       "Zenius Learning                        28\n",
       "WORK LIFE TRAMPOLINE                   27\n",
       "Endgame with Gita Wirjawan             25\n",
       "Mudacumasekali                         25\n",
       "The Friday Podcast                     23\n",
       "DataFramed                             23\n",
       "BukaTalks                              23\n",
       "Name: count, dtype: int64"
      ]
     },
     "execution_count": 47,
     "metadata": {},
     "output_type": "execute_result"
    }
   ],
   "source": [
    "# The top 20 artists with the most number of streams based on play counts\n",
    "showname_play_counts = spotify_podcast['episode_show_name'].value_counts().head(20)\n",
    "showname_play_counts"
   ]
  },
  {
   "cell_type": "code",
   "execution_count": 48,
   "metadata": {},
   "outputs": [
    {
     "data": {
      "image/svg+xml": [
       "<svg class=\"main-svg\" xmlns=\"http://www.w3.org/2000/svg\" xmlns:xlink=\"http://www.w3.org/1999/xlink\" width=\"800\" height=\"500\" style=\"\" viewBox=\"0 0 800 500\"><rect x=\"0\" y=\"0\" width=\"800\" height=\"500\" style=\"fill: rgb(255, 255, 255); fill-opacity: 1;\"/><defs id=\"defs-9e14da\"><g class=\"clips\"><clipPath id=\"clip9e14daxyplot\" class=\"plotclip\"><rect width=\"638\" height=\"188\"/></clipPath><clipPath class=\"axesclip\" id=\"clip9e14dax\"><rect x=\"82\" y=\"0\" width=\"638\" height=\"500\"/></clipPath><clipPath class=\"axesclip\" id=\"clip9e14day\"><rect x=\"0\" y=\"100\" width=\"800\" height=\"188\"/></clipPath><clipPath class=\"axesclip\" id=\"clip9e14daxy\"><rect x=\"82\" y=\"100\" width=\"638\" height=\"188\"/></clipPath></g><g class=\"gradients\"/><g class=\"patterns\"/></defs><g class=\"bglayer\"><rect class=\"bg\" x=\"82\" y=\"100\" width=\"638\" height=\"188\" style=\"fill: rgb(229, 236, 246); fill-opacity: 1; stroke-width: 0;\"/></g><g class=\"layer-below\"><g class=\"imagelayer\"/><g class=\"shapelayer\"/></g><g class=\"cartesianlayer\"><g class=\"subplot xy\"><g class=\"layer-subplot\"><g class=\"shapelayer\"/><g class=\"imagelayer\"/></g><g class=\"minor-gridlayer\"><g class=\"x\"/><g class=\"y\"/></g><g class=\"gridlayer\"><g class=\"x\"/><g class=\"y\"><path class=\"ygrid crisp\" transform=\"translate(0,235.93)\" d=\"M82,0h638\" style=\"stroke: rgb(255, 255, 255); stroke-opacity: 1; stroke-width: 1px;\"/><path class=\"ygrid crisp\" transform=\"translate(0,183.86)\" d=\"M82,0h638\" style=\"stroke: rgb(255, 255, 255); stroke-opacity: 1; stroke-width: 1px;\"/><path class=\"ygrid crisp\" transform=\"translate(0,131.79)\" d=\"M82,0h638\" style=\"stroke: rgb(255, 255, 255); stroke-opacity: 1; stroke-width: 1px;\"/></g></g><g class=\"zerolinelayer\"><path class=\"yzl zl crisp\" transform=\"translate(0,288)\" d=\"M82,0h638\" style=\"stroke: rgb(255, 255, 255); stroke-opacity: 1; stroke-width: 2px;\"/></g><g class=\"layer-between\"><g class=\"shapelayer\"/><g class=\"imagelayer\"/></g><path class=\"xlines-below\"/><path class=\"ylines-below\"/><g class=\"overlines-below\"/><g class=\"xaxislayer-below\"/><g class=\"yaxislayer-below\"/><g class=\"overaxes-below\"/><g class=\"plot\" transform=\"translate(82,100)\" clip-path=\"url(#clip9e14daxyplot)\"><g class=\"barlayer mlayer\"><g class=\"trace bars\" style=\"opacity: 1;\"><g class=\"points\"><g class=\"point\"><path d=\"M6.38,188V9.4H57.42V188Z\" style=\"vector-effect: none; opacity: 1; stroke-width: 0.5px; fill: rgb(0, 128, 0); fill-opacity: 1; stroke: rgb(229, 236, 246); stroke-opacity: 1;\"/><text class=\"bartext bartext-inside\" text-anchor=\"middle\" data-notex=\"1\" x=\"0\" y=\"0\" style=\"font-family: 'Open Sans', verdana, arial, sans-serif; font-size: 12px; fill: rgb(255, 255, 255); fill-opacity: 1; white-space: pre;\" transform=\"translate(31.9,24.4)\">343</text></g><g class=\"point\"><path d=\"M70.18,188V85.42H121.22V188Z\" style=\"vector-effect: none; opacity: 1; stroke-width: 0.5px; fill: rgb(0, 128, 0); fill-opacity: 1; stroke: rgb(229, 236, 246); stroke-opacity: 1;\"/><text class=\"bartext bartext-inside\" text-anchor=\"middle\" data-notex=\"1\" x=\"0\" y=\"0\" style=\"font-family: 'Open Sans', verdana, arial, sans-serif; font-size: 12px; fill: rgb(255, 255, 255); fill-opacity: 1; white-space: pre;\" transform=\"translate(95.5125,100.42)\">197</text></g><g class=\"point\"><path d=\"M133.98,188V143.22H185.02V188Z\" style=\"vector-effect: none; opacity: 1; stroke-width: 0.5px; fill: rgb(0, 128, 0); fill-opacity: 1; stroke: rgb(229, 236, 246); stroke-opacity: 1;\"/><text class=\"bartext bartext-inside\" text-anchor=\"middle\" data-notex=\"1\" x=\"0\" y=\"0\" style=\"font-family: 'Open Sans', verdana, arial, sans-serif; font-size: 12px; fill: rgb(255, 255, 255); fill-opacity: 1; white-space: pre;\" transform=\"translate(159.3203125,158.22)\">86</text></g><g class=\"point\"><path d=\"M197.78,188V147.91H248.82V188Z\" style=\"vector-effect: none; opacity: 1; stroke-width: 0.5px; fill: rgb(22, 211, 92); fill-opacity: 1; stroke: rgb(229, 236, 246); stroke-opacity: 1;\"/><text class=\"bartext bartext-inside\" text-anchor=\"middle\" data-notex=\"1\" x=\"0\" y=\"0\" style=\"font-family: 'Open Sans', verdana, arial, sans-serif; font-size: 12px; fill: rgb(255, 255, 255); fill-opacity: 1; white-space: pre;\" transform=\"translate(223.1203125,162.91)\">77</text></g><g class=\"point\"><path d=\"M261.58,188V161.44H312.62V188Z\" style=\"vector-effect: none; opacity: 1; stroke-width: 0.5px; fill: rgb(22, 211, 92); fill-opacity: 1; stroke: rgb(229, 236, 246); stroke-opacity: 1;\"/><text class=\"bartext bartext-inside\" text-anchor=\"middle\" data-notex=\"1\" x=\"0\" y=\"0\" style=\"font-family: 'Open Sans', verdana, arial, sans-serif; font-size: 12px; fill: rgb(255, 255, 255); fill-opacity: 1; white-space: pre;\" transform=\"translate(287.1,176.44)\">51</text></g><g class=\"point\"><path d=\"M325.38,188V163.53H376.42V188Z\" style=\"vector-effect: none; opacity: 1; stroke-width: 0.5px; fill: rgb(22, 211, 92); fill-opacity: 1; stroke: rgb(229, 236, 246); stroke-opacity: 1;\"/><text class=\"bartext bartext-inside\" text-anchor=\"middle\" data-notex=\"1\" x=\"0\" y=\"0\" style=\"font-family: 'Open Sans', verdana, arial, sans-serif; font-size: 12px; fill: rgb(255, 255, 255); fill-opacity: 1; white-space: pre;\" transform=\"translate(350.7203125,178.53)\">47</text></g><g class=\"point\"><path d=\"M389.18,188V164.57H440.22V188Z\" style=\"vector-effect: none; opacity: 1; stroke-width: 0.5px; fill: rgb(22, 211, 92); fill-opacity: 1; stroke: rgb(229, 236, 246); stroke-opacity: 1;\"/><text class=\"bartext bartext-inside\" text-anchor=\"middle\" data-notex=\"1\" x=\"0\" y=\"0\" style=\"font-family: 'Open Sans', verdana, arial, sans-serif; font-size: 12px; fill: rgb(255, 255, 255); fill-opacity: 1; white-space: pre;\" transform=\"translate(414.52031250000005,179.57)\">45</text></g><g class=\"point\"><path d=\"M452.98,188V167.69H504.02V188Z\" style=\"vector-effect: none; opacity: 1; stroke-width: 0.5px; fill: rgb(22, 211, 92); fill-opacity: 1; stroke: rgb(229, 236, 246); stroke-opacity: 1;\"/><text class=\"bartext bartext-inside\" text-anchor=\"middle\" data-notex=\"1\" x=\"0\" y=\"0\" style=\"font-family: 'Open Sans', verdana, arial, sans-serif; font-size: 12px; fill: rgb(255, 255, 255); fill-opacity: 1; white-space: pre;\" transform=\"translate(478.328578125,182.138)scale(0.9540000000000002)\">39</text></g><g class=\"point\"><path d=\"M516.78,188V168.73H567.82V188Z\" style=\"vector-effect: none; opacity: 1; stroke-width: 0.5px; fill: rgb(22, 211, 92); fill-opacity: 1; stroke: rgb(229, 236, 246); stroke-opacity: 1;\"/><text class=\"bartext bartext-inside\" text-anchor=\"middle\" data-notex=\"1\" x=\"0\" y=\"0\" style=\"font-family: 'Open Sans', verdana, arial, sans-serif; font-size: 12px; fill: rgb(255, 255, 255); fill-opacity: 1; white-space: pre;\" transform=\"translate(542.1410364583332,182.346)scale(0.8846666666666674)\">37</text></g><g class=\"point\"><path d=\"M580.58,188V170.3H631.62V188Z\" style=\"vector-effect: none; opacity: 1; stroke-width: 0.5px; fill: rgb(22, 211, 92); fill-opacity: 1; stroke: rgb(229, 236, 246); stroke-opacity: 1;\"/><text class=\"bartext bartext-inside\" text-anchor=\"middle\" data-notex=\"1\" x=\"0\" y=\"0\" style=\"font-family: 'Open Sans', verdana, arial, sans-serif; font-size: 12px; fill: rgb(255, 255, 255); fill-opacity: 1; white-space: pre;\" transform=\"translate(605.95984375,182.66)scale(0.7799999999999992)\">34</text></g></g></g></g></g><g class=\"overplot\"/><path class=\"xlines-above crisp\" d=\"M0,0\" style=\"fill: none;\"/><path class=\"ylines-above crisp\" d=\"M0,0\" style=\"fill: none;\"/><g class=\"overlines-above\"/><g class=\"xaxislayer-above\"><g class=\"xtick\"><text text-anchor=\"end\" x=\"0\" y=\"301\" transform=\"translate(113.9,0) rotate(-45,0,295)\" style=\"font-family: 'Open Sans', verdana, arial, sans-serif; font-size: 12px; fill: rgb(42, 63, 95); fill-opacity: 1; white-space: pre; opacity: 1;\">Mishary Rashid Alafasy</text></g><g class=\"xtick\"><text text-anchor=\"end\" x=\"0\" y=\"301\" transform=\"translate(177.7,0) rotate(-45,0,295)\" style=\"font-family: 'Open Sans', verdana, arial, sans-serif; font-size: 12px; fill: rgb(42, 63, 95); fill-opacity: 1; white-space: pre; opacity: 1;\">Rintik Sedu</text></g><g class=\"xtick\"><text text-anchor=\"end\" x=\"0\" y=\"301\" transform=\"translate(241.5,0) rotate(-45,0,295)\" style=\"font-family: 'Open Sans', verdana, arial, sans-serif; font-size: 12px; fill: rgb(42, 63, 95); fill-opacity: 1; white-space: pre; opacity: 1;\">YOASOBI THE BOOK 2 Spotify Edition</text></g><g class=\"xtick\"><text text-anchor=\"end\" x=\"0\" y=\"301\" transform=\"translate(305.3,0) rotate(-45,0,295)\" style=\"font-family: 'Open Sans', verdana, arial, sans-serif; font-size: 12px; fill: rgb(42, 63, 95); fill-opacity: 1; white-space: pre; opacity: 1;\">Menjadi Manusia</text></g><g class=\"xtick\"><text text-anchor=\"end\" x=\"0\" y=\"301\" transform=\"translate(369.1,0) rotate(-45,0,295)\" style=\"font-family: 'Open Sans', verdana, arial, sans-serif; font-size: 12px; fill: rgb(42, 63, 95); fill-opacity: 1; white-space: pre; opacity: 1;\">The Late Brunch with Sara Neyrhiza</text></g><g class=\"xtick\"><text text-anchor=\"end\" x=\"0\" y=\"301\" transform=\"translate(432.9,0) rotate(-45,0,295)\" style=\"font-family: 'Open Sans', verdana, arial, sans-serif; font-size: 12px; fill: rgb(42, 63, 95); fill-opacity: 1; white-space: pre; opacity: 1;\">Kuas, Kanvas dan Bulan Kesepian</text></g><g class=\"xtick\"><text text-anchor=\"end\" x=\"0\" y=\"301\" transform=\"translate(496.7,0) rotate(-45,0,295)\" style=\"font-family: 'Open Sans', verdana, arial, sans-serif; font-size: 12px; fill: rgb(42, 63, 95); fill-opacity: 1; white-space: pre; opacity: 1;\">quranreview</text></g><g class=\"xtick\"><text text-anchor=\"end\" x=\"0\" y=\"301\" transform=\"translate(560.5,0) rotate(-45,0,295)\" style=\"font-family: 'Open Sans', verdana, arial, sans-serif; font-size: 12px; fill: rgb(42, 63, 95); fill-opacity: 1; white-space: pre; opacity: 1;\">Yaqeen Podcast</text></g><g class=\"xtick\"><text text-anchor=\"end\" x=\"0\" y=\"301\" transform=\"translate(624.3,0) rotate(-45,0,295)\" style=\"font-family: 'Open Sans', verdana, arial, sans-serif; font-size: 12px; fill: rgb(42, 63, 95); fill-opacity: 1; white-space: pre; opacity: 1;\">PodQuest</text></g><g class=\"xtick\"><text text-anchor=\"end\" x=\"0\" y=\"301\" transform=\"translate(688.1,0) rotate(-45,0,295)\" style=\"font-family: 'Open Sans', verdana, arial, sans-serif; font-size: 12px; fill: rgb(42, 63, 95); fill-opacity: 1; white-space: pre; opacity: 1;\">MengAnalisa</text></g></g><g class=\"yaxislayer-above\"><g class=\"ytick\"><text text-anchor=\"end\" x=\"81\" y=\"4.199999999999999\" transform=\"translate(0,288)\" style=\"font-family: 'Open Sans', verdana, arial, sans-serif; font-size: 12px; fill: rgb(42, 63, 95); fill-opacity: 1; white-space: pre; opacity: 1;\">0</text></g><g class=\"ytick\"><text text-anchor=\"end\" x=\"81\" y=\"4.199999999999999\" style=\"font-family: 'Open Sans', verdana, arial, sans-serif; font-size: 12px; fill: rgb(42, 63, 95); fill-opacity: 1; white-space: pre; opacity: 1;\" transform=\"translate(0,235.93)\">100</text></g><g class=\"ytick\"><text text-anchor=\"end\" x=\"81\" y=\"4.199999999999999\" style=\"font-family: 'Open Sans', verdana, arial, sans-serif; font-size: 12px; fill: rgb(42, 63, 95); fill-opacity: 1; white-space: pre; opacity: 1;\" transform=\"translate(0,183.86)\">200</text></g><g class=\"ytick\"><text text-anchor=\"end\" x=\"81\" y=\"4.199999999999999\" style=\"font-family: 'Open Sans', verdana, arial, sans-serif; font-size: 12px; fill: rgb(42, 63, 95); fill-opacity: 1; white-space: pre; opacity: 1;\" transform=\"translate(0,131.79)\">300</text></g></g><g class=\"overaxes-above\"/></g></g><g class=\"polarlayer\"/><g class=\"smithlayer\"/><g class=\"ternarylayer\"/><g class=\"geolayer\"/><g class=\"funnelarealayer\"/><g class=\"pielayer\"/><g class=\"iciclelayer\"/><g class=\"treemaplayer\"/><g class=\"sunburstlayer\"/><g class=\"glimages\"/><defs id=\"topdefs-9e14da\"><g class=\"clips\"/></defs><g class=\"layer-above\"><g class=\"imagelayer\"/><g class=\"shapelayer\"/></g><g class=\"infolayer\"><g class=\"g-gtitle\"><text class=\"gtitle\" x=\"400\" y=\"50\" text-anchor=\"middle\" dy=\"0em\" style=\"font-family: 'Open Sans', verdana, arial, sans-serif; font-size: 17px; fill: rgb(42, 63, 95); opacity: 1; font-weight: normal; white-space: pre;\">Top 20 Most Streamed Artists Based on Play Counts</text></g><g class=\"g-xtitle\"><text class=\"xtitle\" x=\"401\" y=\"487.1935546875\" text-anchor=\"middle\" style=\"font-family: 'Open Sans', verdana, arial, sans-serif; font-size: 14px; fill: rgb(42, 63, 95); opacity: 1; font-weight: normal; white-space: pre;\">Artists</text></g><g class=\"g-ytitle\"><text class=\"ytitle\" transform=\"rotate(-90,33.809375,194)\" x=\"33.809375\" y=\"194\" text-anchor=\"middle\" style=\"font-family: 'Open Sans', verdana, arial, sans-serif; font-size: 14px; fill: rgb(42, 63, 95); opacity: 1; font-weight: normal; white-space: pre;\">Total Streams in Hours</text></g></g></svg>"
      ]
     },
     "metadata": {},
     "output_type": "display_data"
    }
   ],
   "source": [
    "# Visualize top artists\n",
    "fig = px.bar(showname_play_counts.head(10), x=showname_play_counts.head(10).index, y=showname_play_counts.head(10).values,\n",
    "             labels={'x': 'Artists', 'y': 'Total Streams'},\n",
    "             title='Top 20 Most Streamed Artists Based on Play Counts')\n",
    "\n",
    "# Define colors using Spotify palette for top 5 tracks, green for others\n",
    "color_scale = ['green' if artist in showname_play_counts.head(3).index else '#16D35C' for artist in showname_play_counts.index]\n",
    "\n",
    "# Update colors and text labels for each bar\n",
    "fig.update_traces(marker_color=color_scale,\n",
    "                  text=showname_play_counts.values, \n",
    "                  textposition='inside', \n",
    "                  textfont=dict(color='white'))\n",
    "\n",
    "fig.update_layout(xaxis_title='Artists', \n",
    "                  yaxis_title='Total Streams in Hours', \n",
    "                  xaxis_tickangle=-45, showlegend=False, title_x=0.5,\n",
    "                  width=800, height=500)\n",
    "fig.show()"
   ]
  },
  {
   "cell_type": "markdown",
   "metadata": {},
   "source": [
    "### **Analysis of `Artists`**"
   ]
  },
  {
   "cell_type": "markdown",
   "metadata": {},
   "source": [
    "#### **Based on `Playback Duration`**"
   ]
  },
  {
   "cell_type": "code",
   "execution_count": 49,
   "metadata": {},
   "outputs": [],
   "source": [
    "# Calculate the accumulated number of streams for each artist in hours\n",
    "artist_playback_duration = spotify_data.groupby('master_metadata_album_artist_name')['ms_played'].sum() / (1000 * 60 * 60)\n",
    "\n",
    "# Sort artists based on the accumulated number of streams, from most to least\n",
    "artist_playback_duration = artist_playback_duration.sort_values(ascending=False).head(10).reset_index()"
   ]
  },
  {
   "cell_type": "code",
   "execution_count": 50,
   "metadata": {},
   "outputs": [
    {
     "data": {
      "image/svg+xml": [
       "<svg class=\"main-svg\" xmlns=\"http://www.w3.org/2000/svg\" xmlns:xlink=\"http://www.w3.org/1999/xlink\" width=\"800\" height=\"500\" style=\"\" viewBox=\"0 0 800 500\"><rect x=\"0\" y=\"0\" width=\"800\" height=\"500\" style=\"fill: rgb(255, 255, 255); fill-opacity: 1;\"/><defs id=\"defs-87d075\"><g class=\"clips\"><clipPath id=\"clip87d075xyplot\" class=\"plotclip\"><rect width=\"640\" height=\"256\"/></clipPath><clipPath class=\"axesclip\" id=\"clip87d075x\"><rect x=\"80\" y=\"0\" width=\"640\" height=\"500\"/></clipPath><clipPath class=\"axesclip\" id=\"clip87d075y\"><rect x=\"0\" y=\"100\" width=\"800\" height=\"256\"/></clipPath><clipPath class=\"axesclip\" id=\"clip87d075xy\"><rect x=\"80\" y=\"100\" width=\"640\" height=\"256\"/></clipPath></g><g class=\"gradients\"/><g class=\"patterns\"/></defs><g class=\"bglayer\"><rect class=\"bg\" x=\"80\" y=\"100\" width=\"640\" height=\"256\" style=\"fill: rgb(229, 236, 246); fill-opacity: 1; stroke-width: 0;\"/></g><g class=\"layer-below\"><g class=\"imagelayer\"/><g class=\"shapelayer\"/></g><g class=\"cartesianlayer\"><g class=\"subplot xy\"><g class=\"layer-subplot\"><g class=\"shapelayer\"/><g class=\"imagelayer\"/></g><g class=\"minor-gridlayer\"><g class=\"x\"/><g class=\"y\"/></g><g class=\"gridlayer\"><g class=\"x\"/><g class=\"y\"><path class=\"ygrid crisp\" transform=\"translate(0,303.3)\" d=\"M80,0h640\" style=\"stroke: rgb(255, 255, 255); stroke-opacity: 1; stroke-width: 1px;\"/><path class=\"ygrid crisp\" transform=\"translate(0,250.6)\" d=\"M80,0h640\" style=\"stroke: rgb(255, 255, 255); stroke-opacity: 1; stroke-width: 1px;\"/><path class=\"ygrid crisp\" transform=\"translate(0,197.9)\" d=\"M80,0h640\" style=\"stroke: rgb(255, 255, 255); stroke-opacity: 1; stroke-width: 1px;\"/><path class=\"ygrid crisp\" transform=\"translate(0,145.2)\" d=\"M80,0h640\" style=\"stroke: rgb(255, 255, 255); stroke-opacity: 1; stroke-width: 1px;\"/></g></g><g class=\"zerolinelayer\"><path class=\"yzl zl crisp\" transform=\"translate(0,356)\" d=\"M80,0h640\" style=\"stroke: rgb(255, 255, 255); stroke-opacity: 1; stroke-width: 2px;\"/></g><g class=\"layer-between\"><g class=\"shapelayer\"/><g class=\"imagelayer\"/></g><path class=\"xlines-below\"/><path class=\"ylines-below\"/><g class=\"overlines-below\"/><g class=\"xaxislayer-below\"/><g class=\"yaxislayer-below\"/><g class=\"overaxes-below\"/><g class=\"plot\" transform=\"translate(80,100)\" clip-path=\"url(#clip87d075xyplot)\"><g class=\"barlayer mlayer\"><g class=\"trace bars\" style=\"opacity: 1;\"><g class=\"points\"><g class=\"point\"><path d=\"M6.4,256V12.8H57.6V256Z\" style=\"vector-effect: none; opacity: 1; stroke-width: 0.5px; fill: rgb(0, 128, 0); fill-opacity: 1; stroke: rgb(229, 236, 246); stroke-opacity: 1;\"/><text class=\"bartext bartext-inside\" text-anchor=\"middle\" data-notex=\"1\" x=\"0\" y=\"0\" style=\"font-family: 'Open Sans', verdana, arial, sans-serif; font-size: 12px; fill: rgb(255, 255, 255); fill-opacity: 1; white-space: pre;\" transform=\"translate(31.8125,27.8)\">230.74</text></g><g class=\"point\"><path d=\"M70.4,256V137.79H121.6V256Z\" style=\"vector-effect: none; opacity: 1; stroke-width: 0.5px; fill: rgb(0, 128, 0); fill-opacity: 1; stroke: rgb(229, 236, 246); stroke-opacity: 1;\"/><text class=\"bartext bartext-inside\" text-anchor=\"middle\" data-notex=\"1\" x=\"0\" y=\"0\" style=\"font-family: 'Open Sans', verdana, arial, sans-serif; font-size: 12px; fill: rgb(255, 255, 255); fill-opacity: 1; white-space: pre;\" transform=\"translate(95.8125,152.79)\">112.16</text></g><g class=\"point\"><path d=\"M134.4,256V138.28H185.6V256Z\" style=\"vector-effect: none; opacity: 1; stroke-width: 0.5px; fill: rgb(0, 128, 0); fill-opacity: 1; stroke: rgb(229, 236, 246); stroke-opacity: 1;\"/><text class=\"bartext bartext-inside\" text-anchor=\"middle\" data-notex=\"1\" x=\"0\" y=\"0\" style=\"font-family: 'Open Sans', verdana, arial, sans-serif; font-size: 12px; fill: rgb(255, 255, 255); fill-opacity: 1; white-space: pre;\" transform=\"translate(159.8125,153.28)\">111.69</text></g><g class=\"point\"><path d=\"M198.4,256V181.23H249.6V256Z\" style=\"vector-effect: none; opacity: 1; stroke-width: 0.5px; fill: rgb(22, 211, 92); fill-opacity: 1; stroke: rgb(229, 236, 246); stroke-opacity: 1;\"/><text class=\"bartext bartext-inside\" text-anchor=\"middle\" data-notex=\"1\" x=\"0\" y=\"0\" style=\"font-family: 'Open Sans', verdana, arial, sans-serif; font-size: 12px; fill: rgb(255, 255, 255); fill-opacity: 1; white-space: pre;\" transform=\"translate(223.8203125,196.23)\">70.94</text></g><g class=\"point\"><path d=\"M262.4,256V183.98H313.6V256Z\" style=\"vector-effect: none; opacity: 1; stroke-width: 0.5px; fill: rgb(22, 211, 92); fill-opacity: 1; stroke: rgb(229, 236, 246); stroke-opacity: 1;\"/><text class=\"bartext bartext-inside\" text-anchor=\"middle\" data-notex=\"1\" x=\"0\" y=\"0\" style=\"font-family: 'Open Sans', verdana, arial, sans-serif; font-size: 12px; fill: rgb(255, 255, 255); fill-opacity: 1; white-space: pre;\" transform=\"translate(288,198.98)\">68.33</text></g><g class=\"point\"><path d=\"M326.4,256V190.56H377.6V256Z\" style=\"vector-effect: none; opacity: 1; stroke-width: 0.5px; fill: rgb(22, 211, 92); fill-opacity: 1; stroke: rgb(229, 236, 246); stroke-opacity: 1;\"/><text class=\"bartext bartext-inside\" text-anchor=\"middle\" data-notex=\"1\" x=\"0\" y=\"0\" style=\"font-family: 'Open Sans', verdana, arial, sans-serif; font-size: 12px; fill: rgb(255, 255, 255); fill-opacity: 1; white-space: pre;\" transform=\"translate(351.8203125,205.56)\">62.09</text></g><g class=\"point\"><path d=\"M390.4,256V193.89H441.6V256Z\" style=\"vector-effect: none; opacity: 1; stroke-width: 0.5px; fill: rgb(22, 211, 92); fill-opacity: 1; stroke: rgb(229, 236, 246); stroke-opacity: 1;\"/><text class=\"bartext bartext-inside\" text-anchor=\"middle\" data-notex=\"1\" x=\"0\" y=\"0\" style=\"font-family: 'Open Sans', verdana, arial, sans-serif; font-size: 12px; fill: rgb(255, 255, 255); fill-opacity: 1; white-space: pre;\" transform=\"translate(416,208.89)\">58.93</text></g><g class=\"point\"><path d=\"M454.4,256V195.95H505.6V256Z\" style=\"vector-effect: none; opacity: 1; stroke-width: 0.5px; fill: rgb(22, 211, 92); fill-opacity: 1; stroke: rgb(229, 236, 246); stroke-opacity: 1;\"/><text class=\"bartext bartext-inside\" text-anchor=\"middle\" data-notex=\"1\" x=\"0\" y=\"0\" style=\"font-family: 'Open Sans', verdana, arial, sans-serif; font-size: 12px; fill: rgb(255, 255, 255); fill-opacity: 1; white-space: pre;\" transform=\"translate(479.8203125,210.95)\">56.97</text></g><g class=\"point\"><path d=\"M518.4,256V198.77H569.6V256Z\" style=\"vector-effect: none; opacity: 1; stroke-width: 0.5px; fill: rgb(22, 211, 92); fill-opacity: 1; stroke: rgb(229, 236, 246); stroke-opacity: 1;\"/><text class=\"bartext bartext-inside\" text-anchor=\"middle\" data-notex=\"1\" x=\"0\" y=\"0\" style=\"font-family: 'Open Sans', verdana, arial, sans-serif; font-size: 12px; fill: rgb(255, 255, 255); fill-opacity: 1; white-space: pre;\" transform=\"translate(544,213.77)\">54.3</text></g><g class=\"point\"><path d=\"M582.4,256V202.46H633.6V256Z\" style=\"vector-effect: none; opacity: 1; stroke-width: 0.5px; fill: rgb(22, 211, 92); fill-opacity: 1; stroke: rgb(229, 236, 246); stroke-opacity: 1;\"/><text class=\"bartext bartext-inside\" text-anchor=\"middle\" data-notex=\"1\" x=\"0\" y=\"0\" style=\"font-family: 'Open Sans', verdana, arial, sans-serif; font-size: 12px; fill: rgb(255, 255, 255); fill-opacity: 1; white-space: pre;\" transform=\"translate(607.8203125,217.46)\">50.8</text></g></g></g></g></g><g class=\"overplot\"/><path class=\"xlines-above crisp\" d=\"M0,0\" style=\"fill: none;\"/><path class=\"ylines-above crisp\" d=\"M0,0\" style=\"fill: none;\"/><g class=\"overlines-above\"/><g class=\"xaxislayer-above\"><g class=\"xtick\"><text text-anchor=\"end\" x=\"0\" y=\"369\" transform=\"translate(112,0) rotate(-45,0,363)\" style=\"font-family: 'Open Sans', verdana, arial, sans-serif; font-size: 12px; fill: rgb(42, 63, 95); fill-opacity: 1; white-space: pre; opacity: 1;\">LANY</text></g><g class=\"xtick\"><text text-anchor=\"end\" x=\"0\" y=\"369\" transform=\"translate(176,0) rotate(-45,0,363)\" style=\"font-family: 'Open Sans', verdana, arial, sans-serif; font-size: 12px; fill: rgb(42, 63, 95); fill-opacity: 1; white-space: pre; opacity: 1;\">Taylor Swift</text></g><g class=\"xtick\"><text text-anchor=\"end\" x=\"0\" y=\"369\" transform=\"translate(240,0) rotate(-45,0,363)\" style=\"font-family: 'Open Sans', verdana, arial, sans-serif; font-size: 12px; fill: rgb(42, 63, 95); fill-opacity: 1; white-space: pre; opacity: 1;\">5 Seconds of Summer</text></g><g class=\"xtick\"><text text-anchor=\"end\" x=\"0\" y=\"369\" transform=\"translate(304,0) rotate(-45,0,363)\" style=\"font-family: 'Open Sans', verdana, arial, sans-serif; font-size: 12px; fill: rgb(42, 63, 95); fill-opacity: 1; white-space: pre; opacity: 1;\">Tulus</text></g><g class=\"xtick\"><text text-anchor=\"end\" x=\"0\" y=\"369\" transform=\"translate(368,0) rotate(-45,0,363)\" style=\"font-family: 'Open Sans', verdana, arial, sans-serif; font-size: 12px; fill: rgb(42, 63, 95); fill-opacity: 1; white-space: pre; opacity: 1;\">Kunto Aji</text></g><g class=\"xtick\"><text text-anchor=\"end\" x=\"0\" y=\"369\" transform=\"translate(432,0) rotate(-45,0,363)\" style=\"font-family: 'Open Sans', verdana, arial, sans-serif; font-size: 12px; fill: rgb(42, 63, 95); fill-opacity: 1; white-space: pre; opacity: 1;\">Hindia</text></g><g class=\"xtick\"><text text-anchor=\"end\" x=\"0\" y=\"369\" transform=\"translate(496,0) rotate(-45,0,363)\" style=\"font-family: 'Open Sans', verdana, arial, sans-serif; font-size: 12px; fill: rgb(42, 63, 95); fill-opacity: 1; white-space: pre; opacity: 1;\">Yiruma</text></g><g class=\"xtick\"><text text-anchor=\"end\" x=\"0\" y=\"369\" transform=\"translate(560,0) rotate(-45,0,363)\" style=\"font-family: 'Open Sans', verdana, arial, sans-serif; font-size: 12px; fill: rgb(42, 63, 95); fill-opacity: 1; white-space: pre; opacity: 1;\">Coldplay</text></g><g class=\"xtick\"><text text-anchor=\"end\" x=\"0\" y=\"369\" transform=\"translate(624,0) rotate(-45,0,363)\" style=\"font-family: 'Open Sans', verdana, arial, sans-serif; font-size: 12px; fill: rgb(42, 63, 95); fill-opacity: 1; white-space: pre; opacity: 1;\">Arash Buana</text></g><g class=\"xtick\"><text text-anchor=\"end\" x=\"0\" y=\"369\" transform=\"translate(688,0) rotate(-45,0,363)\" style=\"font-family: 'Open Sans', verdana, arial, sans-serif; font-size: 12px; fill: rgb(42, 63, 95); fill-opacity: 1; white-space: pre; opacity: 1;\">Hayd</text></g></g><g class=\"yaxislayer-above\"><g class=\"ytick\"><text text-anchor=\"end\" x=\"79\" y=\"4.199999999999999\" transform=\"translate(0,356)\" style=\"font-family: 'Open Sans', verdana, arial, sans-serif; font-size: 12px; fill: rgb(42, 63, 95); fill-opacity: 1; white-space: pre; opacity: 1;\">0</text></g><g class=\"ytick\"><text text-anchor=\"end\" x=\"79\" y=\"4.199999999999999\" style=\"font-family: 'Open Sans', verdana, arial, sans-serif; font-size: 12px; fill: rgb(42, 63, 95); fill-opacity: 1; white-space: pre; opacity: 1;\" transform=\"translate(0,303.3)\">50</text></g><g class=\"ytick\"><text text-anchor=\"end\" x=\"79\" y=\"4.199999999999999\" style=\"font-family: 'Open Sans', verdana, arial, sans-serif; font-size: 12px; fill: rgb(42, 63, 95); fill-opacity: 1; white-space: pre; opacity: 1;\" transform=\"translate(0,250.6)\">100</text></g><g class=\"ytick\"><text text-anchor=\"end\" x=\"79\" y=\"4.199999999999999\" style=\"font-family: 'Open Sans', verdana, arial, sans-serif; font-size: 12px; fill: rgb(42, 63, 95); fill-opacity: 1; white-space: pre; opacity: 1;\" transform=\"translate(0,197.9)\">150</text></g><g class=\"ytick\"><text text-anchor=\"end\" x=\"79\" y=\"4.199999999999999\" style=\"font-family: 'Open Sans', verdana, arial, sans-serif; font-size: 12px; fill: rgb(42, 63, 95); fill-opacity: 1; white-space: pre; opacity: 1;\" transform=\"translate(0,145.2)\">200</text></g></g><g class=\"overaxes-above\"/></g></g><g class=\"polarlayer\"/><g class=\"smithlayer\"/><g class=\"ternarylayer\"/><g class=\"geolayer\"/><g class=\"funnelarealayer\"/><g class=\"pielayer\"/><g class=\"iciclelayer\"/><g class=\"treemaplayer\"/><g class=\"sunburstlayer\"/><g class=\"glimages\"/><defs id=\"topdefs-87d075\"><g class=\"clips\"/></defs><g class=\"layer-above\"><g class=\"imagelayer\"/><g class=\"shapelayer\"/></g><g class=\"infolayer\"><g class=\"g-gtitle\"><text class=\"gtitle\" x=\"400\" y=\"50\" text-anchor=\"middle\" dy=\"0em\" style=\"font-family: 'Open Sans', verdana, arial, sans-serif; font-size: 17px; fill: rgb(42, 63, 95); opacity: 1; font-weight: normal; white-space: pre;\">Top 20 Most Streamed Artists Based on Playback Duration</text></g><g class=\"g-xtitle\"><text class=\"xtitle\" x=\"400\" y=\"487.9962890625\" text-anchor=\"middle\" style=\"font-family: 'Open Sans', verdana, arial, sans-serif; font-size: 14px; fill: rgb(42, 63, 95); opacity: 1; font-weight: normal; white-space: pre;\">Artists</text></g><g class=\"g-ytitle\"><text class=\"ytitle\" transform=\"rotate(-90,31.809375000000003,228)\" x=\"31.809375000000003\" y=\"228\" text-anchor=\"middle\" style=\"font-family: 'Open Sans', verdana, arial, sans-serif; font-size: 14px; fill: rgb(42, 63, 95); opacity: 1; font-weight: normal; white-space: pre;\">Total Streams in Hours</text></g></g></svg>"
      ]
     },
     "metadata": {},
     "output_type": "display_data"
    }
   ],
   "source": [
    "# Visualize top artists\n",
    "fig = px.bar(artist_playback_duration, x='master_metadata_album_artist_name', y='ms_played',\n",
    "             labels={'master_metadata_album_artist_name': 'Artists', 'ms_played': 'Total Streams in Hours'},\n",
    "             title='Top 20 Most Streamed Artists Based on Playback Duration')\n",
    "\n",
    "# Define colors using Spotify palette for top 5 tracks, green for others\n",
    "color_scale = ['green' if artist in artist_playback_duration.head(3).values else '#16D35C' for artist in artist_playback_duration['master_metadata_album_artist_name']]\n",
    "\n",
    "# Update colors and text labels for each bar\n",
    "fig.update_traces(marker_color=color_scale,\n",
    "                  text=artist_playback_duration['ms_played'].round(2), \n",
    "                  textposition='inside', \n",
    "                  textfont=dict(color='white'))\n",
    "\n",
    "fig.update_layout(xaxis_title='Artists', \n",
    "                  yaxis_title='Total Streams in Hours', \n",
    "                  xaxis_tickangle=-45, showlegend=False, title_x=0.5,\n",
    "                  width=800, height=500)\n",
    "fig.show()"
   ]
  },
  {
   "cell_type": "code",
   "execution_count": 51,
   "metadata": {},
   "outputs": [
    {
     "data": {
      "image/svg+xml": [
       "<svg class=\"main-svg\" xmlns=\"http://www.w3.org/2000/svg\" xmlns:xlink=\"http://www.w3.org/1999/xlink\" width=\"800\" height=\"500\" style=\"\" viewBox=\"0 0 800 500\"><rect x=\"0\" y=\"0\" width=\"800\" height=\"500\" style=\"fill: rgb(255, 255, 255); fill-opacity: 1;\"/><defs id=\"defs-f90c96\"><g class=\"clips\"><clipPath id=\"clipf90c96xyplot\" class=\"plotclip\"><rect width=\"640\" height=\"256\"/></clipPath><clipPath class=\"axesclip\" id=\"clipf90c96x\"><rect x=\"80\" y=\"0\" width=\"640\" height=\"500\"/></clipPath><clipPath class=\"axesclip\" id=\"clipf90c96y\"><rect x=\"0\" y=\"100\" width=\"800\" height=\"256\"/></clipPath><clipPath class=\"axesclip\" id=\"clipf90c96xy\"><rect x=\"80\" y=\"100\" width=\"640\" height=\"256\"/></clipPath></g><g class=\"gradients\"/><g class=\"patterns\"/></defs><g class=\"bglayer\"><rect class=\"bg\" x=\"80\" y=\"100\" width=\"640\" height=\"256\" style=\"fill: rgb(229, 236, 246); fill-opacity: 1; stroke-width: 0;\"/></g><g class=\"layer-below\"><g class=\"imagelayer\"/><g class=\"shapelayer\"/></g><g class=\"cartesianlayer\"><g class=\"subplot xy\"><g class=\"layer-subplot\"><g class=\"shapelayer\"/><g class=\"imagelayer\"/></g><g class=\"minor-gridlayer\"><g class=\"x\"/><g class=\"y\"/></g><g class=\"gridlayer\"><g class=\"x\"/><g class=\"y\"><path class=\"ygrid crisp\" transform=\"translate(0,303.3)\" d=\"M80,0h640\" style=\"stroke: rgb(255, 255, 255); stroke-opacity: 1; stroke-width: 1px;\"/><path class=\"ygrid crisp\" transform=\"translate(0,250.6)\" d=\"M80,0h640\" style=\"stroke: rgb(255, 255, 255); stroke-opacity: 1; stroke-width: 1px;\"/><path class=\"ygrid crisp\" transform=\"translate(0,197.9)\" d=\"M80,0h640\" style=\"stroke: rgb(255, 255, 255); stroke-opacity: 1; stroke-width: 1px;\"/><path class=\"ygrid crisp\" transform=\"translate(0,145.2)\" d=\"M80,0h640\" style=\"stroke: rgb(255, 255, 255); stroke-opacity: 1; stroke-width: 1px;\"/></g></g><g class=\"zerolinelayer\"><path class=\"yzl zl crisp\" transform=\"translate(0,356)\" d=\"M80,0h640\" style=\"stroke: rgb(255, 255, 255); stroke-opacity: 1; stroke-width: 2px;\"/></g><g class=\"layer-between\"><g class=\"shapelayer\"/><g class=\"imagelayer\"/></g><path class=\"xlines-below\"/><path class=\"ylines-below\"/><g class=\"overlines-below\"/><g class=\"xaxislayer-below\"/><g class=\"yaxislayer-below\"/><g class=\"overaxes-below\"/><g class=\"plot\" transform=\"translate(80,100)\" clip-path=\"url(#clipf90c96xyplot)\"><g class=\"barlayer mlayer\"><g class=\"trace bars\" style=\"opacity: 1;\"><g class=\"points\"><g class=\"point\"><path d=\"M6.4,256V12.8H57.6V256Z\" style=\"vector-effect: none; opacity: 1; stroke-width: 0.5px; fill: rgb(0, 128, 0); fill-opacity: 1; stroke: rgb(229, 236, 246); stroke-opacity: 1;\"/><text class=\"bartext bartext-inside\" text-anchor=\"middle\" data-notex=\"1\" x=\"0\" y=\"0\" style=\"font-family: 'Open Sans', verdana, arial, sans-serif; font-size: 12px; fill: rgb(255, 255, 255); fill-opacity: 1; white-space: pre;\" transform=\"translate(31.8125,27.8)\">230.74</text></g><g class=\"point\"><path d=\"M70.4,256V137.79H121.6V256Z\" style=\"vector-effect: none; opacity: 1; stroke-width: 0.5px; fill: rgb(0, 128, 0); fill-opacity: 1; stroke: rgb(229, 236, 246); stroke-opacity: 1;\"/><text class=\"bartext bartext-inside\" text-anchor=\"middle\" data-notex=\"1\" x=\"0\" y=\"0\" style=\"font-family: 'Open Sans', verdana, arial, sans-serif; font-size: 12px; fill: rgb(255, 255, 255); fill-opacity: 1; white-space: pre;\" transform=\"translate(95.8125,152.79)\">112.16</text></g><g class=\"point\"><path d=\"M134.4,256V138.28H185.6V256Z\" style=\"vector-effect: none; opacity: 1; stroke-width: 0.5px; fill: rgb(0, 128, 0); fill-opacity: 1; stroke: rgb(229, 236, 246); stroke-opacity: 1;\"/><text class=\"bartext bartext-inside\" text-anchor=\"middle\" data-notex=\"1\" x=\"0\" y=\"0\" style=\"font-family: 'Open Sans', verdana, arial, sans-serif; font-size: 12px; fill: rgb(255, 255, 255); fill-opacity: 1; white-space: pre;\" transform=\"translate(159.8125,153.28)\">111.69</text></g><g class=\"point\"><path d=\"M198.4,256V181.23H249.6V256Z\" style=\"vector-effect: none; opacity: 1; stroke-width: 0.5px; fill: rgb(22, 211, 92); fill-opacity: 1; stroke: rgb(229, 236, 246); stroke-opacity: 1;\"/><text class=\"bartext bartext-inside\" text-anchor=\"middle\" data-notex=\"1\" x=\"0\" y=\"0\" style=\"font-family: 'Open Sans', verdana, arial, sans-serif; font-size: 12px; fill: rgb(255, 255, 255); fill-opacity: 1; white-space: pre;\" transform=\"translate(223.8203125,196.23)\">70.94</text></g><g class=\"point\"><path d=\"M262.4,256V183.98H313.6V256Z\" style=\"vector-effect: none; opacity: 1; stroke-width: 0.5px; fill: rgb(22, 211, 92); fill-opacity: 1; stroke: rgb(229, 236, 246); stroke-opacity: 1;\"/><text class=\"bartext bartext-inside\" text-anchor=\"middle\" data-notex=\"1\" x=\"0\" y=\"0\" style=\"font-family: 'Open Sans', verdana, arial, sans-serif; font-size: 12px; fill: rgb(255, 255, 255); fill-opacity: 1; white-space: pre;\" transform=\"translate(288,198.98)\">68.33</text></g><g class=\"point\"><path d=\"M326.4,256V190.56H377.6V256Z\" style=\"vector-effect: none; opacity: 1; stroke-width: 0.5px; fill: rgb(22, 211, 92); fill-opacity: 1; stroke: rgb(229, 236, 246); stroke-opacity: 1;\"/><text class=\"bartext bartext-inside\" text-anchor=\"middle\" data-notex=\"1\" x=\"0\" y=\"0\" style=\"font-family: 'Open Sans', verdana, arial, sans-serif; font-size: 12px; fill: rgb(255, 255, 255); fill-opacity: 1; white-space: pre;\" transform=\"translate(351.8203125,205.56)\">62.09</text></g><g class=\"point\"><path d=\"M390.4,256V193.89H441.6V256Z\" style=\"vector-effect: none; opacity: 1; stroke-width: 0.5px; fill: rgb(22, 211, 92); fill-opacity: 1; stroke: rgb(229, 236, 246); stroke-opacity: 1;\"/><text class=\"bartext bartext-inside\" text-anchor=\"middle\" data-notex=\"1\" x=\"0\" y=\"0\" style=\"font-family: 'Open Sans', verdana, arial, sans-serif; font-size: 12px; fill: rgb(255, 255, 255); fill-opacity: 1; white-space: pre;\" transform=\"translate(416,208.89)\">58.93</text></g><g class=\"point\"><path d=\"M454.4,256V195.95H505.6V256Z\" style=\"vector-effect: none; opacity: 1; stroke-width: 0.5px; fill: rgb(22, 211, 92); fill-opacity: 1; stroke: rgb(229, 236, 246); stroke-opacity: 1;\"/><text class=\"bartext bartext-inside\" text-anchor=\"middle\" data-notex=\"1\" x=\"0\" y=\"0\" style=\"font-family: 'Open Sans', verdana, arial, sans-serif; font-size: 12px; fill: rgb(255, 255, 255); fill-opacity: 1; white-space: pre;\" transform=\"translate(479.8203125,210.95)\">56.97</text></g><g class=\"point\"><path d=\"M518.4,256V198.77H569.6V256Z\" style=\"vector-effect: none; opacity: 1; stroke-width: 0.5px; fill: rgb(22, 211, 92); fill-opacity: 1; stroke: rgb(229, 236, 246); stroke-opacity: 1;\"/><text class=\"bartext bartext-inside\" text-anchor=\"middle\" data-notex=\"1\" x=\"0\" y=\"0\" style=\"font-family: 'Open Sans', verdana, arial, sans-serif; font-size: 12px; fill: rgb(255, 255, 255); fill-opacity: 1; white-space: pre;\" transform=\"translate(544,213.77)\">54.3</text></g><g class=\"point\"><path d=\"M582.4,256V202.46H633.6V256Z\" style=\"vector-effect: none; opacity: 1; stroke-width: 0.5px; fill: rgb(22, 211, 92); fill-opacity: 1; stroke: rgb(229, 236, 246); stroke-opacity: 1;\"/><text class=\"bartext bartext-inside\" text-anchor=\"middle\" data-notex=\"1\" x=\"0\" y=\"0\" style=\"font-family: 'Open Sans', verdana, arial, sans-serif; font-size: 12px; fill: rgb(255, 255, 255); fill-opacity: 1; white-space: pre;\" transform=\"translate(607.8203125,217.46)\">50.8</text></g></g></g></g></g><g class=\"overplot\"/><path class=\"xlines-above crisp\" d=\"M0,0\" style=\"fill: none;\"/><path class=\"ylines-above crisp\" d=\"M0,0\" style=\"fill: none;\"/><g class=\"overlines-above\"/><g class=\"xaxislayer-above\"><g class=\"xtick\"><text text-anchor=\"end\" x=\"0\" y=\"369\" transform=\"translate(112,0) rotate(-45,0,363)\" style=\"font-family: 'Open Sans', verdana, arial, sans-serif; font-size: 12px; fill: rgb(42, 63, 95); fill-opacity: 1; white-space: pre; opacity: 1;\">LANY</text></g><g class=\"xtick\"><text text-anchor=\"end\" x=\"0\" y=\"369\" transform=\"translate(176,0) rotate(-45,0,363)\" style=\"font-family: 'Open Sans', verdana, arial, sans-serif; font-size: 12px; fill: rgb(42, 63, 95); fill-opacity: 1; white-space: pre; opacity: 1;\">Taylor Swift</text></g><g class=\"xtick\"><text text-anchor=\"end\" x=\"0\" y=\"369\" transform=\"translate(240,0) rotate(-45,0,363)\" style=\"font-family: 'Open Sans', verdana, arial, sans-serif; font-size: 12px; fill: rgb(42, 63, 95); fill-opacity: 1; white-space: pre; opacity: 1;\">5 Seconds of Summer</text></g><g class=\"xtick\"><text text-anchor=\"end\" x=\"0\" y=\"369\" transform=\"translate(304,0) rotate(-45,0,363)\" style=\"font-family: 'Open Sans', verdana, arial, sans-serif; font-size: 12px; fill: rgb(42, 63, 95); fill-opacity: 1; white-space: pre; opacity: 1;\">Tulus</text></g><g class=\"xtick\"><text text-anchor=\"end\" x=\"0\" y=\"369\" transform=\"translate(368,0) rotate(-45,0,363)\" style=\"font-family: 'Open Sans', verdana, arial, sans-serif; font-size: 12px; fill: rgb(42, 63, 95); fill-opacity: 1; white-space: pre; opacity: 1;\">Kunto Aji</text></g><g class=\"xtick\"><text text-anchor=\"end\" x=\"0\" y=\"369\" transform=\"translate(432,0) rotate(-45,0,363)\" style=\"font-family: 'Open Sans', verdana, arial, sans-serif; font-size: 12px; fill: rgb(42, 63, 95); fill-opacity: 1; white-space: pre; opacity: 1;\">Hindia</text></g><g class=\"xtick\"><text text-anchor=\"end\" x=\"0\" y=\"369\" transform=\"translate(496,0) rotate(-45,0,363)\" style=\"font-family: 'Open Sans', verdana, arial, sans-serif; font-size: 12px; fill: rgb(42, 63, 95); fill-opacity: 1; white-space: pre; opacity: 1;\">Yiruma</text></g><g class=\"xtick\"><text text-anchor=\"end\" x=\"0\" y=\"369\" transform=\"translate(560,0) rotate(-45,0,363)\" style=\"font-family: 'Open Sans', verdana, arial, sans-serif; font-size: 12px; fill: rgb(42, 63, 95); fill-opacity: 1; white-space: pre; opacity: 1;\">Coldplay</text></g><g class=\"xtick\"><text text-anchor=\"end\" x=\"0\" y=\"369\" transform=\"translate(624,0) rotate(-45,0,363)\" style=\"font-family: 'Open Sans', verdana, arial, sans-serif; font-size: 12px; fill: rgb(42, 63, 95); fill-opacity: 1; white-space: pre; opacity: 1;\">Arash Buana</text></g><g class=\"xtick\"><text text-anchor=\"end\" x=\"0\" y=\"369\" transform=\"translate(688,0) rotate(-45,0,363)\" style=\"font-family: 'Open Sans', verdana, arial, sans-serif; font-size: 12px; fill: rgb(42, 63, 95); fill-opacity: 1; white-space: pre; opacity: 1;\">Hayd</text></g></g><g class=\"yaxislayer-above\"><g class=\"ytick\"><text text-anchor=\"end\" x=\"79\" y=\"4.199999999999999\" transform=\"translate(0,356)\" style=\"font-family: 'Open Sans', verdana, arial, sans-serif; font-size: 12px; fill: rgb(42, 63, 95); fill-opacity: 1; white-space: pre; opacity: 1;\">0</text></g><g class=\"ytick\"><text text-anchor=\"end\" x=\"79\" y=\"4.199999999999999\" style=\"font-family: 'Open Sans', verdana, arial, sans-serif; font-size: 12px; fill: rgb(42, 63, 95); fill-opacity: 1; white-space: pre; opacity: 1;\" transform=\"translate(0,303.3)\">50</text></g><g class=\"ytick\"><text text-anchor=\"end\" x=\"79\" y=\"4.199999999999999\" style=\"font-family: 'Open Sans', verdana, arial, sans-serif; font-size: 12px; fill: rgb(42, 63, 95); fill-opacity: 1; white-space: pre; opacity: 1;\" transform=\"translate(0,250.6)\">100</text></g><g class=\"ytick\"><text text-anchor=\"end\" x=\"79\" y=\"4.199999999999999\" style=\"font-family: 'Open Sans', verdana, arial, sans-serif; font-size: 12px; fill: rgb(42, 63, 95); fill-opacity: 1; white-space: pre; opacity: 1;\" transform=\"translate(0,197.9)\">150</text></g><g class=\"ytick\"><text text-anchor=\"end\" x=\"79\" y=\"4.199999999999999\" style=\"font-family: 'Open Sans', verdana, arial, sans-serif; font-size: 12px; fill: rgb(42, 63, 95); fill-opacity: 1; white-space: pre; opacity: 1;\" transform=\"translate(0,145.2)\">200</text></g></g><g class=\"overaxes-above\"/></g></g><g class=\"polarlayer\"/><g class=\"smithlayer\"/><g class=\"ternarylayer\"/><g class=\"geolayer\"/><g class=\"funnelarealayer\"/><g class=\"pielayer\"/><g class=\"iciclelayer\"/><g class=\"treemaplayer\"/><g class=\"sunburstlayer\"/><g class=\"glimages\"/><defs id=\"topdefs-f90c96\"><g class=\"clips\"/></defs><g class=\"layer-above\"><g class=\"imagelayer\"/><g class=\"shapelayer\"><g class=\"shape-group\" data-index=\"0\" clip-path=\"url(#clipf90c96y)\"><path data-index=\"0\" fill-rule=\"evenodd\" d=\"M80,287.27L720,287.27\" style=\"opacity: 1; stroke: rgb(0, 0, 255); stroke-opacity: 1; fill: rgb(0, 0, 0); fill-opacity: 0; stroke-dasharray: 3px, 3px; stroke-width: 2px;\"/></g></g></g><g class=\"infolayer\"><g class=\"g-gtitle\"><text class=\"gtitle\" x=\"400\" y=\"50\" text-anchor=\"middle\" dy=\"0em\" style=\"font-family: 'Open Sans', verdana, arial, sans-serif; font-size: 17px; fill: rgb(42, 63, 95); opacity: 1; font-weight: normal; white-space: pre;\">Top 10 Most Streamed Artists Based on Playback Duration</text></g><g class=\"g-xtitle\"><text class=\"xtitle\" x=\"400\" y=\"487.9962890625\" text-anchor=\"middle\" style=\"font-family: 'Open Sans', verdana, arial, sans-serif; font-size: 14px; fill: rgb(42, 63, 95); opacity: 1; font-weight: normal; white-space: pre;\">Artists</text></g><g class=\"g-ytitle\"><text class=\"ytitle\" transform=\"rotate(-90,31.809375000000003,228)\" x=\"31.809375000000003\" y=\"228\" text-anchor=\"middle\" style=\"font-family: 'Open Sans', verdana, arial, sans-serif; font-size: 14px; fill: rgb(42, 63, 95); opacity: 1; font-weight: normal; white-space: pre;\">Total Streams in Hours</text></g><g class=\"annotation\" data-index=\"0\" style=\"opacity: 1;\"><g class=\"annotation-text-g\" transform=\"rotate(0,655,277.77)\"><g class=\"cursor-pointer\" transform=\"translate(590,268)\"><rect class=\"bg\" x=\"0.5\" y=\"0.5\" width=\"129\" height=\"18\" style=\"stroke-width: 1px; stroke: rgb(0, 0, 0); stroke-opacity: 0; fill: rgb(0, 0, 0); fill-opacity: 0;\"/><text class=\"annotation-text\" text-anchor=\"middle\" x=\"64.734375\" y=\"14\" style=\"font-family: 'Open Sans', verdana, arial, sans-serif; font-size: 12px; fill: rgb(42, 63, 95); fill-opacity: 1; white-space: pre;\">Median: 65.21 hours</text></g></g></g></g></svg>"
      ]
     },
     "metadata": {},
     "output_type": "display_data"
    }
   ],
   "source": [
    "median_playback_duration = artist_playback_duration['ms_played'].median()\n",
    "\n",
    "# Visualize top artists\n",
    "fig = px.bar(artist_playback_duration, x='master_metadata_album_artist_name', y='ms_played',\n",
    "             labels={'master_metadata_album_artist_name': 'Artists', 'ms_played': 'Total Streams in Hours'},\n",
    "             title='Top 10 Most Streamed Artists Based on Playback Duration')\n",
    "\n",
    "# Define colors using Spotify palette for top 5 tracks, green for others\n",
    "color_scale = ['green' if artist in artist_playback_duration.head(3).values else '#16D35C' for artist in artist_playback_duration['master_metadata_album_artist_name']]\n",
    "\n",
    "# Update colors and text labels for each bar\n",
    "fig.update_traces(marker_color=color_scale,\n",
    "                  text=artist_playback_duration['ms_played'].round(2), \n",
    "                  textposition='inside', \n",
    "                  textfont=dict(color='white'))\n",
    "\n",
    "# Add median playback duration line\n",
    "fig.add_hline(y=median_playback_duration, \n",
    "              line_dash=\"dot\", line_color=\"blue\", \n",
    "              annotation_text=f'Median: {median_playback_duration:.2f} hours',\n",
    "              annotation_position=\"top right\")\n",
    "\n",
    "fig.update_layout(xaxis_title='Artists', \n",
    "                  yaxis_title='Total Streams in Hours', \n",
    "                  xaxis_tickangle=-45, showlegend=False, title_x=0.5,\n",
    "                  width=800, height=500)\n",
    "fig.show()"
   ]
  },
  {
   "cell_type": "markdown",
   "metadata": {},
   "source": [
    "#### **Based on `Play Count`**"
   ]
  },
  {
   "cell_type": "code",
   "execution_count": 52,
   "metadata": {},
   "outputs": [],
   "source": [
    "# The top 20 artists with the most number of streams based on play counts\n",
    "artist_play_counts = spotify_data['master_metadata_album_artist_name'].value_counts().head(10)"
   ]
  },
  {
   "cell_type": "code",
   "execution_count": 53,
   "metadata": {},
   "outputs": [
    {
     "data": {
      "image/svg+xml": [
       "<svg class=\"main-svg\" xmlns=\"http://www.w3.org/2000/svg\" xmlns:xlink=\"http://www.w3.org/1999/xlink\" width=\"800\" height=\"500\" style=\"\" viewBox=\"0 0 800 500\"><rect x=\"0\" y=\"0\" width=\"800\" height=\"500\" style=\"fill: rgb(255, 255, 255); fill-opacity: 1;\"/><defs id=\"defs-d0e75d\"><g class=\"clips\"><clipPath id=\"clipd0e75dxyplot\" class=\"plotclip\"><rect width=\"640\" height=\"256\"/></clipPath><clipPath class=\"axesclip\" id=\"clipd0e75dx\"><rect x=\"80\" y=\"0\" width=\"640\" height=\"500\"/></clipPath><clipPath class=\"axesclip\" id=\"clipd0e75dy\"><rect x=\"0\" y=\"100\" width=\"800\" height=\"256\"/></clipPath><clipPath class=\"axesclip\" id=\"clipd0e75dxy\"><rect x=\"80\" y=\"100\" width=\"640\" height=\"256\"/></clipPath></g><g class=\"gradients\"/><g class=\"patterns\"/></defs><g class=\"bglayer\"><rect class=\"bg\" x=\"80\" y=\"100\" width=\"640\" height=\"256\" style=\"fill: rgb(229, 236, 246); fill-opacity: 1; stroke-width: 0;\"/></g><g class=\"layer-below\"><g class=\"imagelayer\"/><g class=\"shapelayer\"/></g><g class=\"cartesianlayer\"><g class=\"subplot xy\"><g class=\"layer-subplot\"><g class=\"shapelayer\"/><g class=\"imagelayer\"/></g><g class=\"minor-gridlayer\"><g class=\"x\"/><g class=\"y\"/></g><g class=\"gridlayer\"><g class=\"x\"/><g class=\"y\"><path class=\"ygrid crisp\" transform=\"translate(0,302.5)\" d=\"M80,0h640\" style=\"stroke: rgb(255, 255, 255); stroke-opacity: 1; stroke-width: 1px;\"/><path class=\"ygrid crisp\" transform=\"translate(0,249)\" d=\"M80,0h640\" style=\"stroke: rgb(255, 255, 255); stroke-opacity: 1; stroke-width: 1px;\"/><path class=\"ygrid crisp\" transform=\"translate(0,195.51)\" d=\"M80,0h640\" style=\"stroke: rgb(255, 255, 255); stroke-opacity: 1; stroke-width: 1px;\"/><path class=\"ygrid crisp\" transform=\"translate(0,142.01)\" d=\"M80,0h640\" style=\"stroke: rgb(255, 255, 255); stroke-opacity: 1; stroke-width: 1px;\"/></g></g><g class=\"zerolinelayer\"><path class=\"yzl zl crisp\" transform=\"translate(0,356)\" d=\"M80,0h640\" style=\"stroke: rgb(255, 255, 255); stroke-opacity: 1; stroke-width: 2px;\"/></g><g class=\"layer-between\"><g class=\"shapelayer\"/><g class=\"imagelayer\"/></g><path class=\"xlines-below\"/><path class=\"ylines-below\"/><g class=\"overlines-below\"/><g class=\"xaxislayer-below\"/><g class=\"yaxislayer-below\"/><g class=\"overaxes-below\"/><g class=\"plot\" transform=\"translate(80,100)\" clip-path=\"url(#clipd0e75dxyplot)\"><g class=\"barlayer mlayer\"><g class=\"trace bars\" style=\"opacity: 1;\"><g class=\"points\"><g class=\"point\"><path d=\"M6.4,256V12.8H57.6V256Z\" style=\"vector-effect: none; opacity: 1; stroke-width: 0.5px; fill: rgb(0, 128, 0); fill-opacity: 1; stroke: rgb(229, 236, 246); stroke-opacity: 1;\"/><text class=\"bartext bartext-inside\" text-anchor=\"middle\" data-notex=\"1\" x=\"0\" y=\"0\" style=\"font-family: 'Open Sans', verdana, arial, sans-serif; font-size: 12px; fill: rgb(255, 255, 255); fill-opacity: 1; white-space: pre;\" transform=\"translate(31.8125,27.8)\">4546</text></g><g class=\"point\"><path d=\"M70.4,256V143.28H121.6V256Z\" style=\"vector-effect: none; opacity: 1; stroke-width: 0.5px; fill: rgb(0, 128, 0); fill-opacity: 1; stroke: rgb(229, 236, 246); stroke-opacity: 1;\"/><text class=\"bartext bartext-inside\" text-anchor=\"middle\" data-notex=\"1\" x=\"0\" y=\"0\" style=\"font-family: 'Open Sans', verdana, arial, sans-serif; font-size: 12px; fill: rgb(255, 255, 255); fill-opacity: 1; white-space: pre;\" transform=\"translate(95.8125,158.28)\">2107</text></g><g class=\"point\"><path d=\"M134.4,256V143.49H185.6V256Z\" style=\"vector-effect: none; opacity: 1; stroke-width: 0.5px; fill: rgb(0, 128, 0); fill-opacity: 1; stroke: rgb(229, 236, 246); stroke-opacity: 1;\"/><text class=\"bartext bartext-inside\" text-anchor=\"middle\" data-notex=\"1\" x=\"0\" y=\"0\" style=\"font-family: 'Open Sans', verdana, arial, sans-serif; font-size: 12px; fill: rgb(255, 255, 255); fill-opacity: 1; white-space: pre;\" transform=\"translate(160,158.49)\">2103</text></g><g class=\"point\"><path d=\"M198.4,256V179.93H249.6V256Z\" style=\"vector-effect: none; opacity: 1; stroke-width: 0.5px; fill: rgb(22, 211, 92); fill-opacity: 1; stroke: rgb(229, 236, 246); stroke-opacity: 1;\"/><text class=\"bartext bartext-inside\" text-anchor=\"middle\" data-notex=\"1\" x=\"0\" y=\"0\" style=\"font-family: 'Open Sans', verdana, arial, sans-serif; font-size: 12px; fill: rgb(255, 255, 255); fill-opacity: 1; white-space: pre;\" transform=\"translate(223.8125,194.93)\">1422</text></g><g class=\"point\"><path d=\"M262.4,256V186.24H313.6V256Z\" style=\"vector-effect: none; opacity: 1; stroke-width: 0.5px; fill: rgb(22, 211, 92); fill-opacity: 1; stroke: rgb(229, 236, 246); stroke-opacity: 1;\"/><text class=\"bartext bartext-inside\" text-anchor=\"middle\" data-notex=\"1\" x=\"0\" y=\"0\" style=\"font-family: 'Open Sans', verdana, arial, sans-serif; font-size: 12px; fill: rgb(255, 255, 255); fill-opacity: 1; white-space: pre;\" transform=\"translate(287.8125,201.24)\">1304</text></g><g class=\"point\"><path d=\"M326.4,256V191.8H377.6V256Z\" style=\"vector-effect: none; opacity: 1; stroke-width: 0.5px; fill: rgb(22, 211, 92); fill-opacity: 1; stroke: rgb(229, 236, 246); stroke-opacity: 1;\"/><text class=\"bartext bartext-inside\" text-anchor=\"middle\" data-notex=\"1\" x=\"0\" y=\"0\" style=\"font-family: 'Open Sans', verdana, arial, sans-serif; font-size: 12px; fill: rgb(255, 255, 255); fill-opacity: 1; white-space: pre;\" transform=\"translate(351.8125,206.8)\">1200</text></g><g class=\"point\"><path d=\"M390.4,256V197.31H441.6V256Z\" style=\"vector-effect: none; opacity: 1; stroke-width: 0.5px; fill: rgb(22, 211, 92); fill-opacity: 1; stroke: rgb(229, 236, 246); stroke-opacity: 1;\"/><text class=\"bartext bartext-inside\" text-anchor=\"middle\" data-notex=\"1\" x=\"0\" y=\"0\" style=\"font-family: 'Open Sans', verdana, arial, sans-serif; font-size: 12px; fill: rgb(255, 255, 255); fill-opacity: 1; white-space: pre;\" transform=\"translate(415.8125,212.31)\">1097</text></g><g class=\"point\"><path d=\"M454.4,256V199.03H505.6V256Z\" style=\"vector-effect: none; opacity: 1; stroke-width: 0.5px; fill: rgb(22, 211, 92); fill-opacity: 1; stroke: rgb(229, 236, 246); stroke-opacity: 1;\"/><text class=\"bartext bartext-inside\" text-anchor=\"middle\" data-notex=\"1\" x=\"0\" y=\"0\" style=\"font-family: 'Open Sans', verdana, arial, sans-serif; font-size: 12px; fill: rgb(255, 255, 255); fill-opacity: 1; white-space: pre;\" transform=\"translate(479.8125,214.03)\">1065</text></g><g class=\"point\"><path d=\"M518.4,256V199.93H569.6V256Z\" style=\"vector-effect: none; opacity: 1; stroke-width: 0.5px; fill: rgb(22, 211, 92); fill-opacity: 1; stroke: rgb(229, 236, 246); stroke-opacity: 1;\"/><text class=\"bartext bartext-inside\" text-anchor=\"middle\" data-notex=\"1\" x=\"0\" y=\"0\" style=\"font-family: 'Open Sans', verdana, arial, sans-serif; font-size: 12px; fill: rgb(255, 255, 255); fill-opacity: 1; white-space: pre;\" transform=\"translate(543.8125,214.93)\">1048</text></g><g class=\"point\"><path d=\"M582.4,256V200.04H633.6V256Z\" style=\"vector-effect: none; opacity: 1; stroke-width: 0.5px; fill: rgb(22, 211, 92); fill-opacity: 1; stroke: rgb(229, 236, 246); stroke-opacity: 1;\"/><text class=\"bartext bartext-inside\" text-anchor=\"middle\" data-notex=\"1\" x=\"0\" y=\"0\" style=\"font-family: 'Open Sans', verdana, arial, sans-serif; font-size: 12px; fill: rgb(255, 255, 255); fill-opacity: 1; white-space: pre;\" transform=\"translate(607.8125,215.04)\">1046</text></g></g></g></g></g><g class=\"overplot\"/><path class=\"xlines-above crisp\" d=\"M0,0\" style=\"fill: none;\"/><path class=\"ylines-above crisp\" d=\"M0,0\" style=\"fill: none;\"/><g class=\"overlines-above\"/><g class=\"xaxislayer-above\"><g class=\"xtick\"><text text-anchor=\"end\" x=\"0\" y=\"369\" transform=\"translate(112,0) rotate(-45,0,363)\" style=\"font-family: 'Open Sans', verdana, arial, sans-serif; font-size: 12px; fill: rgb(42, 63, 95); fill-opacity: 1; white-space: pre; opacity: 1;\">LANY</text></g><g class=\"xtick\"><text text-anchor=\"end\" x=\"0\" y=\"369\" transform=\"translate(176,0) rotate(-45,0,363)\" style=\"font-family: 'Open Sans', verdana, arial, sans-serif; font-size: 12px; fill: rgb(42, 63, 95); fill-opacity: 1; white-space: pre; opacity: 1;\">Taylor Swift</text></g><g class=\"xtick\"><text text-anchor=\"end\" x=\"0\" y=\"369\" transform=\"translate(240,0) rotate(-45,0,363)\" style=\"font-family: 'Open Sans', verdana, arial, sans-serif; font-size: 12px; fill: rgb(42, 63, 95); fill-opacity: 1; white-space: pre; opacity: 1;\">5 Seconds of Summer</text></g><g class=\"xtick\"><text text-anchor=\"end\" x=\"0\" y=\"369\" transform=\"translate(304,0) rotate(-45,0,363)\" style=\"font-family: 'Open Sans', verdana, arial, sans-serif; font-size: 12px; fill: rgb(42, 63, 95); fill-opacity: 1; white-space: pre; opacity: 1;\">Tulus</text></g><g class=\"xtick\"><text text-anchor=\"end\" x=\"0\" y=\"369\" transform=\"translate(368,0) rotate(-45,0,363)\" style=\"font-family: 'Open Sans', verdana, arial, sans-serif; font-size: 12px; fill: rgb(42, 63, 95); fill-opacity: 1; white-space: pre; opacity: 1;\">Kunto Aji</text></g><g class=\"xtick\"><text text-anchor=\"end\" x=\"0\" y=\"369\" transform=\"translate(432,0) rotate(-45,0,363)\" style=\"font-family: 'Open Sans', verdana, arial, sans-serif; font-size: 12px; fill: rgb(42, 63, 95); fill-opacity: 1; white-space: pre; opacity: 1;\">Lofi Fruits Music</text></g><g class=\"xtick\"><text text-anchor=\"end\" x=\"0\" y=\"369\" transform=\"translate(496,0) rotate(-45,0,363)\" style=\"font-family: 'Open Sans', verdana, arial, sans-serif; font-size: 12px; fill: rgb(42, 63, 95); fill-opacity: 1; white-space: pre; opacity: 1;\">Lauv</text></g><g class=\"xtick\"><text text-anchor=\"end\" x=\"0\" y=\"369\" transform=\"translate(560,0) rotate(-45,0,363)\" style=\"font-family: 'Open Sans', verdana, arial, sans-serif; font-size: 12px; fill: rgb(42, 63, 95); fill-opacity: 1; white-space: pre; opacity: 1;\">Hindia</text></g><g class=\"xtick\"><text text-anchor=\"end\" x=\"0\" y=\"369\" transform=\"translate(624,0) rotate(-45,0,363)\" style=\"font-family: 'Open Sans', verdana, arial, sans-serif; font-size: 12px; fill: rgb(42, 63, 95); fill-opacity: 1; white-space: pre; opacity: 1;\">Hayd</text></g><g class=\"xtick\"><text text-anchor=\"end\" x=\"0\" y=\"369\" transform=\"translate(688,0) rotate(-45,0,363)\" style=\"font-family: 'Open Sans', verdana, arial, sans-serif; font-size: 12px; fill: rgb(42, 63, 95); fill-opacity: 1; white-space: pre; opacity: 1;\">Yiruma</text></g></g><g class=\"yaxislayer-above\"><g class=\"ytick\"><text text-anchor=\"end\" x=\"79\" y=\"4.199999999999999\" transform=\"translate(0,356)\" style=\"font-family: 'Open Sans', verdana, arial, sans-serif; font-size: 12px; fill: rgb(42, 63, 95); fill-opacity: 1; white-space: pre; opacity: 1;\">0</text></g><g class=\"ytick\"><text text-anchor=\"end\" x=\"79\" y=\"4.199999999999999\" style=\"font-family: 'Open Sans', verdana, arial, sans-serif; font-size: 12px; fill: rgb(42, 63, 95); fill-opacity: 1; white-space: pre; opacity: 1;\" transform=\"translate(0,302.5)\">1000</text></g><g class=\"ytick\"><text text-anchor=\"end\" x=\"79\" y=\"4.199999999999999\" style=\"font-family: 'Open Sans', verdana, arial, sans-serif; font-size: 12px; fill: rgb(42, 63, 95); fill-opacity: 1; white-space: pre; opacity: 1;\" transform=\"translate(0,249)\">2000</text></g><g class=\"ytick\"><text text-anchor=\"end\" x=\"79\" y=\"4.199999999999999\" style=\"font-family: 'Open Sans', verdana, arial, sans-serif; font-size: 12px; fill: rgb(42, 63, 95); fill-opacity: 1; white-space: pre; opacity: 1;\" transform=\"translate(0,195.51)\">3000</text></g><g class=\"ytick\"><text text-anchor=\"end\" x=\"79\" y=\"4.199999999999999\" style=\"font-family: 'Open Sans', verdana, arial, sans-serif; font-size: 12px; fill: rgb(42, 63, 95); fill-opacity: 1; white-space: pre; opacity: 1;\" transform=\"translate(0,142.01)\">4000</text></g></g><g class=\"overaxes-above\"/></g></g><g class=\"polarlayer\"/><g class=\"smithlayer\"/><g class=\"ternarylayer\"/><g class=\"geolayer\"/><g class=\"funnelarealayer\"/><g class=\"pielayer\"/><g class=\"iciclelayer\"/><g class=\"treemaplayer\"/><g class=\"sunburstlayer\"/><g class=\"glimages\"/><defs id=\"topdefs-d0e75d\"><g class=\"clips\"/></defs><g class=\"layer-above\"><g class=\"imagelayer\"/><g class=\"shapelayer\"><g class=\"shape-group\" data-index=\"0\" clip-path=\"url(#clipd0e75dy)\"><path data-index=\"0\" fill-rule=\"evenodd\" d=\"M80,289.02L720,289.02\" style=\"opacity: 1; stroke: rgb(0, 0, 255); stroke-opacity: 1; fill: rgb(0, 0, 0); fill-opacity: 0; stroke-dasharray: 3px, 3px; stroke-width: 2px;\"/></g></g></g><g class=\"infolayer\"><g class=\"g-gtitle\"><text class=\"gtitle\" x=\"400\" y=\"50\" text-anchor=\"middle\" dy=\"0em\" style=\"font-family: 'Open Sans', verdana, arial, sans-serif; font-size: 17px; fill: rgb(42, 63, 95); opacity: 1; font-weight: normal; white-space: pre;\">Top 20 Most Streamed Artists Based on Play Counts</text></g><g class=\"g-xtitle\"><text class=\"xtitle\" x=\"400\" y=\"487.9962890625\" text-anchor=\"middle\" style=\"font-family: 'Open Sans', verdana, arial, sans-serif; font-size: 14px; fill: rgb(42, 63, 95); opacity: 1; font-weight: normal; white-space: pre;\">Artists</text></g><g class=\"g-ytitle\"><text class=\"ytitle\" transform=\"rotate(-90,24.184375000000003,228)\" x=\"24.184375000000003\" y=\"228\" text-anchor=\"middle\" style=\"font-family: 'Open Sans', verdana, arial, sans-serif; font-size: 14px; fill: rgb(42, 63, 95); opacity: 1; font-weight: normal; white-space: pre;\">Total Streams in Hours</text></g><g class=\"annotation\" data-index=\"0\" style=\"opacity: 1;\"><g class=\"annotation-text-g\" transform=\"rotate(0,647.5,279.52)\"><g class=\"cursor-pointer\" transform=\"translate(575,270)\"><rect class=\"bg\" x=\"0.5\" y=\"0.5\" width=\"144\" height=\"18\" style=\"stroke-width: 1px; stroke: rgb(0, 0, 0); stroke-opacity: 0; fill: rgb(0, 0, 0); fill-opacity: 0;\"/><text class=\"annotation-text\" text-anchor=\"middle\" x=\"72.359375\" y=\"14\" style=\"font-family: 'Open Sans', verdana, arial, sans-serif; font-size: 12px; fill: rgb(42, 63, 95); fill-opacity: 1; white-space: pre;\">Median: 1252.00 hours</text></g></g></g></g></svg>"
      ]
     },
     "metadata": {},
     "output_type": "display_data"
    }
   ],
   "source": [
    "median_play_counts = artist_play_counts.median()\n",
    "\n",
    "# Visualize top artists\n",
    "fig = px.bar(artist_play_counts, x=artist_play_counts.index, y=artist_play_counts.values,\n",
    "             labels={'x': 'Artists', 'y': 'Total Streams'},\n",
    "             title='Top 20 Most Streamed Artists Based on Play Counts')\n",
    "\n",
    "# Define colors using Spotify palette for top 5 tracks, green for others\n",
    "color_scale = ['green' if artist in artist_play_counts.head(3).index else '#16D35C' for artist in artist_play_counts.index]\n",
    "\n",
    "# Update colors and text labels for each bar\n",
    "fig.update_traces(marker_color=color_scale,\n",
    "                  text=artist_play_counts.values, \n",
    "                  textposition='inside', \n",
    "                  textfont=dict(color='white'))\n",
    "\n",
    "# Add median playback duration line\n",
    "fig.add_hline(y=median_play_counts, \n",
    "              line_dash=\"dot\", line_color=\"blue\", \n",
    "              annotation_text=f'Median: {median_play_counts:.2f} hours',\n",
    "              annotation_position=\"top right\")\n",
    "\n",
    "fig.update_layout(xaxis_title='Artists', \n",
    "                  yaxis_title='Total Streams in Hours', \n",
    "                  xaxis_tickangle=-45, showlegend=False, title_x=0.5,\n",
    "                  width=800, height=500)\n",
    "fig.show()"
   ]
  },
  {
   "cell_type": "markdown",
   "metadata": {},
   "source": [
    "### **Analysis of `Albums`**"
   ]
  },
  {
   "cell_type": "code",
   "execution_count": 54,
   "metadata": {},
   "outputs": [],
   "source": [
    "album_playback_duration = spotify_data.groupby('master_metadata_album_album_name')['ms_played'].sum() / (1000 * 60)\n",
    "album_play_counts = spotify_data['master_metadata_album_album_name'].value_counts()"
   ]
  },
  {
   "cell_type": "code",
   "execution_count": 55,
   "metadata": {},
   "outputs": [],
   "source": [
    "# Create a DataFrame with album names, artist names, and play times\n",
    "album_metadata = spotify_data[['master_metadata_album_album_name', 'master_metadata_album_artist_name']]\n",
    "album_metadata.drop_duplicates(inplace=True)  # Remove duplicate rows\n",
    "album_metadata.set_index('master_metadata_album_album_name', inplace=True)\n",
    "\n",
    "# Merge album_metadata with album_playback_duration\n",
    "merged_data = album_metadata.merge(album_playback_duration, left_index=True, right_index=True)\n",
    "\n",
    "# Merge merged_data with album_play_counts\n",
    "merged_data = merged_data.merge(album_play_counts, left_index=True, right_index=True)"
   ]
  },
  {
   "cell_type": "code",
   "execution_count": 56,
   "metadata": {},
   "outputs": [],
   "source": [
    "# Rename the columns for clarity\n",
    "merged_data.columns = ['Artist Name', 'Playback Duration', 'Play Counts']\n",
    "\n",
    "# Reset index to turn the index into a regular column\n",
    "merged_data.reset_index(inplace=True)\n",
    "\n",
    "# Set the desired name for the index column\n",
    "merged_data.rename(columns={'master_metadata_album_album_name': 'Album Name'}, inplace=True)"
   ]
  },
  {
   "cell_type": "code",
   "execution_count": 57,
   "metadata": {},
   "outputs": [
    {
     "name": "stdout",
     "output_type": "stream",
     "text": [
      "\n",
      "Top 20 Albums by Playback Duration (in Minutes):\n",
      "                              Album Name         Artist Name  Playback Duration  Play Counts\n",
      "                               gg bb xx                LANY            3039.83         1084\n",
      "                 Menari Dengan Bayangan              Hindia            2745.03          791\n",
      "                          Malibu Nights                LANY            2528.48          811\n",
      "                             mama's boy                LANY            2519.52          834\n",
      "                              Midnights        Taylor Swift            2417.14          796\n",
      "                          Mantra Mantra           Kunto Aji            2299.69          675\n",
      "                                   LANY                LANY            2278.33          703\n",
      "         The Feeling of Falling Upwards 5 Seconds of Summer            2251.92          593\n",
      "                             logic mess         Arash Buana            1833.99          589\n",
      "                      ~how i'm feeling~                Lauv            1544.70          529\n",
      "                                Manusia               Tulus            1522.54          494\n",
      "                               Konotasi              Fletch            1452.23          387\n",
      "                           Changes - EP                Hayd            1403.58          522\n",
      "                                  5SOS5 5 Seconds of Summer            1369.88          438\n",
      "                               Monokrom               Tulus            1160.88          422\n",
      "                    Selamat Ulang Tahun        Nadin Amizah            1094.41          309\n",
      "                         Selamat Datang           Biru Baru            1032.46          310\n",
      "Yang Patah Tumbuh, Yang Hilang Berganti         Banda Neira            1028.92          203\n",
      "                       a beautiful blur                LANY             980.49          315\n",
      "                           Storytelling       Pathos Humano             972.90          308\n"
     ]
    }
   ],
   "source": [
    "# Group by album name\n",
    "grouped_data = merged_data.groupby('Album Name')\n",
    "\n",
    "# Initialize an empty list to store filtered data\n",
    "filtered_data = []\n",
    "\n",
    "# Iterate through each group\n",
    "for album, group in grouped_data:\n",
    "    # Check if the album has more than one artist\n",
    "    if len(group['Artist Name'].unique()) > 1:\n",
    "        # Take only the first artist entry\n",
    "        filtered_data.append(group.head(1))\n",
    "    else:\n",
    "        # If only one artist, keep all entries\n",
    "        filtered_data.append(group)\n",
    "\n",
    "# Concatenate all filtered groups into a single DataFrame\n",
    "filtered_merged_data = pd.concat(filtered_data)\n",
    "\n",
    "# Show the top 20 albums with the most play time\n",
    "top_albums = filtered_merged_data.nlargest(20, 'Playback Duration')\n",
    "print(\"\\nTop 20 Albums by Playback Duration (in Minutes):\\n\", top_albums.to_string(index=False, float_format=\"{:.2f}\".format))"
   ]
  },
  {
   "cell_type": "code",
   "execution_count": 58,
   "metadata": {},
   "outputs": [
    {
     "data": {
      "image/svg+xml": [
       "<svg class=\"main-svg\" xmlns=\"http://www.w3.org/2000/svg\" xmlns:xlink=\"http://www.w3.org/1999/xlink\" width=\"700\" height=\"500\" style=\"\" viewBox=\"0 0 700 500\"><rect x=\"0\" y=\"0\" width=\"700\" height=\"500\" style=\"fill: rgb(255, 255, 255); fill-opacity: 1;\"/><defs id=\"defs-555072\"><g class=\"clips\"><clipPath id=\"clip555072xyplot\" class=\"plotclip\"><rect width=\"540\" height=\"170\"/></clipPath><clipPath class=\"axesclip\" id=\"clip555072x\"><rect x=\"80\" y=\"0\" width=\"540\" height=\"500\"/></clipPath><clipPath class=\"axesclip\" id=\"clip555072y\"><rect x=\"0\" y=\"100\" width=\"700\" height=\"170\"/></clipPath><clipPath class=\"axesclip\" id=\"clip555072xy\"><rect x=\"80\" y=\"100\" width=\"540\" height=\"170\"/></clipPath></g><g class=\"gradients\"/><g class=\"patterns\"/></defs><g class=\"bglayer\"><rect class=\"bg\" x=\"80\" y=\"100\" width=\"540\" height=\"170\" style=\"fill: rgb(229, 236, 246); fill-opacity: 1; stroke-width: 0;\"/></g><g class=\"layer-below\"><g class=\"imagelayer\"/><g class=\"shapelayer\"/></g><g class=\"cartesianlayer\"><g class=\"subplot xy\"><g class=\"layer-subplot\"><g class=\"shapelayer\"/><g class=\"imagelayer\"/></g><g class=\"minor-gridlayer\"><g class=\"x\"/><g class=\"y\"/></g><g class=\"gridlayer\"><g class=\"x\"/><g class=\"y\"><path class=\"ygrid crisp\" transform=\"translate(0,218.11)\" d=\"M80,0h540\" style=\"stroke: rgb(255, 255, 255); stroke-opacity: 1; stroke-width: 1px;\"/><path class=\"ygrid crisp\" transform=\"translate(0,166.20999999999998)\" d=\"M80,0h540\" style=\"stroke: rgb(255, 255, 255); stroke-opacity: 1; stroke-width: 1px;\"/><path class=\"ygrid crisp\" transform=\"translate(0,114.32)\" d=\"M80,0h540\" style=\"stroke: rgb(255, 255, 255); stroke-opacity: 1; stroke-width: 1px;\"/></g></g><g class=\"zerolinelayer\"><path class=\"yzl zl crisp\" transform=\"translate(0,270)\" d=\"M80,0h540\" style=\"stroke: rgb(255, 255, 255); stroke-opacity: 1; stroke-width: 2px;\"/></g><g class=\"layer-between\"><g class=\"shapelayer\"/><g class=\"imagelayer\"/></g><path class=\"xlines-below\"/><path class=\"ylines-below\"/><g class=\"overlines-below\"/><g class=\"xaxislayer-below\"/><g class=\"yaxislayer-below\"/><g class=\"overaxes-below\"/><g class=\"plot\" transform=\"translate(80,100)\" clip-path=\"url(#clip555072xyplot)\"><g class=\"barlayer mlayer\"><g class=\"trace bars\" style=\"opacity: 1;\"><g class=\"points\"><g class=\"point\"><path d=\"M20.68,170V113.75H40.82V170Z\" style=\"vector-effect: none; opacity: 1; stroke-width: 0.5px; fill: rgb(0, 128, 0); fill-opacity: 1; stroke: rgb(229, 236, 246); stroke-opacity: 1;\"/></g><g class=\"point\"><path d=\"M45.86,170V128.95H66.01V170Z\" style=\"vector-effect: none; opacity: 1; stroke-width: 0.5px; fill: rgb(0, 128, 0); fill-opacity: 1; stroke: rgb(229, 236, 246); stroke-opacity: 1;\"/></g><g class=\"point\"><path d=\"M71.04,170V127.91H91.19V170Z\" style=\"vector-effect: none; opacity: 1; stroke-width: 0.5px; fill: rgb(0, 128, 0); fill-opacity: 1; stroke: rgb(229, 236, 246); stroke-opacity: 1;\"/></g><g class=\"point\"><path d=\"M96.23,170V126.72H116.38V170Z\" style=\"vector-effect: none; opacity: 1; stroke-width: 0.5px; fill: rgb(0, 128, 0); fill-opacity: 1; stroke: rgb(229, 236, 246); stroke-opacity: 1;\"/></g><g class=\"point\"><path d=\"M121.41,170V128.69H141.56V170Z\" style=\"vector-effect: none; opacity: 1; stroke-width: 0.5px; fill: rgb(0, 128, 0); fill-opacity: 1; stroke: rgb(229, 236, 246); stroke-opacity: 1;\"/></g><g class=\"point\"><path d=\"M146.6,170V134.97H166.74V170Z\" style=\"vector-effect: none; opacity: 1; stroke-width: 0.5px; fill: rgb(0, 128, 0); fill-opacity: 1; stroke: rgb(229, 236, 246); stroke-opacity: 1;\"/></g><g class=\"point\"><path d=\"M171.78,170V133.52H191.93V170Z\" style=\"vector-effect: none; opacity: 1; stroke-width: 0.5px; fill: rgb(0, 128, 0); fill-opacity: 1; stroke: rgb(229, 236, 246); stroke-opacity: 1;\"/></g><g class=\"point\"><path d=\"M196.97,170V139.23H217.11V170Z\" style=\"vector-effect: none; opacity: 1; stroke-width: 0.5px; fill: rgb(0, 128, 0); fill-opacity: 1; stroke: rgb(229, 236, 246); stroke-opacity: 1;\"/></g><g class=\"point\"><path d=\"M222.15,170V139.43H242.3V170Z\" style=\"vector-effect: none; opacity: 1; stroke-width: 0.5px; fill: rgb(0, 128, 0); fill-opacity: 1; stroke: rgb(229, 236, 246); stroke-opacity: 1;\"/></g><g class=\"point\"><path d=\"M247.33,170V142.55H267.48V170Z\" style=\"vector-effect: none; opacity: 1; stroke-width: 0.5px; fill: rgb(0, 128, 0); fill-opacity: 1; stroke: rgb(229, 236, 246); stroke-opacity: 1;\"/></g><g class=\"point\"><path d=\"M272.52,170V144.36H292.67V170Z\" style=\"vector-effect: none; opacity: 1; stroke-width: 0.5px; fill: rgb(0, 128, 0); fill-opacity: 1; stroke: rgb(229, 236, 246); stroke-opacity: 1;\"/></g><g class=\"point\"><path d=\"M297.7,170V149.92H317.85V170Z\" style=\"vector-effect: none; opacity: 1; stroke-width: 0.5px; fill: rgb(0, 128, 0); fill-opacity: 1; stroke: rgb(229, 236, 246); stroke-opacity: 1;\"/></g><g class=\"point\"><path d=\"M322.89,170V142.91H343.03V170Z\" style=\"vector-effect: none; opacity: 1; stroke-width: 0.5px; fill: rgb(0, 128, 0); fill-opacity: 1; stroke: rgb(229, 236, 246); stroke-opacity: 1;\"/></g><g class=\"point\"><path d=\"M348.07,170V147.27H368.22V170Z\" style=\"vector-effect: none; opacity: 1; stroke-width: 0.5px; fill: rgb(0, 128, 0); fill-opacity: 1; stroke: rgb(229, 236, 246); stroke-opacity: 1;\"/></g><g class=\"point\"><path d=\"M373.26,170V148.1H393.4V170Z\" style=\"vector-effect: none; opacity: 1; stroke-width: 0.5px; fill: rgb(0, 128, 0); fill-opacity: 1; stroke: rgb(229, 236, 246); stroke-opacity: 1;\"/></g><g class=\"point\"><path d=\"M398.44,170V153.96H418.59V170Z\" style=\"vector-effect: none; opacity: 1; stroke-width: 0.5px; fill: rgb(0, 128, 0); fill-opacity: 1; stroke: rgb(229, 236, 246); stroke-opacity: 1;\"/></g><g class=\"point\"><path d=\"M423.62,170V153.91H443.77V170Z\" style=\"vector-effect: none; opacity: 1; stroke-width: 0.5px; fill: rgb(0, 128, 0); fill-opacity: 1; stroke: rgb(229, 236, 246); stroke-opacity: 1;\"/></g><g class=\"point\"><path d=\"M448.81,170V159.47H468.96V170Z\" style=\"vector-effect: none; opacity: 1; stroke-width: 0.5px; fill: rgb(0, 128, 0); fill-opacity: 1; stroke: rgb(229, 236, 246); stroke-opacity: 1;\"/></g><g class=\"point\"><path d=\"M473.99,170V153.65H494.14V170Z\" style=\"vector-effect: none; opacity: 1; stroke-width: 0.5px; fill: rgb(0, 128, 0); fill-opacity: 1; stroke: rgb(229, 236, 246); stroke-opacity: 1;\"/></g><g class=\"point\"><path d=\"M499.18,170V154.02H519.32V170Z\" style=\"vector-effect: none; opacity: 1; stroke-width: 0.5px; fill: rgb(0, 128, 0); fill-opacity: 1; stroke: rgb(229, 236, 246); stroke-opacity: 1;\"/></g></g></g></g><g class=\"scatterlayer mlayer\"><g class=\"trace scatter traceb27595\" style=\"stroke-miterlimit: 2; opacity: 1;\"><g class=\"fills\"/><g class=\"errorbars\"/><g class=\"lines\"><path class=\"js-line\" d=\"M30.75,12.25L55.93,27.55L81.12,38.79L106.3,39.25L131.49,44.56L156.67,50.66L181.86,51.77L207.04,53.14L232.22,74.83L257.41,89.84L282.59,90.99L307.78,94.64L332.96,97.16L358.14,98.91L383.33,109.76L433.7,116.42L458.88,116.6L484.07,119.12L509.25,119.51\" style=\"vector-effect: none; fill: none; stroke: rgb(0, 0, 255); stroke-opacity: 1; stroke-width: 2px; opacity: 1;\"/></g><g class=\"points\"><path class=\"point\" transform=\"translate(30.75,12.25)\" d=\"M3,0A3,3 0 1,1 0,-3A3,3 0 0,1 3,0Z\" style=\"opacity: 1; stroke-width: 0px; fill: rgb(0, 0, 255); fill-opacity: 1;\"/><path class=\"point\" transform=\"translate(55.93,27.55)\" d=\"M3,0A3,3 0 1,1 0,-3A3,3 0 0,1 3,0Z\" style=\"opacity: 1; stroke-width: 0px; fill: rgb(0, 0, 255); fill-opacity: 1;\"/><path class=\"point\" transform=\"translate(81.12,38.79)\" d=\"M3,0A3,3 0 1,1 0,-3A3,3 0 0,1 3,0Z\" style=\"opacity: 1; stroke-width: 0px; fill: rgb(0, 0, 255); fill-opacity: 1;\"/><path class=\"point\" transform=\"translate(106.3,39.25)\" d=\"M3,0A3,3 0 1,1 0,-3A3,3 0 0,1 3,0Z\" style=\"opacity: 1; stroke-width: 0px; fill: rgb(0, 0, 255); fill-opacity: 1;\"/><path class=\"point\" transform=\"translate(131.49,44.56)\" d=\"M3,0A3,3 0 1,1 0,-3A3,3 0 0,1 3,0Z\" style=\"opacity: 1; stroke-width: 0px; fill: rgb(0, 0, 255); fill-opacity: 1;\"/><path class=\"point\" transform=\"translate(156.67,50.66)\" d=\"M3,0A3,3 0 1,1 0,-3A3,3 0 0,1 3,0Z\" style=\"opacity: 1; stroke-width: 0px; fill: rgb(0, 0, 255); fill-opacity: 1;\"/><path class=\"point\" transform=\"translate(181.86,51.77)\" d=\"M3,0A3,3 0 1,1 0,-3A3,3 0 0,1 3,0Z\" style=\"opacity: 1; stroke-width: 0px; fill: rgb(0, 0, 255); fill-opacity: 1;\"/><path class=\"point\" transform=\"translate(207.04,53.14)\" d=\"M3,0A3,3 0 1,1 0,-3A3,3 0 0,1 3,0Z\" style=\"opacity: 1; stroke-width: 0px; fill: rgb(0, 0, 255); fill-opacity: 1;\"/><path class=\"point\" transform=\"translate(232.22,74.83)\" d=\"M3,0A3,3 0 1,1 0,-3A3,3 0 0,1 3,0Z\" style=\"opacity: 1; stroke-width: 0px; fill: rgb(0, 0, 255); fill-opacity: 1;\"/><path class=\"point\" transform=\"translate(257.41,89.84)\" d=\"M3,0A3,3 0 1,1 0,-3A3,3 0 0,1 3,0Z\" style=\"opacity: 1; stroke-width: 0px; fill: rgb(0, 0, 255); fill-opacity: 1;\"/><path class=\"point\" transform=\"translate(282.59,90.99)\" d=\"M3,0A3,3 0 1,1 0,-3A3,3 0 0,1 3,0Z\" style=\"opacity: 1; stroke-width: 0px; fill: rgb(0, 0, 255); fill-opacity: 1;\"/><path class=\"point\" transform=\"translate(307.78,94.64)\" d=\"M3,0A3,3 0 1,1 0,-3A3,3 0 0,1 3,0Z\" style=\"opacity: 1; stroke-width: 0px; fill: rgb(0, 0, 255); fill-opacity: 1;\"/><path class=\"point\" transform=\"translate(332.96,97.16)\" d=\"M3,0A3,3 0 1,1 0,-3A3,3 0 0,1 3,0Z\" style=\"opacity: 1; stroke-width: 0px; fill: rgb(0, 0, 255); fill-opacity: 1;\"/><path class=\"point\" transform=\"translate(358.14,98.91)\" d=\"M3,0A3,3 0 1,1 0,-3A3,3 0 0,1 3,0Z\" style=\"opacity: 1; stroke-width: 0px; fill: rgb(0, 0, 255); fill-opacity: 1;\"/><path class=\"point\" transform=\"translate(383.33,109.76)\" d=\"M3,0A3,3 0 1,1 0,-3A3,3 0 0,1 3,0Z\" style=\"opacity: 1; stroke-width: 0px; fill: rgb(0, 0, 255); fill-opacity: 1;\"/><path class=\"point\" transform=\"translate(408.51,113.21)\" d=\"M3,0A3,3 0 1,1 0,-3A3,3 0 0,1 3,0Z\" style=\"opacity: 1; stroke-width: 0px; fill: rgb(0, 0, 255); fill-opacity: 1;\"/><path class=\"point\" transform=\"translate(433.7,116.42)\" d=\"M3,0A3,3 0 1,1 0,-3A3,3 0 0,1 3,0Z\" style=\"opacity: 1; stroke-width: 0px; fill: rgb(0, 0, 255); fill-opacity: 1;\"/><path class=\"point\" transform=\"translate(458.88,116.6)\" d=\"M3,0A3,3 0 1,1 0,-3A3,3 0 0,1 3,0Z\" style=\"opacity: 1; stroke-width: 0px; fill: rgb(0, 0, 255); fill-opacity: 1;\"/><path class=\"point\" transform=\"translate(484.07,119.12)\" d=\"M3,0A3,3 0 1,1 0,-3A3,3 0 0,1 3,0Z\" style=\"opacity: 1; stroke-width: 0px; fill: rgb(0, 0, 255); fill-opacity: 1;\"/><path class=\"point\" transform=\"translate(509.25,119.51)\" d=\"M3,0A3,3 0 1,1 0,-3A3,3 0 0,1 3,0Z\" style=\"opacity: 1; stroke-width: 0px; fill: rgb(0, 0, 255); fill-opacity: 1;\"/></g><g class=\"text\"/></g></g></g><g class=\"overplot\"/><path class=\"xlines-above crisp\" d=\"M0,0\" style=\"fill: none;\"/><path class=\"ylines-above crisp\" d=\"M0,0\" style=\"fill: none;\"/><g class=\"overlines-above\"/><g class=\"xaxislayer-above\"><g class=\"xtick\"><text text-anchor=\"end\" x=\"0\" y=\"283\" transform=\"translate(110.75,0) rotate(-45,0,277)\" style=\"font-family: 'Open Sans', verdana, arial, sans-serif; font-size: 12px; fill: rgb(42, 63, 95); fill-opacity: 1; white-space: pre; opacity: 1;\">gg bb xx</text></g><g class=\"xtick\"><text text-anchor=\"end\" x=\"0\" y=\"283\" transform=\"translate(135.93,0) rotate(-45,0,277)\" style=\"font-family: 'Open Sans', verdana, arial, sans-serif; font-size: 12px; fill: rgb(42, 63, 95); fill-opacity: 1; white-space: pre; opacity: 1;\">Menari Dengan Bayangan</text></g><g class=\"xtick\"><text text-anchor=\"end\" x=\"0\" y=\"283\" transform=\"translate(161.12,0) rotate(-45,0,277)\" style=\"font-family: 'Open Sans', verdana, arial, sans-serif; font-size: 12px; fill: rgb(42, 63, 95); fill-opacity: 1; white-space: pre; opacity: 1;\">Malibu Nights</text></g><g class=\"xtick\"><text text-anchor=\"end\" x=\"0\" y=\"283\" transform=\"translate(186.3,0) rotate(-45,0,277)\" style=\"font-family: 'Open Sans', verdana, arial, sans-serif; font-size: 12px; fill: rgb(42, 63, 95); fill-opacity: 1; white-space: pre; opacity: 1;\">mama's boy</text></g><g class=\"xtick\"><text text-anchor=\"end\" x=\"0\" y=\"283\" transform=\"translate(211.49,0) rotate(-45,0,277)\" style=\"font-family: 'Open Sans', verdana, arial, sans-serif; font-size: 12px; fill: rgb(42, 63, 95); fill-opacity: 1; white-space: pre; opacity: 1;\">Midnights</text></g><g class=\"xtick\"><text text-anchor=\"end\" x=\"0\" y=\"283\" transform=\"translate(236.67,0) rotate(-45,0,277)\" style=\"font-family: 'Open Sans', verdana, arial, sans-serif; font-size: 12px; fill: rgb(42, 63, 95); fill-opacity: 1; white-space: pre; opacity: 1;\">Mantra Mantra</text></g><g class=\"xtick\"><text text-anchor=\"end\" x=\"0\" y=\"283\" transform=\"translate(261.86,0) rotate(-45,0,277)\" style=\"font-family: 'Open Sans', verdana, arial, sans-serif; font-size: 12px; fill: rgb(42, 63, 95); fill-opacity: 1; white-space: pre; opacity: 1;\">LANY</text></g><g class=\"xtick\"><text text-anchor=\"end\" x=\"0\" y=\"283\" transform=\"translate(287.03999999999996,0) rotate(-45,0,277)\" style=\"font-family: 'Open Sans', verdana, arial, sans-serif; font-size: 12px; fill: rgb(42, 63, 95); fill-opacity: 1; white-space: pre; opacity: 1;\">The Feeling of Falling Upwards</text></g><g class=\"xtick\"><text text-anchor=\"end\" x=\"0\" y=\"283\" transform=\"translate(312.22,0) rotate(-45,0,277)\" style=\"font-family: 'Open Sans', verdana, arial, sans-serif; font-size: 12px; fill: rgb(42, 63, 95); fill-opacity: 1; white-space: pre; opacity: 1;\">logic mess</text></g><g class=\"xtick\"><text text-anchor=\"end\" x=\"0\" y=\"283\" transform=\"translate(337.41,0) rotate(-45,0,277)\" style=\"font-family: 'Open Sans', verdana, arial, sans-serif; font-size: 12px; fill: rgb(42, 63, 95); fill-opacity: 1; white-space: pre; opacity: 1;\">~how i'm feeling~</text></g><g class=\"xtick\"><text text-anchor=\"end\" x=\"0\" y=\"283\" transform=\"translate(362.59,0) rotate(-45,0,277)\" style=\"font-family: 'Open Sans', verdana, arial, sans-serif; font-size: 12px; fill: rgb(42, 63, 95); fill-opacity: 1; white-space: pre; opacity: 1;\">Manusia</text></g><g class=\"xtick\"><text text-anchor=\"end\" x=\"0\" y=\"283\" transform=\"translate(387.78,0) rotate(-45,0,277)\" style=\"font-family: 'Open Sans', verdana, arial, sans-serif; font-size: 12px; fill: rgb(42, 63, 95); fill-opacity: 1; white-space: pre; opacity: 1;\">Konotasi</text></g><g class=\"xtick\"><text text-anchor=\"end\" x=\"0\" y=\"283\" transform=\"translate(412.96,0) rotate(-45,0,277)\" style=\"font-family: 'Open Sans', verdana, arial, sans-serif; font-size: 12px; fill: rgb(42, 63, 95); fill-opacity: 1; white-space: pre; opacity: 1;\">Changes - EP</text></g><g class=\"xtick\"><text text-anchor=\"end\" x=\"0\" y=\"283\" transform=\"translate(438.14,0) rotate(-45,0,277)\" style=\"font-family: 'Open Sans', verdana, arial, sans-serif; font-size: 12px; fill: rgb(42, 63, 95); fill-opacity: 1; white-space: pre; opacity: 1;\">5SOS5</text></g><g class=\"xtick\"><text text-anchor=\"end\" x=\"0\" y=\"283\" transform=\"translate(463.33,0) rotate(-45,0,277)\" style=\"font-family: 'Open Sans', verdana, arial, sans-serif; font-size: 12px; fill: rgb(42, 63, 95); fill-opacity: 1; white-space: pre; opacity: 1;\">Monokrom</text></g><g class=\"xtick\"><text text-anchor=\"end\" x=\"0\" y=\"283\" transform=\"translate(488.51,0) rotate(-45,0,277)\" style=\"font-family: 'Open Sans', verdana, arial, sans-serif; font-size: 12px; fill: rgb(42, 63, 95); fill-opacity: 1; white-space: pre; opacity: 1;\">Selamat Ulang Tahun</text></g><g class=\"xtick\"><text text-anchor=\"end\" x=\"0\" y=\"283\" transform=\"translate(513.7,0) rotate(-45,0,277)\" style=\"font-family: 'Open Sans', verdana, arial, sans-serif; font-size: 12px; fill: rgb(42, 63, 95); fill-opacity: 1; white-space: pre; opacity: 1;\">Selamat Datang</text></g><g class=\"xtick\"><text text-anchor=\"end\" x=\"0\" y=\"283\" transform=\"translate(538.88,0) rotate(-45,0,277)\" style=\"font-family: 'Open Sans', verdana, arial, sans-serif; font-size: 12px; fill: rgb(42, 63, 95); fill-opacity: 1; white-space: pre; opacity: 1;\">Yang Patah Tumbuh, Yang Hilang Berganti</text></g><g class=\"xtick\"><text text-anchor=\"end\" x=\"0\" y=\"283\" transform=\"translate(564.0699999999999,0) rotate(-45,0,277)\" style=\"font-family: 'Open Sans', verdana, arial, sans-serif; font-size: 12px; fill: rgb(42, 63, 95); fill-opacity: 1; white-space: pre; opacity: 1;\">a beautiful blur</text></g><g class=\"xtick\"><text text-anchor=\"end\" x=\"0\" y=\"283\" transform=\"translate(589.25,0) rotate(-45,0,277)\" style=\"font-family: 'Open Sans', verdana, arial, sans-serif; font-size: 12px; fill: rgb(42, 63, 95); fill-opacity: 1; white-space: pre; opacity: 1;\">Storytelling</text></g></g><g class=\"yaxislayer-above\"><g class=\"ytick\"><text text-anchor=\"end\" x=\"79\" y=\"4.199999999999999\" transform=\"translate(0,270)\" style=\"font-family: 'Open Sans', verdana, arial, sans-serif; font-size: 12px; fill: rgb(0, 128, 0); fill-opacity: 1; white-space: pre; opacity: 1;\">0</text></g><g class=\"ytick\"><text text-anchor=\"end\" x=\"79\" y=\"4.199999999999999\" style=\"font-family: 'Open Sans', verdana, arial, sans-serif; font-size: 12px; fill: rgb(0, 128, 0); fill-opacity: 1; white-space: pre; opacity: 1;\" transform=\"translate(0,218.11)\">1000</text></g><g class=\"ytick\"><text text-anchor=\"end\" x=\"79\" y=\"4.199999999999999\" style=\"font-family: 'Open Sans', verdana, arial, sans-serif; font-size: 12px; fill: rgb(0, 128, 0); fill-opacity: 1; white-space: pre; opacity: 1;\" transform=\"translate(0,166.20999999999998)\">2000</text></g><g class=\"ytick\"><text text-anchor=\"end\" x=\"79\" y=\"4.199999999999999\" style=\"font-family: 'Open Sans', verdana, arial, sans-serif; font-size: 12px; fill: rgb(0, 128, 0); fill-opacity: 1; white-space: pre; opacity: 1;\" transform=\"translate(0,114.32)\">3000</text></g></g><g class=\"overaxes-above\"/></g></g><g class=\"polarlayer\"/><g class=\"smithlayer\"/><g class=\"ternarylayer\"/><g class=\"geolayer\"/><g class=\"funnelarealayer\"/><g class=\"pielayer\"/><g class=\"iciclelayer\"/><g class=\"treemaplayer\"/><g class=\"sunburstlayer\"/><g class=\"glimages\"/><defs id=\"topdefs-555072\"><g class=\"clips\"/><clipPath id=\"legend555072\"><rect width=\"154\" height=\"48\" x=\"0\" y=\"0\"/></clipPath></defs><g class=\"layer-above\"><g class=\"imagelayer\"/><g class=\"shapelayer\"/></g><g class=\"infolayer\"><g class=\"legend\" pointer-events=\"all\" transform=\"translate(80,100)\"><rect class=\"bg\" shape-rendering=\"crispEdges\" style=\"stroke: rgb(255, 255, 255); stroke-opacity: 0; fill: rgb(255, 255, 255); fill-opacity: 0; stroke-width: 0px;\" width=\"154\" height=\"48\" x=\"0\" y=\"0\"/><g class=\"scrollbox\" transform=\"\" clip-path=\"url(#legend555072)\"><g class=\"groups\"><g class=\"traces\" transform=\"translate(0,14.5)\" style=\"opacity: 1;\"><text class=\"legendtext\" text-anchor=\"start\" x=\"40\" y=\"4.680000000000001\" style=\"font-family: 'Open Sans', verdana, arial, sans-serif; font-size: 12px; fill: rgb(42, 63, 95); fill-opacity: 1; white-space: pre;\">Playback Duration</text><g class=\"layers\" style=\"opacity: 1;\"><g class=\"legendfill\"/><g class=\"legendlines\"><path class=\"js-line\" d=\"M5,0h30\" style=\"fill: none; stroke: rgb(0, 0, 255); stroke-opacity: 1; stroke-width: 2px;\"/></g><g class=\"legendsymbols\"><g class=\"legendpoints\"><path class=\"scatterpts\" transform=\"translate(20,0)\" d=\"M3,0A3,3 0 1,1 0,-3A3,3 0 0,1 3,0Z\" style=\"opacity: 1; stroke-width: 0px; fill: rgb(0, 0, 255); fill-opacity: 1;\"/></g></g></g><rect class=\"legendtoggle\" x=\"0\" y=\"-9.5\" width=\"148.859375\" height=\"19\" style=\"fill: rgb(0, 0, 0); fill-opacity: 0;\"/></g><g class=\"traces\" transform=\"translate(0,33.5)\" style=\"opacity: 1;\"><text class=\"legendtext\" text-anchor=\"start\" x=\"40\" y=\"4.680000000000001\" style=\"font-family: 'Open Sans', verdana, arial, sans-serif; font-size: 12px; fill: rgb(42, 63, 95); fill-opacity: 1; white-space: pre;\">Play Counts</text><g class=\"layers\" style=\"opacity: 1;\"><g class=\"legendfill\"/><g class=\"legendlines\"/><g class=\"legendsymbols\"><g class=\"legendpoints\"><path class=\"legendundefined\" d=\"M6,6H-6V-6H6Z\" transform=\"translate(20,0)\" style=\"stroke-width: 0.5px; fill: rgb(0, 128, 0); fill-opacity: 1; stroke: rgb(229, 236, 246); stroke-opacity: 1;\"/></g></g></g><rect class=\"legendtoggle\" x=\"0\" y=\"-9.5\" width=\"148.859375\" height=\"19\" style=\"fill: rgb(0, 0, 0); fill-opacity: 0;\"/></g></g></g><rect class=\"scrollbar\" rx=\"20\" ry=\"3\" width=\"0\" height=\"0\" style=\"fill: rgb(128, 139, 164); fill-opacity: 1;\" x=\"0\" y=\"0\"/></g><g class=\"g-gtitle\"><text class=\"gtitle\" x=\"350\" y=\"50\" text-anchor=\"middle\" dy=\"0em\" style=\"font-family: 'Open Sans', verdana, arial, sans-serif; font-size: 17px; fill: rgb(42, 63, 95); opacity: 1; font-weight: normal; white-space: pre;\">Top 20 Albums by Playback Duration and Play Counts</text></g><g class=\"g-xtitle\"><text class=\"xtitle\" x=\"350\" y=\"487.73359375\" text-anchor=\"middle\" style=\"font-family: 'Open Sans', verdana, arial, sans-serif; font-size: 14px; fill: rgb(42, 63, 95); opacity: 1; font-weight: normal; white-space: pre;\">Album Name</text></g><g class=\"g-ytitle\"><text class=\"ytitle\" transform=\"rotate(-90,24.184375000000003,185)\" x=\"24.184375000000003\" y=\"185\" text-anchor=\"middle\" style=\"font-family: 'Open Sans', verdana, arial, sans-serif; font-size: 14px; fill: rgb(0, 128, 0); opacity: 1; font-weight: normal; white-space: pre;\">Play Counts</text></g></g></svg>"
      ]
     },
     "metadata": {},
     "output_type": "display_data"
    }
   ],
   "source": [
    "import plotly.graph_objects as go\n",
    "\n",
    "# Create traces for playback duration (line) and play counts (bars)\n",
    "trace_duration = go.Scatter(x=top_albums['Album Name'], y=top_albums['Playback Duration'],\n",
    "                            mode='lines+markers', name='Playback Duration', line=dict(color='blue'))\n",
    "trace_counts = go.Bar(x=top_albums['Album Name'], y=top_albums['Play Counts'],\n",
    "                      name='Play Counts', marker=dict(color='green'))\n",
    "\n",
    "# Create layout for the chart with a secondary y-axis\n",
    "layout = go.Layout(title='Top 20 Albums by Playback Duration and Play Counts', title_x=0.5,\n",
    "                   xaxis=dict(title='Album Name', tickangle=-45),\n",
    "                   yaxis=dict(title='Play Counts', side='left', color='green'),\n",
    "                   yaxis2=dict(title='Playback Duration', side='right', overlaying='y', color='blue'),\n",
    "                   legend=dict(x=0, y=1.0, bgcolor='rgba(255, 255, 255, 0)', bordercolor='rgba(255, 255, 255, 0)'),\n",
    "                   barmode='group')\n",
    "\n",
    "fig = go.Figure(data=[trace_duration, trace_counts], layout=layout)\n",
    "fig.show()"
   ]
  },
  {
   "cell_type": "code",
   "execution_count": 59,
   "metadata": {},
   "outputs": [
    {
     "data": {
      "image/svg+xml": [
       "<svg class=\"main-svg\" xmlns=\"http://www.w3.org/2000/svg\" xmlns:xlink=\"http://www.w3.org/1999/xlink\" width=\"700\" height=\"500\" style=\"\" viewBox=\"0 0 700 500\"><rect x=\"0\" y=\"0\" width=\"700\" height=\"500\" style=\"fill: rgb(255, 255, 255); fill-opacity: 1;\"/><defs id=\"defs-a022c4\"><g class=\"clips\"><clipPath id=\"clipa022c4xyplot\" class=\"plotclip\"><rect width=\"540\" height=\"143\"/></clipPath><clipPath id=\"clipa022c4xy2plot\" class=\"plotclip\"><rect width=\"540\" height=\"143\"/></clipPath><clipPath class=\"axesclip\" id=\"clipa022c4x\"><rect x=\"80\" y=\"0\" width=\"540\" height=\"500\"/></clipPath><clipPath class=\"axesclip\" id=\"clipa022c4y\"><rect x=\"0\" y=\"60\" width=\"700\" height=\"143\"/></clipPath><clipPath class=\"axesclip\" id=\"clipa022c4xy\"><rect x=\"80\" y=\"60\" width=\"540\" height=\"143\"/></clipPath><clipPath class=\"axesclip\" id=\"clipa022c4y2\"><rect x=\"0\" y=\"60\" width=\"700\" height=\"143\"/></clipPath><clipPath class=\"axesclip\" id=\"clipa022c4xy2\"><rect x=\"80\" y=\"60\" width=\"540\" height=\"143\"/></clipPath></g><g class=\"gradients\"/><g class=\"patterns\"/></defs><g class=\"bglayer\"><rect class=\"bg\" x=\"80\" y=\"60\" width=\"540\" height=\"143\" style=\"fill: rgb(229, 236, 246); fill-opacity: 1; stroke-width: 0;\"/></g><g class=\"layer-below\"><g class=\"imagelayer\"/><g class=\"shapelayer\"/></g><g class=\"cartesianlayer\"><g class=\"subplot xy\"><g class=\"layer-subplot\"><g class=\"shapelayer\"/><g class=\"imagelayer\"/></g><g class=\"minor-gridlayer\"><g class=\"x\"/><g class=\"y\"/><g class=\"y2\"/></g><g class=\"gridlayer\"><g class=\"x\"/><g class=\"y\"><path class=\"ygrid crisp\" transform=\"translate(0,158.31)\" d=\"M80,0h540\" style=\"stroke: rgb(255, 255, 255); stroke-opacity: 1; stroke-width: 1px;\"/><path class=\"ygrid crisp\" transform=\"translate(0,113.62)\" d=\"M80,0h540\" style=\"stroke: rgb(255, 255, 255); stroke-opacity: 1; stroke-width: 1px;\"/><path class=\"ygrid crisp\" transform=\"translate(0,68.93)\" d=\"M80,0h540\" style=\"stroke: rgb(255, 255, 255); stroke-opacity: 1; stroke-width: 1px;\"/></g><g class=\"y2\"><path class=\"y2grid crisp\" transform=\"translate(0,151.24)\" d=\"M80,0h540\" style=\"stroke: rgb(255, 255, 255); stroke-opacity: 1; stroke-width: 1px;\"/><path class=\"y2grid crisp\" transform=\"translate(0,82.46000000000001)\" d=\"M80,0h540\" style=\"stroke: rgb(255, 255, 255); stroke-opacity: 1; stroke-width: 1px;\"/></g></g><g class=\"zerolinelayer\"><path class=\"yzl zl crisp\" transform=\"translate(0,203)\" d=\"M80,0h540\" style=\"stroke: rgb(255, 255, 255); stroke-opacity: 1; stroke-width: 2px;\"/></g><g class=\"layer-between\"><g class=\"shapelayer\"/><g class=\"imagelayer\"/></g><path class=\"xlines-below\"/><path class=\"ylines-below\"/><g class=\"overlines-below\"><path class=\"xy2-x\"/><path class=\"xy2-y\"/></g><g class=\"xaxislayer-below\"/><g class=\"yaxislayer-below\"/><g class=\"overaxes-below\"><g class=\"xy2-x\"/><g class=\"xy2-y\"/></g><g class=\"plot\" transform=\"translate(80,60)\" clip-path=\"url(#clipa022c4xyplot)\"><g class=\"barlayer mlayer\"><g class=\"trace bars\" style=\"opacity: 1;\"><g class=\"points\"><g class=\"point\"><path d=\"M20.68,143V7.15H40.82V143Z\" style=\"vector-effect: none; opacity: 1; stroke-width: 0.5px; fill: rgb(0, 128, 0); fill-opacity: 1; stroke: rgb(229, 236, 246); stroke-opacity: 1;\"/></g><g class=\"point\"><path d=\"M45.86,143V20.32H66.01V143Z\" style=\"vector-effect: none; opacity: 1; stroke-width: 0.5px; fill: rgb(0, 128, 0); fill-opacity: 1; stroke: rgb(229, 236, 246); stroke-opacity: 1;\"/></g><g class=\"point\"><path d=\"M71.04,143V30H91.19V143Z\" style=\"vector-effect: none; opacity: 1; stroke-width: 0.5px; fill: rgb(0, 128, 0); fill-opacity: 1; stroke: rgb(229, 236, 246); stroke-opacity: 1;\"/></g><g class=\"point\"><path d=\"M96.23,143V30.4H116.38V143Z\" style=\"vector-effect: none; opacity: 1; stroke-width: 0.5px; fill: rgb(0, 128, 0); fill-opacity: 1; stroke: rgb(229, 236, 246); stroke-opacity: 1;\"/></g><g class=\"point\"><path d=\"M121.41,143V34.98H141.56V143Z\" style=\"vector-effect: none; opacity: 1; stroke-width: 0.5px; fill: rgb(0, 128, 0); fill-opacity: 1; stroke: rgb(229, 236, 246); stroke-opacity: 1;\"/></g><g class=\"point\"><path d=\"M146.6,143V40.23H166.74V143Z\" style=\"vector-effect: none; opacity: 1; stroke-width: 0.5px; fill: rgb(0, 128, 0); fill-opacity: 1; stroke: rgb(229, 236, 246); stroke-opacity: 1;\"/></g><g class=\"point\"><path d=\"M171.78,143V41.18H191.93V143Z\" style=\"vector-effect: none; opacity: 1; stroke-width: 0.5px; fill: rgb(0, 128, 0); fill-opacity: 1; stroke: rgb(229, 236, 246); stroke-opacity: 1;\"/></g><g class=\"point\"><path d=\"M196.97,143V42.36H217.11V143Z\" style=\"vector-effect: none; opacity: 1; stroke-width: 0.5px; fill: rgb(0, 128, 0); fill-opacity: 1; stroke: rgb(229, 236, 246); stroke-opacity: 1;\"/></g><g class=\"point\"><path d=\"M222.15,143V61.04H242.3V143Z\" style=\"vector-effect: none; opacity: 1; stroke-width: 0.5px; fill: rgb(0, 128, 0); fill-opacity: 1; stroke: rgb(229, 236, 246); stroke-opacity: 1;\"/></g><g class=\"point\"><path d=\"M247.33,143V73.97H267.48V143Z\" style=\"vector-effect: none; opacity: 1; stroke-width: 0.5px; fill: rgb(0, 128, 0); fill-opacity: 1; stroke: rgb(229, 236, 246); stroke-opacity: 1;\"/></g><g class=\"point\"><path d=\"M272.52,143V74.96H292.67V143Z\" style=\"vector-effect: none; opacity: 1; stroke-width: 0.5px; fill: rgb(0, 128, 0); fill-opacity: 1; stroke: rgb(229, 236, 246); stroke-opacity: 1;\"/></g><g class=\"point\"><path d=\"M297.7,143V78.1H317.85V143Z\" style=\"vector-effect: none; opacity: 1; stroke-width: 0.5px; fill: rgb(0, 128, 0); fill-opacity: 1; stroke: rgb(229, 236, 246); stroke-opacity: 1;\"/></g><g class=\"point\"><path d=\"M322.89,143V80.27H343.03V143Z\" style=\"vector-effect: none; opacity: 1; stroke-width: 0.5px; fill: rgb(0, 128, 0); fill-opacity: 1; stroke: rgb(229, 236, 246); stroke-opacity: 1;\"/></g><g class=\"point\"><path d=\"M348.07,143V81.78H368.22V143Z\" style=\"vector-effect: none; opacity: 1; stroke-width: 0.5px; fill: rgb(0, 128, 0); fill-opacity: 1; stroke: rgb(229, 236, 246); stroke-opacity: 1;\"/></g><g class=\"point\"><path d=\"M373.26,143V91.12H393.4V143Z\" style=\"vector-effect: none; opacity: 1; stroke-width: 0.5px; fill: rgb(0, 128, 0); fill-opacity: 1; stroke: rgb(229, 236, 246); stroke-opacity: 1;\"/></g><g class=\"point\"><path d=\"M398.44,143V94.09H418.59V143Z\" style=\"vector-effect: none; opacity: 1; stroke-width: 0.5px; fill: rgb(0, 128, 0); fill-opacity: 1; stroke: rgb(229, 236, 246); stroke-opacity: 1;\"/></g><g class=\"point\"><path d=\"M423.62,143V96.86H443.77V143Z\" style=\"vector-effect: none; opacity: 1; stroke-width: 0.5px; fill: rgb(0, 128, 0); fill-opacity: 1; stroke: rgb(229, 236, 246); stroke-opacity: 1;\"/></g><g class=\"point\"><path d=\"M448.81,143V97.02H468.96V143Z\" style=\"vector-effect: none; opacity: 1; stroke-width: 0.5px; fill: rgb(0, 128, 0); fill-opacity: 1; stroke: rgb(229, 236, 246); stroke-opacity: 1;\"/></g><g class=\"point\"><path d=\"M473.99,143V99.18H494.14V143Z\" style=\"vector-effect: none; opacity: 1; stroke-width: 0.5px; fill: rgb(0, 128, 0); fill-opacity: 1; stroke: rgb(229, 236, 246); stroke-opacity: 1;\"/></g><g class=\"point\"><path d=\"M499.18,143V99.52H519.32V143Z\" style=\"vector-effect: none; opacity: 1; stroke-width: 0.5px; fill: rgb(0, 128, 0); fill-opacity: 1; stroke: rgb(229, 236, 246); stroke-opacity: 1;\"/></g></g></g></g></g><g class=\"overplot\"><g class=\"xy2\" transform=\"translate(80,60)\" clip-path=\"url(#clipa022c4xy2plot)\"><g class=\"scatterlayer mlayer\"><g class=\"trace scatter trace471e90\" style=\"stroke-miterlimit: 2; opacity: 1;\"><g class=\"fills\"/><g class=\"errorbars\"/><g class=\"lines\"><path class=\"js-line\" d=\"M30.75,10.9L55.93,51.21L81.12,48.46L106.3,45.29L131.49,50.52L156.67,67.17L181.86,63.31L207.04,78.45L232.22,79L257.41,87.25L282.59,92.07L307.78,106.79L332.96,88.21L358.14,99.77L383.33,101.97L408.51,117.52L433.7,117.38L458.88,132.1L484.07,116.69L509.25,117.66\" style=\"vector-effect: none; fill: none; stroke: rgb(154, 205, 50); stroke-opacity: 1; stroke-width: 2px; opacity: 1;\"/></g><g class=\"points\"><path class=\"point\" transform=\"translate(30.75,10.9)\" d=\"M3,0A3,3 0 1,1 0,-3A3,3 0 0,1 3,0Z\" style=\"opacity: 1; stroke-width: 0px; fill: rgb(154, 205, 50); fill-opacity: 1;\"/><path class=\"point\" transform=\"translate(55.93,51.21)\" d=\"M3,0A3,3 0 1,1 0,-3A3,3 0 0,1 3,0Z\" style=\"opacity: 1; stroke-width: 0px; fill: rgb(154, 205, 50); fill-opacity: 1;\"/><path class=\"point\" transform=\"translate(81.12,48.46)\" d=\"M3,0A3,3 0 1,1 0,-3A3,3 0 0,1 3,0Z\" style=\"opacity: 1; stroke-width: 0px; fill: rgb(154, 205, 50); fill-opacity: 1;\"/><path class=\"point\" transform=\"translate(106.3,45.29)\" d=\"M3,0A3,3 0 1,1 0,-3A3,3 0 0,1 3,0Z\" style=\"opacity: 1; stroke-width: 0px; fill: rgb(154, 205, 50); fill-opacity: 1;\"/><path class=\"point\" transform=\"translate(131.49,50.52)\" d=\"M3,0A3,3 0 1,1 0,-3A3,3 0 0,1 3,0Z\" style=\"opacity: 1; stroke-width: 0px; fill: rgb(154, 205, 50); fill-opacity: 1;\"/><path class=\"point\" transform=\"translate(156.67,67.17)\" d=\"M3,0A3,3 0 1,1 0,-3A3,3 0 0,1 3,0Z\" style=\"opacity: 1; stroke-width: 0px; fill: rgb(154, 205, 50); fill-opacity: 1;\"/><path class=\"point\" transform=\"translate(181.86,63.31)\" d=\"M3,0A3,3 0 1,1 0,-3A3,3 0 0,1 3,0Z\" style=\"opacity: 1; stroke-width: 0px; fill: rgb(154, 205, 50); fill-opacity: 1;\"/><path class=\"point\" transform=\"translate(207.04,78.45)\" d=\"M3,0A3,3 0 1,1 0,-3A3,3 0 0,1 3,0Z\" style=\"opacity: 1; stroke-width: 0px; fill: rgb(154, 205, 50); fill-opacity: 1;\"/><path class=\"point\" transform=\"translate(232.22,79)\" d=\"M3,0A3,3 0 1,1 0,-3A3,3 0 0,1 3,0Z\" style=\"opacity: 1; stroke-width: 0px; fill: rgb(154, 205, 50); fill-opacity: 1;\"/><path class=\"point\" transform=\"translate(257.41,87.25)\" d=\"M3,0A3,3 0 1,1 0,-3A3,3 0 0,1 3,0Z\" style=\"opacity: 1; stroke-width: 0px; fill: rgb(154, 205, 50); fill-opacity: 1;\"/><path class=\"point\" transform=\"translate(282.59,92.07)\" d=\"M3,0A3,3 0 1,1 0,-3A3,3 0 0,1 3,0Z\" style=\"opacity: 1; stroke-width: 0px; fill: rgb(154, 205, 50); fill-opacity: 1;\"/><path class=\"point\" transform=\"translate(307.78,106.79)\" d=\"M3,0A3,3 0 1,1 0,-3A3,3 0 0,1 3,0Z\" style=\"opacity: 1; stroke-width: 0px; fill: rgb(154, 205, 50); fill-opacity: 1;\"/><path class=\"point\" transform=\"translate(332.96,88.21)\" d=\"M3,0A3,3 0 1,1 0,-3A3,3 0 0,1 3,0Z\" style=\"opacity: 1; stroke-width: 0px; fill: rgb(154, 205, 50); fill-opacity: 1;\"/><path class=\"point\" transform=\"translate(358.14,99.77)\" d=\"M3,0A3,3 0 1,1 0,-3A3,3 0 0,1 3,0Z\" style=\"opacity: 1; stroke-width: 0px; fill: rgb(154, 205, 50); fill-opacity: 1;\"/><path class=\"point\" transform=\"translate(383.33,101.97)\" d=\"M3,0A3,3 0 1,1 0,-3A3,3 0 0,1 3,0Z\" style=\"opacity: 1; stroke-width: 0px; fill: rgb(154, 205, 50); fill-opacity: 1;\"/><path class=\"point\" transform=\"translate(408.51,117.52)\" d=\"M3,0A3,3 0 1,1 0,-3A3,3 0 0,1 3,0Z\" style=\"opacity: 1; stroke-width: 0px; fill: rgb(154, 205, 50); fill-opacity: 1;\"/><path class=\"point\" transform=\"translate(433.7,117.38)\" d=\"M3,0A3,3 0 1,1 0,-3A3,3 0 0,1 3,0Z\" style=\"opacity: 1; stroke-width: 0px; fill: rgb(154, 205, 50); fill-opacity: 1;\"/><path class=\"point\" transform=\"translate(458.88,132.1)\" d=\"M3,0A3,3 0 1,1 0,-3A3,3 0 0,1 3,0Z\" style=\"opacity: 1; stroke-width: 0px; fill: rgb(154, 205, 50); fill-opacity: 1;\"/><path class=\"point\" transform=\"translate(484.07,116.69)\" d=\"M3,0A3,3 0 1,1 0,-3A3,3 0 0,1 3,0Z\" style=\"opacity: 1; stroke-width: 0px; fill: rgb(154, 205, 50); fill-opacity: 1;\"/><path class=\"point\" transform=\"translate(509.25,117.66)\" d=\"M3,0A3,3 0 1,1 0,-3A3,3 0 0,1 3,0Z\" style=\"opacity: 1; stroke-width: 0px; fill: rgb(154, 205, 50); fill-opacity: 1;\"/></g><g class=\"text\"/></g></g></g></g><path class=\"xlines-above crisp\" d=\"M0,0\" style=\"fill: none;\"/><path class=\"ylines-above crisp\" d=\"M0,0\" style=\"fill: none;\"/><g class=\"overlines-above\"><path class=\"xy2-x crisp\" d=\"M0,0\" style=\"fill: none;\"/><path class=\"xy2-y crisp\" d=\"M0,0\" style=\"fill: none;\"/></g><g class=\"xaxislayer-above\"><g class=\"xtick\"><text text-anchor=\"start\" x=\"0\" y=\"216\" transform=\"translate(110.75,0) rotate(90,0,210)\" style=\"font-family: 'Open Sans', verdana, arial, sans-serif; font-size: 12px; fill: rgb(42, 63, 95); fill-opacity: 1; white-space: pre; opacity: 1;\">gg bb xx</text></g><g class=\"xtick\"><text text-anchor=\"start\" x=\"0\" y=\"216\" transform=\"translate(135.93,0) rotate(90,0,210)\" style=\"font-family: 'Open Sans', verdana, arial, sans-serif; font-size: 12px; fill: rgb(42, 63, 95); fill-opacity: 1; white-space: pre; opacity: 1;\">Menari Dengan Bayangan</text></g><g class=\"xtick\"><text text-anchor=\"start\" x=\"0\" y=\"216\" transform=\"translate(161.12,0) rotate(90,0,210)\" style=\"font-family: 'Open Sans', verdana, arial, sans-serif; font-size: 12px; fill: rgb(42, 63, 95); fill-opacity: 1; white-space: pre; opacity: 1;\">Malibu Nights</text></g><g class=\"xtick\"><text text-anchor=\"start\" x=\"0\" y=\"216\" transform=\"translate(186.3,0) rotate(90,0,210)\" style=\"font-family: 'Open Sans', verdana, arial, sans-serif; font-size: 12px; fill: rgb(42, 63, 95); fill-opacity: 1; white-space: pre; opacity: 1;\">mama's boy</text></g><g class=\"xtick\"><text text-anchor=\"start\" x=\"0\" y=\"216\" transform=\"translate(211.49,0) rotate(90,0,210)\" style=\"font-family: 'Open Sans', verdana, arial, sans-serif; font-size: 12px; fill: rgb(42, 63, 95); fill-opacity: 1; white-space: pre; opacity: 1;\">Midnights</text></g><g class=\"xtick\"><text text-anchor=\"start\" x=\"0\" y=\"216\" transform=\"translate(236.67,0) rotate(90,0,210)\" style=\"font-family: 'Open Sans', verdana, arial, sans-serif; font-size: 12px; fill: rgb(42, 63, 95); fill-opacity: 1; white-space: pre; opacity: 1;\">Mantra Mantra</text></g><g class=\"xtick\"><text text-anchor=\"start\" x=\"0\" y=\"216\" transform=\"translate(261.86,0) rotate(90,0,210)\" style=\"font-family: 'Open Sans', verdana, arial, sans-serif; font-size: 12px; fill: rgb(42, 63, 95); fill-opacity: 1; white-space: pre; opacity: 1;\">LANY</text></g><g class=\"xtick\"><text text-anchor=\"start\" x=\"0\" y=\"216\" transform=\"translate(287.03999999999996,0) rotate(90,0,210)\" style=\"font-family: 'Open Sans', verdana, arial, sans-serif; font-size: 12px; fill: rgb(42, 63, 95); fill-opacity: 1; white-space: pre; opacity: 1;\">The Feeling of Falling Upwards</text></g><g class=\"xtick\"><text text-anchor=\"start\" x=\"0\" y=\"216\" transform=\"translate(312.22,0) rotate(90,0,210)\" style=\"font-family: 'Open Sans', verdana, arial, sans-serif; font-size: 12px; fill: rgb(42, 63, 95); fill-opacity: 1; white-space: pre; opacity: 1;\">logic mess</text></g><g class=\"xtick\"><text text-anchor=\"start\" x=\"0\" y=\"216\" transform=\"translate(337.41,0) rotate(90,0,210)\" style=\"font-family: 'Open Sans', verdana, arial, sans-serif; font-size: 12px; fill: rgb(42, 63, 95); fill-opacity: 1; white-space: pre; opacity: 1;\">~how i'm feeling~</text></g><g class=\"xtick\"><text text-anchor=\"start\" x=\"0\" y=\"216\" transform=\"translate(362.59,0) rotate(90,0,210)\" style=\"font-family: 'Open Sans', verdana, arial, sans-serif; font-size: 12px; fill: rgb(42, 63, 95); fill-opacity: 1; white-space: pre; opacity: 1;\">Manusia</text></g><g class=\"xtick\"><text text-anchor=\"start\" x=\"0\" y=\"216\" transform=\"translate(387.78,0) rotate(90,0,210)\" style=\"font-family: 'Open Sans', verdana, arial, sans-serif; font-size: 12px; fill: rgb(42, 63, 95); fill-opacity: 1; white-space: pre; opacity: 1;\">Konotasi</text></g><g class=\"xtick\"><text text-anchor=\"start\" x=\"0\" y=\"216\" transform=\"translate(412.96,0) rotate(90,0,210)\" style=\"font-family: 'Open Sans', verdana, arial, sans-serif; font-size: 12px; fill: rgb(42, 63, 95); fill-opacity: 1; white-space: pre; opacity: 1;\">Changes - EP</text></g><g class=\"xtick\"><text text-anchor=\"start\" x=\"0\" y=\"216\" transform=\"translate(438.14,0) rotate(90,0,210)\" style=\"font-family: 'Open Sans', verdana, arial, sans-serif; font-size: 12px; fill: rgb(42, 63, 95); fill-opacity: 1; white-space: pre; opacity: 1;\">5SOS5</text></g><g class=\"xtick\"><text text-anchor=\"start\" x=\"0\" y=\"216\" transform=\"translate(463.33,0) rotate(90,0,210)\" style=\"font-family: 'Open Sans', verdana, arial, sans-serif; font-size: 12px; fill: rgb(42, 63, 95); fill-opacity: 1; white-space: pre; opacity: 1;\">Monokrom</text></g><g class=\"xtick\"><text text-anchor=\"start\" x=\"0\" y=\"216\" transform=\"translate(488.51,0) rotate(90,0,210)\" style=\"font-family: 'Open Sans', verdana, arial, sans-serif; font-size: 12px; fill: rgb(42, 63, 95); fill-opacity: 1; white-space: pre; opacity: 1;\">Selamat Ulang Tahun</text></g><g class=\"xtick\"><text text-anchor=\"start\" x=\"0\" y=\"216\" transform=\"translate(513.7,0) rotate(90,0,210)\" style=\"font-family: 'Open Sans', verdana, arial, sans-serif; font-size: 12px; fill: rgb(42, 63, 95); fill-opacity: 1; white-space: pre; opacity: 1;\">Selamat Datang</text></g><g class=\"xtick\"><text text-anchor=\"start\" x=\"0\" y=\"216\" transform=\"translate(538.88,0) rotate(90,0,210)\" style=\"font-family: 'Open Sans', verdana, arial, sans-serif; font-size: 12px; fill: rgb(42, 63, 95); fill-opacity: 1; white-space: pre; opacity: 1;\">Yang Patah Tumbuh, Yang Hilang Berganti</text></g><g class=\"xtick\"><text text-anchor=\"start\" x=\"0\" y=\"216\" transform=\"translate(564.0699999999999,0) rotate(90,0,210)\" style=\"font-family: 'Open Sans', verdana, arial, sans-serif; font-size: 12px; fill: rgb(42, 63, 95); fill-opacity: 1; white-space: pre; opacity: 1;\">a beautiful blur</text></g><g class=\"xtick\"><text text-anchor=\"start\" x=\"0\" y=\"216\" transform=\"translate(589.25,0) rotate(90,0,210)\" style=\"font-family: 'Open Sans', verdana, arial, sans-serif; font-size: 12px; fill: rgb(42, 63, 95); fill-opacity: 1; white-space: pre; opacity: 1;\">Storytelling</text></g></g><g class=\"yaxislayer-above\"><g class=\"ytick\"><text text-anchor=\"end\" x=\"79\" y=\"4.199999999999999\" transform=\"translate(0,203)\" style=\"font-family: 'Open Sans', verdana, arial, sans-serif; font-size: 12px; fill: rgb(0, 128, 0); fill-opacity: 1; white-space: pre; opacity: 1;\">0</text></g><g class=\"ytick\"><text text-anchor=\"end\" x=\"79\" y=\"4.199999999999999\" style=\"font-family: 'Open Sans', verdana, arial, sans-serif; font-size: 12px; fill: rgb(0, 128, 0); fill-opacity: 1; white-space: pre; opacity: 1;\" transform=\"translate(0,158.31)\">1000</text></g><g class=\"ytick\"><text text-anchor=\"end\" x=\"79\" y=\"4.199999999999999\" style=\"font-family: 'Open Sans', verdana, arial, sans-serif; font-size: 12px; fill: rgb(0, 128, 0); fill-opacity: 1; white-space: pre; opacity: 1;\" transform=\"translate(0,113.62)\">2000</text></g><g class=\"ytick\"><text text-anchor=\"end\" x=\"79\" y=\"4.199999999999999\" style=\"font-family: 'Open Sans', verdana, arial, sans-serif; font-size: 12px; fill: rgb(0, 128, 0); fill-opacity: 1; white-space: pre; opacity: 1;\" transform=\"translate(0,68.93)\">3000</text></g></g><g class=\"overaxes-above\"><g class=\"xy2-x\"/><g class=\"xy2-y\"><g class=\"y2tick\"><text text-anchor=\"start\" x=\"621\" y=\"4.199999999999999\" transform=\"translate(0,151.24)\" style=\"font-family: 'Open Sans', verdana, arial, sans-serif; font-size: 12px; fill: rgb(154, 205, 50); fill-opacity: 1; white-space: pre; opacity: 1;\">500</text></g><g class=\"y2tick\"><text text-anchor=\"start\" x=\"621\" y=\"4.199999999999999\" style=\"font-family: 'Open Sans', verdana, arial, sans-serif; font-size: 12px; fill: rgb(154, 205, 50); fill-opacity: 1; white-space: pre; opacity: 1;\" transform=\"translate(0,82.46000000000001)\">1000</text></g></g></g></g><g class=\"subplot xy2\"/></g><g class=\"polarlayer\"/><g class=\"smithlayer\"/><g class=\"ternarylayer\"/><g class=\"geolayer\"/><g class=\"funnelarealayer\"/><g class=\"pielayer\"/><g class=\"iciclelayer\"/><g class=\"treemaplayer\"/><g class=\"sunburstlayer\"/><g class=\"glimages\"/><defs id=\"topdefs-a022c4\"><g class=\"clips\"/></defs><g class=\"layer-above\"><g class=\"imagelayer\"/><g class=\"shapelayer\"/></g><g class=\"infolayer\"><g class=\"g-gtitle\"><text class=\"gtitle\" x=\"350\" y=\"30\" text-anchor=\"middle\" dy=\"0em\" style=\"font-family: 'Open Sans', verdana, arial, sans-serif; font-size: 17px; fill: rgb(42, 63, 95); opacity: 1; font-weight: normal; white-space: pre;\">Top 20 Albums by Playback Duration and Play Counts</text></g><g class=\"g-xtitle\"><text class=\"xtitle\" x=\"350\" y=\"487.95625\" text-anchor=\"middle\" style=\"font-family: 'Open Sans', verdana, arial, sans-serif; font-size: 14px; fill: rgb(42, 63, 95); opacity: 1; font-weight: normal; white-space: pre;\">Album Name</text></g><g class=\"g-ytitle\"><text class=\"ytitle\" transform=\"rotate(-90,24.184375000000003,131.5)\" x=\"24.184375000000003\" y=\"131.5\" text-anchor=\"middle\" style=\"font-family: 'Open Sans', verdana, arial, sans-serif; font-size: 14px; fill: rgb(0, 128, 0); opacity: 1; font-weight: normal; white-space: pre;\">Playback Duration</text></g><g class=\"g-y2title\"><text class=\"y2title\" transform=\"rotate(-90,676.190625,131.5)\" x=\"676.190625\" y=\"131.5\" text-anchor=\"middle\" style=\"font-family: 'Open Sans', verdana, arial, sans-serif; font-size: 14px; fill: rgb(154, 205, 50); opacity: 1; font-weight: normal; white-space: pre;\">Play Counts</text></g></g></svg>"
      ]
     },
     "metadata": {},
     "output_type": "display_data"
    }
   ],
   "source": [
    "# Create a bar plot for playback duration\n",
    "fig = px.bar(top_albums, x='Album Name', y='Playback Duration',\n",
    "             color_discrete_sequence=['green'], labels={'Playback Duration': 'Playback Duration'})\n",
    "\n",
    "# Add a line plot for play counts\n",
    "fig.add_scatter(x=top_albums['Album Name'], y=top_albums['Play Counts'], \n",
    "                mode='lines+markers', name='Play Counts', yaxis='y2', line=dict(color='yellowgreen'))\n",
    "\n",
    "# Update layout with secondary y-axis and remove legend\n",
    "fig.update_layout(title='Top 20 Albums by Playback Duration and Play Counts', title_x=0.5,\n",
    "                  xaxis_title='Album Name', yaxis_title='Playback Duration',\n",
    "                  yaxis=dict(title='Playback Duration', color='green'),\n",
    "                  yaxis2=dict(title='Play Counts', color='yellowgreen', overlaying='y', side='right'),\n",
    "                  showlegend=False)\n",
    "\n",
    "fig.update_traces(hovertemplate=\"<b>%{x}</b><br>Playback Duration: %{y:.2f}<extra></extra>\", selector=dict(type='bar')) # Hover data for the bar plot\n",
    "fig.update_traces(hovertemplate=\"<b>%{x}</b><br>Play Counts: %{y}<extra></extra>\", selector=dict(type='scatter')) # Hover data for the line plot\n",
    "fig.show()"
   ]
  },
  {
   "cell_type": "markdown",
   "metadata": {},
   "source": [
    "### **Analysis of `Tracks`**"
   ]
  },
  {
   "cell_type": "markdown",
   "metadata": {},
   "source": [
    "#### **Yearly Music Analysis Trend Overview**"
   ]
  },
  {
   "cell_type": "code",
   "execution_count": 60,
   "metadata": {},
   "outputs": [],
   "source": [
    "# Extract year from timestamp\n",
    "spotify_data['year'] = spotify_data['ts'].dt.year\n",
    "\n",
    "# Group the data by year and count the number of songs\n",
    "grouped_data = spotify_data.groupby('year').size().reset_index(name='song_count')\n",
    "\n",
    "# Sort the data by year\n",
    "grouped_data = grouped_data.sort_values(by='year')"
   ]
  },
  {
   "cell_type": "code",
   "execution_count": 61,
   "metadata": {},
   "outputs": [
    {
     "data": {
      "image/svg+xml": [
       "<svg class=\"main-svg\" xmlns=\"http://www.w3.org/2000/svg\" xmlns:xlink=\"http://www.w3.org/1999/xlink\" width=\"800\" height=\"500\" style=\"\" viewBox=\"0 0 800 500\"><rect x=\"0\" y=\"0\" width=\"800\" height=\"500\" style=\"fill: rgb(255, 255, 255); fill-opacity: 1;\"/><defs id=\"defs-a02e69\"><g class=\"clips\"><clipPath id=\"clipa02e69xyplot\" class=\"plotclip\"><rect width=\"640\" height=\"360\"/></clipPath><clipPath class=\"axesclip\" id=\"clipa02e69x\"><rect x=\"80\" y=\"0\" width=\"640\" height=\"500\"/></clipPath><clipPath class=\"axesclip\" id=\"clipa02e69y\"><rect x=\"0\" y=\"60\" width=\"800\" height=\"360\"/></clipPath><clipPath class=\"axesclip\" id=\"clipa02e69xy\"><rect x=\"80\" y=\"60\" width=\"640\" height=\"360\"/></clipPath></g><g class=\"gradients\"/><g class=\"patterns\"/></defs><g class=\"bglayer\"><rect class=\"bg\" x=\"80\" y=\"60\" width=\"640\" height=\"360\" style=\"fill: rgb(229, 236, 246); fill-opacity: 1; stroke-width: 0;\"/></g><g class=\"layer-below\"><g class=\"imagelayer\"/><g class=\"shapelayer\"/></g><g class=\"cartesianlayer\"><g class=\"subplot xy\"><g class=\"layer-subplot\"><g class=\"shapelayer\"/><g class=\"imagelayer\"/></g><g class=\"minor-gridlayer\"><g class=\"x\"/><g class=\"y\"/></g><g class=\"gridlayer\"><g class=\"x\"><path class=\"xgrid crisp\" transform=\"translate(115.75,0)\" d=\"M0,60v360\" style=\"stroke: rgb(255, 255, 255); stroke-opacity: 1; stroke-width: 1px;\"/><path class=\"xgrid crisp\" transform=\"translate(229.45,0)\" d=\"M0,60v360\" style=\"stroke: rgb(255, 255, 255); stroke-opacity: 1; stroke-width: 1px;\"/><path class=\"xgrid crisp\" transform=\"translate(343.15,0)\" d=\"M0,60v360\" style=\"stroke: rgb(255, 255, 255); stroke-opacity: 1; stroke-width: 1px;\"/><path class=\"xgrid crisp\" transform=\"translate(456.85,0)\" d=\"M0,60v360\" style=\"stroke: rgb(255, 255, 255); stroke-opacity: 1; stroke-width: 1px;\"/><path class=\"xgrid crisp\" transform=\"translate(570.55,0)\" d=\"M0,60v360\" style=\"stroke: rgb(255, 255, 255); stroke-opacity: 1; stroke-width: 1px;\"/><path class=\"xgrid crisp\" transform=\"translate(684.25,0)\" d=\"M0,60v360\" style=\"stroke: rgb(255, 255, 255); stroke-opacity: 1; stroke-width: 1px;\"/></g><g class=\"y\"><path class=\"ygrid crisp\" transform=\"translate(0,380.71)\" d=\"M80,0h640\" style=\"stroke: rgb(255, 255, 255); stroke-opacity: 1; stroke-width: 1px;\"/><path class=\"ygrid crisp\" transform=\"translate(0,341.42)\" d=\"M80,0h640\" style=\"stroke: rgb(255, 255, 255); stroke-opacity: 1; stroke-width: 1px;\"/><path class=\"ygrid crisp\" transform=\"translate(0,302.12)\" d=\"M80,0h640\" style=\"stroke: rgb(255, 255, 255); stroke-opacity: 1; stroke-width: 1px;\"/><path class=\"ygrid crisp\" transform=\"translate(0,262.83000000000004)\" d=\"M80,0h640\" style=\"stroke: rgb(255, 255, 255); stroke-opacity: 1; stroke-width: 1px;\"/><path class=\"ygrid crisp\" transform=\"translate(0,223.54)\" d=\"M80,0h640\" style=\"stroke: rgb(255, 255, 255); stroke-opacity: 1; stroke-width: 1px;\"/><path class=\"ygrid crisp\" transform=\"translate(0,184.25)\" d=\"M80,0h640\" style=\"stroke: rgb(255, 255, 255); stroke-opacity: 1; stroke-width: 1px;\"/><path class=\"ygrid crisp\" transform=\"translate(0,144.95)\" d=\"M80,0h640\" style=\"stroke: rgb(255, 255, 255); stroke-opacity: 1; stroke-width: 1px;\"/><path class=\"ygrid crisp\" transform=\"translate(0,105.66)\" d=\"M80,0h640\" style=\"stroke: rgb(255, 255, 255); stroke-opacity: 1; stroke-width: 1px;\"/><path class=\"ygrid crisp\" transform=\"translate(0,66.37)\" d=\"M80,0h640\" style=\"stroke: rgb(255, 255, 255); stroke-opacity: 1; stroke-width: 1px;\"/></g></g><g class=\"zerolinelayer\"><path class=\"yzl zl crisp\" transform=\"translate(0,420)\" d=\"M80,0h640\" style=\"stroke: rgb(255, 255, 255); stroke-opacity: 1; stroke-width: 2px;\"/></g><g class=\"layer-between\"><g class=\"shapelayer\"/><g class=\"imagelayer\"/></g><path class=\"xlines-below\"/><path class=\"ylines-below\"/><g class=\"overlines-below\"/><g class=\"xaxislayer-below\"/><g class=\"yaxislayer-below\"/><g class=\"overaxes-below\"/><g class=\"plot\" transform=\"translate(80,60)\" clip-path=\"url(#clipa02e69xyplot)\"><g class=\"scatterlayer mlayer\"><g class=\"trace scatter trace5b2f3a\" style=\"stroke-miterlimit: 2; opacity: 1;\"><g class=\"fills\"/><g class=\"errorbars\"/><g class=\"lines\"><path class=\"js-line\" d=\"M35.75,314.27L149.45,267.91L263.15,198.33L376.85,42.56L490.55,32.73L604.25,288.18\" style=\"vector-effect: none; fill: none; stroke: rgb(0, 128, 0); stroke-opacity: 1; stroke-width: 2px; opacity: 1;\"/></g><g class=\"points\"><path class=\"point\" transform=\"translate(35.75,314.27)\" d=\"M3,0A3,3 0 1,1 0,-3A3,3 0 0,1 3,0Z\" style=\"opacity: 1; stroke-width: 0px; fill: rgb(0, 128, 0); fill-opacity: 1;\"/><path class=\"point\" transform=\"translate(149.45,267.91)\" d=\"M3,0A3,3 0 1,1 0,-3A3,3 0 0,1 3,0Z\" style=\"opacity: 1; stroke-width: 0px; fill: rgb(0, 128, 0); fill-opacity: 1;\"/><path class=\"point\" transform=\"translate(263.15,198.33)\" d=\"M3,0A3,3 0 1,1 0,-3A3,3 0 0,1 3,0Z\" style=\"opacity: 1; stroke-width: 0px; fill: rgb(0, 128, 0); fill-opacity: 1;\"/><path class=\"point\" transform=\"translate(376.85,42.56)\" d=\"M3,0A3,3 0 1,1 0,-3A3,3 0 0,1 3,0Z\" style=\"opacity: 1; stroke-width: 0px; fill: rgb(0, 128, 0); fill-opacity: 1;\"/><path class=\"point\" transform=\"translate(490.55,32.73)\" d=\"M3,0A3,3 0 1,1 0,-3A3,3 0 0,1 3,0Z\" style=\"opacity: 1; stroke-width: 0px; fill: rgb(0, 128, 0); fill-opacity: 1;\"/><path class=\"point\" transform=\"translate(604.25,288.18)\" d=\"M3,0A3,3 0 1,1 0,-3A3,3 0 0,1 3,0Z\" style=\"opacity: 1; stroke-width: 0px; fill: rgb(0, 128, 0); fill-opacity: 1;\"/></g><g class=\"text\"/></g></g></g><g class=\"overplot\"/><path class=\"xlines-above crisp\" d=\"M0,0\" style=\"fill: none;\"/><path class=\"ylines-above crisp\" d=\"M0,0\" style=\"fill: none;\"/><g class=\"overlines-above\"/><g class=\"xaxislayer-above\"><g class=\"xtick\"><text text-anchor=\"middle\" x=\"0\" y=\"433\" transform=\"translate(115.75,0)\" style=\"font-family: 'Open Sans', verdana, arial, sans-serif; font-size: 12px; fill: rgb(42, 63, 95); fill-opacity: 1; white-space: pre; opacity: 1;\">2019</text></g><g class=\"xtick\"><text text-anchor=\"middle\" x=\"0\" y=\"433\" style=\"font-family: 'Open Sans', verdana, arial, sans-serif; font-size: 12px; fill: rgb(42, 63, 95); fill-opacity: 1; white-space: pre; opacity: 1;\" transform=\"translate(229.45,0)\">2020</text></g><g class=\"xtick\"><text text-anchor=\"middle\" x=\"0\" y=\"433\" style=\"font-family: 'Open Sans', verdana, arial, sans-serif; font-size: 12px; fill: rgb(42, 63, 95); fill-opacity: 1; white-space: pre; opacity: 1;\" transform=\"translate(343.15,0)\">2021</text></g><g class=\"xtick\"><text text-anchor=\"middle\" x=\"0\" y=\"433\" style=\"font-family: 'Open Sans', verdana, arial, sans-serif; font-size: 12px; fill: rgb(42, 63, 95); fill-opacity: 1; white-space: pre; opacity: 1;\" transform=\"translate(456.85,0)\">2022</text></g><g class=\"xtick\"><text text-anchor=\"middle\" x=\"0\" y=\"433\" style=\"font-family: 'Open Sans', verdana, arial, sans-serif; font-size: 12px; fill: rgb(42, 63, 95); fill-opacity: 1; white-space: pre; opacity: 1;\" transform=\"translate(570.55,0)\">2023</text></g><g class=\"xtick\"><text text-anchor=\"middle\" x=\"0\" y=\"433\" style=\"font-family: 'Open Sans', verdana, arial, sans-serif; font-size: 12px; fill: rgb(42, 63, 95); fill-opacity: 1; white-space: pre; opacity: 1;\" transform=\"translate(684.25,0)\">2024</text></g></g><g class=\"yaxislayer-above\"><g class=\"ytick\"><text text-anchor=\"end\" x=\"79\" y=\"4.199999999999999\" transform=\"translate(0,420)\" style=\"font-family: 'Open Sans', verdana, arial, sans-serif; font-size: 12px; fill: rgb(42, 63, 95); fill-opacity: 1; white-space: pre; opacity: 1;\">0</text></g><g class=\"ytick\"><text text-anchor=\"end\" x=\"79\" y=\"4.199999999999999\" style=\"font-family: 'Open Sans', verdana, arial, sans-serif; font-size: 12px; fill: rgb(42, 63, 95); fill-opacity: 1; white-space: pre; opacity: 1;\" transform=\"translate(0,380.71)\">5,000</text></g><g class=\"ytick\"><text text-anchor=\"end\" x=\"79\" y=\"4.199999999999999\" style=\"font-family: 'Open Sans', verdana, arial, sans-serif; font-size: 12px; fill: rgb(42, 63, 95); fill-opacity: 1; white-space: pre; opacity: 1;\" transform=\"translate(0,341.42)\">10,000</text></g><g class=\"ytick\"><text text-anchor=\"end\" x=\"79\" y=\"4.199999999999999\" style=\"font-family: 'Open Sans', verdana, arial, sans-serif; font-size: 12px; fill: rgb(42, 63, 95); fill-opacity: 1; white-space: pre; opacity: 1;\" transform=\"translate(0,302.12)\">15,000</text></g><g class=\"ytick\"><text text-anchor=\"end\" x=\"79\" y=\"4.199999999999999\" style=\"font-family: 'Open Sans', verdana, arial, sans-serif; font-size: 12px; fill: rgb(42, 63, 95); fill-opacity: 1; white-space: pre; opacity: 1;\" transform=\"translate(0,262.83000000000004)\">20,000</text></g><g class=\"ytick\"><text text-anchor=\"end\" x=\"79\" y=\"4.199999999999999\" style=\"font-family: 'Open Sans', verdana, arial, sans-serif; font-size: 12px; fill: rgb(42, 63, 95); fill-opacity: 1; white-space: pre; opacity: 1;\" transform=\"translate(0,223.54)\">25,000</text></g><g class=\"ytick\"><text text-anchor=\"end\" x=\"79\" y=\"4.199999999999999\" style=\"font-family: 'Open Sans', verdana, arial, sans-serif; font-size: 12px; fill: rgb(42, 63, 95); fill-opacity: 1; white-space: pre; opacity: 1;\" transform=\"translate(0,184.25)\">30,000</text></g><g class=\"ytick\"><text text-anchor=\"end\" x=\"79\" y=\"4.199999999999999\" style=\"font-family: 'Open Sans', verdana, arial, sans-serif; font-size: 12px; fill: rgb(42, 63, 95); fill-opacity: 1; white-space: pre; opacity: 1;\" transform=\"translate(0,144.95)\">35,000</text></g><g class=\"ytick\"><text text-anchor=\"end\" x=\"79\" y=\"4.199999999999999\" style=\"font-family: 'Open Sans', verdana, arial, sans-serif; font-size: 12px; fill: rgb(42, 63, 95); fill-opacity: 1; white-space: pre; opacity: 1;\" transform=\"translate(0,105.66)\">40,000</text></g><g class=\"ytick\"><text text-anchor=\"end\" x=\"79\" y=\"4.199999999999999\" style=\"font-family: 'Open Sans', verdana, arial, sans-serif; font-size: 12px; fill: rgb(42, 63, 95); fill-opacity: 1; white-space: pre; opacity: 1;\" transform=\"translate(0,66.37)\">45,000</text></g></g><g class=\"overaxes-above\"/></g></g><g class=\"polarlayer\"/><g class=\"smithlayer\"/><g class=\"ternarylayer\"/><g class=\"geolayer\"/><g class=\"funnelarealayer\"/><g class=\"pielayer\"/><g class=\"iciclelayer\"/><g class=\"treemaplayer\"/><g class=\"sunburstlayer\"/><g class=\"glimages\"/><defs id=\"topdefs-a02e69\"><g class=\"clips\"/></defs><g class=\"layer-above\"><g class=\"imagelayer\"/><g class=\"shapelayer\"/></g><g class=\"infolayer\"><g class=\"g-gtitle\"><text class=\"gtitle\" x=\"400\" y=\"30\" text-anchor=\"middle\" dy=\"0em\" style=\"font-family: 'Open Sans', verdana, arial, sans-serif; font-size: 17px; fill: rgb(42, 63, 95); opacity: 1; font-weight: normal; white-space: pre;\">Yearly Music Listening Trends</text></g><g class=\"g-xtitle\"><text class=\"xtitle\" x=\"400\" y=\"460.3\" text-anchor=\"middle\" style=\"font-family: 'Open Sans', verdana, arial, sans-serif; font-size: 14px; fill: rgb(42, 63, 95); opacity: 1; font-weight: normal; white-space: pre;\">Year</text></g><g class=\"g-ytitle\" transform=\"translate(1.8154296875,0)\"><text class=\"ytitle\" transform=\"rotate(-90,12.184375000000003,240)\" x=\"12.184375000000003\" y=\"240\" text-anchor=\"middle\" style=\"font-family: 'Open Sans', verdana, arial, sans-serif; font-size: 14px; fill: rgb(42, 63, 95); opacity: 1; font-weight: normal; white-space: pre;\">Total Songs</text></g></g></svg>"
      ]
     },
     "metadata": {},
     "output_type": "display_data"
    }
   ],
   "source": [
    "fig = px.line(grouped_data, x='year', y='song_count',\n",
    "              labels={'year': 'Year', 'song_count': 'Total Songs'},\n",
    "              color_discrete_sequence=['green'],\n",
    "              markers=True)\n",
    "\n",
    "fig.update_layout(title=dict(text='Yearly Music Listening Trends', x=0.5),\n",
    "                  xaxis_title='Year',\n",
    "                  yaxis_title='Total Songs',\n",
    "                  width=800, height=500,\n",
    "                  yaxis=dict(tickformat=',.0f', range=[0, grouped_data['song_count'].max() * 1.1]))\n",
    "fig.show()"
   ]
  },
  {
   "cell_type": "markdown",
   "metadata": {},
   "source": [
    "##### **Top Songs and Top Artist 2019**"
   ]
  },
  {
   "cell_type": "code",
   "execution_count": null,
   "metadata": {},
   "outputs": [],
   "source": []
  },
  {
   "cell_type": "markdown",
   "metadata": {},
   "source": [
    "##### **Top Songs and Top Artist 2020**"
   ]
  },
  {
   "cell_type": "code",
   "execution_count": null,
   "metadata": {},
   "outputs": [],
   "source": []
  },
  {
   "cell_type": "markdown",
   "metadata": {},
   "source": [
    "##### **Top Songs and Top Artist 2021**"
   ]
  },
  {
   "cell_type": "code",
   "execution_count": null,
   "metadata": {},
   "outputs": [],
   "source": []
  },
  {
   "cell_type": "markdown",
   "metadata": {},
   "source": [
    "##### **Top Songs and Top Artist 2022**"
   ]
  },
  {
   "cell_type": "code",
   "execution_count": null,
   "metadata": {},
   "outputs": [],
   "source": []
  },
  {
   "cell_type": "markdown",
   "metadata": {},
   "source": [
    "##### **Top Songs and Top Artist 2023**"
   ]
  },
  {
   "cell_type": "code",
   "execution_count": null,
   "metadata": {},
   "outputs": [],
   "source": []
  },
  {
   "cell_type": "markdown",
   "metadata": {},
   "source": [
    "#### **Yearly Podcast Analysis Trend Overview**"
   ]
  },
  {
   "cell_type": "code",
   "execution_count": 62,
   "metadata": {},
   "outputs": [],
   "source": [
    "# Group the data by year and count the number of songs\n",
    "grouped_data = spotify_podcast.groupby(spotify_podcast['ts'].dt.year).size().reset_index(name='podcast_count')\n",
    "\n",
    "# Rename the columns\n",
    "grouped_data.columns = ['year', 'podcast_count']\n",
    "\n",
    "# Sort the data by year\n",
    "grouped_data = grouped_data.sort_values(by='year')"
   ]
  },
  {
   "cell_type": "code",
   "execution_count": 63,
   "metadata": {},
   "outputs": [
    {
     "data": {
      "image/svg+xml": [
       "<svg class=\"main-svg\" xmlns=\"http://www.w3.org/2000/svg\" xmlns:xlink=\"http://www.w3.org/1999/xlink\" width=\"800\" height=\"500\" style=\"\" viewBox=\"0 0 800 500\"><rect x=\"0\" y=\"0\" width=\"800\" height=\"500\" style=\"fill: rgb(255, 255, 255); fill-opacity: 1;\"/><defs id=\"defs-6171c8\"><g class=\"clips\"><clipPath id=\"clip6171c8xyplot\" class=\"plotclip\"><rect width=\"640\" height=\"360\"/></clipPath><clipPath class=\"axesclip\" id=\"clip6171c8x\"><rect x=\"80\" y=\"0\" width=\"640\" height=\"500\"/></clipPath><clipPath class=\"axesclip\" id=\"clip6171c8y\"><rect x=\"0\" y=\"60\" width=\"800\" height=\"360\"/></clipPath><clipPath class=\"axesclip\" id=\"clip6171c8xy\"><rect x=\"80\" y=\"60\" width=\"640\" height=\"360\"/></clipPath></g><g class=\"gradients\"/><g class=\"patterns\"/></defs><g class=\"bglayer\"><rect class=\"bg\" x=\"80\" y=\"60\" width=\"640\" height=\"360\" style=\"fill: rgb(229, 236, 246); fill-opacity: 1; stroke-width: 0;\"/></g><g class=\"layer-below\"><g class=\"imagelayer\"/><g class=\"shapelayer\"/></g><g class=\"cartesianlayer\"><g class=\"subplot xy\"><g class=\"layer-subplot\"><g class=\"shapelayer\"/><g class=\"imagelayer\"/></g><g class=\"minor-gridlayer\"><g class=\"x\"/><g class=\"y\"/></g><g class=\"gridlayer\"><g class=\"x\"><path class=\"xgrid crisp\" transform=\"translate(115.75,0)\" d=\"M0,60v360\" style=\"stroke: rgb(255, 255, 255); stroke-opacity: 1; stroke-width: 1px;\"/><path class=\"xgrid crisp\" transform=\"translate(229.45,0)\" d=\"M0,60v360\" style=\"stroke: rgb(255, 255, 255); stroke-opacity: 1; stroke-width: 1px;\"/><path class=\"xgrid crisp\" transform=\"translate(343.15,0)\" d=\"M0,60v360\" style=\"stroke: rgb(255, 255, 255); stroke-opacity: 1; stroke-width: 1px;\"/><path class=\"xgrid crisp\" transform=\"translate(456.85,0)\" d=\"M0,60v360\" style=\"stroke: rgb(255, 255, 255); stroke-opacity: 1; stroke-width: 1px;\"/><path class=\"xgrid crisp\" transform=\"translate(570.55,0)\" d=\"M0,60v360\" style=\"stroke: rgb(255, 255, 255); stroke-opacity: 1; stroke-width: 1px;\"/><path class=\"xgrid crisp\" transform=\"translate(684.25,0)\" d=\"M0,60v360\" style=\"stroke: rgb(255, 255, 255); stroke-opacity: 1; stroke-width: 1px;\"/></g><g class=\"y\"><path class=\"ygrid crisp\" transform=\"translate(0,367.04)\" d=\"M80,0h640\" style=\"stroke: rgb(255, 255, 255); stroke-opacity: 1; stroke-width: 1px;\"/><path class=\"ygrid crisp\" transform=\"translate(0,314.09000000000003)\" d=\"M80,0h640\" style=\"stroke: rgb(255, 255, 255); stroke-opacity: 1; stroke-width: 1px;\"/><path class=\"ygrid crisp\" transform=\"translate(0,261.13)\" d=\"M80,0h640\" style=\"stroke: rgb(255, 255, 255); stroke-opacity: 1; stroke-width: 1px;\"/><path class=\"ygrid crisp\" transform=\"translate(0,208.17)\" d=\"M80,0h640\" style=\"stroke: rgb(255, 255, 255); stroke-opacity: 1; stroke-width: 1px;\"/><path class=\"ygrid crisp\" transform=\"translate(0,155.22)\" d=\"M80,0h640\" style=\"stroke: rgb(255, 255, 255); stroke-opacity: 1; stroke-width: 1px;\"/><path class=\"ygrid crisp\" transform=\"translate(0,102.25999999999999)\" d=\"M80,0h640\" style=\"stroke: rgb(255, 255, 255); stroke-opacity: 1; stroke-width: 1px;\"/></g></g><g class=\"zerolinelayer\"><path class=\"yzl zl crisp\" transform=\"translate(0,420)\" d=\"M80,0h640\" style=\"stroke: rgb(255, 255, 255); stroke-opacity: 1; stroke-width: 2px;\"/></g><g class=\"layer-between\"><g class=\"shapelayer\"/><g class=\"imagelayer\"/></g><path class=\"xlines-below\"/><path class=\"ylines-below\"/><g class=\"overlines-below\"/><g class=\"xaxislayer-below\"/><g class=\"yaxislayer-below\"/><g class=\"overaxes-below\"/><g class=\"plot\" transform=\"translate(80,60)\" clip-path=\"url(#clip6171c8xyplot)\"><g class=\"scatterlayer mlayer\"><g class=\"trace scatter traceb1b4cd\" style=\"stroke-miterlimit: 2; opacity: 1;\"><g class=\"fills\"/><g class=\"errorbars\"/><g class=\"lines\"><path class=\"js-line\" d=\"M35.75,221.78L149.45,230.26L263.15,168.83L376.85,32.73L490.55,83.04L604.25,222.31\" style=\"vector-effect: none; fill: none; stroke: rgb(0, 128, 0); stroke-opacity: 1; stroke-width: 2px; opacity: 1;\"/></g><g class=\"points\"><path class=\"point\" transform=\"translate(35.75,221.78)\" d=\"M3,0A3,3 0 1,1 0,-3A3,3 0 0,1 3,0Z\" style=\"opacity: 1; stroke-width: 0px; fill: rgb(0, 128, 0); fill-opacity: 1;\"/><path class=\"point\" transform=\"translate(149.45,230.26)\" d=\"M3,0A3,3 0 1,1 0,-3A3,3 0 0,1 3,0Z\" style=\"opacity: 1; stroke-width: 0px; fill: rgb(0, 128, 0); fill-opacity: 1;\"/><path class=\"point\" transform=\"translate(263.15,168.83)\" d=\"M3,0A3,3 0 1,1 0,-3A3,3 0 0,1 3,0Z\" style=\"opacity: 1; stroke-width: 0px; fill: rgb(0, 128, 0); fill-opacity: 1;\"/><path class=\"point\" transform=\"translate(376.85,32.73)\" d=\"M3,0A3,3 0 1,1 0,-3A3,3 0 0,1 3,0Z\" style=\"opacity: 1; stroke-width: 0px; fill: rgb(0, 128, 0); fill-opacity: 1;\"/><path class=\"point\" transform=\"translate(490.55,83.04)\" d=\"M3,0A3,3 0 1,1 0,-3A3,3 0 0,1 3,0Z\" style=\"opacity: 1; stroke-width: 0px; fill: rgb(0, 128, 0); fill-opacity: 1;\"/><path class=\"point\" transform=\"translate(604.25,222.31)\" d=\"M3,0A3,3 0 1,1 0,-3A3,3 0 0,1 3,0Z\" style=\"opacity: 1; stroke-width: 0px; fill: rgb(0, 128, 0); fill-opacity: 1;\"/></g><g class=\"text\"/></g></g></g><g class=\"overplot\"/><path class=\"xlines-above crisp\" d=\"M0,0\" style=\"fill: none;\"/><path class=\"ylines-above crisp\" d=\"M0,0\" style=\"fill: none;\"/><g class=\"overlines-above\"/><g class=\"xaxislayer-above\"><g class=\"xtick\"><text text-anchor=\"middle\" x=\"0\" y=\"433\" transform=\"translate(115.75,0)\" style=\"font-family: 'Open Sans', verdana, arial, sans-serif; font-size: 12px; fill: rgb(42, 63, 95); fill-opacity: 1; white-space: pre; opacity: 1;\">2019</text></g><g class=\"xtick\"><text text-anchor=\"middle\" x=\"0\" y=\"433\" style=\"font-family: 'Open Sans', verdana, arial, sans-serif; font-size: 12px; fill: rgb(42, 63, 95); fill-opacity: 1; white-space: pre; opacity: 1;\" transform=\"translate(229.45,0)\">2020</text></g><g class=\"xtick\"><text text-anchor=\"middle\" x=\"0\" y=\"433\" style=\"font-family: 'Open Sans', verdana, arial, sans-serif; font-size: 12px; fill: rgb(42, 63, 95); fill-opacity: 1; white-space: pre; opacity: 1;\" transform=\"translate(343.15,0)\">2021</text></g><g class=\"xtick\"><text text-anchor=\"middle\" x=\"0\" y=\"433\" style=\"font-family: 'Open Sans', verdana, arial, sans-serif; font-size: 12px; fill: rgb(42, 63, 95); fill-opacity: 1; white-space: pre; opacity: 1;\" transform=\"translate(456.85,0)\">2022</text></g><g class=\"xtick\"><text text-anchor=\"middle\" x=\"0\" y=\"433\" style=\"font-family: 'Open Sans', verdana, arial, sans-serif; font-size: 12px; fill: rgb(42, 63, 95); fill-opacity: 1; white-space: pre; opacity: 1;\" transform=\"translate(570.55,0)\">2023</text></g><g class=\"xtick\"><text text-anchor=\"middle\" x=\"0\" y=\"433\" style=\"font-family: 'Open Sans', verdana, arial, sans-serif; font-size: 12px; fill: rgb(42, 63, 95); fill-opacity: 1; white-space: pre; opacity: 1;\" transform=\"translate(684.25,0)\">2024</text></g></g><g class=\"yaxislayer-above\"><g class=\"ytick\"><text text-anchor=\"end\" x=\"79\" y=\"4.199999999999999\" transform=\"translate(0,420)\" style=\"font-family: 'Open Sans', verdana, arial, sans-serif; font-size: 12px; fill: rgb(42, 63, 95); fill-opacity: 1; white-space: pre; opacity: 1;\">0</text></g><g class=\"ytick\"><text text-anchor=\"end\" x=\"79\" y=\"4.199999999999999\" style=\"font-family: 'Open Sans', verdana, arial, sans-serif; font-size: 12px; fill: rgb(42, 63, 95); fill-opacity: 1; white-space: pre; opacity: 1;\" transform=\"translate(0,367.04)\">100</text></g><g class=\"ytick\"><text text-anchor=\"end\" x=\"79\" y=\"4.199999999999999\" style=\"font-family: 'Open Sans', verdana, arial, sans-serif; font-size: 12px; fill: rgb(42, 63, 95); fill-opacity: 1; white-space: pre; opacity: 1;\" transform=\"translate(0,314.09000000000003)\">200</text></g><g class=\"ytick\"><text text-anchor=\"end\" x=\"79\" y=\"4.199999999999999\" style=\"font-family: 'Open Sans', verdana, arial, sans-serif; font-size: 12px; fill: rgb(42, 63, 95); fill-opacity: 1; white-space: pre; opacity: 1;\" transform=\"translate(0,261.13)\">300</text></g><g class=\"ytick\"><text text-anchor=\"end\" x=\"79\" y=\"4.199999999999999\" style=\"font-family: 'Open Sans', verdana, arial, sans-serif; font-size: 12px; fill: rgb(42, 63, 95); fill-opacity: 1; white-space: pre; opacity: 1;\" transform=\"translate(0,208.17)\">400</text></g><g class=\"ytick\"><text text-anchor=\"end\" x=\"79\" y=\"4.199999999999999\" style=\"font-family: 'Open Sans', verdana, arial, sans-serif; font-size: 12px; fill: rgb(42, 63, 95); fill-opacity: 1; white-space: pre; opacity: 1;\" transform=\"translate(0,155.22)\">500</text></g><g class=\"ytick\"><text text-anchor=\"end\" x=\"79\" y=\"4.199999999999999\" style=\"font-family: 'Open Sans', verdana, arial, sans-serif; font-size: 12px; fill: rgb(42, 63, 95); fill-opacity: 1; white-space: pre; opacity: 1;\" transform=\"translate(0,102.25999999999999)\">600</text></g></g><g class=\"overaxes-above\"/></g></g><g class=\"polarlayer\"/><g class=\"smithlayer\"/><g class=\"ternarylayer\"/><g class=\"geolayer\"/><g class=\"funnelarealayer\"/><g class=\"pielayer\"/><g class=\"iciclelayer\"/><g class=\"treemaplayer\"/><g class=\"sunburstlayer\"/><g class=\"glimages\"/><defs id=\"topdefs-6171c8\"><g class=\"clips\"/></defs><g class=\"layer-above\"><g class=\"imagelayer\"/><g class=\"shapelayer\"/></g><g class=\"infolayer\"><g class=\"g-gtitle\"><text class=\"gtitle\" x=\"400\" y=\"30\" text-anchor=\"middle\" dy=\"0em\" style=\"font-family: 'Open Sans', verdana, arial, sans-serif; font-size: 17px; fill: rgb(42, 63, 95); opacity: 1; font-weight: normal; white-space: pre;\">Yearly Podcast Listening Trends</text></g><g class=\"g-xtitle\"><text class=\"xtitle\" x=\"400\" y=\"460.3\" text-anchor=\"middle\" style=\"font-family: 'Open Sans', verdana, arial, sans-serif; font-size: 14px; fill: rgb(42, 63, 95); opacity: 1; font-weight: normal; white-space: pre;\">Year</text></g><g class=\"g-ytitle\"><text class=\"ytitle\" transform=\"rotate(-90,31.809375000000003,240)\" x=\"31.809375000000003\" y=\"240\" text-anchor=\"middle\" style=\"font-family: 'Open Sans', verdana, arial, sans-serif; font-size: 14px; fill: rgb(42, 63, 95); opacity: 1; font-weight: normal; white-space: pre;\">Total Number of Podcast Episodes</text></g></g></svg>"
      ]
     },
     "metadata": {},
     "output_type": "display_data"
    }
   ],
   "source": [
    "fig = px.line(grouped_data, x='year', y='podcast_count',\n",
    "              labels={'year': 'Year', 'podcast_count': 'Total Episode'},\n",
    "              color_discrete_sequence=['green'],\n",
    "              markers=True)\n",
    "\n",
    "fig.update_layout(title=dict(text='Yearly Podcast Listening Trends', x=0.5),\n",
    "                  xaxis_title='Year',\n",
    "                  yaxis_title='Total Number of Podcast Episodes',\n",
    "                  width=800, height=500,\n",
    "                  yaxis=dict(tickformat=',.0f', range=[0, grouped_data['podcast_count'].max() * 1.1]))\n",
    "fig.show()"
   ]
  },
  {
   "cell_type": "markdown",
   "metadata": {},
   "source": [
    "#### **Favorite Songs Analysis**"
   ]
  },
  {
   "cell_type": "code",
   "execution_count": 64,
   "metadata": {},
   "outputs": [
    {
     "name": "stdout",
     "output_type": "stream",
     "text": [
      "<class 'pandas.core.frame.DataFrame'>\n",
      "Index: 127026 entries, 5 to 129290\n",
      "Data columns (total 32 columns):\n",
      " #   Column                             Non-Null Count   Dtype              \n",
      "---  ------                             --------------   -----              \n",
      " 0   ts                                 127026 non-null  datetime64[ns, UTC]\n",
      " 1   platform                           127026 non-null  object             \n",
      " 2   ms_played                          127026 non-null  int64              \n",
      " 3   master_metadata_track_name         126946 non-null  object             \n",
      " 4   master_metadata_album_artist_name  126946 non-null  object             \n",
      " 5   master_metadata_album_album_name   126946 non-null  object             \n",
      " 6   reason_start                       127026 non-null  object             \n",
      " 7   reason_end                         127026 non-null  object             \n",
      " 8   shuffle                            127026 non-null  bool               \n",
      " 9   skipped                            70840 non-null   object             \n",
      " 10  offline                            127026 non-null  bool               \n",
      " 11  offline_timestamp                  127026 non-null  int64              \n",
      " 12  incognito_mode                     127026 non-null  bool               \n",
      " 13  track_uri                          126946 non-null  object             \n",
      " 14  track_id                           19472 non-null   object             \n",
      " 15  track_name                         19472 non-null   object             \n",
      " 16  release_date                       19472 non-null   object             \n",
      " 17  length                             19472 non-null   float64            \n",
      " 18  track_popularity                   19472 non-null   float64            \n",
      " 19  album_id                           19472 non-null   object             \n",
      " 20  album_name                         19472 non-null   object             \n",
      " 21  artist_name                        19472 non-null   object             \n",
      " 22  acousticness                       19472 non-null   float64            \n",
      " 23  danceability                       19472 non-null   float64            \n",
      " 24  energy                             19472 non-null   float64            \n",
      " 25  instrumentalness                   19472 non-null   float64            \n",
      " 26  liveness                           19472 non-null   float64            \n",
      " 27  speechiness                        19472 non-null   float64            \n",
      " 28  loudness                           19472 non-null   float64            \n",
      " 29  mode                               19472 non-null   float64            \n",
      " 30  tempo                              19472 non-null   float64            \n",
      " 31  time_signature                     19472 non-null   float64            \n",
      "dtypes: bool(3), datetime64[ns, UTC](1), float64(12), int64(2), object(14)\n",
      "memory usage: 29.4+ MB\n"
     ]
    }
   ],
   "source": [
    "spotify_music.info()"
   ]
  },
  {
   "cell_type": "code",
   "execution_count": 65,
   "metadata": {},
   "outputs": [
    {
     "data": {
      "text/html": [
       "<div>\n",
       "<style scoped>\n",
       "    .dataframe tbody tr th:only-of-type {\n",
       "        vertical-align: middle;\n",
       "    }\n",
       "\n",
       "    .dataframe tbody tr th {\n",
       "        vertical-align: top;\n",
       "    }\n",
       "\n",
       "    .dataframe thead th {\n",
       "        text-align: right;\n",
       "    }\n",
       "</style>\n",
       "<table border=\"1\" class=\"dataframe\">\n",
       "  <thead>\n",
       "    <tr style=\"text-align: right;\">\n",
       "      <th></th>\n",
       "      <th>master_metadata_album_artist_name</th>\n",
       "      <th>master_metadata_track_name</th>\n",
       "      <th>ms_played</th>\n",
       "    </tr>\n",
       "  </thead>\n",
       "  <tbody>\n",
       "    <tr>\n",
       "      <th>2307</th>\n",
       "      <td>Cheon ji won</td>\n",
       "      <td>You Can Cry</td>\n",
       "      <td>935.66</td>\n",
       "    </tr>\n",
       "    <tr>\n",
       "      <th>7109</th>\n",
       "      <td>LANY</td>\n",
       "      <td>the older you get, the less you cry</td>\n",
       "      <td>866.31</td>\n",
       "    </tr>\n",
       "    <tr>\n",
       "      <th>7048</th>\n",
       "      <td>LANY</td>\n",
       "      <td>Malibu Nights</td>\n",
       "      <td>864.07</td>\n",
       "    </tr>\n",
       "    <tr>\n",
       "      <th>4037</th>\n",
       "      <td>Feby Putri</td>\n",
       "      <td>Runtuh</td>\n",
       "      <td>730.33</td>\n",
       "    </tr>\n",
       "    <tr>\n",
       "      <th>6957</th>\n",
       "      <td>Kunto Aji</td>\n",
       "      <td>Rehat</td>\n",
       "      <td>725.18</td>\n",
       "    </tr>\n",
       "    <tr>\n",
       "      <th>5044</th>\n",
       "      <td>Hayd</td>\n",
       "      <td>Suffocate</td>\n",
       "      <td>722.41</td>\n",
       "    </tr>\n",
       "    <tr>\n",
       "      <th>7061</th>\n",
       "      <td>LANY</td>\n",
       "      <td>Thick And Thin</td>\n",
       "      <td>703.88</td>\n",
       "    </tr>\n",
       "    <tr>\n",
       "      <th>6952</th>\n",
       "      <td>Kunto Aji</td>\n",
       "      <td>Pilu Membiru</td>\n",
       "      <td>667.96</td>\n",
       "    </tr>\n",
       "    <tr>\n",
       "      <th>2357</th>\n",
       "      <td>Choi Yu Ree</td>\n",
       "      <td>Wish</td>\n",
       "      <td>665.10</td>\n",
       "    </tr>\n",
       "    <tr>\n",
       "      <th>14884</th>\n",
       "      <td>push baby</td>\n",
       "      <td>Wishing We Were More Than Friends</td>\n",
       "      <td>652.49</td>\n",
       "    </tr>\n",
       "    <tr>\n",
       "      <th>5162</th>\n",
       "      <td>Hindia</td>\n",
       "      <td>Membasuh</td>\n",
       "      <td>643.25</td>\n",
       "    </tr>\n",
       "    <tr>\n",
       "      <th>9674</th>\n",
       "      <td>ONG SEONG WU</td>\n",
       "      <td>Late Regret</td>\n",
       "      <td>598.92</td>\n",
       "    </tr>\n",
       "    <tr>\n",
       "      <th>7081</th>\n",
       "      <td>LANY</td>\n",
       "      <td>get away</td>\n",
       "      <td>596.61</td>\n",
       "    </tr>\n",
       "    <tr>\n",
       "      <th>5035</th>\n",
       "      <td>Hayd</td>\n",
       "      <td>Closure</td>\n",
       "      <td>593.76</td>\n",
       "    </tr>\n",
       "    <tr>\n",
       "      <th>3566</th>\n",
       "      <td>EasyFM</td>\n",
       "      <td>I'd Rather</td>\n",
       "      <td>578.71</td>\n",
       "    </tr>\n",
       "    <tr>\n",
       "      <th>10072</th>\n",
       "      <td>Payung Teduh</td>\n",
       "      <td>Untuk Perempuan Yang Sedang Di Pelukan</td>\n",
       "      <td>571.56</td>\n",
       "    </tr>\n",
       "    <tr>\n",
       "      <th>7115</th>\n",
       "      <td>LANY</td>\n",
       "      <td>you!</td>\n",
       "      <td>552.01</td>\n",
       "    </tr>\n",
       "    <tr>\n",
       "      <th>1501</th>\n",
       "      <td>Banda Neira</td>\n",
       "      <td>Sampai Jadi Debu (Menampilkan Gardika Gigih)</td>\n",
       "      <td>550.60</td>\n",
       "    </tr>\n",
       "    <tr>\n",
       "      <th>9135</th>\n",
       "      <td>NIKI</td>\n",
       "      <td>Oceans &amp; Engines</td>\n",
       "      <td>535.71</td>\n",
       "    </tr>\n",
       "    <tr>\n",
       "      <th>7056</th>\n",
       "      <td>LANY</td>\n",
       "      <td>Super Far</td>\n",
       "      <td>535.33</td>\n",
       "    </tr>\n",
       "  </tbody>\n",
       "</table>\n",
       "</div>"
      ],
      "text/plain": [
       "      master_metadata_album_artist_name  \\\n",
       "2307                       Cheon ji won   \n",
       "7109                               LANY   \n",
       "7048                               LANY   \n",
       "4037                         Feby Putri   \n",
       "6957                          Kunto Aji   \n",
       "5044                               Hayd   \n",
       "7061                               LANY   \n",
       "6952                          Kunto Aji   \n",
       "2357                        Choi Yu Ree   \n",
       "14884                         push baby   \n",
       "5162                             Hindia   \n",
       "9674                       ONG SEONG WU   \n",
       "7081                               LANY   \n",
       "5035                               Hayd   \n",
       "3566                             EasyFM   \n",
       "10072                      Payung Teduh   \n",
       "7115                               LANY   \n",
       "1501                        Banda Neira   \n",
       "9135                               NIKI   \n",
       "7056                               LANY   \n",
       "\n",
       "                         master_metadata_track_name  ms_played  \n",
       "2307                                    You Can Cry     935.66  \n",
       "7109            the older you get, the less you cry     866.31  \n",
       "7048                                  Malibu Nights     864.07  \n",
       "4037                                         Runtuh     730.33  \n",
       "6957                                          Rehat     725.18  \n",
       "5044                                      Suffocate     722.41  \n",
       "7061                                 Thick And Thin     703.88  \n",
       "6952                                   Pilu Membiru     667.96  \n",
       "2357                                           Wish     665.10  \n",
       "14884             Wishing We Were More Than Friends     652.49  \n",
       "5162                                       Membasuh     643.25  \n",
       "9674                                    Late Regret     598.92  \n",
       "7081                                       get away     596.61  \n",
       "5035                                        Closure     593.76  \n",
       "3566                                     I'd Rather     578.71  \n",
       "10072        Untuk Perempuan Yang Sedang Di Pelukan     571.56  \n",
       "7115                                           you!     552.01  \n",
       "1501   Sampai Jadi Debu (Menampilkan Gardika Gigih)     550.60  \n",
       "9135                               Oceans & Engines     535.71  \n",
       "7056                                      Super Far     535.33  "
      ]
     },
     "execution_count": 65,
     "metadata": {},
     "output_type": "execute_result"
    }
   ],
   "source": [
    "# Calculate the accumulated number of streams for each artist in hours\n",
    "most_played_songs = (spotify_data.groupby(['master_metadata_album_artist_name', 'master_metadata_track_name'])['ms_played'].sum() / (1000 * 60)).reset_index()\n",
    "\n",
    "# Sort artists based on the accumulated number of streams, from most to least\n",
    "list_most_played_songs = most_played_songs.sort_values(by='ms_played', ascending=False).round(2).head(20)\n",
    "list_most_played_songs"
   ]
  },
  {
   "cell_type": "code",
   "execution_count": 66,
   "metadata": {},
   "outputs": [
    {
     "data": {
      "image/svg+xml": [
       "<svg class=\"main-svg\" xmlns=\"http://www.w3.org/2000/svg\" xmlns:xlink=\"http://www.w3.org/1999/xlink\" width=\"700\" height=\"500\" style=\"\" viewBox=\"0 0 700 500\"><rect x=\"0\" y=\"0\" width=\"700\" height=\"500\" style=\"fill: rgb(255, 255, 255); fill-opacity: 1;\"/><defs id=\"defs-075c2b\"><g class=\"clips\"><clipPath id=\"clip075c2bxyplot\" class=\"plotclip\"><rect width=\"258\" height=\"320\"/></clipPath><clipPath class=\"axesclip\" id=\"clip075c2bx\"><rect x=\"245\" y=\"0\" width=\"258\" height=\"500\"/></clipPath><clipPath class=\"axesclip\" id=\"clip075c2by\"><rect x=\"0\" y=\"100\" width=\"700\" height=\"320\"/></clipPath><clipPath class=\"axesclip\" id=\"clip075c2bxy\"><rect x=\"245\" y=\"100\" width=\"258\" height=\"320\"/></clipPath></g><g class=\"gradients\"/><g class=\"patterns\"/></defs><g class=\"bglayer\"><rect class=\"bg\" x=\"245\" y=\"100\" width=\"258\" height=\"320\" style=\"fill: rgb(229, 236, 246); fill-opacity: 1; stroke-width: 0;\"/></g><g class=\"layer-below\"><g class=\"imagelayer\"/><g class=\"shapelayer\"/></g><g class=\"cartesianlayer\"><g class=\"subplot xy\"><g class=\"layer-subplot\"><g class=\"shapelayer\"/><g class=\"imagelayer\"/></g><g class=\"minor-gridlayer\"><g class=\"x\"/><g class=\"y\"/></g><g class=\"gridlayer\"><g class=\"x\"><path class=\"xgrid crisp\" transform=\"translate(301.58,0)\" d=\"M0,100v320\" style=\"stroke: rgb(255, 255, 255); stroke-opacity: 1; stroke-width: 1px;\"/><path class=\"xgrid crisp\" transform=\"translate(358.17,0)\" d=\"M0,100v320\" style=\"stroke: rgb(255, 255, 255); stroke-opacity: 1; stroke-width: 1px;\"/><path class=\"xgrid crisp\" transform=\"translate(414.75,0)\" d=\"M0,100v320\" style=\"stroke: rgb(255, 255, 255); stroke-opacity: 1; stroke-width: 1px;\"/><path class=\"xgrid crisp\" transform=\"translate(471.34000000000003,0)\" d=\"M0,100v320\" style=\"stroke: rgb(255, 255, 255); stroke-opacity: 1; stroke-width: 1px;\"/></g><g class=\"y\"/></g><g class=\"zerolinelayer\"><path class=\"xzl zl crisp\" transform=\"translate(245,0)\" d=\"M0,100v320\" style=\"stroke: rgb(255, 255, 255); stroke-opacity: 1; stroke-width: 2px;\"/></g><g class=\"layer-between\"><g class=\"shapelayer\"/><g class=\"imagelayer\"/></g><path class=\"xlines-below\"/><path class=\"ylines-below\"/><g class=\"overlines-below\"/><g class=\"xaxislayer-below\"/><g class=\"yaxislayer-below\"/><g class=\"overaxes-below\"/><g class=\"plot\" transform=\"translate(245,100)\" clip-path=\"url(#clip075c2bxyplot)\"><g class=\"barlayer mlayer\"><g class=\"trace bars\" style=\"opacity: 1;\"><g class=\"points\"><g class=\"point\"><path d=\"M0,316.44V288H69.36V316.44Z\" style=\"vector-effect: none; opacity: 1; stroke-width: 0.5px; fill: rgb(99, 110, 250); fill-opacity: 1; stroke: rgb(229, 236, 246); stroke-opacity: 1;\"/></g><g class=\"point\"><path d=\"M0,280.89V252.44H84.4V280.89Z\" style=\"vector-effect: none; opacity: 1; stroke-width: 0.5px; fill: rgb(99, 110, 250); fill-opacity: 1; stroke: rgb(229, 236, 246); stroke-opacity: 1;\"/></g><g class=\"point\"><path d=\"M0,245.33V216.89H85.05V245.33Z\" style=\"vector-effect: none; opacity: 1; stroke-width: 0.5px; fill: rgb(99, 110, 250); fill-opacity: 1; stroke: rgb(229, 236, 246); stroke-opacity: 1;\"/></g></g></g><g class=\"trace bars\" style=\"opacity: 1;\"><g class=\"points\"><g class=\"point\"><path d=\"M0,209.78V181.33H81.78V209.78Z\" style=\"vector-effect: none; opacity: 1; stroke-width: 0.5px; fill: rgb(239, 85, 59); fill-opacity: 1; stroke: rgb(229, 236, 246); stroke-opacity: 1;\"/></g><g class=\"point\"><path d=\"M0,174.22V145.78H122.68V174.22Z\" style=\"vector-effect: none; opacity: 1; stroke-width: 0.5px; fill: rgb(239, 85, 59); fill-opacity: 1; stroke: rgb(229, 236, 246); stroke-opacity: 1;\"/></g><g class=\"point\"><path d=\"M0,138.67V110.22H139.59V138.67Z\" style=\"vector-effect: none; opacity: 1; stroke-width: 0.5px; fill: rgb(239, 85, 59); fill-opacity: 1; stroke: rgb(229, 236, 246); stroke-opacity: 1;\"/></g></g></g><g class=\"trace bars\" style=\"opacity: 1;\"><g class=\"points\"><g class=\"point\"><path d=\"M0,103.11V74.67H199.15V103.11Z\" style=\"vector-effect: none; opacity: 1; stroke-width: 0.5px; fill: rgb(0, 204, 150); fill-opacity: 1; stroke: rgb(229, 236, 246); stroke-opacity: 1;\"/></g><g class=\"point\"><path d=\"M0,67.56V39.11H244.46V67.56Z\" style=\"vector-effect: none; opacity: 1; stroke-width: 0.5px; fill: rgb(0, 204, 150); fill-opacity: 1; stroke: rgb(229, 236, 246); stroke-opacity: 1;\"/></g><g class=\"point\"><path d=\"M0,32V3.56H245.1V32Z\" style=\"vector-effect: none; opacity: 1; stroke-width: 0.5px; fill: rgb(0, 204, 150); fill-opacity: 1; stroke: rgb(229, 236, 246); stroke-opacity: 1;\"/></g></g></g></g></g><g class=\"overplot\"/><path class=\"xlines-above crisp\" d=\"M0,0\" style=\"fill: none;\"/><path class=\"ylines-above crisp\" d=\"M0,0\" style=\"fill: none;\"/><g class=\"overlines-above\"/><g class=\"xaxislayer-above\"><g class=\"xtick\"><text text-anchor=\"middle\" x=\"0\" y=\"433\" transform=\"translate(245,0)\" style=\"font-family: 'Open Sans', verdana, arial, sans-serif; font-size: 12px; fill: rgb(42, 63, 95); fill-opacity: 1; white-space: pre; opacity: 1;\">0</text></g><g class=\"xtick\"><text text-anchor=\"middle\" x=\"0\" y=\"433\" style=\"font-family: 'Open Sans', verdana, arial, sans-serif; font-size: 12px; fill: rgb(42, 63, 95); fill-opacity: 1; white-space: pre; opacity: 1;\" transform=\"translate(301.58,0)\">200</text></g><g class=\"xtick\"><text text-anchor=\"middle\" x=\"0\" y=\"433\" style=\"font-family: 'Open Sans', verdana, arial, sans-serif; font-size: 12px; fill: rgb(42, 63, 95); fill-opacity: 1; white-space: pre; opacity: 1;\" transform=\"translate(358.17,0)\">400</text></g><g class=\"xtick\"><text text-anchor=\"middle\" x=\"0\" y=\"433\" style=\"font-family: 'Open Sans', verdana, arial, sans-serif; font-size: 12px; fill: rgb(42, 63, 95); fill-opacity: 1; white-space: pre; opacity: 1;\" transform=\"translate(414.75,0)\">600</text></g><g class=\"xtick\"><text text-anchor=\"middle\" x=\"0\" y=\"433\" style=\"font-family: 'Open Sans', verdana, arial, sans-serif; font-size: 12px; fill: rgb(42, 63, 95); fill-opacity: 1; white-space: pre; opacity: 1;\" transform=\"translate(471.34000000000003,0)\">800</text></g></g><g class=\"yaxislayer-above\"><g class=\"ytick\"><text text-anchor=\"end\" x=\"244\" y=\"4.199999999999999\" transform=\"translate(0,402.22)\" style=\"font-family: 'Open Sans', verdana, arial, sans-serif; font-size: 12px; fill: rgb(42, 63, 95); fill-opacity: 1; white-space: pre; opacity: 1;\">Youngblood</text></g><g class=\"ytick\"><text text-anchor=\"end\" x=\"244\" y=\"4.199999999999999\" transform=\"translate(0,366.67)\" style=\"font-family: 'Open Sans', verdana, arial, sans-serif; font-size: 12px; fill: rgb(42, 63, 95); fill-opacity: 1; white-space: pre; opacity: 1;\">Ghost Of You</text></g><g class=\"ytick\"><text text-anchor=\"end\" x=\"244\" y=\"4.199999999999999\" transform=\"translate(0,331.11)\" style=\"font-family: 'Open Sans', verdana, arial, sans-serif; font-size: 12px; fill: rgb(42, 63, 95); fill-opacity: 1; white-space: pre; opacity: 1;\">COMPLETE MESS</text></g><g class=\"ytick\"><text text-anchor=\"end\" x=\"244\" y=\"4.199999999999999\" transform=\"translate(0,295.56)\" style=\"font-family: 'Open Sans', verdana, arial, sans-serif; font-size: 12px; fill: rgb(42, 63, 95); fill-opacity: 1; white-space: pre; opacity: 1;\">Lavender Haze</text></g><g class=\"ytick\"><text text-anchor=\"end\" x=\"244\" y=\"4.199999999999999\" transform=\"translate(0,260)\" style=\"font-family: 'Open Sans', verdana, arial, sans-serif; font-size: 12px; fill: rgb(42, 63, 95); fill-opacity: 1; white-space: pre; opacity: 1;\">Anti-Hero</text></g><g class=\"ytick\"><text text-anchor=\"end\" x=\"244\" y=\"4.199999999999999\" transform=\"translate(0,224.44)\" style=\"font-family: 'Open Sans', verdana, arial, sans-serif; font-size: 12px; fill: rgb(42, 63, 95); fill-opacity: 1; white-space: pre; opacity: 1;\">august</text></g><g class=\"ytick\"><text text-anchor=\"end\" x=\"244\" y=\"4.199999999999999\" transform=\"translate(0,188.89)\" style=\"font-family: 'Open Sans', verdana, arial, sans-serif; font-size: 12px; fill: rgb(42, 63, 95); fill-opacity: 1; white-space: pre; opacity: 1;\">Thick And Thin</text></g><g class=\"ytick\"><text text-anchor=\"end\" x=\"244\" y=\"4.199999999999999\" transform=\"translate(0,153.32999999999998)\" style=\"font-family: 'Open Sans', verdana, arial, sans-serif; font-size: 12px; fill: rgb(42, 63, 95); fill-opacity: 1; white-space: pre; opacity: 1;\">Malibu Nights</text></g><g class=\"ytick\"><text text-anchor=\"end\" x=\"244\" y=\"4.199999999999999\" transform=\"translate(0,117.78)\" style=\"font-family: 'Open Sans', verdana, arial, sans-serif; font-size: 12px; fill: rgb(42, 63, 95); fill-opacity: 1; white-space: pre; opacity: 1;\">the older you get, the less you cry</text></g></g><g class=\"overaxes-above\"/></g></g><g class=\"polarlayer\"/><g class=\"smithlayer\"/><g class=\"ternarylayer\"/><g class=\"geolayer\"/><g class=\"funnelarealayer\"/><g class=\"pielayer\"/><g class=\"iciclelayer\"/><g class=\"treemaplayer\"/><g class=\"sunburstlayer\"/><g class=\"glimages\"/><defs id=\"topdefs-075c2b\"><g class=\"clips\"/><clipPath id=\"legend075c2b\"><rect width=\"180\" height=\"86\" x=\"0\" y=\"0\"/></clipPath></defs><g class=\"layer-above\"><g class=\"imagelayer\"/><g class=\"shapelayer\"/></g><g class=\"infolayer\"><g class=\"legend\" pointer-events=\"all\" transform=\"translate(508.16,100)\"><rect class=\"bg\" shape-rendering=\"crispEdges\" style=\"stroke: rgb(68, 68, 68); stroke-opacity: 1; fill: rgb(255, 255, 255); fill-opacity: 1; stroke-width: 0px;\" width=\"180\" height=\"86\" x=\"0\" y=\"0\"/><g class=\"scrollbox\" transform=\"\" clip-path=\"url(#legend075c2b)\"><text class=\"legendtitletext\" text-anchor=\"start\" x=\"2\" y=\"18.2\" style=\"font-family: 'Open Sans', verdana, arial, sans-serif; font-size: 14px; fill: rgb(42, 63, 95); fill-opacity: 1; white-space: pre;\">Artist</text><g class=\"groups\" transform=\"\"><g class=\"traces\" transform=\"translate(0,32.7)\" style=\"opacity: 1;\"><text class=\"legendtext\" text-anchor=\"start\" x=\"40\" y=\"4.680000000000001\" style=\"font-family: 'Open Sans', verdana, arial, sans-serif; font-size: 12px; fill: rgb(42, 63, 95); fill-opacity: 1; white-space: pre;\">5 Seconds of Summer</text><g class=\"layers\" style=\"opacity: 1;\"><g class=\"legendfill\"/><g class=\"legendlines\"/><g class=\"legendsymbols\"><g class=\"legendpoints\"><path class=\"legendundefined\" d=\"M6,6H-6V-6H6Z\" transform=\"translate(20,0)\" style=\"stroke-width: 0.5px; fill: rgb(99, 110, 250); fill-opacity: 1; stroke: rgb(229, 236, 246); stroke-opacity: 1;\"/></g></g></g><rect class=\"legendtoggle\" x=\"0\" y=\"-9.5\" width=\"174.296875\" height=\"19\" style=\"fill: rgb(0, 0, 0); fill-opacity: 0;\"/></g></g><g class=\"groups\" transform=\"\"><g class=\"traces\" transform=\"translate(0,51.7)\" style=\"opacity: 1;\"><text class=\"legendtext\" text-anchor=\"start\" x=\"40\" y=\"4.680000000000001\" style=\"font-family: 'Open Sans', verdana, arial, sans-serif; font-size: 12px; fill: rgb(42, 63, 95); fill-opacity: 1; white-space: pre;\">Taylor Swift</text><g class=\"layers\" style=\"opacity: 1;\"><g class=\"legendfill\"/><g class=\"legendlines\"/><g class=\"legendsymbols\"><g class=\"legendpoints\"><path class=\"legendundefined\" d=\"M6,6H-6V-6H6Z\" transform=\"translate(20,0)\" style=\"stroke-width: 0.5px; fill: rgb(239, 85, 59); fill-opacity: 1; stroke: rgb(229, 236, 246); stroke-opacity: 1;\"/></g></g></g><rect class=\"legendtoggle\" x=\"0\" y=\"-9.5\" width=\"174.296875\" height=\"19\" style=\"fill: rgb(0, 0, 0); fill-opacity: 0;\"/></g></g><g class=\"groups\" transform=\"\"><g class=\"traces\" transform=\"translate(0,70.7)\" style=\"opacity: 1;\"><text class=\"legendtext\" text-anchor=\"start\" x=\"40\" y=\"4.680000000000001\" style=\"font-family: 'Open Sans', verdana, arial, sans-serif; font-size: 12px; fill: rgb(42, 63, 95); fill-opacity: 1; white-space: pre;\">LANY</text><g class=\"layers\" style=\"opacity: 1;\"><g class=\"legendfill\"/><g class=\"legendlines\"/><g class=\"legendsymbols\"><g class=\"legendpoints\"><path class=\"legendundefined\" d=\"M6,6H-6V-6H6Z\" transform=\"translate(20,0)\" style=\"stroke-width: 0.5px; fill: rgb(0, 204, 150); fill-opacity: 1; stroke: rgb(229, 236, 246); stroke-opacity: 1;\"/></g></g></g><rect class=\"legendtoggle\" x=\"0\" y=\"-9.5\" width=\"174.296875\" height=\"19\" style=\"fill: rgb(0, 0, 0); fill-opacity: 0;\"/></g></g></g><rect class=\"scrollbar\" rx=\"20\" ry=\"3\" width=\"0\" height=\"0\" style=\"fill: rgb(128, 139, 164); fill-opacity: 1;\" x=\"0\" y=\"0\"/></g><g class=\"g-gtitle\"><text class=\"gtitle\" x=\"350\" y=\"50\" text-anchor=\"middle\" dy=\"0em\" style=\"font-family: 'Open Sans', verdana, arial, sans-serif; font-size: 17px; fill: rgb(42, 63, 95); opacity: 1; font-weight: normal; white-space: pre;\">Top 3 Songs from Top 3 Most Played Artists</text></g><g class=\"g-xtitle\"><text class=\"xtitle\" x=\"374\" y=\"460.3\" text-anchor=\"middle\" style=\"font-family: 'Open Sans', verdana, arial, sans-serif; font-size: 14px; fill: rgb(42, 63, 95); opacity: 1; font-weight: normal; white-space: pre;\">Total Playback Time (minutes)</text></g><g class=\"g-ytitle\" transform=\"translate(1.9873046875,0)\"><text class=\"ytitle\" transform=\"rotate(-90,12.012499999999989,260)\" x=\"12.012499999999989\" y=\"260\" text-anchor=\"middle\" style=\"font-family: 'Open Sans', verdana, arial, sans-serif; font-size: 14px; fill: rgb(42, 63, 95); opacity: 1; font-weight: normal; white-space: pre;\">Track Name</text></g></g></svg>"
      ]
     },
     "metadata": {},
     "output_type": "display_data"
    }
   ],
   "source": [
    "## Sort artists based on the total playback time\n",
    "top_artists = artist_playback_duration.sort_values(by='ms_played', ascending=False).head(3)['master_metadata_album_artist_name']\n",
    "\n",
    "# Select the top three songs from each artist and sort them by playback time\n",
    "top_songs = pd.concat([most_played_songs[most_played_songs['master_metadata_album_artist_name'] == artist].nlargest(3, 'ms_played') for artist in top_artists])\n",
    "top_songs = top_songs.sort_values(by='ms_played', ascending=True)\n",
    "\n",
    "# Create a chart displaying the top songs\n",
    "fig = px.bar(top_songs, x='ms_played', y='master_metadata_track_name', color='master_metadata_album_artist_name', orientation='h',\n",
    "             labels={'master_metadata_track_name': 'Track Name', 'ms_played': 'Playback Time', 'master_metadata_album_artist_name': 'Artist'},\n",
    "             title='Top 3 Songs from Top 3 Most Played Artists')\n",
    "\n",
    "fig.update_layout(xaxis_title='Total Playback Time (minutes)', yaxis_title='Track Name',\n",
    "                  legend_title='Artist', title_x=0.5, width=700, height=500)\n",
    "\n",
    "fig.show()"
   ]
  },
  {
   "cell_type": "code",
   "execution_count": 67,
   "metadata": {},
   "outputs": [
    {
     "data": {
      "image/svg+xml": [
       "<svg class=\"main-svg\" xmlns=\"http://www.w3.org/2000/svg\" xmlns:xlink=\"http://www.w3.org/1999/xlink\" width=\"800\" height=\"500\" style=\"\" viewBox=\"0 0 800 500\"><rect x=\"0\" y=\"0\" width=\"800\" height=\"500\" style=\"fill: rgb(255, 255, 255); fill-opacity: 1;\"/><defs id=\"defs-b9fc82\"><g class=\"clips\"><clipPath id=\"clipb9fc82xyplot\" class=\"plotclip\"><rect width=\"640\" height=\"256\"/></clipPath><clipPath class=\"axesclip\" id=\"clipb9fc82x\"><rect x=\"80\" y=\"0\" width=\"640\" height=\"500\"/></clipPath><clipPath class=\"axesclip\" id=\"clipb9fc82y\"><rect x=\"0\" y=\"100\" width=\"800\" height=\"256\"/></clipPath><clipPath class=\"axesclip\" id=\"clipb9fc82xy\"><rect x=\"80\" y=\"100\" width=\"640\" height=\"256\"/></clipPath></g><g class=\"gradients\"/><g class=\"patterns\"/></defs><g class=\"bglayer\"><rect class=\"bg\" x=\"80\" y=\"100\" width=\"640\" height=\"256\" style=\"fill: rgb(229, 236, 246); fill-opacity: 1; stroke-width: 0;\"/></g><g class=\"layer-below\"><g class=\"imagelayer\"/><g class=\"shapelayer\"/></g><g class=\"cartesianlayer\"><g class=\"subplot xy\"><g class=\"layer-subplot\"><g class=\"shapelayer\"/><g class=\"imagelayer\"/></g><g class=\"minor-gridlayer\"><g class=\"x\"/><g class=\"y\"/></g><g class=\"gridlayer\"><g class=\"x\"/><g class=\"y\"><path class=\"ygrid crisp\" transform=\"translate(0,302.5)\" d=\"M80,0h640\" style=\"stroke: rgb(255, 255, 255); stroke-opacity: 1; stroke-width: 1px;\"/><path class=\"ygrid crisp\" transform=\"translate(0,249)\" d=\"M80,0h640\" style=\"stroke: rgb(255, 255, 255); stroke-opacity: 1; stroke-width: 1px;\"/><path class=\"ygrid crisp\" transform=\"translate(0,195.51)\" d=\"M80,0h640\" style=\"stroke: rgb(255, 255, 255); stroke-opacity: 1; stroke-width: 1px;\"/><path class=\"ygrid crisp\" transform=\"translate(0,142.01)\" d=\"M80,0h640\" style=\"stroke: rgb(255, 255, 255); stroke-opacity: 1; stroke-width: 1px;\"/></g></g><g class=\"zerolinelayer\"><path class=\"yzl zl crisp\" transform=\"translate(0,356)\" d=\"M80,0h640\" style=\"stroke: rgb(255, 255, 255); stroke-opacity: 1; stroke-width: 2px;\"/></g><g class=\"layer-between\"><g class=\"shapelayer\"/><g class=\"imagelayer\"/></g><path class=\"xlines-below\"/><path class=\"ylines-below\"/><g class=\"overlines-below\"/><g class=\"xaxislayer-below\"/><g class=\"yaxislayer-below\"/><g class=\"overaxes-below\"/><g class=\"plot\" transform=\"translate(80,100)\" clip-path=\"url(#clipb9fc82xyplot)\"><g class=\"barlayer mlayer\"><g class=\"trace bars\" style=\"opacity: 1;\"><g class=\"points\"><g class=\"point\"><path d=\"M6.4,256V12.8H57.6V256Z\" style=\"vector-effect: none; opacity: 1; stroke-width: 0.5px; fill: rgb(0, 128, 0); fill-opacity: 1; stroke: rgb(229, 236, 246); stroke-opacity: 1;\"/><text class=\"bartext bartext-inside\" text-anchor=\"middle\" data-notex=\"1\" x=\"0\" y=\"0\" style=\"font-family: 'Open Sans', verdana, arial, sans-serif; font-size: 12px; fill: rgb(255, 255, 255); fill-opacity: 1; white-space: pre;\" transform=\"translate(31.8125,27.8)\">4546</text></g><g class=\"point\"><path d=\"M70.4,256V143.28H121.6V256Z\" style=\"vector-effect: none; opacity: 1; stroke-width: 0.5px; fill: rgb(0, 128, 0); fill-opacity: 1; stroke: rgb(229, 236, 246); stroke-opacity: 1;\"/><text class=\"bartext bartext-inside\" text-anchor=\"middle\" data-notex=\"1\" x=\"0\" y=\"0\" style=\"font-family: 'Open Sans', verdana, arial, sans-serif; font-size: 12px; fill: rgb(255, 255, 255); fill-opacity: 1; white-space: pre;\" transform=\"translate(95.8125,158.28)\">2107</text></g><g class=\"point\"><path d=\"M134.4,256V143.49H185.6V256Z\" style=\"vector-effect: none; opacity: 1; stroke-width: 0.5px; fill: rgb(0, 128, 0); fill-opacity: 1; stroke: rgb(229, 236, 246); stroke-opacity: 1;\"/><text class=\"bartext bartext-inside\" text-anchor=\"middle\" data-notex=\"1\" x=\"0\" y=\"0\" style=\"font-family: 'Open Sans', verdana, arial, sans-serif; font-size: 12px; fill: rgb(255, 255, 255); fill-opacity: 1; white-space: pre;\" transform=\"translate(160,158.49)\">2103</text></g><g class=\"point\"><path d=\"M198.4,256V179.93H249.6V256Z\" style=\"vector-effect: none; opacity: 1; stroke-width: 0.5px; fill: rgb(22, 211, 92); fill-opacity: 1; stroke: rgb(229, 236, 246); stroke-opacity: 1;\"/><text class=\"bartext bartext-inside\" text-anchor=\"middle\" data-notex=\"1\" x=\"0\" y=\"0\" style=\"font-family: 'Open Sans', verdana, arial, sans-serif; font-size: 12px; fill: rgb(255, 255, 255); fill-opacity: 1; white-space: pre;\" transform=\"translate(223.8125,194.93)\">1422</text></g><g class=\"point\"><path d=\"M262.4,256V186.24H313.6V256Z\" style=\"vector-effect: none; opacity: 1; stroke-width: 0.5px; fill: rgb(22, 211, 92); fill-opacity: 1; stroke: rgb(229, 236, 246); stroke-opacity: 1;\"/><text class=\"bartext bartext-inside\" text-anchor=\"middle\" data-notex=\"1\" x=\"0\" y=\"0\" style=\"font-family: 'Open Sans', verdana, arial, sans-serif; font-size: 12px; fill: rgb(255, 255, 255); fill-opacity: 1; white-space: pre;\" transform=\"translate(287.8125,201.24)\">1304</text></g><g class=\"point\"><path d=\"M326.4,256V191.8H377.6V256Z\" style=\"vector-effect: none; opacity: 1; stroke-width: 0.5px; fill: rgb(22, 211, 92); fill-opacity: 1; stroke: rgb(229, 236, 246); stroke-opacity: 1;\"/><text class=\"bartext bartext-inside\" text-anchor=\"middle\" data-notex=\"1\" x=\"0\" y=\"0\" style=\"font-family: 'Open Sans', verdana, arial, sans-serif; font-size: 12px; fill: rgb(255, 255, 255); fill-opacity: 1; white-space: pre;\" transform=\"translate(351.8125,206.8)\">1200</text></g><g class=\"point\"><path d=\"M390.4,256V197.31H441.6V256Z\" style=\"vector-effect: none; opacity: 1; stroke-width: 0.5px; fill: rgb(22, 211, 92); fill-opacity: 1; stroke: rgb(229, 236, 246); stroke-opacity: 1;\"/><text class=\"bartext bartext-inside\" text-anchor=\"middle\" data-notex=\"1\" x=\"0\" y=\"0\" style=\"font-family: 'Open Sans', verdana, arial, sans-serif; font-size: 12px; fill: rgb(255, 255, 255); fill-opacity: 1; white-space: pre;\" transform=\"translate(415.8125,212.31)\">1097</text></g><g class=\"point\"><path d=\"M454.4,256V199.03H505.6V256Z\" style=\"vector-effect: none; opacity: 1; stroke-width: 0.5px; fill: rgb(22, 211, 92); fill-opacity: 1; stroke: rgb(229, 236, 246); stroke-opacity: 1;\"/><text class=\"bartext bartext-inside\" text-anchor=\"middle\" data-notex=\"1\" x=\"0\" y=\"0\" style=\"font-family: 'Open Sans', verdana, arial, sans-serif; font-size: 12px; fill: rgb(255, 255, 255); fill-opacity: 1; white-space: pre;\" transform=\"translate(479.8125,214.03)\">1065</text></g><g class=\"point\"><path d=\"M518.4,256V199.93H569.6V256Z\" style=\"vector-effect: none; opacity: 1; stroke-width: 0.5px; fill: rgb(22, 211, 92); fill-opacity: 1; stroke: rgb(229, 236, 246); stroke-opacity: 1;\"/><text class=\"bartext bartext-inside\" text-anchor=\"middle\" data-notex=\"1\" x=\"0\" y=\"0\" style=\"font-family: 'Open Sans', verdana, arial, sans-serif; font-size: 12px; fill: rgb(255, 255, 255); fill-opacity: 1; white-space: pre;\" transform=\"translate(543.8125,214.93)\">1048</text></g><g class=\"point\"><path d=\"M582.4,256V200.04H633.6V256Z\" style=\"vector-effect: none; opacity: 1; stroke-width: 0.5px; fill: rgb(22, 211, 92); fill-opacity: 1; stroke: rgb(229, 236, 246); stroke-opacity: 1;\"/><text class=\"bartext bartext-inside\" text-anchor=\"middle\" data-notex=\"1\" x=\"0\" y=\"0\" style=\"font-family: 'Open Sans', verdana, arial, sans-serif; font-size: 12px; fill: rgb(255, 255, 255); fill-opacity: 1; white-space: pre;\" transform=\"translate(607.8125,215.04)\">1046</text></g></g></g></g></g><g class=\"overplot\"/><path class=\"xlines-above crisp\" d=\"M0,0\" style=\"fill: none;\"/><path class=\"ylines-above crisp\" d=\"M0,0\" style=\"fill: none;\"/><g class=\"overlines-above\"/><g class=\"xaxislayer-above\"><g class=\"xtick\"><text text-anchor=\"end\" x=\"0\" y=\"369\" transform=\"translate(112,0) rotate(-45,0,363)\" style=\"font-family: 'Open Sans', verdana, arial, sans-serif; font-size: 12px; fill: rgb(42, 63, 95); fill-opacity: 1; white-space: pre; opacity: 1;\">LANY</text></g><g class=\"xtick\"><text text-anchor=\"end\" x=\"0\" y=\"369\" transform=\"translate(176,0) rotate(-45,0,363)\" style=\"font-family: 'Open Sans', verdana, arial, sans-serif; font-size: 12px; fill: rgb(42, 63, 95); fill-opacity: 1; white-space: pre; opacity: 1;\">Taylor Swift</text></g><g class=\"xtick\"><text text-anchor=\"end\" x=\"0\" y=\"369\" transform=\"translate(240,0) rotate(-45,0,363)\" style=\"font-family: 'Open Sans', verdana, arial, sans-serif; font-size: 12px; fill: rgb(42, 63, 95); fill-opacity: 1; white-space: pre; opacity: 1;\">5 Seconds of Summer</text></g><g class=\"xtick\"><text text-anchor=\"end\" x=\"0\" y=\"369\" transform=\"translate(304,0) rotate(-45,0,363)\" style=\"font-family: 'Open Sans', verdana, arial, sans-serif; font-size: 12px; fill: rgb(42, 63, 95); fill-opacity: 1; white-space: pre; opacity: 1;\">Tulus</text></g><g class=\"xtick\"><text text-anchor=\"end\" x=\"0\" y=\"369\" transform=\"translate(368,0) rotate(-45,0,363)\" style=\"font-family: 'Open Sans', verdana, arial, sans-serif; font-size: 12px; fill: rgb(42, 63, 95); fill-opacity: 1; white-space: pre; opacity: 1;\">Kunto Aji</text></g><g class=\"xtick\"><text text-anchor=\"end\" x=\"0\" y=\"369\" transform=\"translate(432,0) rotate(-45,0,363)\" style=\"font-family: 'Open Sans', verdana, arial, sans-serif; font-size: 12px; fill: rgb(42, 63, 95); fill-opacity: 1; white-space: pre; opacity: 1;\">Lofi Fruits Music</text></g><g class=\"xtick\"><text text-anchor=\"end\" x=\"0\" y=\"369\" transform=\"translate(496,0) rotate(-45,0,363)\" style=\"font-family: 'Open Sans', verdana, arial, sans-serif; font-size: 12px; fill: rgb(42, 63, 95); fill-opacity: 1; white-space: pre; opacity: 1;\">Lauv</text></g><g class=\"xtick\"><text text-anchor=\"end\" x=\"0\" y=\"369\" transform=\"translate(560,0) rotate(-45,0,363)\" style=\"font-family: 'Open Sans', verdana, arial, sans-serif; font-size: 12px; fill: rgb(42, 63, 95); fill-opacity: 1; white-space: pre; opacity: 1;\">Hindia</text></g><g class=\"xtick\"><text text-anchor=\"end\" x=\"0\" y=\"369\" transform=\"translate(624,0) rotate(-45,0,363)\" style=\"font-family: 'Open Sans', verdana, arial, sans-serif; font-size: 12px; fill: rgb(42, 63, 95); fill-opacity: 1; white-space: pre; opacity: 1;\">Hayd</text></g><g class=\"xtick\"><text text-anchor=\"end\" x=\"0\" y=\"369\" transform=\"translate(688,0) rotate(-45,0,363)\" style=\"font-family: 'Open Sans', verdana, arial, sans-serif; font-size: 12px; fill: rgb(42, 63, 95); fill-opacity: 1; white-space: pre; opacity: 1;\">Yiruma</text></g></g><g class=\"yaxislayer-above\"><g class=\"ytick\"><text text-anchor=\"end\" x=\"79\" y=\"4.199999999999999\" transform=\"translate(0,356)\" style=\"font-family: 'Open Sans', verdana, arial, sans-serif; font-size: 12px; fill: rgb(42, 63, 95); fill-opacity: 1; white-space: pre; opacity: 1;\">0</text></g><g class=\"ytick\"><text text-anchor=\"end\" x=\"79\" y=\"4.199999999999999\" style=\"font-family: 'Open Sans', verdana, arial, sans-serif; font-size: 12px; fill: rgb(42, 63, 95); fill-opacity: 1; white-space: pre; opacity: 1;\" transform=\"translate(0,302.5)\">1000</text></g><g class=\"ytick\"><text text-anchor=\"end\" x=\"79\" y=\"4.199999999999999\" style=\"font-family: 'Open Sans', verdana, arial, sans-serif; font-size: 12px; fill: rgb(42, 63, 95); fill-opacity: 1; white-space: pre; opacity: 1;\" transform=\"translate(0,249)\">2000</text></g><g class=\"ytick\"><text text-anchor=\"end\" x=\"79\" y=\"4.199999999999999\" style=\"font-family: 'Open Sans', verdana, arial, sans-serif; font-size: 12px; fill: rgb(42, 63, 95); fill-opacity: 1; white-space: pre; opacity: 1;\" transform=\"translate(0,195.51)\">3000</text></g><g class=\"ytick\"><text text-anchor=\"end\" x=\"79\" y=\"4.199999999999999\" style=\"font-family: 'Open Sans', verdana, arial, sans-serif; font-size: 12px; fill: rgb(42, 63, 95); fill-opacity: 1; white-space: pre; opacity: 1;\" transform=\"translate(0,142.01)\">4000</text></g></g><g class=\"overaxes-above\"/></g></g><g class=\"polarlayer\"/><g class=\"smithlayer\"/><g class=\"ternarylayer\"/><g class=\"geolayer\"/><g class=\"funnelarealayer\"/><g class=\"pielayer\"/><g class=\"iciclelayer\"/><g class=\"treemaplayer\"/><g class=\"sunburstlayer\"/><g class=\"glimages\"/><defs id=\"topdefs-b9fc82\"><g class=\"clips\"/></defs><g class=\"layer-above\"><g class=\"imagelayer\"/><g class=\"shapelayer\"><g class=\"shape-group\" data-index=\"0\" clip-path=\"url(#clipb9fc82y)\"><path data-index=\"0\" fill-rule=\"evenodd\" d=\"M80,289.02L720,289.02\" style=\"opacity: 1; stroke: rgb(0, 0, 255); stroke-opacity: 1; fill: rgb(0, 0, 0); fill-opacity: 0; stroke-dasharray: 3px, 3px; stroke-width: 2px;\"/></g></g></g><g class=\"infolayer\"><g class=\"g-gtitle\"><text class=\"gtitle\" x=\"400\" y=\"50\" text-anchor=\"middle\" dy=\"0em\" style=\"font-family: 'Open Sans', verdana, arial, sans-serif; font-size: 17px; fill: rgb(42, 63, 95); opacity: 1; font-weight: normal; white-space: pre;\">Top 20 Most Streamed Artists Based on Play Counts</text></g><g class=\"g-xtitle\"><text class=\"xtitle\" x=\"400\" y=\"487.9962890625\" text-anchor=\"middle\" style=\"font-family: 'Open Sans', verdana, arial, sans-serif; font-size: 14px; fill: rgb(42, 63, 95); opacity: 1; font-weight: normal; white-space: pre;\">Artists</text></g><g class=\"g-ytitle\"><text class=\"ytitle\" transform=\"rotate(-90,24.184375000000003,228)\" x=\"24.184375000000003\" y=\"228\" text-anchor=\"middle\" style=\"font-family: 'Open Sans', verdana, arial, sans-serif; font-size: 14px; fill: rgb(42, 63, 95); opacity: 1; font-weight: normal; white-space: pre;\">Total Streams in Hours</text></g><g class=\"annotation\" data-index=\"0\" style=\"opacity: 1;\"><g class=\"annotation-text-g\" transform=\"rotate(0,647.5,279.52)\"><g class=\"cursor-pointer\" transform=\"translate(575,270)\"><rect class=\"bg\" x=\"0.5\" y=\"0.5\" width=\"144\" height=\"18\" style=\"stroke-width: 1px; stroke: rgb(0, 0, 0); stroke-opacity: 0; fill: rgb(0, 0, 0); fill-opacity: 0;\"/><text class=\"annotation-text\" text-anchor=\"middle\" x=\"72.359375\" y=\"14\" style=\"font-family: 'Open Sans', verdana, arial, sans-serif; font-size: 12px; fill: rgb(42, 63, 95); fill-opacity: 1; white-space: pre;\">Median: 1252.00 hours</text></g></g></g></g></svg>"
      ]
     },
     "metadata": {},
     "output_type": "display_data"
    }
   ],
   "source": [
    "median_play_counts = artist_play_counts.median()\n",
    "\n",
    "# Visualize top artists\n",
    "fig = px.bar(artist_play_counts, x=artist_play_counts.index, y=artist_play_counts.values,\n",
    "             labels={'x': 'Artists', 'y': 'Total Streams'},\n",
    "             title='Top 20 Most Streamed Artists Based on Play Counts')\n",
    "\n",
    "# Define colors using Spotify palette for top 5 tracks, green for others\n",
    "color_scale = ['green' if artist in artist_play_counts.head(3).index else '#16D35C' for artist in artist_play_counts.index]\n",
    "\n",
    "# Update colors and text labels for each bar\n",
    "fig.update_traces(marker_color=color_scale,\n",
    "                  text=artist_play_counts.values, \n",
    "                  textposition='inside', \n",
    "                  textfont=dict(color='white'))\n",
    "\n",
    "# Add median playback duration line\n",
    "fig.add_hline(y=median_play_counts, \n",
    "              line_dash=\"dot\", line_color=\"blue\", \n",
    "              annotation_text=f'Median: {median_play_counts:.2f} hours',\n",
    "              annotation_position=\"top right\")\n",
    "\n",
    "fig.update_layout(xaxis_title='Artists', \n",
    "                  yaxis_title='Total Streams in Hours', \n",
    "                  xaxis_tickangle=-45, showlegend=False, title_x=0.5,\n",
    "                  width=800, height=500)\n",
    "fig.show()"
   ]
  },
  {
   "cell_type": "code",
   "execution_count": 68,
   "metadata": {},
   "outputs": [
    {
     "data": {
      "image/svg+xml": [
       "<svg class=\"main-svg\" xmlns=\"http://www.w3.org/2000/svg\" xmlns:xlink=\"http://www.w3.org/1999/xlink\" width=\"1000\" height=\"500\" style=\"\" viewBox=\"0 0 1000 500\"><rect x=\"0\" y=\"0\" width=\"1000\" height=\"500\" style=\"fill: rgb(255, 255, 255); fill-opacity: 1;\"/><defs id=\"defs-3cd6ee\"><g class=\"clips\"><clipPath id=\"clip3cd6eexyplot\" class=\"plotclip\"><rect width=\"840\" height=\"320\"/></clipPath><clipPath class=\"axesclip\" id=\"clip3cd6eex\"><rect x=\"80\" y=\"0\" width=\"840\" height=\"500\"/></clipPath><clipPath class=\"axesclip\" id=\"clip3cd6eey\"><rect x=\"0\" y=\"100\" width=\"1000\" height=\"320\"/></clipPath><clipPath class=\"axesclip\" id=\"clip3cd6eexy\"><rect x=\"80\" y=\"100\" width=\"840\" height=\"320\"/></clipPath></g><g class=\"gradients\"/><g class=\"patterns\"/></defs><g class=\"bglayer\"><rect class=\"bg\" x=\"80\" y=\"100\" width=\"840\" height=\"320\" style=\"fill: rgb(229, 236, 246); fill-opacity: 1; stroke-width: 0;\"/></g><g class=\"layer-below\"><g class=\"imagelayer\"/><g class=\"shapelayer\"/></g><g class=\"cartesianlayer\"><g class=\"subplot xy\"><g class=\"layer-subplot\"><g class=\"shapelayer\"/><g class=\"imagelayer\"/></g><g class=\"minor-gridlayer\"><g class=\"x\"/><g class=\"y\"/></g><g class=\"gridlayer\"><g class=\"x\"><path class=\"xgrid crisp\" transform=\"translate(143.49,0)\" d=\"M0,100v320\" style=\"stroke: rgb(255, 255, 255); stroke-opacity: 1; stroke-width: 1px;\"/><path class=\"xgrid crisp\" transform=\"translate(235.2,0)\" d=\"M0,100v320\" style=\"stroke: rgb(255, 255, 255); stroke-opacity: 1; stroke-width: 1px;\"/><path class=\"xgrid crisp\" transform=\"translate(327.91999999999996,0)\" d=\"M0,100v320\" style=\"stroke: rgb(255, 255, 255); stroke-opacity: 1; stroke-width: 1px;\"/><path class=\"xgrid crisp\" transform=\"translate(419.12,0)\" d=\"M0,100v320\" style=\"stroke: rgb(255, 255, 255); stroke-opacity: 1; stroke-width: 1px;\"/><path class=\"xgrid crisp\" transform=\"translate(511.84,0)\" d=\"M0,100v320\" style=\"stroke: rgb(255, 255, 255); stroke-opacity: 1; stroke-width: 1px;\"/><path class=\"xgrid crisp\" transform=\"translate(603.05,0)\" d=\"M0,100v320\" style=\"stroke: rgb(255, 255, 255); stroke-opacity: 1; stroke-width: 1px;\"/><path class=\"xgrid crisp\" transform=\"translate(695.76,0)\" d=\"M0,100v320\" style=\"stroke: rgb(255, 255, 255); stroke-opacity: 1; stroke-width: 1px;\"/><path class=\"xgrid crisp\" transform=\"translate(786.97,0)\" d=\"M0,100v320\" style=\"stroke: rgb(255, 255, 255); stroke-opacity: 1; stroke-width: 1px;\"/><path class=\"xgrid crisp\" transform=\"translate(879.69,0)\" d=\"M0,100v320\" style=\"stroke: rgb(255, 255, 255); stroke-opacity: 1; stroke-width: 1px;\"/></g><g class=\"y\"><path class=\"ygrid crisp\" transform=\"translate(0,349.55)\" d=\"M80,0h840\" style=\"stroke: rgb(255, 255, 255); stroke-opacity: 1; stroke-width: 1px;\"/><path class=\"ygrid crisp\" transform=\"translate(0,295.1)\" d=\"M80,0h840\" style=\"stroke: rgb(255, 255, 255); stroke-opacity: 1; stroke-width: 1px;\"/><path class=\"ygrid crisp\" transform=\"translate(0,240.66)\" d=\"M80,0h840\" style=\"stroke: rgb(255, 255, 255); stroke-opacity: 1; stroke-width: 1px;\"/><path class=\"ygrid crisp\" transform=\"translate(0,186.20999999999998)\" d=\"M80,0h840\" style=\"stroke: rgb(255, 255, 255); stroke-opacity: 1; stroke-width: 1px;\"/><path class=\"ygrid crisp\" transform=\"translate(0,131.76)\" d=\"M80,0h840\" style=\"stroke: rgb(255, 255, 255); stroke-opacity: 1; stroke-width: 1px;\"/></g></g><g class=\"zerolinelayer\"><path class=\"yzl zl crisp\" transform=\"translate(0,404)\" d=\"M80,0h840\" style=\"stroke: rgb(255, 255, 255); stroke-opacity: 1; stroke-width: 2px;\"/></g><g class=\"layer-between\"><g class=\"shapelayer\"/><g class=\"imagelayer\"/></g><path class=\"xlines-below\"/><path class=\"ylines-below\"/><g class=\"overlines-below\"/><g class=\"xaxislayer-below\"/><g class=\"yaxislayer-below\"/><g class=\"overaxes-below\"/><g class=\"plot\" transform=\"translate(80,100)\" clip-path=\"url(#clip3cd6eexyplot)\"><g class=\"scatterlayer mlayer\"><g class=\"trace scatter trace9aa3ca\" style=\"stroke-miterlimit: 2; opacity: 1;\"><g class=\"fills\"/><g class=\"errorbars\"/><g class=\"lines\"><path class=\"js-line\" d=\"M0,301.02L115.9,300.92L117.91,297.85L118.42,301.02L130.51,301.01L164.78,299.66L170.32,304L175.36,299.66L175.86,295.32L176.36,296.67L176.87,295.32L177.88,299.66L179.39,299.66L180.4,299.66L180.9,295.32L181.4,299.66L182.92,299.66L195.01,299.66L196.02,295.32L196.52,300.52L200.55,299.66L376.92,300.04L377.42,296.08L377.92,297.01L379.44,289.99L379.94,300.04L380.44,298.95L380.95,301.42L381.45,300.04L381.96,289.83L382.96,300.04L388.51,300.04L390.52,302.54L394.05,296.08L395.56,303.93L398.08,303.53L398.58,303.81L407.65,300.14L449.48,300.94L452.5,303.93L464.6,303.75L556.81,299.2L557.31,297.76L558.32,291.79L560.84,291.52L561.34,285.54L561.85,297.76L562.35,283.11L562.86,292.37L563.36,282.62L564.87,299.57L565.37,297.76L566.38,297.76L568.4,295.32L568.9,297.76L569.41,291.52L572.43,303.86L574.45,296.08L575.96,302.65L576.46,298.03L576.96,292.06L577.97,298.03L579.48,275.24L579.99,292.35L582,298.03L583.01,298.03L585.53,289.35L586.03,295.32L587.55,298.03L588.05,295.32L588.55,295.32L590.07,260.94L590.57,257.73L591.07,282.79L591.58,297.59L592.08,233.31L592.59,297.59L593.09,274.78L593.59,269.97L594.6,276.12L595.1,285.06L595.61,297.59L596.11,282.5L597.12,285.56L597.62,295.47L598.63,274.26L599.14,297.59L600.65,273.76L601.15,270.02L601.66,16L602.16,235.13L602.66,225.05L603.17,259.84L603.67,297.88L604.18,277.58L604.68,214.05L605.18,225.04L605.69,299.46L606.69,296L607.2,301.82L607.7,245.69L608.21,294.82L609.21,283.77L610.22,297.76L610.73,291.47L611.23,301.58L612.74,269.39L613.25,279.61L613.75,297.88L614.25,270.3L614.76,297.59L615.76,276.38L616.27,279.67L616.77,270.34L617.28,264.52L617.78,273.5L618.28,303.95L618.79,300.7L619.29,296.5L620.8,303.59L622.32,294.7L624.33,299.43L624.84,303.05L625.84,300.04L626.35,270.59L627.35,296.91L627.86,289.91L628.36,299.15L628.87,278.16L629.87,300.64L630.38,296.45L631.39,300.79L632.39,280.29L632.9,297.9L633.4,287.13L633.91,271.83L634.41,293.4L634.91,289.96L635.42,295.33L636.42,302.54L638.94,279.69L639.45,278.71L639.95,292.64L640.46,299.7L640.96,297.74L641.46,294.53L641.97,301.89L642.98,300.71L643.48,303.77L644.49,300.93L644.99,292.34L645.49,302.81L646.5,297.99L647.01,302.91L647.51,297.76L649.02,295.37L649.53,294.06L650.03,297.93L651.04,303.87L651.54,297.96L653.05,291.82L653.56,281.19L654.57,300.91L655.57,300.79L656.58,303.9L658.6,300.94L659.1,300.79L661.12,301.4L661.62,302.91L662.63,292.35L664.14,300.79L669.68,300.94L673.71,293.21L674.22,276.4L675.73,296.98L676.23,291.52L677.24,296.98L677.74,292.8L678.25,275.42L678.75,296.98L680.26,300.88L680.77,293.9L681.78,297.9L682.28,293.4L683.29,296.98L685.3,296.92L687.82,300.94L688.83,298.15L689.33,303.5L689.84,300.85L692.36,296.98L693.37,293.4L693.87,289.28L694.88,299.66L695.88,295.32L696.39,296.47L696.89,299.66L697.9,299.66L698.4,299.66L698.91,303.43L699.92,295.63L700.42,296.98L700.92,299.66L701.43,293.59L702.44,293.38L703.95,294.97L705.96,300.48L706.97,303.92L707.47,302.69L707.98,303.29L708.99,285.61L709.99,299.66L711,299.66L712.01,299.66L713.02,298.79L720.07,295.28L721.58,300.04L724.61,299.66L725.11,303.95L726.12,300.79L727.13,300.97L728.13,301.53L729.14,296.98L730.15,300.04L731.16,300.04L731.66,300.04L732.67,293.4L733.68,292.71L734.18,293.94L734.69,295.7L737.2,296.46L740.23,302.32L747.28,302.89L748.79,295.7L749.3,303.88L750.31,285.25L750.81,296.72L751.31,300.46L751.82,300.04L753.33,296.72L758.87,297L759.38,300.4L760.38,300.96L760.89,296.08L761.39,289.43L761.9,300.04L762.4,300.04L762.9,289.46L763.41,299.66L763.91,286.49L764.42,296.45L764.92,293.4L765.93,303.81L768.95,301.34L769.45,298.79L770.97,297L771.47,286.95L771.97,301.32L772.48,299.68L772.98,299.66L773.49,300.48L775,297L775.5,297L776.51,302.83L777.01,300.96L779.03,290L780.04,293.4L781.55,294.76L782.56,293.77L783.06,300.96L783.56,286.4L784.57,299.66L789.11,283.45L789.61,296.89L790.11,299.99L795.15,298.61L796.16,293.4L796.66,296.6L797.17,300.96L798.18,296.45L799.18,302.15L801.2,298.55L801.7,299.52L805.73,299.66L807.25,276.83L807.75,294.82L808.25,294.82L808.76,291.69L809.26,297.94L809.77,283.61L810.27,276.24L810.77,291.78L811.28,294.82L811.78,291.16L812.29,289.01L812.79,291.88L813.29,299.04L813.8,291.83L814.3,294.86L814.81,303.19L815.31,297.94L815.81,300.96L816.82,294.56L817.32,286.48L817.83,294.95L818.33,288.59L818.84,292L819.34,300.88L819.84,301.53L820.35,297.94L820.85,294.82L821.36,301.99L821.86,288.57L822.36,292.95L822.87,297.94L823.37,300.21L824.88,294.82L825.39,297.94L826.9,295.7L828.41,297.94L829.92,297.94L830.43,294.82L830.93,297.94L831.43,303.69L831.94,299.02L832.44,301.64L832.95,297.76L833.45,284.33L833.95,299.91L834.46,300.92L835.46,298.58L835.97,303.03L838.49,301.02L840,297.94\" style=\"vector-effect: none; fill: none; stroke: rgb(99, 110, 250); stroke-opacity: 1; stroke-width: 2px; opacity: 1;\"/></g><g class=\"points\"/><g class=\"text\"/></g></g></g><g class=\"overplot\"/><path class=\"xlines-above crisp\" d=\"M0,0\" style=\"fill: none;\"/><path class=\"ylines-above crisp\" d=\"M0,0\" style=\"fill: none;\"/><g class=\"overlines-above\"/><g class=\"xaxislayer-above\"><g class=\"xtick\"><text text-anchor=\"middle\" x=\"0\" y=\"433\" transform=\"translate(143.49,0)\" style=\"font-family: 'Open Sans', verdana, arial, sans-serif; font-size: 12px; fill: rgb(42, 63, 95); fill-opacity: 1; white-space: pre; opacity: 1;\">Jan 2020</text></g><g class=\"xtick\"><text text-anchor=\"middle\" x=\"0\" y=\"433\" style=\"font-family: 'Open Sans', verdana, arial, sans-serif; font-size: 12px; fill: rgb(42, 63, 95); fill-opacity: 1; white-space: pre; opacity: 1;\" transform=\"translate(235.2,0)\">Jul 2020</text></g><g class=\"xtick\"><text text-anchor=\"middle\" x=\"0\" y=\"433\" style=\"font-family: 'Open Sans', verdana, arial, sans-serif; font-size: 12px; fill: rgb(42, 63, 95); fill-opacity: 1; white-space: pre; opacity: 1;\" transform=\"translate(327.91999999999996,0)\">Jan 2021</text></g><g class=\"xtick\"><text text-anchor=\"middle\" x=\"0\" y=\"433\" style=\"font-family: 'Open Sans', verdana, arial, sans-serif; font-size: 12px; fill: rgb(42, 63, 95); fill-opacity: 1; white-space: pre; opacity: 1;\" transform=\"translate(419.12,0)\">Jul 2021</text></g><g class=\"xtick\"><text text-anchor=\"middle\" x=\"0\" y=\"433\" style=\"font-family: 'Open Sans', verdana, arial, sans-serif; font-size: 12px; fill: rgb(42, 63, 95); fill-opacity: 1; white-space: pre; opacity: 1;\" transform=\"translate(511.84,0)\">Jan 2022</text></g><g class=\"xtick\"><text text-anchor=\"middle\" x=\"0\" y=\"433\" style=\"font-family: 'Open Sans', verdana, arial, sans-serif; font-size: 12px; fill: rgb(42, 63, 95); fill-opacity: 1; white-space: pre; opacity: 1;\" transform=\"translate(603.05,0)\">Jul 2022</text></g><g class=\"xtick\"><text text-anchor=\"middle\" x=\"0\" y=\"433\" style=\"font-family: 'Open Sans', verdana, arial, sans-serif; font-size: 12px; fill: rgb(42, 63, 95); fill-opacity: 1; white-space: pre; opacity: 1;\" transform=\"translate(695.76,0)\">Jan 2023</text></g><g class=\"xtick\"><text text-anchor=\"middle\" x=\"0\" y=\"433\" style=\"font-family: 'Open Sans', verdana, arial, sans-serif; font-size: 12px; fill: rgb(42, 63, 95); fill-opacity: 1; white-space: pre; opacity: 1;\" transform=\"translate(786.97,0)\">Jul 2023</text></g><g class=\"xtick\"><text text-anchor=\"middle\" x=\"0\" y=\"433\" style=\"font-family: 'Open Sans', verdana, arial, sans-serif; font-size: 12px; fill: rgb(42, 63, 95); fill-opacity: 1; white-space: pre; opacity: 1;\" transform=\"translate(879.69,0)\">Jan 2024</text></g></g><g class=\"yaxislayer-above\"><g class=\"ytick\"><text text-anchor=\"end\" x=\"79\" y=\"4.199999999999999\" transform=\"translate(0,404)\" style=\"font-family: 'Open Sans', verdana, arial, sans-serif; font-size: 12px; fill: rgb(42, 63, 95); fill-opacity: 1; white-space: pre; opacity: 1;\">0</text></g><g class=\"ytick\"><text text-anchor=\"end\" x=\"79\" y=\"4.199999999999999\" style=\"font-family: 'Open Sans', verdana, arial, sans-serif; font-size: 12px; fill: rgb(42, 63, 95); fill-opacity: 1; white-space: pre; opacity: 1;\" transform=\"translate(0,349.55)\">1</text></g><g class=\"ytick\"><text text-anchor=\"end\" x=\"79\" y=\"4.199999999999999\" style=\"font-family: 'Open Sans', verdana, arial, sans-serif; font-size: 12px; fill: rgb(42, 63, 95); fill-opacity: 1; white-space: pre; opacity: 1;\" transform=\"translate(0,295.1)\">2</text></g><g class=\"ytick\"><text text-anchor=\"end\" x=\"79\" y=\"4.199999999999999\" style=\"font-family: 'Open Sans', verdana, arial, sans-serif; font-size: 12px; fill: rgb(42, 63, 95); fill-opacity: 1; white-space: pre; opacity: 1;\" transform=\"translate(0,240.66)\">3</text></g><g class=\"ytick\"><text text-anchor=\"end\" x=\"79\" y=\"4.199999999999999\" style=\"font-family: 'Open Sans', verdana, arial, sans-serif; font-size: 12px; fill: rgb(42, 63, 95); fill-opacity: 1; white-space: pre; opacity: 1;\" transform=\"translate(0,186.20999999999998)\">4</text></g><g class=\"ytick\"><text text-anchor=\"end\" x=\"79\" y=\"4.199999999999999\" style=\"font-family: 'Open Sans', verdana, arial, sans-serif; font-size: 12px; fill: rgb(42, 63, 95); fill-opacity: 1; white-space: pre; opacity: 1;\" transform=\"translate(0,131.76)\">5</text></g></g><g class=\"overaxes-above\"/></g></g><g class=\"polarlayer\"/><g class=\"smithlayer\"/><g class=\"ternarylayer\"/><g class=\"geolayer\"/><g class=\"funnelarealayer\"/><g class=\"pielayer\"/><g class=\"iciclelayer\"/><g class=\"treemaplayer\"/><g class=\"sunburstlayer\"/><g class=\"glimages\"/><defs id=\"topdefs-3cd6ee\"><g class=\"clips\"/></defs><g class=\"layer-above\"><g class=\"imagelayer\"/><g class=\"shapelayer\"/></g><g class=\"infolayer\"><g class=\"g-gtitle\"><text class=\"gtitle\" x=\"500\" y=\"50\" text-anchor=\"middle\" dy=\"0em\" style=\"font-family: 'Open Sans', verdana, arial, sans-serif; font-size: 17px; fill: rgb(42, 63, 95); opacity: 1; font-weight: normal; white-space: pre;\">Daily Playback Time of Top Songs Over Time</text></g><g class=\"g-xtitle\"><text class=\"xtitle\" x=\"500\" y=\"460.3\" text-anchor=\"middle\" style=\"font-family: 'Open Sans', verdana, arial, sans-serif; font-size: 14px; fill: rgb(42, 63, 95); opacity: 1; font-weight: normal; white-space: pre;\">Date</text></g><g class=\"g-ytitle\"><text class=\"ytitle\" transform=\"rotate(-90,47.059375,260)\" x=\"47.059375\" y=\"260\" text-anchor=\"middle\" style=\"font-family: 'Open Sans', verdana, arial, sans-serif; font-size: 14px; fill: rgb(42, 63, 95); opacity: 1; font-weight: normal; white-space: pre;\">Total Playback Time (ms)</text></g></g></svg>"
      ]
     },
     "metadata": {},
     "output_type": "display_data"
    }
   ],
   "source": [
    "# Filter data untuk hanya menyertakan lagu-lagu top\n",
    "top_songs_data = spotify_data[spotify_data['master_metadata_track_name'].isin(top_songs['master_metadata_track_name'])]\n",
    "\n",
    "# Konversi kolom 'ts' ke dalam format datetime\n",
    "top_songs_data['ts'] = pd.to_datetime(top_songs_data['ts']).dt.date\n",
    "\n",
    "# Kelompokkan data berdasarkan tanggal dan hitung jumlah total pemutaran lagu-lagu top pada setiap tanggal\n",
    "daily_playback_counts = (top_songs_data.groupby('ts')['ms_played'].sum() / (1000 * 60 * 60)).reset_index()\n",
    "\n",
    "# Visualisasikan pola waktu pemutaran lagu-lagu top menggunakan grafik garis\n",
    "fig = px.line(daily_playback_counts, x='ts', y='ms_played',\n",
    "              labels={'ts': 'Date', 'ms_played': 'Total Playback Time (ms)'},\n",
    "              title='Daily Playback Time of Top Songs Over Time')\n",
    "\n",
    "fig.update_layout(xaxis_title='Date', yaxis_title='Total Playback Time (ms)', title_x=0.5,\n",
    "                  width=1000, height=500)\n",
    "\n",
    "fig.show()"
   ]
  },
  {
   "cell_type": "code",
   "execution_count": 69,
   "metadata": {},
   "outputs": [
    {
     "name": "stdout",
     "output_type": "stream",
     "text": [
      "   master_metadata_album_artist_name master_metadata_track_name  ms_played\n",
      "78                          The Rose           You're Beautiful    1433622\n",
      "35                      Reality Club     I Wish I Was Your Joke    1095830\n",
      "56                          The Rose                 Back To Me    1084332\n",
      "66                          The Rose                     I.L.Y.     888084\n",
      "67                          The Rose                   Lifeline     867545\n",
      "74                          The Rose                       Sour     802324\n",
      "52                          The Rose                      Alive     781104\n",
      "28                      Reality Club                       2112     713224\n",
      "69                          The Rose                   Nauseous     689751\n",
      "37                      Reality Club              Love Epiphany     677948\n"
     ]
    }
   ],
   "source": [
    "# Filter data berdasarkan tanggal 4 Desember\n",
    "december_4th_data = spotify_data[spotify_data['ts'].dt.date == pd.to_datetime('2023-12-04').date()]\n",
    "\n",
    "# Kelompokkan data berdasarkan lagu dan hitung total waktu pemutaran untuk setiap lagu\n",
    "song_playback_duration_december_4th = december_4th_data.groupby(['master_metadata_album_artist_name', 'master_metadata_track_name'])['ms_played'].sum().reset_index()\n",
    "\n",
    "# Ambil 10 lagu teratas\n",
    "top_10_songs_december_4th = song_playback_duration_december_4th.nlargest(10, 'ms_played')\n",
    "\n",
    "# Tampilkan lagu-lagu yang didengarkan, durasi pemutaran, dan nama artis masing-masing lagu\n",
    "print(top_10_songs_december_4th[['master_metadata_album_artist_name', 'master_metadata_track_name', 'ms_played']])"
   ]
  }
 ],
 "metadata": {
  "kernelspec": {
   "display_name": "Python 3",
   "language": "python",
   "name": "python3"
  },
  "language_info": {
   "codemirror_mode": {
    "name": "ipython",
    "version": 3
   },
   "file_extension": ".py",
   "mimetype": "text/x-python",
   "name": "python",
   "nbconvert_exporter": "python",
   "pygments_lexer": "ipython3",
   "version": "3.12.2"
  }
 },
 "nbformat": 4,
 "nbformat_minor": 2
}
